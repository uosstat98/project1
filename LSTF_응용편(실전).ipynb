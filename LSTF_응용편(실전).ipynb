{
  "nbformat": 4,
  "nbformat_minor": 0,
  "metadata": {
    "colab": {
      "provenance": [],
      "collapsed_sections": [
        "85FcpLIswyd8",
        "pwhlXdI_xCE2",
        "ZZRkKvxSzi9b"
      ],
      "mount_file_id": "162nGBPP4sCS08I9YY0WsThna4TkCYpC7",
      "authorship_tag": "ABX9TyMChecNWh7hEr6M4EiWcfd0",
      "include_colab_link": true
    },
    "kernelspec": {
      "name": "python3",
      "display_name": "Python 3"
    },
    "language_info": {
      "name": "python"
    }
  },
  "cells": [
    {
      "cell_type": "markdown",
      "metadata": {
        "id": "view-in-github",
        "colab_type": "text"
      },
      "source": [
        "<a href=\"https://colab.research.google.com/github/uosstat98/project1/blob/main/LSTF_%EC%9D%91%EC%9A%A9%ED%8E%B8(%EC%8B%A4%EC%A0%84).ipynb\" target=\"_parent\"><img src=\"https://colab.research.google.com/assets/colab-badge.svg\" alt=\"Open In Colab\"/></a>"
      ]
    },
    {
      "cell_type": "code",
      "source": [
        "import pandas as pd\n",
        "import numpy as np\n",
        "import torch\n",
        "from tqdm import tqdm"
      ],
      "metadata": {
        "id": "I30HSu5rqkWF"
      },
      "execution_count": null,
      "outputs": []
    },
    {
      "cell_type": "markdown",
      "source": [
        "## 모델 class 설정"
      ],
      "metadata": {
        "id": "85FcpLIswyd8"
      }
    },
    {
      "cell_type": "code",
      "source": [
        "class LTSF_Linear(torch.nn.Module):\n",
        "    def __init__(self, window_size, forcast_size, individual, feature_size):\n",
        "        super(LTSF_Linear, self).__init__()\n",
        "        self.window_size = window_size\n",
        "        self.forcast_size = forcast_size\n",
        "        self.individual = individual\n",
        "        self.channels = feature_size\n",
        "        if self.individual:\n",
        "            self.Linear = torch.nn.ModuleList()\n",
        "            for i in range(self.channels):\n",
        "                self.Linear.append(torch.nn.Linear(self.window_size, self.forcast_size))\n",
        "        else:\n",
        "            self.Linear = torch.nn.Linear(self.window_size, self.forcast_size)\n",
        "\n",
        "    def forward(self, x):\n",
        "        if self.individual:\n",
        "            output = torch.zeros([x.size(0), self.forcast_size, x.size(2)],dtype=x.dtype).to(x.device)\n",
        "            for i in range(self.channels):\n",
        "                output[:,:,i] = self.Linear[i](x[:,:,i])\n",
        "            x = output\n",
        "        else:\n",
        "            x = self.Linear(x.permute(0,2,1)).permute(0,2,1)\n",
        "        return x"
      ],
      "metadata": {
        "id": "lmAnislhwyOQ"
      },
      "execution_count": null,
      "outputs": []
    },
    {
      "cell_type": "code",
      "source": [
        "class moving_avg(torch.nn.Module):\n",
        "    def __init__(self, kernel_size, stride):\n",
        "        super(moving_avg, self).__init__()\n",
        "        self.kernel_size = kernel_size\n",
        "        self.avg = torch.nn.AvgPool1d(kernel_size=kernel_size, stride=stride, padding=0)\n",
        "\n",
        "    def forward(self, x):\n",
        "        front = x[:, 0:1, :].repeat(1, (self.kernel_size - 1) // 2, 1)\n",
        "        end = x[:, -1:, :].repeat(1, (self.kernel_size - 1) // 2, 1)\n",
        "        x = torch.cat([front, x, end], dim=1)\n",
        "        x = self.avg(x.permute(0, 2, 1))\n",
        "        x = x.permute(0, 2, 1)\n",
        "        return x\n",
        "\n",
        "class series_decomp(torch.nn.Module):\n",
        "    def __init__(self, kernel_size):\n",
        "        super(series_decomp, self).__init__()\n",
        "        self.moving_avg = moving_avg(kernel_size, stride=1)\n",
        "\n",
        "    def forward(self, x):\n",
        "        moving_mean = self.moving_avg(x)\n",
        "        residual = x - moving_mean\n",
        "        return moving_mean, residual\n",
        "\n",
        "class LTSF_DLinear(torch.nn.Module):\n",
        "    def __init__(self, window_size, forcast_size, kernel_size, individual, feature_size):\n",
        "        super(LTSF_DLinear, self).__init__()\n",
        "        self.window_size = window_size\n",
        "        self.forcast_size = forcast_size\n",
        "        self.decompsition = series_decomp(kernel_size)\n",
        "        self.individual = individual\n",
        "        self.channels = feature_size\n",
        "        if self.individual:\n",
        "            self.Linear_Seasonal = torch.nn.ModuleList()\n",
        "            self.Linear_Trend = torch.nn.ModuleList()\n",
        "            for i in range(self.channels):\n",
        "                self.Linear_Trend.append(torch.nn.Linear(self.window_size, self.forcast_size))\n",
        "                self.Linear_Trend[i].weight = torch.nn.Parameter((1/self.window_size)*torch.ones([self.forcast_size, self.window_size]))\n",
        "                self.Linear_Seasonal.append(torch.nn.Linear(self.window_size, self.forcast_size))\n",
        "                self.Linear_Seasonal[i].weight = torch.nn.Parameter((1/self.window_size)*torch.ones([self.forcast_size, self.window_size]))\n",
        "        else:\n",
        "            self.Linear_Trend = torch.nn.Linear(self.window_size, self.forcast_size)\n",
        "            self.Linear_Trend.weight = torch.nn.Parameter((1/self.window_size)*torch.ones([self.forcast_size, self.window_size]))\n",
        "            self.Linear_Seasonal = torch.nn.Linear(self.window_size,  self.forcast_size)\n",
        "            self.Linear_Seasonal.weight = torch.nn.Parameter((1/self.window_size)*torch.ones([self.forcast_size, self.window_size]))\n",
        "\n",
        "    def forward(self, x):\n",
        "        trend_init, seasonal_init = self.decompsition(x)\n",
        "        trend_init, seasonal_init = trend_init.permute(0,2,1), seasonal_init.permute(0,2,1)\n",
        "        if self.individual:\n",
        "            trend_output = torch.zeros([trend_init.size(0), trend_init.size(1), self.forcast_size], dtype=trend_init.dtype).to(trend_init.device)\n",
        "            seasonal_output = torch.zeros([seasonal_init.size(0), seasonal_init.size(1), self.forcast_size], dtype=seasonal_init.dtype).to(seasonal_init.device)\n",
        "            for idx in range(self.channels):\n",
        "                trend_output[:, idx, :] = self.Linear_Trend[idx](trend_init[:, idx, :])\n",
        "                seasonal_output[:, idx, :] = self.Linear_Seasonal[idx](seasonal_init[:, idx, :])\n",
        "        else:\n",
        "            trend_output = self.Linear_Trend(trend_init)\n",
        "            seasonal_output = self.Linear_Seasonal(seasonal_init)\n",
        "        x = seasonal_output + trend_output\n",
        "        return x.permute(0,2,1)"
      ],
      "metadata": {
        "id": "Y35gHl3Mw3DR"
      },
      "execution_count": null,
      "outputs": []
    },
    {
      "cell_type": "code",
      "source": [
        "class LTSF_NLinear(torch.nn.Module):\n",
        "    def __init__(self, window_size, forcast_size, individual, feature_size):\n",
        "        super(LTSF_NLinear, self).__init__()\n",
        "        self.window_size = window_size\n",
        "        self.forcast_size = forcast_size\n",
        "        self.individual = individual\n",
        "        self.channels = feature_size\n",
        "        if self.individual:\n",
        "            self.Linear = torch.nn.ModuleList()\n",
        "            for i in range(self.channels):\n",
        "                self.Linear.append(torch.nn.Linear(self.window_size, self.forcast_size))\n",
        "        else:\n",
        "            self.Linear = torch.nn.Linear(self.window_size, self.forcast_size)\n",
        "\n",
        "    def forward(self, x):\n",
        "        seq_last = x[:,-1:,:].detach()\n",
        "        x = x - seq_last\n",
        "        if self.individual:\n",
        "            output = torch.zeros([x.size(0), self.forcast_size, x.size(2)],dtype=x.dtype).to(x.device)\n",
        "            for i in range(self.channels):\n",
        "                output[:,:,i] = self.Linear[i](x[:,:,i])\n",
        "            x = output\n",
        "        else:\n",
        "            x = self.Linear(x.permute(0,2,1)).permute(0,2,1)\n",
        "        x = x + seq_last\n",
        "        return x"
      ],
      "metadata": {
        "id": "4ZYg7flcw4qB"
      },
      "execution_count": null,
      "outputs": []
    },
    {
      "cell_type": "code",
      "source": [
        "def standardization(train_df, test_df, not_col, target):\n",
        "    train_df_ = train_df.copy()\n",
        "    test_df_ = test_df.copy()\n",
        "    col =  [col for col in list(train_df.columns) if col not in [not_col]]\n",
        "\n",
        "        # 모든 컬럼에 대해 평균과 표준편차를 한 번에 계산\n",
        "    stats = train_df_[col].agg([\"mean\", \"std\"])\n",
        "\n",
        "    for x in col:\n",
        "        mean = stats.loc[\"mean\", x]\n",
        "        std = stats.loc[\"std\", x]\n",
        "        train_df_.loc[:, x] = (train_df_[x] - mean) / std\n",
        "        test_df_.loc[:, x] = (test_df_[x] - mean) / std\n",
        "\n",
        "    # target에 대한 평균과 표준편차 반환\n",
        "    target_mean = stats.loc[\"mean\", target]\n",
        "    target_std = stats.loc[\"std\", target]\n",
        "\n",
        "    return train_df_, test_df_, target_mean, target_std"
      ],
      "metadata": {
        "id": "LLOSAYZuw5q8"
      },
      "execution_count": null,
      "outputs": []
    },
    {
      "cell_type": "code",
      "source": [
        "from torch.utils.data import DataLoader, Dataset\n",
        "class Data(Dataset):\n",
        "    def __init__(self, X, Y):\n",
        "        self.X = X\n",
        "        self.Y = Y\n",
        "\n",
        "    def __len__(self):\n",
        "        return len(self.Y)\n",
        "\n",
        "    def __getitem__(self, idx):\n",
        "        return self.X[idx], self.Y[idx]"
      ],
      "metadata": {
        "id": "3nwP-HTMvu0T"
      },
      "execution_count": null,
      "outputs": []
    },
    {
      "cell_type": "code",
      "source": [
        "import numpy as np\n",
        "\n",
        "def time_slide_df(df, window_size, forcast_size, date, target):\n",
        "    df_ = df.copy()\n",
        "    data_list = []\n",
        "    dap_list = []\n",
        "    date_list = []\n",
        "    for idx in range(0, df_.shape[0] - window_size - forcast_size + 1):\n",
        "        x = df_.iloc[idx:idx + window_size][target].values\n",
        "        y = df_.iloc[idx + window_size:idx + window_size + forcast_size][target].values\n",
        "        date_ = df_.iloc[idx + window_size:idx + window_size + forcast_size][date].values\n",
        "\n",
        "        # x 또는 y가 비어있지 않은 경우에만 리스트에 추가\n",
        "        if x.size > 0 and y.size > 0:\n",
        "            data_list.append(x.reshape(window_size, 1))\n",
        "            dap_list.append(y)\n",
        "            date_list.append(date_)\n",
        "\n",
        "    return np.array(data_list, dtype='float32'), np.array(dap_list, dtype='float32'), np.array(date_list)"
      ],
      "metadata": {
        "id": "MQuQ5sjEvxPj"
      },
      "execution_count": null,
      "outputs": []
    },
    {
      "cell_type": "markdown",
      "source": [
        "##전처리"
      ],
      "metadata": {
        "id": "pwhlXdI_xCE2"
      }
    },
    {
      "cell_type": "code",
      "source": [
        "path='/content/drive/MyDrive/BITamin'\n",
        "df=pd.read_csv(path + '/Stock_log.csv').iloc[:,:2]\n",
        "df.rename(columns ={'Unnamed: 0' : 'Date'}, inplace=True)\n",
        "df.head()"
      ],
      "metadata": {
        "colab": {
          "base_uri": "https://localhost:8080/",
          "height": 206
        },
        "id": "CCxo3DCkwtxP",
        "outputId": "b250e76b-9a54-4e15-c354-8911a1c4db29"
      },
      "execution_count": null,
      "outputs": [
        {
          "output_type": "execute_result",
          "data": {
            "text/plain": [
              "   Date     005930\n",
              "0     0  10.494048\n",
              "1     1  10.504519\n",
              "2     2  10.495709\n",
              "3     3  10.478977\n",
              "4     4  10.496814"
            ],
            "text/html": [
              "\n",
              "  <div id=\"df-c4e40f56-84fe-4e21-bed4-cced14408ab9\" class=\"colab-df-container\">\n",
              "    <div>\n",
              "<style scoped>\n",
              "    .dataframe tbody tr th:only-of-type {\n",
              "        vertical-align: middle;\n",
              "    }\n",
              "\n",
              "    .dataframe tbody tr th {\n",
              "        vertical-align: top;\n",
              "    }\n",
              "\n",
              "    .dataframe thead th {\n",
              "        text-align: right;\n",
              "    }\n",
              "</style>\n",
              "<table border=\"1\" class=\"dataframe\">\n",
              "  <thead>\n",
              "    <tr style=\"text-align: right;\">\n",
              "      <th></th>\n",
              "      <th>Date</th>\n",
              "      <th>005930</th>\n",
              "    </tr>\n",
              "  </thead>\n",
              "  <tbody>\n",
              "    <tr>\n",
              "      <th>0</th>\n",
              "      <td>0</td>\n",
              "      <td>10.494048</td>\n",
              "    </tr>\n",
              "    <tr>\n",
              "      <th>1</th>\n",
              "      <td>1</td>\n",
              "      <td>10.504519</td>\n",
              "    </tr>\n",
              "    <tr>\n",
              "      <th>2</th>\n",
              "      <td>2</td>\n",
              "      <td>10.495709</td>\n",
              "    </tr>\n",
              "    <tr>\n",
              "      <th>3</th>\n",
              "      <td>3</td>\n",
              "      <td>10.478977</td>\n",
              "    </tr>\n",
              "    <tr>\n",
              "      <th>4</th>\n",
              "      <td>4</td>\n",
              "      <td>10.496814</td>\n",
              "    </tr>\n",
              "  </tbody>\n",
              "</table>\n",
              "</div>\n",
              "    <div class=\"colab-df-buttons\">\n",
              "\n",
              "  <div class=\"colab-df-container\">\n",
              "    <button class=\"colab-df-convert\" onclick=\"convertToInteractive('df-c4e40f56-84fe-4e21-bed4-cced14408ab9')\"\n",
              "            title=\"Convert this dataframe to an interactive table.\"\n",
              "            style=\"display:none;\">\n",
              "\n",
              "  <svg xmlns=\"http://www.w3.org/2000/svg\" height=\"24px\" viewBox=\"0 -960 960 960\">\n",
              "    <path d=\"M120-120v-720h720v720H120Zm60-500h600v-160H180v160Zm220 220h160v-160H400v160Zm0 220h160v-160H400v160ZM180-400h160v-160H180v160Zm440 0h160v-160H620v160ZM180-180h160v-160H180v160Zm440 0h160v-160H620v160Z\"/>\n",
              "  </svg>\n",
              "    </button>\n",
              "\n",
              "  <style>\n",
              "    .colab-df-container {\n",
              "      display:flex;\n",
              "      gap: 12px;\n",
              "    }\n",
              "\n",
              "    .colab-df-convert {\n",
              "      background-color: #E8F0FE;\n",
              "      border: none;\n",
              "      border-radius: 50%;\n",
              "      cursor: pointer;\n",
              "      display: none;\n",
              "      fill: #1967D2;\n",
              "      height: 32px;\n",
              "      padding: 0 0 0 0;\n",
              "      width: 32px;\n",
              "    }\n",
              "\n",
              "    .colab-df-convert:hover {\n",
              "      background-color: #E2EBFA;\n",
              "      box-shadow: 0px 1px 2px rgba(60, 64, 67, 0.3), 0px 1px 3px 1px rgba(60, 64, 67, 0.15);\n",
              "      fill: #174EA6;\n",
              "    }\n",
              "\n",
              "    .colab-df-buttons div {\n",
              "      margin-bottom: 4px;\n",
              "    }\n",
              "\n",
              "    [theme=dark] .colab-df-convert {\n",
              "      background-color: #3B4455;\n",
              "      fill: #D2E3FC;\n",
              "    }\n",
              "\n",
              "    [theme=dark] .colab-df-convert:hover {\n",
              "      background-color: #434B5C;\n",
              "      box-shadow: 0px 1px 3px 1px rgba(0, 0, 0, 0.15);\n",
              "      filter: drop-shadow(0px 1px 2px rgba(0, 0, 0, 0.3));\n",
              "      fill: #FFFFFF;\n",
              "    }\n",
              "  </style>\n",
              "\n",
              "    <script>\n",
              "      const buttonEl =\n",
              "        document.querySelector('#df-c4e40f56-84fe-4e21-bed4-cced14408ab9 button.colab-df-convert');\n",
              "      buttonEl.style.display =\n",
              "        google.colab.kernel.accessAllowed ? 'block' : 'none';\n",
              "\n",
              "      async function convertToInteractive(key) {\n",
              "        const element = document.querySelector('#df-c4e40f56-84fe-4e21-bed4-cced14408ab9');\n",
              "        const dataTable =\n",
              "          await google.colab.kernel.invokeFunction('convertToInteractive',\n",
              "                                                    [key], {});\n",
              "        if (!dataTable) return;\n",
              "\n",
              "        const docLinkHtml = 'Like what you see? Visit the ' +\n",
              "          '<a target=\"_blank\" href=https://colab.research.google.com/notebooks/data_table.ipynb>data table notebook</a>'\n",
              "          + ' to learn more about interactive tables.';\n",
              "        element.innerHTML = '';\n",
              "        dataTable['output_type'] = 'display_data';\n",
              "        await google.colab.output.renderOutput(dataTable, element);\n",
              "        const docLink = document.createElement('div');\n",
              "        docLink.innerHTML = docLinkHtml;\n",
              "        element.appendChild(docLink);\n",
              "      }\n",
              "    </script>\n",
              "  </div>\n",
              "\n",
              "\n",
              "<div id=\"df-f64c5210-7c0b-472f-9898-8f0676b2d8c1\">\n",
              "  <button class=\"colab-df-quickchart\" onclick=\"quickchart('df-f64c5210-7c0b-472f-9898-8f0676b2d8c1')\"\n",
              "            title=\"Suggest charts\"\n",
              "            style=\"display:none;\">\n",
              "\n",
              "<svg xmlns=\"http://www.w3.org/2000/svg\" height=\"24px\"viewBox=\"0 0 24 24\"\n",
              "     width=\"24px\">\n",
              "    <g>\n",
              "        <path d=\"M19 3H5c-1.1 0-2 .9-2 2v14c0 1.1.9 2 2 2h14c1.1 0 2-.9 2-2V5c0-1.1-.9-2-2-2zM9 17H7v-7h2v7zm4 0h-2V7h2v10zm4 0h-2v-4h2v4z\"/>\n",
              "    </g>\n",
              "</svg>\n",
              "  </button>\n",
              "\n",
              "<style>\n",
              "  .colab-df-quickchart {\n",
              "      --bg-color: #E8F0FE;\n",
              "      --fill-color: #1967D2;\n",
              "      --hover-bg-color: #E2EBFA;\n",
              "      --hover-fill-color: #174EA6;\n",
              "      --disabled-fill-color: #AAA;\n",
              "      --disabled-bg-color: #DDD;\n",
              "  }\n",
              "\n",
              "  [theme=dark] .colab-df-quickchart {\n",
              "      --bg-color: #3B4455;\n",
              "      --fill-color: #D2E3FC;\n",
              "      --hover-bg-color: #434B5C;\n",
              "      --hover-fill-color: #FFFFFF;\n",
              "      --disabled-bg-color: #3B4455;\n",
              "      --disabled-fill-color: #666;\n",
              "  }\n",
              "\n",
              "  .colab-df-quickchart {\n",
              "    background-color: var(--bg-color);\n",
              "    border: none;\n",
              "    border-radius: 50%;\n",
              "    cursor: pointer;\n",
              "    display: none;\n",
              "    fill: var(--fill-color);\n",
              "    height: 32px;\n",
              "    padding: 0;\n",
              "    width: 32px;\n",
              "  }\n",
              "\n",
              "  .colab-df-quickchart:hover {\n",
              "    background-color: var(--hover-bg-color);\n",
              "    box-shadow: 0 1px 2px rgba(60, 64, 67, 0.3), 0 1px 3px 1px rgba(60, 64, 67, 0.15);\n",
              "    fill: var(--button-hover-fill-color);\n",
              "  }\n",
              "\n",
              "  .colab-df-quickchart-complete:disabled,\n",
              "  .colab-df-quickchart-complete:disabled:hover {\n",
              "    background-color: var(--disabled-bg-color);\n",
              "    fill: var(--disabled-fill-color);\n",
              "    box-shadow: none;\n",
              "  }\n",
              "\n",
              "  .colab-df-spinner {\n",
              "    border: 2px solid var(--fill-color);\n",
              "    border-color: transparent;\n",
              "    border-bottom-color: var(--fill-color);\n",
              "    animation:\n",
              "      spin 1s steps(1) infinite;\n",
              "  }\n",
              "\n",
              "  @keyframes spin {\n",
              "    0% {\n",
              "      border-color: transparent;\n",
              "      border-bottom-color: var(--fill-color);\n",
              "      border-left-color: var(--fill-color);\n",
              "    }\n",
              "    20% {\n",
              "      border-color: transparent;\n",
              "      border-left-color: var(--fill-color);\n",
              "      border-top-color: var(--fill-color);\n",
              "    }\n",
              "    30% {\n",
              "      border-color: transparent;\n",
              "      border-left-color: var(--fill-color);\n",
              "      border-top-color: var(--fill-color);\n",
              "      border-right-color: var(--fill-color);\n",
              "    }\n",
              "    40% {\n",
              "      border-color: transparent;\n",
              "      border-right-color: var(--fill-color);\n",
              "      border-top-color: var(--fill-color);\n",
              "    }\n",
              "    60% {\n",
              "      border-color: transparent;\n",
              "      border-right-color: var(--fill-color);\n",
              "    }\n",
              "    80% {\n",
              "      border-color: transparent;\n",
              "      border-right-color: var(--fill-color);\n",
              "      border-bottom-color: var(--fill-color);\n",
              "    }\n",
              "    90% {\n",
              "      border-color: transparent;\n",
              "      border-bottom-color: var(--fill-color);\n",
              "    }\n",
              "  }\n",
              "</style>\n",
              "\n",
              "  <script>\n",
              "    async function quickchart(key) {\n",
              "      const quickchartButtonEl =\n",
              "        document.querySelector('#' + key + ' button');\n",
              "      quickchartButtonEl.disabled = true;  // To prevent multiple clicks.\n",
              "      quickchartButtonEl.classList.add('colab-df-spinner');\n",
              "      try {\n",
              "        const charts = await google.colab.kernel.invokeFunction(\n",
              "            'suggestCharts', [key], {});\n",
              "      } catch (error) {\n",
              "        console.error('Error during call to suggestCharts:', error);\n",
              "      }\n",
              "      quickchartButtonEl.classList.remove('colab-df-spinner');\n",
              "      quickchartButtonEl.classList.add('colab-df-quickchart-complete');\n",
              "    }\n",
              "    (() => {\n",
              "      let quickchartButtonEl =\n",
              "        document.querySelector('#df-f64c5210-7c0b-472f-9898-8f0676b2d8c1 button');\n",
              "      quickchartButtonEl.style.display =\n",
              "        google.colab.kernel.accessAllowed ? 'block' : 'none';\n",
              "    })();\n",
              "  </script>\n",
              "</div>\n",
              "\n",
              "    </div>\n",
              "  </div>\n"
            ],
            "application/vnd.google.colaboratory.intrinsic+json": {
              "type": "dataframe",
              "variable_name": "df",
              "summary": "{\n  \"name\": \"df\",\n  \"rows\": 1776,\n  \"fields\": [\n    {\n      \"column\": \"Date\",\n      \"properties\": {\n        \"dtype\": \"number\",\n        \"std\": 512,\n        \"min\": 0,\n        \"max\": 1775,\n        \"num_unique_values\": 1776,\n        \"samples\": [\n          65,\n          940,\n          1722\n        ],\n        \"semantic_type\": \"\",\n        \"description\": \"\"\n      }\n    },\n    {\n      \"column\": \"005930\",\n      \"properties\": {\n        \"dtype\": \"number\",\n        \"std\": 0.2198600248029923,\n        \"min\": 10.47897668962784,\n        \"max\": 11.418614785498988,\n        \"num_unique_values\": 717,\n        \"samples\": [\n          10.83643872530339,\n          10.607821922486638,\n          10.598632735758748\n        ],\n        \"semantic_type\": \"\",\n        \"description\": \"\"\n      }\n    }\n  ]\n}"
            }
          },
          "metadata": {},
          "execution_count": 106
        }
      ]
    },
    {
      "cell_type": "code",
      "source": [
        "df.shape"
      ],
      "metadata": {
        "colab": {
          "base_uri": "https://localhost:8080/"
        },
        "id": "fu49wy01rCmV",
        "outputId": "f37e668c-4d5a-48d6-e314-12106e8e56dc"
      },
      "execution_count": null,
      "outputs": [
        {
          "output_type": "execute_result",
          "data": {
            "text/plain": [
              "(1776, 2)"
            ]
          },
          "metadata": {},
          "execution_count": 107
        }
      ]
    },
    {
      "cell_type": "code",
      "source": [
        "#train vs validation vs test 6:3:1\n",
        "\n",
        "import math\n",
        "train_len=math.ceil(len(df)*0.9)\n",
        "\n",
        "train_df=df.iloc[:train_len,:]\n",
        "test_df=df.iloc[train_len:,:]"
      ],
      "metadata": {
        "id": "oLAQGkVjxTGJ"
      },
      "execution_count": null,
      "outputs": []
    },
    {
      "cell_type": "code",
      "source": [
        "window_size = 10\n",
        "forcast_size= 5\n",
        "batch_size = 32\n",
        "targets='005930'\n",
        "date = 'Date'"
      ],
      "metadata": {
        "id": "0ZqCMuL-u1Et"
      },
      "execution_count": null,
      "outputs": []
    },
    {
      "cell_type": "code",
      "source": [
        "train_df_fe, test_df_fe, mean_, std_ = standardization(train_df, test_df, 'Date', targets)\n",
        "train_x, train_y, train_date = time_slide_df(train_df_fe, window_size, forcast_size, date, targets)\n",
        "test_x, test_y, test_date = time_slide_df(test_df_fe, window_size, forcast_size, date, targets)"
      ],
      "metadata": {
        "id": "lhaAYdHzu-rP"
      },
      "execution_count": null,
      "outputs": []
    },
    {
      "cell_type": "code",
      "source": [
        "valid_len=math.ceil(len(train_x)*(2/3)) #train vs validation 6:3\n",
        "\n",
        "train_ds = Data(train_x[:valid_len], train_y[:valid_len])\n",
        "valid_ds = Data(train_x[valid_len:], train_y[valid_len:])\n",
        "test_ds = Data(test_x, test_y)"
      ],
      "metadata": {
        "id": "fex2pQvIvJwz"
      },
      "execution_count": null,
      "outputs": []
    },
    {
      "cell_type": "code",
      "source": [
        "train_dl = DataLoader(train_ds, batch_size = batch_size, shuffle=False,)\n",
        "valid_dl = DataLoader(valid_ds, batch_size = train_x[valid_len:].shape[0], shuffle=False)\n",
        "test_dl  = DataLoader(test_ds,  batch_size = test_x.shape[0], shuffle=False)"
      ],
      "metadata": {
        "id": "Xw2AJ96UvORm"
      },
      "execution_count": null,
      "outputs": []
    },
    {
      "cell_type": "code",
      "source": [
        "for epoch in tqdm(range(1, epoch+1)):\n",
        "    loss_list = []\n",
        "    DLinear_model.train()\n",
        "    for batch_idx, (data, target) in enumerate(train_dl):\n",
        "        optimizer.zero_grad()\n",
        "        output = DLinear_model(data)\n",
        "        loss = criterion(output, target.unsqueeze(-1))\n",
        "        loss.backward()\n",
        "        optimizer.step()\n",
        "        loss_list.append(loss.item())\n",
        "    train_loss_list.append(np.mean(loss_list))\n",
        "\n",
        "    DLinear_model.eval()\n",
        "    with torch.no_grad():\n",
        "        for data, target in valid_dl:\n",
        "            output = DLinear_model(data)\n",
        "            valid_loss = criterion(output, target.unsqueeze(-1))\n",
        "            valid_loss_list.append(valid_loss)\n",
        "\n",
        "        for data, target in test_dl:\n",
        "            output = DLinear_model(data)\n",
        "            test_loss = criterion(output, target.unsqueeze(-1))\n",
        "            test_loss_list.append(test_loss)\n",
        "\n",
        "    if valid_loss < max_loss:\n",
        "        torch.save(DLinear_model, 'DLinear_model.pth')\n",
        "        max_loss = valid_loss\n",
        "        print(\"valid_loss={:.3f}, test_los{:.3f}, Model Save\".format(valid_loss, test_loss))\n",
        "        dlinear_best_epoch = epoch\n",
        "        dlinear_best_train_loss = np.mean(loss_list)\n",
        "        dlinear_best_valid_loss = np.mean(valid_loss.item())\n",
        "        dlinear_best_test_loss = np.mean(test_loss.item())\n",
        "\n",
        "    print(\"epoch = {}, train_loss : {:.3f}, valid_loss : {:.3f}, test_loss : {:.3f}\".format(epoch, np.mean(loss_list), valid_loss, test_loss))"
      ],
      "metadata": {
        "id": "wL-96Dxtvcvq"
      },
      "execution_count": null,
      "outputs": []
    },
    {
      "cell_type": "code",
      "source": [
        "# 예측 결과 딕셔너리를 DataFrame으로 변환\n",
        "final_output=output.reshape(-1,1)\n",
        "final_date=test_date.reshape(-1,1)"
      ],
      "metadata": {
        "id": "_yQxxdfDA4cQ"
      },
      "execution_count": null,
      "outputs": []
    },
    {
      "cell_type": "code",
      "source": [
        "final= pd.DataFrame(zip(final_date,final_output), columns=['date','005930'])\n",
        "final.head()"
      ],
      "metadata": {
        "colab": {
          "base_uri": "https://localhost:8080/",
          "height": 206
        },
        "id": "7rLGhNWYw1q-",
        "outputId": "ca987f47-aba8-4557-baa5-266c189fbb67"
      },
      "execution_count": null,
      "outputs": [
        {
          "output_type": "execute_result",
          "data": {
            "text/plain": [
              "     date            005930\n",
              "0  [1609]  [tensor(1.2450)]\n",
              "1  [1610]  [tensor(1.2587)]\n",
              "2  [1611]  [tensor(1.2483)]\n",
              "3  [1612]  [tensor(1.2436)]\n",
              "4  [1613]  [tensor(1.2355)]"
            ],
            "text/html": [
              "\n",
              "  <div id=\"df-b7f78b27-0bea-41ec-a0aa-cae7bb5bf73f\" class=\"colab-df-container\">\n",
              "    <div>\n",
              "<style scoped>\n",
              "    .dataframe tbody tr th:only-of-type {\n",
              "        vertical-align: middle;\n",
              "    }\n",
              "\n",
              "    .dataframe tbody tr th {\n",
              "        vertical-align: top;\n",
              "    }\n",
              "\n",
              "    .dataframe thead th {\n",
              "        text-align: right;\n",
              "    }\n",
              "</style>\n",
              "<table border=\"1\" class=\"dataframe\">\n",
              "  <thead>\n",
              "    <tr style=\"text-align: right;\">\n",
              "      <th></th>\n",
              "      <th>date</th>\n",
              "      <th>005930</th>\n",
              "    </tr>\n",
              "  </thead>\n",
              "  <tbody>\n",
              "    <tr>\n",
              "      <th>0</th>\n",
              "      <td>[1609]</td>\n",
              "      <td>[tensor(1.2450)]</td>\n",
              "    </tr>\n",
              "    <tr>\n",
              "      <th>1</th>\n",
              "      <td>[1610]</td>\n",
              "      <td>[tensor(1.2587)]</td>\n",
              "    </tr>\n",
              "    <tr>\n",
              "      <th>2</th>\n",
              "      <td>[1611]</td>\n",
              "      <td>[tensor(1.2483)]</td>\n",
              "    </tr>\n",
              "    <tr>\n",
              "      <th>3</th>\n",
              "      <td>[1612]</td>\n",
              "      <td>[tensor(1.2436)]</td>\n",
              "    </tr>\n",
              "    <tr>\n",
              "      <th>4</th>\n",
              "      <td>[1613]</td>\n",
              "      <td>[tensor(1.2355)]</td>\n",
              "    </tr>\n",
              "  </tbody>\n",
              "</table>\n",
              "</div>\n",
              "    <div class=\"colab-df-buttons\">\n",
              "\n",
              "  <div class=\"colab-df-container\">\n",
              "    <button class=\"colab-df-convert\" onclick=\"convertToInteractive('df-b7f78b27-0bea-41ec-a0aa-cae7bb5bf73f')\"\n",
              "            title=\"Convert this dataframe to an interactive table.\"\n",
              "            style=\"display:none;\">\n",
              "\n",
              "  <svg xmlns=\"http://www.w3.org/2000/svg\" height=\"24px\" viewBox=\"0 -960 960 960\">\n",
              "    <path d=\"M120-120v-720h720v720H120Zm60-500h600v-160H180v160Zm220 220h160v-160H400v160Zm0 220h160v-160H400v160ZM180-400h160v-160H180v160Zm440 0h160v-160H620v160ZM180-180h160v-160H180v160Zm440 0h160v-160H620v160Z\"/>\n",
              "  </svg>\n",
              "    </button>\n",
              "\n",
              "  <style>\n",
              "    .colab-df-container {\n",
              "      display:flex;\n",
              "      gap: 12px;\n",
              "    }\n",
              "\n",
              "    .colab-df-convert {\n",
              "      background-color: #E8F0FE;\n",
              "      border: none;\n",
              "      border-radius: 50%;\n",
              "      cursor: pointer;\n",
              "      display: none;\n",
              "      fill: #1967D2;\n",
              "      height: 32px;\n",
              "      padding: 0 0 0 0;\n",
              "      width: 32px;\n",
              "    }\n",
              "\n",
              "    .colab-df-convert:hover {\n",
              "      background-color: #E2EBFA;\n",
              "      box-shadow: 0px 1px 2px rgba(60, 64, 67, 0.3), 0px 1px 3px 1px rgba(60, 64, 67, 0.15);\n",
              "      fill: #174EA6;\n",
              "    }\n",
              "\n",
              "    .colab-df-buttons div {\n",
              "      margin-bottom: 4px;\n",
              "    }\n",
              "\n",
              "    [theme=dark] .colab-df-convert {\n",
              "      background-color: #3B4455;\n",
              "      fill: #D2E3FC;\n",
              "    }\n",
              "\n",
              "    [theme=dark] .colab-df-convert:hover {\n",
              "      background-color: #434B5C;\n",
              "      box-shadow: 0px 1px 3px 1px rgba(0, 0, 0, 0.15);\n",
              "      filter: drop-shadow(0px 1px 2px rgba(0, 0, 0, 0.3));\n",
              "      fill: #FFFFFF;\n",
              "    }\n",
              "  </style>\n",
              "\n",
              "    <script>\n",
              "      const buttonEl =\n",
              "        document.querySelector('#df-b7f78b27-0bea-41ec-a0aa-cae7bb5bf73f button.colab-df-convert');\n",
              "      buttonEl.style.display =\n",
              "        google.colab.kernel.accessAllowed ? 'block' : 'none';\n",
              "\n",
              "      async function convertToInteractive(key) {\n",
              "        const element = document.querySelector('#df-b7f78b27-0bea-41ec-a0aa-cae7bb5bf73f');\n",
              "        const dataTable =\n",
              "          await google.colab.kernel.invokeFunction('convertToInteractive',\n",
              "                                                    [key], {});\n",
              "        if (!dataTable) return;\n",
              "\n",
              "        const docLinkHtml = 'Like what you see? Visit the ' +\n",
              "          '<a target=\"_blank\" href=https://colab.research.google.com/notebooks/data_table.ipynb>data table notebook</a>'\n",
              "          + ' to learn more about interactive tables.';\n",
              "        element.innerHTML = '';\n",
              "        dataTable['output_type'] = 'display_data';\n",
              "        await google.colab.output.renderOutput(dataTable, element);\n",
              "        const docLink = document.createElement('div');\n",
              "        docLink.innerHTML = docLinkHtml;\n",
              "        element.appendChild(docLink);\n",
              "      }\n",
              "    </script>\n",
              "  </div>\n",
              "\n",
              "\n",
              "<div id=\"df-8769d065-f2f9-4b70-95e6-00efdb41d9df\">\n",
              "  <button class=\"colab-df-quickchart\" onclick=\"quickchart('df-8769d065-f2f9-4b70-95e6-00efdb41d9df')\"\n",
              "            title=\"Suggest charts\"\n",
              "            style=\"display:none;\">\n",
              "\n",
              "<svg xmlns=\"http://www.w3.org/2000/svg\" height=\"24px\"viewBox=\"0 0 24 24\"\n",
              "     width=\"24px\">\n",
              "    <g>\n",
              "        <path d=\"M19 3H5c-1.1 0-2 .9-2 2v14c0 1.1.9 2 2 2h14c1.1 0 2-.9 2-2V5c0-1.1-.9-2-2-2zM9 17H7v-7h2v7zm4 0h-2V7h2v10zm4 0h-2v-4h2v4z\"/>\n",
              "    </g>\n",
              "</svg>\n",
              "  </button>\n",
              "\n",
              "<style>\n",
              "  .colab-df-quickchart {\n",
              "      --bg-color: #E8F0FE;\n",
              "      --fill-color: #1967D2;\n",
              "      --hover-bg-color: #E2EBFA;\n",
              "      --hover-fill-color: #174EA6;\n",
              "      --disabled-fill-color: #AAA;\n",
              "      --disabled-bg-color: #DDD;\n",
              "  }\n",
              "\n",
              "  [theme=dark] .colab-df-quickchart {\n",
              "      --bg-color: #3B4455;\n",
              "      --fill-color: #D2E3FC;\n",
              "      --hover-bg-color: #434B5C;\n",
              "      --hover-fill-color: #FFFFFF;\n",
              "      --disabled-bg-color: #3B4455;\n",
              "      --disabled-fill-color: #666;\n",
              "  }\n",
              "\n",
              "  .colab-df-quickchart {\n",
              "    background-color: var(--bg-color);\n",
              "    border: none;\n",
              "    border-radius: 50%;\n",
              "    cursor: pointer;\n",
              "    display: none;\n",
              "    fill: var(--fill-color);\n",
              "    height: 32px;\n",
              "    padding: 0;\n",
              "    width: 32px;\n",
              "  }\n",
              "\n",
              "  .colab-df-quickchart:hover {\n",
              "    background-color: var(--hover-bg-color);\n",
              "    box-shadow: 0 1px 2px rgba(60, 64, 67, 0.3), 0 1px 3px 1px rgba(60, 64, 67, 0.15);\n",
              "    fill: var(--button-hover-fill-color);\n",
              "  }\n",
              "\n",
              "  .colab-df-quickchart-complete:disabled,\n",
              "  .colab-df-quickchart-complete:disabled:hover {\n",
              "    background-color: var(--disabled-bg-color);\n",
              "    fill: var(--disabled-fill-color);\n",
              "    box-shadow: none;\n",
              "  }\n",
              "\n",
              "  .colab-df-spinner {\n",
              "    border: 2px solid var(--fill-color);\n",
              "    border-color: transparent;\n",
              "    border-bottom-color: var(--fill-color);\n",
              "    animation:\n",
              "      spin 1s steps(1) infinite;\n",
              "  }\n",
              "\n",
              "  @keyframes spin {\n",
              "    0% {\n",
              "      border-color: transparent;\n",
              "      border-bottom-color: var(--fill-color);\n",
              "      border-left-color: var(--fill-color);\n",
              "    }\n",
              "    20% {\n",
              "      border-color: transparent;\n",
              "      border-left-color: var(--fill-color);\n",
              "      border-top-color: var(--fill-color);\n",
              "    }\n",
              "    30% {\n",
              "      border-color: transparent;\n",
              "      border-left-color: var(--fill-color);\n",
              "      border-top-color: var(--fill-color);\n",
              "      border-right-color: var(--fill-color);\n",
              "    }\n",
              "    40% {\n",
              "      border-color: transparent;\n",
              "      border-right-color: var(--fill-color);\n",
              "      border-top-color: var(--fill-color);\n",
              "    }\n",
              "    60% {\n",
              "      border-color: transparent;\n",
              "      border-right-color: var(--fill-color);\n",
              "    }\n",
              "    80% {\n",
              "      border-color: transparent;\n",
              "      border-right-color: var(--fill-color);\n",
              "      border-bottom-color: var(--fill-color);\n",
              "    }\n",
              "    90% {\n",
              "      border-color: transparent;\n",
              "      border-bottom-color: var(--fill-color);\n",
              "    }\n",
              "  }\n",
              "</style>\n",
              "\n",
              "  <script>\n",
              "    async function quickchart(key) {\n",
              "      const quickchartButtonEl =\n",
              "        document.querySelector('#' + key + ' button');\n",
              "      quickchartButtonEl.disabled = true;  // To prevent multiple clicks.\n",
              "      quickchartButtonEl.classList.add('colab-df-spinner');\n",
              "      try {\n",
              "        const charts = await google.colab.kernel.invokeFunction(\n",
              "            'suggestCharts', [key], {});\n",
              "      } catch (error) {\n",
              "        console.error('Error during call to suggestCharts:', error);\n",
              "      }\n",
              "      quickchartButtonEl.classList.remove('colab-df-spinner');\n",
              "      quickchartButtonEl.classList.add('colab-df-quickchart-complete');\n",
              "    }\n",
              "    (() => {\n",
              "      let quickchartButtonEl =\n",
              "        document.querySelector('#df-8769d065-f2f9-4b70-95e6-00efdb41d9df button');\n",
              "      quickchartButtonEl.style.display =\n",
              "        google.colab.kernel.accessAllowed ? 'block' : 'none';\n",
              "    })();\n",
              "  </script>\n",
              "</div>\n",
              "\n",
              "    </div>\n",
              "  </div>\n"
            ],
            "application/vnd.google.colaboratory.intrinsic+json": {
              "type": "dataframe",
              "variable_name": "final",
              "summary": "{\n  \"name\": \"final\",\n  \"rows\": 815,\n  \"fields\": [\n    {\n      \"column\": \"date\",\n      \"properties\": {\n        \"dtype\": \"object\",\n        \"semantic_type\": \"\",\n        \"description\": \"\"\n      }\n    },\n    {\n      \"column\": \"005930\",\n      \"properties\": {\n        \"dtype\": \"string\",\n        \"num_unique_values\": 815,\n        \"samples\": [\n          \"tensor([1.0840])\",\n          \"tensor([0.8472])\",\n          \"tensor([1.0312])\"\n        ],\n        \"semantic_type\": \"\",\n        \"description\": \"\"\n      }\n    }\n  ]\n}"
            }
          },
          "metadata": {},
          "execution_count": 59
        }
      ]
    },
    {
      "cell_type": "markdown",
      "source": [
        "# 연습장 하나 더"
      ],
      "metadata": {
        "id": "X1OuspZbXjlD"
      }
    },
    {
      "cell_type": "code",
      "source": [
        "path='/content/drive/MyDrive/BITamin'\n",
        "df=pd.read_csv(path + '/Stock_log.csv').iloc[:,:100]\n",
        "df.rename(columns ={'Unnamed: 0' : 'Date'}, inplace=True)\n",
        "df.head()"
      ],
      "metadata": {
        "colab": {
          "base_uri": "https://localhost:8080/",
          "height": 256
        },
        "id": "_pjllnFuXqW2",
        "outputId": "8e49d5cf-48e1-4d45-d3c8-59dfdf7593d7"
      },
      "execution_count": null,
      "outputs": [
        {
          "output_type": "execute_result",
          "data": {
            "text/plain": [
              "   Date     005930     000660     373220     207940     005935     005380  \\\n",
              "0     0  10.494048  10.732039  13.132314  11.949036  10.268131  11.918391   \n",
              "1     1  10.504519  10.763208  13.132314  11.958579  10.267436  11.938193   \n",
              "2     2  10.495709  10.747208  13.132314  11.936178  10.268131  11.944708   \n",
              "3     3  10.478977  10.756838  13.132314  11.955410  10.249910  11.941456   \n",
              "4     4  10.496814  10.778956  13.132314  11.955410  10.261861  11.925035   \n",
              "\n",
              "      000270     068270     005490  ...     011790    005940     128940  \\\n",
              "0  10.584056  11.490281  12.470358  ...  10.422281  9.176784  12.360269   \n",
              "1  10.615211  11.475390  12.452933  ...  10.431170  9.182969  12.369024   \n",
              "2  10.628618  11.470686  12.447056  ...  10.392068  9.205328  12.401582   \n",
              "3  10.623763  11.473509  12.419166  ...  10.390533  9.210340  12.404952   \n",
              "4  10.615211  11.463126  12.429216  ...  10.388995  9.215328  12.386292   \n",
              "\n",
              "      348370     036570     021240     307950     011780     071050    180640  \n",
              "0  11.289782  12.421184  11.386228  11.393015  11.355101  10.638256  9.595603  \n",
              "1  11.289782  12.464583  11.391887  11.393015  11.352757  10.633449  9.585346  \n",
              "2  11.289782  12.468437  11.398636  11.393015  11.333799  10.659610  9.598998  \n",
              "3  11.289782  12.472276  11.424094  11.393015  11.324183  10.680516  9.629051  \n",
              "4  11.289782  12.470358  11.429544  11.393015  11.324183  10.691945  9.648595  \n",
              "\n",
              "[5 rows x 100 columns]"
            ],
            "text/html": [
              "\n",
              "  <div id=\"df-18f7dc3a-d74c-4c61-8173-f2f18f6b6ad1\" class=\"colab-df-container\">\n",
              "    <div>\n",
              "<style scoped>\n",
              "    .dataframe tbody tr th:only-of-type {\n",
              "        vertical-align: middle;\n",
              "    }\n",
              "\n",
              "    .dataframe tbody tr th {\n",
              "        vertical-align: top;\n",
              "    }\n",
              "\n",
              "    .dataframe thead th {\n",
              "        text-align: right;\n",
              "    }\n",
              "</style>\n",
              "<table border=\"1\" class=\"dataframe\">\n",
              "  <thead>\n",
              "    <tr style=\"text-align: right;\">\n",
              "      <th></th>\n",
              "      <th>Date</th>\n",
              "      <th>005930</th>\n",
              "      <th>000660</th>\n",
              "      <th>373220</th>\n",
              "      <th>207940</th>\n",
              "      <th>005935</th>\n",
              "      <th>005380</th>\n",
              "      <th>000270</th>\n",
              "      <th>068270</th>\n",
              "      <th>005490</th>\n",
              "      <th>...</th>\n",
              "      <th>011790</th>\n",
              "      <th>005940</th>\n",
              "      <th>128940</th>\n",
              "      <th>348370</th>\n",
              "      <th>036570</th>\n",
              "      <th>021240</th>\n",
              "      <th>307950</th>\n",
              "      <th>011780</th>\n",
              "      <th>071050</th>\n",
              "      <th>180640</th>\n",
              "    </tr>\n",
              "  </thead>\n",
              "  <tbody>\n",
              "    <tr>\n",
              "      <th>0</th>\n",
              "      <td>0</td>\n",
              "      <td>10.494048</td>\n",
              "      <td>10.732039</td>\n",
              "      <td>13.132314</td>\n",
              "      <td>11.949036</td>\n",
              "      <td>10.268131</td>\n",
              "      <td>11.918391</td>\n",
              "      <td>10.584056</td>\n",
              "      <td>11.490281</td>\n",
              "      <td>12.470358</td>\n",
              "      <td>...</td>\n",
              "      <td>10.422281</td>\n",
              "      <td>9.176784</td>\n",
              "      <td>12.360269</td>\n",
              "      <td>11.289782</td>\n",
              "      <td>12.421184</td>\n",
              "      <td>11.386228</td>\n",
              "      <td>11.393015</td>\n",
              "      <td>11.355101</td>\n",
              "      <td>10.638256</td>\n",
              "      <td>9.595603</td>\n",
              "    </tr>\n",
              "    <tr>\n",
              "      <th>1</th>\n",
              "      <td>1</td>\n",
              "      <td>10.504519</td>\n",
              "      <td>10.763208</td>\n",
              "      <td>13.132314</td>\n",
              "      <td>11.958579</td>\n",
              "      <td>10.267436</td>\n",
              "      <td>11.938193</td>\n",
              "      <td>10.615211</td>\n",
              "      <td>11.475390</td>\n",
              "      <td>12.452933</td>\n",
              "      <td>...</td>\n",
              "      <td>10.431170</td>\n",
              "      <td>9.182969</td>\n",
              "      <td>12.369024</td>\n",
              "      <td>11.289782</td>\n",
              "      <td>12.464583</td>\n",
              "      <td>11.391887</td>\n",
              "      <td>11.393015</td>\n",
              "      <td>11.352757</td>\n",
              "      <td>10.633449</td>\n",
              "      <td>9.585346</td>\n",
              "    </tr>\n",
              "    <tr>\n",
              "      <th>2</th>\n",
              "      <td>2</td>\n",
              "      <td>10.495709</td>\n",
              "      <td>10.747208</td>\n",
              "      <td>13.132314</td>\n",
              "      <td>11.936178</td>\n",
              "      <td>10.268131</td>\n",
              "      <td>11.944708</td>\n",
              "      <td>10.628618</td>\n",
              "      <td>11.470686</td>\n",
              "      <td>12.447056</td>\n",
              "      <td>...</td>\n",
              "      <td>10.392068</td>\n",
              "      <td>9.205328</td>\n",
              "      <td>12.401582</td>\n",
              "      <td>11.289782</td>\n",
              "      <td>12.468437</td>\n",
              "      <td>11.398636</td>\n",
              "      <td>11.393015</td>\n",
              "      <td>11.333799</td>\n",
              "      <td>10.659610</td>\n",
              "      <td>9.598998</td>\n",
              "    </tr>\n",
              "    <tr>\n",
              "      <th>3</th>\n",
              "      <td>3</td>\n",
              "      <td>10.478977</td>\n",
              "      <td>10.756838</td>\n",
              "      <td>13.132314</td>\n",
              "      <td>11.955410</td>\n",
              "      <td>10.249910</td>\n",
              "      <td>11.941456</td>\n",
              "      <td>10.623763</td>\n",
              "      <td>11.473509</td>\n",
              "      <td>12.419166</td>\n",
              "      <td>...</td>\n",
              "      <td>10.390533</td>\n",
              "      <td>9.210340</td>\n",
              "      <td>12.404952</td>\n",
              "      <td>11.289782</td>\n",
              "      <td>12.472276</td>\n",
              "      <td>11.424094</td>\n",
              "      <td>11.393015</td>\n",
              "      <td>11.324183</td>\n",
              "      <td>10.680516</td>\n",
              "      <td>9.629051</td>\n",
              "    </tr>\n",
              "    <tr>\n",
              "      <th>4</th>\n",
              "      <td>4</td>\n",
              "      <td>10.496814</td>\n",
              "      <td>10.778956</td>\n",
              "      <td>13.132314</td>\n",
              "      <td>11.955410</td>\n",
              "      <td>10.261861</td>\n",
              "      <td>11.925035</td>\n",
              "      <td>10.615211</td>\n",
              "      <td>11.463126</td>\n",
              "      <td>12.429216</td>\n",
              "      <td>...</td>\n",
              "      <td>10.388995</td>\n",
              "      <td>9.215328</td>\n",
              "      <td>12.386292</td>\n",
              "      <td>11.289782</td>\n",
              "      <td>12.470358</td>\n",
              "      <td>11.429544</td>\n",
              "      <td>11.393015</td>\n",
              "      <td>11.324183</td>\n",
              "      <td>10.691945</td>\n",
              "      <td>9.648595</td>\n",
              "    </tr>\n",
              "  </tbody>\n",
              "</table>\n",
              "<p>5 rows × 100 columns</p>\n",
              "</div>\n",
              "    <div class=\"colab-df-buttons\">\n",
              "\n",
              "  <div class=\"colab-df-container\">\n",
              "    <button class=\"colab-df-convert\" onclick=\"convertToInteractive('df-18f7dc3a-d74c-4c61-8173-f2f18f6b6ad1')\"\n",
              "            title=\"Convert this dataframe to an interactive table.\"\n",
              "            style=\"display:none;\">\n",
              "\n",
              "  <svg xmlns=\"http://www.w3.org/2000/svg\" height=\"24px\" viewBox=\"0 -960 960 960\">\n",
              "    <path d=\"M120-120v-720h720v720H120Zm60-500h600v-160H180v160Zm220 220h160v-160H400v160Zm0 220h160v-160H400v160ZM180-400h160v-160H180v160Zm440 0h160v-160H620v160ZM180-180h160v-160H180v160Zm440 0h160v-160H620v160Z\"/>\n",
              "  </svg>\n",
              "    </button>\n",
              "\n",
              "  <style>\n",
              "    .colab-df-container {\n",
              "      display:flex;\n",
              "      gap: 12px;\n",
              "    }\n",
              "\n",
              "    .colab-df-convert {\n",
              "      background-color: #E8F0FE;\n",
              "      border: none;\n",
              "      border-radius: 50%;\n",
              "      cursor: pointer;\n",
              "      display: none;\n",
              "      fill: #1967D2;\n",
              "      height: 32px;\n",
              "      padding: 0 0 0 0;\n",
              "      width: 32px;\n",
              "    }\n",
              "\n",
              "    .colab-df-convert:hover {\n",
              "      background-color: #E2EBFA;\n",
              "      box-shadow: 0px 1px 2px rgba(60, 64, 67, 0.3), 0px 1px 3px 1px rgba(60, 64, 67, 0.15);\n",
              "      fill: #174EA6;\n",
              "    }\n",
              "\n",
              "    .colab-df-buttons div {\n",
              "      margin-bottom: 4px;\n",
              "    }\n",
              "\n",
              "    [theme=dark] .colab-df-convert {\n",
              "      background-color: #3B4455;\n",
              "      fill: #D2E3FC;\n",
              "    }\n",
              "\n",
              "    [theme=dark] .colab-df-convert:hover {\n",
              "      background-color: #434B5C;\n",
              "      box-shadow: 0px 1px 3px 1px rgba(0, 0, 0, 0.15);\n",
              "      filter: drop-shadow(0px 1px 2px rgba(0, 0, 0, 0.3));\n",
              "      fill: #FFFFFF;\n",
              "    }\n",
              "  </style>\n",
              "\n",
              "    <script>\n",
              "      const buttonEl =\n",
              "        document.querySelector('#df-18f7dc3a-d74c-4c61-8173-f2f18f6b6ad1 button.colab-df-convert');\n",
              "      buttonEl.style.display =\n",
              "        google.colab.kernel.accessAllowed ? 'block' : 'none';\n",
              "\n",
              "      async function convertToInteractive(key) {\n",
              "        const element = document.querySelector('#df-18f7dc3a-d74c-4c61-8173-f2f18f6b6ad1');\n",
              "        const dataTable =\n",
              "          await google.colab.kernel.invokeFunction('convertToInteractive',\n",
              "                                                    [key], {});\n",
              "        if (!dataTable) return;\n",
              "\n",
              "        const docLinkHtml = 'Like what you see? Visit the ' +\n",
              "          '<a target=\"_blank\" href=https://colab.research.google.com/notebooks/data_table.ipynb>data table notebook</a>'\n",
              "          + ' to learn more about interactive tables.';\n",
              "        element.innerHTML = '';\n",
              "        dataTable['output_type'] = 'display_data';\n",
              "        await google.colab.output.renderOutput(dataTable, element);\n",
              "        const docLink = document.createElement('div');\n",
              "        docLink.innerHTML = docLinkHtml;\n",
              "        element.appendChild(docLink);\n",
              "      }\n",
              "    </script>\n",
              "  </div>\n",
              "\n",
              "\n",
              "<div id=\"df-4a97f755-25ae-4226-8e97-30c29e6e5848\">\n",
              "  <button class=\"colab-df-quickchart\" onclick=\"quickchart('df-4a97f755-25ae-4226-8e97-30c29e6e5848')\"\n",
              "            title=\"Suggest charts\"\n",
              "            style=\"display:none;\">\n",
              "\n",
              "<svg xmlns=\"http://www.w3.org/2000/svg\" height=\"24px\"viewBox=\"0 0 24 24\"\n",
              "     width=\"24px\">\n",
              "    <g>\n",
              "        <path d=\"M19 3H5c-1.1 0-2 .9-2 2v14c0 1.1.9 2 2 2h14c1.1 0 2-.9 2-2V5c0-1.1-.9-2-2-2zM9 17H7v-7h2v7zm4 0h-2V7h2v10zm4 0h-2v-4h2v4z\"/>\n",
              "    </g>\n",
              "</svg>\n",
              "  </button>\n",
              "\n",
              "<style>\n",
              "  .colab-df-quickchart {\n",
              "      --bg-color: #E8F0FE;\n",
              "      --fill-color: #1967D2;\n",
              "      --hover-bg-color: #E2EBFA;\n",
              "      --hover-fill-color: #174EA6;\n",
              "      --disabled-fill-color: #AAA;\n",
              "      --disabled-bg-color: #DDD;\n",
              "  }\n",
              "\n",
              "  [theme=dark] .colab-df-quickchart {\n",
              "      --bg-color: #3B4455;\n",
              "      --fill-color: #D2E3FC;\n",
              "      --hover-bg-color: #434B5C;\n",
              "      --hover-fill-color: #FFFFFF;\n",
              "      --disabled-bg-color: #3B4455;\n",
              "      --disabled-fill-color: #666;\n",
              "  }\n",
              "\n",
              "  .colab-df-quickchart {\n",
              "    background-color: var(--bg-color);\n",
              "    border: none;\n",
              "    border-radius: 50%;\n",
              "    cursor: pointer;\n",
              "    display: none;\n",
              "    fill: var(--fill-color);\n",
              "    height: 32px;\n",
              "    padding: 0;\n",
              "    width: 32px;\n",
              "  }\n",
              "\n",
              "  .colab-df-quickchart:hover {\n",
              "    background-color: var(--hover-bg-color);\n",
              "    box-shadow: 0 1px 2px rgba(60, 64, 67, 0.3), 0 1px 3px 1px rgba(60, 64, 67, 0.15);\n",
              "    fill: var(--button-hover-fill-color);\n",
              "  }\n",
              "\n",
              "  .colab-df-quickchart-complete:disabled,\n",
              "  .colab-df-quickchart-complete:disabled:hover {\n",
              "    background-color: var(--disabled-bg-color);\n",
              "    fill: var(--disabled-fill-color);\n",
              "    box-shadow: none;\n",
              "  }\n",
              "\n",
              "  .colab-df-spinner {\n",
              "    border: 2px solid var(--fill-color);\n",
              "    border-color: transparent;\n",
              "    border-bottom-color: var(--fill-color);\n",
              "    animation:\n",
              "      spin 1s steps(1) infinite;\n",
              "  }\n",
              "\n",
              "  @keyframes spin {\n",
              "    0% {\n",
              "      border-color: transparent;\n",
              "      border-bottom-color: var(--fill-color);\n",
              "      border-left-color: var(--fill-color);\n",
              "    }\n",
              "    20% {\n",
              "      border-color: transparent;\n",
              "      border-left-color: var(--fill-color);\n",
              "      border-top-color: var(--fill-color);\n",
              "    }\n",
              "    30% {\n",
              "      border-color: transparent;\n",
              "      border-left-color: var(--fill-color);\n",
              "      border-top-color: var(--fill-color);\n",
              "      border-right-color: var(--fill-color);\n",
              "    }\n",
              "    40% {\n",
              "      border-color: transparent;\n",
              "      border-right-color: var(--fill-color);\n",
              "      border-top-color: var(--fill-color);\n",
              "    }\n",
              "    60% {\n",
              "      border-color: transparent;\n",
              "      border-right-color: var(--fill-color);\n",
              "    }\n",
              "    80% {\n",
              "      border-color: transparent;\n",
              "      border-right-color: var(--fill-color);\n",
              "      border-bottom-color: var(--fill-color);\n",
              "    }\n",
              "    90% {\n",
              "      border-color: transparent;\n",
              "      border-bottom-color: var(--fill-color);\n",
              "    }\n",
              "  }\n",
              "</style>\n",
              "\n",
              "  <script>\n",
              "    async function quickchart(key) {\n",
              "      const quickchartButtonEl =\n",
              "        document.querySelector('#' + key + ' button');\n",
              "      quickchartButtonEl.disabled = true;  // To prevent multiple clicks.\n",
              "      quickchartButtonEl.classList.add('colab-df-spinner');\n",
              "      try {\n",
              "        const charts = await google.colab.kernel.invokeFunction(\n",
              "            'suggestCharts', [key], {});\n",
              "      } catch (error) {\n",
              "        console.error('Error during call to suggestCharts:', error);\n",
              "      }\n",
              "      quickchartButtonEl.classList.remove('colab-df-spinner');\n",
              "      quickchartButtonEl.classList.add('colab-df-quickchart-complete');\n",
              "    }\n",
              "    (() => {\n",
              "      let quickchartButtonEl =\n",
              "        document.querySelector('#df-4a97f755-25ae-4226-8e97-30c29e6e5848 button');\n",
              "      quickchartButtonEl.style.display =\n",
              "        google.colab.kernel.accessAllowed ? 'block' : 'none';\n",
              "    })();\n",
              "  </script>\n",
              "</div>\n",
              "\n",
              "    </div>\n",
              "  </div>\n"
            ],
            "application/vnd.google.colaboratory.intrinsic+json": {
              "type": "dataframe",
              "variable_name": "df"
            }
          },
          "metadata": {},
          "execution_count": 8
        }
      ]
    },
    {
      "cell_type": "code",
      "source": [
        "from sklearn.preprocessing import StandardScaler\n",
        "scaler = StandardScaler()\n",
        "X_scaled = scaler.fit_transform(df.iloc[:,1:])\n",
        "df1=pd.DataFrame(X_scaled,columns=df.columns[1:])\n",
        "\n",
        "df=pd.concat([df.iloc[:,0],df1], axis=1)\n",
        "df.head()"
      ],
      "metadata": {
        "colab": {
          "base_uri": "https://localhost:8080/",
          "height": 256
        },
        "id": "kBlwJWoBXvWL",
        "outputId": "5779e243-70d3-4772-e038-d1dbcdfc15ed"
      },
      "execution_count": null,
      "outputs": [
        {
          "output_type": "execute_result",
          "data": {
            "text/plain": [
              "   Date    005930    000660    373220    207940    005935    005380    000270  \\\n",
              "0     0 -2.107299 -2.569473  0.224231 -2.575426 -2.025401 -0.268020 -0.682806   \n",
              "1     1 -2.059658 -2.450970  0.224231 -2.555622 -2.028080 -0.186726 -0.608987   \n",
              "2     2 -2.099743 -2.511803  0.224231 -2.602112 -2.025401 -0.159981 -0.577221   \n",
              "3     3 -2.175868 -2.475187  0.224231 -2.562198 -2.095659 -0.173332 -0.588723   \n",
              "4     4 -2.094713 -2.391095  0.224231 -2.562198 -2.049576 -0.240742 -0.608987   \n",
              "\n",
              "     068270    005490  ...    011790    005940    128940    348370    036570  \\\n",
              "0 -1.943845 -0.422434  ... -1.251501 -1.104138 -1.375437  0.059715 -1.638362   \n",
              "1 -1.990214 -0.488929  ... -1.235817 -1.067808 -1.333552  0.059715 -1.526720   \n",
              "2 -2.004862 -0.511354  ... -1.304812 -0.936488 -1.177803  0.059715 -1.516807   \n",
              "3 -1.996072 -0.617783  ... -1.307520 -0.907048 -1.161680  0.059715 -1.506932   \n",
              "4 -2.028403 -0.579431  ... -1.310232 -0.877755 -1.250947  0.059715 -1.511865   \n",
              "\n",
              "     021240    307950    011780    071050    180640  \n",
              "0  0.779472 -0.087771 -0.773262 -2.235067 -2.017066  \n",
              "1  0.803395 -0.087771 -0.779767 -2.257639 -2.037837  \n",
              "2  0.831925 -0.087771 -0.832358 -2.134814 -2.010189  \n",
              "3  0.939541 -0.087771 -0.859033 -2.036657 -1.949328  \n",
              "4  0.962578 -0.087771 -0.859033 -1.982999 -1.909747  \n",
              "\n",
              "[5 rows x 100 columns]"
            ],
            "text/html": [
              "\n",
              "  <div id=\"df-2789cec0-2931-4306-952b-47990010a80b\" class=\"colab-df-container\">\n",
              "    <div>\n",
              "<style scoped>\n",
              "    .dataframe tbody tr th:only-of-type {\n",
              "        vertical-align: middle;\n",
              "    }\n",
              "\n",
              "    .dataframe tbody tr th {\n",
              "        vertical-align: top;\n",
              "    }\n",
              "\n",
              "    .dataframe thead th {\n",
              "        text-align: right;\n",
              "    }\n",
              "</style>\n",
              "<table border=\"1\" class=\"dataframe\">\n",
              "  <thead>\n",
              "    <tr style=\"text-align: right;\">\n",
              "      <th></th>\n",
              "      <th>Date</th>\n",
              "      <th>005930</th>\n",
              "      <th>000660</th>\n",
              "      <th>373220</th>\n",
              "      <th>207940</th>\n",
              "      <th>005935</th>\n",
              "      <th>005380</th>\n",
              "      <th>000270</th>\n",
              "      <th>068270</th>\n",
              "      <th>005490</th>\n",
              "      <th>...</th>\n",
              "      <th>011790</th>\n",
              "      <th>005940</th>\n",
              "      <th>128940</th>\n",
              "      <th>348370</th>\n",
              "      <th>036570</th>\n",
              "      <th>021240</th>\n",
              "      <th>307950</th>\n",
              "      <th>011780</th>\n",
              "      <th>071050</th>\n",
              "      <th>180640</th>\n",
              "    </tr>\n",
              "  </thead>\n",
              "  <tbody>\n",
              "    <tr>\n",
              "      <th>0</th>\n",
              "      <td>0</td>\n",
              "      <td>-2.107299</td>\n",
              "      <td>-2.569473</td>\n",
              "      <td>0.224231</td>\n",
              "      <td>-2.575426</td>\n",
              "      <td>-2.025401</td>\n",
              "      <td>-0.268020</td>\n",
              "      <td>-0.682806</td>\n",
              "      <td>-1.943845</td>\n",
              "      <td>-0.422434</td>\n",
              "      <td>...</td>\n",
              "      <td>-1.251501</td>\n",
              "      <td>-1.104138</td>\n",
              "      <td>-1.375437</td>\n",
              "      <td>0.059715</td>\n",
              "      <td>-1.638362</td>\n",
              "      <td>0.779472</td>\n",
              "      <td>-0.087771</td>\n",
              "      <td>-0.773262</td>\n",
              "      <td>-2.235067</td>\n",
              "      <td>-2.017066</td>\n",
              "    </tr>\n",
              "    <tr>\n",
              "      <th>1</th>\n",
              "      <td>1</td>\n",
              "      <td>-2.059658</td>\n",
              "      <td>-2.450970</td>\n",
              "      <td>0.224231</td>\n",
              "      <td>-2.555622</td>\n",
              "      <td>-2.028080</td>\n",
              "      <td>-0.186726</td>\n",
              "      <td>-0.608987</td>\n",
              "      <td>-1.990214</td>\n",
              "      <td>-0.488929</td>\n",
              "      <td>...</td>\n",
              "      <td>-1.235817</td>\n",
              "      <td>-1.067808</td>\n",
              "      <td>-1.333552</td>\n",
              "      <td>0.059715</td>\n",
              "      <td>-1.526720</td>\n",
              "      <td>0.803395</td>\n",
              "      <td>-0.087771</td>\n",
              "      <td>-0.779767</td>\n",
              "      <td>-2.257639</td>\n",
              "      <td>-2.037837</td>\n",
              "    </tr>\n",
              "    <tr>\n",
              "      <th>2</th>\n",
              "      <td>2</td>\n",
              "      <td>-2.099743</td>\n",
              "      <td>-2.511803</td>\n",
              "      <td>0.224231</td>\n",
              "      <td>-2.602112</td>\n",
              "      <td>-2.025401</td>\n",
              "      <td>-0.159981</td>\n",
              "      <td>-0.577221</td>\n",
              "      <td>-2.004862</td>\n",
              "      <td>-0.511354</td>\n",
              "      <td>...</td>\n",
              "      <td>-1.304812</td>\n",
              "      <td>-0.936488</td>\n",
              "      <td>-1.177803</td>\n",
              "      <td>0.059715</td>\n",
              "      <td>-1.516807</td>\n",
              "      <td>0.831925</td>\n",
              "      <td>-0.087771</td>\n",
              "      <td>-0.832358</td>\n",
              "      <td>-2.134814</td>\n",
              "      <td>-2.010189</td>\n",
              "    </tr>\n",
              "    <tr>\n",
              "      <th>3</th>\n",
              "      <td>3</td>\n",
              "      <td>-2.175868</td>\n",
              "      <td>-2.475187</td>\n",
              "      <td>0.224231</td>\n",
              "      <td>-2.562198</td>\n",
              "      <td>-2.095659</td>\n",
              "      <td>-0.173332</td>\n",
              "      <td>-0.588723</td>\n",
              "      <td>-1.996072</td>\n",
              "      <td>-0.617783</td>\n",
              "      <td>...</td>\n",
              "      <td>-1.307520</td>\n",
              "      <td>-0.907048</td>\n",
              "      <td>-1.161680</td>\n",
              "      <td>0.059715</td>\n",
              "      <td>-1.506932</td>\n",
              "      <td>0.939541</td>\n",
              "      <td>-0.087771</td>\n",
              "      <td>-0.859033</td>\n",
              "      <td>-2.036657</td>\n",
              "      <td>-1.949328</td>\n",
              "    </tr>\n",
              "    <tr>\n",
              "      <th>4</th>\n",
              "      <td>4</td>\n",
              "      <td>-2.094713</td>\n",
              "      <td>-2.391095</td>\n",
              "      <td>0.224231</td>\n",
              "      <td>-2.562198</td>\n",
              "      <td>-2.049576</td>\n",
              "      <td>-0.240742</td>\n",
              "      <td>-0.608987</td>\n",
              "      <td>-2.028403</td>\n",
              "      <td>-0.579431</td>\n",
              "      <td>...</td>\n",
              "      <td>-1.310232</td>\n",
              "      <td>-0.877755</td>\n",
              "      <td>-1.250947</td>\n",
              "      <td>0.059715</td>\n",
              "      <td>-1.511865</td>\n",
              "      <td>0.962578</td>\n",
              "      <td>-0.087771</td>\n",
              "      <td>-0.859033</td>\n",
              "      <td>-1.982999</td>\n",
              "      <td>-1.909747</td>\n",
              "    </tr>\n",
              "  </tbody>\n",
              "</table>\n",
              "<p>5 rows × 100 columns</p>\n",
              "</div>\n",
              "    <div class=\"colab-df-buttons\">\n",
              "\n",
              "  <div class=\"colab-df-container\">\n",
              "    <button class=\"colab-df-convert\" onclick=\"convertToInteractive('df-2789cec0-2931-4306-952b-47990010a80b')\"\n",
              "            title=\"Convert this dataframe to an interactive table.\"\n",
              "            style=\"display:none;\">\n",
              "\n",
              "  <svg xmlns=\"http://www.w3.org/2000/svg\" height=\"24px\" viewBox=\"0 -960 960 960\">\n",
              "    <path d=\"M120-120v-720h720v720H120Zm60-500h600v-160H180v160Zm220 220h160v-160H400v160Zm0 220h160v-160H400v160ZM180-400h160v-160H180v160Zm440 0h160v-160H620v160ZM180-180h160v-160H180v160Zm440 0h160v-160H620v160Z\"/>\n",
              "  </svg>\n",
              "    </button>\n",
              "\n",
              "  <style>\n",
              "    .colab-df-container {\n",
              "      display:flex;\n",
              "      gap: 12px;\n",
              "    }\n",
              "\n",
              "    .colab-df-convert {\n",
              "      background-color: #E8F0FE;\n",
              "      border: none;\n",
              "      border-radius: 50%;\n",
              "      cursor: pointer;\n",
              "      display: none;\n",
              "      fill: #1967D2;\n",
              "      height: 32px;\n",
              "      padding: 0 0 0 0;\n",
              "      width: 32px;\n",
              "    }\n",
              "\n",
              "    .colab-df-convert:hover {\n",
              "      background-color: #E2EBFA;\n",
              "      box-shadow: 0px 1px 2px rgba(60, 64, 67, 0.3), 0px 1px 3px 1px rgba(60, 64, 67, 0.15);\n",
              "      fill: #174EA6;\n",
              "    }\n",
              "\n",
              "    .colab-df-buttons div {\n",
              "      margin-bottom: 4px;\n",
              "    }\n",
              "\n",
              "    [theme=dark] .colab-df-convert {\n",
              "      background-color: #3B4455;\n",
              "      fill: #D2E3FC;\n",
              "    }\n",
              "\n",
              "    [theme=dark] .colab-df-convert:hover {\n",
              "      background-color: #434B5C;\n",
              "      box-shadow: 0px 1px 3px 1px rgba(0, 0, 0, 0.15);\n",
              "      filter: drop-shadow(0px 1px 2px rgba(0, 0, 0, 0.3));\n",
              "      fill: #FFFFFF;\n",
              "    }\n",
              "  </style>\n",
              "\n",
              "    <script>\n",
              "      const buttonEl =\n",
              "        document.querySelector('#df-2789cec0-2931-4306-952b-47990010a80b button.colab-df-convert');\n",
              "      buttonEl.style.display =\n",
              "        google.colab.kernel.accessAllowed ? 'block' : 'none';\n",
              "\n",
              "      async function convertToInteractive(key) {\n",
              "        const element = document.querySelector('#df-2789cec0-2931-4306-952b-47990010a80b');\n",
              "        const dataTable =\n",
              "          await google.colab.kernel.invokeFunction('convertToInteractive',\n",
              "                                                    [key], {});\n",
              "        if (!dataTable) return;\n",
              "\n",
              "        const docLinkHtml = 'Like what you see? Visit the ' +\n",
              "          '<a target=\"_blank\" href=https://colab.research.google.com/notebooks/data_table.ipynb>data table notebook</a>'\n",
              "          + ' to learn more about interactive tables.';\n",
              "        element.innerHTML = '';\n",
              "        dataTable['output_type'] = 'display_data';\n",
              "        await google.colab.output.renderOutput(dataTable, element);\n",
              "        const docLink = document.createElement('div');\n",
              "        docLink.innerHTML = docLinkHtml;\n",
              "        element.appendChild(docLink);\n",
              "      }\n",
              "    </script>\n",
              "  </div>\n",
              "\n",
              "\n",
              "<div id=\"df-eb592cb0-c000-4c57-a69e-5df33a28e05b\">\n",
              "  <button class=\"colab-df-quickchart\" onclick=\"quickchart('df-eb592cb0-c000-4c57-a69e-5df33a28e05b')\"\n",
              "            title=\"Suggest charts\"\n",
              "            style=\"display:none;\">\n",
              "\n",
              "<svg xmlns=\"http://www.w3.org/2000/svg\" height=\"24px\"viewBox=\"0 0 24 24\"\n",
              "     width=\"24px\">\n",
              "    <g>\n",
              "        <path d=\"M19 3H5c-1.1 0-2 .9-2 2v14c0 1.1.9 2 2 2h14c1.1 0 2-.9 2-2V5c0-1.1-.9-2-2-2zM9 17H7v-7h2v7zm4 0h-2V7h2v10zm4 0h-2v-4h2v4z\"/>\n",
              "    </g>\n",
              "</svg>\n",
              "  </button>\n",
              "\n",
              "<style>\n",
              "  .colab-df-quickchart {\n",
              "      --bg-color: #E8F0FE;\n",
              "      --fill-color: #1967D2;\n",
              "      --hover-bg-color: #E2EBFA;\n",
              "      --hover-fill-color: #174EA6;\n",
              "      --disabled-fill-color: #AAA;\n",
              "      --disabled-bg-color: #DDD;\n",
              "  }\n",
              "\n",
              "  [theme=dark] .colab-df-quickchart {\n",
              "      --bg-color: #3B4455;\n",
              "      --fill-color: #D2E3FC;\n",
              "      --hover-bg-color: #434B5C;\n",
              "      --hover-fill-color: #FFFFFF;\n",
              "      --disabled-bg-color: #3B4455;\n",
              "      --disabled-fill-color: #666;\n",
              "  }\n",
              "\n",
              "  .colab-df-quickchart {\n",
              "    background-color: var(--bg-color);\n",
              "    border: none;\n",
              "    border-radius: 50%;\n",
              "    cursor: pointer;\n",
              "    display: none;\n",
              "    fill: var(--fill-color);\n",
              "    height: 32px;\n",
              "    padding: 0;\n",
              "    width: 32px;\n",
              "  }\n",
              "\n",
              "  .colab-df-quickchart:hover {\n",
              "    background-color: var(--hover-bg-color);\n",
              "    box-shadow: 0 1px 2px rgba(60, 64, 67, 0.3), 0 1px 3px 1px rgba(60, 64, 67, 0.15);\n",
              "    fill: var(--button-hover-fill-color);\n",
              "  }\n",
              "\n",
              "  .colab-df-quickchart-complete:disabled,\n",
              "  .colab-df-quickchart-complete:disabled:hover {\n",
              "    background-color: var(--disabled-bg-color);\n",
              "    fill: var(--disabled-fill-color);\n",
              "    box-shadow: none;\n",
              "  }\n",
              "\n",
              "  .colab-df-spinner {\n",
              "    border: 2px solid var(--fill-color);\n",
              "    border-color: transparent;\n",
              "    border-bottom-color: var(--fill-color);\n",
              "    animation:\n",
              "      spin 1s steps(1) infinite;\n",
              "  }\n",
              "\n",
              "  @keyframes spin {\n",
              "    0% {\n",
              "      border-color: transparent;\n",
              "      border-bottom-color: var(--fill-color);\n",
              "      border-left-color: var(--fill-color);\n",
              "    }\n",
              "    20% {\n",
              "      border-color: transparent;\n",
              "      border-left-color: var(--fill-color);\n",
              "      border-top-color: var(--fill-color);\n",
              "    }\n",
              "    30% {\n",
              "      border-color: transparent;\n",
              "      border-left-color: var(--fill-color);\n",
              "      border-top-color: var(--fill-color);\n",
              "      border-right-color: var(--fill-color);\n",
              "    }\n",
              "    40% {\n",
              "      border-color: transparent;\n",
              "      border-right-color: var(--fill-color);\n",
              "      border-top-color: var(--fill-color);\n",
              "    }\n",
              "    60% {\n",
              "      border-color: transparent;\n",
              "      border-right-color: var(--fill-color);\n",
              "    }\n",
              "    80% {\n",
              "      border-color: transparent;\n",
              "      border-right-color: var(--fill-color);\n",
              "      border-bottom-color: var(--fill-color);\n",
              "    }\n",
              "    90% {\n",
              "      border-color: transparent;\n",
              "      border-bottom-color: var(--fill-color);\n",
              "    }\n",
              "  }\n",
              "</style>\n",
              "\n",
              "  <script>\n",
              "    async function quickchart(key) {\n",
              "      const quickchartButtonEl =\n",
              "        document.querySelector('#' + key + ' button');\n",
              "      quickchartButtonEl.disabled = true;  // To prevent multiple clicks.\n",
              "      quickchartButtonEl.classList.add('colab-df-spinner');\n",
              "      try {\n",
              "        const charts = await google.colab.kernel.invokeFunction(\n",
              "            'suggestCharts', [key], {});\n",
              "      } catch (error) {\n",
              "        console.error('Error during call to suggestCharts:', error);\n",
              "      }\n",
              "      quickchartButtonEl.classList.remove('colab-df-spinner');\n",
              "      quickchartButtonEl.classList.add('colab-df-quickchart-complete');\n",
              "    }\n",
              "    (() => {\n",
              "      let quickchartButtonEl =\n",
              "        document.querySelector('#df-eb592cb0-c000-4c57-a69e-5df33a28e05b button');\n",
              "      quickchartButtonEl.style.display =\n",
              "        google.colab.kernel.accessAllowed ? 'block' : 'none';\n",
              "    })();\n",
              "  </script>\n",
              "</div>\n",
              "\n",
              "    </div>\n",
              "  </div>\n"
            ],
            "application/vnd.google.colaboratory.intrinsic+json": {
              "type": "dataframe",
              "variable_name": "df"
            }
          },
          "metadata": {},
          "execution_count": 17
        }
      ]
    },
    {
      "cell_type": "code",
      "source": [
        "#train vs validation vs test 6:3:1\n",
        "\n",
        "import math\n",
        "train_len=math.ceil(len(df)*0.9)\n",
        "\n",
        "train_df=df.iloc[:train_len,:]\n",
        "test_df=df.iloc[train_len:,:]"
      ],
      "metadata": {
        "id": "5ytf6BpHZS0K"
      },
      "execution_count": null,
      "outputs": []
    },
    {
      "cell_type": "code",
      "source": [
        "ex=pd.DataFrame(list(range(1609,1776)),columns=['date'])\n",
        "\n",
        "window_size = 10\n",
        "forcast_size= 5\n",
        "batch_size = 32\n",
        "date = 'Date'"
      ],
      "metadata": {
        "id": "1EBOWW6lZXGO"
      },
      "execution_count": null,
      "outputs": []
    },
    {
      "cell_type": "code",
      "source": [
        "for col in df.columns[1:]:\n",
        "\n",
        "  targets = col\n",
        "\n",
        "  train_x, train_y, train_date = time_slide_df(train_df_fe, window_size, forcast_size, date, targets)\n",
        "  test_x, test_y, test_date = time_slide_df(test_df_fe, window_size, forcast_size, date, targets)\n",
        "\n",
        "  valid_len=math.ceil(len(train_x)*(2/3)) #train vs validation 6:3\n",
        "\n",
        "  train_ds = Data(train_x[:valid_len], train_y[:valid_len])\n",
        "  valid_ds = Data(train_x[valid_len:], train_y[valid_len:])\n",
        "  test_ds = Data(test_x, test_y)\n",
        "\n",
        "  train_dl = DataLoader(train_ds, batch_size = batch_size, shuffle=False,)\n",
        "  valid_dl = DataLoader(valid_ds, batch_size = train_x[valid_len:].shape[0], shuffle=False)\n",
        "  test_dl  = DataLoader(test_ds,  batch_size = test_x.shape[0], shuffle=False)\n",
        "\n",
        "  train_loss_list = []\n",
        "  valid_loss_list = []\n",
        "  test_loss_list = []\n",
        "  epoch = 30\n",
        "  lr = 0.001\n",
        "  DLinear_model = LTSF_DLinear(\n",
        "                              window_size=window_size,\n",
        "                              forcast_size=forcast_size,\n",
        "                              kernel_size=25,\n",
        "                              individual=False,\n",
        "                              feature_size=1,\n",
        "                              )\n",
        "  criterion = torch.nn.MSELoss()\n",
        "  optimizer = torch.optim.Adam(DLinear_model.parameters(), lr=lr)\n",
        "  max_loss = 999999999\n",
        "\n",
        "  for epoch in tqdm(range(1, epoch+1)):\n",
        "    loss_list = []\n",
        "    DLinear_model.train()\n",
        "    for batch_idx, (data, target) in enumerate(train_dl):\n",
        "        optimizer.zero_grad()\n",
        "        output = DLinear_model(data)\n",
        "        loss = criterion(output, target.unsqueeze(-1))\n",
        "        loss.backward()\n",
        "        optimizer.step()\n",
        "        loss_list.append(loss.item())\n",
        "    train_loss_list.append(np.mean(loss_list))\n",
        "\n",
        "    DLinear_model.eval()\n",
        "    with torch.no_grad():\n",
        "        for data, target in valid_dl:\n",
        "            output = DLinear_model(data)\n",
        "            valid_loss = criterion(output, target.unsqueeze(-1))\n",
        "            valid_loss_list.append(valid_loss)\n",
        "\n",
        "        for data, target in test_dl:\n",
        "            output = DLinear_model(data)\n",
        "            test_loss = criterion(output, target.unsqueeze(-1))\n",
        "            test_loss_list.append(test_loss)\n",
        "\n",
        "    if valid_loss < max_loss:\n",
        "        torch.save(DLinear_model, 'DLinear_model.pth')\n",
        "        max_loss = valid_loss\n",
        "        print(\"valid_loss={:.3f}, test_los{:.3f}, Model Save\".format(valid_loss, test_loss))\n",
        "        dlinear_best_epoch = epoch\n",
        "        dlinear_best_train_loss = np.mean(loss_list)\n",
        "        dlinear_best_valid_loss = np.mean(valid_loss.item())\n",
        "        dlinear_best_test_loss = np.mean(test_loss.item())\n",
        "\n",
        "    print(\"epoch = {}, train_loss : {:.3f}, valid_loss : {:.3f}, test_loss : {:.3f}\".format(epoch, np.mean(loss_list), valid_loss, test_loss))\n",
        "\n",
        "  final_output=output.reshape(-1,1)\n",
        "  final=pd.DataFrame(final_output, columns = [col])\n",
        "  ex=pd.concat([ex, final], axis=1)"
      ],
      "metadata": {
        "colab": {
          "base_uri": "https://localhost:8080/"
        },
        "id": "BkeOOG-CZZhh",
        "outputId": "c1ca267c-2a33-4b12-d4c1-f039c6a76354"
      },
      "execution_count": null,
      "outputs": [
        {
          "output_type": "stream",
          "name": "stderr",
          "text": [
            "  7%|▋         | 2/30 [00:00<00:02, 13.25it/s]"
          ]
        },
        {
          "output_type": "stream",
          "name": "stdout",
          "text": [
            "valid_loss=0.075, test_los0.073, Model Save\n",
            "epoch = 1, train_loss : 0.055, valid_loss : 0.075, test_loss : 0.073\n",
            "valid_loss=0.036, test_los0.031, Model Save\n",
            "epoch = 2, train_loss : 0.038, valid_loss : 0.036, test_loss : 0.031\n",
            "valid_loss=0.025, test_los0.020, Model Save\n",
            "epoch = 3, train_loss : 0.033, valid_loss : 0.025, test_loss : 0.020\n"
          ]
        },
        {
          "output_type": "stream",
          "name": "stderr",
          "text": [
            " 20%|██        | 6/30 [00:00<00:01, 13.95it/s]"
          ]
        },
        {
          "output_type": "stream",
          "name": "stdout",
          "text": [
            "valid_loss=0.020, test_los0.016, Model Save\n",
            "epoch = 4, train_loss : 0.029, valid_loss : 0.020, test_loss : 0.016\n",
            "valid_loss=0.017, test_los0.013, Model Save\n",
            "epoch = 5, train_loss : 0.027, valid_loss : 0.017, test_loss : 0.013\n",
            "valid_loss=0.015, test_los0.012, Model Save\n",
            "epoch = 6, train_loss : 0.025, valid_loss : 0.015, test_loss : 0.012\n"
          ]
        },
        {
          "output_type": "stream",
          "name": "stderr",
          "text": [
            "\r 27%|██▋       | 8/30 [00:00<00:01, 13.70it/s]"
          ]
        },
        {
          "output_type": "stream",
          "name": "stdout",
          "text": [
            "valid_loss=0.015, test_los0.011, Model Save\n",
            "epoch = 7, train_loss : 0.024, valid_loss : 0.015, test_loss : 0.011\n",
            "valid_loss=0.014, test_los0.011, Model Save\n",
            "epoch = 8, train_loss : 0.023, valid_loss : 0.014, test_loss : 0.011\n",
            "valid_loss=0.014, test_los0.011, Model Save\n",
            "epoch = 9, train_loss : 0.023, valid_loss : 0.014, test_loss : 0.011\n"
          ]
        },
        {
          "output_type": "stream",
          "name": "stderr",
          "text": [
            " 40%|████      | 12/30 [00:00<00:01, 13.48it/s]"
          ]
        },
        {
          "output_type": "stream",
          "name": "stdout",
          "text": [
            "valid_loss=0.013, test_los0.011, Model Save\n",
            "epoch = 10, train_loss : 0.022, valid_loss : 0.013, test_loss : 0.011\n",
            "valid_loss=0.013, test_los0.011, Model Save\n",
            "epoch = 11, train_loss : 0.022, valid_loss : 0.013, test_loss : 0.011\n",
            "valid_loss=0.013, test_los0.011, Model Save\n",
            "epoch = 12, train_loss : 0.022, valid_loss : 0.013, test_loss : 0.011\n"
          ]
        },
        {
          "output_type": "stream",
          "name": "stderr",
          "text": [
            "\r 47%|████▋     | 14/30 [00:01<00:01, 13.54it/s]"
          ]
        },
        {
          "output_type": "stream",
          "name": "stdout",
          "text": [
            "valid_loss=0.013, test_los0.011, Model Save\n",
            "epoch = 13, train_loss : 0.021, valid_loss : 0.013, test_loss : 0.011\n",
            "valid_loss=0.013, test_los0.011, Model Save\n",
            "epoch = 14, train_loss : 0.021, valid_loss : 0.013, test_loss : 0.011\n",
            "valid_loss=0.012, test_los0.011, Model Save\n",
            "epoch = 15, train_loss : 0.021, valid_loss : 0.012, test_loss : 0.011\n"
          ]
        },
        {
          "output_type": "stream",
          "name": "stderr",
          "text": [
            " 60%|██████    | 18/30 [00:01<00:00, 13.19it/s]"
          ]
        },
        {
          "output_type": "stream",
          "name": "stdout",
          "text": [
            "valid_loss=0.012, test_los0.011, Model Save\n",
            "epoch = 16, train_loss : 0.021, valid_loss : 0.012, test_loss : 0.011\n",
            "valid_loss=0.012, test_los0.010, Model Save\n",
            "epoch = 17, train_loss : 0.021, valid_loss : 0.012, test_loss : 0.010\n",
            "valid_loss=0.012, test_los0.010, Model Save\n",
            "epoch = 18, train_loss : 0.020, valid_loss : 0.012, test_loss : 0.010\n"
          ]
        },
        {
          "output_type": "stream",
          "name": "stderr",
          "text": [
            "\r 67%|██████▋   | 20/30 [00:01<00:00, 13.15it/s]"
          ]
        },
        {
          "output_type": "stream",
          "name": "stdout",
          "text": [
            "valid_loss=0.012, test_los0.010, Model Save\n",
            "epoch = 19, train_loss : 0.020, valid_loss : 0.012, test_loss : 0.010\n",
            "valid_loss=0.012, test_los0.010, Model Save\n",
            "epoch = 20, train_loss : 0.020, valid_loss : 0.012, test_loss : 0.010\n",
            "valid_loss=0.012, test_los0.010, Model Save\n",
            "epoch = 21, train_loss : 0.020, valid_loss : 0.012, test_loss : 0.010\n"
          ]
        },
        {
          "output_type": "stream",
          "name": "stderr",
          "text": [
            " 80%|████████  | 24/30 [00:01<00:00, 13.12it/s]"
          ]
        },
        {
          "output_type": "stream",
          "name": "stdout",
          "text": [
            "valid_loss=0.012, test_los0.010, Model Save\n",
            "epoch = 22, train_loss : 0.020, valid_loss : 0.012, test_loss : 0.010\n",
            "valid_loss=0.012, test_los0.010, Model Save\n",
            "epoch = 23, train_loss : 0.020, valid_loss : 0.012, test_loss : 0.010\n",
            "valid_loss=0.012, test_los0.010, Model Save\n",
            "epoch = 24, train_loss : 0.020, valid_loss : 0.012, test_loss : 0.010\n"
          ]
        },
        {
          "output_type": "stream",
          "name": "stderr",
          "text": [
            "\r 87%|████████▋ | 26/30 [00:01<00:00, 12.77it/s]"
          ]
        },
        {
          "output_type": "stream",
          "name": "stdout",
          "text": [
            "valid_loss=0.012, test_los0.010, Model Save\n",
            "epoch = 25, train_loss : 0.020, valid_loss : 0.012, test_loss : 0.010\n",
            "valid_loss=0.012, test_los0.010, Model Save\n",
            "epoch = 26, train_loss : 0.020, valid_loss : 0.012, test_loss : 0.010\n"
          ]
        },
        {
          "output_type": "stream",
          "name": "stderr",
          "text": [
            "\r 93%|█████████▎| 28/30 [00:02<00:00, 10.97it/s]"
          ]
        },
        {
          "output_type": "stream",
          "name": "stdout",
          "text": [
            "valid_loss=0.012, test_los0.010, Model Save\n",
            "epoch = 27, train_loss : 0.020, valid_loss : 0.012, test_loss : 0.010\n",
            "valid_loss=0.012, test_los0.010, Model Save\n",
            "epoch = 28, train_loss : 0.019, valid_loss : 0.012, test_loss : 0.010\n"
          ]
        },
        {
          "output_type": "stream",
          "name": "stderr",
          "text": [
            "100%|██████████| 30/30 [00:02<00:00, 12.22it/s]"
          ]
        },
        {
          "output_type": "stream",
          "name": "stdout",
          "text": [
            "valid_loss=0.011, test_los0.010, Model Save\n",
            "epoch = 29, train_loss : 0.019, valid_loss : 0.011, test_loss : 0.010\n",
            "valid_loss=0.011, test_los0.010, Model Save\n",
            "epoch = 30, train_loss : 0.019, valid_loss : 0.011, test_loss : 0.010\n"
          ]
        },
        {
          "output_type": "stream",
          "name": "stderr",
          "text": [
            "\n",
            "  7%|▋         | 2/30 [00:00<00:03,  9.16it/s]"
          ]
        },
        {
          "output_type": "stream",
          "name": "stdout",
          "text": [
            "valid_loss=0.091, test_los0.125, Model Save\n",
            "epoch = 1, train_loss : 0.084, valid_loss : 0.091, test_loss : 0.125\n",
            "valid_loss=0.054, test_los0.057, Model Save\n",
            "epoch = 2, train_loss : 0.058, valid_loss : 0.054, test_loss : 0.057\n"
          ]
        },
        {
          "output_type": "stream",
          "name": "stderr",
          "text": [
            " 13%|█▎        | 4/30 [00:00<00:03,  7.87it/s]"
          ]
        },
        {
          "output_type": "stream",
          "name": "stdout",
          "text": [
            "valid_loss=0.042, test_los0.041, Model Save\n",
            "epoch = 3, train_loss : 0.049, valid_loss : 0.042, test_loss : 0.041\n",
            "valid_loss=0.036, test_los0.035, Model Save\n",
            "epoch = 4, train_loss : 0.043, valid_loss : 0.036, test_loss : 0.035\n"
          ]
        },
        {
          "output_type": "stream",
          "name": "stderr",
          "text": [
            " 20%|██        | 6/30 [00:00<00:02,  8.30it/s]"
          ]
        },
        {
          "output_type": "stream",
          "name": "stdout",
          "text": [
            "valid_loss=0.033, test_los0.032, Model Save\n",
            "epoch = 5, train_loss : 0.039, valid_loss : 0.033, test_loss : 0.032\n",
            "valid_loss=0.031, test_los0.031, Model Save\n",
            "epoch = 6, train_loss : 0.037, valid_loss : 0.031, test_loss : 0.031\n"
          ]
        },
        {
          "output_type": "stream",
          "name": "stderr",
          "text": [
            "\r 23%|██▎       | 7/30 [00:00<00:02,  8.33it/s]"
          ]
        },
        {
          "output_type": "stream",
          "name": "stdout",
          "text": [
            "valid_loss=0.030, test_los0.030, Model Save\n",
            "epoch = 7, train_loss : 0.035, valid_loss : 0.030, test_loss : 0.030\n",
            "valid_loss=0.029, test_los0.030, Model Save\n",
            "epoch = 8, train_loss : 0.034, valid_loss : 0.029, test_loss : 0.030\n",
            "valid_loss=0.028, test_los0.030, Model Save\n"
          ]
        },
        {
          "output_type": "stream",
          "name": "stderr",
          "text": [
            "\r 30%|███       | 9/30 [00:01<00:02,  9.05it/s]"
          ]
        },
        {
          "output_type": "stream",
          "name": "stdout",
          "text": [
            "epoch = 9, train_loss : 0.033, valid_loss : 0.028, test_loss : 0.030\n",
            "valid_loss=0.028, test_los0.030, Model Save\n",
            "epoch = 10, train_loss : 0.033, valid_loss : 0.028, test_loss : 0.030\n"
          ]
        },
        {
          "output_type": "stream",
          "name": "stderr",
          "text": [
            " 40%|████      | 12/30 [00:01<00:01,  9.28it/s]"
          ]
        },
        {
          "output_type": "stream",
          "name": "stdout",
          "text": [
            "valid_loss=0.028, test_los0.030, Model Save\n",
            "epoch = 11, train_loss : 0.032, valid_loss : 0.028, test_loss : 0.030\n",
            "valid_loss=0.027, test_los0.030, Model Save\n",
            "epoch = 12, train_loss : 0.032, valid_loss : 0.027, test_loss : 0.030\n"
          ]
        },
        {
          "output_type": "stream",
          "name": "stderr",
          "text": [
            " 47%|████▋     | 14/30 [00:01<00:01,  9.17it/s]"
          ]
        },
        {
          "output_type": "stream",
          "name": "stdout",
          "text": [
            "valid_loss=0.027, test_los0.030, Model Save\n",
            "epoch = 13, train_loss : 0.031, valid_loss : 0.027, test_loss : 0.030\n",
            "valid_loss=0.027, test_los0.030, Model Save\n",
            "epoch = 14, train_loss : 0.031, valid_loss : 0.027, test_loss : 0.030\n"
          ]
        },
        {
          "output_type": "stream",
          "name": "stderr",
          "text": [
            " 53%|█████▎    | 16/30 [00:01<00:01,  8.42it/s]"
          ]
        },
        {
          "output_type": "stream",
          "name": "stdout",
          "text": [
            "valid_loss=0.027, test_los0.030, Model Save\n",
            "epoch = 15, train_loss : 0.030, valid_loss : 0.027, test_loss : 0.030\n",
            "valid_loss=0.026, test_los0.030, Model Save\n",
            "epoch = 16, train_loss : 0.030, valid_loss : 0.026, test_loss : 0.030\n"
          ]
        },
        {
          "output_type": "stream",
          "name": "stderr",
          "text": [
            " 60%|██████    | 18/30 [00:02<00:01,  8.47it/s]"
          ]
        },
        {
          "output_type": "stream",
          "name": "stdout",
          "text": [
            "valid_loss=0.026, test_los0.030, Model Save\n",
            "epoch = 17, train_loss : 0.030, valid_loss : 0.026, test_loss : 0.030\n",
            "valid_loss=0.026, test_los0.029, Model Save\n",
            "epoch = 18, train_loss : 0.030, valid_loss : 0.026, test_loss : 0.029\n"
          ]
        },
        {
          "output_type": "stream",
          "name": "stderr",
          "text": [
            " 67%|██████▋   | 20/30 [00:02<00:01,  8.46it/s]"
          ]
        },
        {
          "output_type": "stream",
          "name": "stdout",
          "text": [
            "valid_loss=0.026, test_los0.029, Model Save\n",
            "epoch = 19, train_loss : 0.029, valid_loss : 0.026, test_loss : 0.029\n",
            "valid_loss=0.026, test_los0.029, Model Save\n",
            "epoch = 20, train_loss : 0.029, valid_loss : 0.026, test_loss : 0.029\n"
          ]
        },
        {
          "output_type": "stream",
          "name": "stderr",
          "text": [
            " 73%|███████▎  | 22/30 [00:02<00:01,  7.97it/s]"
          ]
        },
        {
          "output_type": "stream",
          "name": "stdout",
          "text": [
            "valid_loss=0.025, test_los0.029, Model Save\n",
            "epoch = 21, train_loss : 0.029, valid_loss : 0.025, test_loss : 0.029\n",
            "valid_loss=0.025, test_los0.029, Model Save\n",
            "epoch = 22, train_loss : 0.029, valid_loss : 0.025, test_loss : 0.029\n"
          ]
        },
        {
          "output_type": "stream",
          "name": "stderr",
          "text": [
            " 83%|████████▎ | 25/30 [00:02<00:00, 10.19it/s]"
          ]
        },
        {
          "output_type": "stream",
          "name": "stdout",
          "text": [
            "valid_loss=0.025, test_los0.029, Model Save\n",
            "epoch = 23, train_loss : 0.029, valid_loss : 0.025, test_loss : 0.029\n",
            "valid_loss=0.025, test_los0.029, Model Save\n",
            "epoch = 24, train_loss : 0.029, valid_loss : 0.025, test_loss : 0.029\n",
            "valid_loss=0.025, test_los0.029, Model Save\n",
            "epoch = 25, train_loss : 0.028, valid_loss : 0.025, test_loss : 0.029\n"
          ]
        },
        {
          "output_type": "stream",
          "name": "stderr",
          "text": [
            "\r 90%|█████████ | 27/30 [00:02<00:00, 11.11it/s]"
          ]
        },
        {
          "output_type": "stream",
          "name": "stdout",
          "text": [
            "valid_loss=0.025, test_los0.029, Model Save\n",
            "epoch = 26, train_loss : 0.028, valid_loss : 0.025, test_loss : 0.029\n",
            "valid_loss=0.025, test_los0.029, Model Save\n",
            "epoch = 27, train_loss : 0.028, valid_loss : 0.025, test_loss : 0.029\n",
            "valid_loss=0.025, test_los0.029, Model Save\n",
            "epoch = 28, train_loss : 0.028, valid_loss : 0.025, test_loss : 0.029\n"
          ]
        },
        {
          "output_type": "stream",
          "name": "stderr",
          "text": [
            "100%|██████████| 30/30 [00:03<00:00,  9.35it/s]"
          ]
        },
        {
          "output_type": "stream",
          "name": "stdout",
          "text": [
            "valid_loss=0.025, test_los0.028, Model Save\n",
            "epoch = 29, train_loss : 0.028, valid_loss : 0.025, test_loss : 0.028\n",
            "valid_loss=0.025, test_los0.028, Model Save\n",
            "epoch = 30, train_loss : 0.028, valid_loss : 0.025, test_loss : 0.028\n"
          ]
        },
        {
          "output_type": "stream",
          "name": "stderr",
          "text": [
            "\n",
            "  7%|▋         | 2/30 [00:00<00:02, 13.51it/s]"
          ]
        },
        {
          "output_type": "stream",
          "name": "stdout",
          "text": [
            "valid_loss=0.796, test_los0.987, Model Save\n",
            "epoch = 1, train_loss : 0.048, valid_loss : 0.796, test_loss : 0.987\n",
            "epoch = 2, train_loss : 0.026, valid_loss : 1.071, test_loss : 1.559\n",
            "epoch = 3, train_loss : 0.014, valid_loss : 1.306, test_loss : 2.021\n"
          ]
        },
        {
          "output_type": "stream",
          "name": "stderr",
          "text": [
            " 20%|██        | 6/30 [00:00<00:01, 13.33it/s]"
          ]
        },
        {
          "output_type": "stream",
          "name": "stdout",
          "text": [
            "epoch = 4, train_loss : 0.008, valid_loss : 1.527, test_loss : 2.451\n",
            "epoch = 5, train_loss : 0.004, valid_loss : 1.731, test_loss : 2.843\n",
            "epoch = 6, train_loss : 0.002, valid_loss : 1.899, test_loss : 3.163\n"
          ]
        },
        {
          "output_type": "stream",
          "name": "stderr",
          "text": [
            "\r 27%|██▋       | 8/30 [00:00<00:01, 12.77it/s]"
          ]
        },
        {
          "output_type": "stream",
          "name": "stdout",
          "text": [
            "epoch = 7, train_loss : 0.001, valid_loss : 2.023, test_loss : 3.401\n",
            "epoch = 8, train_loss : 0.000, valid_loss : 2.110, test_loss : 3.565\n",
            "epoch = 9, train_loss : 0.000, valid_loss : 2.165, test_loss : 3.670\n"
          ]
        },
        {
          "output_type": "stream",
          "name": "stderr",
          "text": [
            " 40%|████      | 12/30 [00:00<00:01, 13.77it/s]"
          ]
        },
        {
          "output_type": "stream",
          "name": "stdout",
          "text": [
            "epoch = 10, train_loss : 0.000, valid_loss : 2.198, test_loss : 3.733\n",
            "epoch = 11, train_loss : 0.000, valid_loss : 2.217, test_loss : 3.769\n",
            "epoch = 12, train_loss : 0.000, valid_loss : 2.227, test_loss : 3.788\n"
          ]
        },
        {
          "output_type": "stream",
          "name": "stderr",
          "text": [
            " 53%|█████▎    | 16/30 [00:01<00:01, 13.90it/s]"
          ]
        },
        {
          "output_type": "stream",
          "name": "stdout",
          "text": [
            "epoch = 13, train_loss : 0.000, valid_loss : 2.232, test_loss : 3.797\n",
            "epoch = 14, train_loss : 0.000, valid_loss : 2.235, test_loss : 3.802\n",
            "epoch = 15, train_loss : 0.000, valid_loss : 2.236, test_loss : 3.804\n",
            "epoch = 16, train_loss : 0.000, valid_loss : 2.236, test_loss : 3.805\n"
          ]
        },
        {
          "output_type": "stream",
          "name": "stderr",
          "text": [
            "\r 60%|██████    | 18/30 [00:01<00:00, 13.94it/s]"
          ]
        },
        {
          "output_type": "stream",
          "name": "stdout",
          "text": [
            "epoch = 17, train_loss : 0.000, valid_loss : 2.236, test_loss : 3.805\n",
            "epoch = 18, train_loss : 0.000, valid_loss : 2.237, test_loss : 3.805\n",
            "epoch = 19, train_loss : 0.000, valid_loss : 2.237, test_loss : 3.805\n"
          ]
        },
        {
          "output_type": "stream",
          "name": "stderr",
          "text": [
            " 73%|███████▎  | 22/30 [00:01<00:00, 14.13it/s]"
          ]
        },
        {
          "output_type": "stream",
          "name": "stdout",
          "text": [
            "epoch = 20, train_loss : 0.000, valid_loss : 2.237, test_loss : 3.805\n",
            "epoch = 21, train_loss : 0.000, valid_loss : 2.237, test_loss : 3.805\n",
            "epoch = 22, train_loss : 0.000, valid_loss : 2.237, test_loss : 3.805\n",
            "epoch = 23, train_loss : 0.000, valid_loss : 2.237, test_loss : 3.805\n"
          ]
        },
        {
          "output_type": "stream",
          "name": "stderr",
          "text": [
            " 87%|████████▋ | 26/30 [00:01<00:00, 14.48it/s]"
          ]
        },
        {
          "output_type": "stream",
          "name": "stdout",
          "text": [
            "epoch = 24, train_loss : 0.000, valid_loss : 2.237, test_loss : 3.805\n",
            "epoch = 25, train_loss : 0.000, valid_loss : 2.237, test_loss : 3.805\n",
            "epoch = 26, train_loss : 0.000, valid_loss : 2.237, test_loss : 3.805\n"
          ]
        },
        {
          "output_type": "stream",
          "name": "stderr",
          "text": [
            "\r 93%|█████████▎| 28/30 [00:02<00:00, 12.49it/s]"
          ]
        },
        {
          "output_type": "stream",
          "name": "stdout",
          "text": [
            "epoch = 27, train_loss : 0.000, valid_loss : 2.237, test_loss : 3.805\n",
            "epoch = 28, train_loss : 0.000, valid_loss : 2.237, test_loss : 3.805\n",
            "epoch = 29, train_loss : 0.000, valid_loss : 2.237, test_loss : 3.805\n"
          ]
        },
        {
          "output_type": "stream",
          "name": "stderr",
          "text": [
            "100%|██████████| 30/30 [00:02<00:00, 13.18it/s]\n"
          ]
        },
        {
          "output_type": "stream",
          "name": "stdout",
          "text": [
            "epoch = 30, train_loss : 0.000, valid_loss : 2.237, test_loss : 3.805\n"
          ]
        },
        {
          "output_type": "stream",
          "name": "stderr",
          "text": [
            "  7%|▋         | 2/30 [00:00<00:02, 12.32it/s]"
          ]
        },
        {
          "output_type": "stream",
          "name": "stdout",
          "text": [
            "valid_loss=0.103, test_los0.092, Model Save\n",
            "epoch = 1, train_loss : 0.077, valid_loss : 0.103, test_loss : 0.092\n",
            "valid_loss=0.080, test_los0.071, Model Save\n",
            "epoch = 2, train_loss : 0.050, valid_loss : 0.080, test_loss : 0.071\n",
            "valid_loss=0.057, test_los0.051, Model Save\n",
            "epoch = 3, train_loss : 0.039, valid_loss : 0.057, test_loss : 0.051\n"
          ]
        },
        {
          "output_type": "stream",
          "name": "stderr",
          "text": [
            " 20%|██        | 6/30 [00:00<00:02, 11.04it/s]"
          ]
        },
        {
          "output_type": "stream",
          "name": "stdout",
          "text": [
            "valid_loss=0.039, test_los0.035, Model Save\n",
            "epoch = 4, train_loss : 0.031, valid_loss : 0.039, test_loss : 0.035\n",
            "valid_loss=0.026, test_los0.024, Model Save\n",
            "epoch = 5, train_loss : 0.025, valid_loss : 0.026, test_loss : 0.024\n",
            "valid_loss=0.018, test_los0.016, Model Save\n",
            "epoch = 6, train_loss : 0.021, valid_loss : 0.018, test_loss : 0.016\n"
          ]
        },
        {
          "output_type": "stream",
          "name": "stderr",
          "text": [
            "\r 27%|██▋       | 8/30 [00:00<00:01, 11.07it/s]"
          ]
        },
        {
          "output_type": "stream",
          "name": "stdout",
          "text": [
            "valid_loss=0.012, test_los0.011, Model Save\n",
            "epoch = 7, train_loss : 0.018, valid_loss : 0.012, test_loss : 0.011\n",
            "valid_loss=0.009, test_los0.008, Model Save\n",
            "epoch = 8, train_loss : 0.016, valid_loss : 0.009, test_loss : 0.008\n",
            "valid_loss=0.006, test_los0.006, Model Save\n",
            "epoch = 9, train_loss : 0.015, valid_loss : 0.006, test_loss : 0.006\n"
          ]
        },
        {
          "output_type": "stream",
          "name": "stderr",
          "text": [
            " 40%|████      | 12/30 [00:01<00:01, 11.22it/s]"
          ]
        },
        {
          "output_type": "stream",
          "name": "stdout",
          "text": [
            "valid_loss=0.005, test_los0.005, Model Save\n",
            "epoch = 10, train_loss : 0.014, valid_loss : 0.005, test_loss : 0.005\n",
            "valid_loss=0.004, test_los0.004, Model Save\n",
            "epoch = 11, train_loss : 0.014, valid_loss : 0.004, test_loss : 0.004\n",
            "valid_loss=0.004, test_los0.004, Model Save\n",
            "epoch = 12, train_loss : 0.013, valid_loss : 0.004, test_loss : 0.004\n"
          ]
        },
        {
          "output_type": "stream",
          "name": "stderr",
          "text": [
            "\r 47%|████▋     | 14/30 [00:01<00:01, 11.30it/s]"
          ]
        },
        {
          "output_type": "stream",
          "name": "stdout",
          "text": [
            "valid_loss=0.004, test_los0.004, Model Save\n",
            "epoch = 13, train_loss : 0.013, valid_loss : 0.004, test_loss : 0.004\n",
            "valid_loss=0.004, test_los0.003, Model Save\n",
            "epoch = 14, train_loss : 0.013, valid_loss : 0.004, test_loss : 0.003\n",
            "valid_loss=0.004, test_los0.003, Model Save\n",
            "epoch = 15, train_loss : 0.013, valid_loss : 0.004, test_loss : 0.003\n"
          ]
        },
        {
          "output_type": "stream",
          "name": "stderr",
          "text": [
            " 60%|██████    | 18/30 [00:01<00:01, 11.09it/s]"
          ]
        },
        {
          "output_type": "stream",
          "name": "stdout",
          "text": [
            "valid_loss=0.004, test_los0.003, Model Save\n",
            "epoch = 16, train_loss : 0.013, valid_loss : 0.004, test_loss : 0.003\n",
            "valid_loss=0.004, test_los0.003, Model Save\n",
            "epoch = 17, train_loss : 0.012, valid_loss : 0.004, test_loss : 0.003\n",
            "valid_loss=0.004, test_los0.003, Model Save\n",
            "epoch = 18, train_loss : 0.012, valid_loss : 0.004, test_loss : 0.003\n"
          ]
        },
        {
          "output_type": "stream",
          "name": "stderr",
          "text": [
            "\r 67%|██████▋   | 20/30 [00:01<00:00, 10.87it/s]"
          ]
        },
        {
          "output_type": "stream",
          "name": "stdout",
          "text": [
            "valid_loss=0.003, test_los0.003, Model Save\n",
            "epoch = 19, train_loss : 0.012, valid_loss : 0.003, test_loss : 0.003\n",
            "valid_loss=0.003, test_los0.003, Model Save\n",
            "epoch = 20, train_loss : 0.012, valid_loss : 0.003, test_loss : 0.003\n",
            "valid_loss=0.003, test_los0.003, Model Save\n",
            "epoch = 21, train_loss : 0.012, valid_loss : 0.003, test_loss : 0.003\n"
          ]
        },
        {
          "output_type": "stream",
          "name": "stderr",
          "text": [
            " 80%|████████  | 24/30 [00:02<00:00, 11.26it/s]"
          ]
        },
        {
          "output_type": "stream",
          "name": "stdout",
          "text": [
            "valid_loss=0.003, test_los0.003, Model Save\n",
            "epoch = 22, train_loss : 0.012, valid_loss : 0.003, test_loss : 0.003\n",
            "valid_loss=0.003, test_los0.003, Model Save\n",
            "epoch = 23, train_loss : 0.012, valid_loss : 0.003, test_loss : 0.003\n",
            "valid_loss=0.003, test_los0.003, Model Save\n",
            "epoch = 24, train_loss : 0.012, valid_loss : 0.003, test_loss : 0.003\n"
          ]
        },
        {
          "output_type": "stream",
          "name": "stderr",
          "text": [
            "\r 87%|████████▋ | 26/30 [00:02<00:00, 11.14it/s]"
          ]
        },
        {
          "output_type": "stream",
          "name": "stdout",
          "text": [
            "valid_loss=0.003, test_los0.003, Model Save\n",
            "epoch = 25, train_loss : 0.012, valid_loss : 0.003, test_loss : 0.003\n",
            "valid_loss=0.003, test_los0.003, Model Save\n",
            "epoch = 26, train_loss : 0.012, valid_loss : 0.003, test_loss : 0.003\n",
            "valid_loss=0.003, test_los0.003, Model Save\n",
            "epoch = 27, train_loss : 0.012, valid_loss : 0.003, test_loss : 0.003\n"
          ]
        },
        {
          "output_type": "stream",
          "name": "stderr",
          "text": [
            "100%|██████████| 30/30 [00:02<00:00, 11.10it/s]"
          ]
        },
        {
          "output_type": "stream",
          "name": "stdout",
          "text": [
            "valid_loss=0.003, test_los0.003, Model Save\n",
            "epoch = 28, train_loss : 0.012, valid_loss : 0.003, test_loss : 0.003\n",
            "valid_loss=0.003, test_los0.003, Model Save\n",
            "epoch = 29, train_loss : 0.012, valid_loss : 0.003, test_loss : 0.003\n",
            "valid_loss=0.003, test_los0.003, Model Save\n",
            "epoch = 30, train_loss : 0.012, valid_loss : 0.003, test_loss : 0.003\n"
          ]
        },
        {
          "output_type": "stream",
          "name": "stderr",
          "text": [
            "\n",
            "  7%|▋         | 2/30 [00:00<00:02, 12.42it/s]"
          ]
        },
        {
          "output_type": "stream",
          "name": "stdout",
          "text": [
            "valid_loss=0.127, test_los0.107, Model Save\n",
            "epoch = 1, train_loss : 0.086, valid_loss : 0.127, test_loss : 0.107\n",
            "valid_loss=0.076, test_los0.066, Model Save\n",
            "epoch = 2, train_loss : 0.052, valid_loss : 0.076, test_loss : 0.066\n",
            "valid_loss=0.050, test_los0.044, Model Save\n",
            "epoch = 3, train_loss : 0.041, valid_loss : 0.050, test_loss : 0.044\n"
          ]
        },
        {
          "output_type": "stream",
          "name": "stderr",
          "text": [
            "\r 13%|█▎        | 4/30 [00:00<00:02, 11.48it/s]"
          ]
        },
        {
          "output_type": "stream",
          "name": "stdout",
          "text": [
            "valid_loss=0.034, test_los0.030, Model Save\n",
            "epoch = 4, train_loss : 0.032, valid_loss : 0.034, test_loss : 0.030\n",
            "valid_loss=0.024, test_los0.021, Model Save\n",
            "epoch = 5, train_loss : 0.027, valid_loss : 0.024, test_loss : 0.021\n"
          ]
        },
        {
          "output_type": "stream",
          "name": "stderr",
          "text": [
            " 27%|██▋       | 8/30 [00:00<00:02, 10.62it/s]"
          ]
        },
        {
          "output_type": "stream",
          "name": "stdout",
          "text": [
            "valid_loss=0.018, test_los0.015, Model Save\n",
            "epoch = 6, train_loss : 0.023, valid_loss : 0.018, test_loss : 0.015\n",
            "valid_loss=0.014, test_los0.011, Model Save\n",
            "epoch = 7, train_loss : 0.020, valid_loss : 0.014, test_loss : 0.011\n",
            "valid_loss=0.012, test_los0.009, Model Save\n",
            "epoch = 8, train_loss : 0.019, valid_loss : 0.012, test_loss : 0.009\n"
          ]
        },
        {
          "output_type": "stream",
          "name": "stderr",
          "text": [
            "\r 33%|███▎      | 10/30 [00:00<00:01, 11.17it/s]"
          ]
        },
        {
          "output_type": "stream",
          "name": "stdout",
          "text": [
            "valid_loss=0.011, test_los0.008, Model Save\n",
            "epoch = 9, train_loss : 0.017, valid_loss : 0.011, test_loss : 0.008\n",
            "valid_loss=0.010, test_los0.007, Model Save\n",
            "epoch = 10, train_loss : 0.017, valid_loss : 0.010, test_loss : 0.007\n",
            "valid_loss=0.009, test_los0.007, Model Save\n",
            "epoch = 11, train_loss : 0.016, valid_loss : 0.009, test_loss : 0.007\n"
          ]
        },
        {
          "output_type": "stream",
          "name": "stderr",
          "text": [
            "\r 40%|████      | 12/30 [00:01<00:01,  9.81it/s]"
          ]
        },
        {
          "output_type": "stream",
          "name": "stdout",
          "text": [
            "valid_loss=0.009, test_los0.007, Model Save\n",
            "epoch = 12, train_loss : 0.016, valid_loss : 0.009, test_loss : 0.007\n",
            "valid_loss=0.009, test_los0.007, Model Save\n",
            "epoch = 13, train_loss : 0.016, valid_loss : 0.009, test_loss : 0.007\n"
          ]
        },
        {
          "output_type": "stream",
          "name": "stderr",
          "text": [
            " 50%|█████     | 15/30 [00:01<00:01,  7.90it/s]"
          ]
        },
        {
          "output_type": "stream",
          "name": "stdout",
          "text": [
            "valid_loss=0.009, test_los0.007, Model Save\n",
            "epoch = 14, train_loss : 0.015, valid_loss : 0.009, test_loss : 0.007\n",
            "valid_loss=0.009, test_los0.006, Model Save\n",
            "epoch = 15, train_loss : 0.015, valid_loss : 0.009, test_loss : 0.006\n"
          ]
        },
        {
          "output_type": "stream",
          "name": "stderr",
          "text": [
            " 60%|██████    | 18/30 [00:01<00:01,  8.81it/s]"
          ]
        },
        {
          "output_type": "stream",
          "name": "stdout",
          "text": [
            "valid_loss=0.009, test_los0.006, Model Save\n",
            "epoch = 16, train_loss : 0.015, valid_loss : 0.009, test_loss : 0.006\n",
            "valid_loss=0.009, test_los0.006, Model Save\n",
            "epoch = 17, train_loss : 0.015, valid_loss : 0.009, test_loss : 0.006\n",
            "valid_loss=0.009, test_los0.006, Model Save\n",
            "epoch = 18, train_loss : 0.015, valid_loss : 0.009, test_loss : 0.006\n"
          ]
        },
        {
          "output_type": "stream",
          "name": "stderr",
          "text": [
            "\r 67%|██████▋   | 20/30 [00:02<00:01,  9.50it/s]"
          ]
        },
        {
          "output_type": "stream",
          "name": "stdout",
          "text": [
            "valid_loss=0.009, test_los0.006, Model Save\n",
            "epoch = 19, train_loss : 0.015, valid_loss : 0.009, test_loss : 0.006\n",
            "valid_loss=0.009, test_los0.006, Model Save\n",
            "epoch = 20, train_loss : 0.015, valid_loss : 0.009, test_loss : 0.006\n",
            "valid_loss=0.009, test_los0.006, Model Save\n",
            "epoch = 21, train_loss : 0.015, valid_loss : 0.009, test_loss : 0.006\n"
          ]
        },
        {
          "output_type": "stream",
          "name": "stderr",
          "text": [
            "\r 73%|███████▎  | 22/30 [00:02<00:00,  9.66it/s]"
          ]
        },
        {
          "output_type": "stream",
          "name": "stdout",
          "text": [
            "valid_loss=0.009, test_los0.006, Model Save\n",
            "epoch = 22, train_loss : 0.014, valid_loss : 0.009, test_loss : 0.006\n",
            "valid_loss=0.008, test_los0.006, Model Save\n",
            "epoch = 23, train_loss : 0.014, valid_loss : 0.008, test_loss : 0.006\n"
          ]
        },
        {
          "output_type": "stream",
          "name": "stderr",
          "text": [
            " 83%|████████▎ | 25/30 [00:02<00:00,  8.77it/s]"
          ]
        },
        {
          "output_type": "stream",
          "name": "stdout",
          "text": [
            "valid_loss=0.008, test_los0.006, Model Save\n",
            "epoch = 24, train_loss : 0.014, valid_loss : 0.008, test_loss : 0.006\n",
            "valid_loss=0.008, test_los0.006, Model Save\n",
            "epoch = 25, train_loss : 0.014, valid_loss : 0.008, test_loss : 0.006\n"
          ]
        },
        {
          "output_type": "stream",
          "name": "stderr",
          "text": [
            " 90%|█████████ | 27/30 [00:02<00:00,  8.36it/s]"
          ]
        },
        {
          "output_type": "stream",
          "name": "stdout",
          "text": [
            "valid_loss=0.008, test_los0.006, Model Save\n",
            "epoch = 26, train_loss : 0.014, valid_loss : 0.008, test_loss : 0.006\n",
            "valid_loss=0.008, test_los0.006, Model Save\n",
            "epoch = 27, train_loss : 0.014, valid_loss : 0.008, test_loss : 0.006\n"
          ]
        },
        {
          "output_type": "stream",
          "name": "stderr",
          "text": [
            " 97%|█████████▋| 29/30 [00:03<00:00,  8.43it/s]"
          ]
        },
        {
          "output_type": "stream",
          "name": "stdout",
          "text": [
            "valid_loss=0.008, test_los0.006, Model Save\n",
            "epoch = 28, train_loss : 0.014, valid_loss : 0.008, test_loss : 0.006\n",
            "valid_loss=0.008, test_los0.006, Model Save\n",
            "epoch = 29, train_loss : 0.014, valid_loss : 0.008, test_loss : 0.006\n"
          ]
        },
        {
          "output_type": "stream",
          "name": "stderr",
          "text": [
            "100%|██████████| 30/30 [00:03<00:00,  9.04it/s]\n"
          ]
        },
        {
          "output_type": "stream",
          "name": "stdout",
          "text": [
            "valid_loss=0.008, test_los0.006, Model Save\n",
            "epoch = 30, train_loss : 0.014, valid_loss : 0.008, test_loss : 0.006\n"
          ]
        },
        {
          "output_type": "stream",
          "name": "stderr",
          "text": [
            "  3%|▎         | 1/30 [00:00<00:06,  4.63it/s]"
          ]
        },
        {
          "output_type": "stream",
          "name": "stdout",
          "text": [
            "valid_loss=0.121, test_los0.163, Model Save\n",
            "epoch = 1, train_loss : 0.116, valid_loss : 0.121, test_loss : 0.163\n"
          ]
        },
        {
          "output_type": "stream",
          "name": "stderr",
          "text": [
            " 10%|█         | 3/30 [00:00<00:05,  4.83it/s]"
          ]
        },
        {
          "output_type": "stream",
          "name": "stdout",
          "text": [
            "valid_loss=0.078, test_los0.114, Model Save\n",
            "epoch = 2, train_loss : 0.089, valid_loss : 0.078, test_loss : 0.114\n",
            "valid_loss=0.054, test_los0.086, Model Save\n",
            "epoch = 3, train_loss : 0.075, valid_loss : 0.054, test_loss : 0.086\n"
          ]
        },
        {
          "output_type": "stream",
          "name": "stderr",
          "text": [
            " 17%|█▋        | 5/30 [00:00<00:04,  5.94it/s]"
          ]
        },
        {
          "output_type": "stream",
          "name": "stdout",
          "text": [
            "valid_loss=0.039, test_los0.068, Model Save\n",
            "epoch = 4, train_loss : 0.064, valid_loss : 0.039, test_loss : 0.068\n",
            "valid_loss=0.029, test_los0.057, Model Save\n",
            "epoch = 5, train_loss : 0.057, valid_loss : 0.029, test_loss : 0.057\n"
          ]
        },
        {
          "output_type": "stream",
          "name": "stderr",
          "text": [
            " 23%|██▎       | 7/30 [00:01<00:03,  6.98it/s]"
          ]
        },
        {
          "output_type": "stream",
          "name": "stdout",
          "text": [
            "valid_loss=0.023, test_los0.048, Model Save\n",
            "epoch = 6, train_loss : 0.052, valid_loss : 0.023, test_loss : 0.048\n",
            "valid_loss=0.019, test_los0.043, Model Save\n",
            "epoch = 7, train_loss : 0.048, valid_loss : 0.019, test_loss : 0.043\n"
          ]
        },
        {
          "output_type": "stream",
          "name": "stderr",
          "text": [
            " 30%|███       | 9/30 [00:01<00:02,  7.74it/s]"
          ]
        },
        {
          "output_type": "stream",
          "name": "stdout",
          "text": [
            "valid_loss=0.017, test_los0.039, Model Save\n",
            "epoch = 8, train_loss : 0.045, valid_loss : 0.017, test_loss : 0.039\n",
            "valid_loss=0.015, test_los0.036, Model Save\n",
            "epoch = 9, train_loss : 0.043, valid_loss : 0.015, test_loss : 0.036\n"
          ]
        },
        {
          "output_type": "stream",
          "name": "stderr",
          "text": [
            " 37%|███▋      | 11/30 [00:01<00:02,  8.59it/s]"
          ]
        },
        {
          "output_type": "stream",
          "name": "stdout",
          "text": [
            "valid_loss=0.014, test_los0.034, Model Save\n",
            "epoch = 10, train_loss : 0.042, valid_loss : 0.014, test_loss : 0.034\n",
            "valid_loss=0.014, test_los0.033, Model Save\n",
            "epoch = 11, train_loss : 0.041, valid_loss : 0.014, test_loss : 0.033\n"
          ]
        },
        {
          "output_type": "stream",
          "name": "stderr",
          "text": [
            " 43%|████▎     | 13/30 [00:01<00:01,  9.07it/s]"
          ]
        },
        {
          "output_type": "stream",
          "name": "stdout",
          "text": [
            "valid_loss=0.013, test_los0.032, Model Save\n",
            "epoch = 12, train_loss : 0.040, valid_loss : 0.013, test_loss : 0.032\n",
            "valid_loss=0.013, test_los0.031, Model Save\n",
            "epoch = 13, train_loss : 0.039, valid_loss : 0.013, test_loss : 0.031\n"
          ]
        },
        {
          "output_type": "stream",
          "name": "stderr",
          "text": [
            " 50%|█████     | 15/30 [00:02<00:01,  8.41it/s]"
          ]
        },
        {
          "output_type": "stream",
          "name": "stdout",
          "text": [
            "valid_loss=0.013, test_los0.030, Model Save\n",
            "epoch = 14, train_loss : 0.038, valid_loss : 0.013, test_loss : 0.030\n",
            "valid_loss=0.013, test_los0.029, Model Save\n",
            "epoch = 15, train_loss : 0.038, valid_loss : 0.013, test_loss : 0.029\n"
          ]
        },
        {
          "output_type": "stream",
          "name": "stderr",
          "text": [
            " 57%|█████▋    | 17/30 [00:02<00:01,  7.58it/s]"
          ]
        },
        {
          "output_type": "stream",
          "name": "stdout",
          "text": [
            "valid_loss=0.012, test_los0.029, Model Save\n",
            "epoch = 16, train_loss : 0.037, valid_loss : 0.012, test_loss : 0.029\n",
            "valid_loss=0.012, test_los0.028, Model Save\n",
            "epoch = 17, train_loss : 0.037, valid_loss : 0.012, test_loss : 0.028\n"
          ]
        },
        {
          "output_type": "stream",
          "name": "stderr",
          "text": [
            " 63%|██████▎   | 19/30 [00:02<00:01,  7.50it/s]"
          ]
        },
        {
          "output_type": "stream",
          "name": "stdout",
          "text": [
            "valid_loss=0.012, test_los0.028, Model Save\n",
            "epoch = 18, train_loss : 0.036, valid_loss : 0.012, test_loss : 0.028\n",
            "valid_loss=0.012, test_los0.027, Model Save\n",
            "epoch = 19, train_loss : 0.036, valid_loss : 0.012, test_loss : 0.027\n"
          ]
        },
        {
          "output_type": "stream",
          "name": "stderr",
          "text": [
            " 70%|███████   | 21/30 [00:02<00:01,  8.02it/s]"
          ]
        },
        {
          "output_type": "stream",
          "name": "stdout",
          "text": [
            "valid_loss=0.012, test_los0.027, Model Save\n",
            "epoch = 20, train_loss : 0.036, valid_loss : 0.012, test_loss : 0.027\n",
            "valid_loss=0.012, test_los0.027, Model Save\n",
            "epoch = 21, train_loss : 0.035, valid_loss : 0.012, test_loss : 0.027\n"
          ]
        },
        {
          "output_type": "stream",
          "name": "stderr",
          "text": [
            " 77%|███████▋  | 23/30 [00:03<00:00,  8.10it/s]"
          ]
        },
        {
          "output_type": "stream",
          "name": "stdout",
          "text": [
            "valid_loss=0.012, test_los0.026, Model Save\n",
            "epoch = 22, train_loss : 0.035, valid_loss : 0.012, test_loss : 0.026\n",
            "valid_loss=0.012, test_los0.026, Model Save\n",
            "epoch = 23, train_loss : 0.035, valid_loss : 0.012, test_loss : 0.026\n"
          ]
        },
        {
          "output_type": "stream",
          "name": "stderr",
          "text": [
            " 83%|████████▎ | 25/30 [00:03<00:00,  8.34it/s]"
          ]
        },
        {
          "output_type": "stream",
          "name": "stdout",
          "text": [
            "valid_loss=0.012, test_los0.026, Model Save\n",
            "epoch = 24, train_loss : 0.035, valid_loss : 0.012, test_loss : 0.026\n",
            "valid_loss=0.012, test_los0.026, Model Save\n",
            "epoch = 25, train_loss : 0.034, valid_loss : 0.012, test_loss : 0.026\n"
          ]
        },
        {
          "output_type": "stream",
          "name": "stderr",
          "text": [
            " 90%|█████████ | 27/30 [00:03<00:00,  8.25it/s]"
          ]
        },
        {
          "output_type": "stream",
          "name": "stdout",
          "text": [
            "valid_loss=0.012, test_los0.025, Model Save\n",
            "epoch = 26, train_loss : 0.034, valid_loss : 0.012, test_loss : 0.025\n",
            "valid_loss=0.012, test_los0.025, Model Save\n",
            "epoch = 27, train_loss : 0.034, valid_loss : 0.012, test_loss : 0.025\n"
          ]
        },
        {
          "output_type": "stream",
          "name": "stderr",
          "text": [
            " 97%|█████████▋| 29/30 [00:03<00:00,  8.14it/s]"
          ]
        },
        {
          "output_type": "stream",
          "name": "stdout",
          "text": [
            "valid_loss=0.012, test_los0.025, Model Save\n",
            "epoch = 28, train_loss : 0.034, valid_loss : 0.012, test_loss : 0.025\n",
            "valid_loss=0.012, test_los0.025, Model Save\n",
            "epoch = 29, train_loss : 0.034, valid_loss : 0.012, test_loss : 0.025\n"
          ]
        },
        {
          "output_type": "stream",
          "name": "stderr",
          "text": [
            "100%|██████████| 30/30 [00:04<00:00,  7.50it/s]\n"
          ]
        },
        {
          "output_type": "stream",
          "name": "stdout",
          "text": [
            "valid_loss=0.012, test_los0.025, Model Save\n",
            "epoch = 30, train_loss : 0.033, valid_loss : 0.012, test_loss : 0.025\n"
          ]
        },
        {
          "output_type": "stream",
          "name": "stderr",
          "text": [
            "  7%|▋         | 2/30 [00:00<00:02, 13.65it/s]"
          ]
        },
        {
          "output_type": "stream",
          "name": "stdout",
          "text": [
            "valid_loss=0.208, test_los0.268, Model Save\n",
            "epoch = 1, train_loss : 0.090, valid_loss : 0.208, test_loss : 0.268\n",
            "valid_loss=0.184, test_los0.239, Model Save\n",
            "epoch = 2, train_loss : 0.057, valid_loss : 0.184, test_loss : 0.239\n",
            "valid_loss=0.148, test_los0.193, Model Save\n",
            "epoch = 3, train_loss : 0.047, valid_loss : 0.148, test_loss : 0.193\n"
          ]
        },
        {
          "output_type": "stream",
          "name": "stderr",
          "text": [
            " 20%|██        | 6/30 [00:00<00:01, 13.00it/s]"
          ]
        },
        {
          "output_type": "stream",
          "name": "stdout",
          "text": [
            "valid_loss=0.115, test_los0.151, Model Save\n",
            "epoch = 4, train_loss : 0.039, valid_loss : 0.115, test_loss : 0.151\n",
            "valid_loss=0.088, test_los0.117, Model Save\n",
            "epoch = 5, train_loss : 0.033, valid_loss : 0.088, test_loss : 0.117\n",
            "valid_loss=0.067, test_los0.089, Model Save\n",
            "epoch = 6, train_loss : 0.028, valid_loss : 0.067, test_loss : 0.089\n"
          ]
        },
        {
          "output_type": "stream",
          "name": "stderr",
          "text": [
            "\r 27%|██▋       | 8/30 [00:00<00:01, 12.24it/s]"
          ]
        },
        {
          "output_type": "stream",
          "name": "stdout",
          "text": [
            "valid_loss=0.050, test_los0.068, Model Save\n",
            "epoch = 7, train_loss : 0.025, valid_loss : 0.050, test_loss : 0.068\n",
            "valid_loss=0.037, test_los0.052, Model Save\n",
            "epoch = 8, train_loss : 0.021, valid_loss : 0.037, test_loss : 0.052\n",
            "valid_loss=0.028, test_los0.040, Model Save\n",
            "epoch = 9, train_loss : 0.019, valid_loss : 0.028, test_loss : 0.040\n"
          ]
        },
        {
          "output_type": "stream",
          "name": "stderr",
          "text": [
            " 40%|████      | 12/30 [00:00<00:01, 13.04it/s]"
          ]
        },
        {
          "output_type": "stream",
          "name": "stdout",
          "text": [
            "valid_loss=0.021, test_los0.031, Model Save\n",
            "epoch = 10, train_loss : 0.017, valid_loss : 0.021, test_loss : 0.031\n",
            "valid_loss=0.016, test_los0.025, Model Save\n",
            "epoch = 11, train_loss : 0.016, valid_loss : 0.016, test_loss : 0.025\n",
            "valid_loss=0.012, test_los0.020, Model Save\n",
            "epoch = 12, train_loss : 0.015, valid_loss : 0.012, test_loss : 0.020\n"
          ]
        },
        {
          "output_type": "stream",
          "name": "stderr",
          "text": [
            "\r 47%|████▋     | 14/30 [00:01<00:01, 13.32it/s]"
          ]
        },
        {
          "output_type": "stream",
          "name": "stdout",
          "text": [
            "valid_loss=0.010, test_los0.017, Model Save\n",
            "epoch = 13, train_loss : 0.014, valid_loss : 0.010, test_loss : 0.017\n",
            "valid_loss=0.008, test_los0.015, Model Save\n",
            "epoch = 14, train_loss : 0.014, valid_loss : 0.008, test_loss : 0.015\n",
            "valid_loss=0.007, test_los0.014, Model Save\n",
            "epoch = 15, train_loss : 0.013, valid_loss : 0.007, test_loss : 0.014\n"
          ]
        },
        {
          "output_type": "stream",
          "name": "stderr",
          "text": [
            " 60%|██████    | 18/30 [00:01<00:00, 13.11it/s]"
          ]
        },
        {
          "output_type": "stream",
          "name": "stdout",
          "text": [
            "valid_loss=0.006, test_los0.013, Model Save\n",
            "epoch = 16, train_loss : 0.013, valid_loss : 0.006, test_loss : 0.013\n",
            "valid_loss=0.006, test_los0.012, Model Save\n",
            "epoch = 17, train_loss : 0.013, valid_loss : 0.006, test_loss : 0.012\n",
            "valid_loss=0.006, test_los0.012, Model Save\n",
            "epoch = 18, train_loss : 0.012, valid_loss : 0.006, test_loss : 0.012\n"
          ]
        },
        {
          "output_type": "stream",
          "name": "stderr",
          "text": [
            "\r 67%|██████▋   | 20/30 [00:01<00:00, 13.08it/s]"
          ]
        },
        {
          "output_type": "stream",
          "name": "stdout",
          "text": [
            "valid_loss=0.005, test_los0.011, Model Save\n",
            "epoch = 19, train_loss : 0.012, valid_loss : 0.005, test_loss : 0.011\n",
            "valid_loss=0.005, test_los0.011, Model Save\n",
            "epoch = 20, train_loss : 0.012, valid_loss : 0.005, test_loss : 0.011\n",
            "valid_loss=0.005, test_los0.011, Model Save\n",
            "epoch = 21, train_loss : 0.012, valid_loss : 0.005, test_loss : 0.011\n"
          ]
        },
        {
          "output_type": "stream",
          "name": "stderr",
          "text": [
            " 80%|████████  | 24/30 [00:01<00:00, 12.89it/s]"
          ]
        },
        {
          "output_type": "stream",
          "name": "stdout",
          "text": [
            "valid_loss=0.005, test_los0.011, Model Save\n",
            "epoch = 22, train_loss : 0.012, valid_loss : 0.005, test_loss : 0.011\n",
            "valid_loss=0.005, test_los0.011, Model Save\n",
            "epoch = 23, train_loss : 0.012, valid_loss : 0.005, test_loss : 0.011\n",
            "valid_loss=0.005, test_los0.011, Model Save\n",
            "epoch = 24, train_loss : 0.012, valid_loss : 0.005, test_loss : 0.011\n"
          ]
        },
        {
          "output_type": "stream",
          "name": "stderr",
          "text": [
            "\r 87%|████████▋ | 26/30 [00:02<00:00, 12.64it/s]"
          ]
        },
        {
          "output_type": "stream",
          "name": "stdout",
          "text": [
            "valid_loss=0.005, test_los0.011, Model Save\n",
            "epoch = 25, train_loss : 0.012, valid_loss : 0.005, test_loss : 0.011\n",
            "valid_loss=0.005, test_los0.011, Model Save\n",
            "epoch = 26, train_loss : 0.012, valid_loss : 0.005, test_loss : 0.011\n",
            "valid_loss=0.005, test_los0.011, Model Save\n",
            "epoch = 27, train_loss : 0.011, valid_loss : 0.005, test_loss : 0.011\n"
          ]
        },
        {
          "output_type": "stream",
          "name": "stderr",
          "text": [
            "100%|██████████| 30/30 [00:02<00:00, 12.73it/s]"
          ]
        },
        {
          "output_type": "stream",
          "name": "stdout",
          "text": [
            "valid_loss=0.005, test_los0.011, Model Save\n",
            "epoch = 28, train_loss : 0.011, valid_loss : 0.005, test_loss : 0.011\n",
            "valid_loss=0.005, test_los0.010, Model Save\n",
            "epoch = 29, train_loss : 0.011, valid_loss : 0.005, test_loss : 0.010\n",
            "valid_loss=0.005, test_los0.010, Model Save\n",
            "epoch = 30, train_loss : 0.011, valid_loss : 0.005, test_loss : 0.010\n"
          ]
        },
        {
          "output_type": "stream",
          "name": "stderr",
          "text": [
            "\n",
            "  7%|▋         | 2/30 [00:00<00:02, 13.04it/s]"
          ]
        },
        {
          "output_type": "stream",
          "name": "stdout",
          "text": [
            "valid_loss=0.031, test_los0.032, Model Save\n",
            "epoch = 1, train_loss : 0.058, valid_loss : 0.031, test_loss : 0.032\n",
            "valid_loss=0.027, test_los0.029, Model Save\n",
            "epoch = 2, train_loss : 0.047, valid_loss : 0.027, test_loss : 0.029\n",
            "valid_loss=0.024, test_los0.026, Model Save\n",
            "epoch = 3, train_loss : 0.043, valid_loss : 0.024, test_loss : 0.026\n"
          ]
        },
        {
          "output_type": "stream",
          "name": "stderr",
          "text": [
            " 20%|██        | 6/30 [00:00<00:01, 12.86it/s]"
          ]
        },
        {
          "output_type": "stream",
          "name": "stdout",
          "text": [
            "valid_loss=0.023, test_los0.024, Model Save\n",
            "epoch = 4, train_loss : 0.039, valid_loss : 0.023, test_loss : 0.024\n",
            "valid_loss=0.022, test_los0.023, Model Save\n",
            "epoch = 5, train_loss : 0.037, valid_loss : 0.022, test_loss : 0.023\n",
            "valid_loss=0.021, test_los0.022, Model Save\n",
            "epoch = 6, train_loss : 0.036, valid_loss : 0.021, test_loss : 0.022\n"
          ]
        },
        {
          "output_type": "stream",
          "name": "stderr",
          "text": [
            "\r 27%|██▋       | 8/30 [00:00<00:01, 11.58it/s]"
          ]
        },
        {
          "output_type": "stream",
          "name": "stdout",
          "text": [
            "valid_loss=0.021, test_los0.021, Model Save\n",
            "epoch = 7, train_loss : 0.034, valid_loss : 0.021, test_loss : 0.021\n",
            "valid_loss=0.020, test_los0.021, Model Save\n",
            "epoch = 8, train_loss : 0.033, valid_loss : 0.020, test_loss : 0.021\n",
            "valid_loss=0.020, test_los0.020, Model Save\n",
            "epoch = 9, train_loss : 0.032, valid_loss : 0.020, test_loss : 0.020\n"
          ]
        },
        {
          "output_type": "stream",
          "name": "stderr",
          "text": [
            " 40%|████      | 12/30 [00:00<00:01, 12.54it/s]"
          ]
        },
        {
          "output_type": "stream",
          "name": "stdout",
          "text": [
            "valid_loss=0.019, test_los0.020, Model Save\n",
            "epoch = 10, train_loss : 0.032, valid_loss : 0.019, test_loss : 0.020\n",
            "valid_loss=0.019, test_los0.020, Model Save\n",
            "epoch = 11, train_loss : 0.031, valid_loss : 0.019, test_loss : 0.020\n",
            "valid_loss=0.019, test_los0.019, Model Save\n",
            "epoch = 12, train_loss : 0.031, valid_loss : 0.019, test_loss : 0.019\n"
          ]
        },
        {
          "output_type": "stream",
          "name": "stderr",
          "text": [
            "\r 47%|████▋     | 14/30 [00:01<00:01, 12.47it/s]"
          ]
        },
        {
          "output_type": "stream",
          "name": "stdout",
          "text": [
            "valid_loss=0.019, test_los0.019, Model Save\n",
            "epoch = 13, train_loss : 0.030, valid_loss : 0.019, test_loss : 0.019\n",
            "valid_loss=0.018, test_los0.019, Model Save\n",
            "epoch = 14, train_loss : 0.030, valid_loss : 0.018, test_loss : 0.019\n",
            "valid_loss=0.018, test_los0.019, Model Save\n",
            "epoch = 15, train_loss : 0.030, valid_loss : 0.018, test_loss : 0.019\n"
          ]
        },
        {
          "output_type": "stream",
          "name": "stderr",
          "text": [
            " 60%|██████    | 18/30 [00:01<00:00, 13.03it/s]"
          ]
        },
        {
          "output_type": "stream",
          "name": "stdout",
          "text": [
            "valid_loss=0.018, test_los0.019, Model Save\n",
            "epoch = 16, train_loss : 0.029, valid_loss : 0.018, test_loss : 0.019\n",
            "valid_loss=0.018, test_los0.019, Model Save\n",
            "epoch = 17, train_loss : 0.029, valid_loss : 0.018, test_loss : 0.019\n",
            "valid_loss=0.018, test_los0.018, Model Save\n",
            "epoch = 18, train_loss : 0.029, valid_loss : 0.018, test_loss : 0.018\n"
          ]
        },
        {
          "output_type": "stream",
          "name": "stderr",
          "text": [
            "\r 67%|██████▋   | 20/30 [00:01<00:00, 12.42it/s]"
          ]
        },
        {
          "output_type": "stream",
          "name": "stdout",
          "text": [
            "valid_loss=0.018, test_los0.018, Model Save\n",
            "epoch = 19, train_loss : 0.029, valid_loss : 0.018, test_loss : 0.018\n",
            "valid_loss=0.018, test_los0.018, Model Save\n",
            "epoch = 20, train_loss : 0.029, valid_loss : 0.018, test_loss : 0.018\n",
            "valid_loss=0.017, test_los0.018, Model Save\n",
            "epoch = 21, train_loss : 0.028, valid_loss : 0.017, test_loss : 0.018\n"
          ]
        },
        {
          "output_type": "stream",
          "name": "stderr",
          "text": [
            " 80%|████████  | 24/30 [00:01<00:00, 11.82it/s]"
          ]
        },
        {
          "output_type": "stream",
          "name": "stdout",
          "text": [
            "valid_loss=0.017, test_los0.018, Model Save\n",
            "epoch = 22, train_loss : 0.028, valid_loss : 0.017, test_loss : 0.018\n",
            "valid_loss=0.017, test_los0.018, Model Save\n",
            "epoch = 23, train_loss : 0.028, valid_loss : 0.017, test_loss : 0.018\n",
            "valid_loss=0.017, test_los0.018, Model Save\n",
            "epoch = 24, train_loss : 0.028, valid_loss : 0.017, test_loss : 0.018\n"
          ]
        },
        {
          "output_type": "stream",
          "name": "stderr",
          "text": [
            "\r 87%|████████▋ | 26/30 [00:02<00:00, 11.72it/s]"
          ]
        },
        {
          "output_type": "stream",
          "name": "stdout",
          "text": [
            "valid_loss=0.017, test_los0.018, Model Save\n",
            "epoch = 25, train_loss : 0.028, valid_loss : 0.017, test_loss : 0.018\n",
            "valid_loss=0.017, test_los0.018, Model Save\n",
            "epoch = 26, train_loss : 0.028, valid_loss : 0.017, test_loss : 0.018\n",
            "valid_loss=0.017, test_los0.018, Model Save\n",
            "epoch = 27, train_loss : 0.028, valid_loss : 0.017, test_loss : 0.018\n"
          ]
        },
        {
          "output_type": "stream",
          "name": "stderr",
          "text": [
            "100%|██████████| 30/30 [00:02<00:00, 12.13it/s]"
          ]
        },
        {
          "output_type": "stream",
          "name": "stdout",
          "text": [
            "valid_loss=0.017, test_los0.018, Model Save\n",
            "epoch = 28, train_loss : 0.028, valid_loss : 0.017, test_loss : 0.018\n",
            "valid_loss=0.017, test_los0.018, Model Save\n",
            "epoch = 29, train_loss : 0.027, valid_loss : 0.017, test_loss : 0.018\n",
            "valid_loss=0.017, test_los0.018, Model Save\n",
            "epoch = 30, train_loss : 0.027, valid_loss : 0.017, test_loss : 0.018\n"
          ]
        },
        {
          "output_type": "stream",
          "name": "stderr",
          "text": [
            "\n",
            "  7%|▋         | 2/30 [00:00<00:01, 14.20it/s]"
          ]
        },
        {
          "output_type": "stream",
          "name": "stdout",
          "text": [
            "valid_loss=0.100, test_los0.199, Model Save\n",
            "epoch = 1, train_loss : 0.125, valid_loss : 0.100, test_loss : 0.199\n",
            "valid_loss=0.089, test_los0.215, Model Save\n",
            "epoch = 2, train_loss : 0.092, valid_loss : 0.089, test_loss : 0.215\n",
            "valid_loss=0.076, test_los0.201, Model Save\n",
            "epoch = 3, train_loss : 0.077, valid_loss : 0.076, test_loss : 0.201\n"
          ]
        },
        {
          "output_type": "stream",
          "name": "stderr",
          "text": [
            " 20%|██        | 6/30 [00:00<00:01, 13.00it/s]"
          ]
        },
        {
          "output_type": "stream",
          "name": "stdout",
          "text": [
            "valid_loss=0.065, test_los0.177, Model Save\n",
            "epoch = 4, train_loss : 0.066, valid_loss : 0.065, test_loss : 0.177\n",
            "valid_loss=0.057, test_los0.155, Model Save\n",
            "epoch = 5, train_loss : 0.057, valid_loss : 0.057, test_loss : 0.155\n",
            "valid_loss=0.051, test_los0.138, Model Save\n",
            "epoch = 6, train_loss : 0.051, valid_loss : 0.051, test_loss : 0.138\n"
          ]
        },
        {
          "output_type": "stream",
          "name": "stderr",
          "text": [
            "\r 27%|██▋       | 8/30 [00:00<00:01, 12.37it/s]"
          ]
        },
        {
          "output_type": "stream",
          "name": "stdout",
          "text": [
            "valid_loss=0.046, test_los0.125, Model Save\n",
            "epoch = 7, train_loss : 0.046, valid_loss : 0.046, test_loss : 0.125\n",
            "valid_loss=0.043, test_los0.116, Model Save\n",
            "epoch = 8, train_loss : 0.043, valid_loss : 0.043, test_loss : 0.116\n",
            "valid_loss=0.040, test_los0.109, Model Save\n",
            "epoch = 9, train_loss : 0.040, valid_loss : 0.040, test_loss : 0.109\n"
          ]
        },
        {
          "output_type": "stream",
          "name": "stderr",
          "text": [
            " 40%|████      | 12/30 [00:00<00:01, 11.59it/s]"
          ]
        },
        {
          "output_type": "stream",
          "name": "stdout",
          "text": [
            "valid_loss=0.039, test_los0.104, Model Save\n",
            "epoch = 10, train_loss : 0.038, valid_loss : 0.039, test_loss : 0.104\n",
            "valid_loss=0.038, test_los0.100, Model Save\n",
            "epoch = 11, train_loss : 0.037, valid_loss : 0.038, test_loss : 0.100\n",
            "valid_loss=0.037, test_los0.096, Model Save\n",
            "epoch = 12, train_loss : 0.036, valid_loss : 0.037, test_loss : 0.096\n"
          ]
        },
        {
          "output_type": "stream",
          "name": "stderr",
          "text": [
            "\r 47%|████▋     | 14/30 [00:01<00:01, 12.10it/s]"
          ]
        },
        {
          "output_type": "stream",
          "name": "stdout",
          "text": [
            "valid_loss=0.036, test_los0.094, Model Save\n",
            "epoch = 13, train_loss : 0.035, valid_loss : 0.036, test_loss : 0.094\n",
            "valid_loss=0.035, test_los0.092, Model Save\n",
            "epoch = 14, train_loss : 0.035, valid_loss : 0.035, test_loss : 0.092\n",
            "valid_loss=0.035, test_los0.090, Model Save\n",
            "epoch = 15, train_loss : 0.034, valid_loss : 0.035, test_loss : 0.090\n"
          ]
        },
        {
          "output_type": "stream",
          "name": "stderr",
          "text": [
            " 60%|██████    | 18/30 [00:01<00:00, 12.89it/s]"
          ]
        },
        {
          "output_type": "stream",
          "name": "stdout",
          "text": [
            "valid_loss=0.034, test_los0.089, Model Save\n",
            "epoch = 16, train_loss : 0.034, valid_loss : 0.034, test_loss : 0.089\n",
            "valid_loss=0.034, test_los0.087, Model Save\n",
            "epoch = 17, train_loss : 0.033, valid_loss : 0.034, test_loss : 0.087\n",
            "valid_loss=0.034, test_los0.086, Model Save\n",
            "epoch = 18, train_loss : 0.033, valid_loss : 0.034, test_loss : 0.086\n"
          ]
        },
        {
          "output_type": "stream",
          "name": "stderr",
          "text": [
            "\r 67%|██████▋   | 20/30 [00:01<00:00, 13.27it/s]"
          ]
        },
        {
          "output_type": "stream",
          "name": "stdout",
          "text": [
            "valid_loss=0.033, test_los0.085, Model Save\n",
            "epoch = 19, train_loss : 0.033, valid_loss : 0.033, test_loss : 0.085\n",
            "valid_loss=0.033, test_los0.084, Model Save\n",
            "epoch = 20, train_loss : 0.032, valid_loss : 0.033, test_loss : 0.084\n",
            "valid_loss=0.033, test_los0.084, Model Save\n",
            "epoch = 21, train_loss : 0.032, valid_loss : 0.033, test_loss : 0.084\n"
          ]
        },
        {
          "output_type": "stream",
          "name": "stderr",
          "text": [
            " 80%|████████  | 24/30 [00:01<00:00, 13.00it/s]"
          ]
        },
        {
          "output_type": "stream",
          "name": "stdout",
          "text": [
            "valid_loss=0.033, test_los0.083, Model Save\n",
            "epoch = 22, train_loss : 0.032, valid_loss : 0.033, test_loss : 0.083\n",
            "valid_loss=0.032, test_los0.083, Model Save\n",
            "epoch = 23, train_loss : 0.032, valid_loss : 0.032, test_loss : 0.083\n",
            "valid_loss=0.032, test_los0.082, Model Save\n",
            "epoch = 24, train_loss : 0.031, valid_loss : 0.032, test_loss : 0.082\n"
          ]
        },
        {
          "output_type": "stream",
          "name": "stderr",
          "text": [
            "\r 87%|████████▋ | 26/30 [00:02<00:00, 12.96it/s]"
          ]
        },
        {
          "output_type": "stream",
          "name": "stdout",
          "text": [
            "valid_loss=0.032, test_los0.082, Model Save\n",
            "epoch = 25, train_loss : 0.031, valid_loss : 0.032, test_loss : 0.082\n",
            "valid_loss=0.032, test_los0.081, Model Save\n",
            "epoch = 26, train_loss : 0.031, valid_loss : 0.032, test_loss : 0.081\n",
            "valid_loss=0.032, test_los0.081, Model Save\n",
            "epoch = 27, train_loss : 0.031, valid_loss : 0.032, test_loss : 0.081\n"
          ]
        },
        {
          "output_type": "stream",
          "name": "stderr",
          "text": [
            "100%|██████████| 30/30 [00:02<00:00, 12.77it/s]"
          ]
        },
        {
          "output_type": "stream",
          "name": "stdout",
          "text": [
            "valid_loss=0.032, test_los0.080, Model Save\n",
            "epoch = 28, train_loss : 0.031, valid_loss : 0.032, test_loss : 0.080\n",
            "valid_loss=0.032, test_los0.080, Model Save\n",
            "epoch = 29, train_loss : 0.031, valid_loss : 0.032, test_loss : 0.080\n",
            "valid_loss=0.032, test_los0.080, Model Save\n",
            "epoch = 30, train_loss : 0.030, valid_loss : 0.032, test_loss : 0.080\n"
          ]
        },
        {
          "output_type": "stream",
          "name": "stderr",
          "text": [
            "\n",
            "  7%|▋         | 2/30 [00:00<00:02, 13.38it/s]"
          ]
        },
        {
          "output_type": "stream",
          "name": "stdout",
          "text": [
            "valid_loss=0.183, test_los0.124, Model Save\n",
            "epoch = 1, train_loss : 0.086, valid_loss : 0.183, test_loss : 0.124\n",
            "valid_loss=0.145, test_los0.097, Model Save\n",
            "epoch = 2, train_loss : 0.050, valid_loss : 0.145, test_loss : 0.097\n",
            "valid_loss=0.112, test_los0.075, Model Save\n",
            "epoch = 3, train_loss : 0.038, valid_loss : 0.112, test_loss : 0.075\n"
          ]
        },
        {
          "output_type": "stream",
          "name": "stderr",
          "text": [
            " 20%|██        | 6/30 [00:00<00:01, 14.53it/s]"
          ]
        },
        {
          "output_type": "stream",
          "name": "stdout",
          "text": [
            "valid_loss=0.083, test_los0.057, Model Save\n",
            "epoch = 4, train_loss : 0.030, valid_loss : 0.083, test_loss : 0.057\n",
            "valid_loss=0.061, test_los0.043, Model Save\n",
            "epoch = 5, train_loss : 0.024, valid_loss : 0.061, test_loss : 0.043\n",
            "valid_loss=0.045, test_los0.033, Model Save\n",
            "epoch = 6, train_loss : 0.019, valid_loss : 0.045, test_loss : 0.033\n",
            "valid_loss=0.033, test_los0.025, Model Save\n",
            "epoch = 7, train_loss : 0.016, valid_loss : 0.033, test_loss : 0.025\n"
          ]
        },
        {
          "output_type": "stream",
          "name": "stderr",
          "text": [
            " 33%|███▎      | 10/30 [00:00<00:01, 14.35it/s]"
          ]
        },
        {
          "output_type": "stream",
          "name": "stdout",
          "text": [
            "valid_loss=0.024, test_los0.020, Model Save\n",
            "epoch = 8, train_loss : 0.013, valid_loss : 0.024, test_loss : 0.020\n",
            "valid_loss=0.018, test_los0.016, Model Save\n",
            "epoch = 9, train_loss : 0.011, valid_loss : 0.018, test_loss : 0.016\n",
            "valid_loss=0.014, test_los0.014, Model Save\n",
            "epoch = 10, train_loss : 0.010, valid_loss : 0.014, test_loss : 0.014\n"
          ]
        },
        {
          "output_type": "stream",
          "name": "stderr",
          "text": [
            " 47%|████▋     | 14/30 [00:00<00:01, 14.41it/s]"
          ]
        },
        {
          "output_type": "stream",
          "name": "stdout",
          "text": [
            "valid_loss=0.011, test_los0.012, Model Save\n",
            "epoch = 11, train_loss : 0.009, valid_loss : 0.011, test_loss : 0.012\n",
            "valid_loss=0.009, test_los0.011, Model Save\n",
            "epoch = 12, train_loss : 0.009, valid_loss : 0.009, test_loss : 0.011\n",
            "valid_loss=0.007, test_los0.010, Model Save\n",
            "epoch = 13, train_loss : 0.008, valid_loss : 0.007, test_loss : 0.010\n",
            "valid_loss=0.007, test_los0.009, Model Save\n",
            "epoch = 14, train_loss : 0.008, valid_loss : 0.007, test_loss : 0.009\n"
          ]
        },
        {
          "output_type": "stream",
          "name": "stderr",
          "text": [
            "\r 53%|█████▎    | 16/30 [00:01<00:01, 13.90it/s]"
          ]
        },
        {
          "output_type": "stream",
          "name": "stdout",
          "text": [
            "valid_loss=0.006, test_los0.009, Model Save\n",
            "epoch = 15, train_loss : 0.008, valid_loss : 0.006, test_loss : 0.009\n",
            "valid_loss=0.006, test_los0.009, Model Save\n",
            "epoch = 16, train_loss : 0.008, valid_loss : 0.006, test_loss : 0.009\n",
            "valid_loss=0.006, test_los0.009, Model Save\n",
            "epoch = 17, train_loss : 0.007, valid_loss : 0.006, test_loss : 0.009\n"
          ]
        },
        {
          "output_type": "stream",
          "name": "stderr",
          "text": [
            "\r 60%|██████    | 18/30 [00:01<00:01, 11.96it/s]"
          ]
        },
        {
          "output_type": "stream",
          "name": "stdout",
          "text": [
            "valid_loss=0.005, test_los0.009, Model Save\n",
            "epoch = 18, train_loss : 0.007, valid_loss : 0.005, test_loss : 0.009\n",
            "valid_loss=0.005, test_los0.009, Model Save\n",
            "epoch = 19, train_loss : 0.007, valid_loss : 0.005, test_loss : 0.009\n"
          ]
        },
        {
          "output_type": "stream",
          "name": "stderr",
          "text": [
            "\r 67%|██████▋   | 20/30 [00:01<00:00, 10.26it/s]"
          ]
        },
        {
          "output_type": "stream",
          "name": "stdout",
          "text": [
            "valid_loss=0.005, test_los0.009, Model Save\n",
            "epoch = 20, train_loss : 0.007, valid_loss : 0.005, test_loss : 0.009\n",
            "valid_loss=0.005, test_los0.009, Model Save\n",
            "epoch = 21, train_loss : 0.007, valid_loss : 0.005, test_loss : 0.009\n"
          ]
        },
        {
          "output_type": "stream",
          "name": "stderr",
          "text": [
            "\r 73%|███████▎  | 22/30 [00:01<00:00,  9.79it/s]"
          ]
        },
        {
          "output_type": "stream",
          "name": "stdout",
          "text": [
            "valid_loss=0.005, test_los0.009, Model Save\n",
            "epoch = 22, train_loss : 0.007, valid_loss : 0.005, test_loss : 0.009\n",
            "valid_loss=0.005, test_los0.009, Model Save\n",
            "epoch = 23, train_loss : 0.007, valid_loss : 0.005, test_loss : 0.009\n"
          ]
        },
        {
          "output_type": "stream",
          "name": "stderr",
          "text": [
            " 83%|████████▎ | 25/30 [00:02<00:00,  9.00it/s]"
          ]
        },
        {
          "output_type": "stream",
          "name": "stdout",
          "text": [
            "valid_loss=0.005, test_los0.008, Model Save\n",
            "epoch = 24, train_loss : 0.007, valid_loss : 0.005, test_loss : 0.008\n",
            "valid_loss=0.005, test_los0.008, Model Save\n",
            "epoch = 25, train_loss : 0.007, valid_loss : 0.005, test_loss : 0.008\n"
          ]
        },
        {
          "output_type": "stream",
          "name": "stderr",
          "text": [
            " 90%|█████████ | 27/30 [00:02<00:00,  8.35it/s]"
          ]
        },
        {
          "output_type": "stream",
          "name": "stdout",
          "text": [
            "valid_loss=0.005, test_los0.008, Model Save\n",
            "epoch = 26, train_loss : 0.007, valid_loss : 0.005, test_loss : 0.008\n",
            "valid_loss=0.005, test_los0.008, Model Save\n",
            "epoch = 27, train_loss : 0.007, valid_loss : 0.005, test_loss : 0.008\n"
          ]
        },
        {
          "output_type": "stream",
          "name": "stderr",
          "text": [
            " 97%|█████████▋| 29/30 [00:02<00:00,  7.76it/s]"
          ]
        },
        {
          "output_type": "stream",
          "name": "stdout",
          "text": [
            "valid_loss=0.005, test_los0.008, Model Save\n",
            "epoch = 28, train_loss : 0.007, valid_loss : 0.005, test_loss : 0.008\n",
            "valid_loss=0.005, test_los0.008, Model Save\n",
            "epoch = 29, train_loss : 0.007, valid_loss : 0.005, test_loss : 0.008\n"
          ]
        },
        {
          "output_type": "stream",
          "name": "stderr",
          "text": [
            "100%|██████████| 30/30 [00:02<00:00, 10.42it/s]\n"
          ]
        },
        {
          "output_type": "stream",
          "name": "stdout",
          "text": [
            "valid_loss=0.005, test_los0.008, Model Save\n",
            "epoch = 30, train_loss : 0.007, valid_loss : 0.005, test_loss : 0.008\n"
          ]
        },
        {
          "output_type": "stream",
          "name": "stderr",
          "text": [
            "  7%|▋         | 2/30 [00:00<00:03,  8.61it/s]"
          ]
        },
        {
          "output_type": "stream",
          "name": "stdout",
          "text": [
            "valid_loss=0.157, test_los0.104, Model Save\n",
            "epoch = 1, train_loss : 0.099, valid_loss : 0.157, test_loss : 0.104\n",
            "valid_loss=0.108, test_los0.079, Model Save\n",
            "epoch = 2, train_loss : 0.062, valid_loss : 0.108, test_loss : 0.079\n"
          ]
        },
        {
          "output_type": "stream",
          "name": "stderr",
          "text": [
            " 13%|█▎        | 4/30 [00:00<00:03,  8.38it/s]"
          ]
        },
        {
          "output_type": "stream",
          "name": "stdout",
          "text": [
            "valid_loss=0.079, test_los0.063, Model Save\n",
            "epoch = 3, train_loss : 0.048, valid_loss : 0.079, test_loss : 0.063\n",
            "valid_loss=0.059, test_los0.051, Model Save\n",
            "epoch = 4, train_loss : 0.039, valid_loss : 0.059, test_loss : 0.051\n"
          ]
        },
        {
          "output_type": "stream",
          "name": "stderr",
          "text": [
            " 20%|██        | 6/30 [00:00<00:02,  8.07it/s]"
          ]
        },
        {
          "output_type": "stream",
          "name": "stdout",
          "text": [
            "valid_loss=0.046, test_los0.043, Model Save\n",
            "epoch = 5, train_loss : 0.032, valid_loss : 0.046, test_loss : 0.043\n",
            "valid_loss=0.037, test_los0.037, Model Save\n",
            "epoch = 6, train_loss : 0.027, valid_loss : 0.037, test_loss : 0.037\n"
          ]
        },
        {
          "output_type": "stream",
          "name": "stderr",
          "text": [
            " 27%|██▋       | 8/30 [00:01<00:02,  7.61it/s]"
          ]
        },
        {
          "output_type": "stream",
          "name": "stdout",
          "text": [
            "valid_loss=0.031, test_los0.032, Model Save\n",
            "epoch = 7, train_loss : 0.023, valid_loss : 0.031, test_loss : 0.032\n",
            "valid_loss=0.026, test_los0.029, Model Save\n",
            "epoch = 8, train_loss : 0.021, valid_loss : 0.026, test_loss : 0.029\n"
          ]
        },
        {
          "output_type": "stream",
          "name": "stderr",
          "text": [
            " 33%|███▎      | 10/30 [00:01<00:02,  7.54it/s]"
          ]
        },
        {
          "output_type": "stream",
          "name": "stdout",
          "text": [
            "valid_loss=0.023, test_los0.026, Model Save\n",
            "epoch = 9, train_loss : 0.019, valid_loss : 0.023, test_loss : 0.026\n",
            "valid_loss=0.021, test_los0.024, Model Save\n",
            "epoch = 10, train_loss : 0.018, valid_loss : 0.021, test_loss : 0.024\n"
          ]
        },
        {
          "output_type": "stream",
          "name": "stderr",
          "text": [
            " 40%|████      | 12/30 [00:01<00:02,  7.43it/s]"
          ]
        },
        {
          "output_type": "stream",
          "name": "stdout",
          "text": [
            "valid_loss=0.020, test_los0.023, Model Save\n",
            "epoch = 11, train_loss : 0.017, valid_loss : 0.020, test_loss : 0.023\n",
            "valid_loss=0.019, test_los0.022, Model Save\n",
            "epoch = 12, train_loss : 0.016, valid_loss : 0.019, test_loss : 0.022\n"
          ]
        },
        {
          "output_type": "stream",
          "name": "stderr",
          "text": [
            " 50%|█████     | 15/30 [00:01<00:01,  9.20it/s]"
          ]
        },
        {
          "output_type": "stream",
          "name": "stdout",
          "text": [
            "valid_loss=0.018, test_los0.021, Model Save\n",
            "epoch = 13, train_loss : 0.016, valid_loss : 0.018, test_loss : 0.021\n",
            "valid_loss=0.018, test_los0.021, Model Save\n",
            "epoch = 14, train_loss : 0.016, valid_loss : 0.018, test_loss : 0.021\n",
            "valid_loss=0.017, test_los0.020, Model Save\n",
            "epoch = 15, train_loss : 0.015, valid_loss : 0.017, test_loss : 0.020\n"
          ]
        },
        {
          "output_type": "stream",
          "name": "stderr",
          "text": [
            "\r 57%|█████▋    | 17/30 [00:01<00:01, 10.57it/s]"
          ]
        },
        {
          "output_type": "stream",
          "name": "stdout",
          "text": [
            "valid_loss=0.017, test_los0.020, Model Save\n",
            "epoch = 16, train_loss : 0.015, valid_loss : 0.017, test_loss : 0.020\n",
            "valid_loss=0.017, test_los0.019, Model Save\n",
            "epoch = 17, train_loss : 0.015, valid_loss : 0.017, test_loss : 0.019\n",
            "valid_loss=0.017, test_los0.019, Model Save\n",
            "epoch = 18, train_loss : 0.015, valid_loss : 0.017, test_loss : 0.019\n"
          ]
        },
        {
          "output_type": "stream",
          "name": "stderr",
          "text": [
            " 70%|███████   | 21/30 [00:02<00:00, 11.75it/s]"
          ]
        },
        {
          "output_type": "stream",
          "name": "stdout",
          "text": [
            "valid_loss=0.017, test_los0.019, Model Save\n",
            "epoch = 19, train_loss : 0.015, valid_loss : 0.017, test_loss : 0.019\n",
            "valid_loss=0.016, test_los0.018, Model Save\n",
            "epoch = 20, train_loss : 0.015, valid_loss : 0.016, test_loss : 0.018\n",
            "valid_loss=0.016, test_los0.018, Model Save\n",
            "epoch = 21, train_loss : 0.015, valid_loss : 0.016, test_loss : 0.018\n"
          ]
        },
        {
          "output_type": "stream",
          "name": "stderr",
          "text": [
            "\r 77%|███████▋  | 23/30 [00:02<00:00, 12.16it/s]"
          ]
        },
        {
          "output_type": "stream",
          "name": "stdout",
          "text": [
            "valid_loss=0.016, test_los0.018, Model Save\n",
            "epoch = 22, train_loss : 0.014, valid_loss : 0.016, test_loss : 0.018\n",
            "valid_loss=0.016, test_los0.018, Model Save\n",
            "epoch = 23, train_loss : 0.014, valid_loss : 0.016, test_loss : 0.018\n",
            "valid_loss=0.016, test_los0.018, Model Save\n",
            "epoch = 24, train_loss : 0.014, valid_loss : 0.016, test_loss : 0.018\n"
          ]
        },
        {
          "output_type": "stream",
          "name": "stderr",
          "text": [
            " 90%|█████████ | 27/30 [00:02<00:00, 12.53it/s]"
          ]
        },
        {
          "output_type": "stream",
          "name": "stdout",
          "text": [
            "valid_loss=0.016, test_los0.018, Model Save\n",
            "epoch = 25, train_loss : 0.014, valid_loss : 0.016, test_loss : 0.018\n",
            "valid_loss=0.016, test_los0.018, Model Save\n",
            "epoch = 26, train_loss : 0.014, valid_loss : 0.016, test_loss : 0.018\n",
            "valid_loss=0.016, test_los0.017, Model Save\n",
            "epoch = 27, train_loss : 0.014, valid_loss : 0.016, test_loss : 0.017\n"
          ]
        },
        {
          "output_type": "stream",
          "name": "stderr",
          "text": [
            "100%|██████████| 30/30 [00:02<00:00, 10.04it/s]"
          ]
        },
        {
          "output_type": "stream",
          "name": "stdout",
          "text": [
            "valid_loss=0.016, test_los0.017, Model Save\n",
            "epoch = 28, train_loss : 0.014, valid_loss : 0.016, test_loss : 0.017\n",
            "valid_loss=0.016, test_los0.017, Model Save\n",
            "epoch = 29, train_loss : 0.014, valid_loss : 0.016, test_loss : 0.017\n",
            "valid_loss=0.015, test_los0.017, Model Save\n",
            "epoch = 30, train_loss : 0.014, valid_loss : 0.015, test_loss : 0.017\n"
          ]
        },
        {
          "output_type": "stream",
          "name": "stderr",
          "text": [
            "\n",
            "  7%|▋         | 2/30 [00:00<00:01, 15.28it/s]"
          ]
        },
        {
          "output_type": "stream",
          "name": "stdout",
          "text": [
            "valid_loss=0.144, test_los0.066, Model Save\n",
            "epoch = 1, train_loss : 0.077, valid_loss : 0.144, test_loss : 0.066\n",
            "valid_loss=0.094, test_los0.049, Model Save\n",
            "epoch = 2, train_loss : 0.046, valid_loss : 0.094, test_loss : 0.049\n",
            "valid_loss=0.066, test_los0.037, Model Save\n",
            "epoch = 3, train_loss : 0.035, valid_loss : 0.066, test_loss : 0.037\n"
          ]
        },
        {
          "output_type": "stream",
          "name": "stderr",
          "text": [
            " 20%|██        | 6/30 [00:00<00:01, 13.23it/s]"
          ]
        },
        {
          "output_type": "stream",
          "name": "stdout",
          "text": [
            "valid_loss=0.048, test_los0.028, Model Save\n",
            "epoch = 4, train_loss : 0.027, valid_loss : 0.048, test_loss : 0.028\n",
            "valid_loss=0.036, test_los0.022, Model Save\n",
            "epoch = 5, train_loss : 0.022, valid_loss : 0.036, test_loss : 0.022\n",
            "valid_loss=0.029, test_los0.018, Model Save\n",
            "epoch = 6, train_loss : 0.018, valid_loss : 0.029, test_loss : 0.018\n"
          ]
        },
        {
          "output_type": "stream",
          "name": "stderr",
          "text": [
            "\r 27%|██▋       | 8/30 [00:00<00:01, 12.82it/s]"
          ]
        },
        {
          "output_type": "stream",
          "name": "stdout",
          "text": [
            "valid_loss=0.023, test_los0.015, Model Save\n",
            "epoch = 7, train_loss : 0.015, valid_loss : 0.023, test_loss : 0.015\n",
            "valid_loss=0.020, test_los0.014, Model Save\n",
            "epoch = 8, train_loss : 0.013, valid_loss : 0.020, test_loss : 0.014\n",
            "valid_loss=0.017, test_los0.012, Model Save\n",
            "epoch = 9, train_loss : 0.012, valid_loss : 0.017, test_loss : 0.012\n"
          ]
        },
        {
          "output_type": "stream",
          "name": "stderr",
          "text": [
            " 40%|████      | 12/30 [00:00<00:01, 12.49it/s]"
          ]
        },
        {
          "output_type": "stream",
          "name": "stdout",
          "text": [
            "valid_loss=0.015, test_los0.011, Model Save\n",
            "epoch = 10, train_loss : 0.011, valid_loss : 0.015, test_loss : 0.011\n",
            "valid_loss=0.014, test_los0.011, Model Save\n",
            "epoch = 11, train_loss : 0.011, valid_loss : 0.014, test_loss : 0.011\n",
            "valid_loss=0.014, test_los0.010, Model Save\n",
            "epoch = 12, train_loss : 0.010, valid_loss : 0.014, test_loss : 0.010\n"
          ]
        },
        {
          "output_type": "stream",
          "name": "stderr",
          "text": [
            "\r 47%|████▋     | 14/30 [00:01<00:01, 12.95it/s]"
          ]
        },
        {
          "output_type": "stream",
          "name": "stdout",
          "text": [
            "valid_loss=0.013, test_los0.010, Model Save\n",
            "epoch = 13, train_loss : 0.010, valid_loss : 0.013, test_loss : 0.010\n",
            "valid_loss=0.013, test_los0.010, Model Save\n",
            "epoch = 14, train_loss : 0.010, valid_loss : 0.013, test_loss : 0.010\n",
            "valid_loss=0.012, test_los0.010, Model Save\n",
            "epoch = 15, train_loss : 0.010, valid_loss : 0.012, test_loss : 0.010\n"
          ]
        },
        {
          "output_type": "stream",
          "name": "stderr",
          "text": [
            " 60%|██████    | 18/30 [00:01<00:00, 12.97it/s]"
          ]
        },
        {
          "output_type": "stream",
          "name": "stdout",
          "text": [
            "valid_loss=0.012, test_los0.009, Model Save\n",
            "epoch = 16, train_loss : 0.010, valid_loss : 0.012, test_loss : 0.009\n",
            "valid_loss=0.012, test_los0.009, Model Save\n",
            "epoch = 17, train_loss : 0.010, valid_loss : 0.012, test_loss : 0.009\n",
            "valid_loss=0.012, test_los0.009, Model Save\n",
            "epoch = 18, train_loss : 0.009, valid_loss : 0.012, test_loss : 0.009\n"
          ]
        },
        {
          "output_type": "stream",
          "name": "stderr",
          "text": [
            "\r 67%|██████▋   | 20/30 [00:01<00:00, 13.03it/s]"
          ]
        },
        {
          "output_type": "stream",
          "name": "stdout",
          "text": [
            "valid_loss=0.012, test_los0.009, Model Save\n",
            "epoch = 19, train_loss : 0.009, valid_loss : 0.012, test_loss : 0.009\n",
            "valid_loss=0.011, test_los0.009, Model Save\n",
            "epoch = 20, train_loss : 0.009, valid_loss : 0.011, test_loss : 0.009\n",
            "valid_loss=0.011, test_los0.009, Model Save\n",
            "epoch = 21, train_loss : 0.009, valid_loss : 0.011, test_loss : 0.009\n"
          ]
        },
        {
          "output_type": "stream",
          "name": "stderr",
          "text": [
            " 80%|████████  | 24/30 [00:01<00:00, 12.76it/s]"
          ]
        },
        {
          "output_type": "stream",
          "name": "stdout",
          "text": [
            "valid_loss=0.011, test_los0.009, Model Save\n",
            "epoch = 22, train_loss : 0.009, valid_loss : 0.011, test_loss : 0.009\n",
            "valid_loss=0.011, test_los0.009, Model Save\n",
            "epoch = 23, train_loss : 0.009, valid_loss : 0.011, test_loss : 0.009\n",
            "valid_loss=0.011, test_los0.009, Model Save\n",
            "epoch = 24, train_loss : 0.009, valid_loss : 0.011, test_loss : 0.009\n"
          ]
        },
        {
          "output_type": "stream",
          "name": "stderr",
          "text": [
            "\r 87%|████████▋ | 26/30 [00:02<00:00, 12.99it/s]"
          ]
        },
        {
          "output_type": "stream",
          "name": "stdout",
          "text": [
            "valid_loss=0.011, test_los0.009, Model Save\n",
            "epoch = 25, train_loss : 0.009, valid_loss : 0.011, test_loss : 0.009\n",
            "valid_loss=0.011, test_los0.009, Model Save\n",
            "epoch = 26, train_loss : 0.009, valid_loss : 0.011, test_loss : 0.009\n",
            "valid_loss=0.011, test_los0.009, Model Save\n",
            "epoch = 27, train_loss : 0.009, valid_loss : 0.011, test_loss : 0.009\n"
          ]
        },
        {
          "output_type": "stream",
          "name": "stderr",
          "text": [
            "100%|██████████| 30/30 [00:02<00:00, 13.05it/s]"
          ]
        },
        {
          "output_type": "stream",
          "name": "stdout",
          "text": [
            "valid_loss=0.011, test_los0.009, Model Save\n",
            "epoch = 28, train_loss : 0.009, valid_loss : 0.011, test_loss : 0.009\n",
            "valid_loss=0.011, test_los0.009, Model Save\n",
            "epoch = 29, train_loss : 0.009, valid_loss : 0.011, test_loss : 0.009\n",
            "valid_loss=0.011, test_los0.009, Model Save\n",
            "epoch = 30, train_loss : 0.009, valid_loss : 0.011, test_loss : 0.009\n"
          ]
        },
        {
          "output_type": "stream",
          "name": "stderr",
          "text": [
            "\n",
            "  7%|▋         | 2/30 [00:00<00:02, 11.69it/s]"
          ]
        },
        {
          "output_type": "stream",
          "name": "stdout",
          "text": [
            "valid_loss=0.076, test_los0.162, Model Save\n",
            "epoch = 1, train_loss : 0.109, valid_loss : 0.076, test_loss : 0.162\n",
            "valid_loss=0.067, test_los0.146, Model Save\n",
            "epoch = 2, train_loss : 0.085, valid_loss : 0.067, test_loss : 0.146\n",
            "valid_loss=0.059, test_los0.128, Model Save\n",
            "epoch = 3, train_loss : 0.076, valid_loss : 0.059, test_loss : 0.128\n"
          ]
        },
        {
          "output_type": "stream",
          "name": "stderr",
          "text": [
            " 20%|██        | 6/30 [00:00<00:01, 13.40it/s]"
          ]
        },
        {
          "output_type": "stream",
          "name": "stdout",
          "text": [
            "valid_loss=0.054, test_los0.114, Model Save\n",
            "epoch = 4, train_loss : 0.068, valid_loss : 0.054, test_loss : 0.114\n",
            "valid_loss=0.051, test_los0.104, Model Save\n",
            "epoch = 5, train_loss : 0.064, valid_loss : 0.051, test_loss : 0.104\n",
            "valid_loss=0.049, test_los0.096, Model Save\n",
            "epoch = 6, train_loss : 0.060, valid_loss : 0.049, test_loss : 0.096\n"
          ]
        },
        {
          "output_type": "stream",
          "name": "stderr",
          "text": [
            "\r 27%|██▋       | 8/30 [00:00<00:01, 13.06it/s]"
          ]
        },
        {
          "output_type": "stream",
          "name": "stdout",
          "text": [
            "valid_loss=0.047, test_los0.090, Model Save\n",
            "epoch = 7, train_loss : 0.058, valid_loss : 0.047, test_loss : 0.090\n",
            "valid_loss=0.046, test_los0.086, Model Save\n",
            "epoch = 8, train_loss : 0.056, valid_loss : 0.046, test_loss : 0.086\n",
            "valid_loss=0.045, test_los0.083, Model Save\n",
            "epoch = 9, train_loss : 0.055, valid_loss : 0.045, test_loss : 0.083\n"
          ]
        },
        {
          "output_type": "stream",
          "name": "stderr",
          "text": [
            " 40%|████      | 12/30 [00:00<00:01, 13.21it/s]"
          ]
        },
        {
          "output_type": "stream",
          "name": "stdout",
          "text": [
            "valid_loss=0.044, test_los0.080, Model Save\n",
            "epoch = 10, train_loss : 0.054, valid_loss : 0.044, test_loss : 0.080\n",
            "valid_loss=0.044, test_los0.078, Model Save\n",
            "epoch = 11, train_loss : 0.053, valid_loss : 0.044, test_loss : 0.078\n",
            "valid_loss=0.043, test_los0.076, Model Save\n",
            "epoch = 12, train_loss : 0.052, valid_loss : 0.043, test_loss : 0.076\n"
          ]
        },
        {
          "output_type": "stream",
          "name": "stderr",
          "text": [
            "\r 47%|████▋     | 14/30 [00:01<00:01, 13.34it/s]"
          ]
        },
        {
          "output_type": "stream",
          "name": "stdout",
          "text": [
            "valid_loss=0.042, test_los0.074, Model Save\n",
            "epoch = 13, train_loss : 0.051, valid_loss : 0.042, test_loss : 0.074\n",
            "valid_loss=0.042, test_los0.073, Model Save\n",
            "epoch = 14, train_loss : 0.051, valid_loss : 0.042, test_loss : 0.073\n",
            "valid_loss=0.042, test_los0.072, Model Save\n",
            "epoch = 15, train_loss : 0.050, valid_loss : 0.042, test_loss : 0.072\n"
          ]
        },
        {
          "output_type": "stream",
          "name": "stderr",
          "text": [
            " 60%|██████    | 18/30 [00:01<00:00, 13.26it/s]"
          ]
        },
        {
          "output_type": "stream",
          "name": "stdout",
          "text": [
            "valid_loss=0.041, test_los0.071, Model Save\n",
            "epoch = 16, train_loss : 0.050, valid_loss : 0.041, test_loss : 0.071\n",
            "valid_loss=0.041, test_los0.070, Model Save\n",
            "epoch = 17, train_loss : 0.049, valid_loss : 0.041, test_loss : 0.070\n",
            "valid_loss=0.041, test_los0.069, Model Save\n",
            "epoch = 18, train_loss : 0.049, valid_loss : 0.041, test_loss : 0.069\n"
          ]
        },
        {
          "output_type": "stream",
          "name": "stderr",
          "text": [
            "\r 67%|██████▋   | 20/30 [00:01<00:00, 13.20it/s]"
          ]
        },
        {
          "output_type": "stream",
          "name": "stdout",
          "text": [
            "valid_loss=0.040, test_los0.069, Model Save\n",
            "epoch = 19, train_loss : 0.049, valid_loss : 0.040, test_loss : 0.069\n",
            "valid_loss=0.040, test_los0.068, Model Save\n",
            "epoch = 20, train_loss : 0.048, valid_loss : 0.040, test_loss : 0.068\n",
            "valid_loss=0.040, test_los0.068, Model Save\n",
            "epoch = 21, train_loss : 0.048, valid_loss : 0.040, test_loss : 0.068\n"
          ]
        },
        {
          "output_type": "stream",
          "name": "stderr",
          "text": [
            " 80%|████████  | 24/30 [00:01<00:00, 13.55it/s]"
          ]
        },
        {
          "output_type": "stream",
          "name": "stdout",
          "text": [
            "valid_loss=0.040, test_los0.067, Model Save\n",
            "epoch = 22, train_loss : 0.048, valid_loss : 0.040, test_loss : 0.067\n",
            "valid_loss=0.039, test_los0.067, Model Save\n",
            "epoch = 23, train_loss : 0.047, valid_loss : 0.039, test_loss : 0.067\n",
            "valid_loss=0.039, test_los0.067, Model Save\n",
            "epoch = 24, train_loss : 0.047, valid_loss : 0.039, test_loss : 0.067\n"
          ]
        },
        {
          "output_type": "stream",
          "name": "stderr",
          "text": [
            "\r 87%|████████▋ | 26/30 [00:01<00:00, 13.42it/s]"
          ]
        },
        {
          "output_type": "stream",
          "name": "stdout",
          "text": [
            "valid_loss=0.039, test_los0.066, Model Save\n",
            "epoch = 25, train_loss : 0.047, valid_loss : 0.039, test_loss : 0.066\n",
            "valid_loss=0.039, test_los0.066, Model Save\n",
            "epoch = 26, train_loss : 0.047, valid_loss : 0.039, test_loss : 0.066\n",
            "valid_loss=0.039, test_los0.066, Model Save\n",
            "epoch = 27, train_loss : 0.046, valid_loss : 0.039, test_loss : 0.066\n"
          ]
        },
        {
          "output_type": "stream",
          "name": "stderr",
          "text": [
            "100%|██████████| 30/30 [00:02<00:00, 13.26it/s]"
          ]
        },
        {
          "output_type": "stream",
          "name": "stdout",
          "text": [
            "valid_loss=0.039, test_los0.066, Model Save\n",
            "epoch = 28, train_loss : 0.046, valid_loss : 0.039, test_loss : 0.066\n",
            "valid_loss=0.039, test_los0.065, Model Save\n",
            "epoch = 29, train_loss : 0.046, valid_loss : 0.039, test_loss : 0.065\n",
            "valid_loss=0.039, test_los0.065, Model Save\n",
            "epoch = 30, train_loss : 0.046, valid_loss : 0.039, test_loss : 0.065\n"
          ]
        },
        {
          "output_type": "stream",
          "name": "stderr",
          "text": [
            "\n",
            "  7%|▋         | 2/30 [00:00<00:01, 14.58it/s]"
          ]
        },
        {
          "output_type": "stream",
          "name": "stdout",
          "text": [
            "valid_loss=0.122, test_los0.246, Model Save\n",
            "epoch = 1, train_loss : 0.210, valid_loss : 0.122, test_loss : 0.246\n",
            "valid_loss=0.103, test_los0.218, Model Save\n",
            "epoch = 2, train_loss : 0.170, valid_loss : 0.103, test_loss : 0.218\n",
            "valid_loss=0.088, test_los0.195, Model Save\n",
            "epoch = 3, train_loss : 0.149, valid_loss : 0.088, test_loss : 0.195\n"
          ]
        },
        {
          "output_type": "stream",
          "name": "stderr",
          "text": [
            " 20%|██        | 6/30 [00:00<00:01, 13.55it/s]"
          ]
        },
        {
          "output_type": "stream",
          "name": "stdout",
          "text": [
            "valid_loss=0.076, test_los0.177, Model Save\n",
            "epoch = 4, train_loss : 0.132, valid_loss : 0.076, test_loss : 0.177\n",
            "valid_loss=0.068, test_los0.163, Model Save\n",
            "epoch = 5, train_loss : 0.119, valid_loss : 0.068, test_loss : 0.163\n",
            "valid_loss=0.061, test_los0.152, Model Save\n",
            "epoch = 6, train_loss : 0.109, valid_loss : 0.061, test_loss : 0.152\n"
          ]
        },
        {
          "output_type": "stream",
          "name": "stderr",
          "text": [
            "\r 27%|██▋       | 8/30 [00:00<00:01, 12.93it/s]"
          ]
        },
        {
          "output_type": "stream",
          "name": "stdout",
          "text": [
            "valid_loss=0.056, test_los0.144, Model Save\n",
            "epoch = 7, train_loss : 0.101, valid_loss : 0.056, test_loss : 0.144\n",
            "valid_loss=0.052, test_los0.137, Model Save\n",
            "epoch = 8, train_loss : 0.096, valid_loss : 0.052, test_loss : 0.137\n",
            "valid_loss=0.050, test_los0.132, Model Save\n",
            "epoch = 9, train_loss : 0.091, valid_loss : 0.050, test_loss : 0.132\n"
          ]
        },
        {
          "output_type": "stream",
          "name": "stderr",
          "text": [
            " 40%|████      | 12/30 [00:00<00:01, 13.27it/s]"
          ]
        },
        {
          "output_type": "stream",
          "name": "stdout",
          "text": [
            "valid_loss=0.048, test_los0.128, Model Save\n",
            "epoch = 10, train_loss : 0.088, valid_loss : 0.048, test_loss : 0.128\n",
            "valid_loss=0.046, test_los0.125, Model Save\n",
            "epoch = 11, train_loss : 0.085, valid_loss : 0.046, test_loss : 0.125\n",
            "valid_loss=0.045, test_los0.122, Model Save\n",
            "epoch = 12, train_loss : 0.083, valid_loss : 0.045, test_loss : 0.122\n"
          ]
        },
        {
          "output_type": "stream",
          "name": "stderr",
          "text": [
            "\r 47%|████▋     | 14/30 [00:01<00:01, 13.70it/s]"
          ]
        },
        {
          "output_type": "stream",
          "name": "stdout",
          "text": [
            "valid_loss=0.044, test_los0.120, Model Save\n",
            "epoch = 13, train_loss : 0.081, valid_loss : 0.044, test_loss : 0.120\n",
            "valid_loss=0.043, test_los0.118, Model Save\n",
            "epoch = 14, train_loss : 0.080, valid_loss : 0.043, test_loss : 0.118\n",
            "valid_loss=0.043, test_los0.116, Model Save\n",
            "epoch = 15, train_loss : 0.079, valid_loss : 0.043, test_loss : 0.116\n"
          ]
        },
        {
          "output_type": "stream",
          "name": "stderr",
          "text": [
            " 60%|██████    | 18/30 [00:01<00:00, 13.84it/s]"
          ]
        },
        {
          "output_type": "stream",
          "name": "stdout",
          "text": [
            "valid_loss=0.043, test_los0.115, Model Save\n",
            "epoch = 16, train_loss : 0.078, valid_loss : 0.043, test_loss : 0.115\n",
            "valid_loss=0.042, test_los0.113, Model Save\n",
            "epoch = 17, train_loss : 0.077, valid_loss : 0.042, test_loss : 0.113\n",
            "valid_loss=0.042, test_los0.112, Model Save\n",
            "epoch = 18, train_loss : 0.077, valid_loss : 0.042, test_loss : 0.112\n"
          ]
        },
        {
          "output_type": "stream",
          "name": "stderr",
          "text": [
            " 73%|███████▎  | 22/30 [00:01<00:00, 14.22it/s]"
          ]
        },
        {
          "output_type": "stream",
          "name": "stdout",
          "text": [
            "valid_loss=0.042, test_los0.111, Model Save\n",
            "epoch = 19, train_loss : 0.076, valid_loss : 0.042, test_loss : 0.111\n",
            "valid_loss=0.042, test_los0.110, Model Save\n",
            "epoch = 20, train_loss : 0.076, valid_loss : 0.042, test_loss : 0.110\n",
            "valid_loss=0.042, test_los0.109, Model Save\n",
            "epoch = 21, train_loss : 0.075, valid_loss : 0.042, test_loss : 0.109\n",
            "valid_loss=0.041, test_los0.108, Model Save\n",
            "epoch = 22, train_loss : 0.075, valid_loss : 0.041, test_loss : 0.108\n"
          ]
        },
        {
          "output_type": "stream",
          "name": "stderr",
          "text": [
            "\r 80%|████████  | 24/30 [00:01<00:00, 13.60it/s]"
          ]
        },
        {
          "output_type": "stream",
          "name": "stdout",
          "text": [
            "valid_loss=0.041, test_los0.108, Model Save\n",
            "epoch = 23, train_loss : 0.074, valid_loss : 0.041, test_loss : 0.108\n",
            "valid_loss=0.041, test_los0.107, Model Save\n",
            "epoch = 24, train_loss : 0.074, valid_loss : 0.041, test_loss : 0.107\n",
            "valid_loss=0.041, test_los0.106, Model Save\n",
            "epoch = 25, train_loss : 0.074, valid_loss : 0.041, test_loss : 0.106\n"
          ]
        },
        {
          "output_type": "stream",
          "name": "stderr",
          "text": [
            " 93%|█████████▎| 28/30 [00:02<00:00, 13.44it/s]"
          ]
        },
        {
          "output_type": "stream",
          "name": "stdout",
          "text": [
            "valid_loss=0.041, test_los0.106, Model Save\n",
            "epoch = 26, train_loss : 0.073, valid_loss : 0.041, test_loss : 0.106\n",
            "valid_loss=0.041, test_los0.105, Model Save\n",
            "epoch = 27, train_loss : 0.073, valid_loss : 0.041, test_loss : 0.105\n",
            "valid_loss=0.041, test_los0.104, Model Save\n",
            "epoch = 28, train_loss : 0.073, valid_loss : 0.041, test_loss : 0.104\n"
          ]
        },
        {
          "output_type": "stream",
          "name": "stderr",
          "text": [
            "100%|██████████| 30/30 [00:02<00:00, 13.50it/s]\n"
          ]
        },
        {
          "output_type": "stream",
          "name": "stdout",
          "text": [
            "valid_loss=0.041, test_los0.104, Model Save\n",
            "epoch = 29, train_loss : 0.072, valid_loss : 0.041, test_loss : 0.104\n",
            "valid_loss=0.040, test_los0.103, Model Save\n",
            "epoch = 30, train_loss : 0.072, valid_loss : 0.040, test_loss : 0.103\n"
          ]
        },
        {
          "output_type": "stream",
          "name": "stderr",
          "text": [
            "  7%|▋         | 2/30 [00:00<00:01, 14.36it/s]"
          ]
        },
        {
          "output_type": "stream",
          "name": "stdout",
          "text": [
            "valid_loss=0.160, test_los0.318, Model Save\n",
            "epoch = 1, train_loss : 0.020, valid_loss : 0.160, test_loss : 0.318\n",
            "valid_loss=0.107, test_los0.201, Model Save\n",
            "epoch = 2, train_loss : 0.010, valid_loss : 0.107, test_loss : 0.201\n",
            "valid_loss=0.079, test_los0.148, Model Save\n",
            "epoch = 3, train_loss : 0.008, valid_loss : 0.079, test_loss : 0.148\n"
          ]
        },
        {
          "output_type": "stream",
          "name": "stderr",
          "text": [
            " 20%|██        | 6/30 [00:00<00:01, 13.67it/s]"
          ]
        },
        {
          "output_type": "stream",
          "name": "stdout",
          "text": [
            "valid_loss=0.056, test_los0.103, Model Save\n",
            "epoch = 4, train_loss : 0.007, valid_loss : 0.056, test_loss : 0.103\n",
            "valid_loss=0.041, test_los0.073, Model Save\n",
            "epoch = 5, train_loss : 0.006, valid_loss : 0.041, test_loss : 0.073\n",
            "valid_loss=0.030, test_los0.051, Model Save\n",
            "epoch = 6, train_loss : 0.005, valid_loss : 0.030, test_loss : 0.051\n"
          ]
        },
        {
          "output_type": "stream",
          "name": "stderr",
          "text": [
            "\r 27%|██▋       | 8/30 [00:00<00:01, 11.53it/s]"
          ]
        },
        {
          "output_type": "stream",
          "name": "stdout",
          "text": [
            "valid_loss=0.022, test_los0.037, Model Save\n",
            "epoch = 7, train_loss : 0.004, valid_loss : 0.022, test_loss : 0.037\n",
            "valid_loss=0.017, test_los0.028, Model Save\n",
            "epoch = 8, train_loss : 0.004, valid_loss : 0.017, test_loss : 0.028\n"
          ]
        },
        {
          "output_type": "stream",
          "name": "stderr",
          "text": [
            "\r 33%|███▎      | 10/30 [00:00<00:01, 10.26it/s]"
          ]
        },
        {
          "output_type": "stream",
          "name": "stdout",
          "text": [
            "valid_loss=0.014, test_los0.022, Model Save\n",
            "epoch = 9, train_loss : 0.004, valid_loss : 0.014, test_loss : 0.022\n",
            "valid_loss=0.012, test_los0.018, Model Save\n",
            "epoch = 10, train_loss : 0.004, valid_loss : 0.012, test_loss : 0.018\n"
          ]
        },
        {
          "output_type": "stream",
          "name": "stderr",
          "text": [
            "\r 40%|████      | 12/30 [00:01<00:01,  9.75it/s]"
          ]
        },
        {
          "output_type": "stream",
          "name": "stdout",
          "text": [
            "valid_loss=0.011, test_los0.016, Model Save\n",
            "epoch = 11, train_loss : 0.003, valid_loss : 0.011, test_loss : 0.016\n",
            "valid_loss=0.010, test_los0.015, Model Save\n",
            "epoch = 12, train_loss : 0.003, valid_loss : 0.010, test_loss : 0.015\n"
          ]
        },
        {
          "output_type": "stream",
          "name": "stderr",
          "text": [
            "\r 47%|████▋     | 14/30 [00:01<00:01,  9.42it/s]"
          ]
        },
        {
          "output_type": "stream",
          "name": "stdout",
          "text": [
            "valid_loss=0.009, test_los0.014, Model Save\n",
            "epoch = 13, train_loss : 0.003, valid_loss : 0.009, test_loss : 0.014\n",
            "valid_loss=0.009, test_los0.013, Model Save\n",
            "epoch = 14, train_loss : 0.003, valid_loss : 0.009, test_loss : 0.013\n"
          ]
        },
        {
          "output_type": "stream",
          "name": "stderr",
          "text": [
            " 53%|█████▎    | 16/30 [00:01<00:01,  8.93it/s]"
          ]
        },
        {
          "output_type": "stream",
          "name": "stdout",
          "text": [
            "valid_loss=0.008, test_los0.013, Model Save\n",
            "epoch = 15, train_loss : 0.003, valid_loss : 0.008, test_loss : 0.013\n",
            "valid_loss=0.008, test_los0.013, Model Save\n",
            "epoch = 16, train_loss : 0.003, valid_loss : 0.008, test_loss : 0.013\n"
          ]
        },
        {
          "output_type": "stream",
          "name": "stderr",
          "text": [
            " 63%|██████▎   | 19/30 [00:01<00:01,  9.39it/s]"
          ]
        },
        {
          "output_type": "stream",
          "name": "stdout",
          "text": [
            "valid_loss=0.008, test_los0.013, Model Save\n",
            "epoch = 17, train_loss : 0.003, valid_loss : 0.008, test_loss : 0.013\n",
            "valid_loss=0.008, test_los0.013, Model Save\n",
            "epoch = 18, train_loss : 0.003, valid_loss : 0.008, test_loss : 0.013\n",
            "valid_loss=0.008, test_los0.013, Model Save\n",
            "epoch = 19, train_loss : 0.003, valid_loss : 0.008, test_loss : 0.013\n"
          ]
        },
        {
          "output_type": "stream",
          "name": "stderr",
          "text": [
            " 70%|███████   | 21/30 [00:02<00:00,  9.02it/s]"
          ]
        },
        {
          "output_type": "stream",
          "name": "stdout",
          "text": [
            "valid_loss=0.008, test_los0.013, Model Save\n",
            "epoch = 20, train_loss : 0.003, valid_loss : 0.008, test_loss : 0.013\n",
            "valid_loss=0.008, test_los0.013, Model Save\n",
            "epoch = 21, train_loss : 0.003, valid_loss : 0.008, test_loss : 0.013\n"
          ]
        },
        {
          "output_type": "stream",
          "name": "stderr",
          "text": [
            " 77%|███████▋  | 23/30 [00:02<00:00,  8.70it/s]"
          ]
        },
        {
          "output_type": "stream",
          "name": "stdout",
          "text": [
            "valid_loss=0.008, test_los0.013, Model Save\n",
            "epoch = 22, train_loss : 0.003, valid_loss : 0.008, test_loss : 0.013\n",
            "valid_loss=0.008, test_los0.013, Model Save\n",
            "epoch = 23, train_loss : 0.003, valid_loss : 0.008, test_loss : 0.013\n"
          ]
        },
        {
          "output_type": "stream",
          "name": "stderr",
          "text": [
            " 83%|████████▎ | 25/30 [00:02<00:00,  8.75it/s]"
          ]
        },
        {
          "output_type": "stream",
          "name": "stdout",
          "text": [
            "valid_loss=0.008, test_los0.013, Model Save\n",
            "epoch = 24, train_loss : 0.003, valid_loss : 0.008, test_loss : 0.013\n",
            "valid_loss=0.007, test_los0.013, Model Save\n",
            "epoch = 25, train_loss : 0.003, valid_loss : 0.007, test_loss : 0.013\n"
          ]
        },
        {
          "output_type": "stream",
          "name": "stderr",
          "text": [
            " 90%|█████████ | 27/30 [00:02<00:00,  8.60it/s]"
          ]
        },
        {
          "output_type": "stream",
          "name": "stdout",
          "text": [
            "valid_loss=0.007, test_los0.013, Model Save\n",
            "epoch = 26, train_loss : 0.003, valid_loss : 0.007, test_loss : 0.013\n",
            "valid_loss=0.007, test_los0.013, Model Save\n",
            "epoch = 27, train_loss : 0.003, valid_loss : 0.007, test_loss : 0.013\n"
          ]
        },
        {
          "output_type": "stream",
          "name": "stderr",
          "text": [
            " 97%|█████████▋| 29/30 [00:03<00:00,  8.85it/s]"
          ]
        },
        {
          "output_type": "stream",
          "name": "stdout",
          "text": [
            "epoch = 28, train_loss : 0.003, valid_loss : 0.007, test_loss : 0.013\n",
            "epoch = 29, train_loss : 0.003, valid_loss : 0.007, test_loss : 0.013\n"
          ]
        },
        {
          "output_type": "stream",
          "name": "stderr",
          "text": [
            "100%|██████████| 30/30 [00:03<00:00,  9.44it/s]\n"
          ]
        },
        {
          "output_type": "stream",
          "name": "stdout",
          "text": [
            "epoch = 30, train_loss : 0.003, valid_loss : 0.007, test_loss : 0.013\n"
          ]
        },
        {
          "output_type": "stream",
          "name": "stderr",
          "text": [
            "  7%|▋         | 2/30 [00:00<00:03,  7.81it/s]"
          ]
        },
        {
          "output_type": "stream",
          "name": "stdout",
          "text": [
            "valid_loss=0.070, test_los0.093, Model Save\n",
            "epoch = 1, train_loss : 0.107, valid_loss : 0.070, test_loss : 0.093\n",
            "valid_loss=0.055, test_los0.073, Model Save\n",
            "epoch = 2, train_loss : 0.076, valid_loss : 0.055, test_loss : 0.073\n"
          ]
        },
        {
          "output_type": "stream",
          "name": "stderr",
          "text": [
            " 13%|█▎        | 4/30 [00:00<00:03,  8.48it/s]"
          ]
        },
        {
          "output_type": "stream",
          "name": "stdout",
          "text": [
            "valid_loss=0.047, test_los0.063, Model Save\n",
            "epoch = 3, train_loss : 0.068, valid_loss : 0.047, test_loss : 0.063\n",
            "valid_loss=0.043, test_los0.058, Model Save\n",
            "epoch = 4, train_loss : 0.062, valid_loss : 0.043, test_loss : 0.058\n"
          ]
        },
        {
          "output_type": "stream",
          "name": "stderr",
          "text": [
            "\r 20%|██        | 6/30 [00:00<00:02,  9.99it/s]"
          ]
        },
        {
          "output_type": "stream",
          "name": "stdout",
          "text": [
            "valid_loss=0.040, test_los0.054, Model Save\n",
            "epoch = 5, train_loss : 0.058, valid_loss : 0.040, test_loss : 0.054\n",
            "valid_loss=0.037, test_los0.051, Model Save\n",
            "epoch = 6, train_loss : 0.055, valid_loss : 0.037, test_loss : 0.051\n",
            "valid_loss=0.036, test_los0.050, Model Save\n",
            "epoch = 7, train_loss : 0.052, valid_loss : 0.036, test_loss : 0.050\n"
          ]
        },
        {
          "output_type": "stream",
          "name": "stderr",
          "text": [
            " 33%|███▎      | 10/30 [00:00<00:01, 12.04it/s]"
          ]
        },
        {
          "output_type": "stream",
          "name": "stdout",
          "text": [
            "valid_loss=0.034, test_los0.048, Model Save\n",
            "epoch = 8, train_loss : 0.050, valid_loss : 0.034, test_loss : 0.048\n",
            "valid_loss=0.033, test_los0.047, Model Save\n",
            "epoch = 9, train_loss : 0.049, valid_loss : 0.033, test_loss : 0.047\n",
            "valid_loss=0.033, test_los0.046, Model Save\n",
            "epoch = 10, train_loss : 0.048, valid_loss : 0.033, test_loss : 0.046\n"
          ]
        },
        {
          "output_type": "stream",
          "name": "stderr",
          "text": [
            "\r 40%|████      | 12/30 [00:01<00:01, 12.47it/s]"
          ]
        },
        {
          "output_type": "stream",
          "name": "stdout",
          "text": [
            "valid_loss=0.032, test_los0.045, Model Save\n",
            "epoch = 11, train_loss : 0.047, valid_loss : 0.032, test_loss : 0.045\n",
            "valid_loss=0.032, test_los0.044, Model Save\n",
            "epoch = 12, train_loss : 0.046, valid_loss : 0.032, test_loss : 0.044\n",
            "valid_loss=0.031, test_los0.043, Model Save\n",
            "epoch = 13, train_loss : 0.045, valid_loss : 0.031, test_loss : 0.043\n"
          ]
        },
        {
          "output_type": "stream",
          "name": "stderr",
          "text": [
            " 53%|█████▎    | 16/30 [00:01<00:01, 13.52it/s]"
          ]
        },
        {
          "output_type": "stream",
          "name": "stdout",
          "text": [
            "valid_loss=0.031, test_los0.043, Model Save\n",
            "epoch = 14, train_loss : 0.045, valid_loss : 0.031, test_loss : 0.043\n",
            "valid_loss=0.031, test_los0.042, Model Save\n",
            "epoch = 15, train_loss : 0.044, valid_loss : 0.031, test_loss : 0.042\n",
            "valid_loss=0.030, test_los0.042, Model Save\n",
            "epoch = 16, train_loss : 0.044, valid_loss : 0.030, test_loss : 0.042\n"
          ]
        },
        {
          "output_type": "stream",
          "name": "stderr",
          "text": [
            "\r 60%|██████    | 18/30 [00:01<00:00, 12.98it/s]"
          ]
        },
        {
          "output_type": "stream",
          "name": "stdout",
          "text": [
            "valid_loss=0.030, test_los0.041, Model Save\n",
            "epoch = 17, train_loss : 0.043, valid_loss : 0.030, test_loss : 0.041\n",
            "valid_loss=0.030, test_los0.041, Model Save\n",
            "epoch = 18, train_loss : 0.043, valid_loss : 0.030, test_loss : 0.041\n",
            "valid_loss=0.030, test_los0.041, Model Save\n",
            "epoch = 19, train_loss : 0.042, valid_loss : 0.030, test_loss : 0.041\n"
          ]
        },
        {
          "output_type": "stream",
          "name": "stderr",
          "text": [
            " 73%|███████▎  | 22/30 [00:01<00:00, 13.09it/s]"
          ]
        },
        {
          "output_type": "stream",
          "name": "stdout",
          "text": [
            "valid_loss=0.029, test_los0.040, Model Save\n",
            "epoch = 20, train_loss : 0.042, valid_loss : 0.029, test_loss : 0.040\n",
            "valid_loss=0.029, test_los0.040, Model Save\n",
            "epoch = 21, train_loss : 0.042, valid_loss : 0.029, test_loss : 0.040\n",
            "valid_loss=0.029, test_los0.040, Model Save\n",
            "epoch = 22, train_loss : 0.041, valid_loss : 0.029, test_loss : 0.040\n"
          ]
        },
        {
          "output_type": "stream",
          "name": "stderr",
          "text": [
            "\r 80%|████████  | 24/30 [00:01<00:00, 13.16it/s]"
          ]
        },
        {
          "output_type": "stream",
          "name": "stdout",
          "text": [
            "valid_loss=0.029, test_los0.039, Model Save\n",
            "epoch = 23, train_loss : 0.041, valid_loss : 0.029, test_loss : 0.039\n",
            "valid_loss=0.029, test_los0.039, Model Save\n",
            "epoch = 24, train_loss : 0.041, valid_loss : 0.029, test_loss : 0.039\n",
            "valid_loss=0.029, test_los0.039, Model Save\n",
            "epoch = 25, train_loss : 0.040, valid_loss : 0.029, test_loss : 0.039\n"
          ]
        },
        {
          "output_type": "stream",
          "name": "stderr",
          "text": [
            " 93%|█████████▎| 28/30 [00:02<00:00, 13.61it/s]"
          ]
        },
        {
          "output_type": "stream",
          "name": "stdout",
          "text": [
            "valid_loss=0.029, test_los0.039, Model Save\n",
            "epoch = 26, train_loss : 0.040, valid_loss : 0.029, test_loss : 0.039\n",
            "valid_loss=0.028, test_los0.039, Model Save\n",
            "epoch = 27, train_loss : 0.040, valid_loss : 0.028, test_loss : 0.039\n",
            "valid_loss=0.028, test_los0.039, Model Save\n",
            "epoch = 28, train_loss : 0.040, valid_loss : 0.028, test_loss : 0.039\n"
          ]
        },
        {
          "output_type": "stream",
          "name": "stderr",
          "text": [
            "100%|██████████| 30/30 [00:02<00:00, 12.33it/s]\n"
          ]
        },
        {
          "output_type": "stream",
          "name": "stdout",
          "text": [
            "valid_loss=0.028, test_los0.038, Model Save\n",
            "epoch = 29, train_loss : 0.039, valid_loss : 0.028, test_loss : 0.038\n",
            "valid_loss=0.028, test_los0.038, Model Save\n",
            "epoch = 30, train_loss : 0.039, valid_loss : 0.028, test_loss : 0.038\n"
          ]
        },
        {
          "output_type": "stream",
          "name": "stderr",
          "text": [
            "  7%|▋         | 2/30 [00:00<00:02, 13.96it/s]"
          ]
        },
        {
          "output_type": "stream",
          "name": "stdout",
          "text": [
            "valid_loss=0.222, test_los0.383, Model Save\n",
            "epoch = 1, train_loss : 0.104, valid_loss : 0.222, test_loss : 0.383\n",
            "valid_loss=0.186, test_los0.325, Model Save\n",
            "epoch = 2, train_loss : 0.063, valid_loss : 0.186, test_loss : 0.325\n",
            "valid_loss=0.146, test_los0.260, Model Save\n",
            "epoch = 3, train_loss : 0.046, valid_loss : 0.146, test_loss : 0.260\n"
          ]
        },
        {
          "output_type": "stream",
          "name": "stderr",
          "text": [
            " 20%|██        | 6/30 [00:00<00:01, 13.07it/s]"
          ]
        },
        {
          "output_type": "stream",
          "name": "stdout",
          "text": [
            "valid_loss=0.109, test_los0.191, Model Save\n",
            "epoch = 4, train_loss : 0.035, valid_loss : 0.109, test_loss : 0.191\n",
            "valid_loss=0.080, test_los0.140, Model Save\n",
            "epoch = 5, train_loss : 0.027, valid_loss : 0.080, test_loss : 0.140\n",
            "valid_loss=0.059, test_los0.101, Model Save\n",
            "epoch = 6, train_loss : 0.021, valid_loss : 0.059, test_loss : 0.101\n"
          ]
        },
        {
          "output_type": "stream",
          "name": "stderr",
          "text": [
            "\r 27%|██▋       | 8/30 [00:00<00:01, 13.21it/s]"
          ]
        },
        {
          "output_type": "stream",
          "name": "stdout",
          "text": [
            "valid_loss=0.043, test_los0.074, Model Save\n",
            "epoch = 7, train_loss : 0.017, valid_loss : 0.043, test_loss : 0.074\n",
            "valid_loss=0.031, test_los0.053, Model Save\n",
            "epoch = 8, train_loss : 0.013, valid_loss : 0.031, test_loss : 0.053\n",
            "valid_loss=0.023, test_los0.039, Model Save\n",
            "epoch = 9, train_loss : 0.011, valid_loss : 0.023, test_loss : 0.039\n"
          ]
        },
        {
          "output_type": "stream",
          "name": "stderr",
          "text": [
            " 40%|████      | 12/30 [00:00<00:01, 12.94it/s]"
          ]
        },
        {
          "output_type": "stream",
          "name": "stdout",
          "text": [
            "valid_loss=0.017, test_los0.030, Model Save\n",
            "epoch = 10, train_loss : 0.009, valid_loss : 0.017, test_loss : 0.030\n",
            "valid_loss=0.013, test_los0.023, Model Save\n",
            "epoch = 11, train_loss : 0.008, valid_loss : 0.013, test_loss : 0.023\n",
            "valid_loss=0.011, test_los0.018, Model Save\n",
            "epoch = 12, train_loss : 0.007, valid_loss : 0.011, test_loss : 0.018\n"
          ]
        },
        {
          "output_type": "stream",
          "name": "stderr",
          "text": [
            "\r 47%|████▋     | 14/30 [00:01<00:01, 12.28it/s]"
          ]
        },
        {
          "output_type": "stream",
          "name": "stdout",
          "text": [
            "valid_loss=0.009, test_los0.015, Model Save\n",
            "epoch = 13, train_loss : 0.007, valid_loss : 0.009, test_loss : 0.015\n",
            "valid_loss=0.008, test_los0.013, Model Save\n",
            "epoch = 14, train_loss : 0.006, valid_loss : 0.008, test_loss : 0.013\n",
            "valid_loss=0.007, test_los0.012, Model Save\n",
            "epoch = 15, train_loss : 0.006, valid_loss : 0.007, test_loss : 0.012\n"
          ]
        },
        {
          "output_type": "stream",
          "name": "stderr",
          "text": [
            " 60%|██████    | 18/30 [00:01<00:01, 11.86it/s]"
          ]
        },
        {
          "output_type": "stream",
          "name": "stdout",
          "text": [
            "valid_loss=0.006, test_los0.011, Model Save\n",
            "epoch = 16, train_loss : 0.006, valid_loss : 0.006, test_loss : 0.011\n",
            "valid_loss=0.006, test_los0.011, Model Save\n",
            "epoch = 17, train_loss : 0.006, valid_loss : 0.006, test_loss : 0.011\n",
            "valid_loss=0.006, test_los0.010, Model Save\n",
            "epoch = 18, train_loss : 0.005, valid_loss : 0.006, test_loss : 0.010\n"
          ]
        },
        {
          "output_type": "stream",
          "name": "stderr",
          "text": [
            "\r 67%|██████▋   | 20/30 [00:01<00:00, 12.16it/s]"
          ]
        },
        {
          "output_type": "stream",
          "name": "stdout",
          "text": [
            "valid_loss=0.005, test_los0.010, Model Save\n",
            "epoch = 19, train_loss : 0.005, valid_loss : 0.005, test_loss : 0.010\n",
            "valid_loss=0.005, test_los0.010, Model Save\n",
            "epoch = 20, train_loss : 0.005, valid_loss : 0.005, test_loss : 0.010\n",
            "valid_loss=0.005, test_los0.010, Model Save\n",
            "epoch = 21, train_loss : 0.005, valid_loss : 0.005, test_loss : 0.010\n"
          ]
        },
        {
          "output_type": "stream",
          "name": "stderr",
          "text": [
            " 80%|████████  | 24/30 [00:01<00:00, 12.08it/s]"
          ]
        },
        {
          "output_type": "stream",
          "name": "stdout",
          "text": [
            "valid_loss=0.005, test_los0.010, Model Save\n",
            "epoch = 22, train_loss : 0.005, valid_loss : 0.005, test_loss : 0.010\n",
            "valid_loss=0.005, test_los0.010, Model Save\n",
            "epoch = 23, train_loss : 0.005, valid_loss : 0.005, test_loss : 0.010\n",
            "valid_loss=0.005, test_los0.009, Model Save\n",
            "epoch = 24, train_loss : 0.005, valid_loss : 0.005, test_loss : 0.009\n"
          ]
        },
        {
          "output_type": "stream",
          "name": "stderr",
          "text": [
            "\r 87%|████████▋ | 26/30 [00:02<00:00, 12.23it/s]"
          ]
        },
        {
          "output_type": "stream",
          "name": "stdout",
          "text": [
            "valid_loss=0.005, test_los0.009, Model Save\n",
            "epoch = 25, train_loss : 0.005, valid_loss : 0.005, test_loss : 0.009\n",
            "valid_loss=0.005, test_los0.009, Model Save\n",
            "epoch = 26, train_loss : 0.005, valid_loss : 0.005, test_loss : 0.009\n",
            "valid_loss=0.005, test_los0.009, Model Save\n",
            "epoch = 27, train_loss : 0.005, valid_loss : 0.005, test_loss : 0.009\n"
          ]
        },
        {
          "output_type": "stream",
          "name": "stderr",
          "text": [
            "100%|██████████| 30/30 [00:02<00:00, 12.41it/s]"
          ]
        },
        {
          "output_type": "stream",
          "name": "stdout",
          "text": [
            "valid_loss=0.005, test_los0.009, Model Save\n",
            "epoch = 28, train_loss : 0.005, valid_loss : 0.005, test_loss : 0.009\n",
            "valid_loss=0.005, test_los0.009, Model Save\n",
            "epoch = 29, train_loss : 0.005, valid_loss : 0.005, test_loss : 0.009\n",
            "valid_loss=0.005, test_los0.009, Model Save\n",
            "epoch = 30, train_loss : 0.005, valid_loss : 0.005, test_loss : 0.009\n"
          ]
        },
        {
          "output_type": "stream",
          "name": "stderr",
          "text": [
            "\n",
            " 10%|█         | 3/30 [00:00<00:02, 12.65it/s]"
          ]
        },
        {
          "output_type": "stream",
          "name": "stdout",
          "text": [
            "valid_loss=0.107, test_los0.133, Model Save\n",
            "epoch = 1, train_loss : 0.226, valid_loss : 0.107, test_loss : 0.133\n",
            "valid_loss=0.090, test_los0.115, Model Save\n",
            "epoch = 2, train_loss : 0.195, valid_loss : 0.090, test_loss : 0.115\n",
            "valid_loss=0.078, test_los0.101, Model Save\n",
            "epoch = 3, train_loss : 0.175, valid_loss : 0.078, test_loss : 0.101\n"
          ]
        },
        {
          "output_type": "stream",
          "name": "stderr",
          "text": [
            "\r 17%|█▋        | 5/30 [00:00<00:01, 13.10it/s]"
          ]
        },
        {
          "output_type": "stream",
          "name": "stdout",
          "text": [
            "valid_loss=0.069, test_los0.091, Model Save\n",
            "epoch = 4, train_loss : 0.160, valid_loss : 0.069, test_loss : 0.091\n",
            "valid_loss=0.063, test_los0.083, Model Save\n",
            "epoch = 5, train_loss : 0.148, valid_loss : 0.063, test_loss : 0.083\n",
            "valid_loss=0.058, test_los0.077, Model Save\n",
            "epoch = 6, train_loss : 0.138, valid_loss : 0.058, test_loss : 0.077\n"
          ]
        },
        {
          "output_type": "stream",
          "name": "stderr",
          "text": [
            " 30%|███       | 9/30 [00:00<00:01, 13.18it/s]"
          ]
        },
        {
          "output_type": "stream",
          "name": "stdout",
          "text": [
            "valid_loss=0.055, test_los0.073, Model Save\n",
            "epoch = 7, train_loss : 0.131, valid_loss : 0.055, test_loss : 0.073\n",
            "valid_loss=0.052, test_los0.069, Model Save\n",
            "epoch = 8, train_loss : 0.126, valid_loss : 0.052, test_loss : 0.069\n",
            "valid_loss=0.050, test_los0.067, Model Save\n",
            "epoch = 9, train_loss : 0.121, valid_loss : 0.050, test_loss : 0.067\n"
          ]
        },
        {
          "output_type": "stream",
          "name": "stderr",
          "text": [
            "\r 37%|███▋      | 11/30 [00:00<00:01, 13.25it/s]"
          ]
        },
        {
          "output_type": "stream",
          "name": "stdout",
          "text": [
            "valid_loss=0.049, test_los0.064, Model Save\n",
            "epoch = 10, train_loss : 0.118, valid_loss : 0.049, test_loss : 0.064\n",
            "valid_loss=0.048, test_los0.063, Model Save\n",
            "epoch = 11, train_loss : 0.115, valid_loss : 0.048, test_loss : 0.063\n",
            "valid_loss=0.047, test_los0.061, Model Save\n",
            "epoch = 12, train_loss : 0.112, valid_loss : 0.047, test_loss : 0.061\n"
          ]
        },
        {
          "output_type": "stream",
          "name": "stderr",
          "text": [
            " 50%|█████     | 15/30 [00:01<00:01, 12.42it/s]"
          ]
        },
        {
          "output_type": "stream",
          "name": "stdout",
          "text": [
            "valid_loss=0.047, test_los0.060, Model Save\n",
            "epoch = 13, train_loss : 0.111, valid_loss : 0.047, test_loss : 0.060\n",
            "valid_loss=0.046, test_los0.059, Model Save\n",
            "epoch = 14, train_loss : 0.109, valid_loss : 0.046, test_loss : 0.059\n",
            "valid_loss=0.046, test_los0.059, Model Save\n",
            "epoch = 15, train_loss : 0.108, valid_loss : 0.046, test_loss : 0.059\n"
          ]
        },
        {
          "output_type": "stream",
          "name": "stderr",
          "text": [
            "\r 57%|█████▋    | 17/30 [00:01<00:01, 12.76it/s]"
          ]
        },
        {
          "output_type": "stream",
          "name": "stdout",
          "text": [
            "valid_loss=0.046, test_los0.058, Model Save\n",
            "epoch = 16, train_loss : 0.107, valid_loss : 0.046, test_loss : 0.058\n",
            "valid_loss=0.045, test_los0.057, Model Save\n",
            "epoch = 17, train_loss : 0.106, valid_loss : 0.045, test_loss : 0.057\n",
            "valid_loss=0.045, test_los0.057, Model Save\n",
            "epoch = 18, train_loss : 0.105, valid_loss : 0.045, test_loss : 0.057\n"
          ]
        },
        {
          "output_type": "stream",
          "name": "stderr",
          "text": [
            " 70%|███████   | 21/30 [00:01<00:00, 13.13it/s]"
          ]
        },
        {
          "output_type": "stream",
          "name": "stdout",
          "text": [
            "valid_loss=0.045, test_los0.056, Model Save\n",
            "epoch = 19, train_loss : 0.104, valid_loss : 0.045, test_loss : 0.056\n",
            "valid_loss=0.045, test_los0.056, Model Save\n",
            "epoch = 20, train_loss : 0.103, valid_loss : 0.045, test_loss : 0.056\n",
            "valid_loss=0.045, test_los0.055, Model Save\n",
            "epoch = 21, train_loss : 0.103, valid_loss : 0.045, test_loss : 0.055\n"
          ]
        },
        {
          "output_type": "stream",
          "name": "stderr",
          "text": [
            "\r 77%|███████▋  | 23/30 [00:01<00:00, 12.78it/s]"
          ]
        },
        {
          "output_type": "stream",
          "name": "stdout",
          "text": [
            "valid_loss=0.044, test_los0.055, Model Save\n",
            "epoch = 22, train_loss : 0.102, valid_loss : 0.044, test_loss : 0.055\n",
            "valid_loss=0.044, test_los0.055, Model Save\n",
            "epoch = 23, train_loss : 0.102, valid_loss : 0.044, test_loss : 0.055\n",
            "valid_loss=0.044, test_los0.054, Model Save\n",
            "epoch = 24, train_loss : 0.101, valid_loss : 0.044, test_loss : 0.054\n"
          ]
        },
        {
          "output_type": "stream",
          "name": "stderr",
          "text": [
            " 90%|█████████ | 27/30 [00:02<00:00, 12.85it/s]"
          ]
        },
        {
          "output_type": "stream",
          "name": "stdout",
          "text": [
            "valid_loss=0.044, test_los0.054, Model Save\n",
            "epoch = 25, train_loss : 0.101, valid_loss : 0.044, test_loss : 0.054\n",
            "valid_loss=0.044, test_los0.054, Model Save\n",
            "epoch = 26, train_loss : 0.100, valid_loss : 0.044, test_loss : 0.054\n",
            "valid_loss=0.044, test_los0.054, Model Save\n",
            "epoch = 27, train_loss : 0.100, valid_loss : 0.044, test_loss : 0.054\n"
          ]
        },
        {
          "output_type": "stream",
          "name": "stderr",
          "text": [
            "100%|██████████| 30/30 [00:02<00:00, 12.87it/s]"
          ]
        },
        {
          "output_type": "stream",
          "name": "stdout",
          "text": [
            "valid_loss=0.043, test_los0.053, Model Save\n",
            "epoch = 28, train_loss : 0.099, valid_loss : 0.043, test_loss : 0.053\n",
            "valid_loss=0.043, test_los0.053, Model Save\n",
            "epoch = 29, train_loss : 0.099, valid_loss : 0.043, test_loss : 0.053\n",
            "valid_loss=0.043, test_los0.053, Model Save\n",
            "epoch = 30, train_loss : 0.098, valid_loss : 0.043, test_loss : 0.053\n"
          ]
        },
        {
          "output_type": "stream",
          "name": "stderr",
          "text": [
            "\n",
            "  7%|▋         | 2/30 [00:00<00:02, 11.44it/s]"
          ]
        },
        {
          "output_type": "stream",
          "name": "stdout",
          "text": [
            "valid_loss=0.045, test_los0.020, Model Save\n",
            "epoch = 1, train_loss : 0.020, valid_loss : 0.045, test_loss : 0.020\n",
            "valid_loss=0.017, test_los0.011, Model Save\n",
            "epoch = 2, train_loss : 0.010, valid_loss : 0.017, test_loss : 0.011\n",
            "valid_loss=0.012, test_los0.009, Model Save\n",
            "epoch = 3, train_loss : 0.008, valid_loss : 0.012, test_loss : 0.009\n"
          ]
        },
        {
          "output_type": "stream",
          "name": "stderr",
          "text": [
            " 20%|██        | 6/30 [00:00<00:02, 11.09it/s]"
          ]
        },
        {
          "output_type": "stream",
          "name": "stdout",
          "text": [
            "valid_loss=0.009, test_los0.007, Model Save\n",
            "epoch = 4, train_loss : 0.007, valid_loss : 0.009, test_loss : 0.007\n",
            "valid_loss=0.008, test_los0.007, Model Save\n",
            "epoch = 5, train_loss : 0.006, valid_loss : 0.008, test_loss : 0.007\n",
            "valid_loss=0.008, test_los0.006, Model Save\n",
            "epoch = 6, train_loss : 0.005, valid_loss : 0.008, test_loss : 0.006\n"
          ]
        },
        {
          "output_type": "stream",
          "name": "stderr",
          "text": [
            "\r 27%|██▋       | 8/30 [00:00<00:01, 11.99it/s]"
          ]
        },
        {
          "output_type": "stream",
          "name": "stdout",
          "text": [
            "valid_loss=0.007, test_los0.006, Model Save\n",
            "epoch = 7, train_loss : 0.005, valid_loss : 0.007, test_loss : 0.006\n",
            "valid_loss=0.007, test_los0.006, Model Save\n",
            "epoch = 8, train_loss : 0.005, valid_loss : 0.007, test_loss : 0.006\n",
            "valid_loss=0.007, test_los0.006, Model Save\n",
            "epoch = 9, train_loss : 0.005, valid_loss : 0.007, test_loss : 0.006\n"
          ]
        },
        {
          "output_type": "stream",
          "name": "stderr",
          "text": [
            " 40%|████      | 12/30 [00:00<00:01, 12.85it/s]"
          ]
        },
        {
          "output_type": "stream",
          "name": "stdout",
          "text": [
            "valid_loss=0.007, test_los0.006, Model Save\n",
            "epoch = 10, train_loss : 0.005, valid_loss : 0.007, test_loss : 0.006\n",
            "valid_loss=0.007, test_los0.005, Model Save\n",
            "epoch = 11, train_loss : 0.005, valid_loss : 0.007, test_loss : 0.005\n",
            "valid_loss=0.006, test_los0.005, Model Save\n",
            "epoch = 12, train_loss : 0.005, valid_loss : 0.006, test_loss : 0.005\n"
          ]
        },
        {
          "output_type": "stream",
          "name": "stderr",
          "text": [
            "\r 47%|████▋     | 14/30 [00:01<00:01, 12.65it/s]"
          ]
        },
        {
          "output_type": "stream",
          "name": "stdout",
          "text": [
            "valid_loss=0.006, test_los0.005, Model Save\n",
            "epoch = 13, train_loss : 0.005, valid_loss : 0.006, test_loss : 0.005\n",
            "valid_loss=0.006, test_los0.005, Model Save\n",
            "epoch = 14, train_loss : 0.005, valid_loss : 0.006, test_loss : 0.005\n",
            "valid_loss=0.006, test_los0.005, Model Save\n",
            "epoch = 15, train_loss : 0.004, valid_loss : 0.006, test_loss : 0.005\n"
          ]
        },
        {
          "output_type": "stream",
          "name": "stderr",
          "text": [
            " 60%|██████    | 18/30 [00:01<00:00, 13.45it/s]"
          ]
        },
        {
          "output_type": "stream",
          "name": "stdout",
          "text": [
            "valid_loss=0.006, test_los0.005, Model Save\n",
            "epoch = 16, train_loss : 0.004, valid_loss : 0.006, test_loss : 0.005\n",
            "valid_loss=0.006, test_los0.005, Model Save\n",
            "epoch = 17, train_loss : 0.004, valid_loss : 0.006, test_loss : 0.005\n",
            "valid_loss=0.006, test_los0.005, Model Save\n",
            "epoch = 18, train_loss : 0.004, valid_loss : 0.006, test_loss : 0.005\n"
          ]
        },
        {
          "output_type": "stream",
          "name": "stderr",
          "text": [
            "\r 67%|██████▋   | 20/30 [00:01<00:00, 13.18it/s]"
          ]
        },
        {
          "output_type": "stream",
          "name": "stdout",
          "text": [
            "valid_loss=0.006, test_los0.005, Model Save\n",
            "epoch = 19, train_loss : 0.004, valid_loss : 0.006, test_loss : 0.005\n",
            "valid_loss=0.006, test_los0.005, Model Save\n",
            "epoch = 20, train_loss : 0.004, valid_loss : 0.006, test_loss : 0.005\n",
            "valid_loss=0.005, test_los0.005, Model Save\n",
            "epoch = 21, train_loss : 0.004, valid_loss : 0.005, test_loss : 0.005\n"
          ]
        },
        {
          "output_type": "stream",
          "name": "stderr",
          "text": [
            " 80%|████████  | 24/30 [00:01<00:00, 12.33it/s]"
          ]
        },
        {
          "output_type": "stream",
          "name": "stdout",
          "text": [
            "valid_loss=0.005, test_los0.005, Model Save\n",
            "epoch = 22, train_loss : 0.004, valid_loss : 0.005, test_loss : 0.005\n",
            "valid_loss=0.005, test_los0.005, Model Save\n",
            "epoch = 23, train_loss : 0.004, valid_loss : 0.005, test_loss : 0.005\n",
            "valid_loss=0.005, test_los0.005, Model Save\n",
            "epoch = 24, train_loss : 0.004, valid_loss : 0.005, test_loss : 0.005\n"
          ]
        },
        {
          "output_type": "stream",
          "name": "stderr",
          "text": [
            "\r 87%|████████▋ | 26/30 [00:02<00:00, 12.43it/s]"
          ]
        },
        {
          "output_type": "stream",
          "name": "stdout",
          "text": [
            "valid_loss=0.005, test_los0.005, Model Save\n",
            "epoch = 25, train_loss : 0.004, valid_loss : 0.005, test_loss : 0.005\n",
            "valid_loss=0.005, test_los0.005, Model Save\n",
            "epoch = 26, train_loss : 0.004, valid_loss : 0.005, test_loss : 0.005\n",
            "valid_loss=0.005, test_los0.005, Model Save\n",
            "epoch = 27, train_loss : 0.004, valid_loss : 0.005, test_loss : 0.005\n"
          ]
        },
        {
          "output_type": "stream",
          "name": "stderr",
          "text": [
            "\r 93%|█████████▎| 28/30 [00:02<00:00, 11.26it/s]"
          ]
        },
        {
          "output_type": "stream",
          "name": "stdout",
          "text": [
            "valid_loss=0.005, test_los0.005, Model Save\n",
            "epoch = 28, train_loss : 0.004, valid_loss : 0.005, test_loss : 0.005\n",
            "valid_loss=0.005, test_los0.005, Model Save\n",
            "epoch = 29, train_loss : 0.004, valid_loss : 0.005, test_loss : 0.005\n"
          ]
        },
        {
          "output_type": "stream",
          "name": "stderr",
          "text": [
            "100%|██████████| 30/30 [00:02<00:00, 11.65it/s]"
          ]
        },
        {
          "output_type": "stream",
          "name": "stdout",
          "text": [
            "valid_loss=0.005, test_los0.005, Model Save\n",
            "epoch = 30, train_loss : 0.004, valid_loss : 0.005, test_loss : 0.005\n"
          ]
        },
        {
          "output_type": "stream",
          "name": "stderr",
          "text": [
            "\n",
            "  7%|▋         | 2/30 [00:00<00:03,  8.78it/s]"
          ]
        },
        {
          "output_type": "stream",
          "name": "stdout",
          "text": [
            "valid_loss=0.092, test_los0.143, Model Save\n",
            "epoch = 1, train_loss : 0.124, valid_loss : 0.092, test_loss : 0.143\n",
            "valid_loss=0.055, test_los0.108, Model Save\n",
            "epoch = 2, train_loss : 0.077, valid_loss : 0.055, test_loss : 0.108\n"
          ]
        },
        {
          "output_type": "stream",
          "name": "stderr",
          "text": [
            " 13%|█▎        | 4/30 [00:00<00:03,  8.46it/s]"
          ]
        },
        {
          "output_type": "stream",
          "name": "stdout",
          "text": [
            "valid_loss=0.036, test_los0.086, Model Save\n",
            "epoch = 3, train_loss : 0.061, valid_loss : 0.036, test_loss : 0.086\n",
            "valid_loss=0.024, test_los0.071, Model Save\n",
            "epoch = 4, train_loss : 0.049, valid_loss : 0.024, test_loss : 0.071\n"
          ]
        },
        {
          "output_type": "stream",
          "name": "stderr",
          "text": [
            " 20%|██        | 6/30 [00:00<00:03,  7.78it/s]"
          ]
        },
        {
          "output_type": "stream",
          "name": "stdout",
          "text": [
            "valid_loss=0.017, test_los0.061, Model Save\n",
            "epoch = 5, train_loss : 0.041, valid_loss : 0.017, test_loss : 0.061\n",
            "valid_loss=0.013, test_los0.054, Model Save\n",
            "epoch = 6, train_loss : 0.036, valid_loss : 0.013, test_loss : 0.054\n"
          ]
        },
        {
          "output_type": "stream",
          "name": "stderr",
          "text": [
            " 27%|██▋       | 8/30 [00:00<00:02,  8.12it/s]"
          ]
        },
        {
          "output_type": "stream",
          "name": "stdout",
          "text": [
            "valid_loss=0.011, test_los0.048, Model Save\n",
            "epoch = 7, train_loss : 0.032, valid_loss : 0.011, test_loss : 0.048\n",
            "valid_loss=0.010, test_los0.045, Model Save\n",
            "epoch = 8, train_loss : 0.029, valid_loss : 0.010, test_loss : 0.045\n"
          ]
        },
        {
          "output_type": "stream",
          "name": "stderr",
          "text": [
            " 33%|███▎      | 10/30 [00:01<00:02,  8.49it/s]"
          ]
        },
        {
          "output_type": "stream",
          "name": "stdout",
          "text": [
            "valid_loss=0.009, test_los0.042, Model Save\n",
            "epoch = 9, train_loss : 0.028, valid_loss : 0.009, test_loss : 0.042\n",
            "valid_loss=0.009, test_los0.040, Model Save\n",
            "epoch = 10, train_loss : 0.027, valid_loss : 0.009, test_loss : 0.040\n"
          ]
        },
        {
          "output_type": "stream",
          "name": "stderr",
          "text": [
            " 40%|████      | 12/30 [00:01<00:02,  7.92it/s]"
          ]
        },
        {
          "output_type": "stream",
          "name": "stdout",
          "text": [
            "valid_loss=0.009, test_los0.038, Model Save\n",
            "epoch = 11, train_loss : 0.026, valid_loss : 0.009, test_loss : 0.038\n",
            "valid_loss=0.008, test_los0.036, Model Save\n",
            "epoch = 12, train_loss : 0.025, valid_loss : 0.008, test_loss : 0.036\n"
          ]
        },
        {
          "output_type": "stream",
          "name": "stderr",
          "text": [
            " 47%|████▋     | 14/30 [00:01<00:01,  8.15it/s]"
          ]
        },
        {
          "output_type": "stream",
          "name": "stdout",
          "text": [
            "valid_loss=0.008, test_los0.035, Model Save\n",
            "epoch = 13, train_loss : 0.025, valid_loss : 0.008, test_loss : 0.035\n",
            "valid_loss=0.008, test_los0.034, Model Save\n",
            "epoch = 14, train_loss : 0.025, valid_loss : 0.008, test_loss : 0.034\n"
          ]
        },
        {
          "output_type": "stream",
          "name": "stderr",
          "text": [
            " 53%|█████▎    | 16/30 [00:01<00:01,  8.55it/s]"
          ]
        },
        {
          "output_type": "stream",
          "name": "stdout",
          "text": [
            "valid_loss=0.008, test_los0.033, Model Save\n",
            "epoch = 15, train_loss : 0.024, valid_loss : 0.008, test_loss : 0.033\n",
            "valid_loss=0.008, test_los0.033, Model Save\n",
            "epoch = 16, train_loss : 0.024, valid_loss : 0.008, test_loss : 0.033\n"
          ]
        },
        {
          "output_type": "stream",
          "name": "stderr",
          "text": [
            " 60%|██████    | 18/30 [00:02<00:01,  8.64it/s]"
          ]
        },
        {
          "output_type": "stream",
          "name": "stdout",
          "text": [
            "valid_loss=0.008, test_los0.032, Model Save\n",
            "epoch = 17, train_loss : 0.024, valid_loss : 0.008, test_loss : 0.032\n",
            "valid_loss=0.008, test_los0.031, Model Save\n",
            "epoch = 18, train_loss : 0.023, valid_loss : 0.008, test_loss : 0.031\n"
          ]
        },
        {
          "output_type": "stream",
          "name": "stderr",
          "text": [
            " 67%|██████▋   | 20/30 [00:02<00:01,  8.25it/s]"
          ]
        },
        {
          "output_type": "stream",
          "name": "stdout",
          "text": [
            "valid_loss=0.008, test_los0.031, Model Save\n",
            "epoch = 19, train_loss : 0.023, valid_loss : 0.008, test_loss : 0.031\n",
            "valid_loss=0.008, test_los0.030, Model Save\n",
            "epoch = 20, train_loss : 0.023, valid_loss : 0.008, test_loss : 0.030\n"
          ]
        },
        {
          "output_type": "stream",
          "name": "stderr",
          "text": [
            " 73%|███████▎  | 22/30 [00:02<00:00,  8.07it/s]"
          ]
        },
        {
          "output_type": "stream",
          "name": "stdout",
          "text": [
            "valid_loss=0.008, test_los0.030, Model Save\n",
            "epoch = 21, train_loss : 0.023, valid_loss : 0.008, test_loss : 0.030\n",
            "valid_loss=0.008, test_los0.029, Model Save\n",
            "epoch = 22, train_loss : 0.022, valid_loss : 0.008, test_loss : 0.029\n"
          ]
        },
        {
          "output_type": "stream",
          "name": "stderr",
          "text": [
            " 80%|████████  | 24/30 [00:02<00:00,  7.86it/s]"
          ]
        },
        {
          "output_type": "stream",
          "name": "stdout",
          "text": [
            "valid_loss=0.008, test_los0.029, Model Save\n",
            "epoch = 23, train_loss : 0.022, valid_loss : 0.008, test_loss : 0.029\n",
            "valid_loss=0.008, test_los0.028, Model Save\n",
            "epoch = 24, train_loss : 0.022, valid_loss : 0.008, test_loss : 0.028\n",
            "valid_loss=0.008, test_los0.028, Model Save\n",
            "epoch = 25, train_loss : 0.022, valid_loss : 0.008, test_loss : 0.028\n"
          ]
        },
        {
          "output_type": "stream",
          "name": "stderr",
          "text": [
            " 93%|█████████▎| 28/30 [00:03<00:00, 10.83it/s]"
          ]
        },
        {
          "output_type": "stream",
          "name": "stdout",
          "text": [
            "valid_loss=0.008, test_los0.028, Model Save\n",
            "epoch = 26, train_loss : 0.022, valid_loss : 0.008, test_loss : 0.028\n",
            "valid_loss=0.008, test_los0.027, Model Save\n",
            "epoch = 27, train_loss : 0.022, valid_loss : 0.008, test_loss : 0.027\n",
            "valid_loss=0.008, test_los0.027, Model Save\n",
            "epoch = 28, train_loss : 0.022, valid_loss : 0.008, test_loss : 0.027\n"
          ]
        },
        {
          "output_type": "stream",
          "name": "stderr",
          "text": [
            "100%|██████████| 30/30 [00:03<00:00,  8.79it/s]\n"
          ]
        },
        {
          "output_type": "stream",
          "name": "stdout",
          "text": [
            "valid_loss=0.008, test_los0.027, Model Save\n",
            "epoch = 29, train_loss : 0.021, valid_loss : 0.008, test_loss : 0.027\n",
            "valid_loss=0.008, test_los0.027, Model Save\n",
            "epoch = 30, train_loss : 0.021, valid_loss : 0.008, test_loss : 0.027\n"
          ]
        },
        {
          "output_type": "stream",
          "name": "stderr",
          "text": [
            "  7%|▋         | 2/30 [00:00<00:01, 14.49it/s]"
          ]
        },
        {
          "output_type": "stream",
          "name": "stdout",
          "text": [
            "valid_loss=0.133, test_los0.193, Model Save\n",
            "epoch = 1, train_loss : 0.197, valid_loss : 0.133, test_loss : 0.193\n",
            "valid_loss=0.120, test_los0.176, Model Save\n",
            "epoch = 2, train_loss : 0.150, valid_loss : 0.120, test_loss : 0.176\n",
            "valid_loss=0.103, test_los0.159, Model Save\n",
            "epoch = 3, train_loss : 0.128, valid_loss : 0.103, test_loss : 0.159\n"
          ]
        },
        {
          "output_type": "stream",
          "name": "stderr",
          "text": [
            " 20%|██        | 6/30 [00:00<00:01, 13.80it/s]"
          ]
        },
        {
          "output_type": "stream",
          "name": "stdout",
          "text": [
            "valid_loss=0.088, test_los0.142, Model Save\n",
            "epoch = 4, train_loss : 0.112, valid_loss : 0.088, test_loss : 0.142\n",
            "valid_loss=0.076, test_los0.126, Model Save\n",
            "epoch = 5, train_loss : 0.099, valid_loss : 0.076, test_loss : 0.126\n",
            "valid_loss=0.066, test_los0.114, Model Save\n",
            "epoch = 6, train_loss : 0.089, valid_loss : 0.066, test_loss : 0.114\n"
          ]
        },
        {
          "output_type": "stream",
          "name": "stderr",
          "text": [
            "\r 27%|██▋       | 8/30 [00:00<00:01, 13.56it/s]"
          ]
        },
        {
          "output_type": "stream",
          "name": "stdout",
          "text": [
            "valid_loss=0.059, test_los0.103, Model Save\n",
            "epoch = 7, train_loss : 0.081, valid_loss : 0.059, test_loss : 0.103\n",
            "valid_loss=0.053, test_los0.094, Model Save\n",
            "epoch = 8, train_loss : 0.075, valid_loss : 0.053, test_loss : 0.094\n",
            "valid_loss=0.049, test_los0.087, Model Save\n",
            "epoch = 9, train_loss : 0.070, valid_loss : 0.049, test_loss : 0.087\n"
          ]
        },
        {
          "output_type": "stream",
          "name": "stderr",
          "text": [
            " 40%|████      | 12/30 [00:00<00:01, 13.17it/s]"
          ]
        },
        {
          "output_type": "stream",
          "name": "stdout",
          "text": [
            "valid_loss=0.045, test_los0.082, Model Save\n",
            "epoch = 10, train_loss : 0.066, valid_loss : 0.045, test_loss : 0.082\n",
            "valid_loss=0.043, test_los0.077, Model Save\n",
            "epoch = 11, train_loss : 0.063, valid_loss : 0.043, test_loss : 0.077\n",
            "valid_loss=0.041, test_los0.073, Model Save\n",
            "epoch = 12, train_loss : 0.060, valid_loss : 0.041, test_loss : 0.073\n"
          ]
        },
        {
          "output_type": "stream",
          "name": "stderr",
          "text": [
            "\r 47%|████▋     | 14/30 [00:01<00:01, 13.22it/s]"
          ]
        },
        {
          "output_type": "stream",
          "name": "stdout",
          "text": [
            "valid_loss=0.040, test_los0.070, Model Save\n",
            "epoch = 13, train_loss : 0.059, valid_loss : 0.040, test_loss : 0.070\n",
            "valid_loss=0.039, test_los0.067, Model Save\n",
            "epoch = 14, train_loss : 0.057, valid_loss : 0.039, test_loss : 0.067\n",
            "valid_loss=0.038, test_los0.065, Model Save\n",
            "epoch = 15, train_loss : 0.056, valid_loss : 0.038, test_loss : 0.065\n"
          ]
        },
        {
          "output_type": "stream",
          "name": "stderr",
          "text": [
            " 60%|██████    | 18/30 [00:01<00:00, 13.70it/s]"
          ]
        },
        {
          "output_type": "stream",
          "name": "stdout",
          "text": [
            "valid_loss=0.038, test_los0.063, Model Save\n",
            "epoch = 16, train_loss : 0.055, valid_loss : 0.038, test_loss : 0.063\n",
            "valid_loss=0.037, test_los0.062, Model Save\n",
            "epoch = 17, train_loss : 0.054, valid_loss : 0.037, test_loss : 0.062\n",
            "valid_loss=0.037, test_los0.060, Model Save\n",
            "epoch = 18, train_loss : 0.053, valid_loss : 0.037, test_loss : 0.060\n"
          ]
        },
        {
          "output_type": "stream",
          "name": "stderr",
          "text": [
            "\r 67%|██████▋   | 20/30 [00:01<00:00, 13.39it/s]"
          ]
        },
        {
          "output_type": "stream",
          "name": "stdout",
          "text": [
            "valid_loss=0.037, test_los0.059, Model Save\n",
            "epoch = 19, train_loss : 0.053, valid_loss : 0.037, test_loss : 0.059\n",
            "valid_loss=0.036, test_los0.058, Model Save\n",
            "epoch = 20, train_loss : 0.052, valid_loss : 0.036, test_loss : 0.058\n",
            "valid_loss=0.036, test_los0.058, Model Save\n",
            "epoch = 21, train_loss : 0.052, valid_loss : 0.036, test_loss : 0.058\n"
          ]
        },
        {
          "output_type": "stream",
          "name": "stderr",
          "text": [
            " 80%|████████  | 24/30 [00:01<00:00, 13.67it/s]"
          ]
        },
        {
          "output_type": "stream",
          "name": "stdout",
          "text": [
            "valid_loss=0.036, test_los0.057, Model Save\n",
            "epoch = 22, train_loss : 0.051, valid_loss : 0.036, test_loss : 0.057\n",
            "valid_loss=0.036, test_los0.056, Model Save\n",
            "epoch = 23, train_loss : 0.051, valid_loss : 0.036, test_loss : 0.056\n",
            "valid_loss=0.036, test_los0.056, Model Save\n",
            "epoch = 24, train_loss : 0.050, valid_loss : 0.036, test_loss : 0.056\n"
          ]
        },
        {
          "output_type": "stream",
          "name": "stderr",
          "text": [
            "\r 87%|████████▋ | 26/30 [00:01<00:00, 13.62it/s]"
          ]
        },
        {
          "output_type": "stream",
          "name": "stdout",
          "text": [
            "valid_loss=0.035, test_los0.055, Model Save\n",
            "epoch = 25, train_loss : 0.050, valid_loss : 0.035, test_loss : 0.055\n",
            "valid_loss=0.035, test_los0.055, Model Save\n",
            "epoch = 26, train_loss : 0.050, valid_loss : 0.035, test_loss : 0.055\n",
            "valid_loss=0.035, test_los0.055, Model Save\n",
            "epoch = 27, train_loss : 0.050, valid_loss : 0.035, test_loss : 0.055\n"
          ]
        },
        {
          "output_type": "stream",
          "name": "stderr",
          "text": [
            "100%|██████████| 30/30 [00:02<00:00, 13.49it/s]"
          ]
        },
        {
          "output_type": "stream",
          "name": "stdout",
          "text": [
            "valid_loss=0.035, test_los0.054, Model Save\n",
            "epoch = 28, train_loss : 0.049, valid_loss : 0.035, test_loss : 0.054\n",
            "valid_loss=0.035, test_los0.054, Model Save\n",
            "epoch = 29, train_loss : 0.049, valid_loss : 0.035, test_loss : 0.054\n",
            "valid_loss=0.035, test_los0.054, Model Save\n",
            "epoch = 30, train_loss : 0.049, valid_loss : 0.035, test_loss : 0.054\n"
          ]
        },
        {
          "output_type": "stream",
          "name": "stderr",
          "text": [
            "\n",
            " 13%|█▎        | 4/30 [00:00<00:01, 14.97it/s]"
          ]
        },
        {
          "output_type": "stream",
          "name": "stdout",
          "text": [
            "valid_loss=0.397, test_los0.737, Model Save\n",
            "epoch = 1, train_loss : 0.068, valid_loss : 0.397, test_loss : 0.737\n",
            "epoch = 2, train_loss : 0.033, valid_loss : 0.476, test_loss : 0.971\n",
            "epoch = 3, train_loss : 0.027, valid_loss : 0.398, test_loss : 0.795\n",
            "valid_loss=0.339, test_los0.668, Model Save\n",
            "epoch = 4, train_loss : 0.025, valid_loss : 0.339, test_loss : 0.668\n"
          ]
        },
        {
          "output_type": "stream",
          "name": "stderr",
          "text": [
            "\r 20%|██        | 6/30 [00:00<00:01, 14.07it/s]"
          ]
        },
        {
          "output_type": "stream",
          "name": "stdout",
          "text": [
            "valid_loss=0.289, test_los0.561, Model Save\n",
            "epoch = 5, train_loss : 0.023, valid_loss : 0.289, test_loss : 0.561\n",
            "valid_loss=0.244, test_los0.466, Model Save\n",
            "epoch = 6, train_loss : 0.020, valid_loss : 0.244, test_loss : 0.466\n",
            "valid_loss=0.205, test_los0.384, Model Save\n",
            "epoch = 7, train_loss : 0.018, valid_loss : 0.205, test_loss : 0.384\n"
          ]
        },
        {
          "output_type": "stream",
          "name": "stderr",
          "text": [
            " 33%|███▎      | 10/30 [00:00<00:01, 13.57it/s]"
          ]
        },
        {
          "output_type": "stream",
          "name": "stdout",
          "text": [
            "valid_loss=0.172, test_los0.314, Model Save\n",
            "epoch = 8, train_loss : 0.017, valid_loss : 0.172, test_loss : 0.314\n",
            "valid_loss=0.143, test_los0.254, Model Save\n",
            "epoch = 9, train_loss : 0.015, valid_loss : 0.143, test_loss : 0.254\n",
            "valid_loss=0.119, test_los0.205, Model Save\n",
            "epoch = 10, train_loss : 0.014, valid_loss : 0.119, test_loss : 0.205\n"
          ]
        },
        {
          "output_type": "stream",
          "name": "stderr",
          "text": [
            "\r 40%|████      | 12/30 [00:00<00:01, 13.55it/s]"
          ]
        },
        {
          "output_type": "stream",
          "name": "stdout",
          "text": [
            "valid_loss=0.099, test_los0.163, Model Save\n",
            "epoch = 11, train_loss : 0.013, valid_loss : 0.099, test_loss : 0.163\n",
            "valid_loss=0.083, test_los0.130, Model Save\n",
            "epoch = 12, train_loss : 0.012, valid_loss : 0.083, test_loss : 0.130\n",
            "valid_loss=0.070, test_los0.103, Model Save\n",
            "epoch = 13, train_loss : 0.011, valid_loss : 0.070, test_loss : 0.103\n"
          ]
        },
        {
          "output_type": "stream",
          "name": "stderr",
          "text": [
            " 53%|█████▎    | 16/30 [00:01<00:01, 13.52it/s]"
          ]
        },
        {
          "output_type": "stream",
          "name": "stdout",
          "text": [
            "valid_loss=0.059, test_los0.081, Model Save\n",
            "epoch = 14, train_loss : 0.010, valid_loss : 0.059, test_loss : 0.081\n",
            "valid_loss=0.050, test_los0.063, Model Save\n",
            "epoch = 15, train_loss : 0.009, valid_loss : 0.050, test_loss : 0.063\n",
            "valid_loss=0.043, test_los0.049, Model Save\n",
            "epoch = 16, train_loss : 0.009, valid_loss : 0.043, test_loss : 0.049\n"
          ]
        },
        {
          "output_type": "stream",
          "name": "stderr",
          "text": [
            "\r 60%|██████    | 18/30 [00:01<00:00, 13.38it/s]"
          ]
        },
        {
          "output_type": "stream",
          "name": "stdout",
          "text": [
            "valid_loss=0.037, test_los0.039, Model Save\n",
            "epoch = 17, train_loss : 0.009, valid_loss : 0.037, test_loss : 0.039\n",
            "valid_loss=0.033, test_los0.030, Model Save\n",
            "epoch = 18, train_loss : 0.008, valid_loss : 0.033, test_loss : 0.030\n",
            "valid_loss=0.029, test_los0.024, Model Save\n",
            "epoch = 19, train_loss : 0.008, valid_loss : 0.029, test_loss : 0.024\n"
          ]
        },
        {
          "output_type": "stream",
          "name": "stderr",
          "text": [
            " 73%|███████▎  | 22/30 [00:01<00:00, 13.44it/s]"
          ]
        },
        {
          "output_type": "stream",
          "name": "stdout",
          "text": [
            "valid_loss=0.027, test_los0.019, Model Save\n",
            "epoch = 20, train_loss : 0.008, valid_loss : 0.027, test_loss : 0.019\n",
            "valid_loss=0.024, test_los0.016, Model Save\n",
            "epoch = 21, train_loss : 0.007, valid_loss : 0.024, test_loss : 0.016\n",
            "valid_loss=0.023, test_los0.013, Model Save\n",
            "epoch = 22, train_loss : 0.007, valid_loss : 0.023, test_loss : 0.013\n"
          ]
        },
        {
          "output_type": "stream",
          "name": "stderr",
          "text": [
            "\r 80%|████████  | 24/30 [00:01<00:00, 13.32it/s]"
          ]
        },
        {
          "output_type": "stream",
          "name": "stdout",
          "text": [
            "valid_loss=0.021, test_los0.011, Model Save\n",
            "epoch = 23, train_loss : 0.007, valid_loss : 0.021, test_loss : 0.011\n",
            "valid_loss=0.020, test_los0.009, Model Save\n",
            "epoch = 24, train_loss : 0.007, valid_loss : 0.020, test_loss : 0.009\n",
            "valid_loss=0.020, test_los0.008, Model Save\n",
            "epoch = 25, train_loss : 0.007, valid_loss : 0.020, test_loss : 0.008\n"
          ]
        },
        {
          "output_type": "stream",
          "name": "stderr",
          "text": [
            " 93%|█████████▎| 28/30 [00:02<00:00, 12.48it/s]"
          ]
        },
        {
          "output_type": "stream",
          "name": "stdout",
          "text": [
            "valid_loss=0.019, test_los0.007, Model Save\n",
            "epoch = 26, train_loss : 0.007, valid_loss : 0.019, test_loss : 0.007\n",
            "valid_loss=0.019, test_los0.007, Model Save\n",
            "epoch = 27, train_loss : 0.007, valid_loss : 0.019, test_loss : 0.007\n",
            "valid_loss=0.018, test_los0.006, Model Save\n",
            "epoch = 28, train_loss : 0.007, valid_loss : 0.018, test_loss : 0.006\n"
          ]
        },
        {
          "output_type": "stream",
          "name": "stderr",
          "text": [
            "100%|██████████| 30/30 [00:02<00:00, 13.14it/s]\n"
          ]
        },
        {
          "output_type": "stream",
          "name": "stdout",
          "text": [
            "valid_loss=0.018, test_los0.006, Model Save\n",
            "epoch = 29, train_loss : 0.007, valid_loss : 0.018, test_loss : 0.006\n",
            "valid_loss=0.018, test_los0.006, Model Save\n",
            "epoch = 30, train_loss : 0.007, valid_loss : 0.018, test_loss : 0.006\n"
          ]
        },
        {
          "output_type": "stream",
          "name": "stderr",
          "text": [
            "  7%|▋         | 2/30 [00:00<00:01, 14.35it/s]"
          ]
        },
        {
          "output_type": "stream",
          "name": "stdout",
          "text": [
            "valid_loss=0.286, test_los0.704, Model Save\n",
            "epoch = 1, train_loss : 0.070, valid_loss : 0.286, test_loss : 0.704\n",
            "epoch = 2, train_loss : 0.030, valid_loss : 0.351, test_loss : 1.039\n",
            "epoch = 3, train_loss : 0.023, valid_loss : 0.323, test_loss : 0.993\n"
          ]
        },
        {
          "output_type": "stream",
          "name": "stderr",
          "text": [
            " 20%|██        | 6/30 [00:00<00:01, 13.20it/s]"
          ]
        },
        {
          "output_type": "stream",
          "name": "stdout",
          "text": [
            "valid_loss=0.272, test_los0.839, Model Save\n",
            "epoch = 4, train_loss : 0.020, valid_loss : 0.272, test_loss : 0.839\n",
            "valid_loss=0.226, test_los0.691, Model Save\n",
            "epoch = 5, train_loss : 0.017, valid_loss : 0.226, test_loss : 0.691\n",
            "valid_loss=0.186, test_los0.565, Model Save\n",
            "epoch = 6, train_loss : 0.015, valid_loss : 0.186, test_loss : 0.565\n"
          ]
        },
        {
          "output_type": "stream",
          "name": "stderr",
          "text": [
            "\r 27%|██▋       | 8/30 [00:00<00:01, 13.59it/s]"
          ]
        },
        {
          "output_type": "stream",
          "name": "stdout",
          "text": [
            "valid_loss=0.152, test_los0.459, Model Save\n",
            "epoch = 7, train_loss : 0.013, valid_loss : 0.152, test_loss : 0.459\n",
            "valid_loss=0.124, test_los0.371, Model Save\n",
            "epoch = 8, train_loss : 0.011, valid_loss : 0.124, test_loss : 0.371\n",
            "valid_loss=0.101, test_los0.298, Model Save\n",
            "epoch = 9, train_loss : 0.010, valid_loss : 0.101, test_loss : 0.298\n"
          ]
        },
        {
          "output_type": "stream",
          "name": "stderr",
          "text": [
            " 40%|████      | 12/30 [00:00<00:01, 13.53it/s]"
          ]
        },
        {
          "output_type": "stream",
          "name": "stdout",
          "text": [
            "valid_loss=0.082, test_los0.238, Model Save\n",
            "epoch = 10, train_loss : 0.008, valid_loss : 0.082, test_loss : 0.238\n",
            "valid_loss=0.067, test_los0.189, Model Save\n",
            "epoch = 11, train_loss : 0.007, valid_loss : 0.067, test_loss : 0.189\n",
            "valid_loss=0.054, test_los0.149, Model Save\n",
            "epoch = 12, train_loss : 0.007, valid_loss : 0.054, test_loss : 0.149\n"
          ]
        },
        {
          "output_type": "stream",
          "name": "stderr",
          "text": [
            "\r 47%|████▋     | 14/30 [00:01<00:01, 13.65it/s]"
          ]
        },
        {
          "output_type": "stream",
          "name": "stdout",
          "text": [
            "valid_loss=0.044, test_los0.117, Model Save\n",
            "epoch = 13, train_loss : 0.006, valid_loss : 0.044, test_loss : 0.117\n",
            "valid_loss=0.036, test_los0.092, Model Save\n",
            "epoch = 14, train_loss : 0.005, valid_loss : 0.036, test_loss : 0.092\n",
            "valid_loss=0.030, test_los0.072, Model Save\n",
            "epoch = 15, train_loss : 0.005, valid_loss : 0.030, test_loss : 0.072\n"
          ]
        },
        {
          "output_type": "stream",
          "name": "stderr",
          "text": [
            " 60%|██████    | 18/30 [00:01<00:00, 13.13it/s]"
          ]
        },
        {
          "output_type": "stream",
          "name": "stdout",
          "text": [
            "valid_loss=0.025, test_los0.057, Model Save\n",
            "epoch = 16, train_loss : 0.005, valid_loss : 0.025, test_loss : 0.057\n",
            "valid_loss=0.021, test_los0.044, Model Save\n",
            "epoch = 17, train_loss : 0.004, valid_loss : 0.021, test_loss : 0.044\n",
            "valid_loss=0.018, test_los0.035, Model Save\n",
            "epoch = 18, train_loss : 0.004, valid_loss : 0.018, test_loss : 0.035\n"
          ]
        },
        {
          "output_type": "stream",
          "name": "stderr",
          "text": [
            "\r 67%|██████▋   | 20/30 [00:01<00:00, 13.09it/s]"
          ]
        },
        {
          "output_type": "stream",
          "name": "stdout",
          "text": [
            "valid_loss=0.016, test_los0.028, Model Save\n",
            "epoch = 19, train_loss : 0.004, valid_loss : 0.016, test_loss : 0.028\n",
            "valid_loss=0.014, test_los0.022, Model Save\n",
            "epoch = 20, train_loss : 0.004, valid_loss : 0.014, test_loss : 0.022\n",
            "valid_loss=0.013, test_los0.018, Model Save\n",
            "epoch = 21, train_loss : 0.004, valid_loss : 0.013, test_loss : 0.018\n"
          ]
        },
        {
          "output_type": "stream",
          "name": "stderr",
          "text": [
            " 80%|████████  | 24/30 [00:01<00:00, 13.42it/s]"
          ]
        },
        {
          "output_type": "stream",
          "name": "stdout",
          "text": [
            "valid_loss=0.012, test_los0.015, Model Save\n",
            "epoch = 22, train_loss : 0.004, valid_loss : 0.012, test_loss : 0.015\n",
            "valid_loss=0.011, test_los0.013, Model Save\n",
            "epoch = 23, train_loss : 0.004, valid_loss : 0.011, test_loss : 0.013\n",
            "valid_loss=0.011, test_los0.011, Model Save\n",
            "epoch = 24, train_loss : 0.004, valid_loss : 0.011, test_loss : 0.011\n"
          ]
        },
        {
          "output_type": "stream",
          "name": "stderr",
          "text": [
            "\r 87%|████████▋ | 26/30 [00:01<00:00, 13.09it/s]"
          ]
        },
        {
          "output_type": "stream",
          "name": "stdout",
          "text": [
            "valid_loss=0.010, test_los0.010, Model Save\n",
            "epoch = 25, train_loss : 0.004, valid_loss : 0.010, test_loss : 0.010\n",
            "valid_loss=0.010, test_los0.009, Model Save\n",
            "epoch = 26, train_loss : 0.004, valid_loss : 0.010, test_loss : 0.009\n",
            "valid_loss=0.010, test_los0.008, Model Save\n",
            "epoch = 27, train_loss : 0.004, valid_loss : 0.010, test_loss : 0.008\n"
          ]
        },
        {
          "output_type": "stream",
          "name": "stderr",
          "text": [
            "100%|██████████| 30/30 [00:02<00:00, 13.23it/s]"
          ]
        },
        {
          "output_type": "stream",
          "name": "stdout",
          "text": [
            "valid_loss=0.010, test_los0.008, Model Save\n",
            "epoch = 28, train_loss : 0.003, valid_loss : 0.010, test_loss : 0.008\n",
            "valid_loss=0.009, test_los0.007, Model Save\n",
            "epoch = 29, train_loss : 0.003, valid_loss : 0.009, test_loss : 0.007\n",
            "valid_loss=0.009, test_los0.007, Model Save\n",
            "epoch = 30, train_loss : 0.003, valid_loss : 0.009, test_loss : 0.007\n"
          ]
        },
        {
          "output_type": "stream",
          "name": "stderr",
          "text": [
            "\n",
            "  7%|▋         | 2/30 [00:00<00:02, 12.92it/s]"
          ]
        },
        {
          "output_type": "stream",
          "name": "stdout",
          "text": [
            "valid_loss=0.111, test_los0.084, Model Save\n",
            "epoch = 1, train_loss : 0.087, valid_loss : 0.111, test_loss : 0.084\n",
            "valid_loss=0.071, test_los0.057, Model Save\n",
            "epoch = 2, train_loss : 0.063, valid_loss : 0.071, test_loss : 0.057\n",
            "valid_loss=0.050, test_los0.042, Model Save\n",
            "epoch = 3, train_loss : 0.052, valid_loss : 0.050, test_loss : 0.042\n"
          ]
        },
        {
          "output_type": "stream",
          "name": "stderr",
          "text": [
            " 20%|██        | 6/30 [00:00<00:01, 12.65it/s]"
          ]
        },
        {
          "output_type": "stream",
          "name": "stdout",
          "text": [
            "valid_loss=0.038, test_los0.032, Model Save\n",
            "epoch = 4, train_loss : 0.044, valid_loss : 0.038, test_loss : 0.032\n",
            "valid_loss=0.030, test_los0.026, Model Save\n",
            "epoch = 5, train_loss : 0.039, valid_loss : 0.030, test_loss : 0.026\n",
            "valid_loss=0.025, test_los0.022, Model Save\n",
            "epoch = 6, train_loss : 0.035, valid_loss : 0.025, test_loss : 0.022\n"
          ]
        },
        {
          "output_type": "stream",
          "name": "stderr",
          "text": [
            "\r 27%|██▋       | 8/30 [00:00<00:01, 12.65it/s]"
          ]
        },
        {
          "output_type": "stream",
          "name": "stdout",
          "text": [
            "valid_loss=0.022, test_los0.018, Model Save\n",
            "epoch = 7, train_loss : 0.032, valid_loss : 0.022, test_loss : 0.018\n",
            "valid_loss=0.020, test_los0.016, Model Save\n",
            "epoch = 8, train_loss : 0.030, valid_loss : 0.020, test_loss : 0.016\n",
            "valid_loss=0.018, test_los0.015, Model Save\n",
            "epoch = 9, train_loss : 0.029, valid_loss : 0.018, test_loss : 0.015\n"
          ]
        },
        {
          "output_type": "stream",
          "name": "stderr",
          "text": [
            " 40%|████      | 12/30 [00:00<00:01, 13.12it/s]"
          ]
        },
        {
          "output_type": "stream",
          "name": "stdout",
          "text": [
            "valid_loss=0.017, test_los0.014, Model Save\n",
            "epoch = 10, train_loss : 0.028, valid_loss : 0.017, test_loss : 0.014\n",
            "valid_loss=0.016, test_los0.013, Model Save\n",
            "epoch = 11, train_loss : 0.027, valid_loss : 0.016, test_loss : 0.013\n",
            "valid_loss=0.016, test_los0.013, Model Save\n",
            "epoch = 12, train_loss : 0.026, valid_loss : 0.016, test_loss : 0.013\n"
          ]
        },
        {
          "output_type": "stream",
          "name": "stderr",
          "text": [
            "\r 47%|████▋     | 14/30 [00:01<00:01, 13.11it/s]"
          ]
        },
        {
          "output_type": "stream",
          "name": "stdout",
          "text": [
            "valid_loss=0.015, test_los0.012, Model Save\n",
            "epoch = 13, train_loss : 0.026, valid_loss : 0.015, test_loss : 0.012\n",
            "valid_loss=0.015, test_los0.012, Model Save\n",
            "epoch = 14, train_loss : 0.025, valid_loss : 0.015, test_loss : 0.012\n",
            "valid_loss=0.015, test_los0.012, Model Save\n",
            "epoch = 15, train_loss : 0.025, valid_loss : 0.015, test_loss : 0.012\n"
          ]
        },
        {
          "output_type": "stream",
          "name": "stderr",
          "text": [
            "\r 53%|█████▎    | 16/30 [00:01<00:01, 13.57it/s]"
          ]
        },
        {
          "output_type": "stream",
          "name": "stdout",
          "text": [
            "valid_loss=0.015, test_los0.011, Model Save\n",
            "epoch = 16, train_loss : 0.024, valid_loss : 0.015, test_loss : 0.011\n",
            "valid_loss=0.015, test_los0.011, Model Save\n",
            "epoch = 17, train_loss : 0.024, valid_loss : 0.015, test_loss : 0.011\n"
          ]
        },
        {
          "output_type": "stream",
          "name": "stderr",
          "text": [
            "\r 60%|██████    | 18/30 [00:01<00:01, 11.11it/s]"
          ]
        },
        {
          "output_type": "stream",
          "name": "stdout",
          "text": [
            "valid_loss=0.014, test_los0.011, Model Save\n",
            "epoch = 18, train_loss : 0.024, valid_loss : 0.014, test_loss : 0.011\n",
            "valid_loss=0.014, test_los0.011, Model Save\n",
            "epoch = 19, train_loss : 0.024, valid_loss : 0.014, test_loss : 0.011\n"
          ]
        },
        {
          "output_type": "stream",
          "name": "stderr",
          "text": [
            "\r 67%|██████▋   | 20/30 [00:01<00:01,  9.76it/s]"
          ]
        },
        {
          "output_type": "stream",
          "name": "stdout",
          "text": [
            "valid_loss=0.014, test_los0.011, Model Save\n",
            "epoch = 20, train_loss : 0.024, valid_loss : 0.014, test_loss : 0.011\n",
            "valid_loss=0.014, test_los0.011, Model Save\n",
            "epoch = 21, train_loss : 0.023, valid_loss : 0.014, test_loss : 0.011\n"
          ]
        },
        {
          "output_type": "stream",
          "name": "stderr",
          "text": [
            "\r 73%|███████▎  | 22/30 [00:01<00:00,  9.48it/s]"
          ]
        },
        {
          "output_type": "stream",
          "name": "stdout",
          "text": [
            "valid_loss=0.014, test_los0.011, Model Save\n",
            "epoch = 22, train_loss : 0.023, valid_loss : 0.014, test_loss : 0.011\n",
            "valid_loss=0.014, test_los0.011, Model Save\n",
            "epoch = 23, train_loss : 0.023, valid_loss : 0.014, test_loss : 0.011\n"
          ]
        },
        {
          "output_type": "stream",
          "name": "stderr",
          "text": [
            " 83%|████████▎ | 25/30 [00:02<00:00,  9.35it/s]"
          ]
        },
        {
          "output_type": "stream",
          "name": "stdout",
          "text": [
            "valid_loss=0.014, test_los0.010, Model Save\n",
            "epoch = 24, train_loss : 0.023, valid_loss : 0.014, test_loss : 0.010\n",
            "valid_loss=0.014, test_los0.010, Model Save\n",
            "epoch = 25, train_loss : 0.023, valid_loss : 0.014, test_loss : 0.010\n"
          ]
        },
        {
          "output_type": "stream",
          "name": "stderr",
          "text": [
            " 90%|█████████ | 27/30 [00:02<00:00,  9.19it/s]"
          ]
        },
        {
          "output_type": "stream",
          "name": "stdout",
          "text": [
            "valid_loss=0.014, test_los0.010, Model Save\n",
            "epoch = 26, train_loss : 0.023, valid_loss : 0.014, test_loss : 0.010\n",
            "valid_loss=0.014, test_los0.010, Model Save\n",
            "epoch = 27, train_loss : 0.023, valid_loss : 0.014, test_loss : 0.010\n"
          ]
        },
        {
          "output_type": "stream",
          "name": "stderr",
          "text": [
            " 97%|█████████▋| 29/30 [00:02<00:00,  8.70it/s]"
          ]
        },
        {
          "output_type": "stream",
          "name": "stdout",
          "text": [
            "valid_loss=0.014, test_los0.010, Model Save\n",
            "epoch = 28, train_loss : 0.023, valid_loss : 0.014, test_loss : 0.010\n",
            "valid_loss=0.014, test_los0.010, Model Save\n",
            "epoch = 29, train_loss : 0.022, valid_loss : 0.014, test_loss : 0.010\n"
          ]
        },
        {
          "output_type": "stream",
          "name": "stderr",
          "text": [
            "100%|██████████| 30/30 [00:02<00:00, 10.43it/s]\n"
          ]
        },
        {
          "output_type": "stream",
          "name": "stdout",
          "text": [
            "valid_loss=0.014, test_los0.010, Model Save\n",
            "epoch = 30, train_loss : 0.022, valid_loss : 0.014, test_loss : 0.010\n"
          ]
        },
        {
          "output_type": "stream",
          "name": "stderr",
          "text": [
            "  7%|▋         | 2/30 [00:00<00:03,  8.23it/s]"
          ]
        },
        {
          "output_type": "stream",
          "name": "stdout",
          "text": [
            "valid_loss=0.090, test_los0.118, Model Save\n",
            "epoch = 1, train_loss : 0.113, valid_loss : 0.090, test_loss : 0.118\n",
            "valid_loss=0.069, test_los0.110, Model Save\n",
            "epoch = 2, train_loss : 0.086, valid_loss : 0.069, test_loss : 0.110\n"
          ]
        },
        {
          "output_type": "stream",
          "name": "stderr",
          "text": [
            " 13%|█▎        | 4/30 [00:00<00:03,  8.60it/s]"
          ]
        },
        {
          "output_type": "stream",
          "name": "stdout",
          "text": [
            "valid_loss=0.056, test_los0.101, Model Save\n",
            "epoch = 3, train_loss : 0.075, valid_loss : 0.056, test_loss : 0.101\n",
            "valid_loss=0.048, test_los0.093, Model Save\n",
            "epoch = 4, train_loss : 0.068, valid_loss : 0.048, test_loss : 0.093\n"
          ]
        },
        {
          "output_type": "stream",
          "name": "stderr",
          "text": [
            " 20%|██        | 6/30 [00:00<00:02,  8.77it/s]"
          ]
        },
        {
          "output_type": "stream",
          "name": "stdout",
          "text": [
            "valid_loss=0.043, test_los0.086, Model Save\n",
            "epoch = 5, train_loss : 0.062, valid_loss : 0.043, test_loss : 0.086\n",
            "valid_loss=0.039, test_los0.081, Model Save\n",
            "epoch = 6, train_loss : 0.057, valid_loss : 0.039, test_loss : 0.081\n"
          ]
        },
        {
          "output_type": "stream",
          "name": "stderr",
          "text": [
            " 27%|██▋       | 8/30 [00:00<00:02,  9.20it/s]"
          ]
        },
        {
          "output_type": "stream",
          "name": "stdout",
          "text": [
            "valid_loss=0.036, test_los0.077, Model Save\n",
            "epoch = 7, train_loss : 0.053, valid_loss : 0.036, test_loss : 0.077\n",
            "valid_loss=0.034, test_los0.073, Model Save\n",
            "epoch = 8, train_loss : 0.051, valid_loss : 0.034, test_loss : 0.073\n"
          ]
        },
        {
          "output_type": "stream",
          "name": "stderr",
          "text": [
            " 33%|███▎      | 10/30 [00:01<00:02,  8.41it/s]"
          ]
        },
        {
          "output_type": "stream",
          "name": "stdout",
          "text": [
            "valid_loss=0.033, test_los0.071, Model Save\n",
            "epoch = 9, train_loss : 0.049, valid_loss : 0.033, test_loss : 0.071\n",
            "valid_loss=0.032, test_los0.068, Model Save\n",
            "epoch = 10, train_loss : 0.047, valid_loss : 0.032, test_loss : 0.068\n"
          ]
        },
        {
          "output_type": "stream",
          "name": "stderr",
          "text": [
            " 40%|████      | 12/30 [00:01<00:02,  7.56it/s]"
          ]
        },
        {
          "output_type": "stream",
          "name": "stdout",
          "text": [
            "valid_loss=0.031, test_los0.067, Model Save\n",
            "epoch = 11, train_loss : 0.046, valid_loss : 0.031, test_loss : 0.067\n",
            "valid_loss=0.030, test_los0.065, Model Save\n",
            "epoch = 12, train_loss : 0.045, valid_loss : 0.030, test_loss : 0.065\n"
          ]
        },
        {
          "output_type": "stream",
          "name": "stderr",
          "text": [
            " 47%|████▋     | 14/30 [00:01<00:02,  7.97it/s]"
          ]
        },
        {
          "output_type": "stream",
          "name": "stdout",
          "text": [
            "valid_loss=0.030, test_los0.064, Model Save\n",
            "epoch = 13, train_loss : 0.044, valid_loss : 0.030, test_loss : 0.064\n",
            "valid_loss=0.030, test_los0.062, Model Save\n",
            "epoch = 14, train_loss : 0.043, valid_loss : 0.030, test_loss : 0.062\n"
          ]
        },
        {
          "output_type": "stream",
          "name": "stderr",
          "text": [
            " 57%|█████▋    | 17/30 [00:02<00:01,  9.40it/s]"
          ]
        },
        {
          "output_type": "stream",
          "name": "stdout",
          "text": [
            "valid_loss=0.029, test_los0.061, Model Save\n",
            "epoch = 15, train_loss : 0.042, valid_loss : 0.029, test_loss : 0.061\n",
            "valid_loss=0.029, test_los0.060, Model Save\n",
            "epoch = 16, train_loss : 0.042, valid_loss : 0.029, test_loss : 0.060\n",
            "valid_loss=0.029, test_los0.060, Model Save\n",
            "epoch = 17, train_loss : 0.041, valid_loss : 0.029, test_loss : 0.060\n"
          ]
        },
        {
          "output_type": "stream",
          "name": "stderr",
          "text": [
            "\r 63%|██████▎   | 19/30 [00:02<00:01, 10.79it/s]"
          ]
        },
        {
          "output_type": "stream",
          "name": "stdout",
          "text": [
            "valid_loss=0.029, test_los0.059, Model Save\n",
            "epoch = 18, train_loss : 0.041, valid_loss : 0.029, test_loss : 0.059\n",
            "valid_loss=0.028, test_los0.058, Model Save\n",
            "epoch = 19, train_loss : 0.040, valid_loss : 0.028, test_loss : 0.058\n",
            "valid_loss=0.028, test_los0.058, Model Save\n",
            "epoch = 20, train_loss : 0.040, valid_loss : 0.028, test_loss : 0.058\n"
          ]
        },
        {
          "output_type": "stream",
          "name": "stderr",
          "text": [
            " 77%|███████▋  | 23/30 [00:02<00:00, 11.92it/s]"
          ]
        },
        {
          "output_type": "stream",
          "name": "stdout",
          "text": [
            "valid_loss=0.028, test_los0.057, Model Save\n",
            "epoch = 21, train_loss : 0.040, valid_loss : 0.028, test_loss : 0.057\n",
            "valid_loss=0.028, test_los0.057, Model Save\n",
            "epoch = 22, train_loss : 0.039, valid_loss : 0.028, test_loss : 0.057\n",
            "valid_loss=0.028, test_los0.056, Model Save\n",
            "epoch = 23, train_loss : 0.039, valid_loss : 0.028, test_loss : 0.056\n"
          ]
        },
        {
          "output_type": "stream",
          "name": "stderr",
          "text": [
            "\r 83%|████████▎ | 25/30 [00:02<00:00, 12.06it/s]"
          ]
        },
        {
          "output_type": "stream",
          "name": "stdout",
          "text": [
            "valid_loss=0.028, test_los0.056, Model Save\n",
            "epoch = 24, train_loss : 0.039, valid_loss : 0.028, test_loss : 0.056\n",
            "valid_loss=0.027, test_los0.056, Model Save\n",
            "epoch = 25, train_loss : 0.039, valid_loss : 0.027, test_loss : 0.056\n",
            "valid_loss=0.027, test_los0.055, Model Save\n",
            "epoch = 26, train_loss : 0.038, valid_loss : 0.027, test_loss : 0.055\n"
          ]
        },
        {
          "output_type": "stream",
          "name": "stderr",
          "text": [
            " 97%|█████████▋| 29/30 [00:02<00:00, 12.90it/s]"
          ]
        },
        {
          "output_type": "stream",
          "name": "stdout",
          "text": [
            "valid_loss=0.027, test_los0.055, Model Save\n",
            "epoch = 27, train_loss : 0.038, valid_loss : 0.027, test_loss : 0.055\n",
            "valid_loss=0.027, test_los0.055, Model Save\n",
            "epoch = 28, train_loss : 0.038, valid_loss : 0.027, test_loss : 0.055\n",
            "valid_loss=0.027, test_los0.055, Model Save\n",
            "epoch = 29, train_loss : 0.038, valid_loss : 0.027, test_loss : 0.055\n"
          ]
        },
        {
          "output_type": "stream",
          "name": "stderr",
          "text": [
            "\r100%|██████████| 30/30 [00:03<00:00,  9.97it/s]\n"
          ]
        },
        {
          "output_type": "stream",
          "name": "stdout",
          "text": [
            "valid_loss=0.027, test_los0.054, Model Save\n",
            "epoch = 30, train_loss : 0.037, valid_loss : 0.027, test_loss : 0.054\n"
          ]
        },
        {
          "output_type": "stream",
          "name": "stderr",
          "text": [
            "  7%|▋         | 2/30 [00:00<00:02, 13.69it/s]"
          ]
        },
        {
          "output_type": "stream",
          "name": "stdout",
          "text": [
            "valid_loss=0.119, test_los0.144, Model Save\n",
            "epoch = 1, train_loss : 0.095, valid_loss : 0.119, test_loss : 0.144\n",
            "valid_loss=0.086, test_los0.101, Model Save\n",
            "epoch = 2, train_loss : 0.064, valid_loss : 0.086, test_loss : 0.101\n",
            "valid_loss=0.068, test_los0.081, Model Save\n",
            "epoch = 3, train_loss : 0.051, valid_loss : 0.068, test_loss : 0.081\n"
          ]
        },
        {
          "output_type": "stream",
          "name": "stderr",
          "text": [
            " 20%|██        | 6/30 [00:00<00:01, 13.84it/s]"
          ]
        },
        {
          "output_type": "stream",
          "name": "stdout",
          "text": [
            "valid_loss=0.052, test_los0.062, Model Save\n",
            "epoch = 4, train_loss : 0.041, valid_loss : 0.052, test_loss : 0.062\n",
            "valid_loss=0.041, test_los0.049, Model Save\n",
            "epoch = 5, train_loss : 0.035, valid_loss : 0.041, test_loss : 0.049\n",
            "valid_loss=0.033, test_los0.039, Model Save\n",
            "epoch = 6, train_loss : 0.030, valid_loss : 0.033, test_loss : 0.039\n"
          ]
        },
        {
          "output_type": "stream",
          "name": "stderr",
          "text": [
            "\r 27%|██▋       | 8/30 [00:00<00:01, 13.66it/s]"
          ]
        },
        {
          "output_type": "stream",
          "name": "stdout",
          "text": [
            "valid_loss=0.027, test_los0.032, Model Save\n",
            "epoch = 7, train_loss : 0.027, valid_loss : 0.027, test_loss : 0.032\n",
            "valid_loss=0.023, test_los0.027, Model Save\n",
            "epoch = 8, train_loss : 0.024, valid_loss : 0.023, test_loss : 0.027\n",
            "valid_loss=0.020, test_los0.023, Model Save\n",
            "epoch = 9, train_loss : 0.022, valid_loss : 0.020, test_loss : 0.023\n"
          ]
        },
        {
          "output_type": "stream",
          "name": "stderr",
          "text": [
            " 40%|████      | 12/30 [00:00<00:01, 12.83it/s]"
          ]
        },
        {
          "output_type": "stream",
          "name": "stdout",
          "text": [
            "valid_loss=0.018, test_los0.021, Model Save\n",
            "epoch = 10, train_loss : 0.021, valid_loss : 0.018, test_loss : 0.021\n",
            "valid_loss=0.017, test_los0.019, Model Save\n",
            "epoch = 11, train_loss : 0.020, valid_loss : 0.017, test_loss : 0.019\n",
            "valid_loss=0.016, test_los0.018, Model Save\n",
            "epoch = 12, train_loss : 0.019, valid_loss : 0.016, test_loss : 0.018\n"
          ]
        },
        {
          "output_type": "stream",
          "name": "stderr",
          "text": [
            "\r 47%|████▋     | 14/30 [00:01<00:01, 12.83it/s]"
          ]
        },
        {
          "output_type": "stream",
          "name": "stdout",
          "text": [
            "valid_loss=0.015, test_los0.017, Model Save\n",
            "epoch = 13, train_loss : 0.018, valid_loss : 0.015, test_loss : 0.017\n",
            "valid_loss=0.014, test_los0.016, Model Save\n",
            "epoch = 14, train_loss : 0.018, valid_loss : 0.014, test_loss : 0.016\n",
            "valid_loss=0.014, test_los0.016, Model Save\n",
            "epoch = 15, train_loss : 0.018, valid_loss : 0.014, test_loss : 0.016\n"
          ]
        },
        {
          "output_type": "stream",
          "name": "stderr",
          "text": [
            " 60%|██████    | 18/30 [00:01<00:00, 12.88it/s]"
          ]
        },
        {
          "output_type": "stream",
          "name": "stdout",
          "text": [
            "valid_loss=0.014, test_los0.016, Model Save\n",
            "epoch = 16, train_loss : 0.017, valid_loss : 0.014, test_loss : 0.016\n",
            "valid_loss=0.014, test_los0.015, Model Save\n",
            "epoch = 17, train_loss : 0.017, valid_loss : 0.014, test_loss : 0.015\n",
            "valid_loss=0.014, test_los0.015, Model Save\n",
            "epoch = 18, train_loss : 0.017, valid_loss : 0.014, test_loss : 0.015\n"
          ]
        },
        {
          "output_type": "stream",
          "name": "stderr",
          "text": [
            "\r 67%|██████▋   | 20/30 [00:01<00:00, 13.03it/s]"
          ]
        },
        {
          "output_type": "stream",
          "name": "stdout",
          "text": [
            "valid_loss=0.014, test_los0.015, Model Save\n",
            "epoch = 19, train_loss : 0.017, valid_loss : 0.014, test_loss : 0.015\n",
            "valid_loss=0.013, test_los0.015, Model Save\n",
            "epoch = 20, train_loss : 0.017, valid_loss : 0.013, test_loss : 0.015\n",
            "valid_loss=0.013, test_los0.015, Model Save\n",
            "epoch = 21, train_loss : 0.017, valid_loss : 0.013, test_loss : 0.015\n"
          ]
        },
        {
          "output_type": "stream",
          "name": "stderr",
          "text": [
            " 80%|████████  | 24/30 [00:01<00:00, 12.48it/s]"
          ]
        },
        {
          "output_type": "stream",
          "name": "stdout",
          "text": [
            "valid_loss=0.013, test_los0.015, Model Save\n",
            "epoch = 22, train_loss : 0.017, valid_loss : 0.013, test_loss : 0.015\n",
            "valid_loss=0.013, test_los0.015, Model Save\n",
            "epoch = 23, train_loss : 0.017, valid_loss : 0.013, test_loss : 0.015\n",
            "valid_loss=0.013, test_los0.015, Model Save\n",
            "epoch = 24, train_loss : 0.016, valid_loss : 0.013, test_loss : 0.015\n"
          ]
        },
        {
          "output_type": "stream",
          "name": "stderr",
          "text": [
            "\r 87%|████████▋ | 26/30 [00:02<00:00, 12.65it/s]"
          ]
        },
        {
          "output_type": "stream",
          "name": "stdout",
          "text": [
            "valid_loss=0.013, test_los0.014, Model Save\n",
            "epoch = 25, train_loss : 0.016, valid_loss : 0.013, test_loss : 0.014\n",
            "valid_loss=0.013, test_los0.014, Model Save\n",
            "epoch = 26, train_loss : 0.016, valid_loss : 0.013, test_loss : 0.014\n",
            "valid_loss=0.013, test_los0.014, Model Save\n",
            "epoch = 27, train_loss : 0.016, valid_loss : 0.013, test_loss : 0.014\n"
          ]
        },
        {
          "output_type": "stream",
          "name": "stderr",
          "text": [
            "100%|██████████| 30/30 [00:02<00:00, 12.95it/s]"
          ]
        },
        {
          "output_type": "stream",
          "name": "stdout",
          "text": [
            "valid_loss=0.013, test_los0.014, Model Save\n",
            "epoch = 28, train_loss : 0.016, valid_loss : 0.013, test_loss : 0.014\n",
            "valid_loss=0.013, test_los0.014, Model Save\n",
            "epoch = 29, train_loss : 0.016, valid_loss : 0.013, test_loss : 0.014\n",
            "valid_loss=0.013, test_los0.014, Model Save\n",
            "epoch = 30, train_loss : 0.016, valid_loss : 0.013, test_loss : 0.014\n"
          ]
        },
        {
          "output_type": "stream",
          "name": "stderr",
          "text": [
            "\n",
            "  7%|▋         | 2/30 [00:00<00:02, 12.05it/s]"
          ]
        },
        {
          "output_type": "stream",
          "name": "stdout",
          "text": [
            "valid_loss=0.057, test_los0.084, Model Save\n",
            "epoch = 1, train_loss : 0.089, valid_loss : 0.057, test_loss : 0.084\n",
            "valid_loss=0.039, test_los0.053, Model Save\n",
            "epoch = 2, train_loss : 0.066, valid_loss : 0.039, test_loss : 0.053\n",
            "valid_loss=0.030, test_los0.046, Model Save\n",
            "epoch = 3, train_loss : 0.055, valid_loss : 0.030, test_loss : 0.046\n"
          ]
        },
        {
          "output_type": "stream",
          "name": "stderr",
          "text": [
            " 20%|██        | 6/30 [00:00<00:01, 12.42it/s]"
          ]
        },
        {
          "output_type": "stream",
          "name": "stdout",
          "text": [
            "valid_loss=0.024, test_los0.036, Model Save\n",
            "epoch = 4, train_loss : 0.047, valid_loss : 0.024, test_loss : 0.036\n",
            "valid_loss=0.020, test_los0.033, Model Save\n",
            "epoch = 5, train_loss : 0.041, valid_loss : 0.020, test_loss : 0.033\n",
            "valid_loss=0.018, test_los0.028, Model Save\n",
            "epoch = 6, train_loss : 0.038, valid_loss : 0.018, test_loss : 0.028\n"
          ]
        },
        {
          "output_type": "stream",
          "name": "stderr",
          "text": [
            "\r 27%|██▋       | 8/30 [00:00<00:01, 12.48it/s]"
          ]
        },
        {
          "output_type": "stream",
          "name": "stdout",
          "text": [
            "valid_loss=0.016, test_los0.027, Model Save\n",
            "epoch = 7, train_loss : 0.035, valid_loss : 0.016, test_loss : 0.027\n",
            "valid_loss=0.015, test_los0.025, Model Save\n",
            "epoch = 8, train_loss : 0.033, valid_loss : 0.015, test_loss : 0.025\n",
            "valid_loss=0.014, test_los0.025, Model Save\n",
            "epoch = 9, train_loss : 0.031, valid_loss : 0.014, test_loss : 0.025\n"
          ]
        },
        {
          "output_type": "stream",
          "name": "stderr",
          "text": [
            " 40%|████      | 12/30 [00:00<00:01, 12.37it/s]"
          ]
        },
        {
          "output_type": "stream",
          "name": "stdout",
          "text": [
            "valid_loss=0.014, test_los0.024, Model Save\n",
            "epoch = 10, train_loss : 0.030, valid_loss : 0.014, test_loss : 0.024\n",
            "valid_loss=0.013, test_los0.023, Model Save\n",
            "epoch = 11, train_loss : 0.029, valid_loss : 0.013, test_loss : 0.023\n",
            "valid_loss=0.013, test_los0.022, Model Save\n",
            "epoch = 12, train_loss : 0.028, valid_loss : 0.013, test_loss : 0.022\n"
          ]
        },
        {
          "output_type": "stream",
          "name": "stderr",
          "text": [
            "\r 47%|████▋     | 14/30 [00:01<00:01, 11.98it/s]"
          ]
        },
        {
          "output_type": "stream",
          "name": "stdout",
          "text": [
            "valid_loss=0.013, test_los0.022, Model Save\n",
            "epoch = 13, train_loss : 0.028, valid_loss : 0.013, test_loss : 0.022\n",
            "valid_loss=0.012, test_los0.021, Model Save\n",
            "epoch = 14, train_loss : 0.027, valid_loss : 0.012, test_loss : 0.021\n",
            "valid_loss=0.012, test_los0.021, Model Save\n",
            "epoch = 15, train_loss : 0.026, valid_loss : 0.012, test_loss : 0.021\n"
          ]
        },
        {
          "output_type": "stream",
          "name": "stderr",
          "text": [
            " 60%|██████    | 18/30 [00:01<00:00, 12.50it/s]"
          ]
        },
        {
          "output_type": "stream",
          "name": "stdout",
          "text": [
            "valid_loss=0.012, test_los0.020, Model Save\n",
            "epoch = 16, train_loss : 0.026, valid_loss : 0.012, test_loss : 0.020\n",
            "valid_loss=0.012, test_los0.020, Model Save\n",
            "epoch = 17, train_loss : 0.026, valid_loss : 0.012, test_loss : 0.020\n",
            "valid_loss=0.012, test_los0.020, Model Save\n",
            "epoch = 18, train_loss : 0.025, valid_loss : 0.012, test_loss : 0.020\n"
          ]
        },
        {
          "output_type": "stream",
          "name": "stderr",
          "text": [
            "\r 67%|██████▋   | 20/30 [00:01<00:00, 12.62it/s]"
          ]
        },
        {
          "output_type": "stream",
          "name": "stdout",
          "text": [
            "valid_loss=0.012, test_los0.019, Model Save\n",
            "epoch = 19, train_loss : 0.025, valid_loss : 0.012, test_loss : 0.019\n",
            "valid_loss=0.011, test_los0.019, Model Save\n",
            "epoch = 20, train_loss : 0.025, valid_loss : 0.011, test_loss : 0.019\n",
            "valid_loss=0.011, test_los0.019, Model Save\n",
            "epoch = 21, train_loss : 0.024, valid_loss : 0.011, test_loss : 0.019\n"
          ]
        },
        {
          "output_type": "stream",
          "name": "stderr",
          "text": [
            " 80%|████████  | 24/30 [00:01<00:00, 12.14it/s]"
          ]
        },
        {
          "output_type": "stream",
          "name": "stdout",
          "text": [
            "valid_loss=0.011, test_los0.019, Model Save\n",
            "epoch = 22, train_loss : 0.024, valid_loss : 0.011, test_loss : 0.019\n",
            "valid_loss=0.011, test_los0.018, Model Save\n",
            "epoch = 23, train_loss : 0.024, valid_loss : 0.011, test_loss : 0.018\n",
            "valid_loss=0.011, test_los0.018, Model Save\n",
            "epoch = 24, train_loss : 0.024, valid_loss : 0.011, test_loss : 0.018\n"
          ]
        },
        {
          "output_type": "stream",
          "name": "stderr",
          "text": [
            "\r 87%|████████▋ | 26/30 [00:02<00:00, 11.56it/s]"
          ]
        },
        {
          "output_type": "stream",
          "name": "stdout",
          "text": [
            "valid_loss=0.011, test_los0.018, Model Save\n",
            "epoch = 25, train_loss : 0.024, valid_loss : 0.011, test_loss : 0.018\n",
            "valid_loss=0.011, test_los0.018, Model Save\n",
            "epoch = 26, train_loss : 0.023, valid_loss : 0.011, test_loss : 0.018\n",
            "valid_loss=0.011, test_los0.018, Model Save\n",
            "epoch = 27, train_loss : 0.023, valid_loss : 0.011, test_loss : 0.018\n"
          ]
        },
        {
          "output_type": "stream",
          "name": "stderr",
          "text": [
            "100%|██████████| 30/30 [00:02<00:00, 11.91it/s]"
          ]
        },
        {
          "output_type": "stream",
          "name": "stdout",
          "text": [
            "valid_loss=0.011, test_los0.018, Model Save\n",
            "epoch = 28, train_loss : 0.023, valid_loss : 0.011, test_loss : 0.018\n",
            "valid_loss=0.011, test_los0.017, Model Save\n",
            "epoch = 29, train_loss : 0.023, valid_loss : 0.011, test_loss : 0.017\n",
            "valid_loss=0.011, test_los0.017, Model Save\n",
            "epoch = 30, train_loss : 0.023, valid_loss : 0.011, test_loss : 0.017\n"
          ]
        },
        {
          "output_type": "stream",
          "name": "stderr",
          "text": [
            "\n",
            " 10%|█         | 3/30 [00:00<00:02, 11.37it/s]"
          ]
        },
        {
          "output_type": "stream",
          "name": "stdout",
          "text": [
            "valid_loss=0.124, test_los0.185, Model Save\n",
            "epoch = 1, train_loss : 0.136, valid_loss : 0.124, test_loss : 0.185\n",
            "valid_loss=0.096, test_los0.157, Model Save\n",
            "epoch = 2, train_loss : 0.116, valid_loss : 0.096, test_loss : 0.157\n",
            "valid_loss=0.079, test_los0.140, Model Save\n",
            "epoch = 3, train_loss : 0.104, valid_loss : 0.079, test_loss : 0.140\n"
          ]
        },
        {
          "output_type": "stream",
          "name": "stderr",
          "text": [
            "\r 17%|█▋        | 5/30 [00:00<00:02, 11.98it/s]"
          ]
        },
        {
          "output_type": "stream",
          "name": "stdout",
          "text": [
            "valid_loss=0.068, test_los0.128, Model Save\n",
            "epoch = 4, train_loss : 0.096, valid_loss : 0.068, test_loss : 0.128\n",
            "valid_loss=0.060, test_los0.119, Model Save\n",
            "epoch = 5, train_loss : 0.090, valid_loss : 0.060, test_loss : 0.119\n",
            "valid_loss=0.055, test_los0.112, Model Save\n",
            "epoch = 6, train_loss : 0.086, valid_loss : 0.055, test_loss : 0.112\n"
          ]
        },
        {
          "output_type": "stream",
          "name": "stderr",
          "text": [
            " 30%|███       | 9/30 [00:00<00:01, 12.52it/s]"
          ]
        },
        {
          "output_type": "stream",
          "name": "stdout",
          "text": [
            "valid_loss=0.051, test_los0.107, Model Save\n",
            "epoch = 7, train_loss : 0.082, valid_loss : 0.051, test_loss : 0.107\n",
            "valid_loss=0.048, test_los0.102, Model Save\n",
            "epoch = 8, train_loss : 0.079, valid_loss : 0.048, test_loss : 0.102\n",
            "valid_loss=0.046, test_los0.099, Model Save\n",
            "epoch = 9, train_loss : 0.077, valid_loss : 0.046, test_loss : 0.099\n"
          ]
        },
        {
          "output_type": "stream",
          "name": "stderr",
          "text": [
            "\r 37%|███▋      | 11/30 [00:00<00:01, 12.65it/s]"
          ]
        },
        {
          "output_type": "stream",
          "name": "stdout",
          "text": [
            "valid_loss=0.044, test_los0.096, Model Save\n",
            "epoch = 10, train_loss : 0.075, valid_loss : 0.044, test_loss : 0.096\n",
            "valid_loss=0.043, test_los0.093, Model Save\n",
            "epoch = 11, train_loss : 0.073, valid_loss : 0.043, test_loss : 0.093\n",
            "valid_loss=0.042, test_los0.091, Model Save\n",
            "epoch = 12, train_loss : 0.072, valid_loss : 0.042, test_loss : 0.091\n"
          ]
        },
        {
          "output_type": "stream",
          "name": "stderr",
          "text": [
            " 50%|█████     | 15/30 [00:01<00:01, 12.86it/s]"
          ]
        },
        {
          "output_type": "stream",
          "name": "stdout",
          "text": [
            "valid_loss=0.041, test_los0.089, Model Save\n",
            "epoch = 13, train_loss : 0.071, valid_loss : 0.041, test_loss : 0.089\n",
            "valid_loss=0.040, test_los0.088, Model Save\n",
            "epoch = 14, train_loss : 0.070, valid_loss : 0.040, test_loss : 0.088\n",
            "valid_loss=0.040, test_los0.086, Model Save\n",
            "epoch = 15, train_loss : 0.069, valid_loss : 0.040, test_loss : 0.086\n"
          ]
        },
        {
          "output_type": "stream",
          "name": "stderr",
          "text": [
            "\r 57%|█████▋    | 17/30 [00:01<00:01, 12.19it/s]"
          ]
        },
        {
          "output_type": "stream",
          "name": "stdout",
          "text": [
            "valid_loss=0.039, test_los0.085, Model Save\n",
            "epoch = 16, train_loss : 0.068, valid_loss : 0.039, test_loss : 0.085\n",
            "valid_loss=0.039, test_los0.084, Model Save\n",
            "epoch = 17, train_loss : 0.067, valid_loss : 0.039, test_loss : 0.084\n",
            "valid_loss=0.039, test_los0.083, Model Save\n",
            "epoch = 18, train_loss : 0.067, valid_loss : 0.039, test_loss : 0.083\n"
          ]
        },
        {
          "output_type": "stream",
          "name": "stderr",
          "text": [
            " 70%|███████   | 21/30 [00:01<00:00, 12.94it/s]"
          ]
        },
        {
          "output_type": "stream",
          "name": "stdout",
          "text": [
            "valid_loss=0.038, test_los0.082, Model Save\n",
            "epoch = 19, train_loss : 0.066, valid_loss : 0.038, test_loss : 0.082\n",
            "valid_loss=0.038, test_los0.081, Model Save\n",
            "epoch = 20, train_loss : 0.066, valid_loss : 0.038, test_loss : 0.081\n",
            "valid_loss=0.038, test_los0.081, Model Save\n",
            "epoch = 21, train_loss : 0.065, valid_loss : 0.038, test_loss : 0.081\n"
          ]
        },
        {
          "output_type": "stream",
          "name": "stderr",
          "text": [
            "\r 77%|███████▋  | 23/30 [00:01<00:00, 12.41it/s]"
          ]
        },
        {
          "output_type": "stream",
          "name": "stdout",
          "text": [
            "valid_loss=0.038, test_los0.080, Model Save\n",
            "epoch = 22, train_loss : 0.065, valid_loss : 0.038, test_loss : 0.080\n",
            "valid_loss=0.037, test_los0.079, Model Save\n",
            "epoch = 23, train_loss : 0.064, valid_loss : 0.037, test_loss : 0.079\n",
            "valid_loss=0.037, test_los0.079, Model Save\n",
            "epoch = 24, train_loss : 0.064, valid_loss : 0.037, test_loss : 0.079\n"
          ]
        },
        {
          "output_type": "stream",
          "name": "stderr",
          "text": [
            " 90%|█████████ | 27/30 [00:02<00:00, 12.51it/s]"
          ]
        },
        {
          "output_type": "stream",
          "name": "stdout",
          "text": [
            "valid_loss=0.037, test_los0.078, Model Save\n",
            "epoch = 25, train_loss : 0.063, valid_loss : 0.037, test_loss : 0.078\n",
            "valid_loss=0.037, test_los0.078, Model Save\n",
            "epoch = 26, train_loss : 0.063, valid_loss : 0.037, test_loss : 0.078\n",
            "valid_loss=0.037, test_los0.077, Model Save\n",
            "epoch = 27, train_loss : 0.062, valid_loss : 0.037, test_loss : 0.077\n"
          ]
        },
        {
          "output_type": "stream",
          "name": "stderr",
          "text": [
            "100%|██████████| 30/30 [00:02<00:00, 12.37it/s]"
          ]
        },
        {
          "output_type": "stream",
          "name": "stdout",
          "text": [
            "valid_loss=0.037, test_los0.077, Model Save\n",
            "epoch = 28, train_loss : 0.062, valid_loss : 0.037, test_loss : 0.077\n",
            "valid_loss=0.036, test_los0.076, Model Save\n",
            "epoch = 29, train_loss : 0.062, valid_loss : 0.036, test_loss : 0.076\n",
            "valid_loss=0.036, test_los0.076, Model Save\n",
            "epoch = 30, train_loss : 0.062, valid_loss : 0.036, test_loss : 0.076\n"
          ]
        },
        {
          "output_type": "stream",
          "name": "stderr",
          "text": [
            "\n",
            "  7%|▋         | 2/30 [00:00<00:03,  7.75it/s]"
          ]
        },
        {
          "output_type": "stream",
          "name": "stdout",
          "text": [
            "valid_loss=0.059, test_los0.155, Model Save\n",
            "epoch = 1, train_loss : 0.159, valid_loss : 0.059, test_loss : 0.155\n",
            "valid_loss=0.053, test_los0.118, Model Save\n",
            "epoch = 2, train_loss : 0.137, valid_loss : 0.053, test_loss : 0.118\n"
          ]
        },
        {
          "output_type": "stream",
          "name": "stderr",
          "text": [
            " 13%|█▎        | 4/30 [00:00<00:03,  7.59it/s]"
          ]
        },
        {
          "output_type": "stream",
          "name": "stdout",
          "text": [
            "valid_loss=0.050, test_los0.106, Model Save\n",
            "epoch = 3, train_loss : 0.126, valid_loss : 0.050, test_loss : 0.106\n",
            "valid_loss=0.048, test_los0.100, Model Save\n",
            "epoch = 4, train_loss : 0.118, valid_loss : 0.048, test_loss : 0.100\n"
          ]
        },
        {
          "output_type": "stream",
          "name": "stderr",
          "text": [
            " 20%|██        | 6/30 [00:00<00:03,  7.71it/s]"
          ]
        },
        {
          "output_type": "stream",
          "name": "stdout",
          "text": [
            "valid_loss=0.047, test_los0.097, Model Save\n",
            "epoch = 5, train_loss : 0.111, valid_loss : 0.047, test_loss : 0.097\n",
            "valid_loss=0.046, test_los0.096, Model Save\n",
            "epoch = 6, train_loss : 0.105, valid_loss : 0.046, test_loss : 0.096\n"
          ]
        },
        {
          "output_type": "stream",
          "name": "stderr",
          "text": [
            " 27%|██▋       | 8/30 [00:01<00:02,  8.19it/s]"
          ]
        },
        {
          "output_type": "stream",
          "name": "stdout",
          "text": [
            "valid_loss=0.046, test_los0.094, Model Save\n",
            "epoch = 7, train_loss : 0.101, valid_loss : 0.046, test_loss : 0.094\n",
            "valid_loss=0.045, test_los0.093, Model Save\n",
            "epoch = 8, train_loss : 0.097, valid_loss : 0.045, test_loss : 0.093\n"
          ]
        },
        {
          "output_type": "stream",
          "name": "stderr",
          "text": [
            " 33%|███▎      | 10/30 [00:01<00:02,  7.58it/s]"
          ]
        },
        {
          "output_type": "stream",
          "name": "stdout",
          "text": [
            "valid_loss=0.045, test_los0.092, Model Save\n",
            "epoch = 9, train_loss : 0.093, valid_loss : 0.045, test_loss : 0.092\n",
            "valid_loss=0.044, test_los0.091, Model Save\n",
            "epoch = 10, train_loss : 0.090, valid_loss : 0.044, test_loss : 0.091\n"
          ]
        },
        {
          "output_type": "stream",
          "name": "stderr",
          "text": [
            " 40%|████      | 12/30 [00:01<00:02,  7.93it/s]"
          ]
        },
        {
          "output_type": "stream",
          "name": "stdout",
          "text": [
            "valid_loss=0.043, test_los0.090, Model Save\n",
            "epoch = 11, train_loss : 0.088, valid_loss : 0.043, test_loss : 0.090\n",
            "valid_loss=0.043, test_los0.089, Model Save\n",
            "epoch = 12, train_loss : 0.085, valid_loss : 0.043, test_loss : 0.089\n"
          ]
        },
        {
          "output_type": "stream",
          "name": "stderr",
          "text": [
            " 47%|████▋     | 14/30 [00:01<00:02,  7.95it/s]"
          ]
        },
        {
          "output_type": "stream",
          "name": "stdout",
          "text": [
            "valid_loss=0.042, test_los0.089, Model Save\n",
            "epoch = 13, train_loss : 0.083, valid_loss : 0.042, test_loss : 0.089\n",
            "valid_loss=0.042, test_los0.088, Model Save\n",
            "epoch = 14, train_loss : 0.082, valid_loss : 0.042, test_loss : 0.088\n"
          ]
        },
        {
          "output_type": "stream",
          "name": "stderr",
          "text": [
            " 53%|█████▎    | 16/30 [00:02<00:01,  8.57it/s]"
          ]
        },
        {
          "output_type": "stream",
          "name": "stdout",
          "text": [
            "valid_loss=0.041, test_los0.087, Model Save\n",
            "epoch = 15, train_loss : 0.080, valid_loss : 0.041, test_loss : 0.087\n",
            "valid_loss=0.041, test_los0.087, Model Save\n",
            "epoch = 16, train_loss : 0.079, valid_loss : 0.041, test_loss : 0.087\n"
          ]
        },
        {
          "output_type": "stream",
          "name": "stderr",
          "text": [
            " 60%|██████    | 18/30 [00:02<00:01,  8.34it/s]"
          ]
        },
        {
          "output_type": "stream",
          "name": "stdout",
          "text": [
            "valid_loss=0.041, test_los0.087, Model Save\n",
            "epoch = 17, train_loss : 0.078, valid_loss : 0.041, test_loss : 0.087\n",
            "valid_loss=0.040, test_los0.086, Model Save\n",
            "epoch = 18, train_loss : 0.077, valid_loss : 0.040, test_loss : 0.086\n"
          ]
        },
        {
          "output_type": "stream",
          "name": "stderr",
          "text": [
            " 67%|██████▋   | 20/30 [00:02<00:01,  8.39it/s]"
          ]
        },
        {
          "output_type": "stream",
          "name": "stdout",
          "text": [
            "valid_loss=0.040, test_los0.086, Model Save\n",
            "epoch = 19, train_loss : 0.076, valid_loss : 0.040, test_loss : 0.086\n",
            "valid_loss=0.040, test_los0.086, Model Save\n",
            "epoch = 20, train_loss : 0.075, valid_loss : 0.040, test_loss : 0.086\n"
          ]
        },
        {
          "output_type": "stream",
          "name": "stderr",
          "text": [
            "\r 70%|███████   | 21/30 [00:02<00:01,  8.10it/s]"
          ]
        },
        {
          "output_type": "stream",
          "name": "stdout",
          "text": [
            "valid_loss=0.040, test_los0.085, Model Save\n",
            "epoch = 21, train_loss : 0.074, valid_loss : 0.040, test_loss : 0.085\n",
            "valid_loss=0.039, test_los0.085, Model Save\n",
            "epoch = 22, train_loss : 0.074, valid_loss : 0.039, test_loss : 0.085\n"
          ]
        },
        {
          "output_type": "stream",
          "name": "stderr",
          "text": [
            " 80%|████████  | 24/30 [00:02<00:00,  8.72it/s]"
          ]
        },
        {
          "output_type": "stream",
          "name": "stdout",
          "text": [
            "valid_loss=0.039, test_los0.085, Model Save\n",
            "epoch = 23, train_loss : 0.073, valid_loss : 0.039, test_loss : 0.085\n",
            "valid_loss=0.039, test_los0.085, Model Save\n",
            "epoch = 24, train_loss : 0.073, valid_loss : 0.039, test_loss : 0.085\n"
          ]
        },
        {
          "output_type": "stream",
          "name": "stderr",
          "text": [
            " 87%|████████▋ | 26/30 [00:03<00:00,  8.31it/s]"
          ]
        },
        {
          "output_type": "stream",
          "name": "stdout",
          "text": [
            "valid_loss=0.039, test_los0.085, Model Save\n",
            "epoch = 25, train_loss : 0.072, valid_loss : 0.039, test_loss : 0.085\n",
            "valid_loss=0.039, test_los0.084, Model Save\n",
            "epoch = 26, train_loss : 0.072, valid_loss : 0.039, test_loss : 0.084\n"
          ]
        },
        {
          "output_type": "stream",
          "name": "stderr",
          "text": [
            " 93%|█████████▎| 28/30 [00:03<00:00,  8.20it/s]"
          ]
        },
        {
          "output_type": "stream",
          "name": "stdout",
          "text": [
            "valid_loss=0.039, test_los0.084, Model Save\n",
            "epoch = 27, train_loss : 0.071, valid_loss : 0.039, test_loss : 0.084\n",
            "valid_loss=0.039, test_los0.084, Model Save\n",
            "epoch = 28, train_loss : 0.071, valid_loss : 0.039, test_loss : 0.084\n"
          ]
        },
        {
          "output_type": "stream",
          "name": "stderr",
          "text": [
            "100%|██████████| 30/30 [00:03<00:00,  8.01it/s]"
          ]
        },
        {
          "output_type": "stream",
          "name": "stdout",
          "text": [
            "valid_loss=0.038, test_los0.084, Model Save\n",
            "epoch = 29, train_loss : 0.071, valid_loss : 0.038, test_loss : 0.084\n",
            "valid_loss=0.038, test_los0.084, Model Save\n",
            "epoch = 30, train_loss : 0.070, valid_loss : 0.038, test_loss : 0.084\n"
          ]
        },
        {
          "output_type": "stream",
          "name": "stderr",
          "text": [
            "\n",
            "  7%|▋         | 2/30 [00:00<00:02, 13.56it/s]"
          ]
        },
        {
          "output_type": "stream",
          "name": "stdout",
          "text": [
            "valid_loss=0.390, test_los0.711, Model Save\n",
            "epoch = 1, train_loss : 0.035, valid_loss : 0.390, test_loss : 0.711\n",
            "epoch = 2, train_loss : 0.003, valid_loss : 0.543, test_loss : 1.021\n",
            "epoch = 3, train_loss : 0.000, valid_loss : 0.581, test_loss : 1.098\n"
          ]
        },
        {
          "output_type": "stream",
          "name": "stderr",
          "text": [
            " 20%|██        | 6/30 [00:00<00:01, 13.67it/s]"
          ]
        },
        {
          "output_type": "stream",
          "name": "stdout",
          "text": [
            "epoch = 4, train_loss : 0.000, valid_loss : 0.581, test_loss : 1.097\n",
            "epoch = 5, train_loss : 0.000, valid_loss : 0.580, test_loss : 1.095\n",
            "epoch = 6, train_loss : 0.000, valid_loss : 0.580, test_loss : 1.095\n"
          ]
        },
        {
          "output_type": "stream",
          "name": "stderr",
          "text": [
            "\r 27%|██▋       | 8/30 [00:00<00:01, 13.32it/s]"
          ]
        },
        {
          "output_type": "stream",
          "name": "stdout",
          "text": [
            "epoch = 7, train_loss : 0.000, valid_loss : 0.580, test_loss : 1.095\n",
            "epoch = 8, train_loss : 0.000, valid_loss : 0.580, test_loss : 1.095\n",
            "epoch = 9, train_loss : 0.000, valid_loss : 0.580, test_loss : 1.095\n"
          ]
        },
        {
          "output_type": "stream",
          "name": "stderr",
          "text": [
            " 40%|████      | 12/30 [00:00<00:01, 13.59it/s]"
          ]
        },
        {
          "output_type": "stream",
          "name": "stdout",
          "text": [
            "epoch = 10, train_loss : 0.000, valid_loss : 0.580, test_loss : 1.095\n",
            "epoch = 11, train_loss : 0.000, valid_loss : 0.580, test_loss : 1.095\n",
            "epoch = 12, train_loss : 0.000, valid_loss : 0.580, test_loss : 1.095\n"
          ]
        },
        {
          "output_type": "stream",
          "name": "stderr",
          "text": [
            "\r 47%|████▋     | 14/30 [00:01<00:01, 13.14it/s]"
          ]
        },
        {
          "output_type": "stream",
          "name": "stdout",
          "text": [
            "epoch = 13, train_loss : 0.000, valid_loss : 0.580, test_loss : 1.095\n",
            "epoch = 14, train_loss : 0.000, valid_loss : 0.580, test_loss : 1.095\n",
            "epoch = 15, train_loss : 0.000, valid_loss : 0.580, test_loss : 1.095\n"
          ]
        },
        {
          "output_type": "stream",
          "name": "stderr",
          "text": [
            " 60%|██████    | 18/30 [00:01<00:00, 12.69it/s]"
          ]
        },
        {
          "output_type": "stream",
          "name": "stdout",
          "text": [
            "epoch = 16, train_loss : 0.000, valid_loss : 0.580, test_loss : 1.095\n",
            "epoch = 17, train_loss : 0.000, valid_loss : 0.580, test_loss : 1.095\n",
            "epoch = 18, train_loss : 0.000, valid_loss : 0.580, test_loss : 1.095\n"
          ]
        },
        {
          "output_type": "stream",
          "name": "stderr",
          "text": [
            "\r 67%|██████▋   | 20/30 [00:01<00:00, 12.62it/s]"
          ]
        },
        {
          "output_type": "stream",
          "name": "stdout",
          "text": [
            "epoch = 19, train_loss : 0.000, valid_loss : 0.580, test_loss : 1.095\n",
            "epoch = 20, train_loss : 0.000, valid_loss : 0.580, test_loss : 1.095\n",
            "epoch = 21, train_loss : 0.000, valid_loss : 0.580, test_loss : 1.095\n"
          ]
        },
        {
          "output_type": "stream",
          "name": "stderr",
          "text": [
            " 80%|████████  | 24/30 [00:01<00:00, 12.92it/s]"
          ]
        },
        {
          "output_type": "stream",
          "name": "stdout",
          "text": [
            "epoch = 22, train_loss : 0.000, valid_loss : 0.580, test_loss : 1.095\n",
            "epoch = 23, train_loss : 0.000, valid_loss : 0.580, test_loss : 1.095\n",
            "epoch = 24, train_loss : 0.000, valid_loss : 0.580, test_loss : 1.095\n"
          ]
        },
        {
          "output_type": "stream",
          "name": "stderr",
          "text": [
            "\r 87%|████████▋ | 26/30 [00:02<00:00, 12.82it/s]"
          ]
        },
        {
          "output_type": "stream",
          "name": "stdout",
          "text": [
            "epoch = 25, train_loss : 0.000, valid_loss : 0.580, test_loss : 1.095\n",
            "epoch = 26, train_loss : 0.000, valid_loss : 0.580, test_loss : 1.095\n",
            "epoch = 27, train_loss : 0.000, valid_loss : 0.580, test_loss : 1.095\n"
          ]
        },
        {
          "output_type": "stream",
          "name": "stderr",
          "text": [
            "100%|██████████| 30/30 [00:02<00:00, 12.98it/s]"
          ]
        },
        {
          "output_type": "stream",
          "name": "stdout",
          "text": [
            "epoch = 28, train_loss : 0.000, valid_loss : 0.580, test_loss : 1.095\n",
            "epoch = 29, train_loss : 0.000, valid_loss : 0.580, test_loss : 1.095\n",
            "epoch = 30, train_loss : 0.000, valid_loss : 0.580, test_loss : 1.095\n"
          ]
        },
        {
          "output_type": "stream",
          "name": "stderr",
          "text": [
            "\n",
            "  7%|▋         | 2/30 [00:00<00:02, 13.64it/s]"
          ]
        },
        {
          "output_type": "stream",
          "name": "stdout",
          "text": [
            "valid_loss=0.092, test_los0.114, Model Save\n",
            "epoch = 1, train_loss : 0.103, valid_loss : 0.092, test_loss : 0.114\n",
            "epoch = 2, train_loss : 0.073, valid_loss : 0.093, test_loss : 0.108\n",
            "valid_loss=0.079, test_los0.094, Model Save\n",
            "epoch = 3, train_loss : 0.063, valid_loss : 0.079, test_loss : 0.094\n"
          ]
        },
        {
          "output_type": "stream",
          "name": "stderr",
          "text": [
            " 20%|██        | 6/30 [00:00<00:01, 13.18it/s]"
          ]
        },
        {
          "output_type": "stream",
          "name": "stdout",
          "text": [
            "valid_loss=0.064, test_los0.079, Model Save\n",
            "epoch = 4, train_loss : 0.056, valid_loss : 0.064, test_loss : 0.079\n",
            "valid_loss=0.051, test_los0.066, Model Save\n",
            "epoch = 5, train_loss : 0.050, valid_loss : 0.051, test_loss : 0.066\n",
            "valid_loss=0.040, test_los0.056, Model Save\n",
            "epoch = 6, train_loss : 0.046, valid_loss : 0.040, test_loss : 0.056\n"
          ]
        },
        {
          "output_type": "stream",
          "name": "stderr",
          "text": [
            "\r 27%|██▋       | 8/30 [00:00<00:01, 13.39it/s]"
          ]
        },
        {
          "output_type": "stream",
          "name": "stdout",
          "text": [
            "valid_loss=0.033, test_los0.048, Model Save\n",
            "epoch = 7, train_loss : 0.042, valid_loss : 0.033, test_loss : 0.048\n",
            "valid_loss=0.027, test_los0.042, Model Save\n",
            "epoch = 8, train_loss : 0.039, valid_loss : 0.027, test_loss : 0.042\n",
            "valid_loss=0.023, test_los0.038, Model Save\n",
            "epoch = 9, train_loss : 0.037, valid_loss : 0.023, test_loss : 0.038\n"
          ]
        },
        {
          "output_type": "stream",
          "name": "stderr",
          "text": [
            " 40%|████      | 12/30 [00:00<00:01, 13.67it/s]"
          ]
        },
        {
          "output_type": "stream",
          "name": "stdout",
          "text": [
            "valid_loss=0.021, test_los0.035, Model Save\n",
            "epoch = 10, train_loss : 0.035, valid_loss : 0.021, test_loss : 0.035\n",
            "valid_loss=0.019, test_los0.032, Model Save\n",
            "epoch = 11, train_loss : 0.034, valid_loss : 0.019, test_loss : 0.032\n",
            "valid_loss=0.018, test_los0.031, Model Save\n",
            "epoch = 12, train_loss : 0.033, valid_loss : 0.018, test_loss : 0.031\n"
          ]
        },
        {
          "output_type": "stream",
          "name": "stderr",
          "text": [
            "\r 47%|████▋     | 14/30 [00:01<00:01, 13.13it/s]"
          ]
        },
        {
          "output_type": "stream",
          "name": "stdout",
          "text": [
            "valid_loss=0.017, test_los0.029, Model Save\n",
            "epoch = 13, train_loss : 0.032, valid_loss : 0.017, test_loss : 0.029\n",
            "valid_loss=0.017, test_los0.029, Model Save\n",
            "epoch = 14, train_loss : 0.032, valid_loss : 0.017, test_loss : 0.029\n",
            "valid_loss=0.017, test_los0.028, Model Save\n",
            "epoch = 15, train_loss : 0.031, valid_loss : 0.017, test_loss : 0.028\n"
          ]
        },
        {
          "output_type": "stream",
          "name": "stderr",
          "text": [
            " 60%|██████    | 18/30 [00:01<00:00, 13.62it/s]"
          ]
        },
        {
          "output_type": "stream",
          "name": "stdout",
          "text": [
            "valid_loss=0.017, test_los0.028, Model Save\n",
            "epoch = 16, train_loss : 0.031, valid_loss : 0.017, test_loss : 0.028\n",
            "epoch = 17, train_loss : 0.031, valid_loss : 0.017, test_loss : 0.027\n",
            "epoch = 18, train_loss : 0.030, valid_loss : 0.017, test_loss : 0.027\n"
          ]
        },
        {
          "output_type": "stream",
          "name": "stderr",
          "text": [
            "\r 67%|██████▋   | 20/30 [00:01<00:00, 13.46it/s]"
          ]
        },
        {
          "output_type": "stream",
          "name": "stdout",
          "text": [
            "epoch = 19, train_loss : 0.030, valid_loss : 0.017, test_loss : 0.027\n",
            "epoch = 20, train_loss : 0.030, valid_loss : 0.017, test_loss : 0.027\n",
            "epoch = 21, train_loss : 0.030, valid_loss : 0.017, test_loss : 0.027\n"
          ]
        },
        {
          "output_type": "stream",
          "name": "stderr",
          "text": [
            " 80%|████████  | 24/30 [00:01<00:00, 13.63it/s]"
          ]
        },
        {
          "output_type": "stream",
          "name": "stdout",
          "text": [
            "epoch = 22, train_loss : 0.030, valid_loss : 0.017, test_loss : 0.027\n",
            "epoch = 23, train_loss : 0.030, valid_loss : 0.017, test_loss : 0.027\n",
            "epoch = 24, train_loss : 0.029, valid_loss : 0.017, test_loss : 0.027\n"
          ]
        },
        {
          "output_type": "stream",
          "name": "stderr",
          "text": [
            "\r 87%|████████▋ | 26/30 [00:01<00:00, 13.42it/s]"
          ]
        },
        {
          "output_type": "stream",
          "name": "stdout",
          "text": [
            "epoch = 25, train_loss : 0.029, valid_loss : 0.017, test_loss : 0.027\n",
            "epoch = 26, train_loss : 0.029, valid_loss : 0.017, test_loss : 0.027\n",
            "epoch = 27, train_loss : 0.029, valid_loss : 0.017, test_loss : 0.026\n"
          ]
        },
        {
          "output_type": "stream",
          "name": "stderr",
          "text": [
            "100%|██████████| 30/30 [00:02<00:00, 13.25it/s]"
          ]
        },
        {
          "output_type": "stream",
          "name": "stdout",
          "text": [
            "epoch = 28, train_loss : 0.029, valid_loss : 0.017, test_loss : 0.026\n",
            "epoch = 29, train_loss : 0.029, valid_loss : 0.017, test_loss : 0.026\n",
            "epoch = 30, train_loss : 0.029, valid_loss : 0.017, test_loss : 0.026\n"
          ]
        },
        {
          "output_type": "stream",
          "name": "stderr",
          "text": [
            "\n",
            "  7%|▋         | 2/30 [00:00<00:01, 14.33it/s]"
          ]
        },
        {
          "output_type": "stream",
          "name": "stdout",
          "text": [
            "valid_loss=0.046, test_los0.049, Model Save\n",
            "epoch = 1, train_loss : 0.076, valid_loss : 0.046, test_loss : 0.049\n",
            "valid_loss=0.029, test_los0.040, Model Save\n",
            "epoch = 2, train_loss : 0.049, valid_loss : 0.029, test_loss : 0.040\n",
            "valid_loss=0.022, test_los0.032, Model Save\n",
            "epoch = 3, train_loss : 0.043, valid_loss : 0.022, test_loss : 0.032\n"
          ]
        },
        {
          "output_type": "stream",
          "name": "stderr",
          "text": [
            " 20%|██        | 6/30 [00:00<00:01, 12.82it/s]"
          ]
        },
        {
          "output_type": "stream",
          "name": "stdout",
          "text": [
            "valid_loss=0.018, test_los0.027, Model Save\n",
            "epoch = 4, train_loss : 0.038, valid_loss : 0.018, test_loss : 0.027\n",
            "valid_loss=0.016, test_los0.023, Model Save\n",
            "epoch = 5, train_loss : 0.035, valid_loss : 0.016, test_loss : 0.023\n",
            "valid_loss=0.015, test_los0.021, Model Save\n",
            "epoch = 6, train_loss : 0.032, valid_loss : 0.015, test_loss : 0.021\n"
          ]
        },
        {
          "output_type": "stream",
          "name": "stderr",
          "text": [
            "\r 27%|██▋       | 8/30 [00:00<00:01, 12.85it/s]"
          ]
        },
        {
          "output_type": "stream",
          "name": "stdout",
          "text": [
            "valid_loss=0.014, test_los0.019, Model Save\n",
            "epoch = 7, train_loss : 0.030, valid_loss : 0.014, test_loss : 0.019\n",
            "valid_loss=0.014, test_los0.018, Model Save\n",
            "epoch = 8, train_loss : 0.029, valid_loss : 0.014, test_loss : 0.018\n",
            "valid_loss=0.013, test_los0.017, Model Save\n",
            "epoch = 9, train_loss : 0.028, valid_loss : 0.013, test_loss : 0.017\n"
          ]
        },
        {
          "output_type": "stream",
          "name": "stderr",
          "text": [
            " 40%|████      | 12/30 [00:00<00:01, 12.90it/s]"
          ]
        },
        {
          "output_type": "stream",
          "name": "stdout",
          "text": [
            "valid_loss=0.013, test_los0.017, Model Save\n",
            "epoch = 10, train_loss : 0.027, valid_loss : 0.013, test_loss : 0.017\n",
            "valid_loss=0.013, test_los0.016, Model Save\n",
            "epoch = 11, train_loss : 0.027, valid_loss : 0.013, test_loss : 0.016\n",
            "valid_loss=0.013, test_los0.016, Model Save\n",
            "epoch = 12, train_loss : 0.026, valid_loss : 0.013, test_loss : 0.016\n"
          ]
        },
        {
          "output_type": "stream",
          "name": "stderr",
          "text": [
            "\r 47%|████▋     | 14/30 [00:01<00:01, 13.00it/s]"
          ]
        },
        {
          "output_type": "stream",
          "name": "stdout",
          "text": [
            "valid_loss=0.012, test_los0.015, Model Save\n",
            "epoch = 13, train_loss : 0.025, valid_loss : 0.012, test_loss : 0.015\n",
            "valid_loss=0.012, test_los0.015, Model Save\n",
            "epoch = 14, train_loss : 0.025, valid_loss : 0.012, test_loss : 0.015\n",
            "valid_loss=0.012, test_los0.015, Model Save\n",
            "epoch = 15, train_loss : 0.025, valid_loss : 0.012, test_loss : 0.015\n"
          ]
        },
        {
          "output_type": "stream",
          "name": "stderr",
          "text": [
            " 60%|██████    | 18/30 [00:01<00:00, 12.83it/s]"
          ]
        },
        {
          "output_type": "stream",
          "name": "stdout",
          "text": [
            "valid_loss=0.012, test_los0.015, Model Save\n",
            "epoch = 16, train_loss : 0.024, valid_loss : 0.012, test_loss : 0.015\n",
            "valid_loss=0.012, test_los0.014, Model Save\n",
            "epoch = 17, train_loss : 0.024, valid_loss : 0.012, test_loss : 0.014\n",
            "valid_loss=0.012, test_los0.014, Model Save\n",
            "epoch = 18, train_loss : 0.023, valid_loss : 0.012, test_loss : 0.014\n"
          ]
        },
        {
          "output_type": "stream",
          "name": "stderr",
          "text": [
            "\r 67%|██████▋   | 20/30 [00:01<00:00, 12.78it/s]"
          ]
        },
        {
          "output_type": "stream",
          "name": "stdout",
          "text": [
            "valid_loss=0.012, test_los0.014, Model Save\n",
            "epoch = 19, train_loss : 0.023, valid_loss : 0.012, test_loss : 0.014\n",
            "valid_loss=0.012, test_los0.014, Model Save\n",
            "epoch = 20, train_loss : 0.023, valid_loss : 0.012, test_loss : 0.014\n",
            "valid_loss=0.012, test_los0.014, Model Save\n",
            "epoch = 21, train_loss : 0.023, valid_loss : 0.012, test_loss : 0.014\n"
          ]
        },
        {
          "output_type": "stream",
          "name": "stderr",
          "text": [
            " 80%|████████  | 24/30 [00:01<00:00, 12.42it/s]"
          ]
        },
        {
          "output_type": "stream",
          "name": "stdout",
          "text": [
            "valid_loss=0.012, test_los0.014, Model Save\n",
            "epoch = 22, train_loss : 0.023, valid_loss : 0.012, test_loss : 0.014\n",
            "valid_loss=0.011, test_los0.013, Model Save\n",
            "epoch = 23, train_loss : 0.022, valid_loss : 0.011, test_loss : 0.013\n",
            "valid_loss=0.011, test_los0.013, Model Save\n",
            "epoch = 24, train_loss : 0.022, valid_loss : 0.011, test_loss : 0.013\n"
          ]
        },
        {
          "output_type": "stream",
          "name": "stderr",
          "text": [
            "\r 87%|████████▋ | 26/30 [00:02<00:00, 12.41it/s]"
          ]
        },
        {
          "output_type": "stream",
          "name": "stdout",
          "text": [
            "valid_loss=0.011, test_los0.013, Model Save\n",
            "epoch = 25, train_loss : 0.022, valid_loss : 0.011, test_loss : 0.013\n",
            "valid_loss=0.011, test_los0.013, Model Save\n",
            "epoch = 26, train_loss : 0.022, valid_loss : 0.011, test_loss : 0.013\n",
            "valid_loss=0.011, test_los0.013, Model Save\n",
            "epoch = 27, train_loss : 0.022, valid_loss : 0.011, test_loss : 0.013\n"
          ]
        },
        {
          "output_type": "stream",
          "name": "stderr",
          "text": [
            "100%|██████████| 30/30 [00:02<00:00, 12.69it/s]"
          ]
        },
        {
          "output_type": "stream",
          "name": "stdout",
          "text": [
            "valid_loss=0.011, test_los0.013, Model Save\n",
            "epoch = 28, train_loss : 0.022, valid_loss : 0.011, test_loss : 0.013\n",
            "valid_loss=0.011, test_los0.013, Model Save\n",
            "epoch = 29, train_loss : 0.021, valid_loss : 0.011, test_loss : 0.013\n",
            "valid_loss=0.011, test_los0.013, Model Save\n",
            "epoch = 30, train_loss : 0.021, valid_loss : 0.011, test_loss : 0.013\n"
          ]
        },
        {
          "output_type": "stream",
          "name": "stderr",
          "text": [
            "\n",
            "  7%|▋         | 2/30 [00:00<00:02, 13.91it/s]"
          ]
        },
        {
          "output_type": "stream",
          "name": "stdout",
          "text": [
            "valid_loss=0.093, test_los0.077, Model Save\n",
            "epoch = 1, train_loss : 0.108, valid_loss : 0.093, test_loss : 0.077\n",
            "valid_loss=0.061, test_los0.055, Model Save\n",
            "epoch = 2, train_loss : 0.079, valid_loss : 0.061, test_loss : 0.055\n",
            "valid_loss=0.045, test_los0.043, Model Save\n",
            "epoch = 3, train_loss : 0.068, valid_loss : 0.045, test_loss : 0.043\n"
          ]
        },
        {
          "output_type": "stream",
          "name": "stderr",
          "text": [
            " 20%|██        | 6/30 [00:00<00:01, 13.38it/s]"
          ]
        },
        {
          "output_type": "stream",
          "name": "stdout",
          "text": [
            "valid_loss=0.036, test_los0.036, Model Save\n",
            "epoch = 4, train_loss : 0.060, valid_loss : 0.036, test_loss : 0.036\n",
            "valid_loss=0.030, test_los0.031, Model Save\n",
            "epoch = 5, train_loss : 0.054, valid_loss : 0.030, test_loss : 0.031\n",
            "valid_loss=0.026, test_los0.029, Model Save\n",
            "epoch = 6, train_loss : 0.051, valid_loss : 0.026, test_loss : 0.029\n"
          ]
        },
        {
          "output_type": "stream",
          "name": "stderr",
          "text": [
            "\r 27%|██▋       | 8/30 [00:00<00:01, 13.10it/s]"
          ]
        },
        {
          "output_type": "stream",
          "name": "stdout",
          "text": [
            "valid_loss=0.023, test_los0.027, Model Save\n",
            "epoch = 7, train_loss : 0.048, valid_loss : 0.023, test_loss : 0.027\n",
            "valid_loss=0.022, test_los0.026, Model Save\n",
            "epoch = 8, train_loss : 0.046, valid_loss : 0.022, test_loss : 0.026\n",
            "valid_loss=0.021, test_los0.025, Model Save\n",
            "epoch = 9, train_loss : 0.045, valid_loss : 0.021, test_loss : 0.025\n"
          ]
        },
        {
          "output_type": "stream",
          "name": "stderr",
          "text": [
            " 40%|████      | 12/30 [00:00<00:01, 12.85it/s]"
          ]
        },
        {
          "output_type": "stream",
          "name": "stdout",
          "text": [
            "valid_loss=0.020, test_los0.025, Model Save\n",
            "epoch = 10, train_loss : 0.044, valid_loss : 0.020, test_loss : 0.025\n",
            "valid_loss=0.020, test_los0.025, Model Save\n",
            "epoch = 11, train_loss : 0.043, valid_loss : 0.020, test_loss : 0.025\n",
            "valid_loss=0.019, test_los0.025, Model Save\n",
            "epoch = 12, train_loss : 0.042, valid_loss : 0.019, test_loss : 0.025\n"
          ]
        },
        {
          "output_type": "stream",
          "name": "stderr",
          "text": [
            "\r 47%|████▋     | 14/30 [00:01<00:01, 12.27it/s]"
          ]
        },
        {
          "output_type": "stream",
          "name": "stdout",
          "text": [
            "valid_loss=0.019, test_los0.025, Model Save\n",
            "epoch = 13, train_loss : 0.042, valid_loss : 0.019, test_loss : 0.025\n",
            "valid_loss=0.019, test_los0.024, Model Save\n",
            "epoch = 14, train_loss : 0.041, valid_loss : 0.019, test_loss : 0.024\n",
            "valid_loss=0.019, test_los0.024, Model Save\n",
            "epoch = 15, train_loss : 0.041, valid_loss : 0.019, test_loss : 0.024\n"
          ]
        },
        {
          "output_type": "stream",
          "name": "stderr",
          "text": [
            " 60%|██████    | 18/30 [00:01<00:00, 13.19it/s]"
          ]
        },
        {
          "output_type": "stream",
          "name": "stdout",
          "text": [
            "valid_loss=0.019, test_los0.024, Model Save\n",
            "epoch = 16, train_loss : 0.041, valid_loss : 0.019, test_loss : 0.024\n",
            "valid_loss=0.018, test_los0.024, Model Save\n",
            "epoch = 17, train_loss : 0.040, valid_loss : 0.018, test_loss : 0.024\n",
            "valid_loss=0.018, test_los0.024, Model Save\n",
            "epoch = 18, train_loss : 0.040, valid_loss : 0.018, test_loss : 0.024\n"
          ]
        },
        {
          "output_type": "stream",
          "name": "stderr",
          "text": [
            "\r 67%|██████▋   | 20/30 [00:01<00:00, 12.46it/s]"
          ]
        },
        {
          "output_type": "stream",
          "name": "stdout",
          "text": [
            "valid_loss=0.018, test_los0.024, Model Save\n",
            "epoch = 19, train_loss : 0.040, valid_loss : 0.018, test_loss : 0.024\n",
            "valid_loss=0.018, test_los0.024, Model Save\n",
            "epoch = 20, train_loss : 0.039, valid_loss : 0.018, test_loss : 0.024\n"
          ]
        },
        {
          "output_type": "stream",
          "name": "stderr",
          "text": [
            "\r 73%|███████▎  | 22/30 [00:01<00:00, 11.02it/s]"
          ]
        },
        {
          "output_type": "stream",
          "name": "stdout",
          "text": [
            "valid_loss=0.018, test_los0.024, Model Save\n",
            "epoch = 21, train_loss : 0.039, valid_loss : 0.018, test_loss : 0.024\n",
            "valid_loss=0.018, test_los0.024, Model Save\n",
            "epoch = 22, train_loss : 0.039, valid_loss : 0.018, test_loss : 0.024\n"
          ]
        },
        {
          "output_type": "stream",
          "name": "stderr",
          "text": [
            "\r 80%|████████  | 24/30 [00:02<00:00,  9.87it/s]"
          ]
        },
        {
          "output_type": "stream",
          "name": "stdout",
          "text": [
            "valid_loss=0.018, test_los0.024, Model Save\n",
            "epoch = 23, train_loss : 0.039, valid_loss : 0.018, test_loss : 0.024\n",
            "valid_loss=0.018, test_los0.024, Model Save\n",
            "epoch = 24, train_loss : 0.039, valid_loss : 0.018, test_loss : 0.024\n"
          ]
        },
        {
          "output_type": "stream",
          "name": "stderr",
          "text": [
            "\r 87%|████████▋ | 26/30 [00:02<00:00,  9.63it/s]"
          ]
        },
        {
          "output_type": "stream",
          "name": "stdout",
          "text": [
            "valid_loss=0.018, test_los0.024, Model Save\n",
            "epoch = 25, train_loss : 0.038, valid_loss : 0.018, test_loss : 0.024\n",
            "valid_loss=0.017, test_los0.024, Model Save\n",
            "epoch = 26, train_loss : 0.038, valid_loss : 0.017, test_loss : 0.024\n"
          ]
        },
        {
          "output_type": "stream",
          "name": "stderr",
          "text": [
            " 93%|█████████▎| 28/30 [00:02<00:00,  9.28it/s]"
          ]
        },
        {
          "output_type": "stream",
          "name": "stdout",
          "text": [
            "valid_loss=0.017, test_los0.024, Model Save\n",
            "epoch = 27, train_loss : 0.038, valid_loss : 0.017, test_loss : 0.024\n",
            "valid_loss=0.017, test_los0.024, Model Save\n",
            "epoch = 28, train_loss : 0.038, valid_loss : 0.017, test_loss : 0.024\n"
          ]
        },
        {
          "output_type": "stream",
          "name": "stderr",
          "text": [
            "100%|██████████| 30/30 [00:02<00:00, 11.03it/s]"
          ]
        },
        {
          "output_type": "stream",
          "name": "stdout",
          "text": [
            "valid_loss=0.017, test_los0.024, Model Save\n",
            "epoch = 29, train_loss : 0.038, valid_loss : 0.017, test_loss : 0.024\n",
            "valid_loss=0.017, test_los0.024, Model Save\n",
            "epoch = 30, train_loss : 0.038, valid_loss : 0.017, test_loss : 0.024\n"
          ]
        },
        {
          "output_type": "stream",
          "name": "stderr",
          "text": [
            "\n",
            "  7%|▋         | 2/30 [00:00<00:03,  8.60it/s]"
          ]
        },
        {
          "output_type": "stream",
          "name": "stdout",
          "text": [
            "valid_loss=0.174, test_los0.165, Model Save\n",
            "epoch = 1, train_loss : 0.183, valid_loss : 0.174, test_loss : 0.165\n",
            "valid_loss=0.144, test_los0.140, Model Save\n",
            "epoch = 2, train_loss : 0.149, valid_loss : 0.144, test_loss : 0.140\n"
          ]
        },
        {
          "output_type": "stream",
          "name": "stderr",
          "text": [
            " 13%|█▎        | 4/30 [00:00<00:03,  7.69it/s]"
          ]
        },
        {
          "output_type": "stream",
          "name": "stdout",
          "text": [
            "valid_loss=0.119, test_los0.123, Model Save\n",
            "epoch = 3, train_loss : 0.126, valid_loss : 0.119, test_loss : 0.123\n",
            "valid_loss=0.100, test_los0.110, Model Save\n",
            "epoch = 4, train_loss : 0.110, valid_loss : 0.100, test_loss : 0.110\n"
          ]
        },
        {
          "output_type": "stream",
          "name": "stderr",
          "text": [
            " 20%|██        | 6/30 [00:00<00:02,  8.29it/s]"
          ]
        },
        {
          "output_type": "stream",
          "name": "stdout",
          "text": [
            "valid_loss=0.085, test_los0.099, Model Save\n",
            "epoch = 5, train_loss : 0.097, valid_loss : 0.085, test_loss : 0.099\n",
            "valid_loss=0.075, test_los0.091, Model Save\n",
            "epoch = 6, train_loss : 0.088, valid_loss : 0.075, test_loss : 0.091\n"
          ]
        },
        {
          "output_type": "stream",
          "name": "stderr",
          "text": [
            " 27%|██▋       | 8/30 [00:00<00:02,  8.10it/s]"
          ]
        },
        {
          "output_type": "stream",
          "name": "stdout",
          "text": [
            "valid_loss=0.067, test_los0.084, Model Save\n",
            "epoch = 7, train_loss : 0.081, valid_loss : 0.067, test_loss : 0.084\n",
            "valid_loss=0.061, test_los0.079, Model Save\n",
            "epoch = 8, train_loss : 0.076, valid_loss : 0.061, test_loss : 0.079\n"
          ]
        },
        {
          "output_type": "stream",
          "name": "stderr",
          "text": [
            " 33%|███▎      | 10/30 [00:01<00:02,  7.47it/s]"
          ]
        },
        {
          "output_type": "stream",
          "name": "stdout",
          "text": [
            "valid_loss=0.057, test_los0.075, Model Save\n",
            "epoch = 9, train_loss : 0.072, valid_loss : 0.057, test_loss : 0.075\n",
            "valid_loss=0.054, test_los0.072, Model Save\n",
            "epoch = 10, train_loss : 0.069, valid_loss : 0.054, test_loss : 0.072\n"
          ]
        },
        {
          "output_type": "stream",
          "name": "stderr",
          "text": [
            " 40%|████      | 12/30 [00:01<00:02,  7.19it/s]"
          ]
        },
        {
          "output_type": "stream",
          "name": "stdout",
          "text": [
            "valid_loss=0.052, test_los0.069, Model Save\n",
            "epoch = 11, train_loss : 0.066, valid_loss : 0.052, test_loss : 0.069\n",
            "valid_loss=0.050, test_los0.067, Model Save\n",
            "epoch = 12, train_loss : 0.065, valid_loss : 0.050, test_loss : 0.067\n"
          ]
        },
        {
          "output_type": "stream",
          "name": "stderr",
          "text": [
            " 47%|████▋     | 14/30 [00:01<00:02,  7.31it/s]"
          ]
        },
        {
          "output_type": "stream",
          "name": "stdout",
          "text": [
            "valid_loss=0.048, test_los0.066, Model Save\n",
            "epoch = 13, train_loss : 0.063, valid_loss : 0.048, test_loss : 0.066\n",
            "valid_loss=0.047, test_los0.064, Model Save\n",
            "epoch = 14, train_loss : 0.062, valid_loss : 0.047, test_loss : 0.064\n"
          ]
        },
        {
          "output_type": "stream",
          "name": "stderr",
          "text": [
            "\r 53%|█████▎    | 16/30 [00:01<00:01,  9.08it/s]"
          ]
        },
        {
          "output_type": "stream",
          "name": "stdout",
          "text": [
            "valid_loss=0.046, test_los0.063, Model Save\n",
            "epoch = 15, train_loss : 0.061, valid_loss : 0.046, test_loss : 0.063\n",
            "valid_loss=0.046, test_los0.063, Model Save\n",
            "epoch = 16, train_loss : 0.060, valid_loss : 0.046, test_loss : 0.063\n",
            "valid_loss=0.045, test_los0.062, Model Save\n",
            "epoch = 17, train_loss : 0.060, valid_loss : 0.045, test_loss : 0.062\n"
          ]
        },
        {
          "output_type": "stream",
          "name": "stderr",
          "text": [
            " 67%|██████▋   | 20/30 [00:02<00:00, 11.29it/s]"
          ]
        },
        {
          "output_type": "stream",
          "name": "stdout",
          "text": [
            "valid_loss=0.044, test_los0.061, Model Save\n",
            "epoch = 18, train_loss : 0.059, valid_loss : 0.044, test_loss : 0.061\n",
            "valid_loss=0.044, test_los0.061, Model Save\n",
            "epoch = 19, train_loss : 0.058, valid_loss : 0.044, test_loss : 0.061\n",
            "valid_loss=0.044, test_los0.060, Model Save\n",
            "epoch = 20, train_loss : 0.058, valid_loss : 0.044, test_loss : 0.060\n"
          ]
        },
        {
          "output_type": "stream",
          "name": "stderr",
          "text": [
            "\r 73%|███████▎  | 22/30 [00:02<00:00, 11.76it/s]"
          ]
        },
        {
          "output_type": "stream",
          "name": "stdout",
          "text": [
            "valid_loss=0.043, test_los0.060, Model Save\n",
            "epoch = 21, train_loss : 0.058, valid_loss : 0.043, test_loss : 0.060\n",
            "valid_loss=0.043, test_los0.059, Model Save\n",
            "epoch = 22, train_loss : 0.057, valid_loss : 0.043, test_loss : 0.059\n",
            "valid_loss=0.043, test_los0.059, Model Save\n",
            "epoch = 23, train_loss : 0.057, valid_loss : 0.043, test_loss : 0.059\n"
          ]
        },
        {
          "output_type": "stream",
          "name": "stderr",
          "text": [
            " 87%|████████▋ | 26/30 [00:02<00:00, 12.02it/s]"
          ]
        },
        {
          "output_type": "stream",
          "name": "stdout",
          "text": [
            "valid_loss=0.042, test_los0.059, Model Save\n",
            "epoch = 24, train_loss : 0.056, valid_loss : 0.042, test_loss : 0.059\n",
            "valid_loss=0.042, test_los0.059, Model Save\n",
            "epoch = 25, train_loss : 0.056, valid_loss : 0.042, test_loss : 0.059\n",
            "valid_loss=0.042, test_los0.058, Model Save\n",
            "epoch = 26, train_loss : 0.056, valid_loss : 0.042, test_loss : 0.058\n"
          ]
        },
        {
          "output_type": "stream",
          "name": "stderr",
          "text": [
            "\r 93%|█████████▎| 28/30 [00:02<00:00, 12.42it/s]"
          ]
        },
        {
          "output_type": "stream",
          "name": "stdout",
          "text": [
            "valid_loss=0.042, test_los0.058, Model Save\n",
            "epoch = 27, train_loss : 0.056, valid_loss : 0.042, test_loss : 0.058\n",
            "valid_loss=0.041, test_los0.058, Model Save\n",
            "epoch = 28, train_loss : 0.055, valid_loss : 0.041, test_loss : 0.058\n",
            "valid_loss=0.041, test_los0.058, Model Save\n",
            "epoch = 29, train_loss : 0.055, valid_loss : 0.041, test_loss : 0.058\n"
          ]
        },
        {
          "output_type": "stream",
          "name": "stderr",
          "text": [
            "100%|██████████| 30/30 [00:03<00:00,  9.76it/s]\n"
          ]
        },
        {
          "output_type": "stream",
          "name": "stdout",
          "text": [
            "valid_loss=0.041, test_los0.058, Model Save\n",
            "epoch = 30, train_loss : 0.055, valid_loss : 0.041, test_loss : 0.058\n"
          ]
        },
        {
          "output_type": "stream",
          "name": "stderr",
          "text": [
            "  7%|▋         | 2/30 [00:00<00:02, 12.77it/s]"
          ]
        },
        {
          "output_type": "stream",
          "name": "stdout",
          "text": [
            "valid_loss=0.092, test_los0.064, Model Save\n",
            "epoch = 1, train_loss : 0.106, valid_loss : 0.092, test_loss : 0.064\n",
            "valid_loss=0.091, test_los0.057, Model Save\n",
            "epoch = 2, train_loss : 0.063, valid_loss : 0.091, test_loss : 0.057\n",
            "valid_loss=0.075, test_los0.044, Model Save\n",
            "epoch = 3, train_loss : 0.051, valid_loss : 0.075, test_loss : 0.044\n"
          ]
        },
        {
          "output_type": "stream",
          "name": "stderr",
          "text": [
            " 20%|██        | 6/30 [00:00<00:01, 12.81it/s]"
          ]
        },
        {
          "output_type": "stream",
          "name": "stdout",
          "text": [
            "valid_loss=0.060, test_los0.032, Model Save\n",
            "epoch = 4, train_loss : 0.043, valid_loss : 0.060, test_loss : 0.032\n",
            "valid_loss=0.048, test_los0.024, Model Save\n",
            "epoch = 5, train_loss : 0.036, valid_loss : 0.048, test_loss : 0.024\n",
            "valid_loss=0.040, test_los0.018, Model Save\n",
            "epoch = 6, train_loss : 0.032, valid_loss : 0.040, test_loss : 0.018\n"
          ]
        },
        {
          "output_type": "stream",
          "name": "stderr",
          "text": [
            "\r 27%|██▋       | 8/30 [00:00<00:01, 12.79it/s]"
          ]
        },
        {
          "output_type": "stream",
          "name": "stdout",
          "text": [
            "valid_loss=0.034, test_los0.014, Model Save\n",
            "epoch = 7, train_loss : 0.028, valid_loss : 0.034, test_loss : 0.014\n",
            "valid_loss=0.030, test_los0.011, Model Save\n",
            "epoch = 8, train_loss : 0.026, valid_loss : 0.030, test_loss : 0.011\n",
            "valid_loss=0.027, test_los0.009, Model Save\n",
            "epoch = 9, train_loss : 0.024, valid_loss : 0.027, test_loss : 0.009\n"
          ]
        },
        {
          "output_type": "stream",
          "name": "stderr",
          "text": [
            " 40%|████      | 12/30 [00:00<00:01, 12.96it/s]"
          ]
        },
        {
          "output_type": "stream",
          "name": "stdout",
          "text": [
            "valid_loss=0.024, test_los0.008, Model Save\n",
            "epoch = 10, train_loss : 0.022, valid_loss : 0.024, test_loss : 0.008\n",
            "valid_loss=0.023, test_los0.007, Model Save\n",
            "epoch = 11, train_loss : 0.021, valid_loss : 0.023, test_loss : 0.007\n",
            "valid_loss=0.022, test_los0.006, Model Save\n",
            "epoch = 12, train_loss : 0.020, valid_loss : 0.022, test_loss : 0.006\n"
          ]
        },
        {
          "output_type": "stream",
          "name": "stderr",
          "text": [
            "\r 47%|████▋     | 14/30 [00:01<00:01, 12.85it/s]"
          ]
        },
        {
          "output_type": "stream",
          "name": "stdout",
          "text": [
            "valid_loss=0.021, test_los0.006, Model Save\n",
            "epoch = 13, train_loss : 0.020, valid_loss : 0.021, test_loss : 0.006\n",
            "valid_loss=0.020, test_los0.006, Model Save\n",
            "epoch = 14, train_loss : 0.019, valid_loss : 0.020, test_loss : 0.006\n",
            "valid_loss=0.019, test_los0.006, Model Save\n",
            "epoch = 15, train_loss : 0.019, valid_loss : 0.019, test_loss : 0.006\n"
          ]
        },
        {
          "output_type": "stream",
          "name": "stderr",
          "text": [
            " 60%|██████    | 18/30 [00:01<00:00, 12.98it/s]"
          ]
        },
        {
          "output_type": "stream",
          "name": "stdout",
          "text": [
            "valid_loss=0.019, test_los0.005, Model Save\n",
            "epoch = 16, train_loss : 0.018, valid_loss : 0.019, test_loss : 0.005\n",
            "valid_loss=0.019, test_los0.005, Model Save\n",
            "epoch = 17, train_loss : 0.018, valid_loss : 0.019, test_loss : 0.005\n",
            "valid_loss=0.018, test_los0.005, Model Save\n",
            "epoch = 18, train_loss : 0.018, valid_loss : 0.018, test_loss : 0.005\n"
          ]
        },
        {
          "output_type": "stream",
          "name": "stderr",
          "text": [
            "\r 67%|██████▋   | 20/30 [00:01<00:00, 12.93it/s]"
          ]
        },
        {
          "output_type": "stream",
          "name": "stdout",
          "text": [
            "valid_loss=0.018, test_los0.005, Model Save\n",
            "epoch = 19, train_loss : 0.017, valid_loss : 0.018, test_loss : 0.005\n",
            "valid_loss=0.018, test_los0.005, Model Save\n",
            "epoch = 20, train_loss : 0.017, valid_loss : 0.018, test_loss : 0.005\n",
            "valid_loss=0.017, test_los0.005, Model Save\n",
            "epoch = 21, train_loss : 0.017, valid_loss : 0.017, test_loss : 0.005\n"
          ]
        },
        {
          "output_type": "stream",
          "name": "stderr",
          "text": [
            "\r 73%|███████▎  | 22/30 [00:01<00:00, 12.54it/s]"
          ]
        },
        {
          "output_type": "stream",
          "name": "stdout",
          "text": [
            "valid_loss=0.017, test_los0.005, Model Save\n",
            "epoch = 22, train_loss : 0.017, valid_loss : 0.017, test_loss : 0.005\n",
            "valid_loss=0.017, test_los0.005, Model Save\n",
            "epoch = 23, train_loss : 0.017, valid_loss : 0.017, test_loss : 0.005\n",
            "valid_loss=0.017, test_los0.005, Model Save"
          ]
        },
        {
          "output_type": "stream",
          "name": "stderr",
          "text": [
            " 87%|████████▋ | 26/30 [00:02<00:00, 11.95it/s]"
          ]
        },
        {
          "output_type": "stream",
          "name": "stdout",
          "text": [
            "\n",
            "epoch = 24, train_loss : 0.017, valid_loss : 0.017, test_loss : 0.005\n",
            "valid_loss=0.017, test_los0.005, Model Save\n",
            "epoch = 25, train_loss : 0.016, valid_loss : 0.017, test_loss : 0.005\n",
            "valid_loss=0.017, test_los0.005, Model Save\n",
            "epoch = 26, train_loss : 0.016, valid_loss : 0.017, test_loss : 0.005\n"
          ]
        },
        {
          "output_type": "stream",
          "name": "stderr",
          "text": [
            "\r 93%|█████████▎| 28/30 [00:02<00:00, 12.00it/s]"
          ]
        },
        {
          "output_type": "stream",
          "name": "stdout",
          "text": [
            "valid_loss=0.016, test_los0.005, Model Save\n",
            "epoch = 27, train_loss : 0.016, valid_loss : 0.016, test_loss : 0.005\n",
            "valid_loss=0.016, test_los0.005, Model Save\n",
            "epoch = 28, train_loss : 0.016, valid_loss : 0.016, test_loss : 0.005\n",
            "valid_loss=0.016, test_los0.005, Model Save\n",
            "epoch = 29, train_loss : 0.016, valid_loss : 0.016, test_loss : 0.005\n"
          ]
        },
        {
          "output_type": "stream",
          "name": "stderr",
          "text": [
            "100%|██████████| 30/30 [00:02<00:00, 12.51it/s]\n"
          ]
        },
        {
          "output_type": "stream",
          "name": "stdout",
          "text": [
            "valid_loss=0.016, test_los0.005, Model Save\n",
            "epoch = 30, train_loss : 0.016, valid_loss : 0.016, test_loss : 0.005\n"
          ]
        },
        {
          "output_type": "stream",
          "name": "stderr",
          "text": [
            "  7%|▋         | 2/30 [00:00<00:02, 13.68it/s]"
          ]
        },
        {
          "output_type": "stream",
          "name": "stdout",
          "text": [
            "valid_loss=0.074, test_los0.056, Model Save\n",
            "epoch = 1, train_loss : 0.106, valid_loss : 0.074, test_loss : 0.056\n",
            "valid_loss=0.058, test_los0.044, Model Save\n",
            "epoch = 2, train_loss : 0.059, valid_loss : 0.058, test_loss : 0.044\n",
            "valid_loss=0.048, test_los0.036, Model Save\n",
            "epoch = 3, train_loss : 0.047, valid_loss : 0.048, test_loss : 0.036\n"
          ]
        },
        {
          "output_type": "stream",
          "name": "stderr",
          "text": [
            " 20%|██        | 6/30 [00:00<00:01, 12.98it/s]"
          ]
        },
        {
          "output_type": "stream",
          "name": "stdout",
          "text": [
            "valid_loss=0.042, test_los0.030, Model Save\n",
            "epoch = 4, train_loss : 0.040, valid_loss : 0.042, test_loss : 0.030\n",
            "valid_loss=0.037, test_los0.026, Model Save\n",
            "epoch = 5, train_loss : 0.034, valid_loss : 0.037, test_loss : 0.026\n",
            "valid_loss=0.034, test_los0.023, Model Save\n",
            "epoch = 6, train_loss : 0.031, valid_loss : 0.034, test_loss : 0.023\n"
          ]
        },
        {
          "output_type": "stream",
          "name": "stderr",
          "text": [
            "\r 27%|██▋       | 8/30 [00:00<00:01, 12.58it/s]"
          ]
        },
        {
          "output_type": "stream",
          "name": "stdout",
          "text": [
            "valid_loss=0.032, test_los0.022, Model Save\n",
            "epoch = 7, train_loss : 0.028, valid_loss : 0.032, test_loss : 0.022\n",
            "valid_loss=0.031, test_los0.020, Model Save\n",
            "epoch = 8, train_loss : 0.026, valid_loss : 0.031, test_loss : 0.020\n",
            "valid_loss=0.030, test_los0.020, Model Save\n",
            "epoch = 9, train_loss : 0.025, valid_loss : 0.030, test_loss : 0.020\n"
          ]
        },
        {
          "output_type": "stream",
          "name": "stderr",
          "text": [
            " 40%|████      | 12/30 [00:00<00:01, 12.85it/s]"
          ]
        },
        {
          "output_type": "stream",
          "name": "stdout",
          "text": [
            "valid_loss=0.029, test_los0.019, Model Save\n",
            "epoch = 10, train_loss : 0.024, valid_loss : 0.029, test_loss : 0.019\n",
            "valid_loss=0.029, test_los0.018, Model Save\n",
            "epoch = 11, train_loss : 0.023, valid_loss : 0.029, test_loss : 0.018\n",
            "valid_loss=0.028, test_los0.018, Model Save\n",
            "epoch = 12, train_loss : 0.023, valid_loss : 0.028, test_loss : 0.018\n"
          ]
        },
        {
          "output_type": "stream",
          "name": "stderr",
          "text": [
            "\r 47%|████▋     | 14/30 [00:01<00:01, 11.96it/s]"
          ]
        },
        {
          "output_type": "stream",
          "name": "stdout",
          "text": [
            "valid_loss=0.028, test_los0.018, Model Save\n",
            "epoch = 13, train_loss : 0.022, valid_loss : 0.028, test_loss : 0.018\n",
            "valid_loss=0.028, test_los0.017, Model Save\n",
            "epoch = 14, train_loss : 0.022, valid_loss : 0.028, test_loss : 0.017\n",
            "valid_loss=0.027, test_los0.017, Model Save\n",
            "epoch = 15, train_loss : 0.021, valid_loss : 0.027, test_loss : 0.017\n"
          ]
        },
        {
          "output_type": "stream",
          "name": "stderr",
          "text": [
            " 60%|██████    | 18/30 [00:01<00:01, 11.90it/s]"
          ]
        },
        {
          "output_type": "stream",
          "name": "stdout",
          "text": [
            "valid_loss=0.027, test_los0.017, Model Save\n",
            "epoch = 16, train_loss : 0.021, valid_loss : 0.027, test_loss : 0.017\n",
            "valid_loss=0.027, test_los0.016, Model Save\n",
            "epoch = 17, train_loss : 0.021, valid_loss : 0.027, test_loss : 0.016\n",
            "valid_loss=0.026, test_los0.016, Model Save\n",
            "epoch = 18, train_loss : 0.020, valid_loss : 0.026, test_loss : 0.016\n"
          ]
        },
        {
          "output_type": "stream",
          "name": "stderr",
          "text": [
            "\r 67%|██████▋   | 20/30 [00:01<00:00, 11.68it/s]"
          ]
        },
        {
          "output_type": "stream",
          "name": "stdout",
          "text": [
            "valid_loss=0.026, test_los0.016, Model Save\n",
            "epoch = 19, train_loss : 0.020, valid_loss : 0.026, test_loss : 0.016\n",
            "valid_loss=0.026, test_los0.016, Model Save\n",
            "epoch = 20, train_loss : 0.020, valid_loss : 0.026, test_loss : 0.016\n",
            "valid_loss=0.026, test_los0.016, Model Save\n",
            "epoch = 21, train_loss : 0.019, valid_loss : 0.026, test_loss : 0.016\n"
          ]
        },
        {
          "output_type": "stream",
          "name": "stderr",
          "text": [
            " 80%|████████  | 24/30 [00:01<00:00, 12.36it/s]"
          ]
        },
        {
          "output_type": "stream",
          "name": "stdout",
          "text": [
            "valid_loss=0.026, test_los0.016, Model Save\n",
            "epoch = 22, train_loss : 0.019, valid_loss : 0.026, test_loss : 0.016\n",
            "valid_loss=0.026, test_los0.015, Model Save\n",
            "epoch = 23, train_loss : 0.019, valid_loss : 0.026, test_loss : 0.015\n",
            "valid_loss=0.025, test_los0.015, Model Save\n",
            "epoch = 24, train_loss : 0.019, valid_loss : 0.025, test_loss : 0.015\n"
          ]
        },
        {
          "output_type": "stream",
          "name": "stderr",
          "text": [
            "\r 87%|████████▋ | 26/30 [00:02<00:00, 12.39it/s]"
          ]
        },
        {
          "output_type": "stream",
          "name": "stdout",
          "text": [
            "valid_loss=0.025, test_los0.015, Model Save\n",
            "epoch = 25, train_loss : 0.019, valid_loss : 0.025, test_loss : 0.015\n",
            "valid_loss=0.025, test_los0.015, Model Save\n",
            "epoch = 26, train_loss : 0.019, valid_loss : 0.025, test_loss : 0.015\n",
            "valid_loss=0.025, test_los0.015, Model Save\n",
            "epoch = 27, train_loss : 0.018, valid_loss : 0.025, test_loss : 0.015\n"
          ]
        },
        {
          "output_type": "stream",
          "name": "stderr",
          "text": [
            "100%|██████████| 30/30 [00:02<00:00, 12.40it/s]"
          ]
        },
        {
          "output_type": "stream",
          "name": "stdout",
          "text": [
            "valid_loss=0.025, test_los0.015, Model Save\n",
            "epoch = 28, train_loss : 0.018, valid_loss : 0.025, test_loss : 0.015\n",
            "valid_loss=0.025, test_los0.015, Model Save\n",
            "epoch = 29, train_loss : 0.018, valid_loss : 0.025, test_loss : 0.015\n",
            "valid_loss=0.025, test_los0.015, Model Save\n",
            "epoch = 30, train_loss : 0.018, valid_loss : 0.025, test_loss : 0.015\n"
          ]
        },
        {
          "output_type": "stream",
          "name": "stderr",
          "text": [
            "\n",
            "  7%|▋         | 2/30 [00:00<00:02, 13.62it/s]"
          ]
        },
        {
          "output_type": "stream",
          "name": "stdout",
          "text": [
            "valid_loss=0.120, test_los0.064, Model Save\n",
            "epoch = 1, train_loss : 0.092, valid_loss : 0.120, test_loss : 0.064\n",
            "valid_loss=0.104, test_los0.052, Model Save\n",
            "epoch = 2, train_loss : 0.078, valid_loss : 0.104, test_loss : 0.052\n",
            "valid_loss=0.082, test_los0.041, Model Save\n",
            "epoch = 3, train_loss : 0.070, valid_loss : 0.082, test_loss : 0.041\n"
          ]
        },
        {
          "output_type": "stream",
          "name": "stderr",
          "text": [
            " 20%|██        | 6/30 [00:00<00:01, 13.05it/s]"
          ]
        },
        {
          "output_type": "stream",
          "name": "stdout",
          "text": [
            "valid_loss=0.067, test_los0.033, Model Save\n",
            "epoch = 4, train_loss : 0.065, valid_loss : 0.067, test_loss : 0.033\n",
            "valid_loss=0.057, test_los0.027, Model Save\n",
            "epoch = 5, train_loss : 0.061, valid_loss : 0.057, test_loss : 0.027\n",
            "valid_loss=0.049, test_los0.023, Model Save\n",
            "epoch = 6, train_loss : 0.057, valid_loss : 0.049, test_loss : 0.023\n"
          ]
        },
        {
          "output_type": "stream",
          "name": "stderr",
          "text": [
            "\r 27%|██▋       | 8/30 [00:00<00:01, 12.95it/s]"
          ]
        },
        {
          "output_type": "stream",
          "name": "stdout",
          "text": [
            "valid_loss=0.044, test_los0.021, Model Save\n",
            "epoch = 7, train_loss : 0.055, valid_loss : 0.044, test_loss : 0.021\n",
            "valid_loss=0.040, test_los0.019, Model Save\n",
            "epoch = 8, train_loss : 0.053, valid_loss : 0.040, test_loss : 0.019\n",
            "valid_loss=0.037, test_los0.018, Model Save\n",
            "epoch = 9, train_loss : 0.051, valid_loss : 0.037, test_loss : 0.018\n"
          ]
        },
        {
          "output_type": "stream",
          "name": "stderr",
          "text": [
            " 40%|████      | 12/30 [00:00<00:01, 13.01it/s]"
          ]
        },
        {
          "output_type": "stream",
          "name": "stdout",
          "text": [
            "valid_loss=0.035, test_los0.017, Model Save\n",
            "epoch = 10, train_loss : 0.050, valid_loss : 0.035, test_loss : 0.017\n",
            "valid_loss=0.034, test_los0.017, Model Save\n",
            "epoch = 11, train_loss : 0.049, valid_loss : 0.034, test_loss : 0.017\n",
            "valid_loss=0.033, test_los0.017, Model Save\n",
            "epoch = 12, train_loss : 0.048, valid_loss : 0.033, test_loss : 0.017\n"
          ]
        },
        {
          "output_type": "stream",
          "name": "stderr",
          "text": [
            "\r 47%|████▋     | 14/30 [00:01<00:01, 12.83it/s]"
          ]
        },
        {
          "output_type": "stream",
          "name": "stdout",
          "text": [
            "valid_loss=0.032, test_los0.016, Model Save\n",
            "epoch = 13, train_loss : 0.047, valid_loss : 0.032, test_loss : 0.016\n",
            "valid_loss=0.032, test_los0.016, Model Save\n",
            "epoch = 14, train_loss : 0.047, valid_loss : 0.032, test_loss : 0.016\n",
            "valid_loss=0.031, test_los0.016, Model Save\n",
            "epoch = 15, train_loss : 0.046, valid_loss : 0.031, test_loss : 0.016\n"
          ]
        },
        {
          "output_type": "stream",
          "name": "stderr",
          "text": [
            " 60%|██████    | 18/30 [00:01<00:00, 13.08it/s]"
          ]
        },
        {
          "output_type": "stream",
          "name": "stdout",
          "text": [
            "valid_loss=0.031, test_los0.016, Model Save\n",
            "epoch = 16, train_loss : 0.046, valid_loss : 0.031, test_loss : 0.016\n",
            "valid_loss=0.031, test_los0.016, Model Save\n",
            "epoch = 17, train_loss : 0.045, valid_loss : 0.031, test_loss : 0.016\n",
            "valid_loss=0.030, test_los0.016, Model Save\n",
            "epoch = 18, train_loss : 0.045, valid_loss : 0.030, test_loss : 0.016\n"
          ]
        },
        {
          "output_type": "stream",
          "name": "stderr",
          "text": [
            "\r 67%|██████▋   | 20/30 [00:01<00:00, 13.06it/s]"
          ]
        },
        {
          "output_type": "stream",
          "name": "stdout",
          "text": [
            "valid_loss=0.030, test_los0.016, Model Save\n",
            "epoch = 19, train_loss : 0.045, valid_loss : 0.030, test_loss : 0.016\n",
            "valid_loss=0.030, test_los0.015, Model Save\n",
            "epoch = 20, train_loss : 0.044, valid_loss : 0.030, test_loss : 0.015\n",
            "valid_loss=0.030, test_los0.015, Model Save\n",
            "epoch = 21, train_loss : 0.044, valid_loss : 0.030, test_loss : 0.015\n"
          ]
        },
        {
          "output_type": "stream",
          "name": "stderr",
          "text": [
            " 80%|████████  | 24/30 [00:01<00:00, 12.98it/s]"
          ]
        },
        {
          "output_type": "stream",
          "name": "stdout",
          "text": [
            "valid_loss=0.030, test_los0.015, Model Save\n",
            "epoch = 22, train_loss : 0.044, valid_loss : 0.030, test_loss : 0.015\n",
            "valid_loss=0.030, test_los0.015, Model Save\n",
            "epoch = 23, train_loss : 0.043, valid_loss : 0.030, test_loss : 0.015\n",
            "valid_loss=0.030, test_los0.015, Model Save\n",
            "epoch = 24, train_loss : 0.043, valid_loss : 0.030, test_loss : 0.015\n"
          ]
        },
        {
          "output_type": "stream",
          "name": "stderr",
          "text": [
            "\r 87%|████████▋ | 26/30 [00:02<00:00, 12.46it/s]"
          ]
        },
        {
          "output_type": "stream",
          "name": "stdout",
          "text": [
            "valid_loss=0.030, test_los0.015, Model Save\n",
            "epoch = 25, train_loss : 0.043, valid_loss : 0.030, test_loss : 0.015\n",
            "valid_loss=0.030, test_los0.015, Model Save\n",
            "epoch = 26, train_loss : 0.043, valid_loss : 0.030, test_loss : 0.015\n",
            "valid_loss=0.030, test_los0.015, Model Save\n",
            "epoch = 27, train_loss : 0.042, valid_loss : 0.030, test_loss : 0.015\n"
          ]
        },
        {
          "output_type": "stream",
          "name": "stderr",
          "text": [
            "100%|██████████| 30/30 [00:02<00:00, 12.88it/s]"
          ]
        },
        {
          "output_type": "stream",
          "name": "stdout",
          "text": [
            "valid_loss=0.030, test_los0.015, Model Save\n",
            "epoch = 28, train_loss : 0.042, valid_loss : 0.030, test_loss : 0.015\n",
            "valid_loss=0.030, test_los0.015, Model Save\n",
            "epoch = 29, train_loss : 0.042, valid_loss : 0.030, test_loss : 0.015\n",
            "valid_loss=0.030, test_los0.015, Model Save\n",
            "epoch = 30, train_loss : 0.042, valid_loss : 0.030, test_loss : 0.015\n"
          ]
        },
        {
          "output_type": "stream",
          "name": "stderr",
          "text": [
            "\n",
            "  7%|▋         | 2/30 [00:00<00:01, 14.22it/s]"
          ]
        },
        {
          "output_type": "stream",
          "name": "stdout",
          "text": [
            "valid_loss=0.337, test_los0.639, Model Save\n",
            "epoch = 1, train_loss : 0.033, valid_loss : 0.337, test_loss : 0.639\n",
            "epoch = 2, train_loss : 0.005, valid_loss : 0.473, test_loss : 0.950\n",
            "epoch = 3, train_loss : 0.001, valid_loss : 0.523, test_loss : 1.063\n"
          ]
        },
        {
          "output_type": "stream",
          "name": "stderr",
          "text": [
            "\r 13%|█▎        | 4/30 [00:00<00:02, 12.23it/s]"
          ]
        },
        {
          "output_type": "stream",
          "name": "stdout",
          "text": [
            "epoch = 4, train_loss : 0.000, valid_loss : 0.541, test_loss : 1.102\n",
            "epoch = 5, train_loss : 0.000, valid_loss : 0.542, test_loss : 1.105\n"
          ]
        },
        {
          "output_type": "stream",
          "name": "stderr",
          "text": [
            "\r 20%|██        | 6/30 [00:00<00:02, 10.32it/s]"
          ]
        },
        {
          "output_type": "stream",
          "name": "stdout",
          "text": [
            "epoch = 6, train_loss : 0.000, valid_loss : 0.541, test_loss : 1.104\n",
            "epoch = 7, train_loss : 0.000, valid_loss : 0.541, test_loss : 1.104\n"
          ]
        },
        {
          "output_type": "stream",
          "name": "stderr",
          "text": [
            " 30%|███       | 9/30 [00:00<00:02,  9.63it/s]"
          ]
        },
        {
          "output_type": "stream",
          "name": "stdout",
          "text": [
            "epoch = 8, train_loss : 0.000, valid_loss : 0.541, test_loss : 1.104\n",
            "epoch = 9, train_loss : 0.000, valid_loss : 0.541, test_loss : 1.104\n"
          ]
        },
        {
          "output_type": "stream",
          "name": "stderr",
          "text": [
            " 37%|███▋      | 11/30 [00:01<00:01,  9.53it/s]"
          ]
        },
        {
          "output_type": "stream",
          "name": "stdout",
          "text": [
            "epoch = 10, train_loss : 0.000, valid_loss : 0.541, test_loss : 1.104\n",
            "epoch = 11, train_loss : 0.000, valid_loss : 0.541, test_loss : 1.104\n"
          ]
        },
        {
          "output_type": "stream",
          "name": "stderr",
          "text": [
            " 43%|████▎     | 13/30 [00:01<00:01,  9.23it/s]"
          ]
        },
        {
          "output_type": "stream",
          "name": "stdout",
          "text": [
            "epoch = 12, train_loss : 0.000, valid_loss : 0.541, test_loss : 1.104\n",
            "epoch = 13, train_loss : 0.000, valid_loss : 0.541, test_loss : 1.104\n"
          ]
        },
        {
          "output_type": "stream",
          "name": "stderr",
          "text": [
            " 53%|█████▎    | 16/30 [00:01<00:01,  9.63it/s]"
          ]
        },
        {
          "output_type": "stream",
          "name": "stdout",
          "text": [
            "epoch = 14, train_loss : 0.000, valid_loss : 0.541, test_loss : 1.104\n",
            "epoch = 15, train_loss : 0.000, valid_loss : 0.541, test_loss : 1.104\n",
            "epoch = 16, train_loss : 0.000, valid_loss : 0.541, test_loss : 1.104\n"
          ]
        },
        {
          "output_type": "stream",
          "name": "stderr",
          "text": [
            " 60%|██████    | 18/30 [00:01<00:01,  9.15it/s]"
          ]
        },
        {
          "output_type": "stream",
          "name": "stdout",
          "text": [
            "epoch = 17, train_loss : 0.000, valid_loss : 0.541, test_loss : 1.104\n",
            "epoch = 18, train_loss : 0.000, valid_loss : 0.541, test_loss : 1.104\n"
          ]
        },
        {
          "output_type": "stream",
          "name": "stderr",
          "text": [
            " 67%|██████▋   | 20/30 [00:02<00:01,  8.32it/s]"
          ]
        },
        {
          "output_type": "stream",
          "name": "stdout",
          "text": [
            "epoch = 19, train_loss : 0.000, valid_loss : 0.541, test_loss : 1.104\n",
            "epoch = 20, train_loss : 0.000, valid_loss : 0.541, test_loss : 1.104\n"
          ]
        },
        {
          "output_type": "stream",
          "name": "stderr",
          "text": [
            " 73%|███████▎  | 22/30 [00:02<00:00,  8.14it/s]"
          ]
        },
        {
          "output_type": "stream",
          "name": "stdout",
          "text": [
            "epoch = 21, train_loss : 0.000, valid_loss : 0.541, test_loss : 1.104\n",
            "epoch = 22, train_loss : 0.000, valid_loss : 0.541, test_loss : 1.104\n"
          ]
        },
        {
          "output_type": "stream",
          "name": "stderr",
          "text": [
            " 80%|████████  | 24/30 [00:02<00:00,  8.18it/s]"
          ]
        },
        {
          "output_type": "stream",
          "name": "stdout",
          "text": [
            "epoch = 23, train_loss : 0.000, valid_loss : 0.541, test_loss : 1.104\n",
            "epoch = 24, train_loss : 0.000, valid_loss : 0.541, test_loss : 1.104\n"
          ]
        },
        {
          "output_type": "stream",
          "name": "stderr",
          "text": [
            " 87%|████████▋ | 26/30 [00:02<00:00,  8.12it/s]"
          ]
        },
        {
          "output_type": "stream",
          "name": "stdout",
          "text": [
            "epoch = 25, train_loss : 0.000, valid_loss : 0.541, test_loss : 1.104\n",
            "epoch = 26, train_loss : 0.000, valid_loss : 0.541, test_loss : 1.104\n"
          ]
        },
        {
          "output_type": "stream",
          "name": "stderr",
          "text": [
            " 93%|█████████▎| 28/30 [00:03<00:00,  8.40it/s]"
          ]
        },
        {
          "output_type": "stream",
          "name": "stdout",
          "text": [
            "epoch = 27, train_loss : 0.000, valid_loss : 0.541, test_loss : 1.104\n",
            "epoch = 28, train_loss : 0.000, valid_loss : 0.541, test_loss : 1.104\n"
          ]
        },
        {
          "output_type": "stream",
          "name": "stderr",
          "text": [
            "100%|██████████| 30/30 [00:03<00:00,  8.95it/s]"
          ]
        },
        {
          "output_type": "stream",
          "name": "stdout",
          "text": [
            "epoch = 29, train_loss : 0.000, valid_loss : 0.541, test_loss : 1.104\n",
            "epoch = 30, train_loss : 0.000, valid_loss : 0.541, test_loss : 1.104\n"
          ]
        },
        {
          "output_type": "stream",
          "name": "stderr",
          "text": [
            "\n",
            "  7%|▋         | 2/30 [00:00<00:03,  7.65it/s]"
          ]
        },
        {
          "output_type": "stream",
          "name": "stdout",
          "text": [
            "valid_loss=0.265, test_los0.308, Model Save\n",
            "epoch = 1, train_loss : 0.024, valid_loss : 0.265, test_loss : 0.308\n",
            "epoch = 2, train_loss : 0.002, valid_loss : 0.386, test_loss : 0.416\n"
          ]
        },
        {
          "output_type": "stream",
          "name": "stderr",
          "text": [
            " 13%|█▎        | 4/30 [00:00<00:03,  7.88it/s]"
          ]
        },
        {
          "output_type": "stream",
          "name": "stdout",
          "text": [
            "epoch = 3, train_loss : 0.000, valid_loss : 0.405, test_loss : 0.432\n",
            "epoch = 4, train_loss : 0.000, valid_loss : 0.401, test_loss : 0.428\n"
          ]
        },
        {
          "output_type": "stream",
          "name": "stderr",
          "text": [
            " 23%|██▎       | 7/30 [00:00<00:02,  9.95it/s]"
          ]
        },
        {
          "output_type": "stream",
          "name": "stdout",
          "text": [
            "epoch = 5, train_loss : 0.000, valid_loss : 0.401, test_loss : 0.428\n",
            "epoch = 6, train_loss : 0.000, valid_loss : 0.401, test_loss : 0.429\n",
            "epoch = 7, train_loss : 0.000, valid_loss : 0.401, test_loss : 0.429\n"
          ]
        },
        {
          "output_type": "stream",
          "name": "stderr",
          "text": [
            "\r 30%|███       | 9/30 [00:00<00:01, 11.26it/s]"
          ]
        },
        {
          "output_type": "stream",
          "name": "stdout",
          "text": [
            "epoch = 8, train_loss : 0.000, valid_loss : 0.401, test_loss : 0.429\n",
            "epoch = 9, train_loss : 0.000, valid_loss : 0.401, test_loss : 0.429\n",
            "epoch = 10, train_loss : 0.000, valid_loss : 0.401, test_loss : 0.429\n"
          ]
        },
        {
          "output_type": "stream",
          "name": "stderr",
          "text": [
            " 43%|████▎     | 13/30 [00:01<00:01, 11.60it/s]"
          ]
        },
        {
          "output_type": "stream",
          "name": "stdout",
          "text": [
            "epoch = 11, train_loss : 0.000, valid_loss : 0.401, test_loss : 0.429\n",
            "epoch = 12, train_loss : 0.000, valid_loss : 0.401, test_loss : 0.429\n",
            "epoch = 13, train_loss : 0.000, valid_loss : 0.401, test_loss : 0.429\n"
          ]
        },
        {
          "output_type": "stream",
          "name": "stderr",
          "text": [
            "\r 50%|█████     | 15/30 [00:01<00:01, 11.96it/s]"
          ]
        },
        {
          "output_type": "stream",
          "name": "stdout",
          "text": [
            "epoch = 14, train_loss : 0.000, valid_loss : 0.401, test_loss : 0.429\n",
            "epoch = 15, train_loss : 0.000, valid_loss : 0.401, test_loss : 0.429\n",
            "epoch = 16, train_loss : 0.000, valid_loss : 0.401, test_loss : 0.429\n"
          ]
        },
        {
          "output_type": "stream",
          "name": "stderr",
          "text": [
            " 63%|██████▎   | 19/30 [00:01<00:00, 13.03it/s]"
          ]
        },
        {
          "output_type": "stream",
          "name": "stdout",
          "text": [
            "epoch = 17, train_loss : 0.000, valid_loss : 0.401, test_loss : 0.429\n",
            "epoch = 18, train_loss : 0.000, valid_loss : 0.401, test_loss : 0.429\n",
            "epoch = 19, train_loss : 0.000, valid_loss : 0.401, test_loss : 0.429\n"
          ]
        },
        {
          "output_type": "stream",
          "name": "stderr",
          "text": [
            "\r 70%|███████   | 21/30 [00:01<00:00, 12.65it/s]"
          ]
        },
        {
          "output_type": "stream",
          "name": "stdout",
          "text": [
            "epoch = 20, train_loss : 0.000, valid_loss : 0.401, test_loss : 0.429\n",
            "epoch = 21, train_loss : 0.000, valid_loss : 0.401, test_loss : 0.429\n",
            "epoch = 22, train_loss : 0.000, valid_loss : 0.401, test_loss : 0.429\n"
          ]
        },
        {
          "output_type": "stream",
          "name": "stderr",
          "text": [
            " 83%|████████▎ | 25/30 [00:02<00:00, 13.17it/s]"
          ]
        },
        {
          "output_type": "stream",
          "name": "stdout",
          "text": [
            "epoch = 23, train_loss : 0.000, valid_loss : 0.401, test_loss : 0.429\n",
            "epoch = 24, train_loss : 0.000, valid_loss : 0.401, test_loss : 0.429\n",
            "epoch = 25, train_loss : 0.000, valid_loss : 0.401, test_loss : 0.429\n"
          ]
        },
        {
          "output_type": "stream",
          "name": "stderr",
          "text": [
            "\r 90%|█████████ | 27/30 [00:02<00:00, 13.35it/s]"
          ]
        },
        {
          "output_type": "stream",
          "name": "stdout",
          "text": [
            "epoch = 26, train_loss : 0.000, valid_loss : 0.401, test_loss : 0.429\n",
            "epoch = 27, train_loss : 0.000, valid_loss : 0.401, test_loss : 0.429\n",
            "epoch = 28, train_loss : 0.000, valid_loss : 0.401, test_loss : 0.429\n",
            "epoch = 29, train_loss : 0.000, valid_loss : 0.401, test_loss : 0.429"
          ]
        },
        {
          "output_type": "stream",
          "name": "stderr",
          "text": [
            "100%|██████████| 30/30 [00:02<00:00, 11.85it/s]"
          ]
        },
        {
          "output_type": "stream",
          "name": "stdout",
          "text": [
            "\n",
            "epoch = 30, train_loss : 0.000, valid_loss : 0.401, test_loss : 0.429\n"
          ]
        },
        {
          "output_type": "stream",
          "name": "stderr",
          "text": [
            "\n",
            "  7%|▋         | 2/30 [00:00<00:01, 14.38it/s]"
          ]
        },
        {
          "output_type": "stream",
          "name": "stdout",
          "text": [
            "valid_loss=1.210, test_los0.993, Model Save\n",
            "epoch = 1, train_loss : 0.096, valid_loss : 1.210, test_loss : 0.993\n",
            "epoch = 2, train_loss : 0.049, valid_loss : 1.629, test_loss : 1.588\n",
            "epoch = 3, train_loss : 0.023, valid_loss : 2.133, test_loss : 2.253\n"
          ]
        },
        {
          "output_type": "stream",
          "name": "stderr",
          "text": [
            " 20%|██        | 6/30 [00:00<00:01, 13.92it/s]"
          ]
        },
        {
          "output_type": "stream",
          "name": "stdout",
          "text": [
            "epoch = 4, train_loss : 0.010, valid_loss : 2.586, test_loss : 2.835\n",
            "epoch = 5, train_loss : 0.004, valid_loss : 2.934, test_loss : 3.279\n",
            "epoch = 6, train_loss : 0.001, valid_loss : 3.176, test_loss : 3.585\n"
          ]
        },
        {
          "output_type": "stream",
          "name": "stderr",
          "text": [
            " 33%|███▎      | 10/30 [00:00<00:01, 14.22it/s]"
          ]
        },
        {
          "output_type": "stream",
          "name": "stdout",
          "text": [
            "epoch = 7, train_loss : 0.000, valid_loss : 3.329, test_loss : 3.778\n",
            "epoch = 8, train_loss : 0.000, valid_loss : 3.417, test_loss : 3.891\n",
            "epoch = 9, train_loss : 0.000, valid_loss : 3.465, test_loss : 3.952\n",
            "epoch = 10, train_loss : 0.000, valid_loss : 3.489, test_loss : 3.982\n"
          ]
        },
        {
          "output_type": "stream",
          "name": "stderr",
          "text": [
            "\r 40%|████      | 12/30 [00:00<00:01, 14.30it/s]"
          ]
        },
        {
          "output_type": "stream",
          "name": "stdout",
          "text": [
            "epoch = 11, train_loss : 0.000, valid_loss : 3.500, test_loss : 3.997\n",
            "epoch = 12, train_loss : 0.000, valid_loss : 3.505, test_loss : 4.003\n",
            "epoch = 13, train_loss : 0.000, valid_loss : 3.507, test_loss : 4.006\n"
          ]
        },
        {
          "output_type": "stream",
          "name": "stderr",
          "text": [
            " 53%|█████▎    | 16/30 [00:01<00:01, 13.28it/s]"
          ]
        },
        {
          "output_type": "stream",
          "name": "stdout",
          "text": [
            "epoch = 14, train_loss : 0.000, valid_loss : 3.508, test_loss : 4.007\n",
            "epoch = 15, train_loss : 0.000, valid_loss : 3.509, test_loss : 4.007\n",
            "epoch = 16, train_loss : 0.000, valid_loss : 3.509, test_loss : 4.007\n"
          ]
        },
        {
          "output_type": "stream",
          "name": "stderr",
          "text": [
            " 67%|██████▋   | 20/30 [00:01<00:00, 13.72it/s]"
          ]
        },
        {
          "output_type": "stream",
          "name": "stdout",
          "text": [
            "epoch = 17, train_loss : 0.000, valid_loss : 3.509, test_loss : 4.007\n",
            "epoch = 18, train_loss : 0.000, valid_loss : 3.509, test_loss : 4.007\n",
            "epoch = 19, train_loss : 0.000, valid_loss : 3.509, test_loss : 4.007\n",
            "epoch = 20, train_loss : 0.000, valid_loss : 3.509, test_loss : 4.007\n"
          ]
        },
        {
          "output_type": "stream",
          "name": "stderr",
          "text": [
            " 80%|████████  | 24/30 [00:01<00:00, 13.92it/s]"
          ]
        },
        {
          "output_type": "stream",
          "name": "stdout",
          "text": [
            "epoch = 21, train_loss : 0.000, valid_loss : 3.509, test_loss : 4.007\n",
            "epoch = 22, train_loss : 0.000, valid_loss : 3.509, test_loss : 4.007\n",
            "epoch = 23, train_loss : 0.000, valid_loss : 3.509, test_loss : 4.007\n",
            "epoch = 24, train_loss : 0.000, valid_loss : 3.509, test_loss : 4.007\n"
          ]
        },
        {
          "output_type": "stream",
          "name": "stderr",
          "text": [
            "\r 87%|████████▋ | 26/30 [00:01<00:00, 13.20it/s]"
          ]
        },
        {
          "output_type": "stream",
          "name": "stdout",
          "text": [
            "epoch = 25, train_loss : 0.000, valid_loss : 3.509, test_loss : 4.007\n",
            "epoch = 26, train_loss : 0.000, valid_loss : 3.509, test_loss : 4.007\n",
            "epoch = 27, train_loss : 0.000, valid_loss : 3.509, test_loss : 4.007\n"
          ]
        },
        {
          "output_type": "stream",
          "name": "stderr",
          "text": [
            "100%|██████████| 30/30 [00:02<00:00, 13.56it/s]"
          ]
        },
        {
          "output_type": "stream",
          "name": "stdout",
          "text": [
            "epoch = 28, train_loss : 0.000, valid_loss : 3.509, test_loss : 4.007\n",
            "epoch = 29, train_loss : 0.000, valid_loss : 3.509, test_loss : 4.007\n",
            "epoch = 30, train_loss : 0.000, valid_loss : 3.509, test_loss : 4.007\n"
          ]
        },
        {
          "output_type": "stream",
          "name": "stderr",
          "text": [
            "\n",
            "  7%|▋         | 2/30 [00:00<00:01, 14.12it/s]"
          ]
        },
        {
          "output_type": "stream",
          "name": "stdout",
          "text": [
            "valid_loss=0.201, test_los0.161, Model Save\n",
            "epoch = 1, train_loss : 0.163, valid_loss : 0.201, test_loss : 0.161\n",
            "valid_loss=0.131, test_los0.111, Model Save\n",
            "epoch = 2, train_loss : 0.115, valid_loss : 0.131, test_loss : 0.111\n",
            "valid_loss=0.096, test_los0.082, Model Save\n",
            "epoch = 3, train_loss : 0.091, valid_loss : 0.096, test_loss : 0.082\n"
          ]
        },
        {
          "output_type": "stream",
          "name": "stderr",
          "text": [
            " 20%|██        | 6/30 [00:00<00:01, 12.45it/s]"
          ]
        },
        {
          "output_type": "stream",
          "name": "stdout",
          "text": [
            "valid_loss=0.072, test_los0.062, Model Save\n",
            "epoch = 4, train_loss : 0.073, valid_loss : 0.072, test_loss : 0.062\n",
            "valid_loss=0.056, test_los0.047, Model Save\n",
            "epoch = 5, train_loss : 0.060, valid_loss : 0.056, test_loss : 0.047\n",
            "valid_loss=0.044, test_los0.037, Model Save\n",
            "epoch = 6, train_loss : 0.051, valid_loss : 0.044, test_loss : 0.037\n"
          ]
        },
        {
          "output_type": "stream",
          "name": "stderr",
          "text": [
            "\r 27%|██▋       | 8/30 [00:00<00:01, 12.53it/s]"
          ]
        },
        {
          "output_type": "stream",
          "name": "stdout",
          "text": [
            "valid_loss=0.035, test_los0.030, Model Save\n",
            "epoch = 7, train_loss : 0.044, valid_loss : 0.035, test_loss : 0.030\n",
            "valid_loss=0.029, test_los0.025, Model Save\n",
            "epoch = 8, train_loss : 0.039, valid_loss : 0.029, test_loss : 0.025\n",
            "valid_loss=0.025, test_los0.022, Model Save\n",
            "epoch = 9, train_loss : 0.036, valid_loss : 0.025, test_loss : 0.022\n"
          ]
        },
        {
          "output_type": "stream",
          "name": "stderr",
          "text": [
            " 40%|████      | 12/30 [00:00<00:01, 13.03it/s]"
          ]
        },
        {
          "output_type": "stream",
          "name": "stdout",
          "text": [
            "valid_loss=0.022, test_los0.020, Model Save\n",
            "epoch = 10, train_loss : 0.033, valid_loss : 0.022, test_loss : 0.020\n",
            "valid_loss=0.020, test_los0.018, Model Save\n",
            "epoch = 11, train_loss : 0.031, valid_loss : 0.020, test_loss : 0.018\n",
            "valid_loss=0.019, test_los0.017, Model Save\n",
            "epoch = 12, train_loss : 0.030, valid_loss : 0.019, test_loss : 0.017\n"
          ]
        },
        {
          "output_type": "stream",
          "name": "stderr",
          "text": [
            "\r 47%|████▋     | 14/30 [00:01<00:01, 12.85it/s]"
          ]
        },
        {
          "output_type": "stream",
          "name": "stdout",
          "text": [
            "valid_loss=0.018, test_los0.016, Model Save\n",
            "epoch = 13, train_loss : 0.029, valid_loss : 0.018, test_loss : 0.016\n",
            "valid_loss=0.017, test_los0.016, Model Save\n",
            "epoch = 14, train_loss : 0.028, valid_loss : 0.017, test_loss : 0.016\n",
            "valid_loss=0.017, test_los0.016, Model Save\n",
            "epoch = 15, train_loss : 0.028, valid_loss : 0.017, test_loss : 0.016\n"
          ]
        },
        {
          "output_type": "stream",
          "name": "stderr",
          "text": [
            " 60%|██████    | 18/30 [00:01<00:00, 12.69it/s]"
          ]
        },
        {
          "output_type": "stream",
          "name": "stdout",
          "text": [
            "valid_loss=0.016, test_los0.015, Model Save\n",
            "epoch = 16, train_loss : 0.027, valid_loss : 0.016, test_loss : 0.015\n",
            "valid_loss=0.016, test_los0.015, Model Save\n",
            "epoch = 17, train_loss : 0.027, valid_loss : 0.016, test_loss : 0.015\n",
            "valid_loss=0.016, test_los0.015, Model Save\n",
            "epoch = 18, train_loss : 0.027, valid_loss : 0.016, test_loss : 0.015\n"
          ]
        },
        {
          "output_type": "stream",
          "name": "stderr",
          "text": [
            "\r 67%|██████▋   | 20/30 [00:01<00:00, 12.52it/s]"
          ]
        },
        {
          "output_type": "stream",
          "name": "stdout",
          "text": [
            "valid_loss=0.015, test_los0.015, Model Save\n",
            "epoch = 19, train_loss : 0.026, valid_loss : 0.015, test_loss : 0.015\n",
            "valid_loss=0.015, test_los0.015, Model Save\n",
            "epoch = 20, train_loss : 0.026, valid_loss : 0.015, test_loss : 0.015\n",
            "valid_loss=0.015, test_los0.015, Model Save\n",
            "epoch = 21, train_loss : 0.026, valid_loss : 0.015, test_loss : 0.015\n"
          ]
        },
        {
          "output_type": "stream",
          "name": "stderr",
          "text": [
            " 80%|████████  | 24/30 [00:01<00:00, 12.62it/s]"
          ]
        },
        {
          "output_type": "stream",
          "name": "stdout",
          "text": [
            "valid_loss=0.015, test_los0.015, Model Save\n",
            "epoch = 22, train_loss : 0.026, valid_loss : 0.015, test_loss : 0.015\n",
            "valid_loss=0.015, test_los0.015, Model Save\n",
            "epoch = 23, train_loss : 0.026, valid_loss : 0.015, test_loss : 0.015\n",
            "valid_loss=0.015, test_los0.015, Model Save\n",
            "epoch = 24, train_loss : 0.025, valid_loss : 0.015, test_loss : 0.015\n"
          ]
        },
        {
          "output_type": "stream",
          "name": "stderr",
          "text": [
            "\r 87%|████████▋ | 26/30 [00:02<00:00, 12.26it/s]"
          ]
        },
        {
          "output_type": "stream",
          "name": "stdout",
          "text": [
            "valid_loss=0.015, test_los0.015, Model Save\n",
            "epoch = 25, train_loss : 0.025, valid_loss : 0.015, test_loss : 0.015\n",
            "valid_loss=0.015, test_los0.015, Model Save\n",
            "epoch = 26, train_loss : 0.025, valid_loss : 0.015, test_loss : 0.015\n",
            "valid_loss=0.015, test_los0.015, Model Save\n",
            "epoch = 27, train_loss : 0.025, valid_loss : 0.015, test_loss : 0.015\n"
          ]
        },
        {
          "output_type": "stream",
          "name": "stderr",
          "text": [
            "100%|██████████| 30/30 [00:02<00:00, 12.37it/s]"
          ]
        },
        {
          "output_type": "stream",
          "name": "stdout",
          "text": [
            "valid_loss=0.015, test_los0.015, Model Save\n",
            "epoch = 28, train_loss : 0.025, valid_loss : 0.015, test_loss : 0.015\n",
            "valid_loss=0.015, test_los0.015, Model Save\n",
            "epoch = 29, train_loss : 0.025, valid_loss : 0.015, test_loss : 0.015\n",
            "valid_loss=0.015, test_los0.015, Model Save\n",
            "epoch = 30, train_loss : 0.025, valid_loss : 0.015, test_loss : 0.015\n"
          ]
        },
        {
          "output_type": "stream",
          "name": "stderr",
          "text": [
            "\n",
            "  7%|▋         | 2/30 [00:00<00:02, 13.07it/s]"
          ]
        },
        {
          "output_type": "stream",
          "name": "stdout",
          "text": [
            "valid_loss=0.066, test_los0.070, Model Save\n",
            "epoch = 1, train_loss : 0.050, valid_loss : 0.066, test_loss : 0.070\n",
            "valid_loss=0.026, test_los0.032, Model Save\n",
            "epoch = 2, train_loss : 0.021, valid_loss : 0.026, test_loss : 0.032\n",
            "valid_loss=0.016, test_los0.024, Model Save\n",
            "epoch = 3, train_loss : 0.016, valid_loss : 0.016, test_loss : 0.024\n"
          ]
        },
        {
          "output_type": "stream",
          "name": "stderr",
          "text": [
            " 20%|██        | 6/30 [00:00<00:01, 12.49it/s]"
          ]
        },
        {
          "output_type": "stream",
          "name": "stdout",
          "text": [
            "valid_loss=0.010, test_los0.020, Model Save\n",
            "epoch = 4, train_loss : 0.011, valid_loss : 0.010, test_loss : 0.020\n",
            "valid_loss=0.007, test_los0.019, Model Save\n",
            "epoch = 5, train_loss : 0.009, valid_loss : 0.007, test_loss : 0.019\n",
            "valid_loss=0.006, test_los0.018, Model Save\n",
            "epoch = 6, train_loss : 0.008, valid_loss : 0.006, test_loss : 0.018\n"
          ]
        },
        {
          "output_type": "stream",
          "name": "stderr",
          "text": [
            "\r 27%|██▋       | 8/30 [00:00<00:01, 12.63it/s]"
          ]
        },
        {
          "output_type": "stream",
          "name": "stdout",
          "text": [
            "valid_loss=0.005, test_los0.017, Model Save\n",
            "epoch = 7, train_loss : 0.008, valid_loss : 0.005, test_loss : 0.017\n",
            "valid_loss=0.005, test_los0.017, Model Save\n",
            "epoch = 8, train_loss : 0.007, valid_loss : 0.005, test_loss : 0.017\n",
            "valid_loss=0.005, test_los0.016, Model Save\n",
            "epoch = 9, train_loss : 0.007, valid_loss : 0.005, test_loss : 0.016\n"
          ]
        },
        {
          "output_type": "stream",
          "name": "stderr",
          "text": [
            " 40%|████      | 12/30 [00:00<00:01, 12.89it/s]"
          ]
        },
        {
          "output_type": "stream",
          "name": "stdout",
          "text": [
            "valid_loss=0.004, test_los0.016, Model Save\n",
            "epoch = 10, train_loss : 0.007, valid_loss : 0.004, test_loss : 0.016\n",
            "valid_loss=0.004, test_los0.015, Model Save\n",
            "epoch = 11, train_loss : 0.007, valid_loss : 0.004, test_loss : 0.015\n",
            "valid_loss=0.004, test_los0.015, Model Save\n",
            "epoch = 12, train_loss : 0.006, valid_loss : 0.004, test_loss : 0.015\n"
          ]
        },
        {
          "output_type": "stream",
          "name": "stderr",
          "text": [
            "\r 47%|████▋     | 14/30 [00:01<00:01, 12.48it/s]"
          ]
        },
        {
          "output_type": "stream",
          "name": "stdout",
          "text": [
            "valid_loss=0.004, test_los0.015, Model Save\n",
            "epoch = 13, train_loss : 0.006, valid_loss : 0.004, test_loss : 0.015\n",
            "valid_loss=0.004, test_los0.014, Model Save\n",
            "epoch = 14, train_loss : 0.006, valid_loss : 0.004, test_loss : 0.014\n",
            "valid_loss=0.004, test_los0.014, Model Save\n",
            "epoch = 15, train_loss : 0.006, valid_loss : 0.004, test_loss : 0.014\n"
          ]
        },
        {
          "output_type": "stream",
          "name": "stderr",
          "text": [
            " 60%|██████    | 18/30 [00:01<00:01, 11.62it/s]"
          ]
        },
        {
          "output_type": "stream",
          "name": "stdout",
          "text": [
            "valid_loss=0.004, test_los0.014, Model Save\n",
            "epoch = 16, train_loss : 0.006, valid_loss : 0.004, test_loss : 0.014\n",
            "valid_loss=0.004, test_los0.014, Model Save\n",
            "epoch = 17, train_loss : 0.006, valid_loss : 0.004, test_loss : 0.014\n",
            "valid_loss=0.004, test_los0.013, Model Save\n",
            "epoch = 18, train_loss : 0.006, valid_loss : 0.004, test_loss : 0.013\n"
          ]
        },
        {
          "output_type": "stream",
          "name": "stderr",
          "text": [
            "\r 67%|██████▋   | 20/30 [00:01<00:00, 11.79it/s]"
          ]
        },
        {
          "output_type": "stream",
          "name": "stdout",
          "text": [
            "valid_loss=0.004, test_los0.013, Model Save\n",
            "epoch = 19, train_loss : 0.006, valid_loss : 0.004, test_loss : 0.013\n",
            "valid_loss=0.004, test_los0.013, Model Save\n",
            "epoch = 20, train_loss : 0.006, valid_loss : 0.004, test_loss : 0.013\n",
            "valid_loss=0.004, test_los0.013, Model Save\n",
            "epoch = 21, train_loss : 0.006, valid_loss : 0.004, test_loss : 0.013\n"
          ]
        },
        {
          "output_type": "stream",
          "name": "stderr",
          "text": [
            " 80%|████████  | 24/30 [00:01<00:00, 12.26it/s]"
          ]
        },
        {
          "output_type": "stream",
          "name": "stdout",
          "text": [
            "valid_loss=0.004, test_los0.013, Model Save\n",
            "epoch = 22, train_loss : 0.006, valid_loss : 0.004, test_loss : 0.013\n",
            "valid_loss=0.004, test_los0.013, Model Save\n",
            "epoch = 23, train_loss : 0.006, valid_loss : 0.004, test_loss : 0.013\n",
            "valid_loss=0.004, test_los0.013, Model Save\n",
            "epoch = 24, train_loss : 0.006, valid_loss : 0.004, test_loss : 0.013\n"
          ]
        },
        {
          "output_type": "stream",
          "name": "stderr",
          "text": [
            "\r 87%|████████▋ | 26/30 [00:02<00:00, 10.23it/s]"
          ]
        },
        {
          "output_type": "stream",
          "name": "stdout",
          "text": [
            "valid_loss=0.004, test_los0.012, Model Save\n",
            "epoch = 25, train_loss : 0.006, valid_loss : 0.004, test_loss : 0.012\n",
            "valid_loss=0.004, test_los0.012, Model Save\n",
            "epoch = 26, train_loss : 0.006, valid_loss : 0.004, test_loss : 0.012\n"
          ]
        },
        {
          "output_type": "stream",
          "name": "stderr",
          "text": [
            "\r 93%|█████████▎| 28/30 [00:02<00:00,  9.35it/s]"
          ]
        },
        {
          "output_type": "stream",
          "name": "stdout",
          "text": [
            "valid_loss=0.004, test_los0.012, Model Save\n",
            "epoch = 27, train_loss : 0.006, valid_loss : 0.004, test_loss : 0.012\n",
            "valid_loss=0.004, test_los0.012, Model Save\n",
            "epoch = 28, train_loss : 0.006, valid_loss : 0.004, test_loss : 0.012\n"
          ]
        },
        {
          "output_type": "stream",
          "name": "stderr",
          "text": [
            "100%|██████████| 30/30 [00:02<00:00, 11.01it/s]"
          ]
        },
        {
          "output_type": "stream",
          "name": "stdout",
          "text": [
            "valid_loss=0.004, test_los0.012, Model Save\n",
            "epoch = 29, train_loss : 0.006, valid_loss : 0.004, test_loss : 0.012\n",
            "valid_loss=0.004, test_los0.012, Model Save\n",
            "epoch = 30, train_loss : 0.006, valid_loss : 0.004, test_loss : 0.012\n"
          ]
        },
        {
          "output_type": "stream",
          "name": "stderr",
          "text": [
            "\n",
            "  7%|▋         | 2/30 [00:00<00:03,  8.06it/s]"
          ]
        },
        {
          "output_type": "stream",
          "name": "stdout",
          "text": [
            "valid_loss=0.137, test_los0.083, Model Save\n",
            "epoch = 1, train_loss : 0.048, valid_loss : 0.137, test_loss : 0.083\n",
            "valid_loss=0.091, test_los0.058, Model Save\n",
            "epoch = 2, train_loss : 0.030, valid_loss : 0.091, test_loss : 0.058\n"
          ]
        },
        {
          "output_type": "stream",
          "name": "stderr",
          "text": [
            " 13%|█▎        | 4/30 [00:00<00:03,  7.96it/s]"
          ]
        },
        {
          "output_type": "stream",
          "name": "stdout",
          "text": [
            "valid_loss=0.061, test_los0.040, Model Save\n",
            "epoch = 3, train_loss : 0.024, valid_loss : 0.061, test_loss : 0.040\n",
            "valid_loss=0.043, test_los0.029, Model Save\n",
            "epoch = 4, train_loss : 0.019, valid_loss : 0.043, test_loss : 0.029\n"
          ]
        },
        {
          "output_type": "stream",
          "name": "stderr",
          "text": [
            " 20%|██        | 6/30 [00:00<00:02,  8.67it/s]"
          ]
        },
        {
          "output_type": "stream",
          "name": "stdout",
          "text": [
            "valid_loss=0.030, test_los0.021, Model Save\n",
            "epoch = 5, train_loss : 0.015, valid_loss : 0.030, test_loss : 0.021\n",
            "valid_loss=0.021, test_los0.015, Model Save\n",
            "epoch = 6, train_loss : 0.013, valid_loss : 0.021, test_loss : 0.015\n"
          ]
        },
        {
          "output_type": "stream",
          "name": "stderr",
          "text": [
            " 27%|██▋       | 8/30 [00:00<00:02,  8.40it/s]"
          ]
        },
        {
          "output_type": "stream",
          "name": "stdout",
          "text": [
            "valid_loss=0.016, test_los0.012, Model Save\n",
            "epoch = 7, train_loss : 0.011, valid_loss : 0.016, test_loss : 0.012\n",
            "valid_loss=0.012, test_los0.010, Model Save\n",
            "epoch = 8, train_loss : 0.009, valid_loss : 0.012, test_loss : 0.010\n"
          ]
        },
        {
          "output_type": "stream",
          "name": "stderr",
          "text": [
            " 37%|███▋      | 11/30 [00:01<00:02,  8.96it/s]"
          ]
        },
        {
          "output_type": "stream",
          "name": "stdout",
          "text": [
            "valid_loss=0.011, test_los0.009, Model Save\n",
            "epoch = 9, train_loss : 0.008, valid_loss : 0.011, test_loss : 0.009\n",
            "valid_loss=0.010, test_los0.008, Model Save\n",
            "epoch = 10, train_loss : 0.008, valid_loss : 0.010, test_loss : 0.008\n",
            "valid_loss=0.010, test_los0.008, Model Save\n",
            "epoch = 11, train_loss : 0.007, valid_loss : 0.010, test_loss : 0.008\n"
          ]
        },
        {
          "output_type": "stream",
          "name": "stderr",
          "text": [
            " 43%|████▎     | 13/30 [00:01<00:02,  8.44it/s]"
          ]
        },
        {
          "output_type": "stream",
          "name": "stdout",
          "text": [
            "epoch = 12, train_loss : 0.007, valid_loss : 0.010, test_loss : 0.008\n",
            "epoch = 13, train_loss : 0.007, valid_loss : 0.011, test_loss : 0.009\n"
          ]
        },
        {
          "output_type": "stream",
          "name": "stderr",
          "text": [
            "\r 47%|████▋     | 14/30 [00:01<00:01,  8.52it/s]"
          ]
        },
        {
          "output_type": "stream",
          "name": "stdout",
          "text": [
            "epoch = 14, train_loss : 0.006, valid_loss : 0.011, test_loss : 0.009\n",
            "epoch = 15, train_loss : 0.006, valid_loss : 0.011, test_loss : 0.009\n",
            "epoch = 16, train_loss : 0.006, valid_loss : 0.011, test_loss : 0.009\n"
          ]
        },
        {
          "output_type": "stream",
          "name": "stderr",
          "text": [
            " 60%|██████    | 18/30 [00:02<00:01,  8.89it/s]"
          ]
        },
        {
          "output_type": "stream",
          "name": "stdout",
          "text": [
            "epoch = 17, train_loss : 0.006, valid_loss : 0.011, test_loss : 0.009\n",
            "epoch = 18, train_loss : 0.006, valid_loss : 0.011, test_loss : 0.009\n"
          ]
        },
        {
          "output_type": "stream",
          "name": "stderr",
          "text": [
            " 67%|██████▋   | 20/30 [00:02<00:01,  8.64it/s]"
          ]
        },
        {
          "output_type": "stream",
          "name": "stdout",
          "text": [
            "epoch = 19, train_loss : 0.006, valid_loss : 0.011, test_loss : 0.009\n",
            "epoch = 20, train_loss : 0.006, valid_loss : 0.011, test_loss : 0.009\n"
          ]
        },
        {
          "output_type": "stream",
          "name": "stderr",
          "text": [
            " 73%|███████▎  | 22/30 [00:02<00:00,  8.18it/s]"
          ]
        },
        {
          "output_type": "stream",
          "name": "stdout",
          "text": [
            "epoch = 21, train_loss : 0.006, valid_loss : 0.011, test_loss : 0.009\n",
            "epoch = 22, train_loss : 0.006, valid_loss : 0.011, test_loss : 0.009\n"
          ]
        },
        {
          "output_type": "stream",
          "name": "stderr",
          "text": [
            " 83%|████████▎ | 25/30 [00:02<00:00, 10.06it/s]"
          ]
        },
        {
          "output_type": "stream",
          "name": "stdout",
          "text": [
            "epoch = 23, train_loss : 0.006, valid_loss : 0.011, test_loss : 0.009\n",
            "epoch = 24, train_loss : 0.006, valid_loss : 0.011, test_loss : 0.009\n",
            "epoch = 25, train_loss : 0.006, valid_loss : 0.011, test_loss : 0.009\n"
          ]
        },
        {
          "output_type": "stream",
          "name": "stderr",
          "text": [
            "\r 90%|█████████ | 27/30 [00:03<00:00, 10.95it/s]"
          ]
        },
        {
          "output_type": "stream",
          "name": "stdout",
          "text": [
            "epoch = 26, train_loss : 0.006, valid_loss : 0.010, test_loss : 0.009\n",
            "epoch = 27, train_loss : 0.006, valid_loss : 0.010, test_loss : 0.008\n",
            "epoch = 28, train_loss : 0.006, valid_loss : 0.010, test_loss : 0.008\n"
          ]
        },
        {
          "output_type": "stream",
          "name": "stderr",
          "text": [
            "100%|██████████| 30/30 [00:03<00:00,  9.27it/s]"
          ]
        },
        {
          "output_type": "stream",
          "name": "stdout",
          "text": [
            "valid_loss=0.010, test_los0.008, Model Save\n",
            "epoch = 29, train_loss : 0.006, valid_loss : 0.010, test_loss : 0.008\n",
            "valid_loss=0.010, test_los0.008, Model Save\n",
            "epoch = 30, train_loss : 0.005, valid_loss : 0.010, test_loss : 0.008\n"
          ]
        },
        {
          "output_type": "stream",
          "name": "stderr",
          "text": [
            "\n",
            "  7%|▋         | 2/30 [00:00<00:01, 14.60it/s]"
          ]
        },
        {
          "output_type": "stream",
          "name": "stdout",
          "text": [
            "valid_loss=0.002, test_los1292716023287417504621524766687232.000, Model Save\n",
            "epoch = 1, train_loss : 0.023, valid_loss : 0.002, test_loss : 1292716023287417504621524766687232.000\n",
            "valid_loss=0.000, test_los1374645293596150086638631424884736.000, Model Save\n",
            "epoch = 2, train_loss : 0.000, valid_loss : 0.000, test_loss : 1374645293596150086638631424884736.000\n",
            "valid_loss=0.000, test_los1356829170035764715067351953833984.000, Model Save\n",
            "epoch = 3, train_loss : 0.000, valid_loss : 0.000, test_loss : 1356829170035764715067351953833984.000\n"
          ]
        },
        {
          "output_type": "stream",
          "name": "stderr",
          "text": [
            " 20%|██        | 6/30 [00:00<00:01, 13.55it/s]"
          ]
        },
        {
          "output_type": "stream",
          "name": "stdout",
          "text": [
            "valid_loss=0.000, test_los1356994125545999491988982262136832.000, Model Save\n",
            "epoch = 4, train_loss : 0.000, valid_loss : 0.000, test_loss : 1356994125545999491988982262136832.000\n",
            "valid_loss=0.000, test_los1357460674198305169680084869578752.000, Model Save\n",
            "epoch = 5, train_loss : 0.000, valid_loss : 0.000, test_loss : 1357460674198305169680084869578752.000\n",
            "valid_loss=0.000, test_los1357367054982834212796795623309312.000, Model Save\n",
            "epoch = 6, train_loss : 0.000, valid_loss : 0.000, test_loss : 1357367054982834212796795623309312.000\n"
          ]
        },
        {
          "output_type": "stream",
          "name": "stderr",
          "text": [
            "\r 27%|██▋       | 8/30 [00:00<00:01, 13.28it/s]"
          ]
        },
        {
          "output_type": "stream",
          "name": "stdout",
          "text": [
            "valid_loss=0.000, test_los1357374327880565014405910655664128.000, Model Save\n",
            "epoch = 7, train_loss : 0.000, valid_loss : 0.000, test_loss : 1357374327880565014405910655664128.000\n",
            "valid_loss=0.000, test_los1357374792108079746423513742835712.000, Model Save\n",
            "epoch = 8, train_loss : 0.000, valid_loss : 0.000, test_loss : 1357374792108079746423513742835712.000\n",
            "valid_loss=0.000, test_los1357374792108079746423513742835712.000, Model Save\n",
            "epoch = 9, train_loss : 0.000, valid_loss : 0.000, test_loss : 1357374792108079746423513742835712.000\n"
          ]
        },
        {
          "output_type": "stream",
          "name": "stderr",
          "text": [
            " 40%|████      | 12/30 [00:00<00:01, 12.62it/s]"
          ]
        },
        {
          "output_type": "stream",
          "name": "stdout",
          "text": [
            "epoch = 10, train_loss : 0.000, valid_loss : 0.000, test_loss : 1357374792108079746423513742835712.000\n",
            "epoch = 11, train_loss : 0.000, valid_loss : 0.000, test_loss : 1357374792108079746423513742835712.000\n",
            "valid_loss=0.000, test_los1357374792108079746423513742835712.000, Model Save\n",
            "epoch = 12, train_loss : 0.000, valid_loss : 0.000, test_loss : 1357374792108079746423513742835712.000\n"
          ]
        },
        {
          "output_type": "stream",
          "name": "stderr",
          "text": [
            "\r 47%|████▋     | 14/30 [00:01<00:01, 12.49it/s]"
          ]
        },
        {
          "output_type": "stream",
          "name": "stdout",
          "text": [
            "epoch = 13, train_loss : 0.000, valid_loss : 0.000, test_loss : 1357374792108079746423513742835712.000\n",
            "epoch = 14, train_loss : 0.000, valid_loss : 0.000, test_loss : 1357374792108079746423513742835712.000\n",
            "epoch = 15, train_loss : 0.000, valid_loss : 0.000, test_loss : 1357374792108079746423513742835712.000\n"
          ]
        },
        {
          "output_type": "stream",
          "name": "stderr",
          "text": [
            " 60%|██████    | 18/30 [00:01<00:00, 12.57it/s]"
          ]
        },
        {
          "output_type": "stream",
          "name": "stdout",
          "text": [
            "epoch = 16, train_loss : 0.000, valid_loss : 0.000, test_loss : 1357374792108079746423513742835712.000\n",
            "epoch = 17, train_loss : 0.000, valid_loss : 0.000, test_loss : 1357374792108079746423513742835712.000\n",
            "valid_loss=0.000, test_los1357375101593089567768582467616768.000, Model Save\n",
            "epoch = 18, train_loss : 0.000, valid_loss : 0.000, test_loss : 1357375101593089567768582467616768.000\n"
          ]
        },
        {
          "output_type": "stream",
          "name": "stderr",
          "text": [
            "\r 67%|██████▋   | 20/30 [00:01<00:00, 12.77it/s]"
          ]
        },
        {
          "output_type": "stream",
          "name": "stdout",
          "text": [
            "valid_loss=0.000, test_los1357375101593089567768582467616768.000, Model Save\n",
            "epoch = 19, train_loss : 0.000, valid_loss : 0.000, test_loss : 1357375101593089567768582467616768.000\n",
            "epoch = 20, train_loss : 0.000, valid_loss : 0.000, test_loss : 1357375101593089567768582467616768.000\n",
            "epoch = 21, train_loss : 0.000, valid_loss : 0.000, test_loss : 1357375101593089567768582467616768.000\n"
          ]
        },
        {
          "output_type": "stream",
          "name": "stderr",
          "text": [
            " 80%|████████  | 24/30 [00:01<00:00, 12.94it/s]"
          ]
        },
        {
          "output_type": "stream",
          "name": "stdout",
          "text": [
            "epoch = 22, train_loss : 0.000, valid_loss : 0.000, test_loss : 1357375101593089567768582467616768.000\n",
            "valid_loss=0.000, test_los1357375101593089567768582467616768.000, Model Save\n",
            "epoch = 23, train_loss : 0.000, valid_loss : 0.000, test_loss : 1357375101593089567768582467616768.000\n",
            "epoch = 24, train_loss : 0.000, valid_loss : 0.000, test_loss : 1357375101593089567768582467616768.000\n"
          ]
        },
        {
          "output_type": "stream",
          "name": "stderr",
          "text": [
            "\r 87%|████████▋ | 26/30 [00:02<00:00, 12.63it/s]"
          ]
        },
        {
          "output_type": "stream",
          "name": "stdout",
          "text": [
            "epoch = 25, train_loss : 0.000, valid_loss : 0.000, test_loss : 1357375101593089567768582467616768.000\n",
            "epoch = 26, train_loss : 0.000, valid_loss : 0.000, test_loss : 1357375101593089567768582467616768.000\n",
            "epoch = 27, train_loss : 0.000, valid_loss : 0.000, test_loss : 1357375101593089567768582467616768.000\n"
          ]
        },
        {
          "output_type": "stream",
          "name": "stderr",
          "text": [
            "100%|██████████| 30/30 [00:02<00:00, 12.87it/s]"
          ]
        },
        {
          "output_type": "stream",
          "name": "stdout",
          "text": [
            "epoch = 28, train_loss : 0.000, valid_loss : 0.000, test_loss : 1357375101593089567768582467616768.000\n",
            "epoch = 29, train_loss : 0.000, valid_loss : 0.000, test_loss : 1357375101593089567768582467616768.000\n",
            "epoch = 30, train_loss : 0.000, valid_loss : 0.000, test_loss : 1357375101593089567768582467616768.000\n"
          ]
        },
        {
          "output_type": "stream",
          "name": "stderr",
          "text": [
            "\n",
            "  7%|▋         | 2/30 [00:00<00:02, 13.19it/s]"
          ]
        },
        {
          "output_type": "stream",
          "name": "stdout",
          "text": [
            "valid_loss=0.146, test_los0.298, Model Save\n",
            "epoch = 1, train_loss : 0.093, valid_loss : 0.146, test_loss : 0.298\n",
            "epoch = 2, train_loss : 0.059, valid_loss : 0.174, test_loss : 0.450\n",
            "epoch = 3, train_loss : 0.049, valid_loss : 0.170, test_loss : 0.473\n"
          ]
        },
        {
          "output_type": "stream",
          "name": "stderr",
          "text": [
            " 20%|██        | 6/30 [00:00<00:01, 13.41it/s]"
          ]
        },
        {
          "output_type": "stream",
          "name": "stdout",
          "text": [
            "epoch = 4, train_loss : 0.044, valid_loss : 0.151, test_loss : 0.426\n",
            "valid_loss=0.129, test_los0.357, Model Save\n",
            "epoch = 5, train_loss : 0.040, valid_loss : 0.129, test_loss : 0.357\n",
            "valid_loss=0.108, test_los0.293, Model Save\n",
            "epoch = 6, train_loss : 0.036, valid_loss : 0.108, test_loss : 0.293\n"
          ]
        },
        {
          "output_type": "stream",
          "name": "stderr",
          "text": [
            "\r 27%|██▋       | 8/30 [00:00<00:01, 13.43it/s]"
          ]
        },
        {
          "output_type": "stream",
          "name": "stdout",
          "text": [
            "valid_loss=0.091, test_los0.239, Model Save\n",
            "epoch = 7, train_loss : 0.033, valid_loss : 0.091, test_loss : 0.239\n",
            "valid_loss=0.077, test_los0.194, Model Save\n",
            "epoch = 8, train_loss : 0.030, valid_loss : 0.077, test_loss : 0.194\n",
            "valid_loss=0.065, test_los0.157, Model Save\n",
            "epoch = 9, train_loss : 0.028, valid_loss : 0.065, test_loss : 0.157\n"
          ]
        },
        {
          "output_type": "stream",
          "name": "stderr",
          "text": [
            " 40%|████      | 12/30 [00:00<00:01, 13.02it/s]"
          ]
        },
        {
          "output_type": "stream",
          "name": "stdout",
          "text": [
            "valid_loss=0.055, test_los0.126, Model Save\n",
            "epoch = 10, train_loss : 0.026, valid_loss : 0.055, test_loss : 0.126\n",
            "valid_loss=0.048, test_los0.102, Model Save\n",
            "epoch = 11, train_loss : 0.024, valid_loss : 0.048, test_loss : 0.102\n",
            "valid_loss=0.042, test_los0.083, Model Save\n",
            "epoch = 12, train_loss : 0.023, valid_loss : 0.042, test_loss : 0.083\n"
          ]
        },
        {
          "output_type": "stream",
          "name": "stderr",
          "text": [
            "\r 47%|████▋     | 14/30 [00:01<00:01, 12.85it/s]"
          ]
        },
        {
          "output_type": "stream",
          "name": "stdout",
          "text": [
            "valid_loss=0.037, test_los0.068, Model Save\n",
            "epoch = 13, train_loss : 0.022, valid_loss : 0.037, test_loss : 0.068\n",
            "valid_loss=0.033, test_los0.056, Model Save\n",
            "epoch = 14, train_loss : 0.021, valid_loss : 0.033, test_loss : 0.056\n",
            "valid_loss=0.030, test_los0.048, Model Save\n",
            "epoch = 15, train_loss : 0.020, valid_loss : 0.030, test_loss : 0.048\n"
          ]
        },
        {
          "output_type": "stream",
          "name": "stderr",
          "text": [
            " 60%|██████    | 18/30 [00:01<00:00, 13.26it/s]"
          ]
        },
        {
          "output_type": "stream",
          "name": "stdout",
          "text": [
            "valid_loss=0.028, test_los0.041, Model Save\n",
            "epoch = 16, train_loss : 0.020, valid_loss : 0.028, test_loss : 0.041\n",
            "valid_loss=0.027, test_los0.037, Model Save\n",
            "epoch = 17, train_loss : 0.019, valid_loss : 0.027, test_loss : 0.037\n",
            "valid_loss=0.026, test_los0.033, Model Save\n",
            "epoch = 18, train_loss : 0.019, valid_loss : 0.026, test_loss : 0.033\n"
          ]
        },
        {
          "output_type": "stream",
          "name": "stderr",
          "text": [
            "\r 67%|██████▋   | 20/30 [00:01<00:00, 12.51it/s]"
          ]
        },
        {
          "output_type": "stream",
          "name": "stdout",
          "text": [
            "valid_loss=0.025, test_los0.031, Model Save\n",
            "epoch = 19, train_loss : 0.018, valid_loss : 0.025, test_loss : 0.031\n",
            "valid_loss=0.024, test_los0.030, Model Save\n",
            "epoch = 20, train_loss : 0.018, valid_loss : 0.024, test_loss : 0.030\n",
            "valid_loss=0.024, test_los0.029, Model Save\n",
            "epoch = 21, train_loss : 0.018, valid_loss : 0.024, test_loss : 0.029\n"
          ]
        },
        {
          "output_type": "stream",
          "name": "stderr",
          "text": [
            " 80%|████████  | 24/30 [00:01<00:00, 12.38it/s]"
          ]
        },
        {
          "output_type": "stream",
          "name": "stdout",
          "text": [
            "valid_loss=0.024, test_los0.029, Model Save\n",
            "epoch = 22, train_loss : 0.018, valid_loss : 0.024, test_loss : 0.029\n",
            "valid_loss=0.024, test_los0.029, Model Save\n",
            "epoch = 23, train_loss : 0.017, valid_loss : 0.024, test_loss : 0.029\n",
            "valid_loss=0.024, test_los0.029, Model Save\n",
            "epoch = 24, train_loss : 0.017, valid_loss : 0.024, test_loss : 0.029\n"
          ]
        },
        {
          "output_type": "stream",
          "name": "stderr",
          "text": [
            "\r 87%|████████▋ | 26/30 [00:02<00:00, 12.38it/s]"
          ]
        },
        {
          "output_type": "stream",
          "name": "stdout",
          "text": [
            "valid_loss=0.024, test_los0.029, Model Save\n",
            "epoch = 25, train_loss : 0.017, valid_loss : 0.024, test_loss : 0.029\n",
            "epoch = 26, train_loss : 0.017, valid_loss : 0.024, test_loss : 0.029\n",
            "epoch = 27, train_loss : 0.017, valid_loss : 0.024, test_loss : 0.030\n"
          ]
        },
        {
          "output_type": "stream",
          "name": "stderr",
          "text": [
            "100%|██████████| 30/30 [00:02<00:00, 12.90it/s]"
          ]
        },
        {
          "output_type": "stream",
          "name": "stdout",
          "text": [
            "epoch = 28, train_loss : 0.017, valid_loss : 0.024, test_loss : 0.030\n",
            "epoch = 29, train_loss : 0.017, valid_loss : 0.024, test_loss : 0.030\n",
            "epoch = 30, train_loss : 0.017, valid_loss : 0.024, test_loss : 0.030\n"
          ]
        },
        {
          "output_type": "stream",
          "name": "stderr",
          "text": [
            "\n",
            "  7%|▋         | 2/30 [00:00<00:02, 13.00it/s]"
          ]
        },
        {
          "output_type": "stream",
          "name": "stdout",
          "text": [
            "valid_loss=0.058, test_los0.090, Model Save\n",
            "epoch = 1, train_loss : 0.064, valid_loss : 0.058, test_loss : 0.090\n",
            "valid_loss=0.058, test_los0.090, Model Save\n",
            "epoch = 2, train_loss : 0.053, valid_loss : 0.058, test_loss : 0.090\n",
            "valid_loss=0.051, test_los0.081, Model Save\n",
            "epoch = 3, train_loss : 0.049, valid_loss : 0.051, test_loss : 0.081\n"
          ]
        },
        {
          "output_type": "stream",
          "name": "stderr",
          "text": [
            " 20%|██        | 6/30 [00:00<00:01, 13.51it/s]"
          ]
        },
        {
          "output_type": "stream",
          "name": "stdout",
          "text": [
            "valid_loss=0.045, test_los0.073, Model Save\n",
            "epoch = 4, train_loss : 0.046, valid_loss : 0.045, test_loss : 0.073\n",
            "valid_loss=0.041, test_los0.068, Model Save\n",
            "epoch = 5, train_loss : 0.044, valid_loss : 0.041, test_loss : 0.068\n",
            "valid_loss=0.039, test_los0.063, Model Save\n",
            "epoch = 6, train_loss : 0.042, valid_loss : 0.039, test_loss : 0.063\n"
          ]
        },
        {
          "output_type": "stream",
          "name": "stderr",
          "text": [
            "\r 27%|██▋       | 8/30 [00:00<00:01, 12.86it/s]"
          ]
        },
        {
          "output_type": "stream",
          "name": "stdout",
          "text": [
            "valid_loss=0.037, test_los0.060, Model Save\n",
            "epoch = 7, train_loss : 0.041, valid_loss : 0.037, test_loss : 0.060\n",
            "valid_loss=0.035, test_los0.057, Model Save\n",
            "epoch = 8, train_loss : 0.040, valid_loss : 0.035, test_loss : 0.057\n",
            "valid_loss=0.034, test_los0.055, Model Save\n",
            "epoch = 9, train_loss : 0.039, valid_loss : 0.034, test_loss : 0.055\n"
          ]
        },
        {
          "output_type": "stream",
          "name": "stderr",
          "text": [
            " 40%|████      | 12/30 [00:00<00:01, 12.76it/s]"
          ]
        },
        {
          "output_type": "stream",
          "name": "stdout",
          "text": [
            "valid_loss=0.033, test_los0.053, Model Save\n",
            "epoch = 10, train_loss : 0.038, valid_loss : 0.033, test_loss : 0.053\n",
            "valid_loss=0.032, test_los0.051, Model Save\n",
            "epoch = 11, train_loss : 0.037, valid_loss : 0.032, test_loss : 0.051\n",
            "valid_loss=0.032, test_los0.050, Model Save\n",
            "epoch = 12, train_loss : 0.037, valid_loss : 0.032, test_loss : 0.050\n"
          ]
        },
        {
          "output_type": "stream",
          "name": "stderr",
          "text": [
            "\r 47%|████▋     | 14/30 [00:01<00:01, 12.39it/s]"
          ]
        },
        {
          "output_type": "stream",
          "name": "stdout",
          "text": [
            "valid_loss=0.031, test_los0.049, Model Save\n",
            "epoch = 13, train_loss : 0.036, valid_loss : 0.031, test_loss : 0.049\n",
            "valid_loss=0.031, test_los0.048, Model Save\n",
            "epoch = 14, train_loss : 0.036, valid_loss : 0.031, test_loss : 0.048\n",
            "valid_loss=0.030, test_los0.047, Model Save\n",
            "epoch = 15, train_loss : 0.035, valid_loss : 0.030, test_loss : 0.047\n"
          ]
        },
        {
          "output_type": "stream",
          "name": "stderr",
          "text": [
            " 60%|██████    | 18/30 [00:01<00:00, 12.45it/s]"
          ]
        },
        {
          "output_type": "stream",
          "name": "stdout",
          "text": [
            "valid_loss=0.030, test_los0.046, Model Save\n",
            "epoch = 16, train_loss : 0.035, valid_loss : 0.030, test_loss : 0.046\n",
            "valid_loss=0.030, test_los0.046, Model Save\n",
            "epoch = 17, train_loss : 0.034, valid_loss : 0.030, test_loss : 0.046\n",
            "valid_loss=0.030, test_los0.045, Model Save\n",
            "epoch = 18, train_loss : 0.034, valid_loss : 0.030, test_loss : 0.045\n"
          ]
        },
        {
          "output_type": "stream",
          "name": "stderr",
          "text": [
            "\r 67%|██████▋   | 20/30 [00:01<00:00, 12.26it/s]"
          ]
        },
        {
          "output_type": "stream",
          "name": "stdout",
          "text": [
            "valid_loss=0.029, test_los0.044, Model Save\n",
            "epoch = 19, train_loss : 0.034, valid_loss : 0.029, test_loss : 0.044\n",
            "valid_loss=0.029, test_los0.044, Model Save\n",
            "epoch = 20, train_loss : 0.033, valid_loss : 0.029, test_loss : 0.044\n",
            "valid_loss=0.029, test_los0.043, Model Save\n",
            "epoch = 21, train_loss : 0.033, valid_loss : 0.029, test_loss : 0.043\n"
          ]
        },
        {
          "output_type": "stream",
          "name": "stderr",
          "text": [
            " 80%|████████  | 24/30 [00:01<00:00, 11.77it/s]"
          ]
        },
        {
          "output_type": "stream",
          "name": "stdout",
          "text": [
            "valid_loss=0.029, test_los0.043, Model Save\n",
            "epoch = 22, train_loss : 0.033, valid_loss : 0.029, test_loss : 0.043\n",
            "valid_loss=0.029, test_los0.043, Model Save\n",
            "epoch = 23, train_loss : 0.032, valid_loss : 0.029, test_loss : 0.043\n",
            "valid_loss=0.028, test_los0.042, Model Save\n",
            "epoch = 24, train_loss : 0.032, valid_loss : 0.028, test_loss : 0.042\n"
          ]
        },
        {
          "output_type": "stream",
          "name": "stderr",
          "text": [
            "\r 87%|████████▋ | 26/30 [00:02<00:00, 11.98it/s]"
          ]
        },
        {
          "output_type": "stream",
          "name": "stdout",
          "text": [
            "valid_loss=0.028, test_los0.042, Model Save\n",
            "epoch = 25, train_loss : 0.032, valid_loss : 0.028, test_loss : 0.042\n",
            "valid_loss=0.028, test_los0.042, Model Save\n",
            "epoch = 26, train_loss : 0.032, valid_loss : 0.028, test_loss : 0.042\n",
            "valid_loss=0.028, test_los0.041, Model Save\n",
            "epoch = 27, train_loss : 0.032, valid_loss : 0.028, test_loss : 0.041\n"
          ]
        },
        {
          "output_type": "stream",
          "name": "stderr",
          "text": [
            "100%|██████████| 30/30 [00:02<00:00, 12.40it/s]"
          ]
        },
        {
          "output_type": "stream",
          "name": "stdout",
          "text": [
            "valid_loss=0.028, test_los0.041, Model Save\n",
            "epoch = 28, train_loss : 0.031, valid_loss : 0.028, test_loss : 0.041\n",
            "valid_loss=0.028, test_los0.041, Model Save\n",
            "epoch = 29, train_loss : 0.031, valid_loss : 0.028, test_loss : 0.041\n",
            "valid_loss=0.028, test_los0.041, Model Save\n",
            "epoch = 30, train_loss : 0.031, valid_loss : 0.028, test_loss : 0.041\n"
          ]
        },
        {
          "output_type": "stream",
          "name": "stderr",
          "text": [
            "\n",
            " 10%|█         | 3/30 [00:00<00:02, 12.50it/s]"
          ]
        },
        {
          "output_type": "stream",
          "name": "stdout",
          "text": [
            "valid_loss=0.160, test_los0.442, Model Save\n",
            "epoch = 1, train_loss : 0.157, valid_loss : 0.160, test_loss : 0.442\n",
            "valid_loss=0.152, test_los0.531, Model Save\n",
            "epoch = 2, train_loss : 0.125, valid_loss : 0.152, test_loss : 0.531\n",
            "valid_loss=0.139, test_los0.511, Model Save\n",
            "epoch = 3, train_loss : 0.112, valid_loss : 0.139, test_loss : 0.511\n"
          ]
        },
        {
          "output_type": "stream",
          "name": "stderr",
          "text": [
            "\r 17%|█▋        | 5/30 [00:00<00:01, 12.59it/s]"
          ]
        },
        {
          "output_type": "stream",
          "name": "stdout",
          "text": [
            "valid_loss=0.126, test_los0.467, Model Save\n",
            "epoch = 4, train_loss : 0.101, valid_loss : 0.126, test_loss : 0.467\n",
            "valid_loss=0.115, test_los0.409, Model Save\n",
            "epoch = 5, train_loss : 0.092, valid_loss : 0.115, test_loss : 0.409\n",
            "valid_loss=0.107, test_los0.364, Model Save\n",
            "epoch = 6, train_loss : 0.085, valid_loss : 0.107, test_loss : 0.364\n"
          ]
        },
        {
          "output_type": "stream",
          "name": "stderr",
          "text": [
            " 30%|███       | 9/30 [00:00<00:01, 13.06it/s]"
          ]
        },
        {
          "output_type": "stream",
          "name": "stdout",
          "text": [
            "valid_loss=0.100, test_los0.326, Model Save\n",
            "epoch = 7, train_loss : 0.079, valid_loss : 0.100, test_loss : 0.326\n",
            "valid_loss=0.094, test_los0.301, Model Save\n",
            "epoch = 8, train_loss : 0.073, valid_loss : 0.094, test_loss : 0.301\n",
            "valid_loss=0.090, test_los0.281, Model Save\n",
            "epoch = 9, train_loss : 0.069, valid_loss : 0.090, test_loss : 0.281\n"
          ]
        },
        {
          "output_type": "stream",
          "name": "stderr",
          "text": [
            "\r 37%|███▋      | 11/30 [00:00<00:01, 12.77it/s]"
          ]
        },
        {
          "output_type": "stream",
          "name": "stdout",
          "text": [
            "valid_loss=0.087, test_los0.268, Model Save\n",
            "epoch = 10, train_loss : 0.066, valid_loss : 0.087, test_loss : 0.268\n",
            "valid_loss=0.084, test_los0.259, Model Save\n",
            "epoch = 11, train_loss : 0.063, valid_loss : 0.084, test_loss : 0.259\n",
            "valid_loss=0.082, test_los0.253, Model Save\n",
            "epoch = 12, train_loss : 0.061, valid_loss : 0.082, test_loss : 0.253\n"
          ]
        },
        {
          "output_type": "stream",
          "name": "stderr",
          "text": [
            "\r 43%|████▎     | 13/30 [00:01<00:01, 10.49it/s]"
          ]
        },
        {
          "output_type": "stream",
          "name": "stdout",
          "text": [
            "valid_loss=0.081, test_los0.249, Model Save\n",
            "epoch = 13, train_loss : 0.059, valid_loss : 0.081, test_loss : 0.249\n",
            "valid_loss=0.080, test_los0.246, Model Save\n",
            "epoch = 14, train_loss : 0.058, valid_loss : 0.080, test_loss : 0.246\n"
          ]
        },
        {
          "output_type": "stream",
          "name": "stderr",
          "text": [
            "\r 50%|█████     | 15/30 [00:01<00:01,  9.58it/s]"
          ]
        },
        {
          "output_type": "stream",
          "name": "stdout",
          "text": [
            "valid_loss=0.079, test_los0.244, Model Save\n",
            "epoch = 15, train_loss : 0.057, valid_loss : 0.079, test_loss : 0.244\n",
            "valid_loss=0.078, test_los0.243, Model Save\n",
            "epoch = 16, train_loss : 0.056, valid_loss : 0.078, test_loss : 0.243\n"
          ]
        },
        {
          "output_type": "stream",
          "name": "stderr",
          "text": [
            " 60%|██████    | 18/30 [00:01<00:01,  9.02it/s]"
          ]
        },
        {
          "output_type": "stream",
          "name": "stdout",
          "text": [
            "valid_loss=0.077, test_los0.242, Model Save\n",
            "epoch = 17, train_loss : 0.055, valid_loss : 0.077, test_loss : 0.242\n",
            "valid_loss=0.077, test_los0.241, Model Save\n",
            "epoch = 18, train_loss : 0.054, valid_loss : 0.077, test_loss : 0.241\n"
          ]
        },
        {
          "output_type": "stream",
          "name": "stderr",
          "text": [
            " 67%|██████▋   | 20/30 [00:01<00:01,  8.61it/s]"
          ]
        },
        {
          "output_type": "stream",
          "name": "stdout",
          "text": [
            "valid_loss=0.076, test_los0.240, Model Save\n",
            "epoch = 19, train_loss : 0.054, valid_loss : 0.076, test_loss : 0.240\n",
            "valid_loss=0.076, test_los0.239, Model Save\n",
            "epoch = 20, train_loss : 0.053, valid_loss : 0.076, test_loss : 0.239\n"
          ]
        },
        {
          "output_type": "stream",
          "name": "stderr",
          "text": [
            " 73%|███████▎  | 22/30 [00:02<00:01,  7.83it/s]"
          ]
        },
        {
          "output_type": "stream",
          "name": "stdout",
          "text": [
            "valid_loss=0.075, test_los0.238, Model Save\n",
            "epoch = 21, train_loss : 0.052, valid_loss : 0.075, test_loss : 0.238\n",
            "valid_loss=0.075, test_los0.237, Model Save\n",
            "epoch = 22, train_loss : 0.052, valid_loss : 0.075, test_loss : 0.237\n"
          ]
        },
        {
          "output_type": "stream",
          "name": "stderr",
          "text": [
            " 80%|████████  | 24/30 [00:02<00:00,  7.82it/s]"
          ]
        },
        {
          "output_type": "stream",
          "name": "stdout",
          "text": [
            "valid_loss=0.074, test_los0.235, Model Save\n",
            "epoch = 23, train_loss : 0.052, valid_loss : 0.074, test_loss : 0.235\n",
            "valid_loss=0.074, test_los0.234, Model Save\n",
            "epoch = 24, train_loss : 0.051, valid_loss : 0.074, test_loss : 0.234\n"
          ]
        },
        {
          "output_type": "stream",
          "name": "stderr",
          "text": [
            " 87%|████████▋ | 26/30 [00:02<00:00,  7.47it/s]"
          ]
        },
        {
          "output_type": "stream",
          "name": "stdout",
          "text": [
            "valid_loss=0.073, test_los0.233, Model Save\n",
            "epoch = 25, train_loss : 0.051, valid_loss : 0.073, test_loss : 0.233\n",
            "valid_loss=0.073, test_los0.232, Model Save\n",
            "epoch = 26, train_loss : 0.051, valid_loss : 0.073, test_loss : 0.232\n"
          ]
        },
        {
          "output_type": "stream",
          "name": "stderr",
          "text": [
            " 93%|█████████▎| 28/30 [00:03<00:00,  8.00it/s]"
          ]
        },
        {
          "output_type": "stream",
          "name": "stdout",
          "text": [
            "valid_loss=0.073, test_los0.230, Model Save\n",
            "epoch = 27, train_loss : 0.050, valid_loss : 0.073, test_loss : 0.230\n",
            "valid_loss=0.072, test_los0.229, Model Save\n",
            "epoch = 28, train_loss : 0.050, valid_loss : 0.072, test_loss : 0.229\n"
          ]
        },
        {
          "output_type": "stream",
          "name": "stderr",
          "text": [
            "100%|██████████| 30/30 [00:03<00:00,  9.11it/s]"
          ]
        },
        {
          "output_type": "stream",
          "name": "stdout",
          "text": [
            "valid_loss=0.072, test_los0.228, Model Save\n",
            "epoch = 29, train_loss : 0.050, valid_loss : 0.072, test_loss : 0.228\n",
            "valid_loss=0.072, test_los0.227, Model Save\n",
            "epoch = 30, train_loss : 0.050, valid_loss : 0.072, test_loss : 0.227\n"
          ]
        },
        {
          "output_type": "stream",
          "name": "stderr",
          "text": [
            "\n",
            "  7%|▋         | 2/30 [00:00<00:03,  8.99it/s]"
          ]
        },
        {
          "output_type": "stream",
          "name": "stdout",
          "text": [
            "valid_loss=0.146, test_los0.133, Model Save\n",
            "epoch = 1, train_loss : 0.424, valid_loss : 0.146, test_loss : 0.133\n",
            "valid_loss=0.128, test_los0.111, Model Save\n",
            "epoch = 2, train_loss : 0.367, valid_loss : 0.128, test_loss : 0.111\n"
          ]
        },
        {
          "output_type": "stream",
          "name": "stderr",
          "text": [
            " 13%|█▎        | 4/30 [00:00<00:03,  8.04it/s]"
          ]
        },
        {
          "output_type": "stream",
          "name": "stdout",
          "text": [
            "valid_loss=0.115, test_los0.096, Model Save\n",
            "epoch = 3, train_loss : 0.329, valid_loss : 0.115, test_loss : 0.096\n",
            "valid_loss=0.107, test_los0.087, Model Save\n",
            "epoch = 4, train_loss : 0.297, valid_loss : 0.107, test_loss : 0.087\n"
          ]
        },
        {
          "output_type": "stream",
          "name": "stderr",
          "text": [
            " 20%|██        | 6/30 [00:00<00:03,  7.69it/s]"
          ]
        },
        {
          "output_type": "stream",
          "name": "stdout",
          "text": [
            "valid_loss=0.101, test_los0.082, Model Save\n",
            "epoch = 5, train_loss : 0.271, valid_loss : 0.101, test_loss : 0.082\n",
            "valid_loss=0.098, test_los0.079, Model Save\n",
            "epoch = 6, train_loss : 0.251, valid_loss : 0.098, test_loss : 0.079\n"
          ]
        },
        {
          "output_type": "stream",
          "name": "stderr",
          "text": [
            " 27%|██▋       | 8/30 [00:01<00:02,  7.52it/s]"
          ]
        },
        {
          "output_type": "stream",
          "name": "stdout",
          "text": [
            "valid_loss=0.095, test_los0.078, Model Save\n",
            "epoch = 7, train_loss : 0.235, valid_loss : 0.095, test_loss : 0.078\n",
            "valid_loss=0.094, test_los0.077, Model Save\n",
            "epoch = 8, train_loss : 0.222, valid_loss : 0.094, test_loss : 0.077\n"
          ]
        },
        {
          "output_type": "stream",
          "name": "stderr",
          "text": [
            " 33%|███▎      | 10/30 [00:01<00:02,  7.32it/s]"
          ]
        },
        {
          "output_type": "stream",
          "name": "stdout",
          "text": [
            "valid_loss=0.092, test_los0.077, Model Save\n",
            "epoch = 9, train_loss : 0.211, valid_loss : 0.092, test_loss : 0.077\n",
            "valid_loss=0.092, test_los0.077, Model Save\n",
            "epoch = 10, train_loss : 0.202, valid_loss : 0.092, test_loss : 0.077\n"
          ]
        },
        {
          "output_type": "stream",
          "name": "stderr",
          "text": [
            " 43%|████▎     | 13/30 [00:01<00:01,  9.70it/s]"
          ]
        },
        {
          "output_type": "stream",
          "name": "stdout",
          "text": [
            "valid_loss=0.091, test_los0.077, Model Save\n",
            "epoch = 11, train_loss : 0.195, valid_loss : 0.091, test_loss : 0.077\n",
            "valid_loss=0.090, test_los0.077, Model Save\n",
            "epoch = 12, train_loss : 0.188, valid_loss : 0.090, test_loss : 0.077\n",
            "valid_loss=0.089, test_los0.077, Model Save\n",
            "epoch = 13, train_loss : 0.182, valid_loss : 0.089, test_loss : 0.077\n"
          ]
        },
        {
          "output_type": "stream",
          "name": "stderr",
          "text": [
            " 53%|█████▎    | 16/30 [00:01<00:01, 10.66it/s]"
          ]
        },
        {
          "output_type": "stream",
          "name": "stdout",
          "text": [
            "valid_loss=0.088, test_los0.077, Model Save\n",
            "epoch = 14, train_loss : 0.177, valid_loss : 0.088, test_loss : 0.077\n",
            "valid_loss=0.087, test_los0.076, Model Save\n",
            "epoch = 15, train_loss : 0.173, valid_loss : 0.087, test_loss : 0.076\n",
            "valid_loss=0.085, test_los0.075, Model Save\n",
            "epoch = 16, train_loss : 0.168, valid_loss : 0.085, test_loss : 0.075\n"
          ]
        },
        {
          "output_type": "stream",
          "name": "stderr",
          "text": [
            "\r 60%|██████    | 18/30 [00:01<00:01, 11.20it/s]"
          ]
        },
        {
          "output_type": "stream",
          "name": "stdout",
          "text": [
            "valid_loss=0.084, test_los0.075, Model Save\n",
            "epoch = 17, train_loss : 0.164, valid_loss : 0.084, test_loss : 0.075\n",
            "valid_loss=0.083, test_los0.074, Model Save\n",
            "epoch = 18, train_loss : 0.161, valid_loss : 0.083, test_loss : 0.074\n",
            "valid_loss=0.082, test_los0.073, Model Save\n",
            "epoch = 19, train_loss : 0.157, valid_loss : 0.082, test_loss : 0.073\n"
          ]
        },
        {
          "output_type": "stream",
          "name": "stderr",
          "text": [
            " 73%|███████▎  | 22/30 [00:02<00:00, 12.33it/s]"
          ]
        },
        {
          "output_type": "stream",
          "name": "stdout",
          "text": [
            "valid_loss=0.080, test_los0.073, Model Save\n",
            "epoch = 20, train_loss : 0.154, valid_loss : 0.080, test_loss : 0.073\n",
            "valid_loss=0.079, test_los0.072, Model Save\n",
            "epoch = 21, train_loss : 0.151, valid_loss : 0.079, test_loss : 0.072\n",
            "valid_loss=0.078, test_los0.071, Model Save\n",
            "epoch = 22, train_loss : 0.148, valid_loss : 0.078, test_loss : 0.071\n"
          ]
        },
        {
          "output_type": "stream",
          "name": "stderr",
          "text": [
            "\r 80%|████████  | 24/30 [00:02<00:00, 12.20it/s]"
          ]
        },
        {
          "output_type": "stream",
          "name": "stdout",
          "text": [
            "valid_loss=0.077, test_los0.070, Model Save\n",
            "epoch = 23, train_loss : 0.146, valid_loss : 0.077, test_loss : 0.070\n",
            "valid_loss=0.075, test_los0.070, Model Save\n",
            "epoch = 24, train_loss : 0.143, valid_loss : 0.075, test_loss : 0.070\n",
            "valid_loss=0.074, test_los0.069, Model Save\n",
            "epoch = 25, train_loss : 0.141, valid_loss : 0.074, test_loss : 0.069\n"
          ]
        },
        {
          "output_type": "stream",
          "name": "stderr",
          "text": [
            " 93%|█████████▎| 28/30 [00:02<00:00, 12.00it/s]"
          ]
        },
        {
          "output_type": "stream",
          "name": "stdout",
          "text": [
            "valid_loss=0.073, test_los0.068, Model Save\n",
            "epoch = 26, train_loss : 0.139, valid_loss : 0.073, test_loss : 0.068\n",
            "valid_loss=0.072, test_los0.068, Model Save\n",
            "epoch = 27, train_loss : 0.137, valid_loss : 0.072, test_loss : 0.068\n",
            "valid_loss=0.071, test_los0.067, Model Save\n",
            "epoch = 28, train_loss : 0.135, valid_loss : 0.071, test_loss : 0.067\n"
          ]
        },
        {
          "output_type": "stream",
          "name": "stderr",
          "text": [
            "100%|██████████| 30/30 [00:02<00:00, 10.14it/s]\n"
          ]
        },
        {
          "output_type": "stream",
          "name": "stdout",
          "text": [
            "valid_loss=0.070, test_los0.067, Model Save\n",
            "epoch = 29, train_loss : 0.133, valid_loss : 0.070, test_loss : 0.067\n",
            "valid_loss=0.069, test_los0.066, Model Save\n",
            "epoch = 30, train_loss : 0.131, valid_loss : 0.069, test_loss : 0.066\n"
          ]
        },
        {
          "output_type": "stream",
          "name": "stderr",
          "text": [
            "  7%|▋         | 2/30 [00:00<00:02, 13.18it/s]"
          ]
        },
        {
          "output_type": "stream",
          "name": "stdout",
          "text": [
            "valid_loss=0.287, test_los0.175, Model Save\n",
            "epoch = 1, train_loss : 0.165, valid_loss : 0.287, test_loss : 0.175\n",
            "epoch = 2, train_loss : 0.124, valid_loss : 0.302, test_loss : 0.160\n",
            "valid_loss=0.267, test_los0.139, Model Save\n",
            "epoch = 3, train_loss : 0.109, valid_loss : 0.267, test_loss : 0.139\n"
          ]
        },
        {
          "output_type": "stream",
          "name": "stderr",
          "text": [
            " 20%|██        | 6/30 [00:00<00:01, 12.46it/s]"
          ]
        },
        {
          "output_type": "stream",
          "name": "stdout",
          "text": [
            "valid_loss=0.228, test_los0.120, Model Save\n",
            "epoch = 4, train_loss : 0.099, valid_loss : 0.228, test_loss : 0.120\n",
            "valid_loss=0.195, test_los0.105, Model Save\n",
            "epoch = 5, train_loss : 0.090, valid_loss : 0.195, test_loss : 0.105\n",
            "valid_loss=0.169, test_los0.093, Model Save\n",
            "epoch = 6, train_loss : 0.083, valid_loss : 0.169, test_loss : 0.093\n"
          ]
        },
        {
          "output_type": "stream",
          "name": "stderr",
          "text": [
            "\r 27%|██▋       | 8/30 [00:00<00:01, 12.49it/s]"
          ]
        },
        {
          "output_type": "stream",
          "name": "stdout",
          "text": [
            "valid_loss=0.149, test_los0.084, Model Save\n",
            "epoch = 7, train_loss : 0.077, valid_loss : 0.149, test_loss : 0.084\n",
            "valid_loss=0.133, test_los0.076, Model Save\n",
            "epoch = 8, train_loss : 0.073, valid_loss : 0.133, test_loss : 0.076\n",
            "valid_loss=0.120, test_los0.071, Model Save\n",
            "epoch = 9, train_loss : 0.070, valid_loss : 0.120, test_loss : 0.071\n"
          ]
        },
        {
          "output_type": "stream",
          "name": "stderr",
          "text": [
            " 40%|████      | 12/30 [00:00<00:01, 12.86it/s]"
          ]
        },
        {
          "output_type": "stream",
          "name": "stdout",
          "text": [
            "valid_loss=0.110, test_los0.067, Model Save\n",
            "epoch = 10, train_loss : 0.067, valid_loss : 0.110, test_loss : 0.067\n",
            "valid_loss=0.103, test_los0.063, Model Save\n",
            "epoch = 11, train_loss : 0.065, valid_loss : 0.103, test_loss : 0.063\n",
            "valid_loss=0.097, test_los0.061, Model Save\n",
            "epoch = 12, train_loss : 0.063, valid_loss : 0.097, test_loss : 0.061\n"
          ]
        },
        {
          "output_type": "stream",
          "name": "stderr",
          "text": [
            "\r 47%|████▋     | 14/30 [00:01<00:01, 12.87it/s]"
          ]
        },
        {
          "output_type": "stream",
          "name": "stdout",
          "text": [
            "valid_loss=0.092, test_los0.059, Model Save\n",
            "epoch = 13, train_loss : 0.061, valid_loss : 0.092, test_loss : 0.059\n",
            "valid_loss=0.089, test_los0.058, Model Save\n",
            "epoch = 14, train_loss : 0.060, valid_loss : 0.089, test_loss : 0.058\n",
            "valid_loss=0.086, test_los0.056, Model Save\n",
            "epoch = 15, train_loss : 0.059, valid_loss : 0.086, test_loss : 0.056\n"
          ]
        },
        {
          "output_type": "stream",
          "name": "stderr",
          "text": [
            " 60%|██████    | 18/30 [00:01<00:00, 12.78it/s]"
          ]
        },
        {
          "output_type": "stream",
          "name": "stdout",
          "text": [
            "valid_loss=0.083, test_los0.056, Model Save\n",
            "epoch = 16, train_loss : 0.058, valid_loss : 0.083, test_loss : 0.056\n",
            "valid_loss=0.081, test_los0.055, Model Save\n",
            "epoch = 17, train_loss : 0.058, valid_loss : 0.081, test_loss : 0.055\n",
            "valid_loss=0.080, test_los0.054, Model Save\n",
            "epoch = 18, train_loss : 0.057, valid_loss : 0.080, test_loss : 0.054\n"
          ]
        },
        {
          "output_type": "stream",
          "name": "stderr",
          "text": [
            "\r 67%|██████▋   | 20/30 [00:01<00:00, 13.01it/s]"
          ]
        },
        {
          "output_type": "stream",
          "name": "stdout",
          "text": [
            "valid_loss=0.079, test_los0.054, Model Save\n",
            "epoch = 19, train_loss : 0.057, valid_loss : 0.079, test_loss : 0.054\n",
            "valid_loss=0.078, test_los0.054, Model Save\n",
            "epoch = 20, train_loss : 0.056, valid_loss : 0.078, test_loss : 0.054\n",
            "valid_loss=0.077, test_los0.053, Model Save\n",
            "epoch = 21, train_loss : 0.056, valid_loss : 0.077, test_loss : 0.053\n"
          ]
        },
        {
          "output_type": "stream",
          "name": "stderr",
          "text": [
            " 80%|████████  | 24/30 [00:01<00:00, 13.26it/s]"
          ]
        },
        {
          "output_type": "stream",
          "name": "stdout",
          "text": [
            "valid_loss=0.076, test_los0.053, Model Save\n",
            "epoch = 22, train_loss : 0.055, valid_loss : 0.076, test_loss : 0.053\n",
            "valid_loss=0.075, test_los0.053, Model Save\n",
            "epoch = 23, train_loss : 0.055, valid_loss : 0.075, test_loss : 0.053\n",
            "valid_loss=0.075, test_los0.053, Model Save\n",
            "epoch = 24, train_loss : 0.055, valid_loss : 0.075, test_loss : 0.053\n"
          ]
        },
        {
          "output_type": "stream",
          "name": "stderr",
          "text": [
            "\r 87%|████████▋ | 26/30 [00:02<00:00, 12.99it/s]"
          ]
        },
        {
          "output_type": "stream",
          "name": "stdout",
          "text": [
            "valid_loss=0.074, test_los0.052, Model Save\n",
            "epoch = 25, train_loss : 0.054, valid_loss : 0.074, test_loss : 0.052\n",
            "valid_loss=0.074, test_los0.052, Model Save\n",
            "epoch = 26, train_loss : 0.054, valid_loss : 0.074, test_loss : 0.052\n",
            "valid_loss=0.073, test_los0.052, Model Save\n",
            "epoch = 27, train_loss : 0.054, valid_loss : 0.073, test_loss : 0.052\n"
          ]
        },
        {
          "output_type": "stream",
          "name": "stderr",
          "text": [
            "100%|██████████| 30/30 [00:02<00:00, 13.00it/s]"
          ]
        },
        {
          "output_type": "stream",
          "name": "stdout",
          "text": [
            "valid_loss=0.073, test_los0.052, Model Save\n",
            "epoch = 28, train_loss : 0.054, valid_loss : 0.073, test_loss : 0.052\n",
            "valid_loss=0.073, test_los0.052, Model Save\n",
            "epoch = 29, train_loss : 0.053, valid_loss : 0.073, test_loss : 0.052\n",
            "valid_loss=0.073, test_los0.052, Model Save\n",
            "epoch = 30, train_loss : 0.053, valid_loss : 0.073, test_loss : 0.052\n"
          ]
        },
        {
          "output_type": "stream",
          "name": "stderr",
          "text": [
            "\n",
            "  7%|▋         | 2/30 [00:00<00:02, 11.95it/s]"
          ]
        },
        {
          "output_type": "stream",
          "name": "stdout",
          "text": [
            "valid_loss=0.174, test_los0.579, Model Save\n",
            "epoch = 1, train_loss : 0.052, valid_loss : 0.174, test_loss : 0.579\n",
            "valid_loss=0.145, test_los0.504, Model Save\n",
            "epoch = 2, train_loss : 0.031, valid_loss : 0.145, test_loss : 0.504\n",
            "valid_loss=0.111, test_los0.387, Model Save\n",
            "epoch = 3, train_loss : 0.025, valid_loss : 0.111, test_loss : 0.387\n"
          ]
        },
        {
          "output_type": "stream",
          "name": "stderr",
          "text": [
            " 20%|██        | 6/30 [00:00<00:01, 12.05it/s]"
          ]
        },
        {
          "output_type": "stream",
          "name": "stdout",
          "text": [
            "valid_loss=0.083, test_los0.289, Model Save\n",
            "epoch = 4, train_loss : 0.021, valid_loss : 0.083, test_loss : 0.289\n",
            "valid_loss=0.063, test_los0.216, Model Save\n",
            "epoch = 5, train_loss : 0.018, valid_loss : 0.063, test_loss : 0.216\n",
            "valid_loss=0.047, test_los0.161, Model Save\n",
            "epoch = 6, train_loss : 0.016, valid_loss : 0.047, test_loss : 0.161\n"
          ]
        },
        {
          "output_type": "stream",
          "name": "stderr",
          "text": [
            "\r 27%|██▋       | 8/30 [00:00<00:01, 11.49it/s]"
          ]
        },
        {
          "output_type": "stream",
          "name": "stdout",
          "text": [
            "valid_loss=0.036, test_los0.121, Model Save\n",
            "epoch = 7, train_loss : 0.014, valid_loss : 0.036, test_loss : 0.121\n",
            "valid_loss=0.028, test_los0.091, Model Save\n",
            "epoch = 8, train_loss : 0.013, valid_loss : 0.028, test_loss : 0.091\n",
            "valid_loss=0.022, test_los0.069, Model Save\n",
            "epoch = 9, train_loss : 0.012, valid_loss : 0.022, test_loss : 0.069\n"
          ]
        },
        {
          "output_type": "stream",
          "name": "stderr",
          "text": [
            " 40%|████      | 12/30 [00:01<00:01, 11.78it/s]"
          ]
        },
        {
          "output_type": "stream",
          "name": "stdout",
          "text": [
            "valid_loss=0.017, test_los0.054, Model Save\n",
            "epoch = 10, train_loss : 0.011, valid_loss : 0.017, test_loss : 0.054\n",
            "valid_loss=0.014, test_los0.042, Model Save\n",
            "epoch = 11, train_loss : 0.010, valid_loss : 0.014, test_loss : 0.042\n",
            "valid_loss=0.012, test_los0.034, Model Save\n",
            "epoch = 12, train_loss : 0.010, valid_loss : 0.012, test_loss : 0.034\n"
          ]
        },
        {
          "output_type": "stream",
          "name": "stderr",
          "text": [
            "\r 47%|████▋     | 14/30 [00:01<00:01, 11.98it/s]"
          ]
        },
        {
          "output_type": "stream",
          "name": "stdout",
          "text": [
            "valid_loss=0.010, test_los0.028, Model Save\n",
            "epoch = 13, train_loss : 0.009, valid_loss : 0.010, test_loss : 0.028\n",
            "valid_loss=0.009, test_los0.024, Model Save\n",
            "epoch = 14, train_loss : 0.009, valid_loss : 0.009, test_loss : 0.024\n",
            "valid_loss=0.008, test_los0.021, Model Save\n",
            "epoch = 15, train_loss : 0.009, valid_loss : 0.008, test_loss : 0.021\n"
          ]
        },
        {
          "output_type": "stream",
          "name": "stderr",
          "text": [
            " 60%|██████    | 18/30 [00:01<00:01, 11.98it/s]"
          ]
        },
        {
          "output_type": "stream",
          "name": "stdout",
          "text": [
            "valid_loss=0.008, test_los0.019, Model Save\n",
            "epoch = 16, train_loss : 0.009, valid_loss : 0.008, test_loss : 0.019\n",
            "valid_loss=0.008, test_los0.017, Model Save\n",
            "epoch = 17, train_loss : 0.009, valid_loss : 0.008, test_loss : 0.017\n",
            "valid_loss=0.007, test_los0.016, Model Save\n",
            "epoch = 18, train_loss : 0.009, valid_loss : 0.007, test_loss : 0.016\n"
          ]
        },
        {
          "output_type": "stream",
          "name": "stderr",
          "text": [
            "\r 67%|██████▋   | 20/30 [00:01<00:00, 12.12it/s]"
          ]
        },
        {
          "output_type": "stream",
          "name": "stdout",
          "text": [
            "valid_loss=0.007, test_los0.016, Model Save\n",
            "epoch = 19, train_loss : 0.008, valid_loss : 0.007, test_loss : 0.016\n",
            "valid_loss=0.007, test_los0.015, Model Save\n",
            "epoch = 20, train_loss : 0.008, valid_loss : 0.007, test_loss : 0.015\n",
            "valid_loss=0.007, test_los0.015, Model Save\n",
            "epoch = 21, train_loss : 0.008, valid_loss : 0.007, test_loss : 0.015\n"
          ]
        },
        {
          "output_type": "stream",
          "name": "stderr",
          "text": [
            " 80%|████████  | 24/30 [00:01<00:00, 12.61it/s]"
          ]
        },
        {
          "output_type": "stream",
          "name": "stdout",
          "text": [
            "valid_loss=0.007, test_los0.015, Model Save\n",
            "epoch = 22, train_loss : 0.008, valid_loss : 0.007, test_loss : 0.015\n",
            "valid_loss=0.007, test_los0.014, Model Save\n",
            "epoch = 23, train_loss : 0.008, valid_loss : 0.007, test_loss : 0.014\n",
            "valid_loss=0.007, test_los0.014, Model Save\n",
            "epoch = 24, train_loss : 0.008, valid_loss : 0.007, test_loss : 0.014\n"
          ]
        },
        {
          "output_type": "stream",
          "name": "stderr",
          "text": [
            "\r 87%|████████▋ | 26/30 [00:02<00:00, 12.73it/s]"
          ]
        },
        {
          "output_type": "stream",
          "name": "stdout",
          "text": [
            "valid_loss=0.007, test_los0.014, Model Save\n",
            "epoch = 25, train_loss : 0.008, valid_loss : 0.007, test_loss : 0.014\n",
            "valid_loss=0.007, test_los0.014, Model Save\n",
            "epoch = 26, train_loss : 0.008, valid_loss : 0.007, test_loss : 0.014\n",
            "valid_loss=0.007, test_los0.014, Model Save\n",
            "epoch = 27, train_loss : 0.008, valid_loss : 0.007, test_loss : 0.014\n"
          ]
        },
        {
          "output_type": "stream",
          "name": "stderr",
          "text": [
            "100%|██████████| 30/30 [00:02<00:00, 12.16it/s]"
          ]
        },
        {
          "output_type": "stream",
          "name": "stdout",
          "text": [
            "valid_loss=0.007, test_los0.014, Model Save\n",
            "epoch = 28, train_loss : 0.008, valid_loss : 0.007, test_loss : 0.014\n",
            "valid_loss=0.007, test_los0.014, Model Save\n",
            "epoch = 29, train_loss : 0.008, valid_loss : 0.007, test_loss : 0.014\n",
            "valid_loss=0.007, test_los0.014, Model Save\n",
            "epoch = 30, train_loss : 0.008, valid_loss : 0.007, test_loss : 0.014\n"
          ]
        },
        {
          "output_type": "stream",
          "name": "stderr",
          "text": [
            "\n",
            "  7%|▋         | 2/30 [00:00<00:02, 13.66it/s]"
          ]
        },
        {
          "output_type": "stream",
          "name": "stdout",
          "text": [
            "valid_loss=0.083, test_los0.064, Model Save\n",
            "epoch = 1, train_loss : 0.097, valid_loss : 0.083, test_loss : 0.064\n",
            "valid_loss=0.070, test_los0.057, Model Save\n",
            "epoch = 2, train_loss : 0.081, valid_loss : 0.070, test_loss : 0.057\n",
            "valid_loss=0.060, test_los0.051, Model Save\n",
            "epoch = 3, train_loss : 0.073, valid_loss : 0.060, test_loss : 0.051\n"
          ]
        },
        {
          "output_type": "stream",
          "name": "stderr",
          "text": [
            " 20%|██        | 6/30 [00:00<00:01, 12.99it/s]"
          ]
        },
        {
          "output_type": "stream",
          "name": "stdout",
          "text": [
            "valid_loss=0.053, test_los0.047, Model Save\n",
            "epoch = 4, train_loss : 0.067, valid_loss : 0.053, test_loss : 0.047\n",
            "valid_loss=0.048, test_los0.044, Model Save\n",
            "epoch = 5, train_loss : 0.062, valid_loss : 0.048, test_loss : 0.044\n",
            "valid_loss=0.044, test_los0.041, Model Save\n",
            "epoch = 6, train_loss : 0.059, valid_loss : 0.044, test_loss : 0.041\n"
          ]
        },
        {
          "output_type": "stream",
          "name": "stderr",
          "text": [
            "\r 27%|██▋       | 8/30 [00:00<00:01, 12.86it/s]"
          ]
        },
        {
          "output_type": "stream",
          "name": "stdout",
          "text": [
            "valid_loss=0.042, test_los0.040, Model Save\n",
            "epoch = 7, train_loss : 0.056, valid_loss : 0.042, test_loss : 0.040\n",
            "valid_loss=0.040, test_los0.039, Model Save\n",
            "epoch = 8, train_loss : 0.054, valid_loss : 0.040, test_loss : 0.039\n",
            "valid_loss=0.039, test_los0.038, Model Save\n",
            "epoch = 9, train_loss : 0.053, valid_loss : 0.039, test_loss : 0.038\n"
          ]
        },
        {
          "output_type": "stream",
          "name": "stderr",
          "text": [
            " 40%|████      | 12/30 [00:00<00:01, 12.94it/s]"
          ]
        },
        {
          "output_type": "stream",
          "name": "stdout",
          "text": [
            "valid_loss=0.038, test_los0.037, Model Save\n",
            "epoch = 10, train_loss : 0.052, valid_loss : 0.038, test_loss : 0.037\n",
            "valid_loss=0.037, test_los0.037, Model Save\n",
            "epoch = 11, train_loss : 0.051, valid_loss : 0.037, test_loss : 0.037\n",
            "valid_loss=0.036, test_los0.036, Model Save\n",
            "epoch = 12, train_loss : 0.050, valid_loss : 0.036, test_loss : 0.036\n"
          ]
        },
        {
          "output_type": "stream",
          "name": "stderr",
          "text": [
            "\r 47%|████▋     | 14/30 [00:01<00:01, 12.72it/s]"
          ]
        },
        {
          "output_type": "stream",
          "name": "stdout",
          "text": [
            "valid_loss=0.036, test_los0.036, Model Save\n",
            "epoch = 13, train_loss : 0.049, valid_loss : 0.036, test_loss : 0.036\n",
            "valid_loss=0.035, test_los0.035, Model Save\n",
            "epoch = 14, train_loss : 0.049, valid_loss : 0.035, test_loss : 0.035\n",
            "valid_loss=0.035, test_los0.035, Model Save\n",
            "epoch = 15, train_loss : 0.048, valid_loss : 0.035, test_loss : 0.035\n"
          ]
        },
        {
          "output_type": "stream",
          "name": "stderr",
          "text": [
            " 60%|██████    | 18/30 [00:01<00:00, 12.57it/s]"
          ]
        },
        {
          "output_type": "stream",
          "name": "stdout",
          "text": [
            "valid_loss=0.035, test_los0.035, Model Save\n",
            "epoch = 16, train_loss : 0.048, valid_loss : 0.035, test_loss : 0.035\n",
            "valid_loss=0.034, test_los0.035, Model Save\n",
            "epoch = 17, train_loss : 0.048, valid_loss : 0.034, test_loss : 0.035\n",
            "valid_loss=0.034, test_los0.034, Model Save\n",
            "epoch = 18, train_loss : 0.047, valid_loss : 0.034, test_loss : 0.034\n"
          ]
        },
        {
          "output_type": "stream",
          "name": "stderr",
          "text": [
            "\r 67%|██████▋   | 20/30 [00:01<00:00, 12.68it/s]"
          ]
        },
        {
          "output_type": "stream",
          "name": "stdout",
          "text": [
            "valid_loss=0.034, test_los0.034, Model Save\n",
            "epoch = 19, train_loss : 0.047, valid_loss : 0.034, test_loss : 0.034\n",
            "valid_loss=0.034, test_los0.034, Model Save\n",
            "epoch = 20, train_loss : 0.047, valid_loss : 0.034, test_loss : 0.034\n",
            "valid_loss=0.033, test_los0.034, Model Save\n",
            "epoch = 21, train_loss : 0.046, valid_loss : 0.033, test_loss : 0.034\n"
          ]
        },
        {
          "output_type": "stream",
          "name": "stderr",
          "text": [
            " 80%|████████  | 24/30 [00:01<00:00, 13.23it/s]"
          ]
        },
        {
          "output_type": "stream",
          "name": "stdout",
          "text": [
            "valid_loss=0.033, test_los0.034, Model Save\n",
            "epoch = 22, train_loss : 0.046, valid_loss : 0.033, test_loss : 0.034\n",
            "valid_loss=0.033, test_los0.033, Model Save\n",
            "epoch = 23, train_loss : 0.046, valid_loss : 0.033, test_loss : 0.033\n",
            "valid_loss=0.033, test_los0.033, Model Save\n",
            "epoch = 24, train_loss : 0.046, valid_loss : 0.033, test_loss : 0.033\n"
          ]
        },
        {
          "output_type": "stream",
          "name": "stderr",
          "text": [
            "\r 87%|████████▋ | 26/30 [00:02<00:00, 13.01it/s]"
          ]
        },
        {
          "output_type": "stream",
          "name": "stdout",
          "text": [
            "valid_loss=0.033, test_los0.033, Model Save\n",
            "epoch = 25, train_loss : 0.046, valid_loss : 0.033, test_loss : 0.033\n",
            "valid_loss=0.033, test_los0.033, Model Save\n",
            "epoch = 26, train_loss : 0.045, valid_loss : 0.033, test_loss : 0.033\n",
            "valid_loss=0.032, test_los0.033, Model Save\n",
            "epoch = 27, train_loss : 0.045, valid_loss : 0.032, test_loss : 0.033\n"
          ]
        },
        {
          "output_type": "stream",
          "name": "stderr",
          "text": [
            "100%|██████████| 30/30 [00:02<00:00, 12.85it/s]"
          ]
        },
        {
          "output_type": "stream",
          "name": "stdout",
          "text": [
            "valid_loss=0.032, test_los0.033, Model Save\n",
            "epoch = 28, train_loss : 0.045, valid_loss : 0.032, test_loss : 0.033\n",
            "valid_loss=0.032, test_los0.033, Model Save\n",
            "epoch = 29, train_loss : 0.045, valid_loss : 0.032, test_loss : 0.033\n",
            "valid_loss=0.032, test_los0.033, Model Save\n",
            "epoch = 30, train_loss : 0.045, valid_loss : 0.032, test_loss : 0.033\n"
          ]
        },
        {
          "output_type": "stream",
          "name": "stderr",
          "text": [
            "\n",
            "  7%|▋         | 2/30 [00:00<00:03,  9.25it/s]"
          ]
        },
        {
          "output_type": "stream",
          "name": "stdout",
          "text": [
            "valid_loss=0.091, test_los0.085, Model Save\n",
            "epoch = 1, train_loss : 0.121, valid_loss : 0.091, test_loss : 0.085\n",
            "valid_loss=0.076, test_los0.052, Model Save\n",
            "epoch = 2, train_loss : 0.087, valid_loss : 0.076, test_loss : 0.052\n"
          ]
        },
        {
          "output_type": "stream",
          "name": "stderr",
          "text": [
            " 13%|█▎        | 4/30 [00:00<00:03,  7.95it/s]"
          ]
        },
        {
          "output_type": "stream",
          "name": "stdout",
          "text": [
            "valid_loss=0.066, test_los0.040, Model Save\n",
            "epoch = 3, train_loss : 0.075, valid_loss : 0.066, test_loss : 0.040\n",
            "valid_loss=0.059, test_los0.034, Model Save\n",
            "epoch = 4, train_loss : 0.066, valid_loss : 0.059, test_loss : 0.034\n"
          ]
        },
        {
          "output_type": "stream",
          "name": "stderr",
          "text": [
            " 20%|██        | 6/30 [00:00<00:03,  7.92it/s]"
          ]
        },
        {
          "output_type": "stream",
          "name": "stdout",
          "text": [
            "valid_loss=0.054, test_los0.030, Model Save\n",
            "epoch = 5, train_loss : 0.059, valid_loss : 0.054, test_loss : 0.030\n",
            "valid_loss=0.051, test_los0.028, Model Save\n",
            "epoch = 6, train_loss : 0.054, valid_loss : 0.051, test_loss : 0.028\n"
          ]
        },
        {
          "output_type": "stream",
          "name": "stderr",
          "text": [
            " 27%|██▋       | 8/30 [00:01<00:02,  8.00it/s]"
          ]
        },
        {
          "output_type": "stream",
          "name": "stdout",
          "text": [
            "valid_loss=0.048, test_los0.026, Model Save\n",
            "epoch = 7, train_loss : 0.051, valid_loss : 0.048, test_loss : 0.026\n",
            "valid_loss=0.047, test_los0.024, Model Save\n",
            "epoch = 8, train_loss : 0.048, valid_loss : 0.047, test_loss : 0.024\n"
          ]
        },
        {
          "output_type": "stream",
          "name": "stderr",
          "text": [
            " 33%|███▎      | 10/30 [00:01<00:02,  7.59it/s]"
          ]
        },
        {
          "output_type": "stream",
          "name": "stdout",
          "text": [
            "valid_loss=0.045, test_los0.023, Model Save\n",
            "epoch = 9, train_loss : 0.046, valid_loss : 0.045, test_loss : 0.023\n",
            "valid_loss=0.044, test_los0.022, Model Save\n",
            "epoch = 10, train_loss : 0.045, valid_loss : 0.044, test_loss : 0.022\n"
          ]
        },
        {
          "output_type": "stream",
          "name": "stderr",
          "text": [
            " 40%|████      | 12/30 [00:01<00:02,  7.59it/s]"
          ]
        },
        {
          "output_type": "stream",
          "name": "stdout",
          "text": [
            "valid_loss=0.043, test_los0.022, Model Save\n",
            "epoch = 11, train_loss : 0.043, valid_loss : 0.043, test_loss : 0.022\n",
            "valid_loss=0.042, test_los0.021, Model Save\n",
            "epoch = 12, train_loss : 0.042, valid_loss : 0.042, test_loss : 0.021\n"
          ]
        },
        {
          "output_type": "stream",
          "name": "stderr",
          "text": [
            " 47%|████▋     | 14/30 [00:01<00:02,  7.82it/s]"
          ]
        },
        {
          "output_type": "stream",
          "name": "stdout",
          "text": [
            "valid_loss=0.042, test_los0.020, Model Save\n",
            "epoch = 13, train_loss : 0.041, valid_loss : 0.042, test_loss : 0.020\n",
            "valid_loss=0.041, test_los0.020, Model Save\n",
            "epoch = 14, train_loss : 0.041, valid_loss : 0.041, test_loss : 0.020\n"
          ]
        },
        {
          "output_type": "stream",
          "name": "stderr",
          "text": [
            " 53%|█████▎    | 16/30 [00:02<00:01,  7.89it/s]"
          ]
        },
        {
          "output_type": "stream",
          "name": "stdout",
          "text": [
            "valid_loss=0.041, test_los0.020, Model Save\n",
            "epoch = 15, train_loss : 0.040, valid_loss : 0.041, test_loss : 0.020\n",
            "valid_loss=0.040, test_los0.019, Model Save\n",
            "epoch = 16, train_loss : 0.039, valid_loss : 0.040, test_loss : 0.019\n"
          ]
        },
        {
          "output_type": "stream",
          "name": "stderr",
          "text": [
            " 60%|██████    | 18/30 [00:02<00:01,  8.21it/s]"
          ]
        },
        {
          "output_type": "stream",
          "name": "stdout",
          "text": [
            "valid_loss=0.040, test_los0.019, Model Save\n",
            "epoch = 17, train_loss : 0.039, valid_loss : 0.040, test_loss : 0.019\n",
            "valid_loss=0.040, test_los0.019, Model Save\n",
            "epoch = 18, train_loss : 0.038, valid_loss : 0.040, test_loss : 0.019\n"
          ]
        },
        {
          "output_type": "stream",
          "name": "stderr",
          "text": [
            " 67%|██████▋   | 20/30 [00:02<00:01,  7.83it/s]"
          ]
        },
        {
          "output_type": "stream",
          "name": "stdout",
          "text": [
            "valid_loss=0.039, test_los0.018, Model Save\n",
            "epoch = 19, train_loss : 0.038, valid_loss : 0.039, test_loss : 0.018\n",
            "valid_loss=0.039, test_los0.018, Model Save\n",
            "epoch = 20, train_loss : 0.038, valid_loss : 0.039, test_loss : 0.018\n"
          ]
        },
        {
          "output_type": "stream",
          "name": "stderr",
          "text": [
            " 73%|███████▎  | 22/30 [00:02<00:00,  8.15it/s]"
          ]
        },
        {
          "output_type": "stream",
          "name": "stdout",
          "text": [
            "valid_loss=0.039, test_los0.018, Model Save\n",
            "epoch = 21, train_loss : 0.037, valid_loss : 0.039, test_loss : 0.018\n",
            "valid_loss=0.039, test_los0.018, Model Save\n",
            "epoch = 22, train_loss : 0.037, valid_loss : 0.039, test_loss : 0.018\n"
          ]
        },
        {
          "output_type": "stream",
          "name": "stderr",
          "text": [
            " 80%|████████  | 24/30 [00:03<00:00,  8.29it/s]"
          ]
        },
        {
          "output_type": "stream",
          "name": "stdout",
          "text": [
            "valid_loss=0.039, test_los0.018, Model Save\n",
            "epoch = 23, train_loss : 0.037, valid_loss : 0.039, test_loss : 0.018\n",
            "valid_loss=0.038, test_los0.018, Model Save\n",
            "epoch = 24, train_loss : 0.036, valid_loss : 0.038, test_loss : 0.018\n"
          ]
        },
        {
          "output_type": "stream",
          "name": "stderr",
          "text": [
            " 87%|████████▋ | 26/30 [00:03<00:00,  8.56it/s]"
          ]
        },
        {
          "output_type": "stream",
          "name": "stdout",
          "text": [
            "valid_loss=0.038, test_los0.018, Model Save\n",
            "epoch = 25, train_loss : 0.036, valid_loss : 0.038, test_loss : 0.018\n",
            "valid_loss=0.038, test_los0.017, Model Save\n",
            "epoch = 26, train_loss : 0.036, valid_loss : 0.038, test_loss : 0.017\n"
          ]
        },
        {
          "output_type": "stream",
          "name": "stderr",
          "text": [
            " 93%|█████████▎| 28/30 [00:03<00:00,  7.86it/s]"
          ]
        },
        {
          "output_type": "stream",
          "name": "stdout",
          "text": [
            "valid_loss=0.038, test_los0.017, Model Save\n",
            "epoch = 27, train_loss : 0.036, valid_loss : 0.038, test_loss : 0.017\n",
            "valid_loss=0.038, test_los0.017, Model Save\n",
            "epoch = 28, train_loss : 0.036, valid_loss : 0.038, test_loss : 0.017\n"
          ]
        },
        {
          "output_type": "stream",
          "name": "stderr",
          "text": [
            "100%|██████████| 30/30 [00:03<00:00,  8.03it/s]"
          ]
        },
        {
          "output_type": "stream",
          "name": "stdout",
          "text": [
            "valid_loss=0.038, test_los0.017, Model Save\n",
            "epoch = 29, train_loss : 0.035, valid_loss : 0.038, test_loss : 0.017\n",
            "valid_loss=0.037, test_los0.017, Model Save\n",
            "epoch = 30, train_loss : 0.035, valid_loss : 0.037, test_loss : 0.017\n"
          ]
        },
        {
          "output_type": "stream",
          "name": "stderr",
          "text": [
            "\n",
            "  7%|▋         | 2/30 [00:00<00:02, 13.55it/s]"
          ]
        },
        {
          "output_type": "stream",
          "name": "stdout",
          "text": [
            "valid_loss=0.287, test_los0.115, Model Save\n",
            "epoch = 1, train_loss : 0.092, valid_loss : 0.287, test_loss : 0.115\n",
            "valid_loss=0.234, test_los0.098, Model Save\n",
            "epoch = 2, train_loss : 0.069, valid_loss : 0.234, test_loss : 0.098\n",
            "valid_loss=0.200, test_los0.086, Model Save\n",
            "epoch = 3, train_loss : 0.059, valid_loss : 0.200, test_loss : 0.086\n"
          ]
        },
        {
          "output_type": "stream",
          "name": "stderr",
          "text": [
            " 20%|██        | 6/30 [00:00<00:01, 13.12it/s]"
          ]
        },
        {
          "output_type": "stream",
          "name": "stdout",
          "text": [
            "valid_loss=0.177, test_los0.078, Model Save\n",
            "epoch = 4, train_loss : 0.052, valid_loss : 0.177, test_loss : 0.078\n",
            "valid_loss=0.161, test_los0.072, Model Save\n",
            "epoch = 5, train_loss : 0.047, valid_loss : 0.161, test_loss : 0.072\n",
            "valid_loss=0.150, test_los0.069, Model Save\n",
            "epoch = 6, train_loss : 0.043, valid_loss : 0.150, test_loss : 0.069\n"
          ]
        },
        {
          "output_type": "stream",
          "name": "stderr",
          "text": [
            "\r 27%|██▋       | 8/30 [00:00<00:01, 12.84it/s]"
          ]
        },
        {
          "output_type": "stream",
          "name": "stdout",
          "text": [
            "valid_loss=0.143, test_los0.067, Model Save\n",
            "epoch = 7, train_loss : 0.041, valid_loss : 0.143, test_loss : 0.067\n",
            "valid_loss=0.137, test_los0.065, Model Save\n",
            "epoch = 8, train_loss : 0.038, valid_loss : 0.137, test_loss : 0.065\n",
            "valid_loss=0.132, test_los0.064, Model Save\n",
            "epoch = 9, train_loss : 0.037, valid_loss : 0.132, test_loss : 0.064\n"
          ]
        },
        {
          "output_type": "stream",
          "name": "stderr",
          "text": [
            " 40%|████      | 12/30 [00:00<00:01, 13.25it/s]"
          ]
        },
        {
          "output_type": "stream",
          "name": "stdout",
          "text": [
            "valid_loss=0.129, test_los0.063, Model Save\n",
            "epoch = 10, train_loss : 0.035, valid_loss : 0.129, test_loss : 0.063\n",
            "valid_loss=0.126, test_los0.062, Model Save\n",
            "epoch = 11, train_loss : 0.034, valid_loss : 0.126, test_loss : 0.062\n",
            "valid_loss=0.123, test_los0.062, Model Save\n",
            "epoch = 12, train_loss : 0.033, valid_loss : 0.123, test_loss : 0.062\n"
          ]
        },
        {
          "output_type": "stream",
          "name": "stderr",
          "text": [
            "\r 47%|████▋     | 14/30 [00:01<00:01, 12.97it/s]"
          ]
        },
        {
          "output_type": "stream",
          "name": "stdout",
          "text": [
            "valid_loss=0.121, test_los0.061, Model Save\n",
            "epoch = 13, train_loss : 0.032, valid_loss : 0.121, test_loss : 0.061\n",
            "valid_loss=0.119, test_los0.061, Model Save\n",
            "epoch = 14, train_loss : 0.032, valid_loss : 0.119, test_loss : 0.061\n",
            "valid_loss=0.117, test_los0.061, Model Save\n",
            "epoch = 15, train_loss : 0.031, valid_loss : 0.117, test_loss : 0.061\n"
          ]
        },
        {
          "output_type": "stream",
          "name": "stderr",
          "text": [
            " 60%|██████    | 18/30 [00:01<00:01, 11.70it/s]"
          ]
        },
        {
          "output_type": "stream",
          "name": "stdout",
          "text": [
            "valid_loss=0.115, test_los0.060, Model Save\n",
            "epoch = 16, train_loss : 0.030, valid_loss : 0.115, test_loss : 0.060\n",
            "valid_loss=0.113, test_los0.060, Model Save\n",
            "epoch = 17, train_loss : 0.030, valid_loss : 0.113, test_loss : 0.060\n",
            "valid_loss=0.111, test_los0.059, Model Save\n",
            "epoch = 18, train_loss : 0.029, valid_loss : 0.111, test_loss : 0.059\n"
          ]
        },
        {
          "output_type": "stream",
          "name": "stderr",
          "text": [
            "\r 67%|██████▋   | 20/30 [00:01<00:00, 12.08it/s]"
          ]
        },
        {
          "output_type": "stream",
          "name": "stdout",
          "text": [
            "valid_loss=0.109, test_los0.059, Model Save\n",
            "epoch = 19, train_loss : 0.028, valid_loss : 0.109, test_loss : 0.059\n",
            "valid_loss=0.108, test_los0.059, Model Save\n",
            "epoch = 20, train_loss : 0.028, valid_loss : 0.108, test_loss : 0.059\n",
            "valid_loss=0.106, test_los0.059, Model Save\n",
            "epoch = 21, train_loss : 0.027, valid_loss : 0.106, test_loss : 0.059\n"
          ]
        },
        {
          "output_type": "stream",
          "name": "stderr",
          "text": [
            " 80%|████████  | 24/30 [00:01<00:00, 12.46it/s]"
          ]
        },
        {
          "output_type": "stream",
          "name": "stdout",
          "text": [
            "valid_loss=0.105, test_los0.058, Model Save\n",
            "epoch = 22, train_loss : 0.027, valid_loss : 0.105, test_loss : 0.058\n",
            "valid_loss=0.103, test_los0.058, Model Save\n",
            "epoch = 23, train_loss : 0.026, valid_loss : 0.103, test_loss : 0.058\n",
            "valid_loss=0.102, test_los0.058, Model Save\n",
            "epoch = 24, train_loss : 0.026, valid_loss : 0.102, test_loss : 0.058\n"
          ]
        },
        {
          "output_type": "stream",
          "name": "stderr",
          "text": [
            "\r 87%|████████▋ | 26/30 [00:02<00:00, 12.50it/s]"
          ]
        },
        {
          "output_type": "stream",
          "name": "stdout",
          "text": [
            "valid_loss=0.101, test_los0.058, Model Save\n",
            "epoch = 25, train_loss : 0.026, valid_loss : 0.101, test_loss : 0.058\n",
            "valid_loss=0.100, test_los0.058, Model Save\n",
            "epoch = 26, train_loss : 0.025, valid_loss : 0.100, test_loss : 0.058\n",
            "valid_loss=0.099, test_los0.058, Model Save\n",
            "epoch = 27, train_loss : 0.025, valid_loss : 0.099, test_loss : 0.058\n"
          ]
        },
        {
          "output_type": "stream",
          "name": "stderr",
          "text": [
            "100%|██████████| 30/30 [00:02<00:00, 12.42it/s]"
          ]
        },
        {
          "output_type": "stream",
          "name": "stdout",
          "text": [
            "valid_loss=0.098, test_los0.058, Model Save\n",
            "epoch = 28, train_loss : 0.025, valid_loss : 0.098, test_loss : 0.058\n",
            "valid_loss=0.097, test_los0.058, Model Save\n",
            "epoch = 29, train_loss : 0.024, valid_loss : 0.097, test_loss : 0.058\n",
            "valid_loss=0.096, test_los0.058, Model Save\n",
            "epoch = 30, train_loss : 0.024, valid_loss : 0.096, test_loss : 0.058\n"
          ]
        },
        {
          "output_type": "stream",
          "name": "stderr",
          "text": [
            "\n",
            "  7%|▋         | 2/30 [00:00<00:01, 14.39it/s]"
          ]
        },
        {
          "output_type": "stream",
          "name": "stdout",
          "text": [
            "valid_loss=0.141, test_los0.737, Model Save\n",
            "epoch = 1, train_loss : 0.083, valid_loss : 0.141, test_loss : 0.737\n",
            "valid_loss=0.126, test_los0.664, Model Save\n",
            "epoch = 2, train_loss : 0.066, valid_loss : 0.126, test_loss : 0.664\n",
            "valid_loss=0.114, test_los0.509, Model Save\n",
            "epoch = 3, train_loss : 0.059, valid_loss : 0.114, test_loss : 0.509\n"
          ]
        },
        {
          "output_type": "stream",
          "name": "stderr",
          "text": [
            " 20%|██        | 6/30 [00:00<00:01, 13.55it/s]"
          ]
        },
        {
          "output_type": "stream",
          "name": "stdout",
          "text": [
            "valid_loss=0.106, test_los0.435, Model Save\n",
            "epoch = 4, train_loss : 0.054, valid_loss : 0.106, test_loss : 0.435\n",
            "valid_loss=0.101, test_los0.395, Model Save\n",
            "epoch = 5, train_loss : 0.051, valid_loss : 0.101, test_loss : 0.395\n",
            "valid_loss=0.097, test_los0.369, Model Save\n",
            "epoch = 6, train_loss : 0.050, valid_loss : 0.097, test_loss : 0.369\n"
          ]
        },
        {
          "output_type": "stream",
          "name": "stderr",
          "text": [
            "\r 27%|██▋       | 8/30 [00:00<00:01, 12.25it/s]"
          ]
        },
        {
          "output_type": "stream",
          "name": "stdout",
          "text": [
            "valid_loss=0.093, test_los0.351, Model Save\n",
            "epoch = 7, train_loss : 0.048, valid_loss : 0.093, test_loss : 0.351\n",
            "valid_loss=0.091, test_los0.337, Model Save\n",
            "epoch = 8, train_loss : 0.047, valid_loss : 0.091, test_loss : 0.337\n",
            "valid_loss=0.088, test_los0.326, Model Save\n",
            "epoch = 9, train_loss : 0.046, valid_loss : 0.088, test_loss : 0.326\n"
          ]
        },
        {
          "output_type": "stream",
          "name": "stderr",
          "text": [
            " 40%|████      | 12/30 [00:00<00:01, 12.64it/s]"
          ]
        },
        {
          "output_type": "stream",
          "name": "stdout",
          "text": [
            "valid_loss=0.086, test_los0.315, Model Save\n",
            "epoch = 10, train_loss : 0.045, valid_loss : 0.086, test_loss : 0.315\n",
            "valid_loss=0.084, test_los0.307, Model Save\n",
            "epoch = 11, train_loss : 0.044, valid_loss : 0.084, test_loss : 0.307\n",
            "valid_loss=0.082, test_los0.299, Model Save\n",
            "epoch = 12, train_loss : 0.044, valid_loss : 0.082, test_loss : 0.299\n"
          ]
        },
        {
          "output_type": "stream",
          "name": "stderr",
          "text": [
            "\r 47%|████▋     | 14/30 [00:01<00:01, 12.57it/s]"
          ]
        },
        {
          "output_type": "stream",
          "name": "stdout",
          "text": [
            "valid_loss=0.081, test_los0.292, Model Save\n",
            "epoch = 13, train_loss : 0.043, valid_loss : 0.081, test_loss : 0.292\n",
            "valid_loss=0.080, test_los0.285, Model Save\n",
            "epoch = 14, train_loss : 0.043, valid_loss : 0.080, test_loss : 0.285\n",
            "valid_loss=0.078, test_los0.280, Model Save\n",
            "epoch = 15, train_loss : 0.042, valid_loss : 0.078, test_loss : 0.280\n"
          ]
        },
        {
          "output_type": "stream",
          "name": "stderr",
          "text": [
            " 60%|██████    | 18/30 [00:01<00:00, 12.09it/s]"
          ]
        },
        {
          "output_type": "stream",
          "name": "stdout",
          "text": [
            "valid_loss=0.077, test_los0.274, Model Save\n",
            "epoch = 16, train_loss : 0.042, valid_loss : 0.077, test_loss : 0.274\n",
            "valid_loss=0.076, test_los0.270, Model Save\n",
            "epoch = 17, train_loss : 0.041, valid_loss : 0.076, test_loss : 0.270\n",
            "valid_loss=0.075, test_los0.266, Model Save\n",
            "epoch = 18, train_loss : 0.041, valid_loss : 0.075, test_loss : 0.266\n"
          ]
        },
        {
          "output_type": "stream",
          "name": "stderr",
          "text": [
            "\r 67%|██████▋   | 20/30 [00:01<00:00, 11.41it/s]"
          ]
        },
        {
          "output_type": "stream",
          "name": "stdout",
          "text": [
            "valid_loss=0.074, test_los0.262, Model Save\n",
            "epoch = 19, train_loss : 0.041, valid_loss : 0.074, test_loss : 0.262\n",
            "valid_loss=0.074, test_los0.258, Model Save\n",
            "epoch = 20, train_loss : 0.041, valid_loss : 0.074, test_loss : 0.258\n",
            "valid_loss=0.073, test_los0.255, Model Save\n",
            "epoch = 21, train_loss : 0.040, valid_loss : 0.073, test_loss : 0.255\n"
          ]
        },
        {
          "output_type": "stream",
          "name": "stderr",
          "text": [
            " 80%|████████  | 24/30 [00:01<00:00, 12.71it/s]"
          ]
        },
        {
          "output_type": "stream",
          "name": "stdout",
          "text": [
            "valid_loss=0.072, test_los0.253, Model Save\n",
            "epoch = 22, train_loss : 0.040, valid_loss : 0.072, test_loss : 0.253\n",
            "valid_loss=0.072, test_los0.250, Model Save\n",
            "epoch = 23, train_loss : 0.040, valid_loss : 0.072, test_loss : 0.250\n",
            "valid_loss=0.071, test_los0.248, Model Save\n",
            "epoch = 24, train_loss : 0.040, valid_loss : 0.071, test_loss : 0.248\n"
          ]
        },
        {
          "output_type": "stream",
          "name": "stderr",
          "text": [
            "\r 87%|████████▋ | 26/30 [00:02<00:00, 12.88it/s]"
          ]
        },
        {
          "output_type": "stream",
          "name": "stdout",
          "text": [
            "valid_loss=0.070, test_los0.246, Model Save\n",
            "epoch = 25, train_loss : 0.040, valid_loss : 0.070, test_loss : 0.246\n",
            "valid_loss=0.070, test_los0.244, Model Save\n",
            "epoch = 26, train_loss : 0.039, valid_loss : 0.070, test_loss : 0.244\n",
            "valid_loss=0.069, test_los0.242, Model Save\n",
            "epoch = 27, train_loss : 0.039, valid_loss : 0.069, test_loss : 0.242\n"
          ]
        },
        {
          "output_type": "stream",
          "name": "stderr",
          "text": [
            "100%|██████████| 30/30 [00:02<00:00, 12.61it/s]"
          ]
        },
        {
          "output_type": "stream",
          "name": "stdout",
          "text": [
            "valid_loss=0.069, test_los0.240, Model Save\n",
            "epoch = 28, train_loss : 0.039, valid_loss : 0.069, test_loss : 0.240\n",
            "valid_loss=0.068, test_los0.239, Model Save\n",
            "epoch = 29, train_loss : 0.039, valid_loss : 0.068, test_loss : 0.239\n",
            "valid_loss=0.068, test_los0.238, Model Save\n",
            "epoch = 30, train_loss : 0.039, valid_loss : 0.068, test_loss : 0.238\n"
          ]
        },
        {
          "output_type": "stream",
          "name": "stderr",
          "text": [
            "\n",
            "  7%|▋         | 2/30 [00:00<00:02, 12.50it/s]"
          ]
        },
        {
          "output_type": "stream",
          "name": "stdout",
          "text": [
            "valid_loss=0.059, test_los0.029, Model Save\n",
            "epoch = 1, train_loss : 0.082, valid_loss : 0.059, test_loss : 0.029\n",
            "valid_loss=0.042, test_los0.022, Model Save\n",
            "epoch = 2, train_loss : 0.068, valid_loss : 0.042, test_loss : 0.022\n",
            "valid_loss=0.032, test_los0.019, Model Save\n",
            "epoch = 3, train_loss : 0.061, valid_loss : 0.032, test_loss : 0.019\n"
          ]
        },
        {
          "output_type": "stream",
          "name": "stderr",
          "text": [
            " 20%|██        | 6/30 [00:00<00:01, 13.20it/s]"
          ]
        },
        {
          "output_type": "stream",
          "name": "stdout",
          "text": [
            "valid_loss=0.027, test_los0.016, Model Save\n",
            "epoch = 4, train_loss : 0.055, valid_loss : 0.027, test_loss : 0.016\n",
            "valid_loss=0.023, test_los0.015, Model Save\n",
            "epoch = 5, train_loss : 0.051, valid_loss : 0.023, test_loss : 0.015\n",
            "valid_loss=0.022, test_los0.015, Model Save\n",
            "epoch = 6, train_loss : 0.049, valid_loss : 0.022, test_loss : 0.015\n"
          ]
        },
        {
          "output_type": "stream",
          "name": "stderr",
          "text": [
            "\r 27%|██▋       | 8/30 [00:00<00:01, 13.17it/s]"
          ]
        },
        {
          "output_type": "stream",
          "name": "stdout",
          "text": [
            "valid_loss=0.021, test_los0.014, Model Save\n",
            "epoch = 7, train_loss : 0.047, valid_loss : 0.021, test_loss : 0.014\n",
            "valid_loss=0.020, test_los0.014, Model Save\n",
            "epoch = 8, train_loss : 0.045, valid_loss : 0.020, test_loss : 0.014\n",
            "valid_loss=0.019, test_los0.014, Model Save\n",
            "epoch = 9, train_loss : 0.044, valid_loss : 0.019, test_loss : 0.014\n"
          ]
        },
        {
          "output_type": "stream",
          "name": "stderr",
          "text": [
            " 40%|████      | 12/30 [00:00<00:01, 12.71it/s]"
          ]
        },
        {
          "output_type": "stream",
          "name": "stdout",
          "text": [
            "valid_loss=0.019, test_los0.014, Model Save\n",
            "epoch = 10, train_loss : 0.043, valid_loss : 0.019, test_loss : 0.014\n",
            "valid_loss=0.019, test_los0.014, Model Save\n",
            "epoch = 11, train_loss : 0.042, valid_loss : 0.019, test_loss : 0.014\n",
            "valid_loss=0.019, test_los0.013, Model Save\n",
            "epoch = 12, train_loss : 0.041, valid_loss : 0.019, test_loss : 0.013\n"
          ]
        },
        {
          "output_type": "stream",
          "name": "stderr",
          "text": [
            "\r 47%|████▋     | 14/30 [00:01<00:01, 12.79it/s]"
          ]
        },
        {
          "output_type": "stream",
          "name": "stdout",
          "text": [
            "valid_loss=0.018, test_los0.013, Model Save\n",
            "epoch = 13, train_loss : 0.041, valid_loss : 0.018, test_loss : 0.013\n",
            "valid_loss=0.018, test_los0.013, Model Save\n",
            "epoch = 14, train_loss : 0.040, valid_loss : 0.018, test_loss : 0.013\n",
            "valid_loss=0.018, test_los0.013, Model Save\n",
            "epoch = 15, train_loss : 0.040, valid_loss : 0.018, test_loss : 0.013\n"
          ]
        },
        {
          "output_type": "stream",
          "name": "stderr",
          "text": [
            " 60%|██████    | 18/30 [00:01<00:00, 13.09it/s]"
          ]
        },
        {
          "output_type": "stream",
          "name": "stdout",
          "text": [
            "valid_loss=0.018, test_los0.013, Model Save\n",
            "epoch = 16, train_loss : 0.039, valid_loss : 0.018, test_loss : 0.013\n",
            "valid_loss=0.018, test_los0.012, Model Save\n",
            "epoch = 17, train_loss : 0.039, valid_loss : 0.018, test_loss : 0.012\n",
            "valid_loss=0.018, test_los0.012, Model Save\n",
            "epoch = 18, train_loss : 0.039, valid_loss : 0.018, test_loss : 0.012\n"
          ]
        },
        {
          "output_type": "stream",
          "name": "stderr",
          "text": [
            "\r 67%|██████▋   | 20/30 [00:01<00:00, 13.07it/s]"
          ]
        },
        {
          "output_type": "stream",
          "name": "stdout",
          "text": [
            "valid_loss=0.017, test_los0.012, Model Save\n",
            "epoch = 19, train_loss : 0.039, valid_loss : 0.017, test_loss : 0.012\n",
            "valid_loss=0.017, test_los0.012, Model Save\n",
            "epoch = 20, train_loss : 0.038, valid_loss : 0.017, test_loss : 0.012\n",
            "valid_loss=0.017, test_los0.012, Model Save\n",
            "epoch = 21, train_loss : 0.038, valid_loss : 0.017, test_loss : 0.012\n"
          ]
        },
        {
          "output_type": "stream",
          "name": "stderr",
          "text": [
            " 80%|████████  | 24/30 [00:01<00:00, 12.84it/s]"
          ]
        },
        {
          "output_type": "stream",
          "name": "stdout",
          "text": [
            "valid_loss=0.017, test_los0.012, Model Save\n",
            "epoch = 22, train_loss : 0.038, valid_loss : 0.017, test_loss : 0.012\n",
            "valid_loss=0.017, test_los0.012, Model Save\n",
            "epoch = 23, train_loss : 0.038, valid_loss : 0.017, test_loss : 0.012\n",
            "valid_loss=0.017, test_los0.011, Model Save\n",
            "epoch = 24, train_loss : 0.037, valid_loss : 0.017, test_loss : 0.011\n"
          ]
        },
        {
          "output_type": "stream",
          "name": "stderr",
          "text": [
            "\r 87%|████████▋ | 26/30 [00:02<00:00, 12.37it/s]"
          ]
        },
        {
          "output_type": "stream",
          "name": "stdout",
          "text": [
            "valid_loss=0.017, test_los0.011, Model Save\n",
            "epoch = 25, train_loss : 0.037, valid_loss : 0.017, test_loss : 0.011\n",
            "valid_loss=0.017, test_los0.011, Model Save\n",
            "epoch = 26, train_loss : 0.037, valid_loss : 0.017, test_loss : 0.011\n",
            "valid_loss=0.017, test_los0.011, Model Save\n",
            "epoch = 27, train_loss : 0.037, valid_loss : 0.017, test_loss : 0.011\n"
          ]
        },
        {
          "output_type": "stream",
          "name": "stderr",
          "text": [
            "100%|██████████| 30/30 [00:02<00:00, 12.90it/s]"
          ]
        },
        {
          "output_type": "stream",
          "name": "stdout",
          "text": [
            "valid_loss=0.017, test_los0.011, Model Save\n",
            "epoch = 28, train_loss : 0.037, valid_loss : 0.017, test_loss : 0.011\n",
            "valid_loss=0.017, test_los0.011, Model Save\n",
            "epoch = 29, train_loss : 0.036, valid_loss : 0.017, test_loss : 0.011\n",
            "valid_loss=0.016, test_los0.011, Model Save\n",
            "epoch = 30, train_loss : 0.036, valid_loss : 0.016, test_loss : 0.011\n"
          ]
        },
        {
          "output_type": "stream",
          "name": "stderr",
          "text": [
            "\n",
            "  7%|▋         | 2/30 [00:00<00:02, 13.76it/s]"
          ]
        },
        {
          "output_type": "stream",
          "name": "stdout",
          "text": [
            "valid_loss=0.084, test_los0.056, Model Save\n",
            "epoch = 1, train_loss : 0.179, valid_loss : 0.084, test_loss : 0.056\n",
            "valid_loss=0.066, test_los0.053, Model Save\n",
            "epoch = 2, train_loss : 0.153, valid_loss : 0.066, test_loss : 0.053\n",
            "valid_loss=0.055, test_los0.050, Model Save\n",
            "epoch = 3, train_loss : 0.140, valid_loss : 0.055, test_loss : 0.050\n"
          ]
        },
        {
          "output_type": "stream",
          "name": "stderr",
          "text": [
            " 20%|██        | 6/30 [00:00<00:01, 12.62it/s]"
          ]
        },
        {
          "output_type": "stream",
          "name": "stdout",
          "text": [
            "valid_loss=0.049, test_los0.048, Model Save\n",
            "epoch = 4, train_loss : 0.129, valid_loss : 0.049, test_loss : 0.048\n",
            "valid_loss=0.044, test_los0.046, Model Save\n",
            "epoch = 5, train_loss : 0.121, valid_loss : 0.044, test_loss : 0.046\n",
            "valid_loss=0.040, test_los0.044, Model Save\n",
            "epoch = 6, train_loss : 0.114, valid_loss : 0.040, test_loss : 0.044\n"
          ]
        },
        {
          "output_type": "stream",
          "name": "stderr",
          "text": [
            "\r 27%|██▋       | 8/30 [00:00<00:01, 12.52it/s]"
          ]
        },
        {
          "output_type": "stream",
          "name": "stdout",
          "text": [
            "valid_loss=0.038, test_los0.043, Model Save\n",
            "epoch = 7, train_loss : 0.108, valid_loss : 0.038, test_loss : 0.043\n",
            "valid_loss=0.036, test_los0.043, Model Save\n",
            "epoch = 8, train_loss : 0.103, valid_loss : 0.036, test_loss : 0.043\n",
            "valid_loss=0.035, test_los0.042, Model Save\n",
            "epoch = 9, train_loss : 0.099, valid_loss : 0.035, test_loss : 0.042\n"
          ]
        },
        {
          "output_type": "stream",
          "name": "stderr",
          "text": [
            " 40%|████      | 12/30 [00:00<00:01, 12.79it/s]"
          ]
        },
        {
          "output_type": "stream",
          "name": "stdout",
          "text": [
            "valid_loss=0.033, test_los0.041, Model Save\n",
            "epoch = 10, train_loss : 0.095, valid_loss : 0.033, test_loss : 0.041\n",
            "valid_loss=0.032, test_los0.041, Model Save\n",
            "epoch = 11, train_loss : 0.092, valid_loss : 0.032, test_loss : 0.041\n",
            "valid_loss=0.032, test_los0.040, Model Save\n",
            "epoch = 12, train_loss : 0.089, valid_loss : 0.032, test_loss : 0.040\n"
          ]
        },
        {
          "output_type": "stream",
          "name": "stderr",
          "text": [
            "\r 47%|████▋     | 14/30 [00:01<00:01, 12.70it/s]"
          ]
        },
        {
          "output_type": "stream",
          "name": "stdout",
          "text": [
            "valid_loss=0.031, test_los0.040, Model Save\n",
            "epoch = 13, train_loss : 0.086, valid_loss : 0.031, test_loss : 0.040\n",
            "valid_loss=0.030, test_los0.039, Model Save\n",
            "epoch = 14, train_loss : 0.084, valid_loss : 0.030, test_loss : 0.039\n",
            "valid_loss=0.030, test_los0.039, Model Save\n",
            "epoch = 15, train_loss : 0.081, valid_loss : 0.030, test_loss : 0.039\n"
          ]
        },
        {
          "output_type": "stream",
          "name": "stderr",
          "text": [
            "\r 53%|█████▎    | 16/30 [00:01<00:01, 10.80it/s]"
          ]
        },
        {
          "output_type": "stream",
          "name": "stdout",
          "text": [
            "valid_loss=0.029, test_los0.039, Model Save\n",
            "epoch = 16, train_loss : 0.079, valid_loss : 0.029, test_loss : 0.039\n",
            "valid_loss=0.029, test_los0.039, Model Save\n",
            "epoch = 17, train_loss : 0.078, valid_loss : 0.029, test_loss : 0.039\n"
          ]
        },
        {
          "output_type": "stream",
          "name": "stderr",
          "text": [
            "\r 60%|██████    | 18/30 [00:01<00:01,  9.64it/s]"
          ]
        },
        {
          "output_type": "stream",
          "name": "stdout",
          "text": [
            "valid_loss=0.029, test_los0.038, Model Save\n",
            "epoch = 18, train_loss : 0.076, valid_loss : 0.029, test_loss : 0.038\n",
            "valid_loss=0.029, test_los0.038, Model Save\n",
            "epoch = 19, train_loss : 0.075, valid_loss : 0.029, test_loss : 0.038\n"
          ]
        },
        {
          "output_type": "stream",
          "name": "stderr",
          "text": [
            " 70%|███████   | 21/30 [00:01<00:00,  9.45it/s]"
          ]
        },
        {
          "output_type": "stream",
          "name": "stdout",
          "text": [
            "valid_loss=0.028, test_los0.038, Model Save\n",
            "epoch = 20, train_loss : 0.073, valid_loss : 0.028, test_loss : 0.038\n",
            "valid_loss=0.028, test_los0.038, Model Save\n",
            "epoch = 21, train_loss : 0.072, valid_loss : 0.028, test_loss : 0.038\n"
          ]
        },
        {
          "output_type": "stream",
          "name": "stderr",
          "text": [
            " 77%|███████▋  | 23/30 [00:02<00:00,  8.82it/s]"
          ]
        },
        {
          "output_type": "stream",
          "name": "stdout",
          "text": [
            "valid_loss=0.028, test_los0.038, Model Save\n",
            "epoch = 22, train_loss : 0.071, valid_loss : 0.028, test_loss : 0.038\n",
            "valid_loss=0.028, test_los0.038, Model Save\n",
            "epoch = 23, train_loss : 0.070, valid_loss : 0.028, test_loss : 0.038\n"
          ]
        },
        {
          "output_type": "stream",
          "name": "stderr",
          "text": [
            " 83%|████████▎ | 25/30 [00:02<00:00,  8.22it/s]"
          ]
        },
        {
          "output_type": "stream",
          "name": "stdout",
          "text": [
            "valid_loss=0.028, test_los0.038, Model Save\n",
            "epoch = 24, train_loss : 0.069, valid_loss : 0.028, test_loss : 0.038\n",
            "valid_loss=0.028, test_los0.038, Model Save\n",
            "epoch = 25, train_loss : 0.069, valid_loss : 0.028, test_loss : 0.038\n"
          ]
        },
        {
          "output_type": "stream",
          "name": "stderr",
          "text": [
            " 90%|█████████ | 27/30 [00:02<00:00,  8.23it/s]"
          ]
        },
        {
          "output_type": "stream",
          "name": "stdout",
          "text": [
            "valid_loss=0.028, test_los0.038, Model Save\n",
            "epoch = 26, train_loss : 0.068, valid_loss : 0.028, test_loss : 0.038\n",
            "valid_loss=0.028, test_los0.038, Model Save\n",
            "epoch = 27, train_loss : 0.067, valid_loss : 0.028, test_loss : 0.038\n"
          ]
        },
        {
          "output_type": "stream",
          "name": "stderr",
          "text": [
            " 97%|█████████▋| 29/30 [00:02<00:00,  7.91it/s]"
          ]
        },
        {
          "output_type": "stream",
          "name": "stdout",
          "text": [
            "valid_loss=0.028, test_los0.038, Model Save\n",
            "epoch = 28, train_loss : 0.067, valid_loss : 0.028, test_loss : 0.038\n",
            "valid_loss=0.027, test_los0.038, Model Save\n",
            "epoch = 29, train_loss : 0.066, valid_loss : 0.027, test_loss : 0.038\n"
          ]
        },
        {
          "output_type": "stream",
          "name": "stderr",
          "text": [
            "100%|██████████| 30/30 [00:03<00:00,  9.72it/s]\n"
          ]
        },
        {
          "output_type": "stream",
          "name": "stdout",
          "text": [
            "valid_loss=0.027, test_los0.038, Model Save\n",
            "epoch = 30, train_loss : 0.066, valid_loss : 0.027, test_loss : 0.038\n"
          ]
        },
        {
          "output_type": "stream",
          "name": "stderr",
          "text": [
            "  7%|▋         | 2/30 [00:00<00:03,  9.10it/s]"
          ]
        },
        {
          "output_type": "stream",
          "name": "stdout",
          "text": [
            "valid_loss=0.327, test_los0.256, Model Save\n",
            "epoch = 1, train_loss : 0.083, valid_loss : 0.327, test_loss : 0.256\n",
            "epoch = 2, train_loss : 0.055, valid_loss : 0.375, test_loss : 0.279\n"
          ]
        },
        {
          "output_type": "stream",
          "name": "stderr",
          "text": [
            " 13%|█▎        | 4/30 [00:00<00:03,  7.17it/s]"
          ]
        },
        {
          "output_type": "stream",
          "name": "stdout",
          "text": [
            "epoch = 3, train_loss : 0.047, valid_loss : 0.329, test_loss : 0.244\n",
            "valid_loss=0.281, test_los0.210, Model Save\n",
            "epoch = 4, train_loss : 0.043, valid_loss : 0.281, test_loss : 0.210\n"
          ]
        },
        {
          "output_type": "stream",
          "name": "stderr",
          "text": [
            " 20%|██        | 6/30 [00:00<00:03,  6.82it/s]"
          ]
        },
        {
          "output_type": "stream",
          "name": "stdout",
          "text": [
            "valid_loss=0.240, test_los0.180, Model Save\n",
            "epoch = 5, train_loss : 0.039, valid_loss : 0.240, test_loss : 0.180\n",
            "valid_loss=0.204, test_los0.154, Model Save\n",
            "epoch = 6, train_loss : 0.036, valid_loss : 0.204, test_loss : 0.154\n"
          ]
        },
        {
          "output_type": "stream",
          "name": "stderr",
          "text": [
            " 27%|██▋       | 8/30 [00:01<00:02,  7.37it/s]"
          ]
        },
        {
          "output_type": "stream",
          "name": "stdout",
          "text": [
            "valid_loss=0.175, test_los0.133, Model Save\n",
            "epoch = 7, train_loss : 0.034, valid_loss : 0.175, test_loss : 0.133\n",
            "valid_loss=0.150, test_los0.115, Model Save\n",
            "epoch = 8, train_loss : 0.031, valid_loss : 0.150, test_loss : 0.115\n"
          ]
        },
        {
          "output_type": "stream",
          "name": "stderr",
          "text": [
            " 33%|███▎      | 10/30 [00:01<00:02,  7.56it/s]"
          ]
        },
        {
          "output_type": "stream",
          "name": "stdout",
          "text": [
            "valid_loss=0.129, test_los0.100, Model Save\n",
            "epoch = 9, train_loss : 0.030, valid_loss : 0.129, test_loss : 0.100\n",
            "valid_loss=0.112, test_los0.088, Model Save\n",
            "epoch = 10, train_loss : 0.028, valid_loss : 0.112, test_loss : 0.088\n"
          ]
        },
        {
          "output_type": "stream",
          "name": "stderr",
          "text": [
            " 40%|████      | 12/30 [00:01<00:02,  7.43it/s]"
          ]
        },
        {
          "output_type": "stream",
          "name": "stdout",
          "text": [
            "valid_loss=0.098, test_los0.077, Model Save\n",
            "epoch = 11, train_loss : 0.027, valid_loss : 0.098, test_loss : 0.077\n",
            "valid_loss=0.086, test_los0.069, Model Save\n",
            "epoch = 12, train_loss : 0.025, valid_loss : 0.086, test_loss : 0.069\n"
          ]
        },
        {
          "output_type": "stream",
          "name": "stderr",
          "text": [
            " 50%|█████     | 15/30 [00:01<00:01,  9.26it/s]"
          ]
        },
        {
          "output_type": "stream",
          "name": "stdout",
          "text": [
            "valid_loss=0.077, test_los0.062, Model Save\n",
            "epoch = 13, train_loss : 0.024, valid_loss : 0.077, test_loss : 0.062\n",
            "valid_loss=0.069, test_los0.056, Model Save\n",
            "epoch = 14, train_loss : 0.024, valid_loss : 0.069, test_loss : 0.056\n",
            "valid_loss=0.062, test_los0.052, Model Save\n",
            "epoch = 15, train_loss : 0.023, valid_loss : 0.062, test_loss : 0.052\n"
          ]
        },
        {
          "output_type": "stream",
          "name": "stderr",
          "text": [
            "\r 57%|█████▋    | 17/30 [00:02<00:01, 10.49it/s]"
          ]
        },
        {
          "output_type": "stream",
          "name": "stdout",
          "text": [
            "valid_loss=0.057, test_los0.048, Model Save\n",
            "epoch = 16, train_loss : 0.022, valid_loss : 0.057, test_loss : 0.048\n",
            "valid_loss=0.053, test_los0.045, Model Save\n",
            "epoch = 17, train_loss : 0.022, valid_loss : 0.053, test_loss : 0.045\n",
            "valid_loss=0.050, test_los0.043, Model Save\n",
            "epoch = 18, train_loss : 0.021, valid_loss : 0.050, test_loss : 0.043\n"
          ]
        },
        {
          "output_type": "stream",
          "name": "stderr",
          "text": [
            " 70%|███████   | 21/30 [00:02<00:00, 12.03it/s]"
          ]
        },
        {
          "output_type": "stream",
          "name": "stdout",
          "text": [
            "valid_loss=0.047, test_los0.041, Model Save\n",
            "epoch = 19, train_loss : 0.021, valid_loss : 0.047, test_loss : 0.041\n",
            "valid_loss=0.045, test_los0.039, Model Save\n",
            "epoch = 20, train_loss : 0.021, valid_loss : 0.045, test_loss : 0.039\n",
            "valid_loss=0.043, test_los0.038, Model Save\n",
            "epoch = 21, train_loss : 0.020, valid_loss : 0.043, test_loss : 0.038\n"
          ]
        },
        {
          "output_type": "stream",
          "name": "stderr",
          "text": [
            "\r 77%|███████▋  | 23/30 [00:02<00:00, 12.05it/s]"
          ]
        },
        {
          "output_type": "stream",
          "name": "stdout",
          "text": [
            "valid_loss=0.041, test_los0.037, Model Save\n",
            "epoch = 22, train_loss : 0.020, valid_loss : 0.041, test_loss : 0.037\n",
            "valid_loss=0.040, test_los0.036, Model Save\n",
            "epoch = 23, train_loss : 0.020, valid_loss : 0.040, test_loss : 0.036\n",
            "valid_loss=0.039, test_los0.035, Model Save\n",
            "epoch = 24, train_loss : 0.020, valid_loss : 0.039, test_loss : 0.035\n"
          ]
        },
        {
          "output_type": "stream",
          "name": "stderr",
          "text": [
            " 90%|█████████ | 27/30 [00:02<00:00, 12.16it/s]"
          ]
        },
        {
          "output_type": "stream",
          "name": "stdout",
          "text": [
            "valid_loss=0.038, test_los0.035, Model Save\n",
            "epoch = 25, train_loss : 0.020, valid_loss : 0.038, test_loss : 0.035\n",
            "valid_loss=0.038, test_los0.034, Model Save\n",
            "epoch = 26, train_loss : 0.019, valid_loss : 0.038, test_loss : 0.034\n",
            "valid_loss=0.037, test_los0.034, Model Save\n",
            "epoch = 27, train_loss : 0.019, valid_loss : 0.037, test_loss : 0.034\n"
          ]
        },
        {
          "output_type": "stream",
          "name": "stderr",
          "text": [
            "100%|██████████| 30/30 [00:03<00:00,  9.71it/s]"
          ]
        },
        {
          "output_type": "stream",
          "name": "stdout",
          "text": [
            "valid_loss=0.036, test_los0.034, Model Save\n",
            "epoch = 28, train_loss : 0.019, valid_loss : 0.036, test_loss : 0.034\n",
            "valid_loss=0.036, test_los0.033, Model Save\n",
            "epoch = 29, train_loss : 0.019, valid_loss : 0.036, test_loss : 0.033\n",
            "valid_loss=0.036, test_los0.033, Model Save\n",
            "epoch = 30, train_loss : 0.019, valid_loss : 0.036, test_loss : 0.033\n"
          ]
        },
        {
          "output_type": "stream",
          "name": "stderr",
          "text": [
            "\n",
            "  7%|▋         | 2/30 [00:00<00:02, 13.21it/s]"
          ]
        },
        {
          "output_type": "stream",
          "name": "stdout",
          "text": [
            "valid_loss=0.098, test_los0.087, Model Save\n",
            "epoch = 1, train_loss : 0.161, valid_loss : 0.098, test_loss : 0.087\n",
            "valid_loss=0.087, test_los0.107, Model Save\n",
            "epoch = 2, train_loss : 0.113, valid_loss : 0.087, test_loss : 0.107\n",
            "valid_loss=0.077, test_los0.109, Model Save\n",
            "epoch = 3, train_loss : 0.096, valid_loss : 0.077, test_loss : 0.109\n"
          ]
        },
        {
          "output_type": "stream",
          "name": "stderr",
          "text": [
            " 20%|██        | 6/30 [00:00<00:01, 12.54it/s]"
          ]
        },
        {
          "output_type": "stream",
          "name": "stdout",
          "text": [
            "valid_loss=0.067, test_los0.102, Model Save\n",
            "epoch = 4, train_loss : 0.084, valid_loss : 0.067, test_loss : 0.102\n",
            "valid_loss=0.060, test_los0.091, Model Save\n",
            "epoch = 5, train_loss : 0.075, valid_loss : 0.060, test_loss : 0.091\n",
            "valid_loss=0.054, test_los0.082, Model Save\n",
            "epoch = 6, train_loss : 0.068, valid_loss : 0.054, test_loss : 0.082\n"
          ]
        },
        {
          "output_type": "stream",
          "name": "stderr",
          "text": [
            "\r 27%|██▋       | 8/30 [00:00<00:01, 12.15it/s]"
          ]
        },
        {
          "output_type": "stream",
          "name": "stdout",
          "text": [
            "valid_loss=0.050, test_los0.074, Model Save\n",
            "epoch = 7, train_loss : 0.062, valid_loss : 0.050, test_loss : 0.074\n",
            "valid_loss=0.046, test_los0.068, Model Save\n",
            "epoch = 8, train_loss : 0.057, valid_loss : 0.046, test_loss : 0.068\n",
            "valid_loss=0.044, test_los0.063, Model Save\n",
            "epoch = 9, train_loss : 0.054, valid_loss : 0.044, test_loss : 0.063\n"
          ]
        },
        {
          "output_type": "stream",
          "name": "stderr",
          "text": [
            " 40%|████      | 12/30 [00:00<00:01, 12.47it/s]"
          ]
        },
        {
          "output_type": "stream",
          "name": "stdout",
          "text": [
            "valid_loss=0.042, test_los0.060, Model Save\n",
            "epoch = 10, train_loss : 0.051, valid_loss : 0.042, test_loss : 0.060\n",
            "valid_loss=0.041, test_los0.057, Model Save\n",
            "epoch = 11, train_loss : 0.049, valid_loss : 0.041, test_loss : 0.057\n",
            "valid_loss=0.040, test_los0.055, Model Save\n",
            "epoch = 12, train_loss : 0.047, valid_loss : 0.040, test_loss : 0.055\n"
          ]
        },
        {
          "output_type": "stream",
          "name": "stderr",
          "text": [
            "\r 47%|████▋     | 14/30 [00:01<00:01, 12.42it/s]"
          ]
        },
        {
          "output_type": "stream",
          "name": "stdout",
          "text": [
            "valid_loss=0.040, test_los0.053, Model Save\n",
            "epoch = 13, train_loss : 0.046, valid_loss : 0.040, test_loss : 0.053\n",
            "valid_loss=0.039, test_los0.052, Model Save\n",
            "epoch = 14, train_loss : 0.045, valid_loss : 0.039, test_loss : 0.052\n",
            "valid_loss=0.039, test_los0.051, Model Save\n",
            "epoch = 15, train_loss : 0.044, valid_loss : 0.039, test_loss : 0.051\n"
          ]
        },
        {
          "output_type": "stream",
          "name": "stderr",
          "text": [
            " 60%|██████    | 18/30 [00:01<00:00, 12.75it/s]"
          ]
        },
        {
          "output_type": "stream",
          "name": "stdout",
          "text": [
            "valid_loss=0.038, test_los0.050, Model Save\n",
            "epoch = 16, train_loss : 0.043, valid_loss : 0.038, test_loss : 0.050\n",
            "valid_loss=0.038, test_los0.049, Model Save\n",
            "epoch = 17, train_loss : 0.042, valid_loss : 0.038, test_loss : 0.049\n",
            "valid_loss=0.038, test_los0.049, Model Save\n",
            "epoch = 18, train_loss : 0.042, valid_loss : 0.038, test_loss : 0.049\n"
          ]
        },
        {
          "output_type": "stream",
          "name": "stderr",
          "text": [
            "\r 67%|██████▋   | 20/30 [00:01<00:00, 12.83it/s]"
          ]
        },
        {
          "output_type": "stream",
          "name": "stdout",
          "text": [
            "valid_loss=0.038, test_los0.048, Model Save\n",
            "epoch = 19, train_loss : 0.041, valid_loss : 0.038, test_loss : 0.048\n",
            "valid_loss=0.038, test_los0.048, Model Save\n",
            "epoch = 20, train_loss : 0.041, valid_loss : 0.038, test_loss : 0.048\n",
            "valid_loss=0.038, test_los0.047, Model Save\n",
            "epoch = 21, train_loss : 0.040, valid_loss : 0.038, test_loss : 0.047\n"
          ]
        },
        {
          "output_type": "stream",
          "name": "stderr",
          "text": [
            " 80%|████████  | 24/30 [00:01<00:00, 12.82it/s]"
          ]
        },
        {
          "output_type": "stream",
          "name": "stdout",
          "text": [
            "valid_loss=0.038, test_los0.047, Model Save\n",
            "epoch = 22, train_loss : 0.040, valid_loss : 0.038, test_loss : 0.047\n",
            "valid_loss=0.038, test_los0.047, Model Save\n",
            "epoch = 23, train_loss : 0.040, valid_loss : 0.038, test_loss : 0.047\n",
            "valid_loss=0.038, test_los0.046, Model Save\n",
            "epoch = 24, train_loss : 0.039, valid_loss : 0.038, test_loss : 0.046\n"
          ]
        },
        {
          "output_type": "stream",
          "name": "stderr",
          "text": [
            "\r 87%|████████▋ | 26/30 [00:02<00:00, 12.62it/s]"
          ]
        },
        {
          "output_type": "stream",
          "name": "stdout",
          "text": [
            "valid_loss=0.038, test_los0.046, Model Save\n",
            "epoch = 25, train_loss : 0.039, valid_loss : 0.038, test_loss : 0.046\n",
            "valid_loss=0.038, test_los0.046, Model Save\n",
            "epoch = 26, train_loss : 0.039, valid_loss : 0.038, test_loss : 0.046\n",
            "valid_loss=0.038, test_los0.046, Model Save\n",
            "epoch = 27, train_loss : 0.039, valid_loss : 0.038, test_loss : 0.046\n"
          ]
        },
        {
          "output_type": "stream",
          "name": "stderr",
          "text": [
            "100%|██████████| 30/30 [00:02<00:00, 12.60it/s]"
          ]
        },
        {
          "output_type": "stream",
          "name": "stdout",
          "text": [
            "valid_loss=0.038, test_los0.045, Model Save\n",
            "epoch = 28, train_loss : 0.038, valid_loss : 0.038, test_loss : 0.045\n",
            "valid_loss=0.038, test_los0.045, Model Save\n",
            "epoch = 29, train_loss : 0.038, valid_loss : 0.038, test_loss : 0.045\n",
            "valid_loss=0.038, test_los0.045, Model Save\n",
            "epoch = 30, train_loss : 0.038, valid_loss : 0.038, test_loss : 0.045\n"
          ]
        },
        {
          "output_type": "stream",
          "name": "stderr",
          "text": [
            "\n",
            "  7%|▋         | 2/30 [00:00<00:02, 13.57it/s]"
          ]
        },
        {
          "output_type": "stream",
          "name": "stdout",
          "text": [
            "valid_loss=0.110, test_los0.104, Model Save\n",
            "epoch = 1, train_loss : 0.140, valid_loss : 0.110, test_loss : 0.104\n",
            "valid_loss=0.081, test_los0.074, Model Save\n",
            "epoch = 2, train_loss : 0.116, valid_loss : 0.081, test_loss : 0.074\n",
            "valid_loss=0.065, test_los0.058, Model Save\n",
            "epoch = 3, train_loss : 0.102, valid_loss : 0.065, test_loss : 0.058\n"
          ]
        },
        {
          "output_type": "stream",
          "name": "stderr",
          "text": [
            " 20%|██        | 6/30 [00:00<00:01, 13.28it/s]"
          ]
        },
        {
          "output_type": "stream",
          "name": "stdout",
          "text": [
            "valid_loss=0.054, test_los0.047, Model Save\n",
            "epoch = 4, train_loss : 0.092, valid_loss : 0.054, test_loss : 0.047\n",
            "valid_loss=0.048, test_los0.041, Model Save\n",
            "epoch = 5, train_loss : 0.085, valid_loss : 0.048, test_loss : 0.041\n",
            "valid_loss=0.044, test_los0.036, Model Save\n",
            "epoch = 6, train_loss : 0.080, valid_loss : 0.044, test_loss : 0.036\n"
          ]
        },
        {
          "output_type": "stream",
          "name": "stderr",
          "text": [
            "\r 27%|██▋       | 8/30 [00:00<00:01, 12.95it/s]"
          ]
        },
        {
          "output_type": "stream",
          "name": "stdout",
          "text": [
            "valid_loss=0.041, test_los0.034, Model Save\n",
            "epoch = 7, train_loss : 0.077, valid_loss : 0.041, test_loss : 0.034\n",
            "valid_loss=0.039, test_los0.032, Model Save\n",
            "epoch = 8, train_loss : 0.074, valid_loss : 0.039, test_loss : 0.032\n",
            "valid_loss=0.038, test_los0.031, Model Save\n",
            "epoch = 9, train_loss : 0.072, valid_loss : 0.038, test_loss : 0.031\n"
          ]
        },
        {
          "output_type": "stream",
          "name": "stderr",
          "text": [
            " 40%|████      | 12/30 [00:00<00:01, 13.35it/s]"
          ]
        },
        {
          "output_type": "stream",
          "name": "stdout",
          "text": [
            "valid_loss=0.037, test_los0.030, Model Save\n",
            "epoch = 10, train_loss : 0.070, valid_loss : 0.037, test_loss : 0.030\n",
            "valid_loss=0.036, test_los0.029, Model Save\n",
            "epoch = 11, train_loss : 0.068, valid_loss : 0.036, test_loss : 0.029\n",
            "valid_loss=0.036, test_los0.028, Model Save\n",
            "epoch = 12, train_loss : 0.067, valid_loss : 0.036, test_loss : 0.028\n"
          ]
        },
        {
          "output_type": "stream",
          "name": "stderr",
          "text": [
            "\r 47%|████▋     | 14/30 [00:01<00:01, 12.71it/s]"
          ]
        },
        {
          "output_type": "stream",
          "name": "stdout",
          "text": [
            "valid_loss=0.035, test_los0.028, Model Save\n",
            "epoch = 13, train_loss : 0.066, valid_loss : 0.035, test_loss : 0.028\n",
            "valid_loss=0.035, test_los0.027, Model Save\n",
            "epoch = 14, train_loss : 0.065, valid_loss : 0.035, test_loss : 0.027\n",
            "valid_loss=0.034, test_los0.027, Model Save\n",
            "epoch = 15, train_loss : 0.064, valid_loss : 0.034, test_loss : 0.027\n"
          ]
        },
        {
          "output_type": "stream",
          "name": "stderr",
          "text": [
            " 60%|██████    | 18/30 [00:01<00:00, 12.87it/s]"
          ]
        },
        {
          "output_type": "stream",
          "name": "stdout",
          "text": [
            "valid_loss=0.034, test_los0.027, Model Save\n",
            "epoch = 16, train_loss : 0.063, valid_loss : 0.034, test_loss : 0.027\n",
            "valid_loss=0.034, test_los0.026, Model Save\n",
            "epoch = 17, train_loss : 0.063, valid_loss : 0.034, test_loss : 0.026\n",
            "valid_loss=0.034, test_los0.026, Model Save\n",
            "epoch = 18, train_loss : 0.062, valid_loss : 0.034, test_loss : 0.026\n"
          ]
        },
        {
          "output_type": "stream",
          "name": "stderr",
          "text": [
            "\r 67%|██████▋   | 20/30 [00:01<00:00, 12.96it/s]"
          ]
        },
        {
          "output_type": "stream",
          "name": "stdout",
          "text": [
            "valid_loss=0.034, test_los0.026, Model Save\n",
            "epoch = 19, train_loss : 0.062, valid_loss : 0.034, test_loss : 0.026\n",
            "valid_loss=0.033, test_los0.026, Model Save\n",
            "epoch = 20, train_loss : 0.061, valid_loss : 0.033, test_loss : 0.026\n",
            "valid_loss=0.033, test_los0.026, Model Save\n",
            "epoch = 21, train_loss : 0.061, valid_loss : 0.033, test_loss : 0.026\n"
          ]
        },
        {
          "output_type": "stream",
          "name": "stderr",
          "text": [
            " 80%|████████  | 24/30 [00:01<00:00, 13.06it/s]"
          ]
        },
        {
          "output_type": "stream",
          "name": "stdout",
          "text": [
            "valid_loss=0.033, test_los0.025, Model Save\n",
            "epoch = 22, train_loss : 0.060, valid_loss : 0.033, test_loss : 0.025\n",
            "valid_loss=0.033, test_los0.025, Model Save\n",
            "epoch = 23, train_loss : 0.060, valid_loss : 0.033, test_loss : 0.025\n",
            "valid_loss=0.033, test_los0.025, Model Save\n",
            "epoch = 24, train_loss : 0.060, valid_loss : 0.033, test_loss : 0.025\n"
          ]
        },
        {
          "output_type": "stream",
          "name": "stderr",
          "text": [
            "\r 87%|████████▋ | 26/30 [00:02<00:00, 12.64it/s]"
          ]
        },
        {
          "output_type": "stream",
          "name": "stdout",
          "text": [
            "valid_loss=0.033, test_los0.025, Model Save\n",
            "epoch = 25, train_loss : 0.059, valid_loss : 0.033, test_loss : 0.025\n",
            "valid_loss=0.033, test_los0.025, Model Save\n",
            "epoch = 26, train_loss : 0.059, valid_loss : 0.033, test_loss : 0.025\n",
            "valid_loss=0.033, test_los0.025, Model Save\n",
            "epoch = 27, train_loss : 0.059, valid_loss : 0.033, test_loss : 0.025\n"
          ]
        },
        {
          "output_type": "stream",
          "name": "stderr",
          "text": [
            "100%|██████████| 30/30 [00:02<00:00, 12.90it/s]"
          ]
        },
        {
          "output_type": "stream",
          "name": "stdout",
          "text": [
            "valid_loss=0.033, test_los0.025, Model Save\n",
            "epoch = 28, train_loss : 0.058, valid_loss : 0.033, test_loss : 0.025\n",
            "valid_loss=0.033, test_los0.024, Model Save\n",
            "epoch = 29, train_loss : 0.058, valid_loss : 0.033, test_loss : 0.024\n",
            "valid_loss=0.033, test_los0.024, Model Save\n",
            "epoch = 30, train_loss : 0.058, valid_loss : 0.033, test_loss : 0.024\n"
          ]
        },
        {
          "output_type": "stream",
          "name": "stderr",
          "text": [
            "\n",
            "  7%|▋         | 2/30 [00:00<00:02, 13.65it/s]"
          ]
        },
        {
          "output_type": "stream",
          "name": "stdout",
          "text": [
            "valid_loss=0.232, test_los0.963, Model Save\n",
            "epoch = 1, train_loss : 0.024, valid_loss : 0.232, test_loss : 0.963\n",
            "valid_loss=0.159, test_los0.615, Model Save\n",
            "epoch = 2, train_loss : 0.011, valid_loss : 0.159, test_loss : 0.615\n",
            "valid_loss=0.117, test_los0.434, Model Save\n",
            "epoch = 3, train_loss : 0.009, valid_loss : 0.117, test_loss : 0.434\n"
          ]
        },
        {
          "output_type": "stream",
          "name": "stderr",
          "text": [
            " 20%|██        | 6/30 [00:00<00:02, 11.89it/s]"
          ]
        },
        {
          "output_type": "stream",
          "name": "stdout",
          "text": [
            "valid_loss=0.084, test_los0.290, Model Save\n",
            "epoch = 4, train_loss : 0.008, valid_loss : 0.084, test_loss : 0.290\n",
            "valid_loss=0.062, test_los0.194, Model Save\n",
            "epoch = 5, train_loss : 0.006, valid_loss : 0.062, test_loss : 0.194\n",
            "valid_loss=0.046, test_los0.130, Model Save\n",
            "epoch = 6, train_loss : 0.006, valid_loss : 0.046, test_loss : 0.130\n"
          ]
        },
        {
          "output_type": "stream",
          "name": "stderr",
          "text": [
            "\r 27%|██▋       | 8/30 [00:00<00:01, 11.71it/s]"
          ]
        },
        {
          "output_type": "stream",
          "name": "stdout",
          "text": [
            "valid_loss=0.036, test_los0.088, Model Save\n",
            "epoch = 7, train_loss : 0.005, valid_loss : 0.036, test_loss : 0.088\n",
            "valid_loss=0.029, test_los0.061, Model Save\n",
            "epoch = 8, train_loss : 0.005, valid_loss : 0.029, test_loss : 0.061\n",
            "valid_loss=0.024, test_los0.044, Model Save\n",
            "epoch = 9, train_loss : 0.004, valid_loss : 0.024, test_loss : 0.044\n"
          ]
        },
        {
          "output_type": "stream",
          "name": "stderr",
          "text": [
            " 40%|████      | 12/30 [00:00<00:01, 12.75it/s]"
          ]
        },
        {
          "output_type": "stream",
          "name": "stdout",
          "text": [
            "valid_loss=0.021, test_los0.033, Model Save\n",
            "epoch = 10, train_loss : 0.004, valid_loss : 0.021, test_loss : 0.033\n",
            "valid_loss=0.019, test_los0.027, Model Save\n",
            "epoch = 11, train_loss : 0.004, valid_loss : 0.019, test_loss : 0.027\n",
            "valid_loss=0.018, test_los0.023, Model Save\n",
            "epoch = 12, train_loss : 0.004, valid_loss : 0.018, test_loss : 0.023\n"
          ]
        },
        {
          "output_type": "stream",
          "name": "stderr",
          "text": [
            "\r 47%|████▋     | 14/30 [00:01<00:01, 12.89it/s]"
          ]
        },
        {
          "output_type": "stream",
          "name": "stdout",
          "text": [
            "valid_loss=0.017, test_los0.020, Model Save\n",
            "epoch = 13, train_loss : 0.004, valid_loss : 0.017, test_loss : 0.020\n",
            "valid_loss=0.016, test_los0.019, Model Save\n",
            "epoch = 14, train_loss : 0.004, valid_loss : 0.016, test_loss : 0.019\n",
            "valid_loss=0.016, test_los0.018, Model Save\n",
            "epoch = 15, train_loss : 0.004, valid_loss : 0.016, test_loss : 0.018\n"
          ]
        },
        {
          "output_type": "stream",
          "name": "stderr",
          "text": [
            " 60%|██████    | 18/30 [00:01<00:00, 13.06it/s]"
          ]
        },
        {
          "output_type": "stream",
          "name": "stdout",
          "text": [
            "valid_loss=0.016, test_los0.018, Model Save\n",
            "epoch = 16, train_loss : 0.004, valid_loss : 0.016, test_loss : 0.018\n",
            "valid_loss=0.015, test_los0.017, Model Save\n",
            "epoch = 17, train_loss : 0.004, valid_loss : 0.015, test_loss : 0.017\n",
            "valid_loss=0.015, test_los0.017, Model Save\n",
            "epoch = 18, train_loss : 0.004, valid_loss : 0.015, test_loss : 0.017\n"
          ]
        },
        {
          "output_type": "stream",
          "name": "stderr",
          "text": [
            "\r 67%|██████▋   | 20/30 [00:01<00:00, 13.09it/s]"
          ]
        },
        {
          "output_type": "stream",
          "name": "stdout",
          "text": [
            "valid_loss=0.015, test_los0.017, Model Save\n",
            "epoch = 19, train_loss : 0.004, valid_loss : 0.015, test_loss : 0.017\n",
            "valid_loss=0.015, test_los0.017, Model Save\n",
            "epoch = 20, train_loss : 0.004, valid_loss : 0.015, test_loss : 0.017\n",
            "valid_loss=0.015, test_los0.017, Model Save\n",
            "epoch = 21, train_loss : 0.004, valid_loss : 0.015, test_loss : 0.017\n"
          ]
        },
        {
          "output_type": "stream",
          "name": "stderr",
          "text": [
            " 80%|████████  | 24/30 [00:01<00:00, 13.37it/s]"
          ]
        },
        {
          "output_type": "stream",
          "name": "stdout",
          "text": [
            "valid_loss=0.015, test_los0.018, Model Save\n",
            "epoch = 22, train_loss : 0.004, valid_loss : 0.015, test_loss : 0.018\n",
            "valid_loss=0.015, test_los0.018, Model Save\n",
            "epoch = 23, train_loss : 0.004, valid_loss : 0.015, test_loss : 0.018\n",
            "valid_loss=0.015, test_los0.018, Model Save\n",
            "epoch = 24, train_loss : 0.004, valid_loss : 0.015, test_loss : 0.018\n"
          ]
        },
        {
          "output_type": "stream",
          "name": "stderr",
          "text": [
            "\r 87%|████████▋ | 26/30 [00:02<00:00, 13.21it/s]"
          ]
        },
        {
          "output_type": "stream",
          "name": "stdout",
          "text": [
            "valid_loss=0.015, test_los0.018, Model Save\n",
            "epoch = 25, train_loss : 0.004, valid_loss : 0.015, test_loss : 0.018\n",
            "valid_loss=0.015, test_los0.018, Model Save\n",
            "epoch = 26, train_loss : 0.004, valid_loss : 0.015, test_loss : 0.018\n",
            "valid_loss=0.015, test_los0.019, Model Save\n",
            "epoch = 27, train_loss : 0.004, valid_loss : 0.015, test_loss : 0.019\n"
          ]
        },
        {
          "output_type": "stream",
          "name": "stderr",
          "text": [
            "100%|██████████| 30/30 [00:02<00:00, 12.97it/s]"
          ]
        },
        {
          "output_type": "stream",
          "name": "stdout",
          "text": [
            "valid_loss=0.015, test_los0.019, Model Save\n",
            "epoch = 28, train_loss : 0.004, valid_loss : 0.015, test_loss : 0.019\n",
            "valid_loss=0.015, test_los0.019, Model Save\n",
            "epoch = 29, train_loss : 0.004, valid_loss : 0.015, test_loss : 0.019\n",
            "valid_loss=0.015, test_los0.019, Model Save\n",
            "epoch = 30, train_loss : 0.004, valid_loss : 0.015, test_loss : 0.019\n"
          ]
        },
        {
          "output_type": "stream",
          "name": "stderr",
          "text": [
            "\n",
            "  7%|▋         | 2/30 [00:00<00:02, 13.86it/s]"
          ]
        },
        {
          "output_type": "stream",
          "name": "stdout",
          "text": [
            "valid_loss=0.222, test_los0.271, Model Save\n",
            "epoch = 1, train_loss : 0.162, valid_loss : 0.222, test_loss : 0.271\n",
            "valid_loss=0.199, test_los0.252, Model Save\n",
            "epoch = 2, train_loss : 0.116, valid_loss : 0.199, test_loss : 0.252\n",
            "valid_loss=0.166, test_los0.209, Model Save\n",
            "epoch = 3, train_loss : 0.093, valid_loss : 0.166, test_loss : 0.209\n"
          ]
        },
        {
          "output_type": "stream",
          "name": "stderr",
          "text": [
            "\r 13%|█▎        | 4/30 [00:00<00:02,  9.61it/s]"
          ]
        },
        {
          "output_type": "stream",
          "name": "stdout",
          "text": [
            "valid_loss=0.134, test_los0.166, Model Save\n",
            "epoch = 4, train_loss : 0.076, valid_loss : 0.134, test_loss : 0.166\n",
            "valid_loss=0.108, test_los0.131, Model Save\n",
            "epoch = 5, train_loss : 0.063, valid_loss : 0.108, test_loss : 0.131\n"
          ]
        },
        {
          "output_type": "stream",
          "name": "stderr",
          "text": [
            " 23%|██▎       | 7/30 [00:00<00:02,  7.68it/s]"
          ]
        },
        {
          "output_type": "stream",
          "name": "stdout",
          "text": [
            "valid_loss=0.087, test_los0.103, Model Save\n",
            "epoch = 6, train_loss : 0.053, valid_loss : 0.087, test_loss : 0.103\n",
            "valid_loss=0.071, test_los0.082, Model Save\n",
            "epoch = 7, train_loss : 0.046, valid_loss : 0.071, test_loss : 0.082\n"
          ]
        },
        {
          "output_type": "stream",
          "name": "stderr",
          "text": [
            " 30%|███       | 9/30 [00:01<00:02,  7.67it/s]"
          ]
        },
        {
          "output_type": "stream",
          "name": "stdout",
          "text": [
            "valid_loss=0.059, test_los0.067, Model Save\n",
            "epoch = 8, train_loss : 0.040, valid_loss : 0.059, test_loss : 0.067\n",
            "valid_loss=0.050, test_los0.056, Model Save\n",
            "epoch = 9, train_loss : 0.036, valid_loss : 0.050, test_loss : 0.056\n"
          ]
        },
        {
          "output_type": "stream",
          "name": "stderr",
          "text": [
            " 37%|███▋      | 11/30 [00:01<00:02,  7.95it/s]"
          ]
        },
        {
          "output_type": "stream",
          "name": "stdout",
          "text": [
            "valid_loss=0.043, test_los0.048, Model Save\n",
            "epoch = 10, train_loss : 0.033, valid_loss : 0.043, test_loss : 0.048\n",
            "valid_loss=0.038, test_los0.042, Model Save\n",
            "epoch = 11, train_loss : 0.030, valid_loss : 0.038, test_loss : 0.042\n"
          ]
        },
        {
          "output_type": "stream",
          "name": "stderr",
          "text": [
            " 43%|████▎     | 13/30 [00:01<00:02,  8.06it/s]"
          ]
        },
        {
          "output_type": "stream",
          "name": "stdout",
          "text": [
            "valid_loss=0.034, test_los0.037, Model Save\n",
            "epoch = 12, train_loss : 0.029, valid_loss : 0.034, test_loss : 0.037\n",
            "valid_loss=0.031, test_los0.034, Model Save\n",
            "epoch = 13, train_loss : 0.027, valid_loss : 0.031, test_loss : 0.034\n"
          ]
        },
        {
          "output_type": "stream",
          "name": "stderr",
          "text": [
            " 50%|█████     | 15/30 [00:01<00:01,  7.74it/s]"
          ]
        },
        {
          "output_type": "stream",
          "name": "stdout",
          "text": [
            "valid_loss=0.028, test_los0.032, Model Save\n",
            "epoch = 14, train_loss : 0.026, valid_loss : 0.028, test_loss : 0.032\n",
            "valid_loss=0.027, test_los0.031, Model Save\n",
            "epoch = 15, train_loss : 0.026, valid_loss : 0.027, test_loss : 0.031\n"
          ]
        },
        {
          "output_type": "stream",
          "name": "stderr",
          "text": [
            " 57%|█████▋    | 17/30 [00:02<00:01,  7.55it/s]"
          ]
        },
        {
          "output_type": "stream",
          "name": "stdout",
          "text": [
            "valid_loss=0.025, test_los0.030, Model Save\n",
            "epoch = 16, train_loss : 0.025, valid_loss : 0.025, test_loss : 0.030\n",
            "valid_loss=0.024, test_los0.029, Model Save\n",
            "epoch = 17, train_loss : 0.025, valid_loss : 0.024, test_loss : 0.029\n"
          ]
        },
        {
          "output_type": "stream",
          "name": "stderr",
          "text": [
            " 63%|██████▎   | 19/30 [00:02<00:01,  7.77it/s]"
          ]
        },
        {
          "output_type": "stream",
          "name": "stdout",
          "text": [
            "valid_loss=0.024, test_los0.028, Model Save\n",
            "epoch = 18, train_loss : 0.024, valid_loss : 0.024, test_loss : 0.028\n",
            "valid_loss=0.023, test_los0.028, Model Save\n",
            "epoch = 19, train_loss : 0.024, valid_loss : 0.023, test_loss : 0.028\n"
          ]
        },
        {
          "output_type": "stream",
          "name": "stderr",
          "text": [
            " 70%|███████   | 21/30 [00:02<00:01,  8.01it/s]"
          ]
        },
        {
          "output_type": "stream",
          "name": "stdout",
          "text": [
            "valid_loss=0.022, test_los0.027, Model Save\n",
            "epoch = 20, train_loss : 0.024, valid_loss : 0.022, test_loss : 0.027\n",
            "valid_loss=0.022, test_los0.027, Model Save\n",
            "epoch = 21, train_loss : 0.024, valid_loss : 0.022, test_loss : 0.027\n"
          ]
        },
        {
          "output_type": "stream",
          "name": "stderr",
          "text": [
            " 77%|███████▋  | 23/30 [00:02<00:00,  7.98it/s]"
          ]
        },
        {
          "output_type": "stream",
          "name": "stdout",
          "text": [
            "valid_loss=0.022, test_los0.027, Model Save\n",
            "epoch = 22, train_loss : 0.023, valid_loss : 0.022, test_loss : 0.027\n",
            "valid_loss=0.021, test_los0.027, Model Save\n",
            "epoch = 23, train_loss : 0.023, valid_loss : 0.021, test_loss : 0.027\n"
          ]
        },
        {
          "output_type": "stream",
          "name": "stderr",
          "text": [
            " 83%|████████▎ | 25/30 [00:03<00:00,  7.65it/s]"
          ]
        },
        {
          "output_type": "stream",
          "name": "stdout",
          "text": [
            "valid_loss=0.021, test_los0.026, Model Save\n",
            "epoch = 24, train_loss : 0.023, valid_loss : 0.021, test_loss : 0.026\n",
            "valid_loss=0.021, test_los0.026, Model Save\n",
            "epoch = 25, train_loss : 0.023, valid_loss : 0.021, test_loss : 0.026\n"
          ]
        },
        {
          "output_type": "stream",
          "name": "stderr",
          "text": [
            " 90%|█████████ | 27/30 [00:03<00:00,  7.30it/s]"
          ]
        },
        {
          "output_type": "stream",
          "name": "stdout",
          "text": [
            "valid_loss=0.021, test_los0.026, Model Save\n",
            "epoch = 26, train_loss : 0.023, valid_loss : 0.021, test_loss : 0.026\n",
            "valid_loss=0.021, test_los0.026, Model Save\n",
            "epoch = 27, train_loss : 0.023, valid_loss : 0.021, test_loss : 0.026\n"
          ]
        },
        {
          "output_type": "stream",
          "name": "stderr",
          "text": [
            " 97%|█████████▋| 29/30 [00:03<00:00,  7.75it/s]"
          ]
        },
        {
          "output_type": "stream",
          "name": "stdout",
          "text": [
            "valid_loss=0.020, test_los0.026, Model Save\n",
            "epoch = 28, train_loss : 0.023, valid_loss : 0.020, test_loss : 0.026\n",
            "valid_loss=0.020, test_los0.026, Model Save\n",
            "epoch = 29, train_loss : 0.022, valid_loss : 0.020, test_loss : 0.026\n"
          ]
        },
        {
          "output_type": "stream",
          "name": "stderr",
          "text": [
            "100%|██████████| 30/30 [00:03<00:00,  7.81it/s]\n"
          ]
        },
        {
          "output_type": "stream",
          "name": "stdout",
          "text": [
            "valid_loss=0.020, test_los0.026, Model Save\n",
            "epoch = 30, train_loss : 0.022, valid_loss : 0.020, test_loss : 0.026\n"
          ]
        },
        {
          "output_type": "stream",
          "name": "stderr",
          "text": [
            "  7%|▋         | 2/30 [00:00<00:01, 14.07it/s]"
          ]
        },
        {
          "output_type": "stream",
          "name": "stdout",
          "text": [
            "valid_loss=0.067, test_los0.066, Model Save\n",
            "epoch = 1, train_loss : 0.105, valid_loss : 0.067, test_loss : 0.066\n",
            "valid_loss=0.049, test_los0.055, Model Save\n",
            "epoch = 2, train_loss : 0.068, valid_loss : 0.049, test_loss : 0.055\n",
            "valid_loss=0.038, test_los0.044, Model Save\n",
            "epoch = 3, train_loss : 0.056, valid_loss : 0.038, test_loss : 0.044\n"
          ]
        },
        {
          "output_type": "stream",
          "name": "stderr",
          "text": [
            " 20%|██        | 6/30 [00:00<00:01, 13.18it/s]"
          ]
        },
        {
          "output_type": "stream",
          "name": "stdout",
          "text": [
            "valid_loss=0.031, test_los0.036, Model Save\n",
            "epoch = 4, train_loss : 0.047, valid_loss : 0.031, test_loss : 0.036\n",
            "valid_loss=0.026, test_los0.031, Model Save\n",
            "epoch = 5, train_loss : 0.040, valid_loss : 0.026, test_loss : 0.031\n",
            "valid_loss=0.023, test_los0.028, Model Save\n",
            "epoch = 6, train_loss : 0.036, valid_loss : 0.023, test_loss : 0.028\n"
          ]
        },
        {
          "output_type": "stream",
          "name": "stderr",
          "text": [
            "\r 27%|██▋       | 8/30 [00:00<00:01, 12.42it/s]"
          ]
        },
        {
          "output_type": "stream",
          "name": "stdout",
          "text": [
            "valid_loss=0.022, test_los0.027, Model Save\n",
            "epoch = 7, train_loss : 0.033, valid_loss : 0.022, test_loss : 0.027\n",
            "valid_loss=0.020, test_los0.026, Model Save\n",
            "epoch = 8, train_loss : 0.031, valid_loss : 0.020, test_loss : 0.026\n",
            "valid_loss=0.019, test_los0.025, Model Save\n",
            "epoch = 9, train_loss : 0.029, valid_loss : 0.019, test_loss : 0.025\n"
          ]
        },
        {
          "output_type": "stream",
          "name": "stderr",
          "text": [
            " 40%|████      | 12/30 [00:00<00:01, 12.10it/s]"
          ]
        },
        {
          "output_type": "stream",
          "name": "stdout",
          "text": [
            "valid_loss=0.019, test_los0.024, Model Save\n",
            "epoch = 10, train_loss : 0.029, valid_loss : 0.019, test_loss : 0.024\n",
            "valid_loss=0.018, test_los0.024, Model Save\n",
            "epoch = 11, train_loss : 0.028, valid_loss : 0.018, test_loss : 0.024\n",
            "valid_loss=0.018, test_los0.024, Model Save\n",
            "epoch = 12, train_loss : 0.027, valid_loss : 0.018, test_loss : 0.024\n"
          ]
        },
        {
          "output_type": "stream",
          "name": "stderr",
          "text": [
            "\r 47%|████▋     | 14/30 [00:01<00:01, 11.89it/s]"
          ]
        },
        {
          "output_type": "stream",
          "name": "stdout",
          "text": [
            "valid_loss=0.018, test_los0.023, Model Save\n",
            "epoch = 13, train_loss : 0.027, valid_loss : 0.018, test_loss : 0.023\n",
            "valid_loss=0.017, test_los0.023, Model Save\n",
            "epoch = 14, train_loss : 0.027, valid_loss : 0.017, test_loss : 0.023\n",
            "valid_loss=0.017, test_los0.023, Model Save\n",
            "epoch = 15, train_loss : 0.026, valid_loss : 0.017, test_loss : 0.023\n"
          ]
        },
        {
          "output_type": "stream",
          "name": "stderr",
          "text": [
            " 60%|██████    | 18/30 [00:01<00:00, 13.15it/s]"
          ]
        },
        {
          "output_type": "stream",
          "name": "stdout",
          "text": [
            "valid_loss=0.017, test_los0.023, Model Save\n",
            "epoch = 16, train_loss : 0.026, valid_loss : 0.017, test_loss : 0.023\n",
            "valid_loss=0.017, test_los0.022, Model Save\n",
            "epoch = 17, train_loss : 0.026, valid_loss : 0.017, test_loss : 0.022\n",
            "valid_loss=0.017, test_los0.022, Model Save\n",
            "epoch = 18, train_loss : 0.026, valid_loss : 0.017, test_loss : 0.022\n"
          ]
        },
        {
          "output_type": "stream",
          "name": "stderr",
          "text": [
            "\r 67%|██████▋   | 20/30 [00:01<00:00, 12.93it/s]"
          ]
        },
        {
          "output_type": "stream",
          "name": "stdout",
          "text": [
            "valid_loss=0.017, test_los0.022, Model Save\n",
            "epoch = 19, train_loss : 0.025, valid_loss : 0.017, test_loss : 0.022\n",
            "valid_loss=0.016, test_los0.022, Model Save\n",
            "epoch = 20, train_loss : 0.025, valid_loss : 0.016, test_loss : 0.022\n",
            "valid_loss=0.016, test_los0.021, Model Save\n",
            "epoch = 21, train_loss : 0.025, valid_loss : 0.016, test_loss : 0.021\n"
          ]
        },
        {
          "output_type": "stream",
          "name": "stderr",
          "text": [
            " 80%|████████  | 24/30 [00:01<00:00, 13.10it/s]"
          ]
        },
        {
          "output_type": "stream",
          "name": "stdout",
          "text": [
            "valid_loss=0.016, test_los0.021, Model Save\n",
            "epoch = 22, train_loss : 0.025, valid_loss : 0.016, test_loss : 0.021\n",
            "valid_loss=0.016, test_los0.021, Model Save\n",
            "epoch = 23, train_loss : 0.025, valid_loss : 0.016, test_loss : 0.021\n",
            "valid_loss=0.016, test_los0.021, Model Save\n",
            "epoch = 24, train_loss : 0.024, valid_loss : 0.016, test_loss : 0.021\n"
          ]
        },
        {
          "output_type": "stream",
          "name": "stderr",
          "text": [
            "\r 87%|████████▋ | 26/30 [00:02<00:00, 12.60it/s]"
          ]
        },
        {
          "output_type": "stream",
          "name": "stdout",
          "text": [
            "valid_loss=0.016, test_los0.021, Model Save\n",
            "epoch = 25, train_loss : 0.024, valid_loss : 0.016, test_loss : 0.021\n",
            "valid_loss=0.016, test_los0.021, Model Save\n",
            "epoch = 26, train_loss : 0.024, valid_loss : 0.016, test_loss : 0.021\n",
            "valid_loss=0.016, test_los0.020, Model Save\n",
            "epoch = 27, train_loss : 0.024, valid_loss : 0.016, test_loss : 0.020\n"
          ]
        },
        {
          "output_type": "stream",
          "name": "stderr",
          "text": [
            "100%|██████████| 30/30 [00:02<00:00, 12.73it/s]"
          ]
        },
        {
          "output_type": "stream",
          "name": "stdout",
          "text": [
            "valid_loss=0.016, test_los0.020, Model Save\n",
            "epoch = 28, train_loss : 0.024, valid_loss : 0.016, test_loss : 0.020\n",
            "valid_loss=0.016, test_los0.020, Model Save\n",
            "epoch = 29, train_loss : 0.024, valid_loss : 0.016, test_loss : 0.020\n",
            "valid_loss=0.016, test_los0.020, Model Save\n",
            "epoch = 30, train_loss : 0.024, valid_loss : 0.016, test_loss : 0.020\n"
          ]
        },
        {
          "output_type": "stream",
          "name": "stderr",
          "text": [
            "\n",
            "  7%|▋         | 2/30 [00:00<00:02, 13.76it/s]"
          ]
        },
        {
          "output_type": "stream",
          "name": "stdout",
          "text": [
            "valid_loss=0.167, test_los0.176, Model Save\n",
            "epoch = 1, train_loss : 0.049, valid_loss : 0.167, test_loss : 0.176\n",
            "epoch = 2, train_loss : 0.025, valid_loss : 0.191, test_loss : 0.197\n",
            "epoch = 3, train_loss : 0.020, valid_loss : 0.174, test_loss : 0.179\n"
          ]
        },
        {
          "output_type": "stream",
          "name": "stderr",
          "text": [
            " 20%|██        | 6/30 [00:00<00:01, 13.33it/s]"
          ]
        },
        {
          "output_type": "stream",
          "name": "stdout",
          "text": [
            "valid_loss=0.147, test_los0.152, Model Save\n",
            "epoch = 4, train_loss : 0.018, valid_loss : 0.147, test_loss : 0.152\n",
            "valid_loss=0.121, test_los0.126, Model Save\n",
            "epoch = 5, train_loss : 0.016, valid_loss : 0.121, test_loss : 0.126\n",
            "valid_loss=0.099, test_los0.104, Model Save\n",
            "epoch = 6, train_loss : 0.014, valid_loss : 0.099, test_loss : 0.104\n"
          ]
        },
        {
          "output_type": "stream",
          "name": "stderr",
          "text": [
            "\r 27%|██▋       | 8/30 [00:00<00:01, 13.26it/s]"
          ]
        },
        {
          "output_type": "stream",
          "name": "stdout",
          "text": [
            "valid_loss=0.081, test_los0.086, Model Save\n",
            "epoch = 7, train_loss : 0.012, valid_loss : 0.081, test_loss : 0.086\n",
            "valid_loss=0.066, test_los0.070, Model Save\n",
            "epoch = 8, train_loss : 0.011, valid_loss : 0.066, test_loss : 0.070\n",
            "valid_loss=0.054, test_los0.058, Model Save\n",
            "epoch = 9, train_loss : 0.010, valid_loss : 0.054, test_loss : 0.058\n"
          ]
        },
        {
          "output_type": "stream",
          "name": "stderr",
          "text": [
            " 40%|████      | 12/30 [00:00<00:01, 13.19it/s]"
          ]
        },
        {
          "output_type": "stream",
          "name": "stdout",
          "text": [
            "valid_loss=0.044, test_los0.048, Model Save\n",
            "epoch = 10, train_loss : 0.009, valid_loss : 0.044, test_loss : 0.048\n",
            "valid_loss=0.035, test_los0.039, Model Save\n",
            "epoch = 11, train_loss : 0.008, valid_loss : 0.035, test_loss : 0.039\n",
            "valid_loss=0.029, test_los0.032, Model Save\n",
            "epoch = 12, train_loss : 0.007, valid_loss : 0.029, test_loss : 0.032\n"
          ]
        },
        {
          "output_type": "stream",
          "name": "stderr",
          "text": [
            "\r 47%|████▋     | 14/30 [00:01<00:01, 12.90it/s]"
          ]
        },
        {
          "output_type": "stream",
          "name": "stdout",
          "text": [
            "valid_loss=0.023, test_los0.027, Model Save\n",
            "epoch = 13, train_loss : 0.007, valid_loss : 0.023, test_loss : 0.027\n",
            "valid_loss=0.019, test_los0.023, Model Save\n",
            "epoch = 14, train_loss : 0.006, valid_loss : 0.019, test_loss : 0.023\n",
            "valid_loss=0.016, test_los0.019, Model Save\n",
            "epoch = 15, train_loss : 0.006, valid_loss : 0.016, test_loss : 0.019\n"
          ]
        },
        {
          "output_type": "stream",
          "name": "stderr",
          "text": [
            " 60%|██████    | 18/30 [00:01<00:00, 13.21it/s]"
          ]
        },
        {
          "output_type": "stream",
          "name": "stdout",
          "text": [
            "valid_loss=0.013, test_los0.016, Model Save\n",
            "epoch = 16, train_loss : 0.006, valid_loss : 0.013, test_loss : 0.016\n",
            "valid_loss=0.011, test_los0.014, Model Save\n",
            "epoch = 17, train_loss : 0.006, valid_loss : 0.011, test_loss : 0.014\n",
            "valid_loss=0.010, test_los0.012, Model Save\n",
            "epoch = 18, train_loss : 0.005, valid_loss : 0.010, test_loss : 0.012\n"
          ]
        },
        {
          "output_type": "stream",
          "name": "stderr",
          "text": [
            "\r 67%|██████▋   | 20/30 [00:01<00:00, 13.21it/s]"
          ]
        },
        {
          "output_type": "stream",
          "name": "stdout",
          "text": [
            "valid_loss=0.008, test_los0.011, Model Save\n",
            "epoch = 19, train_loss : 0.005, valid_loss : 0.008, test_loss : 0.011\n",
            "valid_loss=0.008, test_los0.010, Model Save\n",
            "epoch = 20, train_loss : 0.005, valid_loss : 0.008, test_loss : 0.010\n",
            "valid_loss=0.007, test_los0.009, Model Save\n",
            "epoch = 21, train_loss : 0.005, valid_loss : 0.007, test_loss : 0.009\n"
          ]
        },
        {
          "output_type": "stream",
          "name": "stderr",
          "text": [
            " 80%|████████  | 24/30 [00:01<00:00, 13.01it/s]"
          ]
        },
        {
          "output_type": "stream",
          "name": "stdout",
          "text": [
            "valid_loss=0.006, test_los0.009, Model Save\n",
            "epoch = 22, train_loss : 0.005, valid_loss : 0.006, test_loss : 0.009\n",
            "valid_loss=0.006, test_los0.008, Model Save\n",
            "epoch = 23, train_loss : 0.005, valid_loss : 0.006, test_loss : 0.008\n",
            "valid_loss=0.006, test_los0.008, Model Save\n",
            "epoch = 24, train_loss : 0.005, valid_loss : 0.006, test_loss : 0.008\n"
          ]
        },
        {
          "output_type": "stream",
          "name": "stderr",
          "text": [
            "\r 87%|████████▋ | 26/30 [00:01<00:00, 12.76it/s]"
          ]
        },
        {
          "output_type": "stream",
          "name": "stdout",
          "text": [
            "valid_loss=0.006, test_los0.008, Model Save\n",
            "epoch = 25, train_loss : 0.005, valid_loss : 0.006, test_loss : 0.008\n",
            "valid_loss=0.006, test_los0.008, Model Save\n",
            "epoch = 26, train_loss : 0.005, valid_loss : 0.006, test_loss : 0.008\n",
            "valid_loss=0.006, test_los0.008, Model Save\n",
            "epoch = 27, train_loss : 0.005, valid_loss : 0.006, test_loss : 0.008\n"
          ]
        },
        {
          "output_type": "stream",
          "name": "stderr",
          "text": [
            "100%|██████████| 30/30 [00:02<00:00, 12.92it/s]"
          ]
        },
        {
          "output_type": "stream",
          "name": "stdout",
          "text": [
            "valid_loss=0.005, test_los0.008, Model Save\n",
            "epoch = 28, train_loss : 0.005, valid_loss : 0.005, test_loss : 0.008\n",
            "valid_loss=0.005, test_los0.007, Model Save\n",
            "epoch = 29, train_loss : 0.005, valid_loss : 0.005, test_loss : 0.007\n",
            "valid_loss=0.005, test_los0.007, Model Save\n",
            "epoch = 30, train_loss : 0.005, valid_loss : 0.005, test_loss : 0.007\n"
          ]
        },
        {
          "output_type": "stream",
          "name": "stderr",
          "text": [
            "\n",
            "  7%|▋         | 2/30 [00:00<00:02, 12.54it/s]"
          ]
        },
        {
          "output_type": "stream",
          "name": "stdout",
          "text": [
            "valid_loss=0.065, test_los0.194, Model Save\n",
            "epoch = 1, train_loss : 0.066, valid_loss : 0.065, test_loss : 0.194\n",
            "valid_loss=0.032, test_los0.124, Model Save\n",
            "epoch = 2, train_loss : 0.049, valid_loss : 0.032, test_loss : 0.124\n",
            "valid_loss=0.022, test_los0.105, Model Save\n",
            "epoch = 3, train_loss : 0.043, valid_loss : 0.022, test_loss : 0.105\n"
          ]
        },
        {
          "output_type": "stream",
          "name": "stderr",
          "text": [
            " 20%|██        | 6/30 [00:00<00:01, 12.94it/s]"
          ]
        },
        {
          "output_type": "stream",
          "name": "stdout",
          "text": [
            "valid_loss=0.017, test_los0.093, Model Save\n",
            "epoch = 4, train_loss : 0.039, valid_loss : 0.017, test_loss : 0.093\n",
            "valid_loss=0.014, test_los0.086, Model Save\n",
            "epoch = 5, train_loss : 0.037, valid_loss : 0.014, test_loss : 0.086\n",
            "valid_loss=0.013, test_los0.081, Model Save\n",
            "epoch = 6, train_loss : 0.035, valid_loss : 0.013, test_loss : 0.081\n"
          ]
        },
        {
          "output_type": "stream",
          "name": "stderr",
          "text": [
            "\r 27%|██▋       | 8/30 [00:00<00:01, 12.86it/s]"
          ]
        },
        {
          "output_type": "stream",
          "name": "stdout",
          "text": [
            "valid_loss=0.012, test_los0.078, Model Save\n",
            "epoch = 7, train_loss : 0.034, valid_loss : 0.012, test_loss : 0.078\n",
            "valid_loss=0.012, test_los0.075, Model Save\n",
            "epoch = 8, train_loss : 0.033, valid_loss : 0.012, test_loss : 0.075\n",
            "valid_loss=0.011, test_los0.073, Model Save\n",
            "epoch = 9, train_loss : 0.033, valid_loss : 0.011, test_loss : 0.073\n"
          ]
        },
        {
          "output_type": "stream",
          "name": "stderr",
          "text": [
            " 40%|████      | 12/30 [00:00<00:01, 13.01it/s]"
          ]
        },
        {
          "output_type": "stream",
          "name": "stdout",
          "text": [
            "valid_loss=0.011, test_los0.071, Model Save\n",
            "epoch = 10, train_loss : 0.032, valid_loss : 0.011, test_loss : 0.071\n",
            "valid_loss=0.011, test_los0.069, Model Save\n",
            "epoch = 11, train_loss : 0.032, valid_loss : 0.011, test_loss : 0.069\n",
            "valid_loss=0.011, test_los0.068, Model Save\n",
            "epoch = 12, train_loss : 0.031, valid_loss : 0.011, test_loss : 0.068\n"
          ]
        },
        {
          "output_type": "stream",
          "name": "stderr",
          "text": [
            "\r 47%|████▋     | 14/30 [00:01<00:01, 12.42it/s]"
          ]
        },
        {
          "output_type": "stream",
          "name": "stdout",
          "text": [
            "valid_loss=0.011, test_los0.067, Model Save\n",
            "epoch = 13, train_loss : 0.031, valid_loss : 0.011, test_loss : 0.067\n",
            "valid_loss=0.011, test_los0.066, Model Save\n",
            "epoch = 14, train_loss : 0.031, valid_loss : 0.011, test_loss : 0.066\n",
            "valid_loss=0.011, test_los0.065, Model Save\n",
            "epoch = 15, train_loss : 0.030, valid_loss : 0.011, test_loss : 0.065\n"
          ]
        },
        {
          "output_type": "stream",
          "name": "stderr",
          "text": [
            " 60%|██████    | 18/30 [00:01<00:00, 12.27it/s]"
          ]
        },
        {
          "output_type": "stream",
          "name": "stdout",
          "text": [
            "valid_loss=0.010, test_los0.064, Model Save\n",
            "epoch = 16, train_loss : 0.030, valid_loss : 0.010, test_loss : 0.064\n",
            "valid_loss=0.010, test_los0.063, Model Save\n",
            "epoch = 17, train_loss : 0.030, valid_loss : 0.010, test_loss : 0.063\n",
            "valid_loss=0.010, test_los0.063, Model Save\n",
            "epoch = 18, train_loss : 0.030, valid_loss : 0.010, test_loss : 0.063\n"
          ]
        },
        {
          "output_type": "stream",
          "name": "stderr",
          "text": [
            "\r 67%|██████▋   | 20/30 [00:01<00:00, 12.58it/s]"
          ]
        },
        {
          "output_type": "stream",
          "name": "stdout",
          "text": [
            "valid_loss=0.010, test_los0.062, Model Save\n",
            "epoch = 19, train_loss : 0.029, valid_loss : 0.010, test_loss : 0.062\n",
            "valid_loss=0.010, test_los0.062, Model Save\n",
            "epoch = 20, train_loss : 0.029, valid_loss : 0.010, test_loss : 0.062\n",
            "valid_loss=0.010, test_los0.061, Model Save\n",
            "epoch = 21, train_loss : 0.029, valid_loss : 0.010, test_loss : 0.061\n"
          ]
        },
        {
          "output_type": "stream",
          "name": "stderr",
          "text": [
            " 80%|████████  | 24/30 [00:01<00:00, 12.98it/s]"
          ]
        },
        {
          "output_type": "stream",
          "name": "stdout",
          "text": [
            "valid_loss=0.010, test_los0.061, Model Save\n",
            "epoch = 22, train_loss : 0.029, valid_loss : 0.010, test_loss : 0.061\n",
            "valid_loss=0.010, test_los0.060, Model Save\n",
            "epoch = 23, train_loss : 0.029, valid_loss : 0.010, test_loss : 0.060\n",
            "valid_loss=0.010, test_los0.060, Model Save\n",
            "epoch = 24, train_loss : 0.029, valid_loss : 0.010, test_loss : 0.060\n"
          ]
        },
        {
          "output_type": "stream",
          "name": "stderr",
          "text": [
            "\r 87%|████████▋ | 26/30 [00:02<00:00, 12.77it/s]"
          ]
        },
        {
          "output_type": "stream",
          "name": "stdout",
          "text": [
            "valid_loss=0.010, test_los0.060, Model Save\n",
            "epoch = 25, train_loss : 0.029, valid_loss : 0.010, test_loss : 0.060\n",
            "valid_loss=0.010, test_los0.060, Model Save\n",
            "epoch = 26, train_loss : 0.029, valid_loss : 0.010, test_loss : 0.060\n",
            "valid_loss=0.010, test_los0.059, Model Save\n",
            "epoch = 27, train_loss : 0.028, valid_loss : 0.010, test_loss : 0.059\n"
          ]
        },
        {
          "output_type": "stream",
          "name": "stderr",
          "text": [
            "100%|██████████| 30/30 [00:02<00:00, 12.53it/s]"
          ]
        },
        {
          "output_type": "stream",
          "name": "stdout",
          "text": [
            "valid_loss=0.010, test_los0.059, Model Save\n",
            "epoch = 28, train_loss : 0.028, valid_loss : 0.010, test_loss : 0.059\n",
            "valid_loss=0.010, test_los0.059, Model Save\n",
            "epoch = 29, train_loss : 0.028, valid_loss : 0.010, test_loss : 0.059\n",
            "valid_loss=0.010, test_los0.059, Model Save\n",
            "epoch = 30, train_loss : 0.028, valid_loss : 0.010, test_loss : 0.059\n"
          ]
        },
        {
          "output_type": "stream",
          "name": "stderr",
          "text": [
            "\n",
            "  7%|▋         | 2/30 [00:00<00:02, 13.42it/s]"
          ]
        },
        {
          "output_type": "stream",
          "name": "stdout",
          "text": [
            "valid_loss=0.089, test_los0.055, Model Save\n",
            "epoch = 1, train_loss : 0.164, valid_loss : 0.089, test_loss : 0.055\n",
            "valid_loss=0.070, test_los0.090, Model Save\n",
            "epoch = 2, train_loss : 0.096, valid_loss : 0.070, test_loss : 0.090\n",
            "valid_loss=0.053, test_los0.082, Model Save\n",
            "epoch = 3, train_loss : 0.075, valid_loss : 0.053, test_loss : 0.082\n"
          ]
        },
        {
          "output_type": "stream",
          "name": "stderr",
          "text": [
            " 20%|██        | 6/30 [00:00<00:01, 13.02it/s]"
          ]
        },
        {
          "output_type": "stream",
          "name": "stdout",
          "text": [
            "valid_loss=0.039, test_los0.062, Model Save\n",
            "epoch = 4, train_loss : 0.058, valid_loss : 0.039, test_loss : 0.062\n",
            "valid_loss=0.028, test_los0.045, Model Save\n",
            "epoch = 5, train_loss : 0.045, valid_loss : 0.028, test_loss : 0.045\n",
            "valid_loss=0.022, test_los0.033, Model Save\n",
            "epoch = 6, train_loss : 0.035, valid_loss : 0.022, test_loss : 0.033\n"
          ]
        },
        {
          "output_type": "stream",
          "name": "stderr",
          "text": [
            "\r 27%|██▋       | 8/30 [00:00<00:01, 12.44it/s]"
          ]
        },
        {
          "output_type": "stream",
          "name": "stdout",
          "text": [
            "valid_loss=0.017, test_los0.025, Model Save\n",
            "epoch = 7, train_loss : 0.029, valid_loss : 0.017, test_loss : 0.025\n",
            "valid_loss=0.014, test_los0.020, Model Save\n",
            "epoch = 8, train_loss : 0.024, valid_loss : 0.014, test_loss : 0.020\n",
            "valid_loss=0.012, test_los0.017, Model Save\n",
            "epoch = 9, train_loss : 0.021, valid_loss : 0.012, test_loss : 0.017\n"
          ]
        },
        {
          "output_type": "stream",
          "name": "stderr",
          "text": [
            " 40%|████      | 12/30 [00:00<00:01, 11.90it/s]"
          ]
        },
        {
          "output_type": "stream",
          "name": "stdout",
          "text": [
            "valid_loss=0.011, test_los0.015, Model Save\n",
            "epoch = 10, train_loss : 0.018, valid_loss : 0.011, test_loss : 0.015\n",
            "valid_loss=0.011, test_los0.014, Model Save\n",
            "epoch = 11, train_loss : 0.017, valid_loss : 0.011, test_loss : 0.014\n",
            "valid_loss=0.010, test_los0.013, Model Save\n",
            "epoch = 12, train_loss : 0.016, valid_loss : 0.010, test_loss : 0.013\n"
          ]
        },
        {
          "output_type": "stream",
          "name": "stderr",
          "text": [
            "\r 47%|████▋     | 14/30 [00:01<00:01, 12.07it/s]"
          ]
        },
        {
          "output_type": "stream",
          "name": "stdout",
          "text": [
            "valid_loss=0.010, test_los0.013, Model Save\n",
            "epoch = 13, train_loss : 0.015, valid_loss : 0.010, test_loss : 0.013\n",
            "valid_loss=0.010, test_los0.012, Model Save\n",
            "epoch = 14, train_loss : 0.015, valid_loss : 0.010, test_loss : 0.012\n",
            "valid_loss=0.010, test_los0.012, Model Save\n",
            "epoch = 15, train_loss : 0.014, valid_loss : 0.010, test_loss : 0.012\n"
          ]
        },
        {
          "output_type": "stream",
          "name": "stderr",
          "text": [
            " 60%|██████    | 18/30 [00:01<00:00, 12.72it/s]"
          ]
        },
        {
          "output_type": "stream",
          "name": "stdout",
          "text": [
            "valid_loss=0.010, test_los0.012, Model Save\n",
            "epoch = 16, train_loss : 0.014, valid_loss : 0.010, test_loss : 0.012\n",
            "valid_loss=0.010, test_los0.012, Model Save\n",
            "epoch = 17, train_loss : 0.014, valid_loss : 0.010, test_loss : 0.012\n",
            "valid_loss=0.010, test_los0.012, Model Save\n",
            "epoch = 18, train_loss : 0.013, valid_loss : 0.010, test_loss : 0.012\n"
          ]
        },
        {
          "output_type": "stream",
          "name": "stderr",
          "text": [
            "\r 67%|██████▋   | 20/30 [00:01<00:00, 11.70it/s]"
          ]
        },
        {
          "output_type": "stream",
          "name": "stdout",
          "text": [
            "epoch = 19, train_loss : 0.013, valid_loss : 0.010, test_loss : 0.012\n",
            "epoch = 20, train_loss : 0.013, valid_loss : 0.010, test_loss : 0.012\n"
          ]
        },
        {
          "output_type": "stream",
          "name": "stderr",
          "text": [
            "\r 73%|███████▎  | 22/30 [00:01<00:00, 10.56it/s]"
          ]
        },
        {
          "output_type": "stream",
          "name": "stdout",
          "text": [
            "epoch = 21, train_loss : 0.013, valid_loss : 0.010, test_loss : 0.012\n",
            "epoch = 22, train_loss : 0.013, valid_loss : 0.010, test_loss : 0.011\n"
          ]
        },
        {
          "output_type": "stream",
          "name": "stderr",
          "text": [
            "\r 80%|████████  | 24/30 [00:02<00:00,  9.42it/s]"
          ]
        },
        {
          "output_type": "stream",
          "name": "stdout",
          "text": [
            "epoch = 23, train_loss : 0.013, valid_loss : 0.010, test_loss : 0.011\n",
            "epoch = 24, train_loss : 0.013, valid_loss : 0.010, test_loss : 0.011\n"
          ]
        },
        {
          "output_type": "stream",
          "name": "stderr",
          "text": [
            " 87%|████████▋ | 26/30 [00:02<00:00,  9.11it/s]"
          ]
        },
        {
          "output_type": "stream",
          "name": "stdout",
          "text": [
            "epoch = 25, train_loss : 0.012, valid_loss : 0.010, test_loss : 0.011\n",
            "epoch = 26, train_loss : 0.012, valid_loss : 0.010, test_loss : 0.011\n"
          ]
        },
        {
          "output_type": "stream",
          "name": "stderr",
          "text": [
            " 93%|█████████▎| 28/30 [00:02<00:00,  8.75it/s]"
          ]
        },
        {
          "output_type": "stream",
          "name": "stdout",
          "text": [
            "epoch = 27, train_loss : 0.012, valid_loss : 0.010, test_loss : 0.011\n",
            "epoch = 28, train_loss : 0.012, valid_loss : 0.010, test_loss : 0.011\n"
          ]
        },
        {
          "output_type": "stream",
          "name": "stderr",
          "text": [
            "100%|██████████| 30/30 [00:02<00:00, 10.45it/s]"
          ]
        },
        {
          "output_type": "stream",
          "name": "stdout",
          "text": [
            "epoch = 29, train_loss : 0.012, valid_loss : 0.010, test_loss : 0.011\n",
            "valid_loss=0.010, test_los0.011, Model Save\n",
            "epoch = 30, train_loss : 0.012, valid_loss : 0.010, test_loss : 0.011\n"
          ]
        },
        {
          "output_type": "stream",
          "name": "stderr",
          "text": [
            "\n",
            "  7%|▋         | 2/30 [00:00<00:03,  7.94it/s]"
          ]
        },
        {
          "output_type": "stream",
          "name": "stdout",
          "text": [
            "valid_loss=0.000, test_los2356775236768530632117119545769984.000, Model Save\n",
            "epoch = 1, train_loss : 0.011, valid_loss : 0.000, test_loss : 2356775236768530632117119545769984.000\n",
            "valid_loss=0.000, test_los2364771091482274903312692989132800.000, Model Save\n",
            "epoch = 2, train_loss : 0.000, valid_loss : 0.000, test_loss : 2364771091482274903312692989132800.000\n"
          ]
        },
        {
          "output_type": "stream",
          "name": "stderr",
          "text": [
            " 13%|█▎        | 4/30 [00:00<00:03,  7.63it/s]"
          ]
        },
        {
          "output_type": "stream",
          "name": "stdout",
          "text": [
            "valid_loss=0.000, test_los2349435799760617433812311363026944.000, Model Save\n",
            "epoch = 3, train_loss : 0.000, valid_loss : 0.000, test_loss : 2349435799760617433812311363026944.000\n",
            "valid_loss=0.000, test_los2352480049059725094580822671884288.000, Model Save\n",
            "epoch = 4, train_loss : 0.000, valid_loss : 0.000, test_loss : 2352480049059725094580822671884288.000\n"
          ]
        },
        {
          "output_type": "stream",
          "name": "stderr",
          "text": [
            " 20%|██        | 6/30 [00:00<00:03,  7.90it/s]"
          ]
        },
        {
          "output_type": "stream",
          "name": "stdout",
          "text": [
            "valid_loss=0.000, test_los2352139306063911793660156687941632.000, Model Save\n",
            "epoch = 5, train_loss : 0.000, valid_loss : 0.000, test_loss : 2352139306063911793660156687941632.000\n",
            "valid_loss=0.000, test_los2352178146432644372466281647964160.000, Model Save\n",
            "epoch = 6, train_loss : 0.000, valid_loss : 0.000, test_loss : 2352178146432644372466281647964160.000\n"
          ]
        },
        {
          "output_type": "stream",
          "name": "stderr",
          "text": [
            " 27%|██▋       | 8/30 [00:01<00:02,  8.19it/s]"
          ]
        },
        {
          "output_type": "stream",
          "name": "stdout",
          "text": [
            "valid_loss=0.000, test_los2352179539115188568519090909478912.000, Model Save\n",
            "epoch = 7, train_loss : 0.000, valid_loss : 0.000, test_loss : 2352179539115188568519090909478912.000\n",
            "valid_loss=0.000, test_los2352177217977614908431075473620992.000, Model Save\n",
            "epoch = 8, train_loss : 0.000, valid_loss : 0.000, test_loss : 2352177217977614908431075473620992.000\n"
          ]
        },
        {
          "output_type": "stream",
          "name": "stderr",
          "text": [
            " 33%|███▎      | 10/30 [00:01<00:02,  8.41it/s]"
          ]
        },
        {
          "output_type": "stream",
          "name": "stdout",
          "text": [
            "valid_loss=0.000, test_los2352177372720119819103609836011520.000, Model Save\n",
            "epoch = 9, train_loss : 0.000, valid_loss : 0.000, test_loss : 2352177372720119819103609836011520.000\n",
            "epoch = 10, train_loss : 0.000, valid_loss : 0.000, test_loss : 2352177527462624729776144198402048.000\n"
          ]
        },
        {
          "output_type": "stream",
          "name": "stderr",
          "text": [
            " 40%|████      | 12/30 [00:01<00:02,  7.78it/s]"
          ]
        },
        {
          "output_type": "stream",
          "name": "stdout",
          "text": [
            "epoch = 11, train_loss : 0.000, valid_loss : 0.000, test_loss : 2352177372720119819103609836011520.000\n",
            "epoch = 12, train_loss : 0.000, valid_loss : 0.000, test_loss : 2352177372720119819103609836011520.000\n"
          ]
        },
        {
          "output_type": "stream",
          "name": "stderr",
          "text": [
            " 47%|████▋     | 14/30 [00:01<00:01,  8.08it/s]"
          ]
        },
        {
          "output_type": "stream",
          "name": "stdout",
          "text": [
            "epoch = 13, train_loss : 0.000, valid_loss : 0.000, test_loss : 2352177527462624729776144198402048.000\n",
            "epoch = 14, train_loss : 0.000, valid_loss : 0.000, test_loss : 2352177527462624729776144198402048.000\n"
          ]
        },
        {
          "output_type": "stream",
          "name": "stderr",
          "text": [
            " 53%|█████▎    | 16/30 [00:02<00:01,  7.59it/s]"
          ]
        },
        {
          "output_type": "stream",
          "name": "stdout",
          "text": [
            "epoch = 15, train_loss : 0.000, valid_loss : 0.000, test_loss : 2352177527462624729776144198402048.000\n",
            "epoch = 16, train_loss : 0.000, valid_loss : 0.000, test_loss : 2352177527462624729776144198402048.000\n"
          ]
        },
        {
          "output_type": "stream",
          "name": "stderr",
          "text": [
            " 60%|██████    | 18/30 [00:02<00:01,  7.93it/s]"
          ]
        },
        {
          "output_type": "stream",
          "name": "stdout",
          "text": [
            "epoch = 17, train_loss : 0.000, valid_loss : 0.000, test_loss : 2352177527462624729776144198402048.000\n",
            "epoch = 18, train_loss : 0.000, valid_loss : 0.000, test_loss : 2352177372720119819103609836011520.000\n"
          ]
        },
        {
          "output_type": "stream",
          "name": "stderr",
          "text": [
            " 67%|██████▋   | 20/30 [00:02<00:01,  7.71it/s]"
          ]
        },
        {
          "output_type": "stream",
          "name": "stdout",
          "text": [
            "epoch = 19, train_loss : 0.000, valid_loss : 0.000, test_loss : 2352177372720119819103609836011520.000\n",
            "epoch = 20, train_loss : 0.000, valid_loss : 0.000, test_loss : 2352177527462624729776144198402048.000\n"
          ]
        },
        {
          "output_type": "stream",
          "name": "stderr",
          "text": [
            "\r 73%|███████▎  | 22/30 [00:02<00:00,  9.15it/s]"
          ]
        },
        {
          "output_type": "stream",
          "name": "stdout",
          "text": [
            "epoch = 21, train_loss : 0.000, valid_loss : 0.000, test_loss : 2352177372720119819103609836011520.000\n",
            "epoch = 22, train_loss : 0.000, valid_loss : 0.000, test_loss : 2352177372720119819103609836011520.000\n",
            "epoch = 23, train_loss : 0.000, valid_loss : 0.000, test_loss : 2352177527462624729776144198402048.000\n"
          ]
        },
        {
          "output_type": "stream",
          "name": "stderr",
          "text": [
            " 87%|████████▋ | 26/30 [00:03<00:00, 10.72it/s]"
          ]
        },
        {
          "output_type": "stream",
          "name": "stdout",
          "text": [
            "epoch = 24, train_loss : 0.000, valid_loss : 0.000, test_loss : 2352177372720119819103609836011520.000\n",
            "epoch = 25, train_loss : 0.000, valid_loss : 0.000, test_loss : 2352177372720119819103609836011520.000\n",
            "valid_loss=0.000, test_los2352177372720119819103609836011520.000, Model Save\n",
            "epoch = 26, train_loss : 0.000, valid_loss : 0.000, test_loss : 2352177372720119819103609836011520.000\n"
          ]
        },
        {
          "output_type": "stream",
          "name": "stderr",
          "text": [
            "\r 93%|█████████▎| 28/30 [00:03<00:00, 11.26it/s]"
          ]
        },
        {
          "output_type": "stream",
          "name": "stdout",
          "text": [
            "epoch = 27, train_loss : 0.000, valid_loss : 0.000, test_loss : 2352177527462624729776144198402048.000\n",
            "epoch = 28, train_loss : 0.000, valid_loss : 0.000, test_loss : 2352177527462624729776144198402048.000\n",
            "epoch = 29, train_loss : 0.000, valid_loss : 0.000, test_loss : 2352177527462624729776144198402048.000\n"
          ]
        },
        {
          "output_type": "stream",
          "name": "stderr",
          "text": [
            "100%|██████████| 30/30 [00:03<00:00,  8.90it/s]\n"
          ]
        },
        {
          "output_type": "stream",
          "name": "stdout",
          "text": [
            "epoch = 30, train_loss : 0.000, valid_loss : 0.000, test_loss : 2352177372720119819103609836011520.000\n"
          ]
        },
        {
          "output_type": "stream",
          "name": "stderr",
          "text": [
            "  7%|▋         | 2/30 [00:00<00:02,  9.53it/s]"
          ]
        },
        {
          "output_type": "stream",
          "name": "stdout",
          "text": [
            "valid_loss=0.101, test_los0.193, Model Save\n",
            "epoch = 1, train_loss : 0.063, valid_loss : 0.101, test_loss : 0.193\n",
            "epoch = 2, train_loss : 0.039, valid_loss : 0.117, test_loss : 0.351\n",
            "epoch = 3, train_loss : 0.032, valid_loss : 0.112, test_loss : 0.366\n"
          ]
        },
        {
          "output_type": "stream",
          "name": "stderr",
          "text": [
            " 20%|██        | 6/30 [00:00<00:01, 12.31it/s]"
          ]
        },
        {
          "output_type": "stream",
          "name": "stdout",
          "text": [
            "valid_loss=0.098, test_los0.321, Model Save\n",
            "epoch = 4, train_loss : 0.028, valid_loss : 0.098, test_loss : 0.321\n",
            "valid_loss=0.083, test_los0.260, Model Save\n",
            "epoch = 5, train_loss : 0.025, valid_loss : 0.083, test_loss : 0.260\n",
            "valid_loss=0.071, test_los0.208, Model Save\n",
            "epoch = 6, train_loss : 0.022, valid_loss : 0.071, test_loss : 0.208\n"
          ]
        },
        {
          "output_type": "stream",
          "name": "stderr",
          "text": [
            "\r 27%|██▋       | 8/30 [00:00<00:01, 12.11it/s]"
          ]
        },
        {
          "output_type": "stream",
          "name": "stdout",
          "text": [
            "valid_loss=0.061, test_los0.166, Model Save\n",
            "epoch = 7, train_loss : 0.020, valid_loss : 0.061, test_loss : 0.166\n",
            "valid_loss=0.053, test_los0.135, Model Save\n",
            "epoch = 8, train_loss : 0.018, valid_loss : 0.053, test_loss : 0.135\n",
            "valid_loss=0.047, test_los0.110, Model Save\n",
            "epoch = 9, train_loss : 0.017, valid_loss : 0.047, test_loss : 0.110\n"
          ]
        },
        {
          "output_type": "stream",
          "name": "stderr",
          "text": [
            " 40%|████      | 12/30 [00:01<00:01, 12.31it/s]"
          ]
        },
        {
          "output_type": "stream",
          "name": "stdout",
          "text": [
            "valid_loss=0.042, test_los0.092, Model Save\n",
            "epoch = 10, train_loss : 0.016, valid_loss : 0.042, test_loss : 0.092\n",
            "valid_loss=0.038, test_los0.078, Model Save\n",
            "epoch = 11, train_loss : 0.016, valid_loss : 0.038, test_loss : 0.078\n",
            "valid_loss=0.035, test_los0.068, Model Save\n",
            "epoch = 12, train_loss : 0.015, valid_loss : 0.035, test_loss : 0.068\n"
          ]
        },
        {
          "output_type": "stream",
          "name": "stderr",
          "text": [
            "\r 47%|████▋     | 14/30 [00:01<00:01, 12.11it/s]"
          ]
        },
        {
          "output_type": "stream",
          "name": "stdout",
          "text": [
            "valid_loss=0.033, test_los0.061, Model Save\n",
            "epoch = 13, train_loss : 0.015, valid_loss : 0.033, test_loss : 0.061\n",
            "valid_loss=0.032, test_los0.056, Model Save\n",
            "epoch = 14, train_loss : 0.014, valid_loss : 0.032, test_loss : 0.056\n",
            "valid_loss=0.030, test_los0.052, Model Save\n",
            "epoch = 15, train_loss : 0.014, valid_loss : 0.030, test_loss : 0.052\n"
          ]
        },
        {
          "output_type": "stream",
          "name": "stderr",
          "text": [
            " 60%|██████    | 18/30 [00:01<00:00, 12.35it/s]"
          ]
        },
        {
          "output_type": "stream",
          "name": "stdout",
          "text": [
            "valid_loss=0.030, test_los0.049, Model Save\n",
            "epoch = 16, train_loss : 0.014, valid_loss : 0.030, test_loss : 0.049\n",
            "valid_loss=0.029, test_los0.047, Model Save\n",
            "epoch = 17, train_loss : 0.014, valid_loss : 0.029, test_loss : 0.047\n",
            "valid_loss=0.028, test_los0.046, Model Save\n",
            "epoch = 18, train_loss : 0.014, valid_loss : 0.028, test_loss : 0.046\n"
          ]
        },
        {
          "output_type": "stream",
          "name": "stderr",
          "text": [
            "\r 67%|██████▋   | 20/30 [00:01<00:00, 11.86it/s]"
          ]
        },
        {
          "output_type": "stream",
          "name": "stdout",
          "text": [
            "valid_loss=0.028, test_los0.045, Model Save\n",
            "epoch = 19, train_loss : 0.013, valid_loss : 0.028, test_loss : 0.045\n",
            "valid_loss=0.027, test_los0.044, Model Save\n",
            "epoch = 20, train_loss : 0.013, valid_loss : 0.027, test_loss : 0.044\n",
            "valid_loss=0.027, test_los0.043, Model Save\n",
            "epoch = 21, train_loss : 0.013, valid_loss : 0.027, test_loss : 0.043\n"
          ]
        },
        {
          "output_type": "stream",
          "name": "stderr",
          "text": [
            " 80%|████████  | 24/30 [00:02<00:00, 12.04it/s]"
          ]
        },
        {
          "output_type": "stream",
          "name": "stdout",
          "text": [
            "valid_loss=0.027, test_los0.043, Model Save\n",
            "epoch = 22, train_loss : 0.013, valid_loss : 0.027, test_loss : 0.043\n",
            "valid_loss=0.026, test_los0.043, Model Save\n",
            "epoch = 23, train_loss : 0.013, valid_loss : 0.026, test_loss : 0.043\n",
            "valid_loss=0.026, test_los0.042, Model Save\n",
            "epoch = 24, train_loss : 0.013, valid_loss : 0.026, test_loss : 0.042\n"
          ]
        },
        {
          "output_type": "stream",
          "name": "stderr",
          "text": [
            "\r 87%|████████▋ | 26/30 [00:02<00:00, 11.86it/s]"
          ]
        },
        {
          "output_type": "stream",
          "name": "stdout",
          "text": [
            "valid_loss=0.026, test_los0.042, Model Save\n",
            "epoch = 25, train_loss : 0.013, valid_loss : 0.026, test_loss : 0.042\n",
            "valid_loss=0.026, test_los0.042, Model Save\n",
            "epoch = 26, train_loss : 0.013, valid_loss : 0.026, test_loss : 0.042\n",
            "valid_loss=0.026, test_los0.041, Model Save\n",
            "epoch = 27, train_loss : 0.013, valid_loss : 0.026, test_loss : 0.041\n"
          ]
        },
        {
          "output_type": "stream",
          "name": "stderr",
          "text": [
            "100%|██████████| 30/30 [00:02<00:00, 11.93it/s]"
          ]
        },
        {
          "output_type": "stream",
          "name": "stdout",
          "text": [
            "valid_loss=0.026, test_los0.041, Model Save\n",
            "epoch = 28, train_loss : 0.013, valid_loss : 0.026, test_loss : 0.041\n",
            "valid_loss=0.025, test_los0.041, Model Save\n",
            "epoch = 29, train_loss : 0.013, valid_loss : 0.025, test_loss : 0.041\n",
            "valid_loss=0.025, test_los0.041, Model Save\n",
            "epoch = 30, train_loss : 0.013, valid_loss : 0.025, test_loss : 0.041\n"
          ]
        },
        {
          "output_type": "stream",
          "name": "stderr",
          "text": [
            "\n",
            "  7%|▋         | 2/30 [00:00<00:02, 11.58it/s]"
          ]
        },
        {
          "output_type": "stream",
          "name": "stdout",
          "text": [
            "valid_loss=0.054, test_los0.143, Model Save\n",
            "epoch = 1, train_loss : 0.131, valid_loss : 0.054, test_loss : 0.143\n",
            "valid_loss=0.048, test_los0.130, Model Save\n",
            "epoch = 2, train_loss : 0.112, valid_loss : 0.048, test_loss : 0.130\n",
            "valid_loss=0.043, test_los0.118, Model Save\n",
            "epoch = 3, train_loss : 0.104, valid_loss : 0.043, test_loss : 0.118\n"
          ]
        },
        {
          "output_type": "stream",
          "name": "stderr",
          "text": [
            " 20%|██        | 6/30 [00:00<00:02, 11.40it/s]"
          ]
        },
        {
          "output_type": "stream",
          "name": "stdout",
          "text": [
            "valid_loss=0.040, test_los0.110, Model Save\n",
            "epoch = 4, train_loss : 0.098, valid_loss : 0.040, test_loss : 0.110\n",
            "valid_loss=0.037, test_los0.104, Model Save\n",
            "epoch = 5, train_loss : 0.093, valid_loss : 0.037, test_loss : 0.104\n",
            "valid_loss=0.036, test_los0.099, Model Save\n",
            "epoch = 6, train_loss : 0.089, valid_loss : 0.036, test_loss : 0.099\n"
          ]
        },
        {
          "output_type": "stream",
          "name": "stderr",
          "text": [
            "\r 27%|██▋       | 8/30 [00:00<00:01, 11.90it/s]"
          ]
        },
        {
          "output_type": "stream",
          "name": "stdout",
          "text": [
            "valid_loss=0.035, test_los0.094, Model Save\n",
            "epoch = 7, train_loss : 0.086, valid_loss : 0.035, test_loss : 0.094\n",
            "valid_loss=0.033, test_los0.090, Model Save\n",
            "epoch = 8, train_loss : 0.083, valid_loss : 0.033, test_loss : 0.090\n",
            "valid_loss=0.033, test_los0.087, Model Save\n",
            "epoch = 9, train_loss : 0.081, valid_loss : 0.033, test_loss : 0.087\n"
          ]
        },
        {
          "output_type": "stream",
          "name": "stderr",
          "text": [
            " 40%|████      | 12/30 [00:00<00:01, 12.59it/s]"
          ]
        },
        {
          "output_type": "stream",
          "name": "stdout",
          "text": [
            "valid_loss=0.032, test_los0.084, Model Save\n",
            "epoch = 10, train_loss : 0.079, valid_loss : 0.032, test_loss : 0.084\n",
            "valid_loss=0.031, test_los0.081, Model Save\n",
            "epoch = 11, train_loss : 0.078, valid_loss : 0.031, test_loss : 0.081\n",
            "valid_loss=0.031, test_los0.079, Model Save\n",
            "epoch = 12, train_loss : 0.076, valid_loss : 0.031, test_loss : 0.079\n"
          ]
        },
        {
          "output_type": "stream",
          "name": "stderr",
          "text": [
            "\r 47%|████▋     | 14/30 [00:01<00:01, 12.13it/s]"
          ]
        },
        {
          "output_type": "stream",
          "name": "stdout",
          "text": [
            "valid_loss=0.030, test_los0.077, Model Save\n",
            "epoch = 13, train_loss : 0.075, valid_loss : 0.030, test_loss : 0.077\n",
            "valid_loss=0.030, test_los0.075, Model Save\n",
            "epoch = 14, train_loss : 0.074, valid_loss : 0.030, test_loss : 0.075\n",
            "valid_loss=0.029, test_los0.073, Model Save\n",
            "epoch = 15, train_loss : 0.073, valid_loss : 0.029, test_loss : 0.073\n"
          ]
        },
        {
          "output_type": "stream",
          "name": "stderr",
          "text": [
            " 60%|██████    | 18/30 [00:01<00:00, 12.34it/s]"
          ]
        },
        {
          "output_type": "stream",
          "name": "stdout",
          "text": [
            "valid_loss=0.029, test_los0.072, Model Save\n",
            "epoch = 16, train_loss : 0.072, valid_loss : 0.029, test_loss : 0.072\n",
            "valid_loss=0.029, test_los0.070, Model Save\n",
            "epoch = 17, train_loss : 0.072, valid_loss : 0.029, test_loss : 0.070\n",
            "valid_loss=0.029, test_los0.069, Model Save\n",
            "epoch = 18, train_loss : 0.071, valid_loss : 0.029, test_loss : 0.069\n"
          ]
        },
        {
          "output_type": "stream",
          "name": "stderr",
          "text": [
            "\r 67%|██████▋   | 20/30 [00:01<00:00, 12.27it/s]"
          ]
        },
        {
          "output_type": "stream",
          "name": "stdout",
          "text": [
            "valid_loss=0.028, test_los0.068, Model Save\n",
            "epoch = 19, train_loss : 0.070, valid_loss : 0.028, test_loss : 0.068\n",
            "valid_loss=0.028, test_los0.067, Model Save\n",
            "epoch = 20, train_loss : 0.070, valid_loss : 0.028, test_loss : 0.067\n",
            "valid_loss=0.028, test_los0.066, Model Save\n",
            "epoch = 21, train_loss : 0.069, valid_loss : 0.028, test_loss : 0.066\n"
          ]
        },
        {
          "output_type": "stream",
          "name": "stderr",
          "text": [
            " 80%|████████  | 24/30 [00:01<00:00, 12.72it/s]"
          ]
        },
        {
          "output_type": "stream",
          "name": "stdout",
          "text": [
            "valid_loss=0.028, test_los0.065, Model Save\n",
            "epoch = 22, train_loss : 0.069, valid_loss : 0.028, test_loss : 0.065\n",
            "valid_loss=0.028, test_los0.065, Model Save\n",
            "epoch = 23, train_loss : 0.068, valid_loss : 0.028, test_loss : 0.065\n",
            "valid_loss=0.027, test_los0.064, Model Save\n",
            "epoch = 24, train_loss : 0.068, valid_loss : 0.027, test_loss : 0.064\n"
          ]
        },
        {
          "output_type": "stream",
          "name": "stderr",
          "text": [
            "\r 87%|████████▋ | 26/30 [00:02<00:00, 12.24it/s]"
          ]
        },
        {
          "output_type": "stream",
          "name": "stdout",
          "text": [
            "valid_loss=0.027, test_los0.063, Model Save\n",
            "epoch = 25, train_loss : 0.068, valid_loss : 0.027, test_loss : 0.063\n",
            "valid_loss=0.027, test_los0.063, Model Save\n",
            "epoch = 26, train_loss : 0.067, valid_loss : 0.027, test_loss : 0.063\n",
            "valid_loss=0.027, test_los0.062, Model Save\n",
            "epoch = 27, train_loss : 0.067, valid_loss : 0.027, test_loss : 0.062\n"
          ]
        },
        {
          "output_type": "stream",
          "name": "stderr",
          "text": [
            "100%|██████████| 30/30 [00:02<00:00, 12.28it/s]"
          ]
        },
        {
          "output_type": "stream",
          "name": "stdout",
          "text": [
            "valid_loss=0.027, test_los0.062, Model Save\n",
            "epoch = 28, train_loss : 0.066, valid_loss : 0.027, test_loss : 0.062\n",
            "valid_loss=0.027, test_los0.061, Model Save\n",
            "epoch = 29, train_loss : 0.066, valid_loss : 0.027, test_loss : 0.061\n",
            "valid_loss=0.027, test_los0.061, Model Save\n",
            "epoch = 30, train_loss : 0.066, valid_loss : 0.027, test_loss : 0.061\n"
          ]
        },
        {
          "output_type": "stream",
          "name": "stderr",
          "text": [
            "\n",
            "  7%|▋         | 2/30 [00:00<00:02, 13.97it/s]"
          ]
        },
        {
          "output_type": "stream",
          "name": "stdout",
          "text": [
            "valid_loss=0.134, test_los0.102, Model Save\n",
            "epoch = 1, train_loss : 0.064, valid_loss : 0.134, test_loss : 0.102\n",
            "valid_loss=0.088, test_los0.065, Model Save\n",
            "epoch = 2, train_loss : 0.036, valid_loss : 0.088, test_loss : 0.065\n",
            "valid_loss=0.064, test_los0.044, Model Save\n",
            "epoch = 3, train_loss : 0.027, valid_loss : 0.064, test_loss : 0.044\n"
          ]
        },
        {
          "output_type": "stream",
          "name": "stderr",
          "text": [
            " 20%|██        | 6/30 [00:00<00:01, 12.96it/s]"
          ]
        },
        {
          "output_type": "stream",
          "name": "stdout",
          "text": [
            "valid_loss=0.045, test_los0.029, Model Save\n",
            "epoch = 4, train_loss : 0.020, valid_loss : 0.045, test_loss : 0.029\n",
            "valid_loss=0.034, test_los0.020, Model Save\n",
            "epoch = 5, train_loss : 0.016, valid_loss : 0.034, test_loss : 0.020\n",
            "valid_loss=0.027, test_los0.014, Model Save\n",
            "epoch = 6, train_loss : 0.013, valid_loss : 0.027, test_loss : 0.014\n"
          ]
        },
        {
          "output_type": "stream",
          "name": "stderr",
          "text": [
            "\r 27%|██▋       | 8/30 [00:00<00:01, 12.81it/s]"
          ]
        },
        {
          "output_type": "stream",
          "name": "stdout",
          "text": [
            "valid_loss=0.022, test_los0.010, Model Save\n",
            "epoch = 7, train_loss : 0.011, valid_loss : 0.022, test_loss : 0.010\n",
            "valid_loss=0.019, test_los0.008, Model Save\n",
            "epoch = 8, train_loss : 0.010, valid_loss : 0.019, test_loss : 0.008\n",
            "valid_loss=0.017, test_los0.006, Model Save\n",
            "epoch = 9, train_loss : 0.009, valid_loss : 0.017, test_loss : 0.006\n"
          ]
        },
        {
          "output_type": "stream",
          "name": "stderr",
          "text": [
            " 40%|████      | 12/30 [00:00<00:01, 12.26it/s]"
          ]
        },
        {
          "output_type": "stream",
          "name": "stdout",
          "text": [
            "valid_loss=0.016, test_los0.005, Model Save\n",
            "epoch = 10, train_loss : 0.008, valid_loss : 0.016, test_loss : 0.005\n",
            "valid_loss=0.015, test_los0.005, Model Save\n",
            "epoch = 11, train_loss : 0.008, valid_loss : 0.015, test_loss : 0.005\n",
            "valid_loss=0.015, test_los0.005, Model Save\n",
            "epoch = 12, train_loss : 0.008, valid_loss : 0.015, test_loss : 0.005\n"
          ]
        },
        {
          "output_type": "stream",
          "name": "stderr",
          "text": [
            "\r 47%|████▋     | 14/30 [00:01<00:01, 12.23it/s]"
          ]
        },
        {
          "output_type": "stream",
          "name": "stdout",
          "text": [
            "valid_loss=0.014, test_los0.004, Model Save\n",
            "epoch = 13, train_loss : 0.008, valid_loss : 0.014, test_loss : 0.004\n",
            "valid_loss=0.014, test_los0.004, Model Save\n",
            "epoch = 14, train_loss : 0.007, valid_loss : 0.014, test_loss : 0.004\n",
            "valid_loss=0.014, test_los0.004, Model Save\n",
            "epoch = 15, train_loss : 0.007, valid_loss : 0.014, test_loss : 0.004\n"
          ]
        },
        {
          "output_type": "stream",
          "name": "stderr",
          "text": [
            " 60%|██████    | 18/30 [00:01<00:01, 11.85it/s]"
          ]
        },
        {
          "output_type": "stream",
          "name": "stdout",
          "text": [
            "valid_loss=0.014, test_los0.004, Model Save\n",
            "epoch = 16, train_loss : 0.007, valid_loss : 0.014, test_loss : 0.004\n",
            "valid_loss=0.014, test_los0.004, Model Save\n",
            "epoch = 17, train_loss : 0.007, valid_loss : 0.014, test_loss : 0.004\n",
            "valid_loss=0.014, test_los0.004, Model Save\n",
            "epoch = 18, train_loss : 0.007, valid_loss : 0.014, test_loss : 0.004\n"
          ]
        },
        {
          "output_type": "stream",
          "name": "stderr",
          "text": [
            "\r 67%|██████▋   | 20/30 [00:01<00:00, 11.92it/s]"
          ]
        },
        {
          "output_type": "stream",
          "name": "stdout",
          "text": [
            "valid_loss=0.013, test_los0.004, Model Save\n",
            "epoch = 19, train_loss : 0.007, valid_loss : 0.013, test_loss : 0.004\n",
            "valid_loss=0.013, test_los0.004, Model Save\n",
            "epoch = 20, train_loss : 0.007, valid_loss : 0.013, test_loss : 0.004\n",
            "valid_loss=0.013, test_los0.004, Model Save\n",
            "epoch = 21, train_loss : 0.007, valid_loss : 0.013, test_loss : 0.004\n"
          ]
        },
        {
          "output_type": "stream",
          "name": "stderr",
          "text": [
            " 80%|████████  | 24/30 [00:01<00:00, 11.95it/s]"
          ]
        },
        {
          "output_type": "stream",
          "name": "stdout",
          "text": [
            "valid_loss=0.013, test_los0.004, Model Save\n",
            "epoch = 22, train_loss : 0.007, valid_loss : 0.013, test_loss : 0.004\n",
            "valid_loss=0.013, test_los0.004, Model Save\n",
            "epoch = 23, train_loss : 0.007, valid_loss : 0.013, test_loss : 0.004\n",
            "valid_loss=0.013, test_los0.004, Model Save\n",
            "epoch = 24, train_loss : 0.007, valid_loss : 0.013, test_loss : 0.004\n"
          ]
        },
        {
          "output_type": "stream",
          "name": "stderr",
          "text": [
            "\r 87%|████████▋ | 26/30 [00:02<00:00, 12.02it/s]"
          ]
        },
        {
          "output_type": "stream",
          "name": "stdout",
          "text": [
            "valid_loss=0.013, test_los0.004, Model Save\n",
            "epoch = 25, train_loss : 0.007, valid_loss : 0.013, test_loss : 0.004\n",
            "valid_loss=0.013, test_los0.004, Model Save\n",
            "epoch = 26, train_loss : 0.007, valid_loss : 0.013, test_loss : 0.004\n",
            "valid_loss=0.013, test_los0.004, Model Save\n",
            "epoch = 27, train_loss : 0.006, valid_loss : 0.013, test_loss : 0.004\n"
          ]
        },
        {
          "output_type": "stream",
          "name": "stderr",
          "text": [
            "100%|██████████| 30/30 [00:02<00:00, 12.11it/s]"
          ]
        },
        {
          "output_type": "stream",
          "name": "stdout",
          "text": [
            "valid_loss=0.013, test_los0.004, Model Save\n",
            "epoch = 28, train_loss : 0.006, valid_loss : 0.013, test_loss : 0.004\n",
            "valid_loss=0.013, test_los0.004, Model Save\n",
            "epoch = 29, train_loss : 0.006, valid_loss : 0.013, test_loss : 0.004\n",
            "valid_loss=0.013, test_los0.004, Model Save\n",
            "epoch = 30, train_loss : 0.006, valid_loss : 0.013, test_loss : 0.004\n"
          ]
        },
        {
          "output_type": "stream",
          "name": "stderr",
          "text": [
            "\n",
            "  7%|▋         | 2/30 [00:00<00:02, 13.55it/s]"
          ]
        },
        {
          "output_type": "stream",
          "name": "stdout",
          "text": [
            "valid_loss=0.210, test_los0.413, Model Save\n",
            "epoch = 1, train_loss : 0.070, valid_loss : 0.210, test_loss : 0.413\n",
            "epoch = 2, train_loss : 0.038, valid_loss : 0.221, test_loss : 0.489\n",
            "valid_loss=0.181, test_los0.409, Model Save\n",
            "epoch = 3, train_loss : 0.032, valid_loss : 0.181, test_loss : 0.409\n"
          ]
        },
        {
          "output_type": "stream",
          "name": "stderr",
          "text": [
            "\r 13%|█▎        | 4/30 [00:00<00:02, 11.22it/s]"
          ]
        },
        {
          "output_type": "stream",
          "name": "stdout",
          "text": [
            "valid_loss=0.140, test_los0.317, Model Save\n",
            "epoch = 4, train_loss : 0.027, valid_loss : 0.140, test_loss : 0.317\n",
            "valid_loss=0.107, test_los0.241, Model Save\n",
            "epoch = 5, train_loss : 0.023, valid_loss : 0.107, test_loss : 0.241\n"
          ]
        },
        {
          "output_type": "stream",
          "name": "stderr",
          "text": [
            " 23%|██▎       | 7/30 [00:00<00:02,  8.40it/s]"
          ]
        },
        {
          "output_type": "stream",
          "name": "stdout",
          "text": [
            "valid_loss=0.081, test_los0.181, Model Save\n",
            "epoch = 6, train_loss : 0.019, valid_loss : 0.081, test_loss : 0.181\n",
            "valid_loss=0.061, test_los0.135, Model Save\n",
            "epoch = 7, train_loss : 0.017, valid_loss : 0.061, test_loss : 0.135\n"
          ]
        },
        {
          "output_type": "stream",
          "name": "stderr",
          "text": [
            " 30%|███       | 9/30 [00:01<00:02,  8.49it/s]"
          ]
        },
        {
          "output_type": "stream",
          "name": "stdout",
          "text": [
            "valid_loss=0.046, test_los0.100, Model Save\n",
            "epoch = 8, train_loss : 0.014, valid_loss : 0.046, test_loss : 0.100\n",
            "valid_loss=0.035, test_los0.074, Model Save\n",
            "epoch = 9, train_loss : 0.013, valid_loss : 0.035, test_loss : 0.074\n"
          ]
        },
        {
          "output_type": "stream",
          "name": "stderr",
          "text": [
            " 37%|███▋      | 11/30 [00:01<00:02,  8.57it/s]"
          ]
        },
        {
          "output_type": "stream",
          "name": "stdout",
          "text": [
            "valid_loss=0.027, test_los0.054, Model Save\n",
            "epoch = 10, train_loss : 0.011, valid_loss : 0.027, test_loss : 0.054\n",
            "valid_loss=0.021, test_los0.039, Model Save\n",
            "epoch = 11, train_loss : 0.010, valid_loss : 0.021, test_loss : 0.039\n"
          ]
        },
        {
          "output_type": "stream",
          "name": "stderr",
          "text": [
            " 43%|████▎     | 13/30 [00:01<00:02,  7.92it/s]"
          ]
        },
        {
          "output_type": "stream",
          "name": "stdout",
          "text": [
            "valid_loss=0.017, test_los0.029, Model Save\n",
            "epoch = 12, train_loss : 0.009, valid_loss : 0.017, test_loss : 0.029\n",
            "valid_loss=0.014, test_los0.021, Model Save\n",
            "epoch = 13, train_loss : 0.009, valid_loss : 0.014, test_loss : 0.021\n"
          ]
        },
        {
          "output_type": "stream",
          "name": "stderr",
          "text": [
            " 50%|█████     | 15/30 [00:01<00:01,  7.63it/s]"
          ]
        },
        {
          "output_type": "stream",
          "name": "stdout",
          "text": [
            "valid_loss=0.012, test_los0.016, Model Save\n",
            "epoch = 14, train_loss : 0.008, valid_loss : 0.012, test_loss : 0.016\n",
            "valid_loss=0.010, test_los0.012, Model Save\n",
            "epoch = 15, train_loss : 0.008, valid_loss : 0.010, test_loss : 0.012\n"
          ]
        },
        {
          "output_type": "stream",
          "name": "stderr",
          "text": [
            " 57%|█████▋    | 17/30 [00:02<00:01,  7.24it/s]"
          ]
        },
        {
          "output_type": "stream",
          "name": "stdout",
          "text": [
            "valid_loss=0.009, test_los0.010, Model Save\n",
            "epoch = 16, train_loss : 0.008, valid_loss : 0.009, test_loss : 0.010\n",
            "valid_loss=0.009, test_los0.008, Model Save\n",
            "epoch = 17, train_loss : 0.007, valid_loss : 0.009, test_loss : 0.008\n"
          ]
        },
        {
          "output_type": "stream",
          "name": "stderr",
          "text": [
            " 63%|██████▎   | 19/30 [00:02<00:01,  7.69it/s]"
          ]
        },
        {
          "output_type": "stream",
          "name": "stdout",
          "text": [
            "valid_loss=0.009, test_los0.007, Model Save\n",
            "epoch = 18, train_loss : 0.007, valid_loss : 0.009, test_loss : 0.007\n",
            "valid_loss=0.008, test_los0.007, Model Save\n",
            "epoch = 19, train_loss : 0.007, valid_loss : 0.008, test_loss : 0.007\n"
          ]
        },
        {
          "output_type": "stream",
          "name": "stderr",
          "text": [
            " 70%|███████   | 21/30 [00:02<00:01,  8.16it/s]"
          ]
        },
        {
          "output_type": "stream",
          "name": "stdout",
          "text": [
            "valid_loss=0.008, test_los0.006, Model Save\n",
            "epoch = 20, train_loss : 0.007, valid_loss : 0.008, test_loss : 0.006\n",
            "valid_loss=0.008, test_los0.006, Model Save\n",
            "epoch = 21, train_loss : 0.007, valid_loss : 0.008, test_loss : 0.006\n"
          ]
        },
        {
          "output_type": "stream",
          "name": "stderr",
          "text": [
            " 77%|███████▋  | 23/30 [00:02<00:00,  7.82it/s]"
          ]
        },
        {
          "output_type": "stream",
          "name": "stdout",
          "text": [
            "valid_loss=0.008, test_los0.006, Model Save\n",
            "epoch = 22, train_loss : 0.007, valid_loss : 0.008, test_loss : 0.006\n",
            "valid_loss=0.008, test_los0.006, Model Save\n",
            "epoch = 23, train_loss : 0.007, valid_loss : 0.008, test_loss : 0.006\n"
          ]
        },
        {
          "output_type": "stream",
          "name": "stderr",
          "text": [
            " 83%|████████▎ | 25/30 [00:03<00:00,  8.01it/s]"
          ]
        },
        {
          "output_type": "stream",
          "name": "stdout",
          "text": [
            "valid_loss=0.008, test_los0.006, Model Save\n",
            "epoch = 24, train_loss : 0.007, valid_loss : 0.008, test_loss : 0.006\n",
            "valid_loss=0.008, test_los0.006, Model Save\n",
            "epoch = 25, train_loss : 0.007, valid_loss : 0.008, test_loss : 0.006\n"
          ]
        },
        {
          "output_type": "stream",
          "name": "stderr",
          "text": [
            " 90%|█████████ | 27/30 [00:03<00:00,  8.06it/s]"
          ]
        },
        {
          "output_type": "stream",
          "name": "stdout",
          "text": [
            "valid_loss=0.008, test_los0.006, Model Save\n",
            "epoch = 26, train_loss : 0.007, valid_loss : 0.008, test_loss : 0.006\n",
            "valid_loss=0.008, test_los0.006, Model Save\n",
            "epoch = 27, train_loss : 0.007, valid_loss : 0.008, test_loss : 0.006\n"
          ]
        },
        {
          "output_type": "stream",
          "name": "stderr",
          "text": [
            " 97%|█████████▋| 29/30 [00:03<00:00,  7.81it/s]"
          ]
        },
        {
          "output_type": "stream",
          "name": "stdout",
          "text": [
            "valid_loss=0.008, test_los0.006, Model Save\n",
            "epoch = 28, train_loss : 0.006, valid_loss : 0.008, test_loss : 0.006\n",
            "valid_loss=0.008, test_los0.006, Model Save\n",
            "epoch = 29, train_loss : 0.006, valid_loss : 0.008, test_loss : 0.006\n"
          ]
        },
        {
          "output_type": "stream",
          "name": "stderr",
          "text": [
            "100%|██████████| 30/30 [00:03<00:00,  8.05it/s]\n"
          ]
        },
        {
          "output_type": "stream",
          "name": "stdout",
          "text": [
            "valid_loss=0.008, test_los0.006, Model Save\n",
            "epoch = 30, train_loss : 0.006, valid_loss : 0.008, test_loss : 0.006\n"
          ]
        },
        {
          "output_type": "stream",
          "name": "stderr",
          "text": [
            "  7%|▋         | 2/30 [00:00<00:03,  8.33it/s]"
          ]
        },
        {
          "output_type": "stream",
          "name": "stdout",
          "text": [
            "valid_loss=0.083, test_los0.077, Model Save\n",
            "epoch = 1, train_loss : 0.141, valid_loss : 0.083, test_loss : 0.077\n",
            "valid_loss=0.066, test_los0.066, Model Save\n",
            "epoch = 2, train_loss : 0.113, valid_loss : 0.066, test_loss : 0.066\n"
          ]
        },
        {
          "output_type": "stream",
          "name": "stderr",
          "text": [
            " 13%|█▎        | 4/30 [00:00<00:03,  8.39it/s]"
          ]
        },
        {
          "output_type": "stream",
          "name": "stdout",
          "text": [
            "valid_loss=0.056, test_los0.058, Model Save\n",
            "epoch = 3, train_loss : 0.102, valid_loss : 0.056, test_loss : 0.058\n",
            "valid_loss=0.049, test_los0.052, Model Save\n",
            "epoch = 4, train_loss : 0.094, valid_loss : 0.049, test_loss : 0.052\n",
            "valid_loss=0.045, test_los0.048, Model Save\n",
            "epoch = 5, train_loss : 0.087, valid_loss : 0.045, test_loss : 0.048\n"
          ]
        },
        {
          "output_type": "stream",
          "name": "stderr",
          "text": [
            " 27%|██▋       | 8/30 [00:00<00:02, 10.32it/s]"
          ]
        },
        {
          "output_type": "stream",
          "name": "stdout",
          "text": [
            "valid_loss=0.041, test_los0.045, Model Save\n",
            "epoch = 6, train_loss : 0.082, valid_loss : 0.041, test_loss : 0.045\n",
            "valid_loss=0.038, test_los0.042, Model Save\n",
            "epoch = 7, train_loss : 0.077, valid_loss : 0.038, test_loss : 0.042\n",
            "valid_loss=0.037, test_los0.040, Model Save\n",
            "epoch = 8, train_loss : 0.074, valid_loss : 0.037, test_loss : 0.040\n"
          ]
        },
        {
          "output_type": "stream",
          "name": "stderr",
          "text": [
            "\r 33%|███▎      | 10/30 [00:00<00:01, 11.24it/s]"
          ]
        },
        {
          "output_type": "stream",
          "name": "stdout",
          "text": [
            "valid_loss=0.035, test_los0.039, Model Save\n",
            "epoch = 9, train_loss : 0.071, valid_loss : 0.035, test_loss : 0.039\n",
            "valid_loss=0.034, test_los0.038, Model Save\n",
            "epoch = 10, train_loss : 0.069, valid_loss : 0.034, test_loss : 0.038\n",
            "valid_loss=0.033, test_los0.037, Model Save\n",
            "epoch = 11, train_loss : 0.067, valid_loss : 0.033, test_loss : 0.037\n"
          ]
        },
        {
          "output_type": "stream",
          "name": "stderr",
          "text": [
            " 47%|████▋     | 14/30 [00:01<00:01, 12.30it/s]"
          ]
        },
        {
          "output_type": "stream",
          "name": "stdout",
          "text": [
            "valid_loss=0.032, test_los0.036, Model Save\n",
            "epoch = 12, train_loss : 0.066, valid_loss : 0.032, test_loss : 0.036\n",
            "valid_loss=0.032, test_los0.036, Model Save\n",
            "epoch = 13, train_loss : 0.064, valid_loss : 0.032, test_loss : 0.036\n",
            "valid_loss=0.031, test_los0.035, Model Save\n",
            "epoch = 14, train_loss : 0.063, valid_loss : 0.031, test_loss : 0.035\n"
          ]
        },
        {
          "output_type": "stream",
          "name": "stderr",
          "text": [
            "\r 53%|█████▎    | 16/30 [00:01<00:01, 12.55it/s]"
          ]
        },
        {
          "output_type": "stream",
          "name": "stdout",
          "text": [
            "valid_loss=0.031, test_los0.035, Model Save\n",
            "epoch = 15, train_loss : 0.062, valid_loss : 0.031, test_loss : 0.035\n",
            "valid_loss=0.031, test_los0.034, Model Save\n",
            "epoch = 16, train_loss : 0.061, valid_loss : 0.031, test_loss : 0.034\n",
            "valid_loss=0.030, test_los0.034, Model Save\n",
            "epoch = 17, train_loss : 0.060, valid_loss : 0.030, test_loss : 0.034\n"
          ]
        },
        {
          "output_type": "stream",
          "name": "stderr",
          "text": [
            " 67%|██████▋   | 20/30 [00:01<00:00, 12.76it/s]"
          ]
        },
        {
          "output_type": "stream",
          "name": "stdout",
          "text": [
            "valid_loss=0.030, test_los0.034, Model Save\n",
            "epoch = 18, train_loss : 0.059, valid_loss : 0.030, test_loss : 0.034\n",
            "valid_loss=0.030, test_los0.033, Model Save\n",
            "epoch = 19, train_loss : 0.059, valid_loss : 0.030, test_loss : 0.033\n",
            "valid_loss=0.030, test_los0.033, Model Save\n",
            "epoch = 20, train_loss : 0.058, valid_loss : 0.030, test_loss : 0.033\n"
          ]
        },
        {
          "output_type": "stream",
          "name": "stderr",
          "text": [
            "\r 73%|███████▎  | 22/30 [00:01<00:00, 12.98it/s]"
          ]
        },
        {
          "output_type": "stream",
          "name": "stdout",
          "text": [
            "valid_loss=0.029, test_los0.033, Model Save\n",
            "epoch = 21, train_loss : 0.057, valid_loss : 0.029, test_loss : 0.033\n",
            "valid_loss=0.029, test_los0.032, Model Save\n",
            "epoch = 22, train_loss : 0.057, valid_loss : 0.029, test_loss : 0.032\n",
            "valid_loss=0.029, test_los0.032, Model Save\n",
            "epoch = 23, train_loss : 0.056, valid_loss : 0.029, test_loss : 0.032\n"
          ]
        },
        {
          "output_type": "stream",
          "name": "stderr",
          "text": [
            " 87%|████████▋ | 26/30 [00:02<00:00, 13.01it/s]"
          ]
        },
        {
          "output_type": "stream",
          "name": "stdout",
          "text": [
            "valid_loss=0.029, test_los0.032, Model Save\n",
            "epoch = 24, train_loss : 0.056, valid_loss : 0.029, test_loss : 0.032\n",
            "valid_loss=0.029, test_los0.032, Model Save\n",
            "epoch = 25, train_loss : 0.055, valid_loss : 0.029, test_loss : 0.032\n",
            "valid_loss=0.029, test_los0.032, Model Save\n",
            "epoch = 26, train_loss : 0.055, valid_loss : 0.029, test_loss : 0.032\n"
          ]
        },
        {
          "output_type": "stream",
          "name": "stderr",
          "text": [
            "\r 93%|█████████▎| 28/30 [00:02<00:00, 12.95it/s]"
          ]
        },
        {
          "output_type": "stream",
          "name": "stdout",
          "text": [
            "valid_loss=0.028, test_los0.032, Model Save\n",
            "epoch = 27, train_loss : 0.054, valid_loss : 0.028, test_loss : 0.032\n",
            "valid_loss=0.028, test_los0.031, Model Save\n",
            "epoch = 28, train_loss : 0.054, valid_loss : 0.028, test_loss : 0.031\n",
            "valid_loss=0.028, test_los0.031, Model Save\n",
            "epoch = 29, train_loss : 0.054, valid_loss : 0.028, test_loss : 0.031\n"
          ]
        },
        {
          "output_type": "stream",
          "name": "stderr",
          "text": [
            "100%|██████████| 30/30 [00:02<00:00, 11.89it/s]\n"
          ]
        },
        {
          "output_type": "stream",
          "name": "stdout",
          "text": [
            "valid_loss=0.028, test_los0.031, Model Save\n",
            "epoch = 30, train_loss : 0.053, valid_loss : 0.028, test_loss : 0.031\n"
          ]
        },
        {
          "output_type": "stream",
          "name": "stderr",
          "text": [
            "  7%|▋         | 2/30 [00:00<00:01, 14.32it/s]"
          ]
        },
        {
          "output_type": "stream",
          "name": "stdout",
          "text": [
            "valid_loss=0.496, test_los0.726, Model Save\n",
            "epoch = 1, train_loss : 0.054, valid_loss : 0.496, test_loss : 0.726\n",
            "epoch = 2, train_loss : 0.010, valid_loss : 0.821, test_loss : 1.212\n",
            "epoch = 3, train_loss : 0.001, valid_loss : 0.973, test_loss : 1.430\n"
          ]
        },
        {
          "output_type": "stream",
          "name": "stderr",
          "text": [
            " 20%|██        | 6/30 [00:00<00:01, 13.71it/s]"
          ]
        },
        {
          "output_type": "stream",
          "name": "stdout",
          "text": [
            "epoch = 4, train_loss : 0.000, valid_loss : 1.014, test_loss : 1.487\n",
            "epoch = 5, train_loss : 0.000, valid_loss : 1.017, test_loss : 1.492\n",
            "epoch = 6, train_loss : 0.000, valid_loss : 1.016, test_loss : 1.491\n"
          ]
        },
        {
          "output_type": "stream",
          "name": "stderr",
          "text": [
            "\r 27%|██▋       | 8/30 [00:00<00:01, 13.39it/s]"
          ]
        },
        {
          "output_type": "stream",
          "name": "stdout",
          "text": [
            "epoch = 7, train_loss : 0.000, valid_loss : 1.016, test_loss : 1.490\n",
            "epoch = 8, train_loss : 0.000, valid_loss : 1.016, test_loss : 1.490\n",
            "epoch = 9, train_loss : 0.000, valid_loss : 1.015, test_loss : 1.489\n"
          ]
        },
        {
          "output_type": "stream",
          "name": "stderr",
          "text": [
            " 40%|████      | 12/30 [00:00<00:01, 12.27it/s]"
          ]
        },
        {
          "output_type": "stream",
          "name": "stdout",
          "text": [
            "epoch = 10, train_loss : 0.000, valid_loss : 1.015, test_loss : 1.489\n",
            "epoch = 11, train_loss : 0.000, valid_loss : 1.015, test_loss : 1.489\n",
            "epoch = 12, train_loss : 0.000, valid_loss : 1.015, test_loss : 1.489\n"
          ]
        },
        {
          "output_type": "stream",
          "name": "stderr",
          "text": [
            "\r 47%|████▋     | 14/30 [00:01<00:01, 12.39it/s]"
          ]
        },
        {
          "output_type": "stream",
          "name": "stdout",
          "text": [
            "epoch = 13, train_loss : 0.000, valid_loss : 1.015, test_loss : 1.488\n",
            "epoch = 14, train_loss : 0.000, valid_loss : 1.015, test_loss : 1.488\n",
            "epoch = 15, train_loss : 0.000, valid_loss : 1.014, test_loss : 1.488\n"
          ]
        },
        {
          "output_type": "stream",
          "name": "stderr",
          "text": [
            " 60%|██████    | 18/30 [00:01<00:00, 12.70it/s]"
          ]
        },
        {
          "output_type": "stream",
          "name": "stdout",
          "text": [
            "epoch = 16, train_loss : 0.000, valid_loss : 1.014, test_loss : 1.488\n",
            "epoch = 17, train_loss : 0.000, valid_loss : 1.014, test_loss : 1.487\n",
            "epoch = 18, train_loss : 0.000, valid_loss : 1.014, test_loss : 1.487\n"
          ]
        },
        {
          "output_type": "stream",
          "name": "stderr",
          "text": [
            "\r 67%|██████▋   | 20/30 [00:01<00:00, 12.92it/s]"
          ]
        },
        {
          "output_type": "stream",
          "name": "stdout",
          "text": [
            "epoch = 19, train_loss : 0.000, valid_loss : 1.014, test_loss : 1.487\n",
            "epoch = 20, train_loss : 0.000, valid_loss : 1.014, test_loss : 1.487\n",
            "epoch = 21, train_loss : 0.000, valid_loss : 1.014, test_loss : 1.487\n"
          ]
        },
        {
          "output_type": "stream",
          "name": "stderr",
          "text": [
            " 80%|████████  | 24/30 [00:01<00:00, 12.82it/s]"
          ]
        },
        {
          "output_type": "stream",
          "name": "stdout",
          "text": [
            "epoch = 22, train_loss : 0.000, valid_loss : 1.014, test_loss : 1.487\n",
            "epoch = 23, train_loss : 0.000, valid_loss : 1.013, test_loss : 1.486\n",
            "epoch = 24, train_loss : 0.000, valid_loss : 1.013, test_loss : 1.486\n"
          ]
        },
        {
          "output_type": "stream",
          "name": "stderr",
          "text": [
            "\r 87%|████████▋ | 26/30 [00:02<00:00, 12.97it/s]"
          ]
        },
        {
          "output_type": "stream",
          "name": "stdout",
          "text": [
            "epoch = 25, train_loss : 0.000, valid_loss : 1.013, test_loss : 1.486\n",
            "epoch = 26, train_loss : 0.000, valid_loss : 1.013, test_loss : 1.486\n",
            "epoch = 27, train_loss : 0.000, valid_loss : 1.013, test_loss : 1.486\n"
          ]
        },
        {
          "output_type": "stream",
          "name": "stderr",
          "text": [
            "100%|██████████| 30/30 [00:02<00:00, 12.96it/s]"
          ]
        },
        {
          "output_type": "stream",
          "name": "stdout",
          "text": [
            "epoch = 28, train_loss : 0.000, valid_loss : 1.013, test_loss : 1.486\n",
            "epoch = 29, train_loss : 0.000, valid_loss : 1.013, test_loss : 1.486\n",
            "epoch = 30, train_loss : 0.000, valid_loss : 1.013, test_loss : 1.486\n"
          ]
        },
        {
          "output_type": "stream",
          "name": "stderr",
          "text": [
            "\n",
            "  7%|▋         | 2/30 [00:00<00:01, 14.63it/s]"
          ]
        },
        {
          "output_type": "stream",
          "name": "stdout",
          "text": [
            "valid_loss=0.427, test_los0.935, Model Save\n",
            "epoch = 1, train_loss : 0.052, valid_loss : 0.427, test_loss : 0.935\n",
            "epoch = 2, train_loss : 0.009, valid_loss : 0.653, test_loss : 1.628\n",
            "epoch = 3, train_loss : 0.001, valid_loss : 0.755, test_loss : 1.937\n"
          ]
        },
        {
          "output_type": "stream",
          "name": "stderr",
          "text": [
            " 20%|██        | 6/30 [00:00<00:01, 13.72it/s]"
          ]
        },
        {
          "output_type": "stream",
          "name": "stdout",
          "text": [
            "epoch = 4, train_loss : 0.000, valid_loss : 0.780, test_loss : 2.014\n",
            "epoch = 5, train_loss : 0.000, valid_loss : 0.782, test_loss : 2.018\n",
            "epoch = 6, train_loss : 0.000, valid_loss : 0.781, test_loss : 2.016\n"
          ]
        },
        {
          "output_type": "stream",
          "name": "stderr",
          "text": [
            "\r 27%|██▋       | 8/30 [00:00<00:01, 13.64it/s]"
          ]
        },
        {
          "output_type": "stream",
          "name": "stdout",
          "text": [
            "epoch = 7, train_loss : 0.000, valid_loss : 0.781, test_loss : 2.016\n",
            "epoch = 8, train_loss : 0.000, valid_loss : 0.781, test_loss : 2.016\n",
            "epoch = 9, train_loss : 0.000, valid_loss : 0.781, test_loss : 2.016\n"
          ]
        },
        {
          "output_type": "stream",
          "name": "stderr",
          "text": [
            " 40%|████      | 12/30 [00:00<00:01, 13.53it/s]"
          ]
        },
        {
          "output_type": "stream",
          "name": "stdout",
          "text": [
            "epoch = 10, train_loss : 0.000, valid_loss : 0.781, test_loss : 2.016\n",
            "epoch = 11, train_loss : 0.000, valid_loss : 0.781, test_loss : 2.016\n",
            "epoch = 12, train_loss : 0.000, valid_loss : 0.781, test_loss : 2.016\n"
          ]
        },
        {
          "output_type": "stream",
          "name": "stderr",
          "text": [
            "\r 47%|████▋     | 14/30 [00:01<00:01, 13.26it/s]"
          ]
        },
        {
          "output_type": "stream",
          "name": "stdout",
          "text": [
            "epoch = 13, train_loss : 0.000, valid_loss : 0.781, test_loss : 2.016\n",
            "epoch = 14, train_loss : 0.000, valid_loss : 0.781, test_loss : 2.016\n",
            "epoch = 15, train_loss : 0.000, valid_loss : 0.781, test_loss : 2.016\n"
          ]
        },
        {
          "output_type": "stream",
          "name": "stderr",
          "text": [
            " 60%|██████    | 18/30 [00:01<00:00, 12.86it/s]"
          ]
        },
        {
          "output_type": "stream",
          "name": "stdout",
          "text": [
            "epoch = 16, train_loss : 0.000, valid_loss : 0.781, test_loss : 2.016\n",
            "epoch = 17, train_loss : 0.000, valid_loss : 0.781, test_loss : 2.016\n",
            "epoch = 18, train_loss : 0.000, valid_loss : 0.781, test_loss : 2.016\n"
          ]
        },
        {
          "output_type": "stream",
          "name": "stderr",
          "text": [
            "\r 67%|██████▋   | 20/30 [00:01<00:00, 13.10it/s]"
          ]
        },
        {
          "output_type": "stream",
          "name": "stdout",
          "text": [
            "epoch = 19, train_loss : 0.000, valid_loss : 0.781, test_loss : 2.016\n",
            "epoch = 20, train_loss : 0.000, valid_loss : 0.781, test_loss : 2.016\n",
            "epoch = 21, train_loss : 0.000, valid_loss : 0.781, test_loss : 2.016\n"
          ]
        },
        {
          "output_type": "stream",
          "name": "stderr",
          "text": [
            " 80%|████████  | 24/30 [00:01<00:00, 13.20it/s]"
          ]
        },
        {
          "output_type": "stream",
          "name": "stdout",
          "text": [
            "epoch = 22, train_loss : 0.000, valid_loss : 0.781, test_loss : 2.016\n",
            "epoch = 23, train_loss : 0.000, valid_loss : 0.781, test_loss : 2.016\n",
            "epoch = 24, train_loss : 0.000, valid_loss : 0.781, test_loss : 2.016\n"
          ]
        },
        {
          "output_type": "stream",
          "name": "stderr",
          "text": [
            "\r 87%|████████▋ | 26/30 [00:01<00:00, 13.17it/s]"
          ]
        },
        {
          "output_type": "stream",
          "name": "stdout",
          "text": [
            "epoch = 25, train_loss : 0.000, valid_loss : 0.781, test_loss : 2.016\n",
            "epoch = 26, train_loss : 0.000, valid_loss : 0.781, test_loss : 2.016\n",
            "epoch = 27, train_loss : 0.000, valid_loss : 0.781, test_loss : 2.016\n"
          ]
        },
        {
          "output_type": "stream",
          "name": "stderr",
          "text": [
            "100%|██████████| 30/30 [00:02<00:00, 13.26it/s]"
          ]
        },
        {
          "output_type": "stream",
          "name": "stdout",
          "text": [
            "epoch = 28, train_loss : 0.000, valid_loss : 0.781, test_loss : 2.016\n",
            "epoch = 29, train_loss : 0.000, valid_loss : 0.781, test_loss : 2.016\n",
            "epoch = 30, train_loss : 0.000, valid_loss : 0.781, test_loss : 2.016\n"
          ]
        },
        {
          "output_type": "stream",
          "name": "stderr",
          "text": [
            "\n",
            " 10%|█         | 3/30 [00:00<00:02, 12.09it/s]"
          ]
        },
        {
          "output_type": "stream",
          "name": "stdout",
          "text": [
            "valid_loss=0.135, test_los0.187, Model Save\n",
            "epoch = 1, train_loss : 0.156, valid_loss : 0.135, test_loss : 0.187\n",
            "valid_loss=0.133, test_los0.212, Model Save\n",
            "epoch = 2, train_loss : 0.127, valid_loss : 0.133, test_loss : 0.212\n",
            "valid_loss=0.115, test_los0.179, Model Save\n",
            "epoch = 3, train_loss : 0.116, valid_loss : 0.115, test_loss : 0.179\n"
          ]
        },
        {
          "output_type": "stream",
          "name": "stderr",
          "text": [
            "\r 17%|█▋        | 5/30 [00:00<00:02, 12.12it/s]"
          ]
        },
        {
          "output_type": "stream",
          "name": "stdout",
          "text": [
            "valid_loss=0.102, test_los0.153, Model Save\n",
            "epoch = 4, train_loss : 0.109, valid_loss : 0.102, test_loss : 0.153\n",
            "valid_loss=0.092, test_los0.134, Model Save\n",
            "epoch = 5, train_loss : 0.102, valid_loss : 0.092, test_loss : 0.134\n",
            "valid_loss=0.085, test_los0.121, Model Save\n",
            "epoch = 6, train_loss : 0.098, valid_loss : 0.085, test_loss : 0.121\n"
          ]
        },
        {
          "output_type": "stream",
          "name": "stderr",
          "text": [
            " 30%|███       | 9/30 [00:00<00:01, 12.65it/s]"
          ]
        },
        {
          "output_type": "stream",
          "name": "stdout",
          "text": [
            "valid_loss=0.080, test_los0.111, Model Save\n",
            "epoch = 7, train_loss : 0.094, valid_loss : 0.080, test_loss : 0.111\n",
            "valid_loss=0.077, test_los0.104, Model Save\n",
            "epoch = 8, train_loss : 0.091, valid_loss : 0.077, test_loss : 0.104\n",
            "valid_loss=0.074, test_los0.099, Model Save\n",
            "epoch = 9, train_loss : 0.089, valid_loss : 0.074, test_loss : 0.099\n"
          ]
        },
        {
          "output_type": "stream",
          "name": "stderr",
          "text": [
            "\r 37%|███▋      | 11/30 [00:00<00:01, 12.34it/s]"
          ]
        },
        {
          "output_type": "stream",
          "name": "stdout",
          "text": [
            "valid_loss=0.072, test_los0.095, Model Save\n",
            "epoch = 10, train_loss : 0.086, valid_loss : 0.072, test_loss : 0.095\n",
            "valid_loss=0.070, test_los0.092, Model Save\n",
            "epoch = 11, train_loss : 0.084, valid_loss : 0.070, test_loss : 0.092\n",
            "valid_loss=0.068, test_los0.089, Model Save\n",
            "epoch = 12, train_loss : 0.083, valid_loss : 0.068, test_loss : 0.089\n"
          ]
        },
        {
          "output_type": "stream",
          "name": "stderr",
          "text": [
            " 50%|█████     | 15/30 [00:01<00:01, 12.63it/s]"
          ]
        },
        {
          "output_type": "stream",
          "name": "stdout",
          "text": [
            "valid_loss=0.067, test_los0.087, Model Save\n",
            "epoch = 13, train_loss : 0.081, valid_loss : 0.067, test_loss : 0.087\n",
            "valid_loss=0.065, test_los0.085, Model Save\n",
            "epoch = 14, train_loss : 0.079, valid_loss : 0.065, test_loss : 0.085\n",
            "valid_loss=0.064, test_los0.083, Model Save\n",
            "epoch = 15, train_loss : 0.078, valid_loss : 0.064, test_loss : 0.083\n"
          ]
        },
        {
          "output_type": "stream",
          "name": "stderr",
          "text": [
            "\r 57%|█████▋    | 17/30 [00:01<00:01, 12.23it/s]"
          ]
        },
        {
          "output_type": "stream",
          "name": "stdout",
          "text": [
            "valid_loss=0.063, test_los0.082, Model Save\n",
            "epoch = 16, train_loss : 0.077, valid_loss : 0.063, test_loss : 0.082\n",
            "valid_loss=0.062, test_los0.081, Model Save\n",
            "epoch = 17, train_loss : 0.076, valid_loss : 0.062, test_loss : 0.081\n",
            "valid_loss=0.061, test_los0.079, Model Save\n",
            "epoch = 18, train_loss : 0.074, valid_loss : 0.061, test_loss : 0.079\n"
          ]
        },
        {
          "output_type": "stream",
          "name": "stderr",
          "text": [
            " 70%|███████   | 21/30 [00:01<00:00, 12.73it/s]"
          ]
        },
        {
          "output_type": "stream",
          "name": "stdout",
          "text": [
            "valid_loss=0.061, test_los0.078, Model Save\n",
            "epoch = 19, train_loss : 0.073, valid_loss : 0.061, test_loss : 0.078\n",
            "valid_loss=0.060, test_los0.077, Model Save\n",
            "epoch = 20, train_loss : 0.072, valid_loss : 0.060, test_loss : 0.077\n",
            "valid_loss=0.059, test_los0.076, Model Save\n",
            "epoch = 21, train_loss : 0.072, valid_loss : 0.059, test_loss : 0.076\n"
          ]
        },
        {
          "output_type": "stream",
          "name": "stderr",
          "text": [
            "\r 77%|███████▋  | 23/30 [00:01<00:00, 12.02it/s]"
          ]
        },
        {
          "output_type": "stream",
          "name": "stdout",
          "text": [
            "valid_loss=0.059, test_los0.076, Model Save\n",
            "epoch = 22, train_loss : 0.071, valid_loss : 0.059, test_loss : 0.076\n",
            "valid_loss=0.058, test_los0.075, Model Save\n",
            "epoch = 23, train_loss : 0.070, valid_loss : 0.058, test_loss : 0.075\n"
          ]
        },
        {
          "output_type": "stream",
          "name": "stderr",
          "text": [
            "\r 83%|████████▎ | 25/30 [00:02<00:00,  9.91it/s]"
          ]
        },
        {
          "output_type": "stream",
          "name": "stdout",
          "text": [
            "valid_loss=0.058, test_los0.074, Model Save\n",
            "epoch = 24, train_loss : 0.069, valid_loss : 0.058, test_loss : 0.074\n",
            "valid_loss=0.057, test_los0.074, Model Save\n",
            "epoch = 25, train_loss : 0.069, valid_loss : 0.057, test_loss : 0.074\n"
          ]
        },
        {
          "output_type": "stream",
          "name": "stderr",
          "text": [
            "\r 90%|█████████ | 27/30 [00:02<00:00,  8.65it/s]"
          ]
        },
        {
          "output_type": "stream",
          "name": "stdout",
          "text": [
            "valid_loss=0.057, test_los0.073, Model Save\n",
            "epoch = 26, train_loss : 0.068, valid_loss : 0.057, test_loss : 0.073\n",
            "valid_loss=0.056, test_los0.072, Model Save\n",
            "epoch = 27, train_loss : 0.067, valid_loss : 0.056, test_loss : 0.072\n"
          ]
        },
        {
          "output_type": "stream",
          "name": "stderr",
          "text": [
            " 97%|█████████▋| 29/30 [00:02<00:00,  7.82it/s]"
          ]
        },
        {
          "output_type": "stream",
          "name": "stdout",
          "text": [
            "valid_loss=0.056, test_los0.072, Model Save\n",
            "epoch = 28, train_loss : 0.067, valid_loss : 0.056, test_loss : 0.072\n",
            "valid_loss=0.056, test_los0.071, Model Save\n",
            "epoch = 29, train_loss : 0.066, valid_loss : 0.056, test_loss : 0.071\n"
          ]
        },
        {
          "output_type": "stream",
          "name": "stderr",
          "text": [
            "100%|██████████| 30/30 [00:02<00:00, 10.26it/s]\n"
          ]
        },
        {
          "output_type": "stream",
          "name": "stdout",
          "text": [
            "valid_loss=0.055, test_los0.071, Model Save\n",
            "epoch = 30, train_loss : 0.066, valid_loss : 0.055, test_loss : 0.071\n"
          ]
        },
        {
          "output_type": "stream",
          "name": "stderr",
          "text": [
            "  7%|▋         | 2/30 [00:00<00:04,  6.17it/s]"
          ]
        },
        {
          "output_type": "stream",
          "name": "stdout",
          "text": [
            "valid_loss=0.094, test_los0.176, Model Save\n",
            "epoch = 1, train_loss : 0.080, valid_loss : 0.094, test_loss : 0.176\n",
            "valid_loss=0.063, test_los0.113, Model Save\n",
            "epoch = 2, train_loss : 0.054, valid_loss : 0.063, test_loss : 0.113\n"
          ]
        },
        {
          "output_type": "stream",
          "name": "stderr",
          "text": [
            " 13%|█▎        | 4/30 [00:00<00:03,  7.01it/s]"
          ]
        },
        {
          "output_type": "stream",
          "name": "stdout",
          "text": [
            "valid_loss=0.047, test_los0.084, Model Save\n",
            "epoch = 3, train_loss : 0.044, valid_loss : 0.047, test_loss : 0.084\n",
            "valid_loss=0.037, test_los0.064, Model Save\n",
            "epoch = 4, train_loss : 0.037, valid_loss : 0.037, test_loss : 0.064\n"
          ]
        },
        {
          "output_type": "stream",
          "name": "stderr",
          "text": [
            " 20%|██        | 6/30 [00:00<00:03,  7.26it/s]"
          ]
        },
        {
          "output_type": "stream",
          "name": "stdout",
          "text": [
            "valid_loss=0.031, test_los0.053, Model Save\n",
            "epoch = 5, train_loss : 0.032, valid_loss : 0.031, test_loss : 0.053\n",
            "valid_loss=0.027, test_los0.045, Model Save\n",
            "epoch = 6, train_loss : 0.029, valid_loss : 0.027, test_loss : 0.045\n"
          ]
        },
        {
          "output_type": "stream",
          "name": "stderr",
          "text": [
            " 27%|██▋       | 8/30 [00:01<00:02,  7.93it/s]"
          ]
        },
        {
          "output_type": "stream",
          "name": "stdout",
          "text": [
            "valid_loss=0.024, test_los0.040, Model Save\n",
            "epoch = 7, train_loss : 0.027, valid_loss : 0.024, test_loss : 0.040\n",
            "valid_loss=0.022, test_los0.037, Model Save\n",
            "epoch = 8, train_loss : 0.026, valid_loss : 0.022, test_loss : 0.037\n"
          ]
        },
        {
          "output_type": "stream",
          "name": "stderr",
          "text": [
            " 33%|███▎      | 10/30 [00:01<00:02,  6.97it/s]"
          ]
        },
        {
          "output_type": "stream",
          "name": "stdout",
          "text": [
            "valid_loss=0.021, test_los0.035, Model Save\n",
            "epoch = 9, train_loss : 0.025, valid_loss : 0.021, test_loss : 0.035\n",
            "valid_loss=0.020, test_los0.033, Model Save\n",
            "epoch = 10, train_loss : 0.024, valid_loss : 0.020, test_loss : 0.033\n"
          ]
        },
        {
          "output_type": "stream",
          "name": "stderr",
          "text": [
            " 40%|████      | 12/30 [00:01<00:02,  7.38it/s]"
          ]
        },
        {
          "output_type": "stream",
          "name": "stdout",
          "text": [
            "valid_loss=0.020, test_los0.032, Model Save\n",
            "epoch = 11, train_loss : 0.024, valid_loss : 0.020, test_loss : 0.032\n",
            "valid_loss=0.020, test_los0.031, Model Save\n",
            "epoch = 12, train_loss : 0.024, valid_loss : 0.020, test_loss : 0.031\n"
          ]
        },
        {
          "output_type": "stream",
          "name": "stderr",
          "text": [
            " 47%|████▋     | 14/30 [00:01<00:02,  7.20it/s]"
          ]
        },
        {
          "output_type": "stream",
          "name": "stdout",
          "text": [
            "valid_loss=0.019, test_los0.031, Model Save\n",
            "epoch = 13, train_loss : 0.023, valid_loss : 0.019, test_loss : 0.031\n",
            "valid_loss=0.019, test_los0.030, Model Save\n",
            "epoch = 14, train_loss : 0.023, valid_loss : 0.019, test_loss : 0.030\n"
          ]
        },
        {
          "output_type": "stream",
          "name": "stderr",
          "text": [
            " 53%|█████▎    | 16/30 [00:02<00:02,  6.82it/s]"
          ]
        },
        {
          "output_type": "stream",
          "name": "stdout",
          "text": [
            "valid_loss=0.019, test_los0.030, Model Save\n",
            "epoch = 15, train_loss : 0.023, valid_loss : 0.019, test_loss : 0.030\n",
            "valid_loss=0.019, test_los0.030, Model Save\n",
            "epoch = 16, train_loss : 0.023, valid_loss : 0.019, test_loss : 0.030\n"
          ]
        },
        {
          "output_type": "stream",
          "name": "stderr",
          "text": [
            " 60%|██████    | 18/30 [00:02<00:01,  6.71it/s]"
          ]
        },
        {
          "output_type": "stream",
          "name": "stdout",
          "text": [
            "valid_loss=0.019, test_los0.029, Model Save\n",
            "epoch = 17, train_loss : 0.023, valid_loss : 0.019, test_loss : 0.029\n",
            "valid_loss=0.018, test_los0.029, Model Save\n",
            "epoch = 18, train_loss : 0.022, valid_loss : 0.018, test_loss : 0.029\n"
          ]
        },
        {
          "output_type": "stream",
          "name": "stderr",
          "text": [
            "\r 67%|██████▋   | 20/30 [00:02<00:01,  8.30it/s]"
          ]
        },
        {
          "output_type": "stream",
          "name": "stdout",
          "text": [
            "valid_loss=0.018, test_los0.029, Model Save\n",
            "epoch = 19, train_loss : 0.022, valid_loss : 0.018, test_loss : 0.029\n",
            "valid_loss=0.018, test_los0.029, Model Save\n",
            "epoch = 20, train_loss : 0.022, valid_loss : 0.018, test_loss : 0.029\n",
            "valid_loss=0.018, test_los0.028, Model Save\n",
            "epoch = 21, train_loss : 0.022, valid_loss : 0.018, test_loss : 0.028\n"
          ]
        },
        {
          "output_type": "stream",
          "name": "stderr",
          "text": [
            " 80%|████████  | 24/30 [00:03<00:00, 10.62it/s]"
          ]
        },
        {
          "output_type": "stream",
          "name": "stdout",
          "text": [
            "valid_loss=0.018, test_los0.028, Model Save\n",
            "epoch = 22, train_loss : 0.022, valid_loss : 0.018, test_loss : 0.028\n",
            "valid_loss=0.018, test_los0.028, Model Save\n",
            "epoch = 23, train_loss : 0.022, valid_loss : 0.018, test_loss : 0.028\n",
            "valid_loss=0.018, test_los0.028, Model Save\n",
            "epoch = 24, train_loss : 0.022, valid_loss : 0.018, test_loss : 0.028\n"
          ]
        },
        {
          "output_type": "stream",
          "name": "stderr",
          "text": [
            "\r 87%|████████▋ | 26/30 [00:03<00:00, 11.09it/s]"
          ]
        },
        {
          "output_type": "stream",
          "name": "stdout",
          "text": [
            "valid_loss=0.018, test_los0.028, Model Save\n",
            "epoch = 25, train_loss : 0.022, valid_loss : 0.018, test_loss : 0.028\n",
            "valid_loss=0.018, test_los0.028, Model Save\n",
            "epoch = 26, train_loss : 0.022, valid_loss : 0.018, test_loss : 0.028\n",
            "valid_loss=0.018, test_los0.028, Model Save\n",
            "epoch = 27, train_loss : 0.022, valid_loss : 0.018, test_loss : 0.028\n"
          ]
        },
        {
          "output_type": "stream",
          "name": "stderr",
          "text": [
            "100%|██████████| 30/30 [00:03<00:00,  8.35it/s]"
          ]
        },
        {
          "output_type": "stream",
          "name": "stdout",
          "text": [
            "valid_loss=0.018, test_los0.028, Model Save\n",
            "epoch = 28, train_loss : 0.022, valid_loss : 0.018, test_loss : 0.028\n",
            "valid_loss=0.018, test_los0.028, Model Save\n",
            "epoch = 29, train_loss : 0.022, valid_loss : 0.018, test_loss : 0.028\n",
            "valid_loss=0.018, test_los0.028, Model Save\n",
            "epoch = 30, train_loss : 0.022, valid_loss : 0.018, test_loss : 0.028\n"
          ]
        },
        {
          "output_type": "stream",
          "name": "stderr",
          "text": [
            "\n",
            "  7%|▋         | 2/30 [00:00<00:02, 12.42it/s]"
          ]
        },
        {
          "output_type": "stream",
          "name": "stdout",
          "text": [
            "valid_loss=0.151, test_los0.283, Model Save\n",
            "epoch = 1, train_loss : 0.088, valid_loss : 0.151, test_loss : 0.283\n",
            "valid_loss=0.141, test_los0.277, Model Save\n",
            "epoch = 2, train_loss : 0.060, valid_loss : 0.141, test_loss : 0.277\n",
            "valid_loss=0.129, test_los0.260, Model Save\n",
            "epoch = 3, train_loss : 0.048, valid_loss : 0.129, test_loss : 0.260\n"
          ]
        },
        {
          "output_type": "stream",
          "name": "stderr",
          "text": [
            " 20%|██        | 6/30 [00:00<00:02, 11.40it/s]"
          ]
        },
        {
          "output_type": "stream",
          "name": "stdout",
          "text": [
            "valid_loss=0.110, test_los0.221, Model Save\n",
            "epoch = 4, train_loss : 0.041, valid_loss : 0.110, test_loss : 0.221\n",
            "valid_loss=0.092, test_los0.181, Model Save\n",
            "epoch = 5, train_loss : 0.036, valid_loss : 0.092, test_loss : 0.181\n",
            "valid_loss=0.076, test_los0.147, Model Save\n",
            "epoch = 6, train_loss : 0.032, valid_loss : 0.076, test_loss : 0.147\n"
          ]
        },
        {
          "output_type": "stream",
          "name": "stderr",
          "text": [
            "\r 27%|██▋       | 8/30 [00:00<00:01, 11.47it/s]"
          ]
        },
        {
          "output_type": "stream",
          "name": "stdout",
          "text": [
            "valid_loss=0.064, test_los0.119, Model Save\n",
            "epoch = 7, train_loss : 0.029, valid_loss : 0.064, test_loss : 0.119\n",
            "valid_loss=0.054, test_los0.098, Model Save\n",
            "epoch = 8, train_loss : 0.027, valid_loss : 0.054, test_loss : 0.098\n",
            "valid_loss=0.047, test_los0.081, Model Save\n",
            "epoch = 9, train_loss : 0.025, valid_loss : 0.047, test_loss : 0.081\n"
          ]
        },
        {
          "output_type": "stream",
          "name": "stderr",
          "text": [
            " 40%|████      | 12/30 [00:01<00:01, 11.92it/s]"
          ]
        },
        {
          "output_type": "stream",
          "name": "stdout",
          "text": [
            "valid_loss=0.041, test_los0.069, Model Save\n",
            "epoch = 10, train_loss : 0.023, valid_loss : 0.041, test_loss : 0.069\n",
            "valid_loss=0.036, test_los0.059, Model Save\n",
            "epoch = 11, train_loss : 0.022, valid_loss : 0.036, test_loss : 0.059\n",
            "valid_loss=0.032, test_los0.052, Model Save\n",
            "epoch = 12, train_loss : 0.021, valid_loss : 0.032, test_loss : 0.052\n"
          ]
        },
        {
          "output_type": "stream",
          "name": "stderr",
          "text": [
            "\r 47%|████▋     | 14/30 [00:01<00:01, 12.03it/s]"
          ]
        },
        {
          "output_type": "stream",
          "name": "stdout",
          "text": [
            "valid_loss=0.029, test_los0.046, Model Save\n",
            "epoch = 13, train_loss : 0.021, valid_loss : 0.029, test_loss : 0.046\n",
            "valid_loss=0.027, test_los0.042, Model Save\n",
            "epoch = 14, train_loss : 0.020, valid_loss : 0.027, test_loss : 0.042\n",
            "valid_loss=0.025, test_los0.039, Model Save\n",
            "epoch = 15, train_loss : 0.020, valid_loss : 0.025, test_loss : 0.039\n"
          ]
        },
        {
          "output_type": "stream",
          "name": "stderr",
          "text": [
            " 60%|██████    | 18/30 [00:01<00:01, 11.25it/s]"
          ]
        },
        {
          "output_type": "stream",
          "name": "stdout",
          "text": [
            "valid_loss=0.024, test_los0.037, Model Save\n",
            "epoch = 16, train_loss : 0.020, valid_loss : 0.024, test_loss : 0.037\n",
            "valid_loss=0.023, test_los0.035, Model Save\n",
            "epoch = 17, train_loss : 0.019, valid_loss : 0.023, test_loss : 0.035\n",
            "valid_loss=0.022, test_los0.034, Model Save\n",
            "epoch = 18, train_loss : 0.019, valid_loss : 0.022, test_loss : 0.034\n"
          ]
        },
        {
          "output_type": "stream",
          "name": "stderr",
          "text": [
            "\r 67%|██████▋   | 20/30 [00:01<00:00, 11.61it/s]"
          ]
        },
        {
          "output_type": "stream",
          "name": "stdout",
          "text": [
            "valid_loss=0.022, test_los0.033, Model Save\n",
            "epoch = 19, train_loss : 0.019, valid_loss : 0.022, test_loss : 0.033\n",
            "valid_loss=0.021, test_los0.032, Model Save\n",
            "epoch = 20, train_loss : 0.019, valid_loss : 0.021, test_loss : 0.032\n",
            "valid_loss=0.021, test_los0.031, Model Save\n",
            "epoch = 21, train_loss : 0.019, valid_loss : 0.021, test_loss : 0.031\n"
          ]
        },
        {
          "output_type": "stream",
          "name": "stderr",
          "text": [
            " 80%|████████  | 24/30 [00:02<00:00, 12.26it/s]"
          ]
        },
        {
          "output_type": "stream",
          "name": "stdout",
          "text": [
            "valid_loss=0.021, test_los0.031, Model Save\n",
            "epoch = 22, train_loss : 0.019, valid_loss : 0.021, test_loss : 0.031\n",
            "valid_loss=0.021, test_los0.031, Model Save\n",
            "epoch = 23, train_loss : 0.019, valid_loss : 0.021, test_loss : 0.031\n",
            "valid_loss=0.020, test_los0.030, Model Save\n",
            "epoch = 24, train_loss : 0.018, valid_loss : 0.020, test_loss : 0.030\n"
          ]
        },
        {
          "output_type": "stream",
          "name": "stderr",
          "text": [
            "\r 87%|████████▋ | 26/30 [00:02<00:00, 12.02it/s]"
          ]
        },
        {
          "output_type": "stream",
          "name": "stdout",
          "text": [
            "valid_loss=0.020, test_los0.030, Model Save\n",
            "epoch = 25, train_loss : 0.018, valid_loss : 0.020, test_loss : 0.030\n",
            "valid_loss=0.020, test_los0.030, Model Save\n",
            "epoch = 26, train_loss : 0.018, valid_loss : 0.020, test_loss : 0.030\n",
            "valid_loss=0.020, test_los0.030, Model Save\n",
            "epoch = 27, train_loss : 0.018, valid_loss : 0.020, test_loss : 0.030\n"
          ]
        },
        {
          "output_type": "stream",
          "name": "stderr",
          "text": [
            "100%|██████████| 30/30 [00:02<00:00, 11.95it/s]"
          ]
        },
        {
          "output_type": "stream",
          "name": "stdout",
          "text": [
            "valid_loss=0.020, test_los0.030, Model Save\n",
            "epoch = 28, train_loss : 0.018, valid_loss : 0.020, test_loss : 0.030\n",
            "valid_loss=0.020, test_los0.030, Model Save\n",
            "epoch = 29, train_loss : 0.018, valid_loss : 0.020, test_loss : 0.030\n",
            "valid_loss=0.020, test_los0.029, Model Save\n",
            "epoch = 30, train_loss : 0.018, valid_loss : 0.020, test_loss : 0.029\n"
          ]
        },
        {
          "output_type": "stream",
          "name": "stderr",
          "text": [
            "\n",
            "  7%|▋         | 2/30 [00:00<00:02, 13.94it/s]"
          ]
        },
        {
          "output_type": "stream",
          "name": "stdout",
          "text": [
            "valid_loss=0.054, test_los0.156, Model Save\n",
            "epoch = 1, train_loss : 0.139, valid_loss : 0.054, test_loss : 0.156\n",
            "valid_loss=0.043, test_los0.132, Model Save\n",
            "epoch = 2, train_loss : 0.115, valid_loss : 0.043, test_loss : 0.132\n",
            "valid_loss=0.037, test_los0.117, Model Save\n",
            "epoch = 3, train_loss : 0.102, valid_loss : 0.037, test_loss : 0.117\n"
          ]
        },
        {
          "output_type": "stream",
          "name": "stderr",
          "text": [
            " 20%|██        | 6/30 [00:00<00:01, 13.48it/s]"
          ]
        },
        {
          "output_type": "stream",
          "name": "stdout",
          "text": [
            "valid_loss=0.034, test_los0.107, Model Save\n",
            "epoch = 4, train_loss : 0.093, valid_loss : 0.034, test_loss : 0.107\n",
            "valid_loss=0.032, test_los0.099, Model Save\n",
            "epoch = 5, train_loss : 0.087, valid_loss : 0.032, test_loss : 0.099\n",
            "valid_loss=0.031, test_los0.093, Model Save\n",
            "epoch = 6, train_loss : 0.083, valid_loss : 0.031, test_loss : 0.093\n"
          ]
        },
        {
          "output_type": "stream",
          "name": "stderr",
          "text": [
            "\r 27%|██▋       | 8/30 [00:00<00:01, 12.57it/s]"
          ]
        },
        {
          "output_type": "stream",
          "name": "stdout",
          "text": [
            "valid_loss=0.030, test_los0.089, Model Save\n",
            "epoch = 7, train_loss : 0.079, valid_loss : 0.030, test_loss : 0.089\n",
            "valid_loss=0.029, test_los0.085, Model Save\n",
            "epoch = 8, train_loss : 0.077, valid_loss : 0.029, test_loss : 0.085\n",
            "valid_loss=0.029, test_los0.081, Model Save\n",
            "epoch = 9, train_loss : 0.074, valid_loss : 0.029, test_loss : 0.081\n"
          ]
        },
        {
          "output_type": "stream",
          "name": "stderr",
          "text": [
            " 40%|████      | 12/30 [00:00<00:01, 12.83it/s]"
          ]
        },
        {
          "output_type": "stream",
          "name": "stdout",
          "text": [
            "valid_loss=0.028, test_los0.079, Model Save\n",
            "epoch = 10, train_loss : 0.073, valid_loss : 0.028, test_loss : 0.079\n",
            "valid_loss=0.028, test_los0.076, Model Save\n",
            "epoch = 11, train_loss : 0.071, valid_loss : 0.028, test_loss : 0.076\n",
            "valid_loss=0.028, test_los0.074, Model Save\n",
            "epoch = 12, train_loss : 0.070, valid_loss : 0.028, test_loss : 0.074\n"
          ]
        },
        {
          "output_type": "stream",
          "name": "stderr",
          "text": [
            "\r 47%|████▋     | 14/30 [00:01<00:01, 12.23it/s]"
          ]
        },
        {
          "output_type": "stream",
          "name": "stdout",
          "text": [
            "valid_loss=0.027, test_los0.072, Model Save\n",
            "epoch = 13, train_loss : 0.069, valid_loss : 0.027, test_loss : 0.072\n",
            "valid_loss=0.027, test_los0.071, Model Save\n",
            "epoch = 14, train_loss : 0.068, valid_loss : 0.027, test_loss : 0.071\n",
            "valid_loss=0.027, test_los0.069, Model Save\n",
            "epoch = 15, train_loss : 0.067, valid_loss : 0.027, test_loss : 0.069\n"
          ]
        },
        {
          "output_type": "stream",
          "name": "stderr",
          "text": [
            " 60%|██████    | 18/30 [00:01<00:00, 12.54it/s]"
          ]
        },
        {
          "output_type": "stream",
          "name": "stdout",
          "text": [
            "valid_loss=0.027, test_los0.068, Model Save\n",
            "epoch = 16, train_loss : 0.067, valid_loss : 0.027, test_loss : 0.068\n",
            "valid_loss=0.027, test_los0.067, Model Save\n",
            "epoch = 17, train_loss : 0.066, valid_loss : 0.027, test_loss : 0.067\n",
            "valid_loss=0.026, test_los0.066, Model Save\n",
            "epoch = 18, train_loss : 0.066, valid_loss : 0.026, test_loss : 0.066\n"
          ]
        },
        {
          "output_type": "stream",
          "name": "stderr",
          "text": [
            "\r 67%|██████▋   | 20/30 [00:01<00:00, 12.41it/s]"
          ]
        },
        {
          "output_type": "stream",
          "name": "stdout",
          "text": [
            "valid_loss=0.026, test_los0.065, Model Save\n",
            "epoch = 19, train_loss : 0.065, valid_loss : 0.026, test_loss : 0.065\n",
            "valid_loss=0.026, test_los0.064, Model Save\n",
            "epoch = 20, train_loss : 0.065, valid_loss : 0.026, test_loss : 0.064\n",
            "valid_loss=0.026, test_los0.063, Model Save\n",
            "epoch = 21, train_loss : 0.064, valid_loss : 0.026, test_loss : 0.063\n"
          ]
        },
        {
          "output_type": "stream",
          "name": "stderr",
          "text": [
            " 80%|████████  | 24/30 [00:01<00:00, 12.39it/s]"
          ]
        },
        {
          "output_type": "stream",
          "name": "stdout",
          "text": [
            "valid_loss=0.026, test_los0.063, Model Save\n",
            "epoch = 22, train_loss : 0.064, valid_loss : 0.026, test_loss : 0.063\n",
            "valid_loss=0.026, test_los0.062, Model Save\n",
            "epoch = 23, train_loss : 0.063, valid_loss : 0.026, test_loss : 0.062\n",
            "valid_loss=0.026, test_los0.062, Model Save\n",
            "epoch = 24, train_loss : 0.063, valid_loss : 0.026, test_loss : 0.062\n"
          ]
        },
        {
          "output_type": "stream",
          "name": "stderr",
          "text": [
            "\r 87%|████████▋ | 26/30 [00:02<00:00, 12.43it/s]"
          ]
        },
        {
          "output_type": "stream",
          "name": "stdout",
          "text": [
            "valid_loss=0.026, test_los0.061, Model Save\n",
            "epoch = 25, train_loss : 0.063, valid_loss : 0.026, test_loss : 0.061\n",
            "valid_loss=0.026, test_los0.061, Model Save\n",
            "epoch = 26, train_loss : 0.062, valid_loss : 0.026, test_loss : 0.061\n",
            "valid_loss=0.025, test_los0.060, Model Save\n",
            "epoch = 27, train_loss : 0.062, valid_loss : 0.025, test_loss : 0.060\n"
          ]
        },
        {
          "output_type": "stream",
          "name": "stderr",
          "text": [
            "100%|██████████| 30/30 [00:02<00:00, 12.54it/s]"
          ]
        },
        {
          "output_type": "stream",
          "name": "stdout",
          "text": [
            "valid_loss=0.025, test_los0.060, Model Save\n",
            "epoch = 28, train_loss : 0.062, valid_loss : 0.025, test_loss : 0.060\n",
            "valid_loss=0.025, test_los0.059, Model Save\n",
            "epoch = 29, train_loss : 0.062, valid_loss : 0.025, test_loss : 0.059\n",
            "valid_loss=0.025, test_los0.059, Model Save\n",
            "epoch = 30, train_loss : 0.061, valid_loss : 0.025, test_loss : 0.059\n"
          ]
        },
        {
          "output_type": "stream",
          "name": "stderr",
          "text": [
            "\n",
            "  7%|▋         | 2/30 [00:00<00:02, 12.54it/s]"
          ]
        },
        {
          "output_type": "stream",
          "name": "stdout",
          "text": [
            "valid_loss=0.055, test_los0.033, Model Save\n",
            "epoch = 1, train_loss : 0.082, valid_loss : 0.055, test_loss : 0.033\n",
            "valid_loss=0.048, test_los0.033, Model Save\n",
            "epoch = 2, train_loss : 0.061, valid_loss : 0.048, test_loss : 0.033\n",
            "valid_loss=0.042, test_los0.027, Model Save\n",
            "epoch = 3, train_loss : 0.054, valid_loss : 0.042, test_loss : 0.027\n"
          ]
        },
        {
          "output_type": "stream",
          "name": "stderr",
          "text": [
            " 20%|██        | 6/30 [00:00<00:01, 12.68it/s]"
          ]
        },
        {
          "output_type": "stream",
          "name": "stdout",
          "text": [
            "valid_loss=0.037, test_los0.022, Model Save\n",
            "epoch = 4, train_loss : 0.049, valid_loss : 0.037, test_loss : 0.022\n",
            "valid_loss=0.035, test_los0.020, Model Save\n",
            "epoch = 5, train_loss : 0.044, valid_loss : 0.035, test_loss : 0.020\n",
            "valid_loss=0.032, test_los0.018, Model Save\n",
            "epoch = 6, train_loss : 0.042, valid_loss : 0.032, test_loss : 0.018\n"
          ]
        },
        {
          "output_type": "stream",
          "name": "stderr",
          "text": [
            "\r 27%|██▋       | 8/30 [00:00<00:01, 12.31it/s]"
          ]
        },
        {
          "output_type": "stream",
          "name": "stdout",
          "text": [
            "valid_loss=0.031, test_los0.017, Model Save\n",
            "epoch = 7, train_loss : 0.039, valid_loss : 0.031, test_loss : 0.017\n",
            "valid_loss=0.030, test_los0.016, Model Save\n",
            "epoch = 8, train_loss : 0.038, valid_loss : 0.030, test_loss : 0.016\n",
            "valid_loss=0.029, test_los0.016, Model Save\n",
            "epoch = 9, train_loss : 0.037, valid_loss : 0.029, test_loss : 0.016\n"
          ]
        },
        {
          "output_type": "stream",
          "name": "stderr",
          "text": [
            " 40%|████      | 12/30 [00:00<00:01, 12.77it/s]"
          ]
        },
        {
          "output_type": "stream",
          "name": "stdout",
          "text": [
            "valid_loss=0.029, test_los0.015, Model Save\n",
            "epoch = 10, train_loss : 0.036, valid_loss : 0.029, test_loss : 0.015\n",
            "valid_loss=0.028, test_los0.015, Model Save\n",
            "epoch = 11, train_loss : 0.035, valid_loss : 0.028, test_loss : 0.015\n",
            "valid_loss=0.028, test_los0.015, Model Save\n",
            "epoch = 12, train_loss : 0.034, valid_loss : 0.028, test_loss : 0.015\n"
          ]
        },
        {
          "output_type": "stream",
          "name": "stderr",
          "text": [
            "\r 47%|████▋     | 14/30 [00:01<00:01, 12.23it/s]"
          ]
        },
        {
          "output_type": "stream",
          "name": "stdout",
          "text": [
            "valid_loss=0.027, test_los0.015, Model Save\n",
            "epoch = 13, train_loss : 0.034, valid_loss : 0.027, test_loss : 0.015\n",
            "valid_loss=0.027, test_los0.014, Model Save\n",
            "epoch = 14, train_loss : 0.033, valid_loss : 0.027, test_loss : 0.014\n",
            "valid_loss=0.027, test_los0.014, Model Save\n",
            "epoch = 15, train_loss : 0.033, valid_loss : 0.027, test_loss : 0.014\n"
          ]
        },
        {
          "output_type": "stream",
          "name": "stderr",
          "text": [
            " 60%|██████    | 18/30 [00:01<00:00, 12.58it/s]"
          ]
        },
        {
          "output_type": "stream",
          "name": "stdout",
          "text": [
            "valid_loss=0.027, test_los0.014, Model Save\n",
            "epoch = 16, train_loss : 0.033, valid_loss : 0.027, test_loss : 0.014\n",
            "valid_loss=0.026, test_los0.014, Model Save\n",
            "epoch = 17, train_loss : 0.032, valid_loss : 0.026, test_loss : 0.014\n",
            "valid_loss=0.026, test_los0.014, Model Save\n",
            "epoch = 18, train_loss : 0.032, valid_loss : 0.026, test_loss : 0.014\n"
          ]
        },
        {
          "output_type": "stream",
          "name": "stderr",
          "text": [
            "\r 67%|██████▋   | 20/30 [00:01<00:00, 12.53it/s]"
          ]
        },
        {
          "output_type": "stream",
          "name": "stdout",
          "text": [
            "valid_loss=0.026, test_los0.014, Model Save\n",
            "epoch = 19, train_loss : 0.032, valid_loss : 0.026, test_loss : 0.014\n",
            "valid_loss=0.026, test_los0.014, Model Save\n",
            "epoch = 20, train_loss : 0.032, valid_loss : 0.026, test_loss : 0.014\n",
            "valid_loss=0.026, test_los0.014, Model Save\n",
            "epoch = 21, train_loss : 0.031, valid_loss : 0.026, test_loss : 0.014\n"
          ]
        },
        {
          "output_type": "stream",
          "name": "stderr",
          "text": [
            " 80%|████████  | 24/30 [00:01<00:00, 12.96it/s]"
          ]
        },
        {
          "output_type": "stream",
          "name": "stdout",
          "text": [
            "valid_loss=0.026, test_los0.014, Model Save\n",
            "epoch = 22, train_loss : 0.031, valid_loss : 0.026, test_loss : 0.014\n",
            "valid_loss=0.026, test_los0.014, Model Save\n",
            "epoch = 23, train_loss : 0.031, valid_loss : 0.026, test_loss : 0.014\n",
            "valid_loss=0.025, test_los0.013, Model Save\n",
            "epoch = 24, train_loss : 0.031, valid_loss : 0.025, test_loss : 0.013\n"
          ]
        },
        {
          "output_type": "stream",
          "name": "stderr",
          "text": [
            "\r 87%|████████▋ | 26/30 [00:02<00:00, 12.90it/s]"
          ]
        },
        {
          "output_type": "stream",
          "name": "stdout",
          "text": [
            "valid_loss=0.025, test_los0.013, Model Save\n",
            "epoch = 25, train_loss : 0.031, valid_loss : 0.025, test_loss : 0.013\n",
            "valid_loss=0.025, test_los0.013, Model Save\n",
            "epoch = 26, train_loss : 0.031, valid_loss : 0.025, test_loss : 0.013\n",
            "valid_loss=0.025, test_los0.013, Model Save\n",
            "epoch = 27, train_loss : 0.031, valid_loss : 0.025, test_loss : 0.013\n"
          ]
        },
        {
          "output_type": "stream",
          "name": "stderr",
          "text": [
            "100%|██████████| 30/30 [00:02<00:00, 12.54it/s]"
          ]
        },
        {
          "output_type": "stream",
          "name": "stdout",
          "text": [
            "valid_loss=0.025, test_los0.013, Model Save\n",
            "epoch = 28, train_loss : 0.030, valid_loss : 0.025, test_loss : 0.013\n",
            "valid_loss=0.025, test_los0.013, Model Save\n",
            "epoch = 29, train_loss : 0.030, valid_loss : 0.025, test_loss : 0.013\n",
            "valid_loss=0.025, test_los0.013, Model Save\n",
            "epoch = 30, train_loss : 0.030, valid_loss : 0.025, test_loss : 0.013\n"
          ]
        },
        {
          "output_type": "stream",
          "name": "stderr",
          "text": [
            "\n",
            "  7%|▋         | 2/30 [00:00<00:02, 11.76it/s]"
          ]
        },
        {
          "output_type": "stream",
          "name": "stdout",
          "text": [
            "valid_loss=0.398, test_los0.857, Model Save\n",
            "epoch = 1, train_loss : 0.062, valid_loss : 0.398, test_loss : 0.857\n",
            "epoch = 2, train_loss : 0.030, valid_loss : 0.562, test_loss : 1.360\n"
          ]
        },
        {
          "output_type": "stream",
          "name": "stderr",
          "text": [
            "\r 13%|█▎        | 4/30 [00:00<00:03,  8.41it/s]"
          ]
        },
        {
          "output_type": "stream",
          "name": "stdout",
          "text": [
            "epoch = 3, train_loss : 0.019, valid_loss : 0.644, test_loss : 1.607\n",
            "epoch = 4, train_loss : 0.015, valid_loss : 0.667, test_loss : 1.678\n"
          ]
        },
        {
          "output_type": "stream",
          "name": "stderr",
          "text": [
            " 20%|██        | 6/30 [00:00<00:03,  7.93it/s]"
          ]
        },
        {
          "output_type": "stream",
          "name": "stdout",
          "text": [
            "epoch = 5, train_loss : 0.013, valid_loss : 0.657, test_loss : 1.648\n",
            "epoch = 6, train_loss : 0.012, valid_loss : 0.625, test_loss : 1.559\n"
          ]
        },
        {
          "output_type": "stream",
          "name": "stderr",
          "text": [
            " 27%|██▋       | 8/30 [00:00<00:02,  8.04it/s]"
          ]
        },
        {
          "output_type": "stream",
          "name": "stdout",
          "text": [
            "epoch = 7, train_loss : 0.012, valid_loss : 0.584, test_loss : 1.442\n",
            "epoch = 8, train_loss : 0.011, valid_loss : 0.541, test_loss : 1.318\n"
          ]
        },
        {
          "output_type": "stream",
          "name": "stderr",
          "text": [
            " 33%|███▎      | 10/30 [00:01<00:02,  8.48it/s]"
          ]
        },
        {
          "output_type": "stream",
          "name": "stdout",
          "text": [
            "epoch = 9, train_loss : 0.011, valid_loss : 0.498, test_loss : 1.197\n",
            "epoch = 10, train_loss : 0.010, valid_loss : 0.458, test_loss : 1.084\n"
          ]
        },
        {
          "output_type": "stream",
          "name": "stderr",
          "text": [
            " 40%|████      | 12/30 [00:01<00:02,  8.16it/s]"
          ]
        },
        {
          "output_type": "stream",
          "name": "stdout",
          "text": [
            "epoch = 11, train_loss : 0.010, valid_loss : 0.421, test_loss : 0.980\n",
            "valid_loss=0.387, test_los0.885, Model Save\n",
            "epoch = 12, train_loss : 0.009, valid_loss : 0.387, test_loss : 0.885\n"
          ]
        },
        {
          "output_type": "stream",
          "name": "stderr",
          "text": [
            " 47%|████▋     | 14/30 [00:01<00:01,  8.33it/s]"
          ]
        },
        {
          "output_type": "stream",
          "name": "stdout",
          "text": [
            "valid_loss=0.356, test_los0.800, Model Save\n",
            "epoch = 13, train_loss : 0.009, valid_loss : 0.356, test_loss : 0.800\n",
            "valid_loss=0.329, test_los0.723, Model Save\n",
            "epoch = 14, train_loss : 0.008, valid_loss : 0.329, test_loss : 0.723\n"
          ]
        },
        {
          "output_type": "stream",
          "name": "stderr",
          "text": [
            " 53%|█████▎    | 16/30 [00:01<00:01,  8.29it/s]"
          ]
        },
        {
          "output_type": "stream",
          "name": "stdout",
          "text": [
            "valid_loss=0.304, test_los0.654, Model Save\n",
            "epoch = 15, train_loss : 0.008, valid_loss : 0.304, test_loss : 0.654\n",
            "valid_loss=0.281, test_los0.591, Model Save\n",
            "epoch = 16, train_loss : 0.008, valid_loss : 0.281, test_loss : 0.591\n"
          ]
        },
        {
          "output_type": "stream",
          "name": "stderr",
          "text": [
            " 60%|██████    | 18/30 [00:02<00:01,  7.70it/s]"
          ]
        },
        {
          "output_type": "stream",
          "name": "stdout",
          "text": [
            "valid_loss=0.261, test_los0.536, Model Save\n",
            "epoch = 17, train_loss : 0.008, valid_loss : 0.261, test_loss : 0.536\n",
            "valid_loss=0.242, test_los0.485, Model Save\n",
            "epoch = 18, train_loss : 0.007, valid_loss : 0.242, test_loss : 0.485\n"
          ]
        },
        {
          "output_type": "stream",
          "name": "stderr",
          "text": [
            " 67%|██████▋   | 20/30 [00:02<00:01,  7.78it/s]"
          ]
        },
        {
          "output_type": "stream",
          "name": "stdout",
          "text": [
            "valid_loss=0.226, test_los0.441, Model Save\n",
            "epoch = 19, train_loss : 0.007, valid_loss : 0.226, test_loss : 0.441\n",
            "valid_loss=0.210, test_los0.400, Model Save\n",
            "epoch = 20, train_loss : 0.007, valid_loss : 0.210, test_loss : 0.400\n"
          ]
        },
        {
          "output_type": "stream",
          "name": "stderr",
          "text": [
            " 73%|███████▎  | 22/30 [00:02<00:01,  7.38it/s]"
          ]
        },
        {
          "output_type": "stream",
          "name": "stdout",
          "text": [
            "valid_loss=0.197, test_los0.364, Model Save\n",
            "epoch = 21, train_loss : 0.007, valid_loss : 0.197, test_loss : 0.364\n",
            "valid_loss=0.185, test_los0.331, Model Save\n",
            "epoch = 22, train_loss : 0.006, valid_loss : 0.185, test_loss : 0.331\n"
          ]
        },
        {
          "output_type": "stream",
          "name": "stderr",
          "text": [
            " 80%|████████  | 24/30 [00:03<00:00,  7.28it/s]"
          ]
        },
        {
          "output_type": "stream",
          "name": "stdout",
          "text": [
            "valid_loss=0.174, test_los0.302, Model Save\n",
            "epoch = 23, train_loss : 0.006, valid_loss : 0.174, test_loss : 0.302\n",
            "valid_loss=0.164, test_los0.276, Model Save\n",
            "epoch = 24, train_loss : 0.006, valid_loss : 0.164, test_loss : 0.276\n"
          ]
        },
        {
          "output_type": "stream",
          "name": "stderr",
          "text": [
            " 87%|████████▋ | 26/30 [00:03<00:00,  7.55it/s]"
          ]
        },
        {
          "output_type": "stream",
          "name": "stdout",
          "text": [
            "valid_loss=0.155, test_los0.253, Model Save\n",
            "epoch = 25, train_loss : 0.006, valid_loss : 0.155, test_loss : 0.253\n",
            "valid_loss=0.146, test_los0.232, Model Save\n",
            "epoch = 26, train_loss : 0.006, valid_loss : 0.146, test_loss : 0.232\n"
          ]
        },
        {
          "output_type": "stream",
          "name": "stderr",
          "text": [
            " 93%|█████████▎| 28/30 [00:03<00:00,  7.14it/s]"
          ]
        },
        {
          "output_type": "stream",
          "name": "stdout",
          "text": [
            "valid_loss=0.139, test_los0.214, Model Save\n",
            "epoch = 27, train_loss : 0.005, valid_loss : 0.139, test_loss : 0.214\n",
            "valid_loss=0.133, test_los0.197, Model Save\n",
            "epoch = 28, train_loss : 0.005, valid_loss : 0.133, test_loss : 0.197\n"
          ]
        },
        {
          "output_type": "stream",
          "name": "stderr",
          "text": [
            "100%|██████████| 30/30 [00:03<00:00,  7.71it/s]"
          ]
        },
        {
          "output_type": "stream",
          "name": "stdout",
          "text": [
            "valid_loss=0.127, test_los0.182, Model Save\n",
            "epoch = 29, train_loss : 0.005, valid_loss : 0.127, test_loss : 0.182\n",
            "valid_loss=0.121, test_los0.169, Model Save\n",
            "epoch = 30, train_loss : 0.005, valid_loss : 0.121, test_loss : 0.169\n"
          ]
        },
        {
          "output_type": "stream",
          "name": "stderr",
          "text": [
            "\n",
            "  7%|▋         | 2/30 [00:00<00:03,  8.70it/s]"
          ]
        },
        {
          "output_type": "stream",
          "name": "stdout",
          "text": [
            "valid_loss=0.093, test_los0.132, Model Save\n",
            "epoch = 1, train_loss : 0.069, valid_loss : 0.093, test_loss : 0.132\n",
            "valid_loss=0.092, test_los0.135, Model Save\n",
            "epoch = 2, train_loss : 0.057, valid_loss : 0.092, test_loss : 0.135\n"
          ]
        },
        {
          "output_type": "stream",
          "name": "stderr",
          "text": [
            " 17%|█▋        | 5/30 [00:00<00:02, 11.07it/s]"
          ]
        },
        {
          "output_type": "stream",
          "name": "stdout",
          "text": [
            "valid_loss=0.075, test_los0.106, Model Save\n",
            "epoch = 3, train_loss : 0.052, valid_loss : 0.075, test_loss : 0.106\n",
            "valid_loss=0.061, test_los0.084, Model Save\n",
            "epoch = 4, train_loss : 0.048, valid_loss : 0.061, test_loss : 0.084\n",
            "valid_loss=0.051, test_los0.068, Model Save\n",
            "epoch = 5, train_loss : 0.045, valid_loss : 0.051, test_loss : 0.068\n"
          ]
        },
        {
          "output_type": "stream",
          "name": "stderr",
          "text": [
            "\r 23%|██▎       | 7/30 [00:00<00:02, 11.04it/s]"
          ]
        },
        {
          "output_type": "stream",
          "name": "stdout",
          "text": [
            "valid_loss=0.043, test_los0.055, Model Save\n",
            "epoch = 6, train_loss : 0.043, valid_loss : 0.043, test_loss : 0.055\n",
            "valid_loss=0.037, test_los0.046, Model Save\n",
            "epoch = 7, train_loss : 0.041, valid_loss : 0.037, test_loss : 0.046\n",
            "valid_loss=0.033, test_los0.039, Model Save\n",
            "epoch = 8, train_loss : 0.039, valid_loss : 0.033, test_loss : 0.039\n"
          ]
        },
        {
          "output_type": "stream",
          "name": "stderr",
          "text": [
            " 37%|███▋      | 11/30 [00:00<00:01, 12.08it/s]"
          ]
        },
        {
          "output_type": "stream",
          "name": "stdout",
          "text": [
            "valid_loss=0.030, test_los0.034, Model Save\n",
            "epoch = 9, train_loss : 0.037, valid_loss : 0.030, test_loss : 0.034\n",
            "valid_loss=0.028, test_los0.030, Model Save\n",
            "epoch = 10, train_loss : 0.036, valid_loss : 0.028, test_loss : 0.030\n",
            "valid_loss=0.026, test_los0.028, Model Save\n",
            "epoch = 11, train_loss : 0.035, valid_loss : 0.026, test_loss : 0.028\n"
          ]
        },
        {
          "output_type": "stream",
          "name": "stderr",
          "text": [
            "\r 43%|████▎     | 13/30 [00:01<00:01, 12.08it/s]"
          ]
        },
        {
          "output_type": "stream",
          "name": "stdout",
          "text": [
            "valid_loss=0.025, test_los0.026, Model Save\n",
            "epoch = 12, train_loss : 0.034, valid_loss : 0.025, test_loss : 0.026\n",
            "valid_loss=0.024, test_los0.025, Model Save\n",
            "epoch = 13, train_loss : 0.034, valid_loss : 0.024, test_loss : 0.025\n",
            "valid_loss=0.024, test_los0.024, Model Save\n",
            "epoch = 14, train_loss : 0.033, valid_loss : 0.024, test_loss : 0.024\n"
          ]
        },
        {
          "output_type": "stream",
          "name": "stderr",
          "text": [
            " 57%|█████▋    | 17/30 [00:01<00:01, 11.63it/s]"
          ]
        },
        {
          "output_type": "stream",
          "name": "stdout",
          "text": [
            "valid_loss=0.024, test_los0.023, Model Save\n",
            "epoch = 15, train_loss : 0.032, valid_loss : 0.024, test_loss : 0.023\n",
            "valid_loss=0.023, test_los0.023, Model Save\n",
            "epoch = 16, train_loss : 0.032, valid_loss : 0.023, test_loss : 0.023\n",
            "valid_loss=0.023, test_los0.022, Model Save\n",
            "epoch = 17, train_loss : 0.031, valid_loss : 0.023, test_loss : 0.022\n"
          ]
        },
        {
          "output_type": "stream",
          "name": "stderr",
          "text": [
            "\r 63%|██████▎   | 19/30 [00:01<00:00, 11.62it/s]"
          ]
        },
        {
          "output_type": "stream",
          "name": "stdout",
          "text": [
            "valid_loss=0.023, test_los0.022, Model Save\n",
            "epoch = 18, train_loss : 0.031, valid_loss : 0.023, test_loss : 0.022\n",
            "valid_loss=0.023, test_los0.022, Model Save\n",
            "epoch = 19, train_loss : 0.031, valid_loss : 0.023, test_loss : 0.022\n",
            "valid_loss=0.023, test_los0.022, Model Save\n",
            "epoch = 20, train_loss : 0.030, valid_loss : 0.023, test_loss : 0.022\n"
          ]
        },
        {
          "output_type": "stream",
          "name": "stderr",
          "text": [
            " 77%|███████▋  | 23/30 [00:02<00:00, 12.06it/s]"
          ]
        },
        {
          "output_type": "stream",
          "name": "stdout",
          "text": [
            "valid_loss=0.022, test_los0.022, Model Save\n",
            "epoch = 21, train_loss : 0.030, valid_loss : 0.022, test_loss : 0.022\n",
            "valid_loss=0.022, test_los0.021, Model Save\n",
            "epoch = 22, train_loss : 0.030, valid_loss : 0.022, test_loss : 0.021\n",
            "valid_loss=0.022, test_los0.021, Model Save\n",
            "epoch = 23, train_loss : 0.030, valid_loss : 0.022, test_loss : 0.021\n"
          ]
        },
        {
          "output_type": "stream",
          "name": "stderr",
          "text": [
            "\r 83%|████████▎ | 25/30 [00:02<00:00, 12.07it/s]"
          ]
        },
        {
          "output_type": "stream",
          "name": "stdout",
          "text": [
            "valid_loss=0.022, test_los0.021, Model Save\n",
            "epoch = 24, train_loss : 0.029, valid_loss : 0.022, test_loss : 0.021\n",
            "valid_loss=0.022, test_los0.021, Model Save\n",
            "epoch = 25, train_loss : 0.029, valid_loss : 0.022, test_loss : 0.021\n",
            "valid_loss=0.022, test_los0.021, Model Save\n",
            "epoch = 26, train_loss : 0.029, valid_loss : 0.022, test_loss : 0.021\n"
          ]
        },
        {
          "output_type": "stream",
          "name": "stderr",
          "text": [
            " 97%|█████████▋| 29/30 [00:02<00:00, 11.99it/s]"
          ]
        },
        {
          "output_type": "stream",
          "name": "stdout",
          "text": [
            "valid_loss=0.022, test_los0.021, Model Save\n",
            "epoch = 27, train_loss : 0.029, valid_loss : 0.022, test_loss : 0.021\n",
            "valid_loss=0.022, test_los0.021, Model Save\n",
            "epoch = 28, train_loss : 0.029, valid_loss : 0.022, test_loss : 0.021\n",
            "valid_loss=0.022, test_los0.021, Model Save\n",
            "epoch = 29, train_loss : 0.028, valid_loss : 0.022, test_loss : 0.021\n"
          ]
        },
        {
          "output_type": "stream",
          "name": "stderr",
          "text": [
            "\r100%|██████████| 30/30 [00:02<00:00, 11.55it/s]\n"
          ]
        },
        {
          "output_type": "stream",
          "name": "stdout",
          "text": [
            "valid_loss=0.022, test_los0.021, Model Save\n",
            "epoch = 30, train_loss : 0.028, valid_loss : 0.022, test_loss : 0.021\n"
          ]
        },
        {
          "output_type": "stream",
          "name": "stderr",
          "text": [
            "  7%|▋         | 2/30 [00:00<00:02, 13.85it/s]"
          ]
        },
        {
          "output_type": "stream",
          "name": "stdout",
          "text": [
            "valid_loss=0.145, test_los0.229, Model Save\n",
            "epoch = 1, train_loss : 0.215, valid_loss : 0.145, test_loss : 0.229\n",
            "valid_loss=0.106, test_los0.175, Model Save\n",
            "epoch = 2, train_loss : 0.168, valid_loss : 0.106, test_loss : 0.175\n",
            "valid_loss=0.082, test_los0.140, Model Save\n",
            "epoch = 3, train_loss : 0.146, valid_loss : 0.082, test_loss : 0.140\n"
          ]
        },
        {
          "output_type": "stream",
          "name": "stderr",
          "text": [
            " 20%|██        | 6/30 [00:00<00:01, 12.88it/s]"
          ]
        },
        {
          "output_type": "stream",
          "name": "stdout",
          "text": [
            "valid_loss=0.066, test_los0.115, Model Save\n",
            "epoch = 4, train_loss : 0.129, valid_loss : 0.066, test_loss : 0.115\n",
            "valid_loss=0.055, test_los0.097, Model Save\n",
            "epoch = 5, train_loss : 0.116, valid_loss : 0.055, test_loss : 0.097\n",
            "valid_loss=0.047, test_los0.083, Model Save\n",
            "epoch = 6, train_loss : 0.106, valid_loss : 0.047, test_loss : 0.083\n"
          ]
        },
        {
          "output_type": "stream",
          "name": "stderr",
          "text": [
            "\r 27%|██▋       | 8/30 [00:00<00:01, 12.56it/s]"
          ]
        },
        {
          "output_type": "stream",
          "name": "stdout",
          "text": [
            "valid_loss=0.043, test_los0.073, Model Save\n",
            "epoch = 7, train_loss : 0.099, valid_loss : 0.043, test_loss : 0.073\n",
            "valid_loss=0.039, test_los0.066, Model Save\n",
            "epoch = 8, train_loss : 0.094, valid_loss : 0.039, test_loss : 0.066\n",
            "valid_loss=0.037, test_los0.061, Model Save\n",
            "epoch = 9, train_loss : 0.090, valid_loss : 0.037, test_loss : 0.061\n"
          ]
        },
        {
          "output_type": "stream",
          "name": "stderr",
          "text": [
            " 40%|████      | 12/30 [00:00<00:01, 12.59it/s]"
          ]
        },
        {
          "output_type": "stream",
          "name": "stdout",
          "text": [
            "valid_loss=0.036, test_los0.056, Model Save\n",
            "epoch = 10, train_loss : 0.087, valid_loss : 0.036, test_loss : 0.056\n",
            "valid_loss=0.035, test_los0.053, Model Save\n",
            "epoch = 11, train_loss : 0.085, valid_loss : 0.035, test_loss : 0.053\n",
            "valid_loss=0.034, test_los0.051, Model Save\n",
            "epoch = 12, train_loss : 0.083, valid_loss : 0.034, test_loss : 0.051\n"
          ]
        },
        {
          "output_type": "stream",
          "name": "stderr",
          "text": [
            "\r 47%|████▋     | 14/30 [00:01<00:01, 12.43it/s]"
          ]
        },
        {
          "output_type": "stream",
          "name": "stdout",
          "text": [
            "valid_loss=0.034, test_los0.049, Model Save\n",
            "epoch = 13, train_loss : 0.082, valid_loss : 0.034, test_loss : 0.049\n",
            "valid_loss=0.034, test_los0.048, Model Save\n",
            "epoch = 14, train_loss : 0.081, valid_loss : 0.034, test_loss : 0.048\n",
            "valid_loss=0.033, test_los0.046, Model Save\n",
            "epoch = 15, train_loss : 0.080, valid_loss : 0.033, test_loss : 0.046\n"
          ]
        },
        {
          "output_type": "stream",
          "name": "stderr",
          "text": [
            " 60%|██████    | 18/30 [00:01<00:00, 12.78it/s]"
          ]
        },
        {
          "output_type": "stream",
          "name": "stdout",
          "text": [
            "valid_loss=0.033, test_los0.045, Model Save\n",
            "epoch = 16, train_loss : 0.079, valid_loss : 0.033, test_loss : 0.045\n",
            "valid_loss=0.033, test_los0.045, Model Save\n",
            "epoch = 17, train_loss : 0.078, valid_loss : 0.033, test_loss : 0.045\n",
            "valid_loss=0.033, test_los0.044, Model Save\n",
            "epoch = 18, train_loss : 0.078, valid_loss : 0.033, test_loss : 0.044\n"
          ]
        },
        {
          "output_type": "stream",
          "name": "stderr",
          "text": [
            "\r 67%|██████▋   | 20/30 [00:01<00:00, 11.90it/s]"
          ]
        },
        {
          "output_type": "stream",
          "name": "stdout",
          "text": [
            "valid_loss=0.033, test_los0.043, Model Save\n",
            "epoch = 19, train_loss : 0.077, valid_loss : 0.033, test_loss : 0.043\n",
            "valid_loss=0.033, test_los0.043, Model Save\n",
            "epoch = 20, train_loss : 0.077, valid_loss : 0.033, test_loss : 0.043\n",
            "valid_loss=0.033, test_los0.043, Model Save\n",
            "epoch = 21, train_loss : 0.077, valid_loss : 0.033, test_loss : 0.043\n"
          ]
        },
        {
          "output_type": "stream",
          "name": "stderr",
          "text": [
            " 80%|████████  | 24/30 [00:01<00:00, 12.21it/s]"
          ]
        },
        {
          "output_type": "stream",
          "name": "stdout",
          "text": [
            "valid_loss=0.032, test_los0.042, Model Save\n",
            "epoch = 22, train_loss : 0.076, valid_loss : 0.032, test_loss : 0.042\n",
            "valid_loss=0.032, test_los0.042, Model Save\n",
            "epoch = 23, train_loss : 0.076, valid_loss : 0.032, test_loss : 0.042\n",
            "valid_loss=0.032, test_los0.042, Model Save\n",
            "epoch = 24, train_loss : 0.076, valid_loss : 0.032, test_loss : 0.042\n"
          ]
        },
        {
          "output_type": "stream",
          "name": "stderr",
          "text": [
            "\r 87%|████████▋ | 26/30 [00:02<00:00, 12.29it/s]"
          ]
        },
        {
          "output_type": "stream",
          "name": "stdout",
          "text": [
            "valid_loss=0.032, test_los0.041, Model Save\n",
            "epoch = 25, train_loss : 0.075, valid_loss : 0.032, test_loss : 0.041\n",
            "valid_loss=0.032, test_los0.041, Model Save\n",
            "epoch = 26, train_loss : 0.075, valid_loss : 0.032, test_loss : 0.041\n",
            "valid_loss=0.032, test_los0.041, Model Save\n",
            "epoch = 27, train_loss : 0.075, valid_loss : 0.032, test_loss : 0.041\n"
          ]
        },
        {
          "output_type": "stream",
          "name": "stderr",
          "text": [
            "100%|██████████| 30/30 [00:02<00:00, 12.48it/s]"
          ]
        },
        {
          "output_type": "stream",
          "name": "stdout",
          "text": [
            "valid_loss=0.032, test_los0.041, Model Save\n",
            "epoch = 28, train_loss : 0.075, valid_loss : 0.032, test_loss : 0.041\n",
            "valid_loss=0.032, test_los0.040, Model Save\n",
            "epoch = 29, train_loss : 0.074, valid_loss : 0.032, test_loss : 0.040\n",
            "valid_loss=0.032, test_los0.040, Model Save\n",
            "epoch = 30, train_loss : 0.074, valid_loss : 0.032, test_loss : 0.040\n"
          ]
        },
        {
          "output_type": "stream",
          "name": "stderr",
          "text": [
            "\n",
            "  7%|▋         | 2/30 [00:00<00:02, 13.20it/s]"
          ]
        },
        {
          "output_type": "stream",
          "name": "stdout",
          "text": [
            "valid_loss=0.172, test_los0.106, Model Save\n",
            "epoch = 1, train_loss : 0.122, valid_loss : 0.172, test_loss : 0.106\n",
            "valid_loss=0.122, test_los0.085, Model Save\n",
            "epoch = 2, train_loss : 0.087, valid_loss : 0.122, test_loss : 0.085\n",
            "valid_loss=0.088, test_los0.068, Model Save\n",
            "epoch = 3, train_loss : 0.069, valid_loss : 0.088, test_loss : 0.068\n"
          ]
        },
        {
          "output_type": "stream",
          "name": "stderr",
          "text": [
            " 20%|██        | 6/30 [00:00<00:01, 13.31it/s]"
          ]
        },
        {
          "output_type": "stream",
          "name": "stdout",
          "text": [
            "valid_loss=0.065, test_los0.055, Model Save\n",
            "epoch = 4, train_loss : 0.055, valid_loss : 0.065, test_loss : 0.055\n",
            "valid_loss=0.049, test_los0.047, Model Save\n",
            "epoch = 5, train_loss : 0.045, valid_loss : 0.049, test_loss : 0.047\n",
            "valid_loss=0.038, test_los0.040, Model Save\n",
            "epoch = 6, train_loss : 0.038, valid_loss : 0.038, test_loss : 0.040\n"
          ]
        },
        {
          "output_type": "stream",
          "name": "stderr",
          "text": [
            "\r 27%|██▋       | 8/30 [00:00<00:01, 12.45it/s]"
          ]
        },
        {
          "output_type": "stream",
          "name": "stdout",
          "text": [
            "valid_loss=0.031, test_los0.036, Model Save\n",
            "epoch = 7, train_loss : 0.033, valid_loss : 0.031, test_loss : 0.036\n",
            "valid_loss=0.026, test_los0.033, Model Save\n",
            "epoch = 8, train_loss : 0.030, valid_loss : 0.026, test_loss : 0.033\n",
            "valid_loss=0.023, test_los0.031, Model Save\n",
            "epoch = 9, train_loss : 0.027, valid_loss : 0.023, test_loss : 0.031\n"
          ]
        },
        {
          "output_type": "stream",
          "name": "stderr",
          "text": [
            " 40%|████      | 12/30 [00:00<00:01, 12.11it/s]"
          ]
        },
        {
          "output_type": "stream",
          "name": "stdout",
          "text": [
            "valid_loss=0.021, test_los0.029, Model Save\n",
            "epoch = 10, train_loss : 0.025, valid_loss : 0.021, test_loss : 0.029\n",
            "valid_loss=0.019, test_los0.028, Model Save\n",
            "epoch = 11, train_loss : 0.024, valid_loss : 0.019, test_loss : 0.028\n",
            "valid_loss=0.019, test_los0.027, Model Save\n",
            "epoch = 12, train_loss : 0.023, valid_loss : 0.019, test_loss : 0.027\n"
          ]
        },
        {
          "output_type": "stream",
          "name": "stderr",
          "text": [
            "\r 47%|████▋     | 14/30 [00:01<00:01, 12.03it/s]"
          ]
        },
        {
          "output_type": "stream",
          "name": "stdout",
          "text": [
            "valid_loss=0.018, test_los0.027, Model Save\n",
            "epoch = 13, train_loss : 0.023, valid_loss : 0.018, test_loss : 0.027\n",
            "valid_loss=0.018, test_los0.027, Model Save\n",
            "epoch = 14, train_loss : 0.022, valid_loss : 0.018, test_loss : 0.027\n",
            "valid_loss=0.017, test_los0.026, Model Save\n",
            "epoch = 15, train_loss : 0.022, valid_loss : 0.017, test_loss : 0.026\n"
          ]
        },
        {
          "output_type": "stream",
          "name": "stderr",
          "text": [
            " 60%|██████    | 18/30 [00:01<00:00, 12.49it/s]"
          ]
        },
        {
          "output_type": "stream",
          "name": "stdout",
          "text": [
            "valid_loss=0.017, test_los0.026, Model Save\n",
            "epoch = 16, train_loss : 0.021, valid_loss : 0.017, test_loss : 0.026\n",
            "valid_loss=0.017, test_los0.026, Model Save\n",
            "epoch = 17, train_loss : 0.021, valid_loss : 0.017, test_loss : 0.026\n",
            "valid_loss=0.017, test_los0.026, Model Save\n",
            "epoch = 18, train_loss : 0.021, valid_loss : 0.017, test_loss : 0.026\n"
          ]
        },
        {
          "output_type": "stream",
          "name": "stderr",
          "text": [
            "\r 67%|██████▋   | 20/30 [00:01<00:00, 12.53it/s]"
          ]
        },
        {
          "output_type": "stream",
          "name": "stdout",
          "text": [
            "valid_loss=0.017, test_los0.026, Model Save\n",
            "epoch = 19, train_loss : 0.020, valid_loss : 0.017, test_loss : 0.026\n",
            "valid_loss=0.017, test_los0.026, Model Save\n",
            "epoch = 20, train_loss : 0.020, valid_loss : 0.017, test_loss : 0.026\n",
            "valid_loss=0.017, test_los0.026, Model Save\n",
            "epoch = 21, train_loss : 0.020, valid_loss : 0.017, test_loss : 0.026\n"
          ]
        },
        {
          "output_type": "stream",
          "name": "stderr",
          "text": [
            " 80%|████████  | 24/30 [00:01<00:00, 12.12it/s]"
          ]
        },
        {
          "output_type": "stream",
          "name": "stdout",
          "text": [
            "valid_loss=0.017, test_los0.026, Model Save\n",
            "epoch = 22, train_loss : 0.020, valid_loss : 0.017, test_loss : 0.026\n",
            "valid_loss=0.016, test_los0.026, Model Save\n",
            "epoch = 23, train_loss : 0.020, valid_loss : 0.016, test_loss : 0.026\n",
            "valid_loss=0.016, test_los0.026, Model Save\n",
            "epoch = 24, train_loss : 0.020, valid_loss : 0.016, test_loss : 0.026\n"
          ]
        },
        {
          "output_type": "stream",
          "name": "stderr",
          "text": [
            "\r 87%|████████▋ | 26/30 [00:02<00:00, 12.05it/s]"
          ]
        },
        {
          "output_type": "stream",
          "name": "stdout",
          "text": [
            "valid_loss=0.016, test_los0.025, Model Save\n",
            "epoch = 25, train_loss : 0.020, valid_loss : 0.016, test_loss : 0.025\n",
            "valid_loss=0.016, test_los0.025, Model Save\n",
            "epoch = 26, train_loss : 0.019, valid_loss : 0.016, test_loss : 0.025\n",
            "valid_loss=0.016, test_los0.025, Model Save\n",
            "epoch = 27, train_loss : 0.019, valid_loss : 0.016, test_loss : 0.025\n"
          ]
        },
        {
          "output_type": "stream",
          "name": "stderr",
          "text": [
            "100%|██████████| 30/30 [00:02<00:00, 12.25it/s]"
          ]
        },
        {
          "output_type": "stream",
          "name": "stdout",
          "text": [
            "valid_loss=0.016, test_los0.025, Model Save\n",
            "epoch = 28, train_loss : 0.019, valid_loss : 0.016, test_loss : 0.025\n",
            "valid_loss=0.016, test_los0.025, Model Save\n",
            "epoch = 29, train_loss : 0.019, valid_loss : 0.016, test_loss : 0.025\n",
            "valid_loss=0.016, test_los0.025, Model Save\n",
            "epoch = 30, train_loss : 0.019, valid_loss : 0.016, test_loss : 0.025\n"
          ]
        },
        {
          "output_type": "stream",
          "name": "stderr",
          "text": [
            "\n",
            "  7%|▋         | 2/30 [00:00<00:02, 11.13it/s]"
          ]
        },
        {
          "output_type": "stream",
          "name": "stdout",
          "text": [
            "valid_loss=0.051, test_los0.062, Model Save\n",
            "epoch = 1, train_loss : 0.065, valid_loss : 0.051, test_loss : 0.062\n",
            "valid_loss=0.037, test_los0.047, Model Save\n",
            "epoch = 2, train_loss : 0.047, valid_loss : 0.037, test_loss : 0.047\n",
            "valid_loss=0.032, test_los0.043, Model Save\n",
            "epoch = 3, train_loss : 0.043, valid_loss : 0.032, test_loss : 0.043\n"
          ]
        },
        {
          "output_type": "stream",
          "name": "stderr",
          "text": [
            " 20%|██        | 6/30 [00:00<00:02, 11.82it/s]"
          ]
        },
        {
          "output_type": "stream",
          "name": "stdout",
          "text": [
            "valid_loss=0.029, test_los0.040, Model Save\n",
            "epoch = 4, train_loss : 0.039, valid_loss : 0.029, test_loss : 0.040\n",
            "valid_loss=0.027, test_los0.038, Model Save\n",
            "epoch = 5, train_loss : 0.037, valid_loss : 0.027, test_loss : 0.038\n",
            "valid_loss=0.026, test_los0.037, Model Save\n",
            "epoch = 6, train_loss : 0.035, valid_loss : 0.026, test_loss : 0.037\n"
          ]
        },
        {
          "output_type": "stream",
          "name": "stderr",
          "text": [
            "\r 27%|██▋       | 8/30 [00:00<00:02, 10.63it/s]"
          ]
        },
        {
          "output_type": "stream",
          "name": "stdout",
          "text": [
            "valid_loss=0.025, test_los0.035, Model Save\n",
            "epoch = 7, train_loss : 0.034, valid_loss : 0.025, test_loss : 0.035\n",
            "valid_loss=0.024, test_los0.034, Model Save\n",
            "epoch = 8, train_loss : 0.033, valid_loss : 0.024, test_loss : 0.034\n",
            "valid_loss=0.023, test_los0.033, Model Save\n",
            "epoch = 9, train_loss : 0.032, valid_loss : 0.023, test_loss : 0.033\n"
          ]
        },
        {
          "output_type": "stream",
          "name": "stderr",
          "text": [
            " 40%|████      | 12/30 [00:01<00:01, 11.58it/s]"
          ]
        },
        {
          "output_type": "stream",
          "name": "stdout",
          "text": [
            "valid_loss=0.023, test_los0.033, Model Save\n",
            "epoch = 10, train_loss : 0.031, valid_loss : 0.023, test_loss : 0.033\n",
            "valid_loss=0.022, test_los0.032, Model Save\n",
            "epoch = 11, train_loss : 0.030, valid_loss : 0.022, test_loss : 0.032\n",
            "valid_loss=0.022, test_los0.031, Model Save\n",
            "epoch = 12, train_loss : 0.030, valid_loss : 0.022, test_loss : 0.031\n"
          ]
        },
        {
          "output_type": "stream",
          "name": "stderr",
          "text": [
            "\r 47%|████▋     | 14/30 [00:01<00:01, 11.03it/s]"
          ]
        },
        {
          "output_type": "stream",
          "name": "stdout",
          "text": [
            "valid_loss=0.022, test_los0.031, Model Save\n",
            "epoch = 13, train_loss : 0.029, valid_loss : 0.022, test_loss : 0.031\n",
            "valid_loss=0.022, test_los0.030, Model Save\n",
            "epoch = 14, train_loss : 0.029, valid_loss : 0.022, test_loss : 0.030\n",
            "valid_loss=0.021, test_los0.030, Model Save\n",
            "epoch = 15, train_loss : 0.028, valid_loss : 0.021, test_loss : 0.030\n"
          ]
        },
        {
          "output_type": "stream",
          "name": "stderr",
          "text": [
            "\r 53%|█████▎    | 16/30 [00:01<00:01, 10.23it/s]"
          ]
        },
        {
          "output_type": "stream",
          "name": "stdout",
          "text": [
            "valid_loss=0.021, test_los0.029, Model Save\n",
            "epoch = 16, train_loss : 0.028, valid_loss : 0.021, test_loss : 0.029\n",
            "valid_loss=0.021, test_los0.029, Model Save\n",
            "epoch = 17, train_loss : 0.028, valid_loss : 0.021, test_loss : 0.029\n"
          ]
        },
        {
          "output_type": "stream",
          "name": "stderr",
          "text": [
            " 63%|██████▎   | 19/30 [00:01<00:01,  8.76it/s]"
          ]
        },
        {
          "output_type": "stream",
          "name": "stdout",
          "text": [
            "valid_loss=0.021, test_los0.029, Model Save\n",
            "epoch = 18, train_loss : 0.027, valid_loss : 0.021, test_loss : 0.029\n",
            "valid_loss=0.021, test_los0.028, Model Save\n",
            "epoch = 19, train_loss : 0.027, valid_loss : 0.021, test_loss : 0.028\n"
          ]
        },
        {
          "output_type": "stream",
          "name": "stderr",
          "text": [
            " 70%|███████   | 21/30 [00:02<00:01,  8.53it/s]"
          ]
        },
        {
          "output_type": "stream",
          "name": "stdout",
          "text": [
            "valid_loss=0.020, test_los0.028, Model Save\n",
            "epoch = 20, train_loss : 0.027, valid_loss : 0.020, test_loss : 0.028\n",
            "valid_loss=0.020, test_los0.028, Model Save\n",
            "epoch = 21, train_loss : 0.026, valid_loss : 0.020, test_loss : 0.028\n"
          ]
        },
        {
          "output_type": "stream",
          "name": "stderr",
          "text": [
            " 77%|███████▋  | 23/30 [00:02<00:00,  8.36it/s]"
          ]
        },
        {
          "output_type": "stream",
          "name": "stdout",
          "text": [
            "valid_loss=0.020, test_los0.028, Model Save\n",
            "epoch = 22, train_loss : 0.026, valid_loss : 0.020, test_loss : 0.028\n",
            "valid_loss=0.020, test_los0.028, Model Save\n",
            "epoch = 23, train_loss : 0.026, valid_loss : 0.020, test_loss : 0.028\n"
          ]
        },
        {
          "output_type": "stream",
          "name": "stderr",
          "text": [
            " 83%|████████▎ | 25/30 [00:02<00:00,  8.10it/s]"
          ]
        },
        {
          "output_type": "stream",
          "name": "stdout",
          "text": [
            "valid_loss=0.020, test_los0.027, Model Save\n",
            "epoch = 24, train_loss : 0.025, valid_loss : 0.020, test_loss : 0.027\n",
            "valid_loss=0.020, test_los0.027, Model Save\n",
            "epoch = 25, train_loss : 0.025, valid_loss : 0.020, test_loss : 0.027\n"
          ]
        },
        {
          "output_type": "stream",
          "name": "stderr",
          "text": [
            " 90%|█████████ | 27/30 [00:02<00:00,  7.74it/s]"
          ]
        },
        {
          "output_type": "stream",
          "name": "stdout",
          "text": [
            "valid_loss=0.020, test_los0.027, Model Save\n",
            "epoch = 26, train_loss : 0.025, valid_loss : 0.020, test_loss : 0.027\n",
            "valid_loss=0.020, test_los0.027, Model Save\n",
            "epoch = 27, train_loss : 0.025, valid_loss : 0.020, test_loss : 0.027\n"
          ]
        },
        {
          "output_type": "stream",
          "name": "stderr",
          "text": [
            " 97%|█████████▋| 29/30 [00:03<00:00,  7.19it/s]"
          ]
        },
        {
          "output_type": "stream",
          "name": "stdout",
          "text": [
            "valid_loss=0.020, test_los0.027, Model Save\n",
            "epoch = 28, train_loss : 0.025, valid_loss : 0.020, test_loss : 0.027\n",
            "valid_loss=0.020, test_los0.027, Model Save\n",
            "epoch = 29, train_loss : 0.025, valid_loss : 0.020, test_loss : 0.027\n"
          ]
        },
        {
          "output_type": "stream",
          "name": "stderr",
          "text": [
            "100%|██████████| 30/30 [00:03<00:00,  8.91it/s]\n"
          ]
        },
        {
          "output_type": "stream",
          "name": "stdout",
          "text": [
            "valid_loss=0.020, test_los0.027, Model Save\n",
            "epoch = 30, train_loss : 0.024, valid_loss : 0.020, test_loss : 0.027\n"
          ]
        },
        {
          "output_type": "stream",
          "name": "stderr",
          "text": [
            "  7%|▋         | 2/30 [00:00<00:03,  7.80it/s]"
          ]
        },
        {
          "output_type": "stream",
          "name": "stdout",
          "text": [
            "valid_loss=0.332, test_los0.197, Model Save\n",
            "epoch = 1, train_loss : 0.121, valid_loss : 0.332, test_loss : 0.197\n",
            "epoch = 2, train_loss : 0.070, valid_loss : 0.375, test_loss : 0.204\n"
          ]
        },
        {
          "output_type": "stream",
          "name": "stderr",
          "text": [
            " 13%|█▎        | 4/30 [00:00<00:03,  7.82it/s]"
          ]
        },
        {
          "output_type": "stream",
          "name": "stdout",
          "text": [
            "epoch = 3, train_loss : 0.054, valid_loss : 0.362, test_loss : 0.189\n",
            "valid_loss=0.319, test_los0.163, Model Save\n",
            "epoch = 4, train_loss : 0.047, valid_loss : 0.319, test_loss : 0.163\n"
          ]
        },
        {
          "output_type": "stream",
          "name": "stderr",
          "text": [
            " 20%|██        | 6/30 [00:00<00:02,  8.14it/s]"
          ]
        },
        {
          "output_type": "stream",
          "name": "stdout",
          "text": [
            "valid_loss=0.272, test_los0.137, Model Save\n",
            "epoch = 5, train_loss : 0.042, valid_loss : 0.272, test_loss : 0.137\n",
            "valid_loss=0.231, test_los0.114, Model Save\n",
            "epoch = 6, train_loss : 0.037, valid_loss : 0.231, test_loss : 0.114\n"
          ]
        },
        {
          "output_type": "stream",
          "name": "stderr",
          "text": [
            " 27%|██▋       | 8/30 [00:01<00:03,  7.22it/s]"
          ]
        },
        {
          "output_type": "stream",
          "name": "stdout",
          "text": [
            "valid_loss=0.195, test_los0.095, Model Save\n",
            "epoch = 7, train_loss : 0.033, valid_loss : 0.195, test_loss : 0.095\n",
            "valid_loss=0.165, test_los0.079, Model Save\n",
            "epoch = 8, train_loss : 0.030, valid_loss : 0.165, test_loss : 0.079\n"
          ]
        },
        {
          "output_type": "stream",
          "name": "stderr",
          "text": [
            " 33%|███▎      | 10/30 [00:01<00:03,  6.54it/s]"
          ]
        },
        {
          "output_type": "stream",
          "name": "stdout",
          "text": [
            "valid_loss=0.139, test_los0.065, Model Save\n",
            "epoch = 9, train_loss : 0.028, valid_loss : 0.139, test_loss : 0.065\n",
            "valid_loss=0.118, test_los0.054, Model Save\n",
            "epoch = 10, train_loss : 0.025, valid_loss : 0.118, test_loss : 0.054\n"
          ]
        },
        {
          "output_type": "stream",
          "name": "stderr",
          "text": [
            " 40%|████      | 12/30 [00:01<00:02,  6.74it/s]"
          ]
        },
        {
          "output_type": "stream",
          "name": "stdout",
          "text": [
            "valid_loss=0.100, test_los0.045, Model Save\n",
            "epoch = 11, train_loss : 0.023, valid_loss : 0.100, test_loss : 0.045\n",
            "valid_loss=0.085, test_los0.038, Model Save\n",
            "epoch = 12, train_loss : 0.022, valid_loss : 0.085, test_loss : 0.038\n"
          ]
        },
        {
          "output_type": "stream",
          "name": "stderr",
          "text": [
            " 47%|████▋     | 14/30 [00:01<00:02,  6.88it/s]"
          ]
        },
        {
          "output_type": "stream",
          "name": "stdout",
          "text": [
            "valid_loss=0.072, test_los0.031, Model Save\n",
            "epoch = 13, train_loss : 0.020, valid_loss : 0.072, test_loss : 0.031\n",
            "valid_loss=0.061, test_los0.026, Model Save\n",
            "epoch = 14, train_loss : 0.019, valid_loss : 0.061, test_loss : 0.026\n"
          ]
        },
        {
          "output_type": "stream",
          "name": "stderr",
          "text": [
            " 57%|█████▋    | 17/30 [00:02<00:01,  8.83it/s]"
          ]
        },
        {
          "output_type": "stream",
          "name": "stdout",
          "text": [
            "valid_loss=0.053, test_los0.022, Model Save\n",
            "epoch = 15, train_loss : 0.018, valid_loss : 0.053, test_loss : 0.022\n",
            "valid_loss=0.045, test_los0.019, Model Save\n",
            "epoch = 16, train_loss : 0.018, valid_loss : 0.045, test_loss : 0.019\n",
            "valid_loss=0.039, test_los0.017, Model Save\n",
            "epoch = 17, train_loss : 0.017, valid_loss : 0.039, test_loss : 0.017\n"
          ]
        },
        {
          "output_type": "stream",
          "name": "stderr",
          "text": [
            "\r 63%|██████▎   | 19/30 [00:02<00:01, 10.04it/s]"
          ]
        },
        {
          "output_type": "stream",
          "name": "stdout",
          "text": [
            "valid_loss=0.035, test_los0.014, Model Save\n",
            "epoch = 18, train_loss : 0.017, valid_loss : 0.035, test_loss : 0.014\n",
            "valid_loss=0.031, test_los0.013, Model Save\n",
            "epoch = 19, train_loss : 0.016, valid_loss : 0.031, test_loss : 0.013\n",
            "valid_loss=0.027, test_los0.012, Model Save\n",
            "epoch = 20, train_loss : 0.016, valid_loss : 0.027, test_loss : 0.012\n"
          ]
        },
        {
          "output_type": "stream",
          "name": "stderr",
          "text": [
            " 77%|███████▋  | 23/30 [00:02<00:00, 10.76it/s]"
          ]
        },
        {
          "output_type": "stream",
          "name": "stdout",
          "text": [
            "valid_loss=0.025, test_los0.011, Model Save\n",
            "epoch = 21, train_loss : 0.016, valid_loss : 0.025, test_loss : 0.011\n",
            "valid_loss=0.023, test_los0.010, Model Save\n",
            "epoch = 22, train_loss : 0.015, valid_loss : 0.023, test_loss : 0.010\n",
            "valid_loss=0.021, test_los0.009, Model Save\n",
            "epoch = 23, train_loss : 0.015, valid_loss : 0.021, test_loss : 0.009\n"
          ]
        },
        {
          "output_type": "stream",
          "name": "stderr",
          "text": [
            "\r 83%|████████▎ | 25/30 [00:02<00:00, 10.92it/s]"
          ]
        },
        {
          "output_type": "stream",
          "name": "stdout",
          "text": [
            "valid_loss=0.020, test_los0.009, Model Save\n",
            "epoch = 24, train_loss : 0.015, valid_loss : 0.020, test_loss : 0.009\n",
            "valid_loss=0.018, test_los0.008, Model Save\n",
            "epoch = 25, train_loss : 0.015, valid_loss : 0.018, test_loss : 0.008\n",
            "valid_loss=0.018, test_los0.008, Model Save\n",
            "epoch = 26, train_loss : 0.015, valid_loss : 0.018, test_loss : 0.008\n"
          ]
        },
        {
          "output_type": "stream",
          "name": "stderr",
          "text": [
            " 97%|█████████▋| 29/30 [00:03<00:00, 11.35it/s]"
          ]
        },
        {
          "output_type": "stream",
          "name": "stdout",
          "text": [
            "valid_loss=0.017, test_los0.008, Model Save\n",
            "epoch = 27, train_loss : 0.015, valid_loss : 0.017, test_loss : 0.008\n",
            "valid_loss=0.016, test_los0.008, Model Save\n",
            "epoch = 28, train_loss : 0.015, valid_loss : 0.016, test_loss : 0.008\n",
            "valid_loss=0.016, test_los0.008, Model Save\n",
            "epoch = 29, train_loss : 0.015, valid_loss : 0.016, test_loss : 0.008\n"
          ]
        },
        {
          "output_type": "stream",
          "name": "stderr",
          "text": [
            "\r100%|██████████| 30/30 [00:03<00:00,  8.85it/s]\n"
          ]
        },
        {
          "output_type": "stream",
          "name": "stdout",
          "text": [
            "valid_loss=0.015, test_los0.008, Model Save\n",
            "epoch = 30, train_loss : 0.014, valid_loss : 0.015, test_loss : 0.008\n"
          ]
        },
        {
          "output_type": "stream",
          "name": "stderr",
          "text": [
            "  7%|▋         | 2/30 [00:00<00:02, 12.36it/s]"
          ]
        },
        {
          "output_type": "stream",
          "name": "stdout",
          "text": [
            "valid_loss=0.024, test_los0.029, Model Save\n",
            "epoch = 1, train_loss : 0.040, valid_loss : 0.024, test_loss : 0.029\n",
            "valid_loss=0.015, test_los0.020, Model Save\n",
            "epoch = 2, train_loss : 0.030, valid_loss : 0.015, test_loss : 0.020\n",
            "valid_loss=0.013, test_los0.019, Model Save\n",
            "epoch = 3, train_loss : 0.028, valid_loss : 0.013, test_loss : 0.019\n"
          ]
        },
        {
          "output_type": "stream",
          "name": "stderr",
          "text": [
            " 20%|██        | 6/30 [00:00<00:02, 11.44it/s]"
          ]
        },
        {
          "output_type": "stream",
          "name": "stdout",
          "text": [
            "valid_loss=0.012, test_los0.017, Model Save\n",
            "epoch = 4, train_loss : 0.025, valid_loss : 0.012, test_loss : 0.017\n",
            "valid_loss=0.011, test_los0.017, Model Save\n",
            "epoch = 5, train_loss : 0.024, valid_loss : 0.011, test_loss : 0.017\n",
            "valid_loss=0.011, test_los0.016, Model Save\n",
            "epoch = 6, train_loss : 0.023, valid_loss : 0.011, test_loss : 0.016\n"
          ]
        },
        {
          "output_type": "stream",
          "name": "stderr",
          "text": [
            "\r 27%|██▋       | 8/30 [00:00<00:01, 11.86it/s]"
          ]
        },
        {
          "output_type": "stream",
          "name": "stdout",
          "text": [
            "valid_loss=0.011, test_los0.016, Model Save\n",
            "epoch = 7, train_loss : 0.022, valid_loss : 0.011, test_loss : 0.016\n",
            "valid_loss=0.010, test_los0.015, Model Save\n",
            "epoch = 8, train_loss : 0.022, valid_loss : 0.010, test_loss : 0.015\n",
            "valid_loss=0.010, test_los0.015, Model Save\n",
            "epoch = 9, train_loss : 0.021, valid_loss : 0.010, test_loss : 0.015\n"
          ]
        },
        {
          "output_type": "stream",
          "name": "stderr",
          "text": [
            " 40%|████      | 12/30 [00:01<00:01, 11.33it/s]"
          ]
        },
        {
          "output_type": "stream",
          "name": "stdout",
          "text": [
            "valid_loss=0.010, test_los0.015, Model Save\n",
            "epoch = 10, train_loss : 0.020, valid_loss : 0.010, test_loss : 0.015\n",
            "valid_loss=0.010, test_los0.014, Model Save\n",
            "epoch = 11, train_loss : 0.020, valid_loss : 0.010, test_loss : 0.014\n",
            "valid_loss=0.009, test_los0.014, Model Save\n",
            "epoch = 12, train_loss : 0.020, valid_loss : 0.009, test_loss : 0.014\n"
          ]
        },
        {
          "output_type": "stream",
          "name": "stderr",
          "text": [
            "\r 47%|████▋     | 14/30 [00:01<00:01, 11.00it/s]"
          ]
        },
        {
          "output_type": "stream",
          "name": "stdout",
          "text": [
            "valid_loss=0.009, test_los0.014, Model Save\n",
            "epoch = 13, train_loss : 0.019, valid_loss : 0.009, test_loss : 0.014\n",
            "valid_loss=0.009, test_los0.014, Model Save\n",
            "epoch = 14, train_loss : 0.019, valid_loss : 0.009, test_loss : 0.014\n",
            "valid_loss=0.009, test_los0.014, Model Save\n",
            "epoch = 15, train_loss : 0.019, valid_loss : 0.009, test_loss : 0.014\n"
          ]
        },
        {
          "output_type": "stream",
          "name": "stderr",
          "text": [
            " 60%|██████    | 18/30 [00:01<00:01, 11.52it/s]"
          ]
        },
        {
          "output_type": "stream",
          "name": "stdout",
          "text": [
            "valid_loss=0.009, test_los0.014, Model Save\n",
            "epoch = 16, train_loss : 0.018, valid_loss : 0.009, test_loss : 0.014\n",
            "valid_loss=0.009, test_los0.014, Model Save\n",
            "epoch = 17, train_loss : 0.018, valid_loss : 0.009, test_loss : 0.014\n",
            "valid_loss=0.009, test_los0.014, Model Save\n",
            "epoch = 18, train_loss : 0.018, valid_loss : 0.009, test_loss : 0.014\n"
          ]
        },
        {
          "output_type": "stream",
          "name": "stderr",
          "text": [
            "\r 67%|██████▋   | 20/30 [00:01<00:00, 11.57it/s]"
          ]
        },
        {
          "output_type": "stream",
          "name": "stdout",
          "text": [
            "valid_loss=0.009, test_los0.013, Model Save\n",
            "epoch = 19, train_loss : 0.018, valid_loss : 0.009, test_loss : 0.013\n",
            "valid_loss=0.009, test_los0.013, Model Save\n",
            "epoch = 20, train_loss : 0.018, valid_loss : 0.009, test_loss : 0.013\n",
            "valid_loss=0.008, test_los0.013, Model Save\n",
            "epoch = 21, train_loss : 0.018, valid_loss : 0.008, test_loss : 0.013\n"
          ]
        },
        {
          "output_type": "stream",
          "name": "stderr",
          "text": [
            " 80%|████████  | 24/30 [00:02<00:00, 11.98it/s]"
          ]
        },
        {
          "output_type": "stream",
          "name": "stdout",
          "text": [
            "valid_loss=0.008, test_los0.013, Model Save\n",
            "epoch = 22, train_loss : 0.017, valid_loss : 0.008, test_loss : 0.013\n",
            "valid_loss=0.008, test_los0.013, Model Save\n",
            "epoch = 23, train_loss : 0.017, valid_loss : 0.008, test_loss : 0.013\n",
            "valid_loss=0.008, test_los0.013, Model Save\n",
            "epoch = 24, train_loss : 0.017, valid_loss : 0.008, test_loss : 0.013\n"
          ]
        },
        {
          "output_type": "stream",
          "name": "stderr",
          "text": [
            "\r 87%|████████▋ | 26/30 [00:02<00:00, 11.92it/s]"
          ]
        },
        {
          "output_type": "stream",
          "name": "stdout",
          "text": [
            "valid_loss=0.008, test_los0.013, Model Save\n",
            "epoch = 25, train_loss : 0.017, valid_loss : 0.008, test_loss : 0.013\n",
            "valid_loss=0.008, test_los0.013, Model Save\n",
            "epoch = 26, train_loss : 0.017, valid_loss : 0.008, test_loss : 0.013\n",
            "valid_loss=0.008, test_los0.013, Model Save\n",
            "epoch = 27, train_loss : 0.017, valid_loss : 0.008, test_loss : 0.013\n"
          ]
        },
        {
          "output_type": "stream",
          "name": "stderr",
          "text": [
            "100%|██████████| 30/30 [00:02<00:00, 11.61it/s]"
          ]
        },
        {
          "output_type": "stream",
          "name": "stdout",
          "text": [
            "valid_loss=0.008, test_los0.013, Model Save\n",
            "epoch = 28, train_loss : 0.017, valid_loss : 0.008, test_loss : 0.013\n",
            "valid_loss=0.008, test_los0.013, Model Save\n",
            "epoch = 29, train_loss : 0.017, valid_loss : 0.008, test_loss : 0.013\n",
            "valid_loss=0.008, test_los0.013, Model Save\n",
            "epoch = 30, train_loss : 0.017, valid_loss : 0.008, test_loss : 0.013\n"
          ]
        },
        {
          "output_type": "stream",
          "name": "stderr",
          "text": [
            "\n",
            "  7%|▋         | 2/30 [00:00<00:02, 12.14it/s]"
          ]
        },
        {
          "output_type": "stream",
          "name": "stdout",
          "text": [
            "valid_loss=0.049, test_los0.057, Model Save\n",
            "epoch = 1, train_loss : 0.093, valid_loss : 0.049, test_loss : 0.057\n",
            "valid_loss=0.037, test_los0.040, Model Save\n",
            "epoch = 2, train_loss : 0.066, valid_loss : 0.037, test_loss : 0.040\n",
            "valid_loss=0.030, test_los0.031, Model Save\n",
            "epoch = 3, train_loss : 0.056, valid_loss : 0.030, test_loss : 0.031\n"
          ]
        },
        {
          "output_type": "stream",
          "name": "stderr",
          "text": [
            " 20%|██        | 6/30 [00:00<00:01, 12.31it/s]"
          ]
        },
        {
          "output_type": "stream",
          "name": "stdout",
          "text": [
            "valid_loss=0.026, test_los0.026, Model Save\n",
            "epoch = 4, train_loss : 0.049, valid_loss : 0.026, test_loss : 0.026\n",
            "valid_loss=0.023, test_los0.023, Model Save\n",
            "epoch = 5, train_loss : 0.044, valid_loss : 0.023, test_loss : 0.023\n",
            "valid_loss=0.021, test_los0.020, Model Save\n",
            "epoch = 6, train_loss : 0.041, valid_loss : 0.021, test_loss : 0.020\n"
          ]
        },
        {
          "output_type": "stream",
          "name": "stderr",
          "text": [
            "\r 27%|██▋       | 8/30 [00:00<00:02, 10.96it/s]"
          ]
        },
        {
          "output_type": "stream",
          "name": "stdout",
          "text": [
            "valid_loss=0.020, test_los0.019, Model Save\n",
            "epoch = 7, train_loss : 0.038, valid_loss : 0.020, test_loss : 0.019\n",
            "valid_loss=0.019, test_los0.018, Model Save\n",
            "epoch = 8, train_loss : 0.036, valid_loss : 0.019, test_loss : 0.018\n",
            "valid_loss=0.019, test_los0.017, Model Save\n",
            "epoch = 9, train_loss : 0.034, valid_loss : 0.019, test_loss : 0.017\n"
          ]
        },
        {
          "output_type": "stream",
          "name": "stderr",
          "text": [
            " 40%|████      | 12/30 [00:01<00:01, 11.64it/s]"
          ]
        },
        {
          "output_type": "stream",
          "name": "stdout",
          "text": [
            "valid_loss=0.018, test_los0.016, Model Save\n",
            "epoch = 10, train_loss : 0.033, valid_loss : 0.018, test_loss : 0.016\n",
            "valid_loss=0.018, test_los0.016, Model Save\n",
            "epoch = 11, train_loss : 0.032, valid_loss : 0.018, test_loss : 0.016\n",
            "valid_loss=0.018, test_los0.016, Model Save\n",
            "epoch = 12, train_loss : 0.031, valid_loss : 0.018, test_loss : 0.016\n"
          ]
        },
        {
          "output_type": "stream",
          "name": "stderr",
          "text": [
            "\r 47%|████▋     | 14/30 [00:01<00:01, 11.48it/s]"
          ]
        },
        {
          "output_type": "stream",
          "name": "stdout",
          "text": [
            "valid_loss=0.017, test_los0.015, Model Save\n",
            "epoch = 13, train_loss : 0.031, valid_loss : 0.017, test_loss : 0.015\n",
            "valid_loss=0.017, test_los0.015, Model Save\n",
            "epoch = 14, train_loss : 0.030, valid_loss : 0.017, test_loss : 0.015\n",
            "valid_loss=0.017, test_los0.015, Model Save\n",
            "epoch = 15, train_loss : 0.030, valid_loss : 0.017, test_loss : 0.015\n"
          ]
        },
        {
          "output_type": "stream",
          "name": "stderr",
          "text": [
            " 60%|██████    | 18/30 [00:01<00:01, 11.83it/s]"
          ]
        },
        {
          "output_type": "stream",
          "name": "stdout",
          "text": [
            "valid_loss=0.017, test_los0.014, Model Save\n",
            "epoch = 16, train_loss : 0.029, valid_loss : 0.017, test_loss : 0.014\n",
            "valid_loss=0.017, test_los0.014, Model Save\n",
            "epoch = 17, train_loss : 0.029, valid_loss : 0.017, test_loss : 0.014\n",
            "valid_loss=0.016, test_los0.014, Model Save\n",
            "epoch = 18, train_loss : 0.028, valid_loss : 0.016, test_loss : 0.014\n"
          ]
        },
        {
          "output_type": "stream",
          "name": "stderr",
          "text": [
            "\r 67%|██████▋   | 20/30 [00:01<00:00, 10.97it/s]"
          ]
        },
        {
          "output_type": "stream",
          "name": "stdout",
          "text": [
            "valid_loss=0.016, test_los0.014, Model Save\n",
            "epoch = 19, train_loss : 0.028, valid_loss : 0.016, test_loss : 0.014\n",
            "valid_loss=0.016, test_los0.014, Model Save\n",
            "epoch = 20, train_loss : 0.028, valid_loss : 0.016, test_loss : 0.014\n",
            "valid_loss=0.016, test_los0.014, Model Save\n",
            "epoch = 21, train_loss : 0.027, valid_loss : 0.016, test_loss : 0.014\n"
          ]
        },
        {
          "output_type": "stream",
          "name": "stderr",
          "text": [
            " 80%|████████  | 24/30 [00:02<00:00, 10.91it/s]"
          ]
        },
        {
          "output_type": "stream",
          "name": "stdout",
          "text": [
            "valid_loss=0.016, test_los0.014, Model Save\n",
            "epoch = 22, train_loss : 0.027, valid_loss : 0.016, test_loss : 0.014\n",
            "valid_loss=0.016, test_los0.014, Model Save\n",
            "epoch = 23, train_loss : 0.027, valid_loss : 0.016, test_loss : 0.014\n",
            "valid_loss=0.016, test_los0.013, Model Save\n",
            "epoch = 24, train_loss : 0.027, valid_loss : 0.016, test_loss : 0.013\n"
          ]
        },
        {
          "output_type": "stream",
          "name": "stderr",
          "text": [
            "\r 87%|████████▋ | 26/30 [00:02<00:00, 11.09it/s]"
          ]
        },
        {
          "output_type": "stream",
          "name": "stdout",
          "text": [
            "valid_loss=0.016, test_los0.013, Model Save\n",
            "epoch = 25, train_loss : 0.027, valid_loss : 0.016, test_loss : 0.013\n",
            "valid_loss=0.016, test_los0.013, Model Save\n",
            "epoch = 26, train_loss : 0.026, valid_loss : 0.016, test_loss : 0.013\n",
            "valid_loss=0.016, test_los0.013, Model Save\n",
            "epoch = 27, train_loss : 0.026, valid_loss : 0.016, test_loss : 0.013\n"
          ]
        },
        {
          "output_type": "stream",
          "name": "stderr",
          "text": [
            "100%|██████████| 30/30 [00:02<00:00, 11.47it/s]"
          ]
        },
        {
          "output_type": "stream",
          "name": "stdout",
          "text": [
            "valid_loss=0.016, test_los0.013, Model Save\n",
            "epoch = 28, train_loss : 0.026, valid_loss : 0.016, test_loss : 0.013\n",
            "valid_loss=0.016, test_los0.013, Model Save\n",
            "epoch = 29, train_loss : 0.026, valid_loss : 0.016, test_loss : 0.013\n",
            "valid_loss=0.016, test_los0.013, Model Save\n",
            "epoch = 30, train_loss : 0.026, valid_loss : 0.016, test_loss : 0.013\n"
          ]
        },
        {
          "output_type": "stream",
          "name": "stderr",
          "text": [
            "\n",
            "  7%|▋         | 2/30 [00:00<00:02, 13.52it/s]"
          ]
        },
        {
          "output_type": "stream",
          "name": "stdout",
          "text": [
            "valid_loss=0.125, test_los0.191, Model Save\n",
            "epoch = 1, train_loss : 0.201, valid_loss : 0.125, test_loss : 0.191\n",
            "valid_loss=0.104, test_los0.163, Model Save\n",
            "epoch = 2, train_loss : 0.167, valid_loss : 0.104, test_loss : 0.163\n",
            "valid_loss=0.086, test_los0.129, Model Save\n",
            "epoch = 3, train_loss : 0.147, valid_loss : 0.086, test_loss : 0.129\n"
          ]
        },
        {
          "output_type": "stream",
          "name": "stderr",
          "text": [
            " 20%|██        | 6/30 [00:00<00:01, 12.78it/s]"
          ]
        },
        {
          "output_type": "stream",
          "name": "stdout",
          "text": [
            "valid_loss=0.073, test_los0.104, Model Save\n",
            "epoch = 4, train_loss : 0.133, valid_loss : 0.073, test_loss : 0.104\n",
            "valid_loss=0.064, test_los0.085, Model Save\n",
            "epoch = 5, train_loss : 0.122, valid_loss : 0.064, test_loss : 0.085\n",
            "valid_loss=0.057, test_los0.072, Model Save\n",
            "epoch = 6, train_loss : 0.114, valid_loss : 0.057, test_loss : 0.072\n"
          ]
        },
        {
          "output_type": "stream",
          "name": "stderr",
          "text": [
            "\r 27%|██▋       | 8/30 [00:00<00:01, 12.59it/s]"
          ]
        },
        {
          "output_type": "stream",
          "name": "stdout",
          "text": [
            "valid_loss=0.052, test_los0.062, Model Save\n",
            "epoch = 7, train_loss : 0.107, valid_loss : 0.052, test_loss : 0.062\n",
            "valid_loss=0.049, test_los0.055, Model Save\n",
            "epoch = 8, train_loss : 0.103, valid_loss : 0.049, test_loss : 0.055\n",
            "valid_loss=0.046, test_los0.050, Model Save\n",
            "epoch = 9, train_loss : 0.099, valid_loss : 0.046, test_loss : 0.050\n"
          ]
        },
        {
          "output_type": "stream",
          "name": "stderr",
          "text": [
            " 40%|████      | 12/30 [00:00<00:01, 12.02it/s]"
          ]
        },
        {
          "output_type": "stream",
          "name": "stdout",
          "text": [
            "valid_loss=0.044, test_los0.046, Model Save\n",
            "epoch = 10, train_loss : 0.096, valid_loss : 0.044, test_loss : 0.046\n",
            "valid_loss=0.042, test_los0.043, Model Save\n",
            "epoch = 11, train_loss : 0.093, valid_loss : 0.042, test_loss : 0.043\n",
            "valid_loss=0.041, test_los0.040, Model Save\n",
            "epoch = 12, train_loss : 0.091, valid_loss : 0.041, test_loss : 0.040\n"
          ]
        },
        {
          "output_type": "stream",
          "name": "stderr",
          "text": [
            "\r 47%|████▋     | 14/30 [00:01<00:01, 11.83it/s]"
          ]
        },
        {
          "output_type": "stream",
          "name": "stdout",
          "text": [
            "valid_loss=0.040, test_los0.039, Model Save\n",
            "epoch = 13, train_loss : 0.090, valid_loss : 0.040, test_loss : 0.039\n",
            "valid_loss=0.040, test_los0.037, Model Save\n",
            "epoch = 14, train_loss : 0.088, valid_loss : 0.040, test_loss : 0.037\n",
            "valid_loss=0.039, test_los0.036, Model Save\n",
            "epoch = 15, train_loss : 0.087, valid_loss : 0.039, test_loss : 0.036\n"
          ]
        },
        {
          "output_type": "stream",
          "name": "stderr",
          "text": [
            " 60%|██████    | 18/30 [00:01<00:00, 12.06it/s]"
          ]
        },
        {
          "output_type": "stream",
          "name": "stdout",
          "text": [
            "valid_loss=0.039, test_los0.035, Model Save\n",
            "epoch = 16, train_loss : 0.086, valid_loss : 0.039, test_loss : 0.035\n",
            "valid_loss=0.038, test_los0.035, Model Save\n",
            "epoch = 17, train_loss : 0.085, valid_loss : 0.038, test_loss : 0.035\n",
            "valid_loss=0.038, test_los0.034, Model Save\n",
            "epoch = 18, train_loss : 0.084, valid_loss : 0.038, test_loss : 0.034\n"
          ]
        },
        {
          "output_type": "stream",
          "name": "stderr",
          "text": [
            "\r 67%|██████▋   | 20/30 [00:01<00:00, 12.01it/s]"
          ]
        },
        {
          "output_type": "stream",
          "name": "stdout",
          "text": [
            "valid_loss=0.038, test_los0.034, Model Save\n",
            "epoch = 19, train_loss : 0.083, valid_loss : 0.038, test_loss : 0.034\n",
            "valid_loss=0.037, test_los0.033, Model Save\n",
            "epoch = 20, train_loss : 0.083, valid_loss : 0.037, test_loss : 0.033\n",
            "valid_loss=0.037, test_los0.033, Model Save\n",
            "epoch = 21, train_loss : 0.082, valid_loss : 0.037, test_loss : 0.033\n"
          ]
        },
        {
          "output_type": "stream",
          "name": "stderr",
          "text": [
            " 80%|████████  | 24/30 [00:02<00:00, 11.71it/s]"
          ]
        },
        {
          "output_type": "stream",
          "name": "stdout",
          "text": [
            "valid_loss=0.037, test_los0.033, Model Save\n",
            "epoch = 22, train_loss : 0.081, valid_loss : 0.037, test_loss : 0.033\n",
            "valid_loss=0.037, test_los0.032, Model Save\n",
            "epoch = 23, train_loss : 0.081, valid_loss : 0.037, test_loss : 0.032\n",
            "valid_loss=0.036, test_los0.032, Model Save\n",
            "epoch = 24, train_loss : 0.081, valid_loss : 0.036, test_loss : 0.032\n"
          ]
        },
        {
          "output_type": "stream",
          "name": "stderr",
          "text": [
            "\r 87%|████████▋ | 26/30 [00:02<00:00, 11.70it/s]"
          ]
        },
        {
          "output_type": "stream",
          "name": "stdout",
          "text": [
            "valid_loss=0.036, test_los0.032, Model Save\n",
            "epoch = 25, train_loss : 0.080, valid_loss : 0.036, test_loss : 0.032\n",
            "valid_loss=0.036, test_los0.032, Model Save\n",
            "epoch = 26, train_loss : 0.080, valid_loss : 0.036, test_loss : 0.032\n",
            "valid_loss=0.036, test_los0.031, Model Save\n",
            "epoch = 27, train_loss : 0.079, valid_loss : 0.036, test_loss : 0.031\n"
          ]
        },
        {
          "output_type": "stream",
          "name": "stderr",
          "text": [
            "\r 93%|█████████▎| 28/30 [00:02<00:00, 11.60it/s]"
          ]
        },
        {
          "output_type": "stream",
          "name": "stdout",
          "text": [
            "valid_loss=0.036, test_los0.031, Model Save\n",
            "epoch = 28, train_loss : 0.079, valid_loss : 0.036, test_loss : 0.031\n",
            "valid_loss=0.036, test_los0.031, Model Save\n",
            "epoch = 29, train_loss : 0.079, valid_loss : 0.036, test_loss : 0.031\n"
          ]
        },
        {
          "output_type": "stream",
          "name": "stderr",
          "text": [
            "100%|██████████| 30/30 [00:02<00:00, 11.53it/s]"
          ]
        },
        {
          "output_type": "stream",
          "name": "stdout",
          "text": [
            "valid_loss=0.036, test_los0.031, Model Save\n",
            "epoch = 30, train_loss : 0.078, valid_loss : 0.036, test_loss : 0.031\n"
          ]
        },
        {
          "output_type": "stream",
          "name": "stderr",
          "text": [
            "\n",
            "  7%|▋         | 2/30 [00:00<00:03,  7.91it/s]"
          ]
        },
        {
          "output_type": "stream",
          "name": "stdout",
          "text": [
            "valid_loss=0.300, test_los2.463, Model Save\n",
            "epoch = 1, train_loss : 0.008, valid_loss : 0.300, test_loss : 2.463\n",
            "epoch = 2, train_loss : 0.000, valid_loss : 0.354, test_loss : 3.361\n"
          ]
        },
        {
          "output_type": "stream",
          "name": "stderr",
          "text": [
            " 13%|█▎        | 4/30 [00:00<00:03,  8.21it/s]"
          ]
        },
        {
          "output_type": "stream",
          "name": "stdout",
          "text": [
            "epoch = 3, train_loss : 0.000, valid_loss : 0.353, test_loss : 3.338\n",
            "epoch = 4, train_loss : 0.000, valid_loss : 0.352, test_loss : 3.315\n"
          ]
        },
        {
          "output_type": "stream",
          "name": "stderr",
          "text": [
            " 20%|██        | 6/30 [00:00<00:02,  8.54it/s]"
          ]
        },
        {
          "output_type": "stream",
          "name": "stdout",
          "text": [
            "epoch = 5, train_loss : 0.000, valid_loss : 0.352, test_loss : 3.319\n",
            "epoch = 6, train_loss : 0.000, valid_loss : 0.352, test_loss : 3.319\n"
          ]
        },
        {
          "output_type": "stream",
          "name": "stderr",
          "text": [
            " 27%|██▋       | 8/30 [00:00<00:02,  8.33it/s]"
          ]
        },
        {
          "output_type": "stream",
          "name": "stdout",
          "text": [
            "epoch = 7, train_loss : 0.000, valid_loss : 0.352, test_loss : 3.319\n",
            "epoch = 8, train_loss : 0.000, valid_loss : 0.352, test_loss : 3.319\n"
          ]
        },
        {
          "output_type": "stream",
          "name": "stderr",
          "text": [
            " 33%|███▎      | 10/30 [00:01<00:02,  8.37it/s]"
          ]
        },
        {
          "output_type": "stream",
          "name": "stdout",
          "text": [
            "epoch = 9, train_loss : 0.000, valid_loss : 0.352, test_loss : 3.319\n",
            "epoch = 10, train_loss : 0.000, valid_loss : 0.352, test_loss : 3.319\n"
          ]
        },
        {
          "output_type": "stream",
          "name": "stderr",
          "text": [
            " 40%|████      | 12/30 [00:01<00:02,  8.31it/s]"
          ]
        },
        {
          "output_type": "stream",
          "name": "stdout",
          "text": [
            "epoch = 11, train_loss : 0.000, valid_loss : 0.352, test_loss : 3.319\n",
            "epoch = 12, train_loss : 0.000, valid_loss : 0.352, test_loss : 3.319\n"
          ]
        },
        {
          "output_type": "stream",
          "name": "stderr",
          "text": [
            " 47%|████▋     | 14/30 [00:01<00:01,  8.46it/s]"
          ]
        },
        {
          "output_type": "stream",
          "name": "stdout",
          "text": [
            "epoch = 13, train_loss : 0.000, valid_loss : 0.352, test_loss : 3.319\n",
            "epoch = 14, train_loss : 0.000, valid_loss : 0.352, test_loss : 3.319\n"
          ]
        },
        {
          "output_type": "stream",
          "name": "stderr",
          "text": [
            " 53%|█████▎    | 16/30 [00:02<00:01,  7.12it/s]"
          ]
        },
        {
          "output_type": "stream",
          "name": "stdout",
          "text": [
            "epoch = 15, train_loss : 0.000, valid_loss : 0.352, test_loss : 3.319\n",
            "epoch = 16, train_loss : 0.000, valid_loss : 0.352, test_loss : 3.319\n"
          ]
        },
        {
          "output_type": "stream",
          "name": "stderr",
          "text": [
            " 60%|██████    | 18/30 [00:02<00:01,  7.35it/s]"
          ]
        },
        {
          "output_type": "stream",
          "name": "stdout",
          "text": [
            "epoch = 17, train_loss : 0.000, valid_loss : 0.352, test_loss : 3.319\n",
            "epoch = 18, train_loss : 0.000, valid_loss : 0.352, test_loss : 3.319\n"
          ]
        },
        {
          "output_type": "stream",
          "name": "stderr",
          "text": [
            " 67%|██████▋   | 20/30 [00:02<00:01,  7.95it/s]"
          ]
        },
        {
          "output_type": "stream",
          "name": "stdout",
          "text": [
            "epoch = 19, train_loss : 0.000, valid_loss : 0.352, test_loss : 3.319\n",
            "epoch = 20, train_loss : 0.000, valid_loss : 0.352, test_loss : 3.319\n"
          ]
        },
        {
          "output_type": "stream",
          "name": "stderr",
          "text": [
            " 73%|███████▎  | 22/30 [00:02<00:00,  8.17it/s]"
          ]
        },
        {
          "output_type": "stream",
          "name": "stdout",
          "text": [
            "epoch = 21, train_loss : 0.000, valid_loss : 0.352, test_loss : 3.319\n",
            "epoch = 22, train_loss : 0.000, valid_loss : 0.352, test_loss : 3.319\n"
          ]
        },
        {
          "output_type": "stream",
          "name": "stderr",
          "text": [
            " 80%|████████  | 24/30 [00:03<00:00,  7.07it/s]"
          ]
        },
        {
          "output_type": "stream",
          "name": "stdout",
          "text": [
            "epoch = 23, train_loss : 0.000, valid_loss : 0.352, test_loss : 3.319\n",
            "epoch = 24, train_loss : 0.000, valid_loss : 0.352, test_loss : 3.319\n"
          ]
        },
        {
          "output_type": "stream",
          "name": "stderr",
          "text": [
            " 87%|████████▋ | 26/30 [00:03<00:00,  7.00it/s]"
          ]
        },
        {
          "output_type": "stream",
          "name": "stdout",
          "text": [
            "epoch = 25, train_loss : 0.000, valid_loss : 0.352, test_loss : 3.319\n",
            "epoch = 26, train_loss : 0.000, valid_loss : 0.352, test_loss : 3.319\n"
          ]
        },
        {
          "output_type": "stream",
          "name": "stderr",
          "text": [
            " 93%|█████████▎| 28/30 [00:03<00:00,  6.81it/s]"
          ]
        },
        {
          "output_type": "stream",
          "name": "stdout",
          "text": [
            "epoch = 27, train_loss : 0.000, valid_loss : 0.352, test_loss : 3.319\n",
            "epoch = 28, train_loss : 0.000, valid_loss : 0.352, test_loss : 3.319\n"
          ]
        },
        {
          "output_type": "stream",
          "name": "stderr",
          "text": [
            "100%|██████████| 30/30 [00:03<00:00,  7.69it/s]"
          ]
        },
        {
          "output_type": "stream",
          "name": "stdout",
          "text": [
            "epoch = 29, train_loss : 0.000, valid_loss : 0.352, test_loss : 3.319\n",
            "epoch = 30, train_loss : 0.000, valid_loss : 0.352, test_loss : 3.319\n"
          ]
        },
        {
          "output_type": "stream",
          "name": "stderr",
          "text": [
            "\n",
            "  7%|▋         | 2/30 [00:00<00:02, 13.33it/s]"
          ]
        },
        {
          "output_type": "stream",
          "name": "stdout",
          "text": [
            "valid_loss=0.105, test_los0.095, Model Save\n",
            "epoch = 1, train_loss : 0.158, valid_loss : 0.105, test_loss : 0.095\n",
            "valid_loss=0.096, test_los0.069, Model Save\n",
            "epoch = 2, train_loss : 0.124, valid_loss : 0.096, test_loss : 0.069\n",
            "valid_loss=0.083, test_los0.057, Model Save\n",
            "epoch = 3, train_loss : 0.106, valid_loss : 0.083, test_loss : 0.057\n"
          ]
        },
        {
          "output_type": "stream",
          "name": "stderr",
          "text": [
            " 20%|██        | 6/30 [00:00<00:01, 12.56it/s]"
          ]
        },
        {
          "output_type": "stream",
          "name": "stdout",
          "text": [
            "valid_loss=0.071, test_los0.050, Model Save\n",
            "epoch = 4, train_loss : 0.093, valid_loss : 0.071, test_loss : 0.050\n",
            "valid_loss=0.060, test_los0.045, Model Save\n",
            "epoch = 5, train_loss : 0.083, valid_loss : 0.060, test_loss : 0.045\n",
            "valid_loss=0.052, test_los0.041, Model Save\n",
            "epoch = 6, train_loss : 0.076, valid_loss : 0.052, test_loss : 0.041\n"
          ]
        },
        {
          "output_type": "stream",
          "name": "stderr",
          "text": [
            "\r 27%|██▋       | 8/30 [00:00<00:01, 12.55it/s]"
          ]
        },
        {
          "output_type": "stream",
          "name": "stdout",
          "text": [
            "valid_loss=0.047, test_los0.038, Model Save\n",
            "epoch = 7, train_loss : 0.070, valid_loss : 0.047, test_loss : 0.038\n",
            "valid_loss=0.042, test_los0.036, Model Save\n",
            "epoch = 8, train_loss : 0.066, valid_loss : 0.042, test_loss : 0.036\n",
            "valid_loss=0.039, test_los0.034, Model Save\n",
            "epoch = 9, train_loss : 0.063, valid_loss : 0.039, test_loss : 0.034\n"
          ]
        },
        {
          "output_type": "stream",
          "name": "stderr",
          "text": [
            " 40%|████      | 12/30 [00:00<00:01, 12.25it/s]"
          ]
        },
        {
          "output_type": "stream",
          "name": "stdout",
          "text": [
            "valid_loss=0.037, test_los0.033, Model Save\n",
            "epoch = 10, train_loss : 0.060, valid_loss : 0.037, test_loss : 0.033\n",
            "valid_loss=0.036, test_los0.032, Model Save\n",
            "epoch = 11, train_loss : 0.058, valid_loss : 0.036, test_loss : 0.032\n",
            "valid_loss=0.035, test_los0.031, Model Save\n",
            "epoch = 12, train_loss : 0.057, valid_loss : 0.035, test_loss : 0.031\n"
          ]
        },
        {
          "output_type": "stream",
          "name": "stderr",
          "text": [
            "\r 47%|████▋     | 14/30 [00:01<00:01, 12.07it/s]"
          ]
        },
        {
          "output_type": "stream",
          "name": "stdout",
          "text": [
            "valid_loss=0.034, test_los0.030, Model Save\n",
            "epoch = 13, train_loss : 0.056, valid_loss : 0.034, test_loss : 0.030\n",
            "valid_loss=0.033, test_los0.029, Model Save\n",
            "epoch = 14, train_loss : 0.055, valid_loss : 0.033, test_loss : 0.029\n",
            "valid_loss=0.033, test_los0.029, Model Save\n",
            "epoch = 15, train_loss : 0.054, valid_loss : 0.033, test_loss : 0.029\n"
          ]
        },
        {
          "output_type": "stream",
          "name": "stderr",
          "text": [
            " 60%|██████    | 18/30 [00:01<00:00, 12.25it/s]"
          ]
        },
        {
          "output_type": "stream",
          "name": "stdout",
          "text": [
            "valid_loss=0.032, test_los0.028, Model Save\n",
            "epoch = 16, train_loss : 0.053, valid_loss : 0.032, test_loss : 0.028\n",
            "valid_loss=0.032, test_los0.028, Model Save\n",
            "epoch = 17, train_loss : 0.053, valid_loss : 0.032, test_loss : 0.028\n",
            "valid_loss=0.032, test_los0.027, Model Save\n",
            "epoch = 18, train_loss : 0.052, valid_loss : 0.032, test_loss : 0.027\n"
          ]
        },
        {
          "output_type": "stream",
          "name": "stderr",
          "text": [
            "\r 67%|██████▋   | 20/30 [00:01<00:00, 12.17it/s]"
          ]
        },
        {
          "output_type": "stream",
          "name": "stdout",
          "text": [
            "valid_loss=0.031, test_los0.027, Model Save\n",
            "epoch = 19, train_loss : 0.052, valid_loss : 0.031, test_loss : 0.027\n",
            "valid_loss=0.031, test_los0.027, Model Save\n",
            "epoch = 20, train_loss : 0.052, valid_loss : 0.031, test_loss : 0.027\n",
            "valid_loss=0.031, test_los0.026, Model Save\n",
            "epoch = 21, train_loss : 0.051, valid_loss : 0.031, test_loss : 0.026\n"
          ]
        },
        {
          "output_type": "stream",
          "name": "stderr",
          "text": [
            "\r 73%|███████▎  | 22/30 [00:01<00:00, 11.77it/s]"
          ]
        },
        {
          "output_type": "stream",
          "name": "stdout",
          "text": [
            "valid_loss=0.031, test_los0.026, Model Save\n",
            "epoch = 22, train_loss : 0.051, valid_loss : 0.031, test_loss : 0.026\n",
            "valid_loss=0.031, test_los0.026, Model Save\n",
            "epoch = 23, train_loss : 0.051, valid_loss : 0.031, test_loss : 0.026\n"
          ]
        },
        {
          "output_type": "stream",
          "name": "stderr",
          "text": [
            " 87%|████████▋ | 26/30 [00:02<00:00, 11.08it/s]"
          ]
        },
        {
          "output_type": "stream",
          "name": "stdout",
          "text": [
            "valid_loss=0.031, test_los0.026, Model Save\n",
            "epoch = 24, train_loss : 0.051, valid_loss : 0.031, test_loss : 0.026\n",
            "valid_loss=0.030, test_los0.026, Model Save\n",
            "epoch = 25, train_loss : 0.050, valid_loss : 0.030, test_loss : 0.026\n",
            "valid_loss=0.030, test_los0.025, Model Save\n",
            "epoch = 26, train_loss : 0.050, valid_loss : 0.030, test_loss : 0.025\n"
          ]
        },
        {
          "output_type": "stream",
          "name": "stderr",
          "text": [
            "\r 93%|█████████▎| 28/30 [00:02<00:00, 11.29it/s]"
          ]
        },
        {
          "output_type": "stream",
          "name": "stdout",
          "text": [
            "valid_loss=0.030, test_los0.025, Model Save\n",
            "epoch = 27, train_loss : 0.050, valid_loss : 0.030, test_loss : 0.025\n",
            "valid_loss=0.030, test_los0.025, Model Save\n",
            "epoch = 28, train_loss : 0.050, valid_loss : 0.030, test_loss : 0.025\n",
            "valid_loss=0.030, test_los0.025, Model Save\n",
            "epoch = 29, train_loss : 0.050, valid_loss : 0.030, test_loss : 0.025\n"
          ]
        },
        {
          "output_type": "stream",
          "name": "stderr",
          "text": [
            "100%|██████████| 30/30 [00:02<00:00, 11.85it/s]\n"
          ]
        },
        {
          "output_type": "stream",
          "name": "stdout",
          "text": [
            "valid_loss=0.030, test_los0.025, Model Save\n",
            "epoch = 30, train_loss : 0.050, valid_loss : 0.030, test_loss : 0.025\n"
          ]
        },
        {
          "output_type": "stream",
          "name": "stderr",
          "text": [
            "  7%|▋         | 2/30 [00:00<00:02, 12.26it/s]"
          ]
        },
        {
          "output_type": "stream",
          "name": "stdout",
          "text": [
            "valid_loss=0.202, test_los0.105, Model Save\n",
            "epoch = 1, train_loss : 0.060, valid_loss : 0.202, test_loss : 0.105\n",
            "valid_loss=0.140, test_los0.077, Model Save\n",
            "epoch = 2, train_loss : 0.033, valid_loss : 0.140, test_loss : 0.077\n",
            "valid_loss=0.097, test_los0.057, Model Save\n",
            "epoch = 3, train_loss : 0.025, valid_loss : 0.097, test_loss : 0.057\n"
          ]
        },
        {
          "output_type": "stream",
          "name": "stderr",
          "text": [
            " 20%|██        | 6/30 [00:00<00:01, 12.29it/s]"
          ]
        },
        {
          "output_type": "stream",
          "name": "stdout",
          "text": [
            "valid_loss=0.068, test_los0.043, Model Save\n",
            "epoch = 4, train_loss : 0.020, valid_loss : 0.068, test_loss : 0.043\n",
            "valid_loss=0.048, test_los0.033, Model Save\n",
            "epoch = 5, train_loss : 0.016, valid_loss : 0.048, test_loss : 0.033\n",
            "valid_loss=0.035, test_los0.027, Model Save\n",
            "epoch = 6, train_loss : 0.014, valid_loss : 0.035, test_loss : 0.027\n"
          ]
        },
        {
          "output_type": "stream",
          "name": "stderr",
          "text": [
            "\r 27%|██▋       | 8/30 [00:00<00:01, 12.43it/s]"
          ]
        },
        {
          "output_type": "stream",
          "name": "stdout",
          "text": [
            "valid_loss=0.026, test_los0.022, Model Save\n",
            "epoch = 7, train_loss : 0.012, valid_loss : 0.026, test_loss : 0.022\n",
            "valid_loss=0.021, test_los0.019, Model Save\n",
            "epoch = 8, train_loss : 0.011, valid_loss : 0.021, test_loss : 0.019\n",
            "valid_loss=0.017, test_los0.017, Model Save\n",
            "epoch = 9, train_loss : 0.010, valid_loss : 0.017, test_loss : 0.017\n"
          ]
        },
        {
          "output_type": "stream",
          "name": "stderr",
          "text": [
            " 40%|████      | 12/30 [00:00<00:01, 12.20it/s]"
          ]
        },
        {
          "output_type": "stream",
          "name": "stdout",
          "text": [
            "valid_loss=0.014, test_los0.016, Model Save\n",
            "epoch = 10, train_loss : 0.010, valid_loss : 0.014, test_loss : 0.016\n",
            "valid_loss=0.013, test_los0.015, Model Save\n",
            "epoch = 11, train_loss : 0.009, valid_loss : 0.013, test_loss : 0.015\n",
            "valid_loss=0.011, test_los0.014, Model Save\n",
            "epoch = 12, train_loss : 0.009, valid_loss : 0.011, test_loss : 0.014\n"
          ]
        },
        {
          "output_type": "stream",
          "name": "stderr",
          "text": [
            "\r 47%|████▋     | 14/30 [00:01<00:01, 11.69it/s]"
          ]
        },
        {
          "output_type": "stream",
          "name": "stdout",
          "text": [
            "valid_loss=0.011, test_los0.014, Model Save\n",
            "epoch = 13, train_loss : 0.009, valid_loss : 0.011, test_loss : 0.014\n",
            "valid_loss=0.010, test_los0.013, Model Save\n",
            "epoch = 14, train_loss : 0.008, valid_loss : 0.010, test_loss : 0.013\n",
            "valid_loss=0.010, test_los0.013, Model Save\n",
            "epoch = 15, train_loss : 0.008, valid_loss : 0.010, test_loss : 0.013\n"
          ]
        },
        {
          "output_type": "stream",
          "name": "stderr",
          "text": [
            " 60%|██████    | 18/30 [00:01<00:00, 12.28it/s]"
          ]
        },
        {
          "output_type": "stream",
          "name": "stdout",
          "text": [
            "valid_loss=0.010, test_los0.013, Model Save\n",
            "epoch = 16, train_loss : 0.008, valid_loss : 0.010, test_loss : 0.013\n",
            "valid_loss=0.009, test_los0.012, Model Save\n",
            "epoch = 17, train_loss : 0.008, valid_loss : 0.009, test_loss : 0.012\n",
            "valid_loss=0.009, test_los0.012, Model Save\n",
            "epoch = 18, train_loss : 0.008, valid_loss : 0.009, test_loss : 0.012\n"
          ]
        },
        {
          "output_type": "stream",
          "name": "stderr",
          "text": [
            "\r 67%|██████▋   | 20/30 [00:01<00:00, 11.97it/s]"
          ]
        },
        {
          "output_type": "stream",
          "name": "stdout",
          "text": [
            "valid_loss=0.009, test_los0.012, Model Save\n",
            "epoch = 19, train_loss : 0.008, valid_loss : 0.009, test_loss : 0.012\n",
            "valid_loss=0.009, test_los0.012, Model Save\n",
            "epoch = 20, train_loss : 0.008, valid_loss : 0.009, test_loss : 0.012\n",
            "valid_loss=0.009, test_los0.012, Model Save\n",
            "epoch = 21, train_loss : 0.008, valid_loss : 0.009, test_loss : 0.012\n"
          ]
        },
        {
          "output_type": "stream",
          "name": "stderr",
          "text": [
            " 80%|████████  | 24/30 [00:01<00:00, 12.06it/s]"
          ]
        },
        {
          "output_type": "stream",
          "name": "stdout",
          "text": [
            "valid_loss=0.009, test_los0.012, Model Save\n",
            "epoch = 22, train_loss : 0.008, valid_loss : 0.009, test_loss : 0.012\n",
            "valid_loss=0.009, test_los0.011, Model Save\n",
            "epoch = 23, train_loss : 0.008, valid_loss : 0.009, test_loss : 0.011\n",
            "valid_loss=0.009, test_los0.011, Model Save\n",
            "epoch = 24, train_loss : 0.008, valid_loss : 0.009, test_loss : 0.011\n"
          ]
        },
        {
          "output_type": "stream",
          "name": "stderr",
          "text": [
            "\r 87%|████████▋ | 26/30 [00:02<00:00, 11.63it/s]"
          ]
        },
        {
          "output_type": "stream",
          "name": "stdout",
          "text": [
            "valid_loss=0.008, test_los0.011, Model Save\n",
            "epoch = 25, train_loss : 0.007, valid_loss : 0.008, test_loss : 0.011\n",
            "valid_loss=0.008, test_los0.011, Model Save\n",
            "epoch = 26, train_loss : 0.007, valid_loss : 0.008, test_loss : 0.011\n",
            "valid_loss=0.008, test_los0.011, Model Save\n",
            "epoch = 27, train_loss : 0.007, valid_loss : 0.008, test_loss : 0.011\n"
          ]
        },
        {
          "output_type": "stream",
          "name": "stderr",
          "text": [
            "100%|██████████| 30/30 [00:02<00:00, 11.85it/s]"
          ]
        },
        {
          "output_type": "stream",
          "name": "stdout",
          "text": [
            "valid_loss=0.008, test_los0.011, Model Save\n",
            "epoch = 28, train_loss : 0.007, valid_loss : 0.008, test_loss : 0.011\n",
            "valid_loss=0.008, test_los0.011, Model Save\n",
            "epoch = 29, train_loss : 0.007, valid_loss : 0.008, test_loss : 0.011\n",
            "valid_loss=0.008, test_los0.011, Model Save\n",
            "epoch = 30, train_loss : 0.007, valid_loss : 0.008, test_loss : 0.011\n"
          ]
        },
        {
          "output_type": "stream",
          "name": "stderr",
          "text": [
            "\n",
            "  7%|▋         | 2/30 [00:00<00:02, 12.15it/s]"
          ]
        },
        {
          "output_type": "stream",
          "name": "stdout",
          "text": [
            "valid_loss=0.144, test_los0.120, Model Save\n",
            "epoch = 1, train_loss : 0.167, valid_loss : 0.144, test_loss : 0.120\n",
            "valid_loss=0.112, test_los0.092, Model Save\n",
            "epoch = 2, train_loss : 0.126, valid_loss : 0.112, test_loss : 0.092\n",
            "valid_loss=0.089, test_los0.072, Model Save\n",
            "epoch = 3, train_loss : 0.108, valid_loss : 0.089, test_loss : 0.072\n"
          ]
        },
        {
          "output_type": "stream",
          "name": "stderr",
          "text": [
            " 20%|██        | 6/30 [00:00<00:01, 12.64it/s]"
          ]
        },
        {
          "output_type": "stream",
          "name": "stdout",
          "text": [
            "valid_loss=0.072, test_los0.058, Model Save\n",
            "epoch = 4, train_loss : 0.094, valid_loss : 0.072, test_loss : 0.058\n",
            "valid_loss=0.059, test_los0.048, Model Save\n",
            "epoch = 5, train_loss : 0.083, valid_loss : 0.059, test_loss : 0.048\n",
            "valid_loss=0.050, test_los0.041, Model Save\n",
            "epoch = 6, train_loss : 0.076, valid_loss : 0.050, test_loss : 0.041\n"
          ]
        },
        {
          "output_type": "stream",
          "name": "stderr",
          "text": [
            "\r 27%|██▋       | 8/30 [00:00<00:01, 12.11it/s]"
          ]
        },
        {
          "output_type": "stream",
          "name": "stdout",
          "text": [
            "valid_loss=0.043, test_los0.036, Model Save\n",
            "epoch = 7, train_loss : 0.070, valid_loss : 0.043, test_loss : 0.036\n",
            "valid_loss=0.037, test_los0.032, Model Save\n",
            "epoch = 8, train_loss : 0.065, valid_loss : 0.037, test_loss : 0.032\n",
            "valid_loss=0.033, test_los0.029, Model Save\n",
            "epoch = 9, train_loss : 0.062, valid_loss : 0.033, test_loss : 0.029\n"
          ]
        },
        {
          "output_type": "stream",
          "name": "stderr",
          "text": [
            " 40%|████      | 12/30 [00:00<00:01, 12.34it/s]"
          ]
        },
        {
          "output_type": "stream",
          "name": "stdout",
          "text": [
            "valid_loss=0.030, test_los0.027, Model Save\n",
            "epoch = 10, train_loss : 0.059, valid_loss : 0.030, test_loss : 0.027\n",
            "valid_loss=0.028, test_los0.026, Model Save\n",
            "epoch = 11, train_loss : 0.057, valid_loss : 0.028, test_loss : 0.026\n",
            "valid_loss=0.026, test_los0.025, Model Save\n",
            "epoch = 12, train_loss : 0.055, valid_loss : 0.026, test_loss : 0.025\n"
          ]
        },
        {
          "output_type": "stream",
          "name": "stderr",
          "text": [
            "\r 47%|████▋     | 14/30 [00:01<00:01, 11.85it/s]"
          ]
        },
        {
          "output_type": "stream",
          "name": "stdout",
          "text": [
            "valid_loss=0.025, test_los0.024, Model Save\n",
            "epoch = 13, train_loss : 0.054, valid_loss : 0.025, test_loss : 0.024\n",
            "valid_loss=0.024, test_los0.023, Model Save\n",
            "epoch = 14, train_loss : 0.053, valid_loss : 0.024, test_loss : 0.023\n",
            "valid_loss=0.023, test_los0.023, Model Save\n",
            "epoch = 15, train_loss : 0.052, valid_loss : 0.023, test_loss : 0.023\n"
          ]
        },
        {
          "output_type": "stream",
          "name": "stderr",
          "text": [
            " 60%|██████    | 18/30 [00:01<00:00, 12.30it/s]"
          ]
        },
        {
          "output_type": "stream",
          "name": "stdout",
          "text": [
            "valid_loss=0.022, test_los0.023, Model Save\n",
            "epoch = 16, train_loss : 0.051, valid_loss : 0.022, test_loss : 0.023\n",
            "valid_loss=0.022, test_los0.022, Model Save\n",
            "epoch = 17, train_loss : 0.050, valid_loss : 0.022, test_loss : 0.022\n",
            "valid_loss=0.021, test_los0.022, Model Save\n",
            "epoch = 18, train_loss : 0.050, valid_loss : 0.021, test_loss : 0.022\n"
          ]
        },
        {
          "output_type": "stream",
          "name": "stderr",
          "text": [
            "\r 67%|██████▋   | 20/30 [00:01<00:00, 12.32it/s]"
          ]
        },
        {
          "output_type": "stream",
          "name": "stdout",
          "text": [
            "valid_loss=0.021, test_los0.022, Model Save\n",
            "epoch = 19, train_loss : 0.049, valid_loss : 0.021, test_loss : 0.022\n",
            "valid_loss=0.021, test_los0.022, Model Save\n",
            "epoch = 20, train_loss : 0.049, valid_loss : 0.021, test_loss : 0.022\n",
            "valid_loss=0.021, test_los0.022, Model Save\n",
            "epoch = 21, train_loss : 0.048, valid_loss : 0.021, test_loss : 0.022\n"
          ]
        },
        {
          "output_type": "stream",
          "name": "stderr",
          "text": [
            " 80%|████████  | 24/30 [00:01<00:00, 12.69it/s]"
          ]
        },
        {
          "output_type": "stream",
          "name": "stdout",
          "text": [
            "valid_loss=0.020, test_los0.021, Model Save\n",
            "epoch = 22, train_loss : 0.048, valid_loss : 0.020, test_loss : 0.021\n",
            "valid_loss=0.020, test_los0.021, Model Save\n",
            "epoch = 23, train_loss : 0.048, valid_loss : 0.020, test_loss : 0.021\n",
            "valid_loss=0.020, test_los0.021, Model Save\n",
            "epoch = 24, train_loss : 0.047, valid_loss : 0.020, test_loss : 0.021\n"
          ]
        },
        {
          "output_type": "stream",
          "name": "stderr",
          "text": [
            "\r 87%|████████▋ | 26/30 [00:02<00:00, 12.03it/s]"
          ]
        },
        {
          "output_type": "stream",
          "name": "stdout",
          "text": [
            "valid_loss=0.020, test_los0.021, Model Save\n",
            "epoch = 25, train_loss : 0.047, valid_loss : 0.020, test_loss : 0.021\n",
            "valid_loss=0.020, test_los0.021, Model Save\n",
            "epoch = 26, train_loss : 0.047, valid_loss : 0.020, test_loss : 0.021\n",
            "valid_loss=0.020, test_los0.021, Model Save\n",
            "epoch = 27, train_loss : 0.047, valid_loss : 0.020, test_loss : 0.021\n"
          ]
        },
        {
          "output_type": "stream",
          "name": "stderr",
          "text": [
            "100%|██████████| 30/30 [00:02<00:00, 12.21it/s]"
          ]
        },
        {
          "output_type": "stream",
          "name": "stdout",
          "text": [
            "valid_loss=0.020, test_los0.021, Model Save\n",
            "epoch = 28, train_loss : 0.046, valid_loss : 0.020, test_loss : 0.021\n",
            "valid_loss=0.020, test_los0.021, Model Save\n",
            "epoch = 29, train_loss : 0.046, valid_loss : 0.020, test_loss : 0.021\n",
            "valid_loss=0.020, test_los0.021, Model Save\n",
            "epoch = 30, train_loss : 0.046, valid_loss : 0.020, test_loss : 0.021\n"
          ]
        },
        {
          "output_type": "stream",
          "name": "stderr",
          "text": [
            "\n",
            "  7%|▋         | 2/30 [00:00<00:01, 14.01it/s]"
          ]
        },
        {
          "output_type": "stream",
          "name": "stdout",
          "text": [
            "valid_loss=0.073, test_los0.060, Model Save\n",
            "epoch = 1, train_loss : 0.099, valid_loss : 0.073, test_loss : 0.060\n",
            "valid_loss=0.059, test_los0.051, Model Save\n",
            "epoch = 2, train_loss : 0.079, valid_loss : 0.059, test_loss : 0.051\n",
            "valid_loss=0.052, test_los0.045, Model Save\n",
            "epoch = 3, train_loss : 0.071, valid_loss : 0.052, test_loss : 0.045\n"
          ]
        },
        {
          "output_type": "stream",
          "name": "stderr",
          "text": [
            " 20%|██        | 6/30 [00:00<00:02, 11.87it/s]"
          ]
        },
        {
          "output_type": "stream",
          "name": "stdout",
          "text": [
            "valid_loss=0.047, test_los0.042, Model Save\n",
            "epoch = 4, train_loss : 0.066, valid_loss : 0.047, test_loss : 0.042\n",
            "valid_loss=0.044, test_los0.040, Model Save\n",
            "epoch = 5, train_loss : 0.062, valid_loss : 0.044, test_loss : 0.040\n",
            "valid_loss=0.042, test_los0.039, Model Save\n",
            "epoch = 6, train_loss : 0.059, valid_loss : 0.042, test_loss : 0.039\n"
          ]
        },
        {
          "output_type": "stream",
          "name": "stderr",
          "text": [
            "\r 27%|██▋       | 8/30 [00:00<00:01, 11.16it/s]"
          ]
        },
        {
          "output_type": "stream",
          "name": "stdout",
          "text": [
            "valid_loss=0.040, test_los0.038, Model Save\n",
            "epoch = 7, train_loss : 0.057, valid_loss : 0.040, test_loss : 0.038\n",
            "valid_loss=0.038, test_los0.038, Model Save\n",
            "epoch = 8, train_loss : 0.056, valid_loss : 0.038, test_loss : 0.038\n"
          ]
        },
        {
          "output_type": "stream",
          "name": "stderr",
          "text": [
            "\r 33%|███▎      | 10/30 [00:00<00:02,  9.02it/s]"
          ]
        },
        {
          "output_type": "stream",
          "name": "stdout",
          "text": [
            "valid_loss=0.037, test_los0.037, Model Save\n",
            "epoch = 9, train_loss : 0.054, valid_loss : 0.037, test_loss : 0.037\n",
            "valid_loss=0.036, test_los0.037, Model Save\n",
            "epoch = 10, train_loss : 0.053, valid_loss : 0.036, test_loss : 0.037\n"
          ]
        },
        {
          "output_type": "stream",
          "name": "stderr",
          "text": [
            " 40%|████      | 12/30 [00:01<00:02,  8.54it/s]"
          ]
        },
        {
          "output_type": "stream",
          "name": "stdout",
          "text": [
            "valid_loss=0.036, test_los0.036, Model Save\n",
            "epoch = 11, train_loss : 0.053, valid_loss : 0.036, test_loss : 0.036\n",
            "valid_loss=0.035, test_los0.036, Model Save\n",
            "epoch = 12, train_loss : 0.052, valid_loss : 0.035, test_loss : 0.036\n"
          ]
        },
        {
          "output_type": "stream",
          "name": "stderr",
          "text": [
            " 47%|████▋     | 14/30 [00:01<00:01,  8.25it/s]"
          ]
        },
        {
          "output_type": "stream",
          "name": "stdout",
          "text": [
            "valid_loss=0.035, test_los0.036, Model Save\n",
            "epoch = 13, train_loss : 0.051, valid_loss : 0.035, test_loss : 0.036\n",
            "valid_loss=0.034, test_los0.036, Model Save\n",
            "epoch = 14, train_loss : 0.051, valid_loss : 0.034, test_loss : 0.036\n"
          ]
        },
        {
          "output_type": "stream",
          "name": "stderr",
          "text": [
            " 53%|█████▎    | 16/30 [00:01<00:01,  8.59it/s]"
          ]
        },
        {
          "output_type": "stream",
          "name": "stdout",
          "text": [
            "valid_loss=0.034, test_los0.036, Model Save\n",
            "epoch = 15, train_loss : 0.050, valid_loss : 0.034, test_loss : 0.036\n",
            "valid_loss=0.033, test_los0.036, Model Save\n",
            "epoch = 16, train_loss : 0.050, valid_loss : 0.033, test_loss : 0.036\n"
          ]
        },
        {
          "output_type": "stream",
          "name": "stderr",
          "text": [
            " 60%|██████    | 18/30 [00:01<00:01,  8.37it/s]"
          ]
        },
        {
          "output_type": "stream",
          "name": "stdout",
          "text": [
            "valid_loss=0.033, test_los0.036, Model Save\n",
            "epoch = 17, train_loss : 0.049, valid_loss : 0.033, test_loss : 0.036\n",
            "valid_loss=0.033, test_los0.035, Model Save\n",
            "epoch = 18, train_loss : 0.049, valid_loss : 0.033, test_loss : 0.035\n"
          ]
        },
        {
          "output_type": "stream",
          "name": "stderr",
          "text": [
            " 67%|██████▋   | 20/30 [00:02<00:01,  8.95it/s]"
          ]
        },
        {
          "output_type": "stream",
          "name": "stdout",
          "text": [
            "valid_loss=0.033, test_los0.035, Model Save\n",
            "epoch = 19, train_loss : 0.049, valid_loss : 0.033, test_loss : 0.035\n",
            "valid_loss=0.032, test_los0.035, Model Save\n",
            "epoch = 20, train_loss : 0.048, valid_loss : 0.032, test_loss : 0.035\n"
          ]
        },
        {
          "output_type": "stream",
          "name": "stderr",
          "text": [
            " 73%|███████▎  | 22/30 [00:02<00:00,  8.67it/s]"
          ]
        },
        {
          "output_type": "stream",
          "name": "stdout",
          "text": [
            "valid_loss=0.032, test_los0.035, Model Save\n",
            "epoch = 21, train_loss : 0.048, valid_loss : 0.032, test_loss : 0.035\n",
            "valid_loss=0.032, test_los0.035, Model Save\n",
            "epoch = 22, train_loss : 0.048, valid_loss : 0.032, test_loss : 0.035\n"
          ]
        },
        {
          "output_type": "stream",
          "name": "stderr",
          "text": [
            " 80%|████████  | 24/30 [00:02<00:00,  8.04it/s]"
          ]
        },
        {
          "output_type": "stream",
          "name": "stdout",
          "text": [
            "valid_loss=0.032, test_los0.035, Model Save\n",
            "epoch = 23, train_loss : 0.048, valid_loss : 0.032, test_loss : 0.035\n",
            "valid_loss=0.032, test_los0.035, Model Save\n",
            "epoch = 24, train_loss : 0.047, valid_loss : 0.032, test_loss : 0.035\n"
          ]
        },
        {
          "output_type": "stream",
          "name": "stderr",
          "text": [
            " 87%|████████▋ | 26/30 [00:02<00:00,  7.57it/s]"
          ]
        },
        {
          "output_type": "stream",
          "name": "stdout",
          "text": [
            "valid_loss=0.031, test_los0.035, Model Save\n",
            "epoch = 25, train_loss : 0.047, valid_loss : 0.031, test_loss : 0.035\n",
            "valid_loss=0.031, test_los0.035, Model Save\n",
            "epoch = 26, train_loss : 0.047, valid_loss : 0.031, test_loss : 0.035\n"
          ]
        },
        {
          "output_type": "stream",
          "name": "stderr",
          "text": [
            " 93%|█████████▎| 28/30 [00:03<00:00,  7.62it/s]"
          ]
        },
        {
          "output_type": "stream",
          "name": "stdout",
          "text": [
            "valid_loss=0.031, test_los0.035, Model Save\n",
            "epoch = 27, train_loss : 0.047, valid_loss : 0.031, test_loss : 0.035\n",
            "valid_loss=0.031, test_los0.035, Model Save\n",
            "epoch = 28, train_loss : 0.047, valid_loss : 0.031, test_loss : 0.035\n"
          ]
        },
        {
          "output_type": "stream",
          "name": "stderr",
          "text": [
            "100%|██████████| 30/30 [00:03<00:00,  8.55it/s]"
          ]
        },
        {
          "output_type": "stream",
          "name": "stdout",
          "text": [
            "valid_loss=0.031, test_los0.035, Model Save\n",
            "epoch = 29, train_loss : 0.047, valid_loss : 0.031, test_loss : 0.035\n",
            "valid_loss=0.031, test_los0.035, Model Save\n",
            "epoch = 30, train_loss : 0.046, valid_loss : 0.031, test_loss : 0.035\n"
          ]
        },
        {
          "output_type": "stream",
          "name": "stderr",
          "text": [
            "\n",
            "  7%|▋         | 2/30 [00:00<00:03,  7.80it/s]"
          ]
        },
        {
          "output_type": "stream",
          "name": "stdout",
          "text": [
            "valid_loss=0.964, test_los3.792, Model Save\n",
            "epoch = 1, train_loss : 0.129, valid_loss : 0.964, test_loss : 3.792\n",
            "epoch = 2, train_loss : 0.063, valid_loss : 1.513, test_loss : 7.961\n"
          ]
        },
        {
          "output_type": "stream",
          "name": "stderr",
          "text": [
            " 13%|█▎        | 4/30 [00:00<00:03,  7.85it/s]"
          ]
        },
        {
          "output_type": "stream",
          "name": "stdout",
          "text": [
            "epoch = 3, train_loss : 0.027, valid_loss : 2.106, test_loss : 12.395\n",
            "epoch = 4, train_loss : 0.011, valid_loss : 2.615, test_loss : 16.114\n"
          ]
        },
        {
          "output_type": "stream",
          "name": "stderr",
          "text": [
            " 20%|██        | 6/30 [00:00<00:03,  7.23it/s]"
          ]
        },
        {
          "output_type": "stream",
          "name": "stdout",
          "text": [
            "epoch = 5, train_loss : 0.004, valid_loss : 2.975, test_loss : 18.725\n",
            "epoch = 6, train_loss : 0.001, valid_loss : 3.202, test_loss : 20.361\n"
          ]
        },
        {
          "output_type": "stream",
          "name": "stderr",
          "text": [
            " 27%|██▋       | 8/30 [00:01<00:02,  7.38it/s]"
          ]
        },
        {
          "output_type": "stream",
          "name": "stdout",
          "text": [
            "epoch = 7, train_loss : 0.000, valid_loss : 3.334, test_loss : 21.308\n",
            "epoch = 8, train_loss : 0.000, valid_loss : 3.406, test_loss : 21.822\n"
          ]
        },
        {
          "output_type": "stream",
          "name": "stderr",
          "text": [
            " 33%|███▎      | 10/30 [00:01<00:02,  7.45it/s]"
          ]
        },
        {
          "output_type": "stream",
          "name": "stdout",
          "text": [
            "epoch = 9, train_loss : 0.000, valid_loss : 3.444, test_loss : 22.086\n",
            "epoch = 10, train_loss : 0.000, valid_loss : 3.462, test_loss : 22.214\n"
          ]
        },
        {
          "output_type": "stream",
          "name": "stderr",
          "text": [
            "\r 40%|████      | 12/30 [00:01<00:01,  9.07it/s]"
          ]
        },
        {
          "output_type": "stream",
          "name": "stdout",
          "text": [
            "epoch = 11, train_loss : 0.000, valid_loss : 3.470, test_loss : 22.273\n",
            "epoch = 12, train_loss : 0.000, valid_loss : 3.474, test_loss : 22.298\n",
            "epoch = 13, train_loss : 0.000, valid_loss : 3.475, test_loss : 22.308\n"
          ]
        },
        {
          "output_type": "stream",
          "name": "stderr",
          "text": [
            " 53%|█████▎    | 16/30 [00:01<00:01, 10.84it/s]"
          ]
        },
        {
          "output_type": "stream",
          "name": "stdout",
          "text": [
            "epoch = 14, train_loss : 0.000, valid_loss : 3.476, test_loss : 22.312\n",
            "epoch = 15, train_loss : 0.000, valid_loss : 3.476, test_loss : 22.313\n",
            "epoch = 16, train_loss : 0.000, valid_loss : 3.476, test_loss : 22.313\n"
          ]
        },
        {
          "output_type": "stream",
          "name": "stderr",
          "text": [
            "\r 60%|██████    | 18/30 [00:02<00:01, 11.27it/s]"
          ]
        },
        {
          "output_type": "stream",
          "name": "stdout",
          "text": [
            "epoch = 17, train_loss : 0.000, valid_loss : 3.476, test_loss : 22.313\n",
            "epoch = 18, train_loss : 0.000, valid_loss : 3.476, test_loss : 22.314\n",
            "epoch = 19, train_loss : 0.000, valid_loss : 3.476, test_loss : 22.314\n"
          ]
        },
        {
          "output_type": "stream",
          "name": "stderr",
          "text": [
            " 73%|███████▎  | 22/30 [00:02<00:00, 12.17it/s]"
          ]
        },
        {
          "output_type": "stream",
          "name": "stdout",
          "text": [
            "epoch = 20, train_loss : 0.000, valid_loss : 3.476, test_loss : 22.314\n",
            "epoch = 21, train_loss : 0.000, valid_loss : 3.476, test_loss : 22.314\n",
            "epoch = 22, train_loss : 0.000, valid_loss : 3.476, test_loss : 22.314\n"
          ]
        },
        {
          "output_type": "stream",
          "name": "stderr",
          "text": [
            "\r 80%|████████  | 24/30 [00:02<00:00, 11.75it/s]"
          ]
        },
        {
          "output_type": "stream",
          "name": "stdout",
          "text": [
            "epoch = 23, train_loss : 0.000, valid_loss : 3.476, test_loss : 22.314\n",
            "epoch = 24, train_loss : 0.000, valid_loss : 3.476, test_loss : 22.314\n",
            "epoch = 25, train_loss : 0.000, valid_loss : 3.476, test_loss : 22.314\n"
          ]
        },
        {
          "output_type": "stream",
          "name": "stderr",
          "text": [
            " 93%|█████████▎| 28/30 [00:02<00:00, 11.16it/s]"
          ]
        },
        {
          "output_type": "stream",
          "name": "stdout",
          "text": [
            "epoch = 26, train_loss : 0.000, valid_loss : 3.476, test_loss : 22.314\n",
            "epoch = 27, train_loss : 0.000, valid_loss : 3.476, test_loss : 22.314\n",
            "epoch = 28, train_loss : 0.000, valid_loss : 3.476, test_loss : 22.314\n"
          ]
        },
        {
          "output_type": "stream",
          "name": "stderr",
          "text": [
            "100%|██████████| 30/30 [00:03<00:00,  9.88it/s]\n"
          ]
        },
        {
          "output_type": "stream",
          "name": "stdout",
          "text": [
            "epoch = 29, train_loss : 0.000, valid_loss : 3.476, test_loss : 22.314\n",
            "epoch = 30, train_loss : 0.000, valid_loss : 3.476, test_loss : 22.314\n"
          ]
        },
        {
          "output_type": "stream",
          "name": "stderr",
          "text": [
            "  7%|▋         | 2/30 [00:00<00:02, 12.66it/s]"
          ]
        },
        {
          "output_type": "stream",
          "name": "stdout",
          "text": [
            "valid_loss=0.047, test_los0.038, Model Save\n",
            "epoch = 1, train_loss : 0.063, valid_loss : 0.047, test_loss : 0.038\n",
            "valid_loss=0.038, test_los0.039, Model Save\n",
            "epoch = 2, train_loss : 0.036, valid_loss : 0.038, test_loss : 0.039\n",
            "valid_loss=0.034, test_los0.036, Model Save\n",
            "epoch = 3, train_loss : 0.029, valid_loss : 0.034, test_loss : 0.036\n"
          ]
        },
        {
          "output_type": "stream",
          "name": "stderr",
          "text": [
            " 20%|██        | 6/30 [00:00<00:02, 11.87it/s]"
          ]
        },
        {
          "output_type": "stream",
          "name": "stdout",
          "text": [
            "valid_loss=0.031, test_los0.033, Model Save\n",
            "epoch = 4, train_loss : 0.025, valid_loss : 0.031, test_loss : 0.033\n",
            "valid_loss=0.029, test_los0.030, Model Save\n",
            "epoch = 5, train_loss : 0.021, valid_loss : 0.029, test_loss : 0.030\n",
            "valid_loss=0.028, test_los0.028, Model Save\n",
            "epoch = 6, train_loss : 0.019, valid_loss : 0.028, test_loss : 0.028\n"
          ]
        },
        {
          "output_type": "stream",
          "name": "stderr",
          "text": [
            "\r 27%|██▋       | 8/30 [00:00<00:01, 11.80it/s]"
          ]
        },
        {
          "output_type": "stream",
          "name": "stdout",
          "text": [
            "valid_loss=0.027, test_los0.027, Model Save\n",
            "epoch = 7, train_loss : 0.017, valid_loss : 0.027, test_loss : 0.027\n",
            "valid_loss=0.026, test_los0.027, Model Save\n",
            "epoch = 8, train_loss : 0.016, valid_loss : 0.026, test_loss : 0.027\n",
            "valid_loss=0.026, test_los0.026, Model Save\n",
            "epoch = 9, train_loss : 0.016, valid_loss : 0.026, test_loss : 0.026\n"
          ]
        },
        {
          "output_type": "stream",
          "name": "stderr",
          "text": [
            " 40%|████      | 12/30 [00:01<00:01, 11.94it/s]"
          ]
        },
        {
          "output_type": "stream",
          "name": "stdout",
          "text": [
            "valid_loss=0.026, test_los0.026, Model Save\n",
            "epoch = 10, train_loss : 0.016, valid_loss : 0.026, test_loss : 0.026\n",
            "valid_loss=0.025, test_los0.026, Model Save\n",
            "epoch = 11, train_loss : 0.015, valid_loss : 0.025, test_loss : 0.026\n",
            "valid_loss=0.025, test_los0.025, Model Save\n",
            "epoch = 12, train_loss : 0.015, valid_loss : 0.025, test_loss : 0.025\n"
          ]
        },
        {
          "output_type": "stream",
          "name": "stderr",
          "text": [
            "\r 47%|████▋     | 14/30 [00:01<00:01, 11.95it/s]"
          ]
        },
        {
          "output_type": "stream",
          "name": "stdout",
          "text": [
            "valid_loss=0.025, test_los0.025, Model Save\n",
            "epoch = 13, train_loss : 0.015, valid_loss : 0.025, test_loss : 0.025\n",
            "valid_loss=0.024, test_los0.025, Model Save\n",
            "epoch = 14, train_loss : 0.015, valid_loss : 0.024, test_loss : 0.025\n",
            "valid_loss=0.024, test_los0.024, Model Save\n",
            "epoch = 15, train_loss : 0.015, valid_loss : 0.024, test_loss : 0.024\n"
          ]
        },
        {
          "output_type": "stream",
          "name": "stderr",
          "text": [
            " 60%|██████    | 18/30 [00:01<00:01, 11.27it/s]"
          ]
        },
        {
          "output_type": "stream",
          "name": "stdout",
          "text": [
            "valid_loss=0.024, test_los0.024, Model Save\n",
            "epoch = 16, train_loss : 0.015, valid_loss : 0.024, test_loss : 0.024\n",
            "valid_loss=0.024, test_los0.024, Model Save\n",
            "epoch = 17, train_loss : 0.015, valid_loss : 0.024, test_loss : 0.024\n",
            "valid_loss=0.024, test_los0.024, Model Save\n",
            "epoch = 18, train_loss : 0.014, valid_loss : 0.024, test_loss : 0.024\n"
          ]
        },
        {
          "output_type": "stream",
          "name": "stderr",
          "text": [
            "\r 67%|██████▋   | 20/30 [00:01<00:00, 11.49it/s]"
          ]
        },
        {
          "output_type": "stream",
          "name": "stdout",
          "text": [
            "valid_loss=0.023, test_los0.024, Model Save\n",
            "epoch = 19, train_loss : 0.014, valid_loss : 0.023, test_loss : 0.024\n",
            "valid_loss=0.023, test_los0.023, Model Save\n",
            "epoch = 20, train_loss : 0.014, valid_loss : 0.023, test_loss : 0.023\n",
            "valid_loss=0.023, test_los0.023, Model Save\n",
            "epoch = 21, train_loss : 0.014, valid_loss : 0.023, test_loss : 0.023\n"
          ]
        },
        {
          "output_type": "stream",
          "name": "stderr",
          "text": [
            " 80%|████████  | 24/30 [00:02<00:00, 12.12it/s]"
          ]
        },
        {
          "output_type": "stream",
          "name": "stdout",
          "text": [
            "valid_loss=0.023, test_los0.023, Model Save\n",
            "epoch = 22, train_loss : 0.014, valid_loss : 0.023, test_loss : 0.023\n",
            "valid_loss=0.023, test_los0.023, Model Save\n",
            "epoch = 23, train_loss : 0.014, valid_loss : 0.023, test_loss : 0.023\n",
            "valid_loss=0.023, test_los0.023, Model Save\n",
            "epoch = 24, train_loss : 0.014, valid_loss : 0.023, test_loss : 0.023\n"
          ]
        },
        {
          "output_type": "stream",
          "name": "stderr",
          "text": [
            "\r 87%|████████▋ | 26/30 [00:02<00:00, 12.09it/s]"
          ]
        },
        {
          "output_type": "stream",
          "name": "stdout",
          "text": [
            "valid_loss=0.023, test_los0.023, Model Save\n",
            "epoch = 25, train_loss : 0.014, valid_loss : 0.023, test_loss : 0.023\n",
            "valid_loss=0.022, test_los0.023, Model Save\n",
            "epoch = 26, train_loss : 0.014, valid_loss : 0.022, test_loss : 0.023\n",
            "valid_loss=0.022, test_los0.023, Model Save\n",
            "epoch = 27, train_loss : 0.014, valid_loss : 0.022, test_loss : 0.023\n"
          ]
        },
        {
          "output_type": "stream",
          "name": "stderr",
          "text": [
            "100%|██████████| 30/30 [00:02<00:00, 11.74it/s]"
          ]
        },
        {
          "output_type": "stream",
          "name": "stdout",
          "text": [
            "valid_loss=0.022, test_los0.023, Model Save\n",
            "epoch = 28, train_loss : 0.014, valid_loss : 0.022, test_loss : 0.023\n",
            "valid_loss=0.022, test_los0.022, Model Save\n",
            "epoch = 29, train_loss : 0.014, valid_loss : 0.022, test_loss : 0.022\n",
            "valid_loss=0.022, test_los0.022, Model Save\n",
            "epoch = 30, train_loss : 0.014, valid_loss : 0.022, test_loss : 0.022\n"
          ]
        },
        {
          "output_type": "stream",
          "name": "stderr",
          "text": [
            "\n",
            "  7%|▋         | 2/30 [00:00<00:02, 13.76it/s]"
          ]
        },
        {
          "output_type": "stream",
          "name": "stdout",
          "text": [
            "valid_loss=0.258, test_los0.504, Model Save\n",
            "epoch = 1, train_loss : 0.143, valid_loss : 0.258, test_loss : 0.504\n",
            "valid_loss=0.216, test_los0.439, Model Save\n",
            "epoch = 2, train_loss : 0.102, valid_loss : 0.216, test_loss : 0.439\n",
            "valid_loss=0.170, test_los0.340, Model Save\n",
            "epoch = 3, train_loss : 0.085, valid_loss : 0.170, test_loss : 0.340\n"
          ]
        },
        {
          "output_type": "stream",
          "name": "stderr",
          "text": [
            " 20%|██        | 6/30 [00:00<00:01, 12.14it/s]"
          ]
        },
        {
          "output_type": "stream",
          "name": "stdout",
          "text": [
            "valid_loss=0.132, test_los0.256, Model Save\n",
            "epoch = 4, train_loss : 0.073, valid_loss : 0.132, test_loss : 0.256\n",
            "valid_loss=0.104, test_los0.192, Model Save\n",
            "epoch = 5, train_loss : 0.065, valid_loss : 0.104, test_loss : 0.192\n",
            "valid_loss=0.083, test_los0.146, Model Save\n",
            "epoch = 6, train_loss : 0.058, valid_loss : 0.083, test_loss : 0.146\n"
          ]
        },
        {
          "output_type": "stream",
          "name": "stderr",
          "text": [
            "\r 27%|██▋       | 8/30 [00:00<00:01, 12.39it/s]"
          ]
        },
        {
          "output_type": "stream",
          "name": "stdout",
          "text": [
            "valid_loss=0.068, test_los0.113, Model Save\n",
            "epoch = 7, train_loss : 0.053, valid_loss : 0.068, test_loss : 0.113\n",
            "valid_loss=0.058, test_los0.089, Model Save\n",
            "epoch = 8, train_loss : 0.049, valid_loss : 0.058, test_loss : 0.089\n",
            "valid_loss=0.050, test_los0.073, Model Save\n",
            "epoch = 9, train_loss : 0.047, valid_loss : 0.050, test_loss : 0.073\n"
          ]
        },
        {
          "output_type": "stream",
          "name": "stderr",
          "text": [
            " 40%|████      | 12/30 [00:00<00:01, 12.76it/s]"
          ]
        },
        {
          "output_type": "stream",
          "name": "stdout",
          "text": [
            "valid_loss=0.045, test_los0.062, Model Save\n",
            "epoch = 10, train_loss : 0.045, valid_loss : 0.045, test_loss : 0.062\n",
            "valid_loss=0.041, test_los0.054, Model Save\n",
            "epoch = 11, train_loss : 0.043, valid_loss : 0.041, test_loss : 0.054\n",
            "valid_loss=0.039, test_los0.049, Model Save\n",
            "epoch = 12, train_loss : 0.042, valid_loss : 0.039, test_loss : 0.049\n"
          ]
        },
        {
          "output_type": "stream",
          "name": "stderr",
          "text": [
            "\r 47%|████▋     | 14/30 [00:01<00:01, 12.44it/s]"
          ]
        },
        {
          "output_type": "stream",
          "name": "stdout",
          "text": [
            "valid_loss=0.037, test_los0.046, Model Save\n",
            "epoch = 13, train_loss : 0.041, valid_loss : 0.037, test_loss : 0.046\n",
            "valid_loss=0.036, test_los0.044, Model Save\n",
            "epoch = 14, train_loss : 0.041, valid_loss : 0.036, test_loss : 0.044\n",
            "valid_loss=0.035, test_los0.043, Model Save\n",
            "epoch = 15, train_loss : 0.040, valid_loss : 0.035, test_loss : 0.043\n"
          ]
        },
        {
          "output_type": "stream",
          "name": "stderr",
          "text": [
            " 60%|██████    | 18/30 [00:01<00:00, 12.20it/s]"
          ]
        },
        {
          "output_type": "stream",
          "name": "stdout",
          "text": [
            "valid_loss=0.035, test_los0.042, Model Save\n",
            "epoch = 16, train_loss : 0.040, valid_loss : 0.035, test_loss : 0.042\n",
            "valid_loss=0.034, test_los0.041, Model Save\n",
            "epoch = 17, train_loss : 0.039, valid_loss : 0.034, test_loss : 0.041\n",
            "valid_loss=0.034, test_los0.041, Model Save\n",
            "epoch = 18, train_loss : 0.039, valid_loss : 0.034, test_loss : 0.041\n"
          ]
        },
        {
          "output_type": "stream",
          "name": "stderr",
          "text": [
            "\r 67%|██████▋   | 20/30 [00:01<00:00, 11.63it/s]"
          ]
        },
        {
          "output_type": "stream",
          "name": "stdout",
          "text": [
            "valid_loss=0.034, test_los0.041, Model Save\n",
            "epoch = 19, train_loss : 0.039, valid_loss : 0.034, test_loss : 0.041\n",
            "valid_loss=0.034, test_los0.041, Model Save\n",
            "epoch = 20, train_loss : 0.038, valid_loss : 0.034, test_loss : 0.041\n",
            "valid_loss=0.033, test_los0.041, Model Save\n",
            "epoch = 21, train_loss : 0.038, valid_loss : 0.033, test_loss : 0.041\n"
          ]
        },
        {
          "output_type": "stream",
          "name": "stderr",
          "text": [
            " 80%|████████  | 24/30 [00:01<00:00, 12.17it/s]"
          ]
        },
        {
          "output_type": "stream",
          "name": "stdout",
          "text": [
            "valid_loss=0.033, test_los0.041, Model Save\n",
            "epoch = 22, train_loss : 0.038, valid_loss : 0.033, test_loss : 0.041\n",
            "valid_loss=0.033, test_los0.041, Model Save\n",
            "epoch = 23, train_loss : 0.038, valid_loss : 0.033, test_loss : 0.041\n",
            "valid_loss=0.033, test_los0.041, Model Save\n",
            "epoch = 24, train_loss : 0.038, valid_loss : 0.033, test_loss : 0.041\n"
          ]
        },
        {
          "output_type": "stream",
          "name": "stderr",
          "text": [
            "\r 87%|████████▋ | 26/30 [00:02<00:00, 11.71it/s]"
          ]
        },
        {
          "output_type": "stream",
          "name": "stdout",
          "text": [
            "valid_loss=0.033, test_los0.041, Model Save\n",
            "epoch = 25, train_loss : 0.038, valid_loss : 0.033, test_loss : 0.041\n",
            "valid_loss=0.033, test_los0.041, Model Save\n",
            "epoch = 26, train_loss : 0.038, valid_loss : 0.033, test_loss : 0.041\n",
            "valid_loss=0.033, test_los0.041, Model Save\n",
            "epoch = 27, train_loss : 0.037, valid_loss : 0.033, test_loss : 0.041\n"
          ]
        },
        {
          "output_type": "stream",
          "name": "stderr",
          "text": [
            "100%|██████████| 30/30 [00:02<00:00, 11.98it/s]"
          ]
        },
        {
          "output_type": "stream",
          "name": "stdout",
          "text": [
            "valid_loss=0.033, test_los0.041, Model Save\n",
            "epoch = 28, train_loss : 0.037, valid_loss : 0.033, test_loss : 0.041\n",
            "valid_loss=0.032, test_los0.041, Model Save\n",
            "epoch = 29, train_loss : 0.037, valid_loss : 0.032, test_loss : 0.041\n",
            "valid_loss=0.032, test_los0.041, Model Save\n",
            "epoch = 30, train_loss : 0.037, valid_loss : 0.032, test_loss : 0.041\n"
          ]
        },
        {
          "output_type": "stream",
          "name": "stderr",
          "text": [
            "\n",
            "  7%|▋         | 2/30 [00:00<00:02, 12.96it/s]"
          ]
        },
        {
          "output_type": "stream",
          "name": "stdout",
          "text": [
            "valid_loss=0.053, test_los0.092, Model Save\n",
            "epoch = 1, train_loss : 0.111, valid_loss : 0.053, test_loss : 0.092\n",
            "epoch = 2, train_loss : 0.058, valid_loss : 0.059, test_loss : 0.115\n",
            "epoch = 3, train_loss : 0.046, valid_loss : 0.055, test_loss : 0.115\n"
          ]
        },
        {
          "output_type": "stream",
          "name": "stderr",
          "text": [
            " 20%|██        | 6/30 [00:00<00:01, 13.20it/s]"
          ]
        },
        {
          "output_type": "stream",
          "name": "stdout",
          "text": [
            "valid_loss=0.047, test_los0.103, Model Save\n",
            "epoch = 4, train_loss : 0.040, valid_loss : 0.047, test_loss : 0.103\n",
            "valid_loss=0.039, test_los0.090, Model Save\n",
            "epoch = 5, train_loss : 0.036, valid_loss : 0.039, test_loss : 0.090\n",
            "valid_loss=0.033, test_los0.079, Model Save\n",
            "epoch = 6, train_loss : 0.032, valid_loss : 0.033, test_loss : 0.079\n"
          ]
        },
        {
          "output_type": "stream",
          "name": "stderr",
          "text": [
            "\r 27%|██▋       | 8/30 [00:00<00:01, 12.75it/s]"
          ]
        },
        {
          "output_type": "stream",
          "name": "stdout",
          "text": [
            "valid_loss=0.028, test_los0.070, Model Save\n",
            "epoch = 7, train_loss : 0.029, valid_loss : 0.028, test_loss : 0.070\n",
            "valid_loss=0.025, test_los0.064, Model Save\n",
            "epoch = 8, train_loss : 0.027, valid_loss : 0.025, test_loss : 0.064\n",
            "valid_loss=0.023, test_los0.059, Model Save\n",
            "epoch = 9, train_loss : 0.025, valid_loss : 0.023, test_loss : 0.059\n"
          ]
        },
        {
          "output_type": "stream",
          "name": "stderr",
          "text": [
            " 40%|████      | 12/30 [00:00<00:01, 12.78it/s]"
          ]
        },
        {
          "output_type": "stream",
          "name": "stdout",
          "text": [
            "valid_loss=0.021, test_los0.055, Model Save\n",
            "epoch = 10, train_loss : 0.024, valid_loss : 0.021, test_loss : 0.055\n",
            "valid_loss=0.019, test_los0.052, Model Save\n",
            "epoch = 11, train_loss : 0.023, valid_loss : 0.019, test_loss : 0.052\n",
            "valid_loss=0.018, test_los0.050, Model Save\n",
            "epoch = 12, train_loss : 0.022, valid_loss : 0.018, test_loss : 0.050\n"
          ]
        },
        {
          "output_type": "stream",
          "name": "stderr",
          "text": [
            "\r 47%|████▋     | 14/30 [00:01<00:01, 12.86it/s]"
          ]
        },
        {
          "output_type": "stream",
          "name": "stdout",
          "text": [
            "valid_loss=0.018, test_los0.048, Model Save\n",
            "epoch = 13, train_loss : 0.022, valid_loss : 0.018, test_loss : 0.048\n",
            "valid_loss=0.017, test_los0.047, Model Save\n",
            "epoch = 14, train_loss : 0.021, valid_loss : 0.017, test_loss : 0.047\n",
            "valid_loss=0.017, test_los0.046, Model Save\n",
            "epoch = 15, train_loss : 0.021, valid_loss : 0.017, test_loss : 0.046\n"
          ]
        },
        {
          "output_type": "stream",
          "name": "stderr",
          "text": [
            " 60%|██████    | 18/30 [00:01<00:00, 12.65it/s]"
          ]
        },
        {
          "output_type": "stream",
          "name": "stdout",
          "text": [
            "valid_loss=0.017, test_los0.045, Model Save\n",
            "epoch = 16, train_loss : 0.020, valid_loss : 0.017, test_loss : 0.045\n",
            "valid_loss=0.016, test_los0.044, Model Save\n",
            "epoch = 17, train_loss : 0.020, valid_loss : 0.016, test_loss : 0.044\n",
            "valid_loss=0.016, test_los0.043, Model Save\n",
            "epoch = 18, train_loss : 0.019, valid_loss : 0.016, test_loss : 0.043\n"
          ]
        },
        {
          "output_type": "stream",
          "name": "stderr",
          "text": [
            "\r 67%|██████▋   | 20/30 [00:01<00:00, 12.19it/s]"
          ]
        },
        {
          "output_type": "stream",
          "name": "stdout",
          "text": [
            "valid_loss=0.016, test_los0.043, Model Save\n",
            "epoch = 19, train_loss : 0.019, valid_loss : 0.016, test_loss : 0.043\n",
            "valid_loss=0.016, test_los0.042, Model Save\n",
            "epoch = 20, train_loss : 0.019, valid_loss : 0.016, test_loss : 0.042\n",
            "valid_loss=0.016, test_los0.042, Model Save\n",
            "epoch = 21, train_loss : 0.019, valid_loss : 0.016, test_loss : 0.042\n"
          ]
        },
        {
          "output_type": "stream",
          "name": "stderr",
          "text": [
            " 80%|████████  | 24/30 [00:01<00:00, 12.31it/s]"
          ]
        },
        {
          "output_type": "stream",
          "name": "stdout",
          "text": [
            "valid_loss=0.016, test_los0.041, Model Save\n",
            "epoch = 22, train_loss : 0.019, valid_loss : 0.016, test_loss : 0.041\n",
            "valid_loss=0.015, test_los0.041, Model Save\n",
            "epoch = 23, train_loss : 0.019, valid_loss : 0.015, test_loss : 0.041\n",
            "valid_loss=0.015, test_los0.041, Model Save\n",
            "epoch = 24, train_loss : 0.018, valid_loss : 0.015, test_loss : 0.041\n"
          ]
        },
        {
          "output_type": "stream",
          "name": "stderr",
          "text": [
            "\r 87%|████████▋ | 26/30 [00:02<00:00, 12.12it/s]"
          ]
        },
        {
          "output_type": "stream",
          "name": "stdout",
          "text": [
            "valid_loss=0.015, test_los0.041, Model Save\n",
            "epoch = 25, train_loss : 0.018, valid_loss : 0.015, test_loss : 0.041\n",
            "valid_loss=0.015, test_los0.040, Model Save\n",
            "epoch = 26, train_loss : 0.018, valid_loss : 0.015, test_loss : 0.040\n",
            "valid_loss=0.015, test_los0.040, Model Save\n",
            "epoch = 27, train_loss : 0.018, valid_loss : 0.015, test_loss : 0.040\n"
          ]
        },
        {
          "output_type": "stream",
          "name": "stderr",
          "text": [
            "\r 93%|█████████▎| 28/30 [00:02<00:00, 10.22it/s]"
          ]
        },
        {
          "output_type": "stream",
          "name": "stdout",
          "text": [
            "valid_loss=0.015, test_los0.040, Model Save\n",
            "epoch = 28, train_loss : 0.018, valid_loss : 0.015, test_loss : 0.040\n",
            "valid_loss=0.015, test_los0.040, Model Save\n",
            "epoch = 29, train_loss : 0.018, valid_loss : 0.015, test_loss : 0.040\n"
          ]
        },
        {
          "output_type": "stream",
          "name": "stderr",
          "text": [
            "100%|██████████| 30/30 [00:02<00:00, 11.40it/s]"
          ]
        },
        {
          "output_type": "stream",
          "name": "stdout",
          "text": [
            "epoch = 30, train_loss : 0.018, valid_loss : 0.015, test_loss : 0.040\n"
          ]
        },
        {
          "output_type": "stream",
          "name": "stderr",
          "text": [
            "\n",
            "  7%|▋         | 2/30 [00:00<00:03,  8.59it/s]"
          ]
        },
        {
          "output_type": "stream",
          "name": "stdout",
          "text": [
            "valid_loss=0.089, test_los0.067, Model Save\n",
            "epoch = 1, train_loss : 0.074, valid_loss : 0.089, test_loss : 0.067\n",
            "valid_loss=0.051, test_los0.046, Model Save\n",
            "epoch = 2, train_loss : 0.049, valid_loss : 0.051, test_loss : 0.046\n"
          ]
        },
        {
          "output_type": "stream",
          "name": "stderr",
          "text": [
            " 13%|█▎        | 4/30 [00:00<00:03,  7.55it/s]"
          ]
        },
        {
          "output_type": "stream",
          "name": "stdout",
          "text": [
            "valid_loss=0.034, test_los0.035, Model Save\n",
            "epoch = 3, train_loss : 0.041, valid_loss : 0.034, test_loss : 0.035\n",
            "valid_loss=0.026, test_los0.029, Model Save\n",
            "epoch = 4, train_loss : 0.035, valid_loss : 0.026, test_loss : 0.029\n"
          ]
        },
        {
          "output_type": "stream",
          "name": "stderr",
          "text": [
            " 20%|██        | 6/30 [00:00<00:03,  7.05it/s]"
          ]
        },
        {
          "output_type": "stream",
          "name": "stdout",
          "text": [
            "valid_loss=0.021, test_los0.024, Model Save\n",
            "epoch = 5, train_loss : 0.031, valid_loss : 0.021, test_loss : 0.024\n",
            "valid_loss=0.018, test_los0.022, Model Save\n",
            "epoch = 6, train_loss : 0.029, valid_loss : 0.018, test_loss : 0.022\n"
          ]
        },
        {
          "output_type": "stream",
          "name": "stderr",
          "text": [
            " 27%|██▋       | 8/30 [00:01<00:03,  7.30it/s]"
          ]
        },
        {
          "output_type": "stream",
          "name": "stdout",
          "text": [
            "valid_loss=0.016, test_los0.020, Model Save\n",
            "epoch = 7, train_loss : 0.027, valid_loss : 0.016, test_loss : 0.020\n",
            "valid_loss=0.015, test_los0.019, Model Save\n",
            "epoch = 8, train_loss : 0.026, valid_loss : 0.015, test_loss : 0.019\n"
          ]
        },
        {
          "output_type": "stream",
          "name": "stderr",
          "text": [
            " 33%|███▎      | 10/30 [00:01<00:02,  7.08it/s]"
          ]
        },
        {
          "output_type": "stream",
          "name": "stdout",
          "text": [
            "valid_loss=0.015, test_los0.018, Model Save\n",
            "epoch = 9, train_loss : 0.025, valid_loss : 0.015, test_loss : 0.018\n",
            "valid_loss=0.014, test_los0.018, Model Save\n",
            "epoch = 10, train_loss : 0.024, valid_loss : 0.014, test_loss : 0.018\n"
          ]
        },
        {
          "output_type": "stream",
          "name": "stderr",
          "text": [
            " 40%|████      | 12/30 [00:01<00:02,  7.41it/s]"
          ]
        },
        {
          "output_type": "stream",
          "name": "stdout",
          "text": [
            "valid_loss=0.014, test_los0.018, Model Save\n",
            "epoch = 11, train_loss : 0.024, valid_loss : 0.014, test_loss : 0.018\n",
            "valid_loss=0.014, test_los0.017, Model Save\n",
            "epoch = 12, train_loss : 0.023, valid_loss : 0.014, test_loss : 0.017\n"
          ]
        },
        {
          "output_type": "stream",
          "name": "stderr",
          "text": [
            " 47%|████▋     | 14/30 [00:01<00:02,  7.31it/s]"
          ]
        },
        {
          "output_type": "stream",
          "name": "stdout",
          "text": [
            "valid_loss=0.014, test_los0.017, Model Save\n",
            "epoch = 13, train_loss : 0.023, valid_loss : 0.014, test_loss : 0.017\n",
            "valid_loss=0.014, test_los0.017, Model Save\n",
            "epoch = 14, train_loss : 0.023, valid_loss : 0.014, test_loss : 0.017\n"
          ]
        },
        {
          "output_type": "stream",
          "name": "stderr",
          "text": [
            " 53%|█████▎    | 16/30 [00:02<00:01,  7.74it/s]"
          ]
        },
        {
          "output_type": "stream",
          "name": "stdout",
          "text": [
            "valid_loss=0.014, test_los0.017, Model Save\n",
            "epoch = 15, train_loss : 0.023, valid_loss : 0.014, test_loss : 0.017\n",
            "valid_loss=0.013, test_los0.017, Model Save\n",
            "epoch = 16, train_loss : 0.022, valid_loss : 0.013, test_loss : 0.017\n"
          ]
        },
        {
          "output_type": "stream",
          "name": "stderr",
          "text": [
            " 60%|██████    | 18/30 [00:02<00:01,  8.05it/s]"
          ]
        },
        {
          "output_type": "stream",
          "name": "stdout",
          "text": [
            "valid_loss=0.013, test_los0.017, Model Save\n",
            "epoch = 17, train_loss : 0.022, valid_loss : 0.013, test_loss : 0.017\n",
            "valid_loss=0.013, test_los0.016, Model Save\n",
            "epoch = 18, train_loss : 0.022, valid_loss : 0.013, test_loss : 0.016\n"
          ]
        },
        {
          "output_type": "stream",
          "name": "stderr",
          "text": [
            " 67%|██████▋   | 20/30 [00:02<00:01,  7.64it/s]"
          ]
        },
        {
          "output_type": "stream",
          "name": "stdout",
          "text": [
            "valid_loss=0.013, test_los0.016, Model Save\n",
            "epoch = 19, train_loss : 0.022, valid_loss : 0.013, test_loss : 0.016\n",
            "valid_loss=0.013, test_los0.016, Model Save\n",
            "epoch = 20, train_loss : 0.022, valid_loss : 0.013, test_loss : 0.016\n"
          ]
        },
        {
          "output_type": "stream",
          "name": "stderr",
          "text": [
            " 73%|███████▎  | 22/30 [00:02<00:01,  7.28it/s]"
          ]
        },
        {
          "output_type": "stream",
          "name": "stdout",
          "text": [
            "valid_loss=0.013, test_los0.016, Model Save\n",
            "epoch = 21, train_loss : 0.022, valid_loss : 0.013, test_loss : 0.016\n",
            "valid_loss=0.013, test_los0.016, Model Save\n",
            "epoch = 22, train_loss : 0.022, valid_loss : 0.013, test_loss : 0.016\n"
          ]
        },
        {
          "output_type": "stream",
          "name": "stderr",
          "text": [
            " 80%|████████  | 24/30 [00:03<00:00,  7.45it/s]"
          ]
        },
        {
          "output_type": "stream",
          "name": "stdout",
          "text": [
            "valid_loss=0.013, test_los0.016, Model Save\n",
            "epoch = 23, train_loss : 0.022, valid_loss : 0.013, test_loss : 0.016\n",
            "valid_loss=0.013, test_los0.016, Model Save\n",
            "epoch = 24, train_loss : 0.022, valid_loss : 0.013, test_loss : 0.016\n"
          ]
        },
        {
          "output_type": "stream",
          "name": "stderr",
          "text": [
            " 87%|████████▋ | 26/30 [00:03<00:00,  6.87it/s]"
          ]
        },
        {
          "output_type": "stream",
          "name": "stdout",
          "text": [
            "valid_loss=0.013, test_los0.016, Model Save\n",
            "epoch = 25, train_loss : 0.022, valid_loss : 0.013, test_loss : 0.016\n",
            "valid_loss=0.012, test_los0.016, Model Save\n",
            "epoch = 26, train_loss : 0.022, valid_loss : 0.012, test_loss : 0.016\n"
          ]
        },
        {
          "output_type": "stream",
          "name": "stderr",
          "text": [
            " 97%|█████████▋| 29/30 [00:03<00:00,  9.23it/s]"
          ]
        },
        {
          "output_type": "stream",
          "name": "stdout",
          "text": [
            "valid_loss=0.012, test_los0.016, Model Save\n",
            "epoch = 27, train_loss : 0.021, valid_loss : 0.012, test_loss : 0.016\n",
            "valid_loss=0.012, test_los0.016, Model Save\n",
            "epoch = 28, train_loss : 0.021, valid_loss : 0.012, test_loss : 0.016\n",
            "valid_loss=0.012, test_los0.016, Model Save\n",
            "epoch = 29, train_loss : 0.021, valid_loss : 0.012, test_loss : 0.016\n"
          ]
        },
        {
          "output_type": "stream",
          "name": "stderr",
          "text": [
            "100%|██████████| 30/30 [00:03<00:00,  7.64it/s]\n"
          ]
        },
        {
          "output_type": "stream",
          "name": "stdout",
          "text": [
            "valid_loss=0.012, test_los0.016, Model Save\n",
            "epoch = 30, train_loss : 0.021, valid_loss : 0.012, test_loss : 0.016\n"
          ]
        },
        {
          "output_type": "stream",
          "name": "stderr",
          "text": [
            "  7%|▋         | 2/30 [00:00<00:02, 13.19it/s]"
          ]
        },
        {
          "output_type": "stream",
          "name": "stdout",
          "text": [
            "valid_loss=0.125, test_los0.103, Model Save\n",
            "epoch = 1, train_loss : 0.170, valid_loss : 0.125, test_loss : 0.103\n",
            "valid_loss=0.096, test_los0.090, Model Save\n",
            "epoch = 2, train_loss : 0.136, valid_loss : 0.096, test_loss : 0.090\n",
            "valid_loss=0.076, test_los0.075, Model Save\n",
            "epoch = 3, train_loss : 0.114, valid_loss : 0.076, test_loss : 0.075\n"
          ]
        },
        {
          "output_type": "stream",
          "name": "stderr",
          "text": [
            " 20%|██        | 6/30 [00:00<00:01, 12.17it/s]"
          ]
        },
        {
          "output_type": "stream",
          "name": "stdout",
          "text": [
            "valid_loss=0.062, test_los0.063, Model Save\n",
            "epoch = 4, train_loss : 0.098, valid_loss : 0.062, test_loss : 0.063\n",
            "valid_loss=0.052, test_los0.054, Model Save\n",
            "epoch = 5, train_loss : 0.086, valid_loss : 0.052, test_loss : 0.054\n",
            "valid_loss=0.045, test_los0.048, Model Save\n",
            "epoch = 6, train_loss : 0.077, valid_loss : 0.045, test_loss : 0.048\n"
          ]
        },
        {
          "output_type": "stream",
          "name": "stderr",
          "text": [
            "\r 27%|██▋       | 8/30 [00:00<00:01, 11.81it/s]"
          ]
        },
        {
          "output_type": "stream",
          "name": "stdout",
          "text": [
            "valid_loss=0.040, test_los0.044, Model Save\n",
            "epoch = 7, train_loss : 0.071, valid_loss : 0.040, test_loss : 0.044\n",
            "valid_loss=0.036, test_los0.041, Model Save\n",
            "epoch = 8, train_loss : 0.066, valid_loss : 0.036, test_loss : 0.041\n",
            "valid_loss=0.033, test_los0.039, Model Save\n",
            "epoch = 9, train_loss : 0.063, valid_loss : 0.033, test_loss : 0.039\n"
          ]
        },
        {
          "output_type": "stream",
          "name": "stderr",
          "text": [
            " 40%|████      | 12/30 [00:00<00:01, 12.16it/s]"
          ]
        },
        {
          "output_type": "stream",
          "name": "stdout",
          "text": [
            "valid_loss=0.032, test_los0.037, Model Save\n",
            "epoch = 10, train_loss : 0.060, valid_loss : 0.032, test_loss : 0.037\n",
            "valid_loss=0.030, test_los0.036, Model Save\n",
            "epoch = 11, train_loss : 0.059, valid_loss : 0.030, test_loss : 0.036\n",
            "valid_loss=0.029, test_los0.035, Model Save\n",
            "epoch = 12, train_loss : 0.057, valid_loss : 0.029, test_loss : 0.035\n"
          ]
        },
        {
          "output_type": "stream",
          "name": "stderr",
          "text": [
            "\r 47%|████▋     | 14/30 [00:01<00:01, 11.95it/s]"
          ]
        },
        {
          "output_type": "stream",
          "name": "stdout",
          "text": [
            "valid_loss=0.028, test_los0.035, Model Save\n",
            "epoch = 13, train_loss : 0.056, valid_loss : 0.028, test_loss : 0.035\n",
            "valid_loss=0.028, test_los0.034, Model Save\n",
            "epoch = 14, train_loss : 0.055, valid_loss : 0.028, test_loss : 0.034\n",
            "valid_loss=0.027, test_los0.034, Model Save\n",
            "epoch = 15, train_loss : 0.055, valid_loss : 0.027, test_loss : 0.034\n"
          ]
        },
        {
          "output_type": "stream",
          "name": "stderr",
          "text": [
            " 60%|██████    | 18/30 [00:01<00:01, 11.87it/s]"
          ]
        },
        {
          "output_type": "stream",
          "name": "stdout",
          "text": [
            "valid_loss=0.027, test_los0.033, Model Save\n",
            "epoch = 16, train_loss : 0.054, valid_loss : 0.027, test_loss : 0.033\n",
            "valid_loss=0.027, test_los0.033, Model Save\n",
            "epoch = 17, train_loss : 0.054, valid_loss : 0.027, test_loss : 0.033\n",
            "valid_loss=0.026, test_los0.033, Model Save\n",
            "epoch = 18, train_loss : 0.053, valid_loss : 0.026, test_loss : 0.033\n"
          ]
        },
        {
          "output_type": "stream",
          "name": "stderr",
          "text": [
            "\r 67%|██████▋   | 20/30 [00:01<00:00, 11.84it/s]"
          ]
        },
        {
          "output_type": "stream",
          "name": "stdout",
          "text": [
            "valid_loss=0.026, test_los0.032, Model Save\n",
            "epoch = 19, train_loss : 0.053, valid_loss : 0.026, test_loss : 0.032\n",
            "valid_loss=0.026, test_los0.032, Model Save\n",
            "epoch = 20, train_loss : 0.052, valid_loss : 0.026, test_loss : 0.032\n",
            "valid_loss=0.026, test_los0.032, Model Save\n",
            "epoch = 21, train_loss : 0.052, valid_loss : 0.026, test_loss : 0.032\n"
          ]
        },
        {
          "output_type": "stream",
          "name": "stderr",
          "text": [
            "\r 73%|███████▎  | 22/30 [00:01<00:00, 11.69it/s]"
          ]
        },
        {
          "output_type": "stream",
          "name": "stdout",
          "text": [
            "valid_loss=0.026, test_los0.032, Model Save\n",
            "epoch = 22, train_loss : 0.052, valid_loss : 0.026, test_loss : 0.032\n",
            "valid_loss=0.025, test_los0.031, Model Save\n",
            "epoch = 23, train_loss : 0.051, valid_loss : 0.025, test_loss : 0.031\n"
          ]
        },
        {
          "output_type": "stream",
          "name": "stderr",
          "text": [
            " 87%|████████▋ | 26/30 [00:02<00:00, 10.86it/s]"
          ]
        },
        {
          "output_type": "stream",
          "name": "stdout",
          "text": [
            "valid_loss=0.025, test_los0.031, Model Save\n",
            "epoch = 24, train_loss : 0.051, valid_loss : 0.025, test_loss : 0.031\n",
            "valid_loss=0.025, test_los0.031, Model Save\n",
            "epoch = 25, train_loss : 0.051, valid_loss : 0.025, test_loss : 0.031\n",
            "valid_loss=0.025, test_los0.031, Model Save\n",
            "epoch = 26, train_loss : 0.051, valid_loss : 0.025, test_loss : 0.031\n"
          ]
        },
        {
          "output_type": "stream",
          "name": "stderr",
          "text": [
            "\r 93%|█████████▎| 28/30 [00:02<00:00, 10.06it/s]"
          ]
        },
        {
          "output_type": "stream",
          "name": "stdout",
          "text": [
            "valid_loss=0.025, test_los0.031, Model Save\n",
            "epoch = 27, train_loss : 0.050, valid_loss : 0.025, test_loss : 0.031\n",
            "valid_loss=0.025, test_los0.030, Model Save\n",
            "epoch = 28, train_loss : 0.050, valid_loss : 0.025, test_loss : 0.030\n"
          ]
        },
        {
          "output_type": "stream",
          "name": "stderr",
          "text": [
            "100%|██████████| 30/30 [00:02<00:00, 11.21it/s]\n"
          ]
        },
        {
          "output_type": "stream",
          "name": "stdout",
          "text": [
            "valid_loss=0.025, test_los0.030, Model Save\n",
            "epoch = 29, train_loss : 0.050, valid_loss : 0.025, test_loss : 0.030\n",
            "valid_loss=0.025, test_los0.030, Model Save\n",
            "epoch = 30, train_loss : 0.050, valid_loss : 0.025, test_loss : 0.030\n"
          ]
        },
        {
          "output_type": "stream",
          "name": "stderr",
          "text": [
            "  7%|▋         | 2/30 [00:00<00:02, 12.17it/s]"
          ]
        },
        {
          "output_type": "stream",
          "name": "stdout",
          "text": [
            "valid_loss=0.115, test_los0.118, Model Save\n",
            "epoch = 1, train_loss : 0.117, valid_loss : 0.115, test_loss : 0.118\n",
            "valid_loss=0.080, test_los0.084, Model Save\n",
            "epoch = 2, train_loss : 0.078, valid_loss : 0.080, test_loss : 0.084\n",
            "valid_loss=0.059, test_los0.063, Model Save\n",
            "epoch = 3, train_loss : 0.064, valid_loss : 0.059, test_loss : 0.063\n"
          ]
        },
        {
          "output_type": "stream",
          "name": "stderr",
          "text": [
            " 20%|██        | 6/30 [00:00<00:01, 12.67it/s]"
          ]
        },
        {
          "output_type": "stream",
          "name": "stdout",
          "text": [
            "valid_loss=0.044, test_los0.049, Model Save\n",
            "epoch = 4, train_loss : 0.053, valid_loss : 0.044, test_loss : 0.049\n",
            "valid_loss=0.034, test_los0.040, Model Save\n",
            "epoch = 5, train_loss : 0.044, valid_loss : 0.034, test_loss : 0.040\n",
            "valid_loss=0.026, test_los0.033, Model Save\n",
            "epoch = 6, train_loss : 0.038, valid_loss : 0.026, test_loss : 0.033\n"
          ]
        },
        {
          "output_type": "stream",
          "name": "stderr",
          "text": [
            "\r 27%|██▋       | 8/30 [00:00<00:01, 12.40it/s]"
          ]
        },
        {
          "output_type": "stream",
          "name": "stdout",
          "text": [
            "valid_loss=0.021, test_los0.028, Model Save\n",
            "epoch = 7, train_loss : 0.033, valid_loss : 0.021, test_loss : 0.028\n",
            "valid_loss=0.017, test_los0.025, Model Save\n",
            "epoch = 8, train_loss : 0.030, valid_loss : 0.017, test_loss : 0.025\n",
            "valid_loss=0.015, test_los0.023, Model Save\n",
            "epoch = 9, train_loss : 0.027, valid_loss : 0.015, test_loss : 0.023\n"
          ]
        },
        {
          "output_type": "stream",
          "name": "stderr",
          "text": [
            " 40%|████      | 12/30 [00:00<00:01, 12.88it/s]"
          ]
        },
        {
          "output_type": "stream",
          "name": "stdout",
          "text": [
            "valid_loss=0.013, test_los0.022, Model Save\n",
            "epoch = 10, train_loss : 0.026, valid_loss : 0.013, test_loss : 0.022\n",
            "valid_loss=0.012, test_los0.021, Model Save\n",
            "epoch = 11, train_loss : 0.024, valid_loss : 0.012, test_loss : 0.021\n",
            "valid_loss=0.011, test_los0.020, Model Save\n",
            "epoch = 12, train_loss : 0.023, valid_loss : 0.011, test_loss : 0.020\n"
          ]
        },
        {
          "output_type": "stream",
          "name": "stderr",
          "text": [
            "\r 47%|████▋     | 14/30 [00:01<00:01, 12.75it/s]"
          ]
        },
        {
          "output_type": "stream",
          "name": "stdout",
          "text": [
            "valid_loss=0.010, test_los0.019, Model Save\n",
            "epoch = 13, train_loss : 0.023, valid_loss : 0.010, test_loss : 0.019\n",
            "valid_loss=0.010, test_los0.019, Model Save\n",
            "epoch = 14, train_loss : 0.022, valid_loss : 0.010, test_loss : 0.019\n",
            "valid_loss=0.010, test_los0.019, Model Save\n",
            "epoch = 15, train_loss : 0.022, valid_loss : 0.010, test_loss : 0.019\n"
          ]
        },
        {
          "output_type": "stream",
          "name": "stderr",
          "text": [
            " 60%|██████    | 18/30 [00:01<00:00, 13.14it/s]"
          ]
        },
        {
          "output_type": "stream",
          "name": "stdout",
          "text": [
            "valid_loss=0.009, test_los0.019, Model Save\n",
            "epoch = 16, train_loss : 0.022, valid_loss : 0.009, test_loss : 0.019\n",
            "valid_loss=0.009, test_los0.019, Model Save\n",
            "epoch = 17, train_loss : 0.021, valid_loss : 0.009, test_loss : 0.019\n",
            "valid_loss=0.009, test_los0.018, Model Save\n",
            "epoch = 18, train_loss : 0.021, valid_loss : 0.009, test_loss : 0.018\n"
          ]
        },
        {
          "output_type": "stream",
          "name": "stderr",
          "text": [
            "\r 67%|██████▋   | 20/30 [00:01<00:00, 12.74it/s]"
          ]
        },
        {
          "output_type": "stream",
          "name": "stdout",
          "text": [
            "valid_loss=0.009, test_los0.018, Model Save\n",
            "epoch = 19, train_loss : 0.021, valid_loss : 0.009, test_loss : 0.018\n",
            "valid_loss=0.009, test_los0.018, Model Save\n",
            "epoch = 20, train_loss : 0.021, valid_loss : 0.009, test_loss : 0.018\n",
            "valid_loss=0.009, test_los0.018, Model Save\n",
            "epoch = 21, train_loss : 0.021, valid_loss : 0.009, test_loss : 0.018\n"
          ]
        },
        {
          "output_type": "stream",
          "name": "stderr",
          "text": [
            " 80%|████████  | 24/30 [00:01<00:00, 12.60it/s]"
          ]
        },
        {
          "output_type": "stream",
          "name": "stdout",
          "text": [
            "valid_loss=0.008, test_los0.018, Model Save\n",
            "epoch = 22, train_loss : 0.021, valid_loss : 0.008, test_loss : 0.018\n",
            "valid_loss=0.008, test_los0.018, Model Save\n",
            "epoch = 23, train_loss : 0.020, valid_loss : 0.008, test_loss : 0.018\n",
            "valid_loss=0.008, test_los0.018, Model Save\n",
            "epoch = 24, train_loss : 0.020, valid_loss : 0.008, test_loss : 0.018\n"
          ]
        },
        {
          "output_type": "stream",
          "name": "stderr",
          "text": [
            "\r 87%|████████▋ | 26/30 [00:02<00:00, 12.51it/s]"
          ]
        },
        {
          "output_type": "stream",
          "name": "stdout",
          "text": [
            "valid_loss=0.008, test_los0.018, Model Save\n",
            "epoch = 25, train_loss : 0.020, valid_loss : 0.008, test_loss : 0.018\n",
            "valid_loss=0.008, test_los0.018, Model Save\n",
            "epoch = 26, train_loss : 0.020, valid_loss : 0.008, test_loss : 0.018\n",
            "valid_loss=0.008, test_los0.018, Model Save\n",
            "epoch = 27, train_loss : 0.020, valid_loss : 0.008, test_loss : 0.018\n"
          ]
        },
        {
          "output_type": "stream",
          "name": "stderr",
          "text": [
            "100%|██████████| 30/30 [00:02<00:00, 12.57it/s]"
          ]
        },
        {
          "output_type": "stream",
          "name": "stdout",
          "text": [
            "valid_loss=0.008, test_los0.018, Model Save\n",
            "epoch = 28, train_loss : 0.020, valid_loss : 0.008, test_loss : 0.018\n",
            "valid_loss=0.008, test_los0.018, Model Save\n",
            "epoch = 29, train_loss : 0.020, valid_loss : 0.008, test_loss : 0.018\n",
            "valid_loss=0.008, test_los0.018, Model Save\n",
            "epoch = 30, train_loss : 0.020, valid_loss : 0.008, test_loss : 0.018\n"
          ]
        },
        {
          "output_type": "stream",
          "name": "stderr",
          "text": [
            "\n"
          ]
        }
      ]
    },
    {
      "cell_type": "markdown",
      "source": [
        "epoch 30 변경 후 5분 11초로 단축"
      ],
      "metadata": {
        "id": "1RhGziRMbS6U"
      }
    },
    {
      "cell_type": "markdown",
      "source": [
        "#연습장(현재 쓸 예정)"
      ],
      "metadata": {
        "id": "ZZRkKvxSzi9b"
      }
    },
    {
      "cell_type": "code",
      "source": [
        "path='/content/drive/MyDrive/BITamin'\n",
        "df=pd.read_csv(path + '/Stock_log.csv').iloc[:,:100]\n",
        "df.rename(columns ={'Unnamed: 0' : 'Date'}, inplace=True)\n",
        "df.head()"
      ],
      "metadata": {
        "colab": {
          "base_uri": "https://localhost:8080/",
          "height": 236
        },
        "id": "NhMPa0SjznGU",
        "outputId": "216b3625-8fdb-4485-b83b-22afcc184a55"
      },
      "execution_count": null,
      "outputs": [
        {
          "output_type": "execute_result",
          "data": {
            "text/plain": [
              "   Date     005930     000660     373220     207940     005935     005380  \\\n",
              "0     0  10.494048  10.732039  13.132314  11.949036  10.268131  11.918391   \n",
              "1     1  10.504519  10.763208  13.132314  11.958579  10.267436  11.938193   \n",
              "2     2  10.495709  10.747208  13.132314  11.936178  10.268131  11.944708   \n",
              "3     3  10.478977  10.756838  13.132314  11.955410  10.249910  11.941456   \n",
              "4     4  10.496814  10.778956  13.132314  11.955410  10.261861  11.925035   \n",
              "\n",
              "      000270     068270     005490  ...     011790    005940     128940  \\\n",
              "0  10.584056  11.490281  12.470358  ...  10.422281  9.176784  12.360269   \n",
              "1  10.615211  11.475390  12.452933  ...  10.431170  9.182969  12.369024   \n",
              "2  10.628618  11.470686  12.447056  ...  10.392068  9.205328  12.401582   \n",
              "3  10.623763  11.473509  12.419166  ...  10.390533  9.210340  12.404952   \n",
              "4  10.615211  11.463126  12.429216  ...  10.388995  9.215328  12.386292   \n",
              "\n",
              "      348370     036570     021240     307950     011780     071050    180640  \n",
              "0  11.289782  12.421184  11.386228  11.393015  11.355101  10.638256  9.595603  \n",
              "1  11.289782  12.464583  11.391887  11.393015  11.352757  10.633449  9.585346  \n",
              "2  11.289782  12.468437  11.398636  11.393015  11.333799  10.659610  9.598998  \n",
              "3  11.289782  12.472276  11.424094  11.393015  11.324183  10.680516  9.629051  \n",
              "4  11.289782  12.470358  11.429544  11.393015  11.324183  10.691945  9.648595  \n",
              "\n",
              "[5 rows x 100 columns]"
            ],
            "text/html": [
              "\n",
              "  <div id=\"df-8453b6f3-7a9f-4aa0-ad06-06d9fe8b5774\" class=\"colab-df-container\">\n",
              "    <div>\n",
              "<style scoped>\n",
              "    .dataframe tbody tr th:only-of-type {\n",
              "        vertical-align: middle;\n",
              "    }\n",
              "\n",
              "    .dataframe tbody tr th {\n",
              "        vertical-align: top;\n",
              "    }\n",
              "\n",
              "    .dataframe thead th {\n",
              "        text-align: right;\n",
              "    }\n",
              "</style>\n",
              "<table border=\"1\" class=\"dataframe\">\n",
              "  <thead>\n",
              "    <tr style=\"text-align: right;\">\n",
              "      <th></th>\n",
              "      <th>Date</th>\n",
              "      <th>005930</th>\n",
              "      <th>000660</th>\n",
              "      <th>373220</th>\n",
              "      <th>207940</th>\n",
              "      <th>005935</th>\n",
              "      <th>005380</th>\n",
              "      <th>000270</th>\n",
              "      <th>068270</th>\n",
              "      <th>005490</th>\n",
              "      <th>...</th>\n",
              "      <th>011790</th>\n",
              "      <th>005940</th>\n",
              "      <th>128940</th>\n",
              "      <th>348370</th>\n",
              "      <th>036570</th>\n",
              "      <th>021240</th>\n",
              "      <th>307950</th>\n",
              "      <th>011780</th>\n",
              "      <th>071050</th>\n",
              "      <th>180640</th>\n",
              "    </tr>\n",
              "  </thead>\n",
              "  <tbody>\n",
              "    <tr>\n",
              "      <th>0</th>\n",
              "      <td>0</td>\n",
              "      <td>10.494048</td>\n",
              "      <td>10.732039</td>\n",
              "      <td>13.132314</td>\n",
              "      <td>11.949036</td>\n",
              "      <td>10.268131</td>\n",
              "      <td>11.918391</td>\n",
              "      <td>10.584056</td>\n",
              "      <td>11.490281</td>\n",
              "      <td>12.470358</td>\n",
              "      <td>...</td>\n",
              "      <td>10.422281</td>\n",
              "      <td>9.176784</td>\n",
              "      <td>12.360269</td>\n",
              "      <td>11.289782</td>\n",
              "      <td>12.421184</td>\n",
              "      <td>11.386228</td>\n",
              "      <td>11.393015</td>\n",
              "      <td>11.355101</td>\n",
              "      <td>10.638256</td>\n",
              "      <td>9.595603</td>\n",
              "    </tr>\n",
              "    <tr>\n",
              "      <th>1</th>\n",
              "      <td>1</td>\n",
              "      <td>10.504519</td>\n",
              "      <td>10.763208</td>\n",
              "      <td>13.132314</td>\n",
              "      <td>11.958579</td>\n",
              "      <td>10.267436</td>\n",
              "      <td>11.938193</td>\n",
              "      <td>10.615211</td>\n",
              "      <td>11.475390</td>\n",
              "      <td>12.452933</td>\n",
              "      <td>...</td>\n",
              "      <td>10.431170</td>\n",
              "      <td>9.182969</td>\n",
              "      <td>12.369024</td>\n",
              "      <td>11.289782</td>\n",
              "      <td>12.464583</td>\n",
              "      <td>11.391887</td>\n",
              "      <td>11.393015</td>\n",
              "      <td>11.352757</td>\n",
              "      <td>10.633449</td>\n",
              "      <td>9.585346</td>\n",
              "    </tr>\n",
              "    <tr>\n",
              "      <th>2</th>\n",
              "      <td>2</td>\n",
              "      <td>10.495709</td>\n",
              "      <td>10.747208</td>\n",
              "      <td>13.132314</td>\n",
              "      <td>11.936178</td>\n",
              "      <td>10.268131</td>\n",
              "      <td>11.944708</td>\n",
              "      <td>10.628618</td>\n",
              "      <td>11.470686</td>\n",
              "      <td>12.447056</td>\n",
              "      <td>...</td>\n",
              "      <td>10.392068</td>\n",
              "      <td>9.205328</td>\n",
              "      <td>12.401582</td>\n",
              "      <td>11.289782</td>\n",
              "      <td>12.468437</td>\n",
              "      <td>11.398636</td>\n",
              "      <td>11.393015</td>\n",
              "      <td>11.333799</td>\n",
              "      <td>10.659610</td>\n",
              "      <td>9.598998</td>\n",
              "    </tr>\n",
              "    <tr>\n",
              "      <th>3</th>\n",
              "      <td>3</td>\n",
              "      <td>10.478977</td>\n",
              "      <td>10.756838</td>\n",
              "      <td>13.132314</td>\n",
              "      <td>11.955410</td>\n",
              "      <td>10.249910</td>\n",
              "      <td>11.941456</td>\n",
              "      <td>10.623763</td>\n",
              "      <td>11.473509</td>\n",
              "      <td>12.419166</td>\n",
              "      <td>...</td>\n",
              "      <td>10.390533</td>\n",
              "      <td>9.210340</td>\n",
              "      <td>12.404952</td>\n",
              "      <td>11.289782</td>\n",
              "      <td>12.472276</td>\n",
              "      <td>11.424094</td>\n",
              "      <td>11.393015</td>\n",
              "      <td>11.324183</td>\n",
              "      <td>10.680516</td>\n",
              "      <td>9.629051</td>\n",
              "    </tr>\n",
              "    <tr>\n",
              "      <th>4</th>\n",
              "      <td>4</td>\n",
              "      <td>10.496814</td>\n",
              "      <td>10.778956</td>\n",
              "      <td>13.132314</td>\n",
              "      <td>11.955410</td>\n",
              "      <td>10.261861</td>\n",
              "      <td>11.925035</td>\n",
              "      <td>10.615211</td>\n",
              "      <td>11.463126</td>\n",
              "      <td>12.429216</td>\n",
              "      <td>...</td>\n",
              "      <td>10.388995</td>\n",
              "      <td>9.215328</td>\n",
              "      <td>12.386292</td>\n",
              "      <td>11.289782</td>\n",
              "      <td>12.470358</td>\n",
              "      <td>11.429544</td>\n",
              "      <td>11.393015</td>\n",
              "      <td>11.324183</td>\n",
              "      <td>10.691945</td>\n",
              "      <td>9.648595</td>\n",
              "    </tr>\n",
              "  </tbody>\n",
              "</table>\n",
              "<p>5 rows × 100 columns</p>\n",
              "</div>\n",
              "    <div class=\"colab-df-buttons\">\n",
              "\n",
              "  <div class=\"colab-df-container\">\n",
              "    <button class=\"colab-df-convert\" onclick=\"convertToInteractive('df-8453b6f3-7a9f-4aa0-ad06-06d9fe8b5774')\"\n",
              "            title=\"Convert this dataframe to an interactive table.\"\n",
              "            style=\"display:none;\">\n",
              "\n",
              "  <svg xmlns=\"http://www.w3.org/2000/svg\" height=\"24px\" viewBox=\"0 -960 960 960\">\n",
              "    <path d=\"M120-120v-720h720v720H120Zm60-500h600v-160H180v160Zm220 220h160v-160H400v160Zm0 220h160v-160H400v160ZM180-400h160v-160H180v160Zm440 0h160v-160H620v160ZM180-180h160v-160H180v160Zm440 0h160v-160H620v160Z\"/>\n",
              "  </svg>\n",
              "    </button>\n",
              "\n",
              "  <style>\n",
              "    .colab-df-container {\n",
              "      display:flex;\n",
              "      gap: 12px;\n",
              "    }\n",
              "\n",
              "    .colab-df-convert {\n",
              "      background-color: #E8F0FE;\n",
              "      border: none;\n",
              "      border-radius: 50%;\n",
              "      cursor: pointer;\n",
              "      display: none;\n",
              "      fill: #1967D2;\n",
              "      height: 32px;\n",
              "      padding: 0 0 0 0;\n",
              "      width: 32px;\n",
              "    }\n",
              "\n",
              "    .colab-df-convert:hover {\n",
              "      background-color: #E2EBFA;\n",
              "      box-shadow: 0px 1px 2px rgba(60, 64, 67, 0.3), 0px 1px 3px 1px rgba(60, 64, 67, 0.15);\n",
              "      fill: #174EA6;\n",
              "    }\n",
              "\n",
              "    .colab-df-buttons div {\n",
              "      margin-bottom: 4px;\n",
              "    }\n",
              "\n",
              "    [theme=dark] .colab-df-convert {\n",
              "      background-color: #3B4455;\n",
              "      fill: #D2E3FC;\n",
              "    }\n",
              "\n",
              "    [theme=dark] .colab-df-convert:hover {\n",
              "      background-color: #434B5C;\n",
              "      box-shadow: 0px 1px 3px 1px rgba(0, 0, 0, 0.15);\n",
              "      filter: drop-shadow(0px 1px 2px rgba(0, 0, 0, 0.3));\n",
              "      fill: #FFFFFF;\n",
              "    }\n",
              "  </style>\n",
              "\n",
              "    <script>\n",
              "      const buttonEl =\n",
              "        document.querySelector('#df-8453b6f3-7a9f-4aa0-ad06-06d9fe8b5774 button.colab-df-convert');\n",
              "      buttonEl.style.display =\n",
              "        google.colab.kernel.accessAllowed ? 'block' : 'none';\n",
              "\n",
              "      async function convertToInteractive(key) {\n",
              "        const element = document.querySelector('#df-8453b6f3-7a9f-4aa0-ad06-06d9fe8b5774');\n",
              "        const dataTable =\n",
              "          await google.colab.kernel.invokeFunction('convertToInteractive',\n",
              "                                                    [key], {});\n",
              "        if (!dataTable) return;\n",
              "\n",
              "        const docLinkHtml = 'Like what you see? Visit the ' +\n",
              "          '<a target=\"_blank\" href=https://colab.research.google.com/notebooks/data_table.ipynb>data table notebook</a>'\n",
              "          + ' to learn more about interactive tables.';\n",
              "        element.innerHTML = '';\n",
              "        dataTable['output_type'] = 'display_data';\n",
              "        await google.colab.output.renderOutput(dataTable, element);\n",
              "        const docLink = document.createElement('div');\n",
              "        docLink.innerHTML = docLinkHtml;\n",
              "        element.appendChild(docLink);\n",
              "      }\n",
              "    </script>\n",
              "  </div>\n",
              "\n",
              "\n",
              "<div id=\"df-3eb71bca-ee31-4dec-9b65-38ea2f50c8ac\">\n",
              "  <button class=\"colab-df-quickchart\" onclick=\"quickchart('df-3eb71bca-ee31-4dec-9b65-38ea2f50c8ac')\"\n",
              "            title=\"Suggest charts\"\n",
              "            style=\"display:none;\">\n",
              "\n",
              "<svg xmlns=\"http://www.w3.org/2000/svg\" height=\"24px\"viewBox=\"0 0 24 24\"\n",
              "     width=\"24px\">\n",
              "    <g>\n",
              "        <path d=\"M19 3H5c-1.1 0-2 .9-2 2v14c0 1.1.9 2 2 2h14c1.1 0 2-.9 2-2V5c0-1.1-.9-2-2-2zM9 17H7v-7h2v7zm4 0h-2V7h2v10zm4 0h-2v-4h2v4z\"/>\n",
              "    </g>\n",
              "</svg>\n",
              "  </button>\n",
              "\n",
              "<style>\n",
              "  .colab-df-quickchart {\n",
              "      --bg-color: #E8F0FE;\n",
              "      --fill-color: #1967D2;\n",
              "      --hover-bg-color: #E2EBFA;\n",
              "      --hover-fill-color: #174EA6;\n",
              "      --disabled-fill-color: #AAA;\n",
              "      --disabled-bg-color: #DDD;\n",
              "  }\n",
              "\n",
              "  [theme=dark] .colab-df-quickchart {\n",
              "      --bg-color: #3B4455;\n",
              "      --fill-color: #D2E3FC;\n",
              "      --hover-bg-color: #434B5C;\n",
              "      --hover-fill-color: #FFFFFF;\n",
              "      --disabled-bg-color: #3B4455;\n",
              "      --disabled-fill-color: #666;\n",
              "  }\n",
              "\n",
              "  .colab-df-quickchart {\n",
              "    background-color: var(--bg-color);\n",
              "    border: none;\n",
              "    border-radius: 50%;\n",
              "    cursor: pointer;\n",
              "    display: none;\n",
              "    fill: var(--fill-color);\n",
              "    height: 32px;\n",
              "    padding: 0;\n",
              "    width: 32px;\n",
              "  }\n",
              "\n",
              "  .colab-df-quickchart:hover {\n",
              "    background-color: var(--hover-bg-color);\n",
              "    box-shadow: 0 1px 2px rgba(60, 64, 67, 0.3), 0 1px 3px 1px rgba(60, 64, 67, 0.15);\n",
              "    fill: var(--button-hover-fill-color);\n",
              "  }\n",
              "\n",
              "  .colab-df-quickchart-complete:disabled,\n",
              "  .colab-df-quickchart-complete:disabled:hover {\n",
              "    background-color: var(--disabled-bg-color);\n",
              "    fill: var(--disabled-fill-color);\n",
              "    box-shadow: none;\n",
              "  }\n",
              "\n",
              "  .colab-df-spinner {\n",
              "    border: 2px solid var(--fill-color);\n",
              "    border-color: transparent;\n",
              "    border-bottom-color: var(--fill-color);\n",
              "    animation:\n",
              "      spin 1s steps(1) infinite;\n",
              "  }\n",
              "\n",
              "  @keyframes spin {\n",
              "    0% {\n",
              "      border-color: transparent;\n",
              "      border-bottom-color: var(--fill-color);\n",
              "      border-left-color: var(--fill-color);\n",
              "    }\n",
              "    20% {\n",
              "      border-color: transparent;\n",
              "      border-left-color: var(--fill-color);\n",
              "      border-top-color: var(--fill-color);\n",
              "    }\n",
              "    30% {\n",
              "      border-color: transparent;\n",
              "      border-left-color: var(--fill-color);\n",
              "      border-top-color: var(--fill-color);\n",
              "      border-right-color: var(--fill-color);\n",
              "    }\n",
              "    40% {\n",
              "      border-color: transparent;\n",
              "      border-right-color: var(--fill-color);\n",
              "      border-top-color: var(--fill-color);\n",
              "    }\n",
              "    60% {\n",
              "      border-color: transparent;\n",
              "      border-right-color: var(--fill-color);\n",
              "    }\n",
              "    80% {\n",
              "      border-color: transparent;\n",
              "      border-right-color: var(--fill-color);\n",
              "      border-bottom-color: var(--fill-color);\n",
              "    }\n",
              "    90% {\n",
              "      border-color: transparent;\n",
              "      border-bottom-color: var(--fill-color);\n",
              "    }\n",
              "  }\n",
              "</style>\n",
              "\n",
              "  <script>\n",
              "    async function quickchart(key) {\n",
              "      const quickchartButtonEl =\n",
              "        document.querySelector('#' + key + ' button');\n",
              "      quickchartButtonEl.disabled = true;  // To prevent multiple clicks.\n",
              "      quickchartButtonEl.classList.add('colab-df-spinner');\n",
              "      try {\n",
              "        const charts = await google.colab.kernel.invokeFunction(\n",
              "            'suggestCharts', [key], {});\n",
              "      } catch (error) {\n",
              "        console.error('Error during call to suggestCharts:', error);\n",
              "      }\n",
              "      quickchartButtonEl.classList.remove('colab-df-spinner');\n",
              "      quickchartButtonEl.classList.add('colab-df-quickchart-complete');\n",
              "    }\n",
              "    (() => {\n",
              "      let quickchartButtonEl =\n",
              "        document.querySelector('#df-3eb71bca-ee31-4dec-9b65-38ea2f50c8ac button');\n",
              "      quickchartButtonEl.style.display =\n",
              "        google.colab.kernel.accessAllowed ? 'block' : 'none';\n",
              "    })();\n",
              "  </script>\n",
              "</div>\n",
              "\n",
              "    </div>\n",
              "  </div>\n"
            ],
            "application/vnd.google.colaboratory.intrinsic+json": {
              "type": "dataframe",
              "variable_name": "df"
            }
          },
          "metadata": {},
          "execution_count": 8
        }
      ]
    },
    {
      "cell_type": "code",
      "source": [
        "#train vs validation vs test 6:3:1\n",
        "\n",
        "import math\n",
        "train_len=math.ceil(len(df)*0.9)\n",
        "\n",
        "train_df=df.iloc[:train_len,:]\n",
        "test_df=df.iloc[train_len:,:]"
      ],
      "metadata": {
        "id": "g6earXsSznEK"
      },
      "execution_count": null,
      "outputs": []
    },
    {
      "cell_type": "code",
      "source": [
        "ex=pd.DataFrame(list(range(1609,1776)),columns=['date'])\n",
        "\n",
        "window_size = 10\n",
        "forcast_size= 5\n",
        "batch_size = 32\n",
        "date = 'Date'\n",
        "\n",
        "for col in df.columns[1:]:\n",
        "\n",
        "  targets = col\n",
        "\n",
        "  train_df_fe, test_df_fe, mean_, std_ = standardization(train_df, test_df, 'Date', targets)\n",
        "  train_x, train_y, train_date = time_slide_df(train_df_fe, window_size, forcast_size, date, targets)\n",
        "  test_x, test_y, test_date = time_slide_df(test_df_fe, window_size, forcast_size, date, targets)\n",
        "\n",
        "  valid_len=math.ceil(len(train_x)*(2/3)) #train vs validation 6:3\n",
        "\n",
        "  train_ds = Data(train_x[:valid_len], train_y[:valid_len])\n",
        "  valid_ds = Data(train_x[valid_len:], train_y[valid_len:])\n",
        "  test_ds = Data(test_x, test_y)\n",
        "\n",
        "  train_dl = DataLoader(train_ds, batch_size = batch_size, shuffle=False,)\n",
        "  valid_dl = DataLoader(valid_ds, batch_size = train_x[valid_len:].shape[0], shuffle=False)\n",
        "  test_dl  = DataLoader(test_ds,  batch_size = test_x.shape[0], shuffle=False)\n",
        "\n",
        "  train_loss_list = []\n",
        "  valid_loss_list = []\n",
        "  test_loss_list = []\n",
        "  epoch = 30\n",
        "  lr = 0.001\n",
        "  DLinear_model = LTSF_DLinear(\n",
        "                              window_size=window_size,\n",
        "                              forcast_size=forcast_size,\n",
        "                              kernel_size=25,\n",
        "                              individual=False,\n",
        "                              feature_size=1,\n",
        "                              )\n",
        "  criterion = torch.nn.MSELoss()\n",
        "  optimizer = torch.optim.Adam(DLinear_model.parameters(), lr=lr)\n",
        "  max_loss = 999999999\n",
        "\n",
        "  for epoch in tqdm(range(1, epoch+1)):\n",
        "    loss_list = []\n",
        "    DLinear_model.train()\n",
        "    for batch_idx, (data, target) in enumerate(train_dl):\n",
        "        optimizer.zero_grad()\n",
        "        output = DLinear_model(data)\n",
        "        loss = criterion(output, target.unsqueeze(-1))\n",
        "        loss.backward()\n",
        "        optimizer.step()\n",
        "        loss_list.append(loss.item())\n",
        "    train_loss_list.append(np.mean(loss_list))\n",
        "\n",
        "    DLinear_model.eval()\n",
        "    with torch.no_grad():\n",
        "        for data, target in valid_dl:\n",
        "            output = DLinear_model(data)\n",
        "            valid_loss = criterion(output, target.unsqueeze(-1))\n",
        "            valid_loss_list.append(valid_loss)\n",
        "\n",
        "        for data, target in test_dl:\n",
        "            output = DLinear_model(data)\n",
        "            test_loss = criterion(output, target.unsqueeze(-1))\n",
        "            test_loss_list.append(test_loss)\n",
        "\n",
        "    if valid_loss < max_loss:\n",
        "        torch.save(DLinear_model, 'DLinear_model.pth')\n",
        "        max_loss = valid_loss\n",
        "        print(\"valid_loss={:.3f}, test_los{:.3f}, Model Save\".format(valid_loss, test_loss))\n",
        "        dlinear_best_epoch = epoch\n",
        "        dlinear_best_train_loss = np.mean(loss_list)\n",
        "        dlinear_best_valid_loss = np.mean(valid_loss.item())\n",
        "        dlinear_best_test_loss = np.mean(test_loss.item())\n",
        "\n",
        "    print(\"epoch = {}, train_loss : {:.3f}, valid_loss : {:.3f}, test_loss : {:.3f}\".format(epoch, np.mean(loss_list), valid_loss, test_loss))\n",
        "\n",
        "  final_output=output.reshape(-1,1)\n",
        "  final=pd.DataFrame(final_output, columns = [col])\n",
        "  ex=pd.concat([ex, final], axis=1)"
      ],
      "metadata": {
        "id": "NS2qChWRxLkA"
      },
      "execution_count": null,
      "outputs": []
    },
    {
      "cell_type": "markdown",
      "source": [
        "## 100개 기준 : 7분 44초<br/><br/>\n",
        "\n",
        "44번째 test loss nan <br/>\n",
        "why? 2023년 11월부터 상장한 에코프로머티 <br/>\n",
        "1692개가 없음 <br/>\n",
        "so? 앞에 상장 이후값부터 시작하는걸로? <br/>\n",
        "\n",
        "66번째 test loss 1000해 값 ?? <br/>\n",
        "LG생활건강<br/>\n",
        "수년간 하락해서 계속 하락할 거라고 취급해서인듯"
      ],
      "metadata": {
        "id": "iiyWriK_ca96"
      }
    },
    {
      "cell_type": "code",
      "source": [
        "ex.iloc[:,67]"
      ],
      "metadata": {
        "colab": {
          "base_uri": "https://localhost:8080/"
        },
        "id": "gnHYlhK1kCHb",
        "outputId": "ee26df3f-ba2e-41c8-ee3b-91a089ee6498"
      },
      "execution_count": null,
      "outputs": [
        {
          "output_type": "execute_result",
          "data": {
            "text/plain": [
              "0     -2.770916\n",
              "1     -2.764511\n",
              "2     -2.739809\n",
              "3     -2.697091\n",
              "4     -2.676990\n",
              "         ...   \n",
              "810   -3.775816\n",
              "811   -3.756870\n",
              "812   -3.727726\n",
              "813   -3.683972\n",
              "814   -3.654759\n",
              "Name: 051900, Length: 815, dtype: float32"
            ]
          },
          "metadata": {},
          "execution_count": 22
        }
      ]
    },
    {
      "cell_type": "code",
      "source": [
        "sns.lineplot(df.iloc[:1500,67])"
      ],
      "metadata": {
        "colab": {
          "base_uri": "https://localhost:8080/",
          "height": 448
        },
        "id": "YJm8GQ1UjhDO",
        "outputId": "9507bf84-d355-4c85-d4cc-88b6ffbf0e7d"
      },
      "execution_count": null,
      "outputs": [
        {
          "output_type": "execute_result",
          "data": {
            "text/plain": [
              "<Axes: ylabel='051900'>"
            ]
          },
          "metadata": {},
          "execution_count": 21
        },
        {
          "output_type": "display_data",
          "data": {
            "text/plain": [
              "<Figure size 640x480 with 1 Axes>"
            ],
            "image/png": "[encoded data removed]"
          },
          "metadata": {}
        }
      ]
    },
    {
      "cell_type": "code",
      "source": [
        "sns.lineplot(df.iloc[1500:,67])"
      ],
      "metadata": {
        "colab": {
          "base_uri": "https://localhost:8080/",
          "height": 448
        },
        "id": "OZI-E5JQgvc2",
        "outputId": "35771079-b823-4de2-cfa2-a534e5df3dbc"
      },
      "execution_count": null,
      "outputs": [
        {
          "output_type": "execute_result",
          "data": {
            "text/plain": [
              "<Axes: ylabel='051900'>"
            ]
          },
          "metadata": {},
          "execution_count": 20
        },
        {
          "output_type": "display_data",
          "data": {
            "text/plain": [
              "<Figure size 640x480 with 1 Axes>"
            ],
            "image/png": "[encoded data removed]"
          },
          "metadata": {}
        }
      ]
    }
  ]
}